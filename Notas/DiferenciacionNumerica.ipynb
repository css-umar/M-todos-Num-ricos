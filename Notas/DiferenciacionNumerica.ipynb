{
  "nbformat": 4,
  "nbformat_minor": 0,
  "metadata": {
    "colab": {
      "name": "DiferenciacionNumerica.ipynb",
      "provenance": [],
      "collapsed_sections": []
    },
    "kernelspec": {
      "name": "python3",
      "display_name": "Python 3"
    },
    "language_info": {
      "name": "python"
    }
  },
  "cells": [
    {
      "cell_type": "code",
      "metadata": {
        "id": "cWLBUCBUYmLl"
      },
      "source": [
        "import numpy as np\n",
        "import pandas as pd\n",
        "from sympy import *\n",
        "import matplotlib.pyplot as plt\n",
        "from scipy.misc import derivative\n",
        "from scipy.interpolate import lagrange\n"
      ],
      "execution_count": null,
      "outputs": []
    },
    {
      "cell_type": "markdown",
      "metadata": {
        "id": "KQzpK-QCYvjw"
      },
      "source": [
        "# Diferenciación numérica\n",
        "\n",
        "Cuando se practica una operación en una función tabulada $(x,f(x))$, se tiene que aproximar los datos por alguna función $(p_n(x))$ y efectuar la operación en la función $p_n(x)$.\n",
        "\n",
        "Entonces, para diferenciar una función tabulada $(x,f(x))$, se aproximará los datos a una función $p_n(x)$ y se diferenciará esta última.\n",
        "\n",
        "$$f(x) = p_n(x) + R_n(x)$$\n",
        "\n",
        "donde $R_n(x)$ es el error que se comente al aproximar.\n",
        "\n",
        "La aproximación a la primera derivada es\n",
        "\n",
        "$$\\dfrac{df(x)}{dx}\\approx \\dfrac{dp_n(x)}{dx}$$\n",
        "\n",
        "y para la $n-\\text{ésima}$ derivada\n",
        "\n",
        "$$\\begin{align*}\n",
        "\\dfrac{d^nf(x)}{dx^n}&\\approx \\dfrac{d^np_n(x)}{dx^n}\\\\\n",
        "&\\dfrac{d^np_n(x)}{dx^n}+\\dfrac{d^nR_n(x)}{dx^n}\n",
        "\\end{align*}$$\n",
        "\n",
        "Si el tamaño de paso $h$ es regular en todo el intervalo, entonces $p_n(x)$ puede escribirse en diferencias finitas:\n",
        "\n",
        "$$p_n(x) = f[x_0] + (x_x0)\\dfrac{\\Delta f[x_0]}{h} + (x-x_0)(x-x_1)\\dfrac{\\Delta^2 f[x_0]}{2!h^2} + \\ldots + (x-x_0)(x-x_1)\\ldots(x-x_{n-1})\\dfrac{\\Delta^n f[x_0]}{n!h^n}$$\n",
        "\n",
        "y la aproximación a la primera derivada es\n",
        "\n",
        "$$\\begin{align*}\n",
        "\\dfrac{df(x)}{dx}\\approx \\dfrac{dp_n(x)}{dx} &= \\dfrac{df[x_0]}{dx} + \\dfrac{d\\left[(x-x_0)\\dfrac{\\Delta f[x_0]}{h}\\right]}{dx} + \\dfrac{d\\left[(x-x_0)(x-x1)\\dfrac{\\Delta^2 f[x_0]}{2!h^2}\\right]}{dx}\\\\\n",
        "& +\\ldots+\\dfrac{d\\left[(x-x_0)(x-x_1)\\ldots(x-x_{n-1})\\dfrac{\\Delta^n f[x_0]}{n!h^n}\\right]}{dx}\n",
        "\\end{align*}$$\n",
        "\n",
        "Desarrollando los primeros términos\n",
        "\n",
        "$$\\begin{align*}\n",
        "\\dfrac{df(x)}{dx}\\approx \\dfrac{dp_n(x)}{dx} &= \\dfrac{\\Delta f[x_0]}{h} + (2x-x_0-x_1)\\dfrac{\\Delta^2 f[x_0]}{2!h^2} \\\\\n",
        "&+ \\left[3x^2-2(x_0+x_1+x_2)x + (x_0x_1+x_0x_2+x_1x_2)\\right]\\dfrac{\\Delta^3f[x_0]}{3!h^3} \n",
        "\\end{align*}$$\n",
        "\n",
        "Si $n=1$, la función tabulada se aproxima por un polinomio de grado uno:\n",
        "\n",
        "$$p_n(x)=p_1(x)=f[x_0]+(x-x_0)\\dfrac{\\Delta f[x_0]}{h}$$\n",
        "\n",
        "> Entonces, la primera derivada está dada por\n",
        "\n",
        "$$\\begin{align*}\n",
        "\\dfrac{df(x)}{dx}&\\approx \\dfrac{dp_1(x)}{dx} = \\dfrac{\\Delta f[x_0]}{h} = \\dfrac{f[x_1]-f[x_0]}{x_1-x_0} = f[x_0,x_1]\\\\\n",
        "&\\approx \\dfrac{f(x_1)-f(x_0)}{h}\n",
        "\\end{align*}$$\n",
        "\n",
        "La segunda derivada de $p_1(x)$ es\n",
        "\n",
        "$$\\dfrac{d^2f(x)}{dx^2}\\approx \\dfrac{d^2p_1(x)}{dx^2}=0$$\n",
        "\n",
        "\n"
      ]
    },
    {
      "cell_type": "markdown",
      "metadata": {
        "id": "jxxD5SaXjkeZ"
      },
      "source": [
        "Si $n=2$,  la función tabulada se aproxima por un polinomio de grado dos:\n",
        "\n",
        "$$\\dfrac{df(x)}{dx}\\approx \\dfrac{dp_2(x)}{dx}=\\dfrac{\\Delta f[x_0]}{h}+(2x-x_0-x_1)\\dfrac{\\Delta^2 f[x_0]}{2!h^2}$$\n",
        "\n",
        "Aplicando diferencias hacia adelante\n",
        "\n",
        "$$\\dfrac{df(x)}{dx}\\approx \\left(\\dfrac{2x-x_0-x_1-2h}{2h^2}\\right)f(x_0) + \\left(\\dfrac{2x_0-4x+2x_1+2h}{2h^2}\\right)f(x_1) + \\left(\\dfrac{2x-x_0-x_1}{2h^2}\\right)f(x_2)$$\n",
        "\n",
        "La segunda derivada se obtiene derivando una vez más con respecto a $x$\n",
        "\n",
        "$$\\begin{align*}\n",
        "\\dfrac{d^2f(x)}{dx^2}&\\approx \\dfrac{d^2p_2(x)}{dx^2} = \\dfrac{\\Delta^2 f[x_0]}{h^2} = 2f[x_0,x_1,x_2]\\\\\n",
        "&\\approx \\dfrac{1}{h^2}f(x_0)-\\dfrac{2}{h^2}f(x_1)+\\dfrac{1}{h^2}f(x_2)\n",
        "\\end{align*}$$\n"
      ]
    },
    {
      "cell_type": "markdown",
      "metadata": {
        "id": "ZBMWAtZGnMle"
      },
      "source": [
        "**Ejemplo**\n",
        "\n",
        "La ecuación de Van der Walls para gmol de $\\mathrm{CO_2}$ es:\n",
        "\n",
        "$$(P + \\frac{a}{v^2})(v - b) = R\\,T$$\n",
        "donde:\n",
        "\n",
        "$a = 3.6\\times 10^{-6}\\, \\mathrm{atm\\,cm^6/gmol^2}$\n",
        "\n",
        "$b = 42.8\\, \\mathrm{cm^3/gmol}$\n",
        "\n",
        "$R = 82.1\\, \\mathrm{atm\\,cm^3/ (gmol\\,K)}$\n",
        "\n",
        "Si $\\mathrm{T = 350\\,K}$, se obtiene la siguiente tabla de valores:\n",
        "\n",
        "|Puntos|\t0|\t1|\t2|\t3|\n",
        "|---   |---|---|---|---|\n",
        "|$\\mathrm{P(atm)}$|\t13.782|\t12.577|\t11.565|\t10.704|\n",
        "|$\\mathrm{v(cm^3)}$|\t2000|\t2200\t|2400\t|2600|\n",
        "\n",
        "Calcule $\\partial P/\\partial v$ cuando $v = \\mathrm{2300\\,cm^3}$ y compárelo con el valor de la derivada analítica."
      ]
    },
    {
      "cell_type": "code",
      "metadata": {
        "colab": {
          "base_uri": "https://localhost:8080/",
          "height": 265
        },
        "id": "99cD1cIiYqWD",
        "outputId": "262f24e3-1068-40b5-bc10-9385284ec458"
      },
      "source": [
        "x = np.array([2000, 2200, 2400, 2600])\n",
        "y = np.array([13.782, 12.577, 11.565, 10.704])\n",
        "plt.plot(x,y,\"ko\")\n",
        "plt.show()"
      ],
      "execution_count": null,
      "outputs": [
        {
          "output_type": "display_data",
          "data": {
            "image/png": "[encoded data removed]",
            "text/plain": [
              "<Figure size 432x288 with 1 Axes>"
            ]
          },
          "metadata": {
            "tags": [],
            "needs_background": "light"
          }
        }
      ]
    },
    {
      "cell_type": "markdown",
      "metadata": {
        "id": "rSCElbRkpZEW"
      },
      "source": [
        "Utilizando \n",
        "\n",
        "$$\\dfrac{df(x)}{dx}\\approx \\left(\\dfrac{2x-x_0-x_1-2h}{2h^2}\\right)f(x_0) + \\left(\\dfrac{2x_0-4x+2x_1+2h}{2h^2}\\right)f(x_1) + \\left(\\dfrac{2x-x_0-x_1}{2h^2}\\right)f(x_2)$$\n"
      ]
    },
    {
      "cell_type": "code",
      "metadata": {
        "id": "JTzE7YkpoqSb"
      },
      "source": [
        "h = 200\n",
        "def dpdv(v):\n",
        "  return ((2*v - x[0]-x[1]-2*h)/(2*h**2))*y[0] + ((2*x[0] - 4*v+2*x[1]+ 2*h)/(2*h**2))*y[1] + ((2*v - x[0]-x[1])/(2*h**2))*y[2]"
      ],
      "execution_count": null,
      "outputs": []
    },
    {
      "cell_type": "code",
      "metadata": {
        "colab": {
          "base_uri": "https://localhost:8080/"
        },
        "id": "Ub9EFnQlqhxN",
        "outputId": "26355f0b-a965-4966-e85a-f0a5d021eaa0"
      },
      "source": [
        "dpdv(2300)"
      ],
      "execution_count": null,
      "outputs": [
        {
          "output_type": "execute_result",
          "data": {
            "text/plain": [
              "-0.005059999999999995"
            ]
          },
          "metadata": {
            "tags": []
          },
          "execution_count": 4
        }
      ]
    },
    {
      "cell_type": "code",
      "metadata": {
        "colab": {
          "base_uri": "https://localhost:8080/"
        },
        "id": "iIogh6W9q4KD",
        "outputId": "16459ce2-1084-4130-8a1b-21891c428207"
      },
      "source": [
        "\"\"\"\n",
        "Vamos a utilizar SymPy para:\n",
        "1) crear la expresión\n",
        "2) encontrar la derivada analítica\n",
        "3) pasar un expresión símbolica a expresión evaluable numéricamente\n",
        "\"\"\"\n",
        "# Creamos las variables dependiente e independiente\n",
        "P, v = symbols(\"P v\")\n",
        "# Asignamos valor a las constantes\n",
        "a, b, R, T = 3.6e-6, 42.8, 82.1, 350\n",
        "# Creamos la expresión\n",
        "expr = (P + a/v**2)*(v - b) - R*T\n",
        "# Resolvemos para la presión P\n",
        "P = solve(expr,P)\n",
        "# Mostramos la ecuación obtenida para P\n",
        "print (P)"
      ],
      "execution_count": null,
      "outputs": [
        {
          "output_type": "stream",
          "text": [
            "[4.0e-7*(359187500000.0*v**2 - 45.0*v + 1926.0)/(v**2*(5.0*v - 214.0))]\n"
          ],
          "name": "stdout"
        }
      ]
    },
    {
      "cell_type": "code",
      "metadata": {
        "colab": {
          "base_uri": "https://localhost:8080/"
        },
        "id": "ouLSc4CWrovg",
        "outputId": "c4113f96-aae8-4a0d-f05f-97cccadb782c"
      },
      "source": [
        "# Para Calcular la derivada le debemos indicar que utilice el elemento cero de la lista\n",
        "dpdv = diff(P[0],v)\n",
        "print (dpdv)"
      ],
      "execution_count": null,
      "outputs": [
        {
          "output_type": "stream",
          "text": [
            "4.0e-7*(718375000000.0*v - 45.0)/(v**2*(5.0*v - 214.0)) - 4.36719364136606e-11*(359187500000.0*v**2 - 45.0*v + 1926.0)/(v**2*(0.0233644859813084*v - 1)**2) - 8.0e-7*(359187500000.0*v**2 - 45.0*v + 1926.0)/(v**3*(5.0*v - 214.0))\n"
          ],
          "name": "stdout"
        }
      ]
    },
    {
      "cell_type": "code",
      "metadata": {
        "colab": {
          "base_uri": "https://localhost:8080/",
          "height": 37
        },
        "id": "2hicP2OisCR2",
        "outputId": "9abf48bb-0e4b-4eec-b0cc-cd83a3b3375e"
      },
      "source": [
        "# Evaluamos la derivada en 2300; para ello usamos la función subs\n",
        "# donde v es la variable que se va sustituir con el valor de 2300.\n",
        "dpdv.subs(v,2300)"
      ],
      "execution_count": null,
      "outputs": [
        {
          "output_type": "execute_result",
          "data": {
            "text/latex": "$\\displaystyle -0.00563989629389647$",
            "text/plain": [
              "-0.00563989629389647"
            ]
          },
          "metadata": {
            "tags": []
          },
          "execution_count": 7
        }
      ]
    },
    {
      "cell_type": "markdown",
      "metadata": {
        "id": "O1J9z8L9kNwT"
      },
      "source": [
        "Aquí vamos a usar el método _derivative_ de la biblioteca scipy"
      ]
    },
    {
      "cell_type": "code",
      "metadata": {
        "id": "Ashtwy5JsGSH"
      },
      "source": [
        "# from scipy.misc import derivative\n",
        "\n",
        "# lambdify permite convertir una expresión SymPy a una equivalente de numpy o de scipy\n",
        "# para que sea evaluable numericamente.\n",
        "\n",
        "pv = lambdify(v,P[0],\"scipy\")"
      ],
      "execution_count": null,
      "outputs": []
    },
    {
      "cell_type": "code",
      "metadata": {
        "colab": {
          "base_uri": "https://localhost:8080/"
        },
        "id": "cmDZEhTnh6yT",
        "outputId": "101f7f60-7547-47f7-81ba-b00c0d5b395f"
      },
      "source": [
        "derivative(pv,2300,dx=1)"
      ],
      "execution_count": null,
      "outputs": [
        {
          "output_type": "execute_result",
          "data": {
            "text/plain": [
              "-0.005639897400853577"
            ]
          },
          "metadata": {
            "tags": []
          },
          "execution_count": 9
        }
      ]
    },
    {
      "cell_type": "markdown",
      "metadata": {
        "id": "pA6sJ_sOlvDg"
      },
      "source": [
        "**Ejemplo**\n",
        "\n",
        "\n",
        "En una reacción química $\\mathrm{A + B}\\xrightarrow{k} \\mathrm{productos}$, la concentración del reactante A es una función de la presión $\\mathrm{(P)}$ y la temperatura $\\mathrm{(T)}$. La siguiente tabla presenta la concentración de $\\mathrm{A}$ en $\\mathrm{gmol/L}$ como función de estas dos varibales.\n",
        "\n",
        "|$\\mathrm{P(kg/cm^2)}$|\t273 K|\t300 K|\t325 K|\t360 K|\n",
        "|---|---|---|---|---|\n",
        "|1\t|0.99|\t0.97|\t0.96|\t0.93|\n",
        "|2\t|0.88|\t0.82|\t0.79|\t0.77|\n",
        "|8\t|0.62|\t0.51|\t0.48|\t0.45|\n",
        "|15\t|0.56|\t0.49|\t0.46|\t0.42|\n",
        "|20\t|0.582|\t0.44|\t0.41|\t0.37|\n",
        "\n",
        "Calcule la variación de la concentración de $\\mathrm{A}$ con la temperatura $(\\dfrac{\\partial C_A}{\\partial T})$ a $\\mathrm{P = 8\\,kg/cm^2}$ y $\\mathrm{T = 300\\,K}$."
      ]
    },
    {
      "cell_type": "markdown",
      "metadata": {
        "id": "ORype7PGoMOX"
      },
      "source": [
        "Vamos a usar: \n",
        "\n",
        "$$\\dfrac{dp_n(x)}{dx} = \\sum_{i=0}^n\\dfrac{f(x_i)}{\\prod_{j=0\\\\j\\neq i}^n(x_i-x_j)}\\sum_{k=0\\\\k\\neq i}^n \\prod_{j\\neq k,i}^n (x-x_j)$$\n",
        "\n",
        "Para cuando $n=2$\n",
        "\n",
        "$$\\dfrac{dp_2(x)}{dx} = \\dfrac{(2x-x_1-x_2)f(x_0)}{(x_0-x_1)(x_0-x_2)} +  \\dfrac{(2x-x_0-x_2)f(x_1)}{(x_1-x_0)(x_1-x_2)} +  \\dfrac{(2x-x_0-x_1)f(x_2)}{(x_2-x_0)(x_2-x_1)}$$"
      ]
    },
    {
      "cell_type": "code",
      "metadata": {
        "id": "P1nhqrF6nVAG",
        "colab": {
          "base_uri": "https://localhost:8080/",
          "height": 265
        },
        "outputId": "5f69f596-52cc-4a41-ef01-c91f2bd03121"
      },
      "source": [
        "x = np.array([273,300,325, 360])\n",
        "y = np.array([0.62, 0.51, 0.48, 0.45])\n",
        "plt.scatter(x,y, color = \"black\")\n",
        "plt.show()"
      ],
      "execution_count": null,
      "outputs": [
        {
          "output_type": "display_data",
          "data": {
            "image/png": "[encoded data removed]",
            "text/plain": [
              "<Figure size 432x288 with 1 Axes>"
            ]
          },
          "metadata": {
            "tags": [],
            "needs_background": "light"
          }
        }
      ]
    },
    {
      "cell_type": "code",
      "metadata": {
        "id": "lLxJkEzJRDHz"
      },
      "source": [
        "def dCAdT(T,x,y):\n",
        "  Ter1 = ((2*T-x[1]-x[2])*y[0])/ ((x[0]-x[1])*(x[0]-x[2]))\n",
        "  Ter2 = ((2*T-x[0]-x[2])*y[1])/ ((x[1]-x[0])*(x[1]-x[2]))\n",
        "  Ter3 = ((2*T-x[0]-x[1])*y[2])/ ((x[2]-x[0])*(x[2]-x[1]))\n",
        "  return Ter1 + Ter2 + Ter3"
      ],
      "execution_count": null,
      "outputs": []
    },
    {
      "cell_type": "code",
      "metadata": {
        "colab": {
          "base_uri": "https://localhost:8080/"
        },
        "id": "_oQvtnJjo2I7",
        "outputId": "642747fe-fade-491f-a39e-88a46dda7716"
      },
      "source": [
        "dCAdT(300,x,y)"
      ],
      "execution_count": null,
      "outputs": [
        {
          "output_type": "execute_result",
          "data": {
            "text/plain": [
              "-0.0025817663817663816"
            ]
          },
          "metadata": {
            "tags": []
          },
          "execution_count": 12
        }
      ]
    },
    {
      "cell_type": "markdown",
      "metadata": {
        "id": "OrcrZMxVmuFq"
      },
      "source": [
        "Para este ejemplo vamos a utilizar el método  [_gradient_](https://numpy.org/doc/stable/reference/generated/numpy.gradient.html) de la biblioteca numpy. Este método permite calcular el gradiente de un arreglo N dimensional que contiene muestras de una función escalar."
      ]
    },
    {
      "cell_type": "code",
      "metadata": {
        "colab": {
          "base_uri": "https://localhost:8080/"
        },
        "id": "VTbbvVRzh9Im",
        "outputId": "df70f652-6fc3-4506-e240-8eb70a7096a0"
      },
      "source": [
        "# Creamos un arreglo C_A con los datos de la variable dependiente\n",
        "C_A = np.array([0.62, 0.51, 0.48, 0.45])\n",
        "# Creamos un arreglo T con los datos de la variable independiente\n",
        "T = np.array([273, 300, 325, 360])\n",
        "\n",
        "# Enviamos los arreglos al método gradient\n",
        "VarC_A = np.gradient(C_A,T)\n",
        "\n",
        "print (VarC_A)"
      ],
      "execution_count": null,
      "outputs": [
        {
          "output_type": "stream",
          "text": [
            "[-0.00407407 -0.00258177 -0.00105714 -0.00085714]\n"
          ],
          "name": "stdout"
        }
      ]
    },
    {
      "cell_type": "code",
      "metadata": {
        "colab": {
          "base_uri": "https://localhost:8080/"
        },
        "id": "Jmr_mY0imnIl",
        "outputId": "92a98d81-ec99-4fdb-d5fb-5f50f041bedf"
      },
      "source": [
        "\"\"\"\n",
        "La variación de la concentración a T = 300 y P = 8 es el primer elemento\n",
        "del arreglo que regresa el método gradient\n",
        "\"\"\"\n",
        "\n",
        "print (VarC_A[1])"
      ],
      "execution_count": null,
      "outputs": [
        {
          "output_type": "stream",
          "text": [
            "-0.0025817663817663816\n"
          ],
          "name": "stdout"
        }
      ]
    },
    {
      "cell_type": "markdown",
      "metadata": {
        "id": "OFCSg2ReroNm"
      },
      "source": [
        "**Ejemplo**\n",
        "\n",
        "Obtenga la primera y segunda derivadas evaluadas en $x = 1$ para la siguiente función tabulada.\n",
        "\n",
        "|Puntos|\t0|\t1|\t2|\t3|\t4|\n",
        "|---|---|---|---|---|---|\n",
        "|$x$|\t-1|\t0\t|2\t|5\t|10 |\n",
        "|$f(x)$|\t11|\t3|\t23|\t143|\t583|"
      ]
    },
    {
      "cell_type": "code",
      "metadata": {
        "colab": {
          "base_uri": "https://localhost:8080/",
          "height": 265
        },
        "id": "IvXV_C4RtPji",
        "outputId": "9b276d67-464c-4072-b83f-7e17bb917876"
      },
      "source": [
        "x = np.array([-1,0, 2, 5, 10]) \n",
        "y = np.array([11,3, 23, 143, 583])\n",
        "plt.scatter(x,y,color=\"black\",marker=\"o\")\n",
        "plt.show()"
      ],
      "execution_count": null,
      "outputs": [
        {
          "output_type": "display_data",
          "data": {
            "image/png": "[encoded data removed]",
            "text/plain": [
              "<Figure size 432x288 with 1 Axes>"
            ]
          },
          "metadata": {
            "tags": [],
            "needs_background": "light"
          }
        }
      ]
    },
    {
      "cell_type": "markdown",
      "metadata": {
        "id": "mj3C-BztvbX5"
      },
      "source": [
        "### Usando diferencias divididas"
      ]
    },
    {
      "cell_type": "code",
      "metadata": {
        "id": "lK0XUxiEnV6q"
      },
      "source": [
        "def dif_div(x, y):\n",
        "    '''\n",
        "    Calcula la tabla de diferencias divididas\n",
        "    '''\n",
        "    n = len(y)\n",
        "    coef = np.zeros([n, n])\n",
        "    # La primer columna es y\n",
        "    coef[:,0] = y    \n",
        "    for j in range(1,n):\n",
        "        for i in range(n-j):\n",
        "            coef[i][j] = (coef[i+1][j-1] - coef[i][j-1]) / (x[i+j]-x[i])\n",
        "            \n",
        "    return coef"
      ],
      "execution_count": null,
      "outputs": []
    },
    {
      "cell_type": "code",
      "metadata": {
        "colab": {
          "base_uri": "https://localhost:8080/"
        },
        "id": "jft-Z2lAs-_S",
        "outputId": "2b00e091-4995-411b-e3a6-2e4ad73e80cd"
      },
      "source": [
        "dif_div(x,y)"
      ],
      "execution_count": null,
      "outputs": [
        {
          "output_type": "execute_result",
          "data": {
            "text/plain": [
              "array([[ 11.,  -8.,   6.,   0.,   0.],\n",
              "       [  3.,  10.,   6.,   0.,   0.],\n",
              "       [ 23.,  40.,   6.,   0.,   0.],\n",
              "       [143.,  88.,   0.,   0.,   0.],\n",
              "       [583.,   0.,   0.,   0.,   0.]])"
            ]
          },
          "metadata": {
            "tags": []
          },
          "execution_count": 17
        }
      ]
    },
    {
      "cell_type": "code",
      "metadata": {
        "id": "f35vsbR3uHh-"
      },
      "source": [
        "df_DD = pd.DataFrame(data=dif_div(x,y), columns=[\"f(x)\", \"1ra\",\"2da\",\"3ra\",\"4ta\"])"
      ],
      "execution_count": null,
      "outputs": []
    },
    {
      "cell_type": "code",
      "metadata": {
        "colab": {
          "base_uri": "https://localhost:8080/",
          "height": 204
        },
        "id": "Y0vTxeaau80r",
        "outputId": "1250d2d8-1f8d-457e-9e2e-30e8a4b65f13"
      },
      "source": [
        "df_DD"
      ],
      "execution_count": null,
      "outputs": [
        {
          "output_type": "execute_result",
          "data": {
            "text/html": [
              "<div>\n",
              "<style scoped>\n",
              "    .dataframe tbody tr th:only-of-type {\n",
              "        vertical-align: middle;\n",
              "    }\n",
              "\n",
              "    .dataframe tbody tr th {\n",
              "        vertical-align: top;\n",
              "    }\n",
              "\n",
              "    .dataframe thead th {\n",
              "        text-align: right;\n",
              "    }\n",
              "</style>\n",
              "<table border=\"1\" class=\"dataframe\">\n",
              "  <thead>\n",
              "    <tr style=\"text-align: right;\">\n",
              "      <th></th>\n",
              "      <th>f(x)</th>\n",
              "      <th>1ra</th>\n",
              "      <th>2da</th>\n",
              "      <th>3ra</th>\n",
              "      <th>4ta</th>\n",
              "    </tr>\n",
              "  </thead>\n",
              "  <tbody>\n",
              "    <tr>\n",
              "      <th>0</th>\n",
              "      <td>11.0</td>\n",
              "      <td>-8.0</td>\n",
              "      <td>6.0</td>\n",
              "      <td>0.0</td>\n",
              "      <td>0.0</td>\n",
              "    </tr>\n",
              "    <tr>\n",
              "      <th>1</th>\n",
              "      <td>3.0</td>\n",
              "      <td>10.0</td>\n",
              "      <td>6.0</td>\n",
              "      <td>0.0</td>\n",
              "      <td>0.0</td>\n",
              "    </tr>\n",
              "    <tr>\n",
              "      <th>2</th>\n",
              "      <td>23.0</td>\n",
              "      <td>40.0</td>\n",
              "      <td>6.0</td>\n",
              "      <td>0.0</td>\n",
              "      <td>0.0</td>\n",
              "    </tr>\n",
              "    <tr>\n",
              "      <th>3</th>\n",
              "      <td>143.0</td>\n",
              "      <td>88.0</td>\n",
              "      <td>0.0</td>\n",
              "      <td>0.0</td>\n",
              "      <td>0.0</td>\n",
              "    </tr>\n",
              "    <tr>\n",
              "      <th>4</th>\n",
              "      <td>583.0</td>\n",
              "      <td>0.0</td>\n",
              "      <td>0.0</td>\n",
              "      <td>0.0</td>\n",
              "      <td>0.0</td>\n",
              "    </tr>\n",
              "  </tbody>\n",
              "</table>\n",
              "</div>"
            ],
            "text/plain": [
              "    f(x)   1ra  2da  3ra  4ta\n",
              "0   11.0  -8.0  6.0  0.0  0.0\n",
              "1    3.0  10.0  6.0  0.0  0.0\n",
              "2   23.0  40.0  6.0  0.0  0.0\n",
              "3  143.0  88.0  0.0  0.0  0.0\n",
              "4  583.0   0.0  0.0  0.0  0.0"
            ]
          },
          "metadata": {
            "tags": []
          },
          "execution_count": 19
        }
      ]
    },
    {
      "cell_type": "markdown",
      "metadata": {
        "id": "XEGaR2Q9vlxj"
      },
      "source": [
        "El polinomio de Newton de segundo grado en diferencias divididas es\n",
        "\n",
        "$$p_2(x)=f[x_0] + (x-x_0)f[x_0,x_1]+(x-x_0)(x-x_1)f[x_0,x_1,x_2]$$\n",
        "\n",
        "Su primera derivada de $p_2(x)$ es\n",
        "\n",
        "$$\\dfrac{dp_2(x)}{dx}=f[x_0,x_1] + (2x-x_0-x_1)f[x_0,x_1,x_2]$$\n",
        "\n",
        "> Evaluando $\\dfrac{dp_2(x)}{dx}|_{x=1}$\n",
        "\n",
        "$$\\dfrac{dp_2(1)}{dx} = -8 + (2(1)-(-1)-0)(6) = 10 $$\n",
        "\n",
        "La segunda derivada de $p_2(x)$ es\n",
        "\n",
        "$$\\dfrac{d^2p_2(x)}{dx} = 2f[x_0,x_1,x_2]$$\n",
        "\n",
        "> Evaluando $\\dfrac{dp^2_2(x)}{dx^2}|_{x=1}$\n",
        "\n",
        "$$\\dfrac{dp^2_2(1)}{dx^2} =2(6)=12 $$\n"
      ]
    },
    {
      "cell_type": "markdown",
      "metadata": {
        "id": "2nGkRP2wyGF8"
      },
      "source": [
        "### Usando aproximación polinomial"
      ]
    },
    {
      "cell_type": "code",
      "metadata": {
        "colab": {
          "base_uri": "https://localhost:8080/"
        },
        "id": "3XQC8s91vFAq",
        "outputId": "adff8eb0-eed2-4806-bf0e-86bdc137c2ae"
      },
      "source": [
        "# El polinomio resultante se almacenará en la varible pol\n",
        "pol = lagrange(x,y)    # Enviamos los datos de x y fx al método lagrange\n",
        "print(pol)"
      ],
      "execution_count": null,
      "outputs": [
        {
          "output_type": "stream",
          "text": [
            "           4            3     2\n",
            "2.776e-17 x + 2.22e-16 x + 6 x - 2 x + 3\n"
          ],
          "name": "stdout"
        }
      ]
    },
    {
      "cell_type": "code",
      "metadata": {
        "colab": {
          "base_uri": "https://localhost:8080/",
          "height": 265
        },
        "id": "YlfJlJPZzO6d",
        "outputId": "01a540f3-e714-48cb-807e-887fdb9d03a1"
      },
      "source": [
        "x = np.array([-1,0, 2, 5, 10]) \n",
        "y = np.array([11,3, 23, 143, 583])\n",
        "plt.scatter(x,y,color=\"blue\",marker=\"o\")\n",
        "plt.plot(x,pol(x),color=\"black\", linestyle = \"solid\")\n",
        "plt.show()"
      ],
      "execution_count": null,
      "outputs": [
        {
          "output_type": "display_data",
          "data": {
            "image/png": "[encoded data removed]",
            "text/plain": [
              "<Figure size 432x288 with 1 Axes>"
            ]
          },
          "metadata": {
            "tags": [],
            "needs_background": "light"
          }
        }
      ]
    },
    {
      "cell_type": "code",
      "metadata": {
        "colab": {
          "base_uri": "https://localhost:8080/"
        },
        "id": "Fu8M7hJ9y11L",
        "outputId": "b9af89e1-5343-4d80-dd61-3ff4f4db238e"
      },
      "source": [
        "\"\"\"\n",
        "Calculamos la derivada del polinomio de lagrange usando el método\n",
        "derivative, y lo evaluyamos en x = 1\n",
        "\"\"\"\n",
        "derivative(pol,1, n=1)"
      ],
      "execution_count": null,
      "outputs": [
        {
          "output_type": "execute_result",
          "data": {
            "text/plain": [
              "10.000000000000004"
            ]
          },
          "metadata": {
            "tags": []
          },
          "execution_count": 22
        }
      ]
    },
    {
      "cell_type": "code",
      "metadata": {
        "colab": {
          "base_uri": "https://localhost:8080/"
        },
        "id": "-T79gHTpzEeY",
        "outputId": "e6243d9a-19d0-433a-d437-ffe4d1fb6544"
      },
      "source": [
        "\"\"\"\n",
        "Calculamos la segunda derivada del polinomio de lagrange usando el método\n",
        "derivative, y lo evaluyamos en x = 1\n",
        "\"\"\"\n",
        "derivative(pol,1, n=2)"
      ],
      "execution_count": null,
      "outputs": [
        {
          "output_type": "execute_result",
          "data": {
            "text/plain": [
              "12.000000000000005"
            ]
          },
          "metadata": {
            "tags": []
          },
          "execution_count": 23
        }
      ]
    },
    {
      "cell_type": "code",
      "metadata": {
        "id": "gJSz30BczIJw"
      },
      "source": [
        ""
      ],
      "execution_count": null,
      "outputs": []
    }
  ]
}