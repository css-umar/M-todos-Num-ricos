{
  "nbformat": 4,
  "nbformat_minor": 0,
  "metadata": {
    "colab": {
      "name": "SistemasNolineales.ipynb",
      "provenance": [],
      "collapsed_sections": []
    },
    "kernelspec": {
      "name": "python3",
      "display_name": "Python 3"
    },
    "language_info": {
      "name": "python"
    }
  },
  "cells": [
    {
      "cell_type": "markdown",
      "metadata": {
        "id": "u1R9675f-7S7"
      },
      "source": [
        "# Método del punto fijo\n"
      ]
    },
    {
      "cell_type": "code",
      "metadata": {
        "id": "RdfRSUED-2Uu"
      },
      "source": [
        "# Funciones\n",
        "def f1(x,y):\n",
        "  return x**2 - 10*x + y**2 + 8.0\n",
        "\n",
        "def f2(x,y):\n",
        "  return x*y**2 + x -10*y + 8.0\n",
        "\n",
        "def g1(x,y):\n",
        "  return (x**2 + y**2 + 8)/10.0\n",
        "\n",
        "def g2(x,y):\n",
        "  return (x*y**2 + x + 8 )/10.0\n",
        "\n"
      ],
      "execution_count": null,
      "outputs": []
    },
    {
      "cell_type": "code",
      "metadata": {
        "id": "nRudcKmD_xK1"
      },
      "source": [
        "# Valores iniciales\n",
        "x0 = 0.0\n",
        "y0 = 0.0\n",
        "\n",
        "# Criterio de convergencia\n",
        "EPSILON = 0.0001"
      ],
      "execution_count": null,
      "outputs": []
    },
    {
      "cell_type": "markdown",
      "metadata": {
        "id": "jLtl5zpj_-lS"
      },
      "source": [
        "## Primera iteración"
      ]
    },
    {
      "cell_type": "code",
      "metadata": {
        "colab": {
          "base_uri": "https://localhost:8080/"
        },
        "id": "-xHipkPA_3KR",
        "outputId": "a8083b53-2e47-4ed2-a5de-db2509aa2269"
      },
      "source": [
        "x1, y1 = g1(x0,y0), g2(x0,y0)\n",
        "print(x1,y1)"
      ],
      "execution_count": null,
      "outputs": [
        {
          "output_type": "stream",
          "text": [
            "0.8 0.8\n"
          ],
          "name": "stdout"
        }
      ]
    },
    {
      "cell_type": "code",
      "metadata": {
        "colab": {
          "base_uri": "https://localhost:8080/"
        },
        "id": "qaHnJbVhAivo",
        "outputId": "8e8d7e42-a6a2-4a1c-e8a2-a439a0a8f932"
      },
      "source": [
        "d = ((x1-x0)**2 + (y1-y0)**2)**(1/2)\n",
        "print(d)"
      ],
      "execution_count": null,
      "outputs": [
        {
          "output_type": "stream",
          "text": [
            "1.1313708498984762\n"
          ],
          "name": "stdout"
        }
      ]
    },
    {
      "cell_type": "code",
      "metadata": {
        "colab": {
          "base_uri": "https://localhost:8080/"
        },
        "id": "t-Tgz3YyBgDU",
        "outputId": "199cb2c9-9f5e-4628-9e5e-2989b9b420e6"
      },
      "source": [
        "d <= EPSILON"
      ],
      "execution_count": null,
      "outputs": [
        {
          "output_type": "execute_result",
          "data": {
            "text/plain": [
              "False"
            ]
          },
          "metadata": {
            "tags": []
          },
          "execution_count": 5
        }
      ]
    },
    {
      "cell_type": "code",
      "metadata": {
        "id": "To3MnxU7Bt6D"
      },
      "source": [
        "x0, y0 = x1, y1"
      ],
      "execution_count": null,
      "outputs": []
    },
    {
      "cell_type": "markdown",
      "metadata": {
        "id": "LnzALICwB7Y-"
      },
      "source": [
        "## Segunda iteración\n"
      ]
    },
    {
      "cell_type": "code",
      "metadata": {
        "colab": {
          "base_uri": "https://localhost:8080/"
        },
        "id": "fwtRklkpB6AE",
        "outputId": "8f1c6396-1e3f-4d3d-b302-d677a0d66e01"
      },
      "source": [
        "x1, y1 = g1(x0,y0), g2(x0,y0)\n",
        "print(x1,y1)"
      ],
      "execution_count": null,
      "outputs": [
        {
          "output_type": "stream",
          "text": [
            "0.9280000000000002 0.9312000000000001\n"
          ],
          "name": "stdout"
        }
      ]
    },
    {
      "cell_type": "code",
      "metadata": {
        "colab": {
          "base_uri": "https://localhost:8080/"
        },
        "id": "Sas4OwSBCC_a",
        "outputId": "d587c9c7-34ba-4fe1-c0de-f1aca0dfe953"
      },
      "source": [
        "d = ((x1-x0)**2 + (y1-y0)**2)**(1/2)\n",
        "print(d)"
      ],
      "execution_count": null,
      "outputs": [
        {
          "output_type": "stream",
          "text": [
            "0.18329604469273214\n"
          ],
          "name": "stdout"
        }
      ]
    },
    {
      "cell_type": "code",
      "metadata": {
        "colab": {
          "base_uri": "https://localhost:8080/"
        },
        "id": "xKQfIXRoCFwZ",
        "outputId": "1777090c-11c7-4940-cd10-38bdb280d5d0"
      },
      "source": [
        "d <= EPSILON"
      ],
      "execution_count": null,
      "outputs": [
        {
          "output_type": "execute_result",
          "data": {
            "text/plain": [
              "False"
            ]
          },
          "metadata": {
            "tags": []
          },
          "execution_count": 9
        }
      ]
    },
    {
      "cell_type": "code",
      "metadata": {
        "id": "d_8Gl9YWCH8y"
      },
      "source": [
        "x0, y0 = x1, y1"
      ],
      "execution_count": null,
      "outputs": []
    },
    {
      "cell_type": "markdown",
      "metadata": {
        "id": "9KTDjHv3CLUS"
      },
      "source": [
        "## Tercera iteración"
      ]
    },
    {
      "cell_type": "code",
      "metadata": {
        "colab": {
          "base_uri": "https://localhost:8080/"
        },
        "id": "7oMhWIxyCKXK",
        "outputId": "f6653f39-192f-45d3-b5c0-99fd4a820ab6"
      },
      "source": [
        "x1, y1 = g1(x0,y0), g2(x0,y0)\n",
        "print(x1,y1)"
      ],
      "execution_count": null,
      "outputs": [
        {
          "output_type": "stream",
          "text": [
            "0.9728317440000002 0.9732699832320002\n"
          ],
          "name": "stdout"
        }
      ]
    },
    {
      "cell_type": "code",
      "metadata": {
        "colab": {
          "base_uri": "https://localhost:8080/"
        },
        "id": "46OyhWb-CU6B",
        "outputId": "8b658274-73a1-44ce-f70a-d222498be40f"
      },
      "source": [
        "d = ((x1-x0)**2 + (y1-y0)**2)**(1/2)\n",
        "print(d)"
      ],
      "execution_count": null,
      "outputs": [
        {
          "output_type": "stream",
          "text": [
            "0.061479824001230705\n"
          ],
          "name": "stdout"
        }
      ]
    },
    {
      "cell_type": "code",
      "metadata": {
        "colab": {
          "base_uri": "https://localhost:8080/"
        },
        "id": "XuiTcqlmCdAp",
        "outputId": "f22874b7-1192-443d-f5d1-f1329d0fd1f0"
      },
      "source": [
        "d <= EPSILON"
      ],
      "execution_count": null,
      "outputs": [
        {
          "output_type": "execute_result",
          "data": {
            "text/plain": [
              "False"
            ]
          },
          "metadata": {
            "tags": []
          },
          "execution_count": 13
        }
      ]
    },
    {
      "cell_type": "code",
      "metadata": {
        "id": "suYR7PAUCjoR"
      },
      "source": [
        "x0, y0 = x1, y1"
      ],
      "execution_count": null,
      "outputs": []
    },
    {
      "cell_type": "markdown",
      "metadata": {
        "id": "UF2joPbKCm1f"
      },
      "source": [
        "## Cuarta iteración"
      ]
    },
    {
      "cell_type": "code",
      "metadata": {
        "colab": {
          "base_uri": "https://localhost:8080/"
        },
        "id": "a7nwSDyQCltR",
        "outputId": "4a680cdb-de76-4d68-dd93-43ae01e1c582"
      },
      "source": [
        "x1, y1 = g1(x0,y0), g2(x0,y0)\n",
        "print(x1,y1)"
      ],
      "execution_count": null,
      "outputs": [
        {
          "output_type": "stream",
          "text": [
            "0.98936560623945 0.9894350952586922\n"
          ],
          "name": "stdout"
        }
      ]
    },
    {
      "cell_type": "code",
      "metadata": {
        "colab": {
          "base_uri": "https://localhost:8080/"
        },
        "id": "Nm14acxOCsDo",
        "outputId": "1b14a6f3-6224-4055-9152-26f6a5e00115"
      },
      "source": [
        "d = ((x1-x0)**2 + (y1-y0)**2)**(1/2)\n",
        "print(d)"
      ],
      "execution_count": null,
      "outputs": [
        {
          "output_type": "stream",
          "text": [
            "0.023123136625220395\n"
          ],
          "name": "stdout"
        }
      ]
    },
    {
      "cell_type": "code",
      "metadata": {
        "colab": {
          "base_uri": "https://localhost:8080/"
        },
        "id": "Q5I2_1xiCuUh",
        "outputId": "1a7d8fa6-3a00-4c1d-9c4e-24bc8f2cee23"
      },
      "source": [
        "d <= EPSILON"
      ],
      "execution_count": null,
      "outputs": [
        {
          "output_type": "execute_result",
          "data": {
            "text/plain": [
              "False"
            ]
          },
          "metadata": {
            "tags": []
          },
          "execution_count": 17
        }
      ]
    },
    {
      "cell_type": "code",
      "metadata": {
        "id": "EbniZvFqCxMQ"
      },
      "source": [
        "x0, y0 = x1, y1"
      ],
      "execution_count": null,
      "outputs": []
    },
    {
      "cell_type": "markdown",
      "metadata": {
        "id": "gYn3zkP7juXn"
      },
      "source": [
        "## Código"
      ]
    },
    {
      "cell_type": "code",
      "metadata": {
        "id": "qTSliejOCz2Q",
        "colab": {
          "base_uri": "https://localhost:8080/"
        },
        "outputId": "fba6f979-254b-4e17-adfe-b22d01188463"
      },
      "source": [
        "del x0, y0, x1, y1, f1, f2, g1, g2\n",
        "# Datos requeridos\n",
        "# Valor inicial\n",
        "x0 = 0.0    \n",
        "y0 = 0.0\n",
        "\n",
        " # Criterio de convergencia\n",
        "EPSILON = 0.0001   \n",
        "\n",
        "MAXIT = 40    # Criterio de paro por sino se alcanza la convergencia\n",
        "\n",
        "# Funciones\n",
        "\n",
        "def f1(x,y):\n",
        "  return x**2 - 10*x + y**2 + 8.0\n",
        "\n",
        "def f2(x,y):\n",
        "  return x*y**2 + x -10*y + 8.0\n",
        "\n",
        "def g1(x,y):\n",
        "  return (x**2 + y**2 + 8)/10.0\n",
        "\n",
        "def g2(x,y):\n",
        "  return (x*y**2 + x + 8 )/10.0\n",
        "\n",
        "# Iteraciones\n",
        "\n",
        "for i in range(MAXIT):\n",
        "  x1, y1 = g1(x0,y0), g2(x0,y0)\n",
        "  d = ((x1-x0)**2 + (y1-y0))**(1/2)  \n",
        "  if d <= EPSILON:\n",
        "    print(\"--------------\")\n",
        "    print(\"Iteracion = \", i, \"\\nSolucion = \",x1, y1)\n",
        "    break\n",
        "  else:\n",
        "    x0 = x1\n",
        "    y0 = y1"
      ],
      "execution_count": null,
      "outputs": [
        {
          "output_type": "stream",
          "text": [
            "--------------\n",
            "Iteracion =  19 \n",
            "Solucion =  0.9999999954973143 0.9999999954973143\n"
          ],
          "name": "stdout"
        }
      ]
    },
    {
      "cell_type": "markdown",
      "metadata": {
        "id": "eop9V7-7rlnN"
      },
      "source": [
        "### Evalunando la solución\n",
        "\n",
        "$$\\begin{align*}\n",
        "f_1(0.9999)&=0.0\\\\\n",
        "f_2(0.9999)&=0.0\n",
        "\\end{align*}$$"
      ]
    },
    {
      "cell_type": "code",
      "metadata": {
        "colab": {
          "base_uri": "https://localhost:8080/"
        },
        "id": "tJmTtI9vrrLR",
        "outputId": "82504e14-d4c6-481b-9f1f-ac5a45c156f3"
      },
      "source": [
        "print(abs(f1(x1,y1)),abs(f2(x1,y1)))"
      ],
      "execution_count": null,
      "outputs": [
        {
          "output_type": "stream",
          "text": [
            "2.7016114678701797e-08 2.7016113790523377e-08\n"
          ],
          "name": "stdout"
        }
      ]
    },
    {
      "cell_type": "markdown",
      "metadata": {
        "id": "hDHZG_Nij2g-"
      },
      "source": [
        "# Método del punto fijo con desplazamientos sucesivos."
      ]
    },
    {
      "cell_type": "code",
      "metadata": {
        "id": "BKYSnSBIdY0r"
      },
      "source": [
        "del x0, y0, x1, y1, f1, f2, g1, g2"
      ],
      "execution_count": null,
      "outputs": []
    },
    {
      "cell_type": "code",
      "metadata": {
        "id": "RCo6ytpXkBxv"
      },
      "source": [
        "# Funciones\n",
        "def f1(x,y):\n",
        "  return x**2 - 10*x + y**2 + 8.0\n",
        "\n",
        "def f2(x,y):\n",
        "  return x*y**2 + x -10*y + 8.0\n",
        "\n",
        "def g1(x,y):\n",
        "  return (x**2 + y**2 + 8)/10.0\n",
        "\n",
        "def g2(x,y):\n",
        "  return (x*y**2 + x + 8 )/10.0"
      ],
      "execution_count": null,
      "outputs": []
    },
    {
      "cell_type": "code",
      "metadata": {
        "id": "a5UF6yZPkFqm"
      },
      "source": [
        "# Valores iniciales\n",
        "x0 = 0.0\n",
        "y0 = 0.0\n",
        "\n",
        "# Criterio de convergencia\n",
        "EPSILON = 0.0001"
      ],
      "execution_count": null,
      "outputs": []
    },
    {
      "cell_type": "markdown",
      "metadata": {
        "id": "XhkAvqidkLGa"
      },
      "source": [
        "## Primera iteración"
      ]
    },
    {
      "cell_type": "code",
      "metadata": {
        "colab": {
          "base_uri": "https://localhost:8080/"
        },
        "id": "503644KakJA1",
        "outputId": "e4c6b011-4abd-407c-dbc5-859415c60936"
      },
      "source": [
        "x1 = g1(x0,y0)\n",
        "y1 = g2(x1,y0)\n",
        "print(x1, y1)\n",
        "\n",
        "\"\"\"\n",
        "Por ejemplo, en el caso de tres ecuaciones, tres variables\n",
        "x0 = 0.0\n",
        "y0 = 0.0\n",
        "z0 = 0.0\n",
        "\n",
        "x1 = g1(x0, y0, z0)\n",
        "y1 = g2(x1, y0, z0)\n",
        "z1 = g3(x1, y1, z0)\n",
        "\"\"\""
      ],
      "execution_count": null,
      "outputs": [
        {
          "output_type": "stream",
          "text": [
            "0.8 0.8800000000000001\n"
          ],
          "name": "stdout"
        }
      ]
    },
    {
      "cell_type": "code",
      "metadata": {
        "colab": {
          "base_uri": "https://localhost:8080/"
        },
        "id": "DT-tTiVskfgV",
        "outputId": "dfd3f38b-fae8-40ec-f719-f9df7b9e4aa3"
      },
      "source": [
        "d = ((x1-x0)**2 + (y1-y0)**2)**(1/2)\n",
        "print(d)"
      ],
      "execution_count": null,
      "outputs": [
        {
          "output_type": "stream",
          "text": [
            "1.1892854997854805\n"
          ],
          "name": "stdout"
        }
      ]
    },
    {
      "cell_type": "code",
      "metadata": {
        "colab": {
          "base_uri": "https://localhost:8080/"
        },
        "id": "4zo_do0Dk7Es",
        "outputId": "8cb8fdf5-ab01-4dbf-ac5d-69b76cf32c75"
      },
      "source": [
        "d <= EPSILON"
      ],
      "execution_count": null,
      "outputs": [
        {
          "output_type": "execute_result",
          "data": {
            "text/plain": [
              "False"
            ]
          },
          "metadata": {
            "tags": []
          },
          "execution_count": 26
        }
      ]
    },
    {
      "cell_type": "code",
      "metadata": {
        "id": "6gD349e5k-hr"
      },
      "source": [
        "x0, y0 = x1, y1"
      ],
      "execution_count": null,
      "outputs": []
    },
    {
      "cell_type": "markdown",
      "metadata": {
        "id": "DyDCqKI7lJ7g"
      },
      "source": [
        "## Segunda iteración "
      ]
    },
    {
      "cell_type": "code",
      "metadata": {
        "colab": {
          "base_uri": "https://localhost:8080/"
        },
        "id": "e9T2Nmc3lBRb",
        "outputId": "bae8f4c0-48c5-4b06-caba-96b0af8ed11f"
      },
      "source": [
        "x1 = g1(x0,y0)\n",
        "y1 = g2(x1,y0)\n",
        "print(x1, y1)"
      ],
      "execution_count": null,
      "outputs": [
        {
          "output_type": "stream",
          "text": [
            "0.94144 0.9670491136000001\n"
          ],
          "name": "stdout"
        }
      ]
    },
    {
      "cell_type": "code",
      "metadata": {
        "colab": {
          "base_uri": "https://localhost:8080/"
        },
        "id": "UdLRNDm1lSmq",
        "outputId": "203234cd-edcd-486a-f0a7-ccfc149c6e2f"
      },
      "source": [
        "d = ((x1-x0)**2 + (y1-y0)**2)**(1/2)\n",
        "print(d)"
      ],
      "execution_count": null,
      "outputs": [
        {
          "output_type": "stream",
          "text": [
            "0.16608076884018122\n"
          ],
          "name": "stdout"
        }
      ]
    },
    {
      "cell_type": "code",
      "metadata": {
        "colab": {
          "base_uri": "https://localhost:8080/"
        },
        "id": "6r7fStUjlVOr",
        "outputId": "9e79b4fc-3d34-450d-dc05-d786a585cef9"
      },
      "source": [
        "d <= EPSILON"
      ],
      "execution_count": null,
      "outputs": [
        {
          "output_type": "execute_result",
          "data": {
            "text/plain": [
              "False"
            ]
          },
          "metadata": {
            "tags": []
          },
          "execution_count": 30
        }
      ]
    },
    {
      "cell_type": "code",
      "metadata": {
        "id": "vTaqaXS5lXKj"
      },
      "source": [
        "x0, y0 = x1, y1"
      ],
      "execution_count": null,
      "outputs": []
    },
    {
      "cell_type": "markdown",
      "metadata": {
        "id": "QiESHSDrlZ62"
      },
      "source": [
        "## Tercer iteración"
      ]
    },
    {
      "cell_type": "code",
      "metadata": {
        "colab": {
          "base_uri": "https://localhost:8080/"
        },
        "id": "u2pjXyYklYxz",
        "outputId": "e052336d-148f-47cd-842f-35659e0bd80d"
      },
      "source": [
        "x1 = g1(x0,y0)\n",
        "y1 = g2(x1,y0)\n",
        "print(x1, y1)"
      ],
      "execution_count": null,
      "outputs": [
        {
          "output_type": "stream",
          "text": [
            "0.9821493261714546 0.9900639649944489\n"
          ],
          "name": "stdout"
        }
      ]
    },
    {
      "cell_type": "code",
      "metadata": {
        "colab": {
          "base_uri": "https://localhost:8080/"
        },
        "id": "Y2bq0jE_lh2V",
        "outputId": "f5a4b17b-de71-4664-d126-45bafeb6ee74"
      },
      "source": [
        "d = ((x1-x0)**2 + (y1-y0)**2)**(1/2)\n",
        "print(d)"
      ],
      "execution_count": null,
      "outputs": [
        {
          "output_type": "stream",
          "text": [
            "0.04676465141581228\n"
          ],
          "name": "stdout"
        }
      ]
    },
    {
      "cell_type": "code",
      "metadata": {
        "colab": {
          "base_uri": "https://localhost:8080/"
        },
        "id": "4t9c4HZollmC",
        "outputId": "72556f95-cf89-431e-ef32-20666e851808"
      },
      "source": [
        "d <= EPSILON"
      ],
      "execution_count": null,
      "outputs": [
        {
          "output_type": "execute_result",
          "data": {
            "text/plain": [
              "False"
            ]
          },
          "metadata": {
            "tags": []
          },
          "execution_count": 34
        }
      ]
    },
    {
      "cell_type": "code",
      "metadata": {
        "id": "MPRrYZqwln6C"
      },
      "source": [
        "x0, y0 = x1, y1"
      ],
      "execution_count": null,
      "outputs": []
    },
    {
      "cell_type": "markdown",
      "metadata": {
        "id": "yjIEKjEilr5m"
      },
      "source": [
        "## Código"
      ]
    },
    {
      "cell_type": "code",
      "metadata": {
        "colab": {
          "base_uri": "https://localhost:8080/"
        },
        "id": "esc6Abxclp3C",
        "outputId": "1156ffc0-54c0-4dcb-bb0a-eaa4faa3185d"
      },
      "source": [
        "del x0, y0, x1, y1, f1, f2, g1, g2\n",
        "# Datos requeridos\n",
        "# Valor inicial\n",
        "x0 = 0.0    \n",
        "y0 = 0.0\n",
        "\n",
        " # Criterio de convergencia\n",
        "EPSILON = 0.0001   \n",
        "\n",
        "MAXIT = 40    # Criterio de paro por sino se alcanza la convergencia\n",
        "\n",
        "# Funciones\n",
        "\n",
        "def f1(x,y):\n",
        "  return x**2 - 10*x + y**2 + 8.0\n",
        "\n",
        "def f2(x,y):\n",
        "  return x*y**2 + x -10*y + 8.0\n",
        "\n",
        "def g1(x,y):\n",
        "  return (x**2 + y**2 + 8)/10.0\n",
        "\n",
        "def g2(x,y):\n",
        "  return (x*y**2 + x + 8 )/10.0\n",
        "\n",
        "# Iteraciones\n",
        "\n",
        "for i in range(MAXIT):\n",
        "  x1 = g1(x0,y0)\n",
        "  y1 = g2(x1,y0)\n",
        "  d = ((x1-x0)**2 + (y1-y0))**(1/2)  \n",
        "  if d <= EPSILON:\n",
        "    print(\"--------------\")\n",
        "    print(\"Iteracion = \", i, \"\\nSolucion = \",x1, y1)\n",
        "    break\n",
        "  else:\n",
        "    x0 = x1\n",
        "    y0 = y1"
      ],
      "execution_count": null,
      "outputs": [
        {
          "output_type": "stream",
          "text": [
            "--------------\n",
            "Iteracion =  15 \n",
            "Solucion =  0.9999999953962881 0.9999999974299436\n"
          ],
          "name": "stdout"
        }
      ]
    },
    {
      "cell_type": "markdown",
      "metadata": {
        "id": "iuN8VA_asA6H"
      },
      "source": [
        "### Evaluando la solución"
      ]
    },
    {
      "cell_type": "code",
      "metadata": {
        "colab": {
          "base_uri": "https://localhost:8080/"
        },
        "id": "4szIqfkgsHCr",
        "outputId": "94b898c9-37fd-4d5f-e3c1-4b74101987a1"
      },
      "source": [
        "print(abs(f1(x1,y1)),abs(f2(x1,y1)))"
      ],
      "execution_count": null,
      "outputs": [
        {
          "output_type": "stream",
          "text": [
            "3.168958251364984e-08 1.1353026962979129e-08\n"
          ],
          "name": "stdout"
        }
      ]
    },
    {
      "cell_type": "markdown",
      "metadata": {
        "id": "4KSaW0rMmGOk"
      },
      "source": [
        "## Gráfico del sistema "
      ]
    },
    {
      "cell_type": "code",
      "metadata": {
        "colab": {
          "base_uri": "https://localhost:8080/",
          "height": 466
        },
        "id": "2Ao3K61frO60",
        "outputId": "b0c01026-ac94-4fc8-9502-7eed13bf7319"
      },
      "source": [
        "import numpy as np\n",
        "from mpl_toolkits.mplot3d import Axes3D  \n",
        "import matplotlib.pyplot as plt\n",
        "\n",
        "\n",
        "def f1(x,y):\n",
        "  return x**2 - 10*x + y**2 + 8.0\n",
        "\n",
        "def f2(x,y):\n",
        "  return x*y**2 + x -10*y + 8.0\n",
        "\n",
        "fig = plt.figure(figsize=(12,8))\n",
        "ax = fig.add_subplot(111, projection='3d')\n",
        "x = np.arange(-1.5, 1.5, 0.05)\n",
        "y = np.arange(-1.5, 1.5, 0.05)\n",
        "X, Y = np.meshgrid(x, y)\n",
        "f1s = np.array(f1(np.ravel(X), np.ravel(Y)))\n",
        "F1s = f1s.reshape(X.shape)\n",
        "\n",
        "f2s = np.array(f2(np.ravel(X), np.ravel(Y)))\n",
        "F2s = f2s.reshape(X.shape)\n",
        "\n",
        "ax.plot_surface(X, Y, F1s)\n",
        "ax.plot_surface(X, Y, F2s)\n",
        "\n",
        "ax.set_xlabel(r'$X$')\n",
        "ax.set_ylabel(r'$Y$')\n",
        "ax.set_zlabel(r'$f1(x,y)\\,f2(x,y)$')\n",
        "\n",
        "\n",
        "plt.show()"
      ],
      "execution_count": null,
      "outputs": [
        {
          "output_type": "display_data",
          "data": {
            "image/png": "[encoded data removed]",
            "text/plain": [
              "<Figure size 864x576 with 1 Axes>"
            ]
          },
          "metadata": {
            "tags": [],
            "needs_background": "light"
          }
        }
      ]
    },
    {
      "cell_type": "markdown",
      "metadata": {
        "id": "oYGVGLNT6elC"
      },
      "source": [
        "# Usando la biblioteca _scipy_"
      ]
    },
    {
      "cell_type": "code",
      "metadata": {
        "colab": {
          "base_uri": "https://localhost:8080/"
        },
        "id": "60gyqxLXuDhT",
        "outputId": "da27f535-04b5-472d-d2ca-e6855240fe9f"
      },
      "source": [
        "from scipy import optimize\n",
        "\n",
        "def fun(x):\n",
        "  # x[0] = x, x[1] = y\n",
        "  return [x[0]**2 - 10*x[0] + x[1] + 8.0,\n",
        "          x[0]*x[1]**2 + x[0] - 10*x[1] + 8.0]\n",
        "\n",
        "sol = optimize.newton_krylov(fun,[0,0])\n",
        "print(sol)"
      ],
      "execution_count": null,
      "outputs": [
        {
          "output_type": "stream",
          "text": [
            "[1. 1.]\n"
          ],
          "name": "stdout"
        }
      ]
    },
    {
      "cell_type": "code",
      "metadata": {
        "id": "B-ZaAoOQ6XJU",
        "colab": {
          "base_uri": "https://localhost:8080/"
        },
        "outputId": "a5edfac6-ea75-4470-bb6c-9e5dcf91020f"
      },
      "source": [
        "sol[0]"
      ],
      "execution_count": null,
      "outputs": [
        {
          "output_type": "execute_result",
          "data": {
            "text/plain": [
              "0.9999999999968088"
            ]
          },
          "metadata": {
            "tags": []
          },
          "execution_count": 2
        }
      ]
    },
    {
      "cell_type": "code",
      "metadata": {
        "colab": {
          "base_uri": "https://localhost:8080/"
        },
        "id": "Tk2xA-l-NfFo",
        "outputId": "8836e1b2-15f0-412f-97ac-08de20317330"
      },
      "source": [
        "sol[1]"
      ],
      "execution_count": null,
      "outputs": [
        {
          "output_type": "execute_result",
          "data": {
            "text/plain": [
              "0.9999999999946675"
            ]
          },
          "metadata": {
            "tags": []
          },
          "execution_count": 3
        }
      ]
    },
    {
      "cell_type": "code",
      "metadata": {
        "id": "15Gou-43NjB2"
      },
      "source": [
        ""
      ],
      "execution_count": null,
      "outputs": []
    }
  ]
}