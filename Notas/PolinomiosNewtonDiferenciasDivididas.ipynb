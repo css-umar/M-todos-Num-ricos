{
  "nbformat": 4,
  "nbformat_minor": 0,
  "metadata": {
    "colab": {
      "name": "PolinomiosNewtonDiferenciasDivididas.ipynb",
      "provenance": [],
      "collapsed_sections": []
    },
    "kernelspec": {
      "name": "python3",
      "display_name": "Python 3"
    },
    "language_info": {
      "name": "python"
    }
  },
  "cells": [
    {
      "cell_type": "code",
      "metadata": {
        "id": "6KMtwXXIc5cS"
      },
      "source": [
        "import numpy as np\n",
        "import matplotlib.pyplot as plt"
      ],
      "execution_count": null,
      "outputs": []
    },
    {
      "cell_type": "markdown",
      "metadata": {
        "id": "yroYwu-I4wOJ"
      },
      "source": [
        "# Diferencias divididas\n",
        "La derivada en un punto $x_0$ de una función analítica $f(x)$ es\n",
        "\n",
        "$$f'(x)\\Bigg|_{x=x_0}=\\lim_{x\\rightarrow x_0}\\dfrac{f(x)-f(x_0)}{x-x_0}$$\n",
        "\n",
        "Cuando la función está en forma tabular\n",
        "\n",
        "<table class=\"egt\">\n",
        "  <tr><td>Puntos </td> <td>$0$</td><td>$1$</td><td>$2$</td><td>$3$</td><td>$\\ldots$</td><td>$n$</td></tr>\n",
        "  <tr><td>$x$</td><td>$x_0$</td><td>$x_1$</td><td>$x_2$</td><td>$x_3$</td><td>$\\ldots$</td><td>$x_n$</td></tr>\n",
        "  <tr><td>$f(x)$</td><td>$f(x_0)$</td><td>$f(x_1)$</td><td>$f(x_2)$</td><td>$f(x_3)$</td><td>$\\ldots$</td><td>$f(x_n)$</td></tr>\n",
        "</table>\n",
        "\n",
        "La derivada se puede aproximar en $x$, de la forma siguiente\n",
        "\n",
        "$$f'(x)\t\\approx \\dfrac{f(x_1)-f(x_0)}{x_1-x_0},\\, x_0 < x < x_1$$\n",
        "\n",
        "donde \n",
        "\n",
        "$$\\dfrac{f(x_1)-f(x_0)}{x_1-x_0}=f[x_0,x_1]$$\n",
        "\n",
        "se le conoce como la primera diferencia dividida de $f(x)$ respecto a los puntos $x_0$ y $x_1$.\n",
        "\n"
      ]
    },
    {
      "cell_type": "markdown",
      "metadata": {
        "id": "yXOfw2f98zQ9"
      },
      "source": [
        "<img src=\"https://drive.google.com/uc?id=1ByM3PIYM0YsHF4Xs06UnmXeV_1WQK-uS&export=download\" width=\"100%\">"
      ]
    },
    {
      "cell_type": "markdown",
      "metadata": {
        "id": "K1NQcLkQ9UVP"
      },
      "source": [
        "**Ejemplo**: Elaborar una tabla de diferencias divididas a partir de los siguientes datos tabulados obtenidos de un polinomio.\n",
        "\n",
        "|**Puntos**| $0$ | $1$ | $2$ | $3$ | $4$ | $5$ |\n",
        "|---       | --- | --- | --- | --- | --- | --- |\n",
        "|$x$       |$-2$ |$-1$ |$0$  |$2$  |$3$  |$6$  |\n",
        "|$f(x)$    |$-18$|$-5$ |$-2$ |$-2$ |$7$  |$142$|\n",
        "\n",
        "> **Primera diferencia divididas**\n",
        ">> **Puntos 0, 1 y 2**\n",
        "\n",
        "$$\\begin{align*}\n",
        "f[x_0,x_1] &= \\dfrac{-5-(-18)}{-1-(-2)} = 13\\\\\n",
        "f[x_1,x_2] &= \\dfrac{-2-(-5)}{0-(-1)} = 3\\\\\n",
        "\\end{align*}$$\n",
        "\n",
        "> **Segunda diferencia divididas**\n",
        ">> **Puntos 0, 1 y 2**\n",
        "\n",
        "$$f[x_0,x_1,x_2] = \\dfrac{3-13}{0-(-2)} = -5$$\n",
        "\n",
        "<img src=\"https://drive.google.com/uc?id=1eK291eC-SQoVGgCtEjaPfN4O8V7f6gBp&export=download\" width=\"80%\">"
      ]
    },
    {
      "cell_type": "code",
      "metadata": {
        "colab": {
          "base_uri": "https://localhost:8080/"
        },
        "id": "kWKx9fxOHMsC",
        "outputId": "9e6b7b7b-c1f4-4508-8fc4-c04ab1fb92ad"
      },
      "source": [
        "def dif_div(x, y):\n",
        "    '''\n",
        "    Calcula la tabla de diferencias divididas\n",
        "    '''\n",
        "    n = len(y)\n",
        "    coef = np.zeros([n, n])\n",
        "    # La primer columna es y\n",
        "    coef[:,0] = y\n",
        "    \n",
        "    for j in range(1,n):\n",
        "        for i in range(n-j):\n",
        "            coef[i][j] = (coef[i+1][j-1] - coef[i][j-1]) / (x[i+j]-x[i])\n",
        "            \n",
        "    return coef\n",
        "\n",
        "x = np.array([-2,-1, 0, 2, 3, 6]) \n",
        "fx = np.array([-18,-5, -2, -2, 7, 142]) \n",
        "\n",
        "dif_div(x,fx)\n"
      ],
      "execution_count": null,
      "outputs": [
        {
          "output_type": "execute_result",
          "data": {
            "text/plain": [
              "array([[-18.,  13.,  -5.,   1.,   0.,   0.],\n",
              "       [ -5.,   3.,  -1.,   1.,   0.,   0.],\n",
              "       [ -2.,   0.,   3.,   1.,   0.,   0.],\n",
              "       [ -2.,   9.,   9.,   0.,   0.,   0.],\n",
              "       [  7.,  45.,   0.,   0.,   0.,   0.],\n",
              "       [142.,   0.,   0.,   0.,   0.,   0.]])"
            ]
          },
          "metadata": {
            "tags": []
          },
          "execution_count": 2
        }
      ]
    },
    {
      "cell_type": "markdown",
      "metadata": {
        "id": "hpVUh8y4zIzO"
      },
      "source": [
        "# Polinomios de Newton \n",
        "\n",
        "Considere nuevamente que se tiene una función (datos tabulados) en forma tabular:\n",
        "\n",
        "<table class=\"egt\">\n",
        "  <tr><td>Puntos </td> <td>$0$</td><td>$1$</td><td>$2$</td><td>$3$</td><td>$\\ldots$</td><td>$n$</td></tr>\n",
        "  <tr><td>$x$</td><td>$x_0$</td><td>$x_1$</td><td>$x_2$</td><td>$x_3$</td><td>$\\ldots$</td><td>$x_n$</td></tr>\n",
        "  <tr><td>$f(x)$</td><td>$[x_0]$</td><td>$[x_1]$</td><td>$[x_2]$</td><td>$[x_3]$</td><td>$\\ldots$</td><td>$[x_n]$</td></tr>\n",
        "</table>\n",
        "\n",
        "\n",
        "y que se desea aproximar los datos a un polinomio $p(x)$ de primer grado que pasa por los puntos $0$ y $1$. Dicho polonomio se puede escribir de la forma:\n",
        "\n",
        "$$p(x) = a_0 + a_1\\,(x - x0)$$\n",
        "\n",
        "donde $x_0$ es la abscisa del punto $0$ y $a_0$ y $a_1$ son parámetros que se tienen que determinar.\n",
        "\n",
        "> Para encontrar $a_0$ se considera que $x = x_0$, por lo que:\n",
        "\n",
        "$$a_0 = p(x_0) = f[x_0]$$\n",
        "\n",
        "> Para encontrar $a_1$ se considera que $x = x_1$:\n",
        "\n",
        "$$a_1 = \\dfrac{f[x_1] - f[x_0]}{(x_1 - x_0)}$$\n",
        "\n",
        "> donde a $\\dfrac{f[x_1] - f[x_0]}{(x_1 - x_0)} = f[x_0,x_1]$  se le conoce como primera diferencia dividida, por lo que el polinomio de primer grado queda en términos de diferencias divididas.\n",
        "\n",
        "$$p(x) = f[x_0] + (x - x_0)\\,f[x_0,x_1]$$\n",
        "\n",
        "Ahora considere que por los puntos $0$, $1$ y $2$ pasa un _polinomio de segundo grado_ $p_2(x)$ de la forma:\n",
        "\n",
        "$$p_2(x) = a_0 + a_1\\,(x - x0) + a_2\\,(x - x_0)\\,(x - x_1)$$\n",
        "\n",
        "donde $x_0$ y $x_1$ son las abscisas de los puntos $0$ y $1$ y $a_0$, $a_1$ y $a_2$ son parámetros a determinar:\n",
        "\n",
        "> Para encontrar $a_0$ se considera que $x = x_0$, por lo que:\n",
        "\n",
        "$$a_0 = p_2(x_0) = f[x_0]$$\n",
        "\n",
        "> Para encontrar $a_1$ se considera que $x = x_1$, por lo que:\n",
        "\n",
        "$$a_1 =\\dfrac{f[x_1] - f[x_0]}{(x_1 - x_0)} = f[x_0,x_1]$$\n",
        "\n",
        "> Para encontrar $a_2$ se considera que $x = x_2$, por lo que:\n",
        "\n",
        "$$a_2 =\\dfrac{\\dfrac{f[x_2] - f[x_1]}{(x_2 - x_1)} - \\dfrac{f[x_1] - f[x_0]}{(x_1 - x_0)}}{x_2 - x_0} = f[x_0,x_1,x_2]$$\n",
        "\n",
        ">> a $f[x_0,x_1,x_2]$ se le conoce como segunda diferencia dividida respecto a $x_0,\\,x_1$ y $x_2$.\n",
        "\n",
        "Sustituyendo en $p_2(x)$ los valores de $a_0,\\,a_1$ y $a_2$ se obtiene:\n",
        "\n",
        "$$p_2(x) = f[x_0] + (x - x_0)\\,f[x_0,x_1] + (x - x_0)\\,(x - x_1)\\,f[x_0,x_1,x_2]$$\n",
        "\n",
        "\n",
        "**Generalizando**\n",
        "\n",
        "Considerando que por todos los puntos (datos tabulados) $0,\\, 1,\\, 2,\\,\\ldots, n$ pasa un polinomio de grado $n$ $(p_n(x))$ de la forma:\n",
        "\n",
        "$$p_n(x) = a_0 + a_1\\,(x - x_0) + a_2\\,(x - x_0)\\,(x - x_1) + \\ldots + a_n\\,(x - x_0)(x - x_1)\\ldots(x - x_{n-1})$$\n",
        "\n",
        "cuyos coeficientes están en términos de diferencias divididas (Ver Tabla de Diferencias divididas):\n",
        "\n",
        "$$\\begin{align*} \n",
        "a_0 &= f[x_0]\\\\\n",
        "a_1 &= f[x_0,x_1]\\\\\n",
        "a_2 &= f[x_0,x_1,x_2]\\\\\n",
        "\\vdots \\\\\n",
        "a_n &= f[x_0,x_1,x_2,\\ldots,x_n]\n",
        "\\end{align*}$$\n",
        "\n",
        "La aproximación polinomial de Newton se puede expresar en  forma resumida como\n",
        "\n",
        "$$p_n(x) = \\sum_{k=0}^{n}a_k\\prod_{i=0}^{k-1}(x-x_i)$$\n",
        "\n"
      ]
    },
    {
      "cell_type": "markdown",
      "metadata": {
        "id": "16B5HwDFIuNh"
      },
      "source": [
        "**Ejemplo** Elabore una aproximación polinomio de Newton para los datos tabulados de la presión de vapor de la acetona e interpole la temperatura para una presión de 2 atm.\n",
        "\n",
        "|**Puntos**| 0  | 1    | 2    | 3    |\n",
        "|---       |--- |---   |---   |---   |\n",
        "|$T(^oC)$   |56.5| 113.0| 181.0| 214.5|\n",
        "|$P(atm)$  | 1  | 5    | 20   | 40   |\n",
        "\n",
        "\n",
        "$$p_3(x) = 56.5 + 14.125(x-1) - 0.50482(x-1)(x-5)+0.01085(x-1)(x-5)(x-20)$$"
      ]
    },
    {
      "cell_type": "code",
      "metadata": {
        "id": "TjxpCNaDyat5",
        "colab": {
          "base_uri": "https://localhost:8080/"
        },
        "outputId": "e3fd9d24-0b90-4912-a342-b9e0c8b6a965"
      },
      "source": [
        "T = np.array([56.5,113.0,181.0,214.5])\n",
        "P = np.array([1.0,5.0,20.0,40.0])\n",
        "Tabla_Dif_Div = dif_div(P,T)\n",
        "Tabla_Dif_Div\n"
      ],
      "execution_count": null,
      "outputs": [
        {
          "output_type": "execute_result",
          "data": {
            "text/plain": [
              "array([[ 5.65000000e+01,  1.41250000e+01, -5.04824561e-01,\n",
              "         1.08502024e-02],\n",
              "       [ 1.13000000e+02,  4.53333333e+00, -8.16666667e-02,\n",
              "         0.00000000e+00],\n",
              "       [ 1.81000000e+02,  1.67500000e+00,  0.00000000e+00,\n",
              "         0.00000000e+00],\n",
              "       [ 2.14500000e+02,  0.00000000e+00,  0.00000000e+00,\n",
              "         0.00000000e+00]])"
            ]
          },
          "metadata": {
            "tags": []
          },
          "execution_count": 3
        }
      ]
    },
    {
      "cell_type": "code",
      "metadata": {
        "colab": {
          "base_uri": "https://localhost:8080/"
        },
        "id": "gRXkm28M3LAr",
        "outputId": "9ccac131-d75c-49c9-959a-f4662f7612e1"
      },
      "source": [
        "coeficientes = Tabla_Dif_Div[0, :]\n",
        "coeficientes"
      ],
      "execution_count": null,
      "outputs": [
        {
          "output_type": "execute_result",
          "data": {
            "text/plain": [
              "array([ 5.65000000e+01,  1.41250000e+01, -5.04824561e-01,  1.08502024e-02])"
            ]
          },
          "metadata": {
            "tags": []
          },
          "execution_count": 4
        }
      ]
    },
    {
      "cell_type": "code",
      "metadata": {
        "id": "Nq5HOaBbMgMn"
      },
      "source": [
        "TPdd = np.poly1d(coeficientes[::-1])"
      ],
      "execution_count": null,
      "outputs": []
    },
    {
      "cell_type": "code",
      "metadata": {
        "colab": {
          "base_uri": "https://localhost:8080/"
        },
        "id": "kSBSp_muMzvc",
        "outputId": "1149128d-2c4f-44fe-9846-3020a6825247"
      },
      "source": [
        "# ¡¡Ojo!!\n",
        "TPdd(2)"
      ],
      "execution_count": null,
      "outputs": [
        {
          "output_type": "execute_result",
          "data": {
            "text/plain": [
              "82.81750337381916"
            ]
          },
          "metadata": {
            "tags": []
          },
          "execution_count": 6
        }
      ]
    },
    {
      "cell_type": "code",
      "metadata": {
        "colab": {
          "base_uri": "https://localhost:8080/"
        },
        "id": "n4nV3o0eQtes",
        "outputId": "853dfd49-d2fa-4653-cadc-394484fe6391"
      },
      "source": [
        "p3 = lambda x: 56.5 + 14.125*(x-1) - 0.50482*(x-1)*(x-5) + 0.01085*(x-1)*(x-5)*(x-20)  \n",
        "p3(2)"
      ],
      "execution_count": null,
      "outputs": [
        {
          "output_type": "execute_result",
          "data": {
            "text/plain": [
              "72.72536"
            ]
          },
          "metadata": {
            "tags": []
          },
          "execution_count": 7
        }
      ]
    },
    {
      "cell_type": "code",
      "metadata": {
        "colab": {
          "base_uri": "https://localhost:8080/"
        },
        "id": "Et50wsv4NTp6",
        "outputId": "60d2c789-2e0f-47e6-e373-342ef52e0be2"
      },
      "source": [
        "print(np.poly1d(TPdd.coefficients))"
      ],
      "execution_count": null,
      "outputs": [
        {
          "output_type": "stream",
          "text": [
            "         3          2\n",
            "0.01085 x - 0.5048 x + 14.12 x + 56.5\n"
          ],
          "name": "stdout"
        }
      ]
    },
    {
      "cell_type": "code",
      "metadata": {
        "id": "hcDrRs9sJj4r"
      },
      "source": [
        "def newton_poly(coef, x_data, x):\n",
        "    '''\n",
        "    Evalua el polinomo en x\n",
        "    '''\n",
        "    n = len(x_data) - 1 \n",
        "    p = coef[n]\n",
        "    for k in range(1,n+1):\n",
        "        p = coef[n-k] + (x -x_data[n-k])*p\n",
        "    return p"
      ],
      "execution_count": null,
      "outputs": []
    },
    {
      "cell_type": "code",
      "metadata": {
        "colab": {
          "base_uri": "https://localhost:8080/"
        },
        "id": "uCK2R14gRKYX",
        "outputId": "ffa9bb4d-f11c-4d0f-90bc-9d9da587a04a"
      },
      "source": [
        "newton_poly(coeficientes,P,np.linspace(1.0,2.0,10,endpoint=\"True\"))"
      ],
      "execution_count": null,
      "outputs": [
        {
          "output_type": "execute_result",
          "data": {
            "text/plain": [
              "array([56.5       , 58.37613641, 60.23373547, 62.07288649, 63.89367877,\n",
              "       65.69620161, 67.48054431, 69.24679618, 70.99504651, 72.72538462])"
            ]
          },
          "metadata": {
            "tags": []
          },
          "execution_count": 10
        }
      ]
    },
    {
      "cell_type": "code",
      "metadata": {
        "id": "tH6v9vhCKiiJ"
      },
      "source": [
        "\n",
        "Tdd = newton_poly(coeficientes,P,np.linspace(1.0,40, endpoint=\"True\"))"
      ],
      "execution_count": null,
      "outputs": []
    },
    {
      "cell_type": "code",
      "metadata": {
        "colab": {
          "base_uri": "https://localhost:8080/",
          "height": 483
        },
        "id": "GQM1vs9wJx7Q",
        "outputId": "9db34590-956f-40d3-8c57-2f4f39a42706"
      },
      "source": [
        "plt.figure(figsize = (10, 8))\n",
        "plt.plot(P, T, 'bo')\n",
        "plt.plot(np.linspace(1.0,40, endpoint=\"True\"), Tdd)\n",
        "plt.show()"
      ],
      "execution_count": null,
      "outputs": [
        {
          "output_type": "display_data",
          "data": {
            "image/png": "[encoded data removed]",
            "text/plain": [
              "<Figure size 720x576 with 1 Axes>"
            ]
          },
          "metadata": {
            "tags": [],
            "needs_background": "light"
          }
        }
      ]
    },
    {
      "cell_type": "markdown",
      "metadata": {
        "id": "KFrh__GHN6Gx"
      },
      "source": [
        "# Polinomios de Newton en diferencias finitas\n",
        "\n",
        "Cuando la distancia, $h$, entre dos argumentos consecutivos cualesquiera es la misma a lo largo de la tabla, el polinomio de Newton en diferencias divididas puede expresarse de manera más sencilla. \n",
        "\n",
        "Para este propósito se introduce un nuevo parámetro $s$, definido como \n",
        "\n",
        "$$x = x_0 + sh$$\n",
        "\n",
        "con el cual se expresa el producto\n",
        "\n",
        " $$\\prod_{i=0}^{k-1}(x-x_i)$$\n",
        "\n",
        "de la expresión para la aproximación polinomial de Newton en términos de $s$ y $h$\n",
        "\n",
        "$$\\begin{align*}\n",
        "x_1-x_0 &= h\\\\\n",
        "x_2-x_0 &= 2h\\\\\n",
        "\\vdots\\\\\n",
        "x_i-x_0 &= ih\n",
        "\\end{align*}$$\n",
        "\n",
        "Restando $x_i$ en ambos lados de $x = x0 + sh$, se tiene\n",
        "\n",
        "$$\\begin{align*}\n",
        "x-x_i &= x_0-x_i + sh\\\\\n",
        "x-x_i &= -ih+sh\\\\\n",
        "x-x_i &= h(s-i)\n",
        "\\end{align*}$$\n",
        "\n",
        "> Si $i=1$\n",
        "\n",
        "$$x-x_1 = h(s-1)$$\n",
        "\n",
        "> Si $i=2$\n",
        "\n",
        "$$x-x_2 = h(s-2)$$\n",
        "\n",
        "Sustituyendo $(x-x_i)$ por $h(s-i)$ en la aproximación polinomial de Newton, se tiene\n",
        "\n",
        "$$\\begin{align*}\n",
        "p(x) = p_n(x_0 + sh) &= f[x_0] + hsf[x_0,x_1] + h^2s(s-1)f[x_0,x_1,x_2]\\\\\n",
        "&+h^3s(s-1)(s-2)f[x_0,x_1,x_2,x_3] + \\ldots\\\\\n",
        "&+ h^ns(s-1)(s-2)\\ldots(s-(n-1))f[x_0,x_1,\\ldots,x_n]\n",
        "\\end{align*}$$\n",
        "\n",
        "En forma compacta\n",
        "\n",
        "$$p_n(x)=\\sum_{k=0}^n a_k h^k \\prod_{i=0}^{k-1}(s-i)$$"
      ]
    },
    {
      "cell_type": "markdown",
      "metadata": {
        "id": "Se2np5qoUE7m"
      },
      "source": [
        "Introduciendo el operador lineal en diferencias hacia adelante, $\\Delta$, la primera diferencia hacia adelante queda de la forma siguiente:\n",
        "\n",
        "$$\\Delta f(x) = f(x+h)-f(x)$$\n",
        "\n",
        "La segunda diferencia hacia adelante \n",
        "\n",
        "$$\\begin{align*}\n",
        "\\Delta(\\Delta f(x))=\\Delta^2f(x) &= \\Delta(f(x+h)-f(x))\\\\\n",
        "&= \\Delta f(x+h)-\\Delta f(x)\\\\\n",
        "&= f(x+h+h)-f(x+h)-f(x+h)+f(x)\\\\\n",
        "&= f(x+2h)-2f(x+h)+f(x)\n",
        "\\end{align*}$$\n",
        "\n",
        "Generalizando, las diferencias hacia adelante de orden superior se generan como sigue\n",
        "\n",
        "$$\\Delta^i f(x)= \\Delta (\\Delta^{i-1}f(x))$$\n",
        "\n",
        "Al aplicar el operador $\\Delta$ al primer valor funcional $f[x_0]$, se tiene\n",
        "\n",
        "$$\\Delta f(x_0) = f[x_1]-f[x_0] = hf[x_0,x_1]$$\n",
        "\n",
        "y resolviendo para $f[x_0,x_1]$\n",
        "\n",
        "$$f[x_0,x_1] = \\dfrac{1}{h}\\Delta f(x_0)$$\n",
        "\n",
        "Del mismo modo, se tiene que para $f[x_0,x_1,x_2]$\n",
        "\n",
        "$$f[x_0,x_1,x_2] = \\dfrac{1}{2h^2}\\Delta^2 f(x_0)$$\n",
        "\n",
        "Generalizando para $f[x_0,x_1,\\ldots,x_n]$\n",
        "\n",
        "\n",
        "$$f[x_0,x_1,\\ldots,x_n] = \\dfrac{1}{n!h^n}\\Delta^n f(x_0)$$\n",
        "\n",
        "Al sustituir $f[x_0,x_1,\\ldots,x_i]$ en \n",
        "\n",
        "$$\\begin{align*}\n",
        "p(x) = p_n(x_0 + sh) &= f[x_0] + hsf[x_0,x_1] + h^2s(s-1)f[x_0,x_1,x_2]\\\\\n",
        "&+h^3s(s-1)(s-2)f[x_0,x_1,x_2,x_3] + \\ldots\\\\\n",
        "&+ h^ns(s-1)(s-2)\\ldots(s-(n-1))f[x_0,x_1,\\ldots,x_n]\n",
        "\\end{align*}$$\n",
        "\n",
        "queda el polinomio de Newton en diferencias hacia adelante\n",
        "\n",
        "$$\\begin{align*}\n",
        "p(x) = p_n(x_0 + sh) &= f[x_0] + s\\Delta f[x_0] + \\dfrac{s(s-1)}{2!}\\Delta^2 f[x_0]+\\\\\n",
        "&\\dfrac{s(s-1)(s-2)}{3!}\\Delta^3 f[x_0] + \\ldots\\\\\n",
        "&+ \\dfrac{s(s-1)(s-2)\\ldots(s(n-1))}{n!}\\Delta^n f[x_0]\n",
        "\\end{align*}$$\n"
      ]
    },
    {
      "cell_type": "markdown",
      "metadata": {
        "id": "jrdxgBl7b_TJ"
      },
      "source": [
        "**Ejemplo** La siguiente tabla proporciona las presiones de vapor en $\\mathrm{lb/plg^2}$ a diferentes temperaturas $(^oF)$ para el 1-3 butadieno.\n",
        "\n",
        "<table class=\"egt\">\n",
        "  <tr><td>Puntos </td> <td>$0$</td><td>$1$</td><td>$2$</td><td>$3$</td><td>$4$</td><td>$5$</td></tr>\n",
        "  <tr><td>$T$</td><td>$50$</td><td>$60$</td><td>$70$</td><td>$80$</td><td>$90$</td><td>$100$</td></tr>\n",
        "  <tr><td>$P$</td><td>$24.94$</td><td>$30.11$</td><td>$36.05$</td><td>$42.84$</td><td>$50.57$</td><td>$59.30$</td></tr>\n",
        "</table>\n",
        "\n",
        "Aproxime la función tabulada por el polinomio de Newton en diferencias hacia adelante e interpole la presión a $T=64^oF$."
      ]
    },
    {
      "cell_type": "code",
      "metadata": {
        "colab": {
          "base_uri": "https://localhost:8080/",
          "height": 279
        },
        "id": "nQ2TzGG4N10H",
        "outputId": "18a9ab28-974e-4e52-d3d3-3c40fbf70dc7"
      },
      "source": [
        "import matplotlib.pyplot as plt\n",
        "Temperatura = [50, 60, 70, 80, 90, 100]\n",
        "Presion = [24.94, 30.11, 36.05, 42.84, 50.57, 59.30]\n",
        "plt.plot(Temperatura,Presion, \"ko\")\n",
        "plt.xlabel(\"Temperatura\")\n",
        "plt.ylabel(\"Presión\")\n",
        "plt.show()"
      ],
      "execution_count": null,
      "outputs": [
        {
          "output_type": "display_data",
          "data": {
            "image/png": "[encoded data removed]",
            "text/plain": [
              "<Figure size 432x288 with 1 Axes>"
            ]
          },
          "metadata": {
            "tags": [],
            "needs_background": "light"
          }
        }
      ]
    },
    {
      "cell_type": "markdown",
      "metadata": {
        "id": "RHa9wVvbMGIp"
      },
      "source": [
        "> **Paso 1**: Calcular $s$, con $h = 10$\n",
        "\n",
        "$$x = x_0 + sh\\,\\therefore\\, s = \\dfrac{x-x_0}{h} = \\dfrac{64-50}{10}=1.4$$\n",
        "\n",
        "> **Paso 2**: Calcular $\\Delta f[x_i]$\n",
        "\n",
        ">> _Punto entre 0 y 1_\n",
        "\n",
        "$$\\Delta f[x_0] = (30.11-24.94)=5.17$$\n",
        "\n",
        ">> _Punto entre 1 y 2_\n",
        "\n",
        "$$\\Delta f[x_1] = 5.94$$\n",
        "\n",
        ">> _Punto entre 2 y 3_\n",
        "\n",
        "$$\\Delta f[x_2] = 6.79$$\n",
        "\n",
        ">> _Punto entre 3 y 4_\n",
        "\n",
        "$$\\Delta f[x_3] = 7.73$$\n",
        "\n",
        ">> _Punto entre 4 y 5_\n",
        "\n",
        "$$\\Delta f[x_4] = 8.73$$\n",
        "\n",
        "> **Paso 3**: Calcular $\\Delta^2 f[x_i]$\n",
        "\n",
        ">> _Punto entre 0, 1 y 2_\n",
        "\n",
        "$$\\Delta^2 f[x_0] = (5.94-5.17)=0.77$$\n",
        "\n",
        ">> _Punto entre 1, 2 y 3_\n",
        "\n",
        "$$\\Delta^2 f[x_1] = 0.85$$\n",
        "\n",
        ">> _Punto entre 2, 3 y 4_\n",
        "\n",
        "$$\\Delta^2 f[x_2] = 0.94$$\n",
        "\n",
        ">> _Punto entre 3, 4 y 5_\n",
        "\n",
        "$$\\Delta^2 f[x_3] = 1.00$$\n",
        "\n",
        "> **Paso 4**: Calcular $\\Delta^3 f[x_i]$\n",
        "\n",
        "$$\\Delta^3 f[x_0] = (0.85-0.77)=0.08$$\n",
        "\n",
        "$$\\Delta^3 f[x_1] = 0.09$$\n",
        "\n",
        "$$\\Delta^3 f[x_2] = 0.06$$\n",
        "\n",
        "> **Paso 4**: Calcular $\\Delta^4 f[x_i]$\n",
        "\n",
        "$$\\Delta^4 f[x_0] = (0.09-0.08)=0.01$$\n",
        "\n",
        "$$\\Delta^4 f[x_1] = -0.03$$\n",
        "\n",
        "\n",
        "\n"
      ]
    },
    {
      "cell_type": "markdown",
      "metadata": {
        "id": "Utv8u4iQSqhp"
      },
      "source": [
        "<img src=\"https://drive.google.com/uc?id=1u8s49kwh-tQASFg42j4yLDm2slB98XYT&export=download\" width=\"100%\">"
      ]
    },
    {
      "cell_type": "code",
      "metadata": {
        "id": "o6Rf2st8efRq",
        "colab": {
          "base_uri": "https://localhost:8080/"
        },
        "outputId": "6f22946d-c793-4b45-ab45-e8e35fdbc67d"
      },
      "source": [
        "import numpy as np\n",
        "xi = np.array([50, 60, 70, 80, 90, 100])\n",
        "fxi = np.array([24.94, 30.11, 36.05, 42.84, 50.57, 59.30])\n",
        "N = np.shape(xi)[0] # Se estrae el tamaño de la lista de datos\n",
        "    \n",
        "TDF = np.zeros((N,N))    # Arreglo donde se almacenará la Tabla de diferencias finitas\n",
        "TDF[:,0] = fxi    # En la primer columna se almacenan los datos de fxi\n",
        "\n",
        "for j in range (1,N):\n",
        "  for i in range (N-j):\n",
        "    TDF[i,j] = TDF[i+1,j-1]-TDF[i,j-1]\n",
        "\n",
        "TDF"
      ],
      "execution_count": null,
      "outputs": [
        {
          "output_type": "execute_result",
          "data": {
            "text/plain": [
              "array([[ 2.494e+01,  5.170e+00,  7.700e-01,  8.000e-02,  1.000e-02,\n",
              "        -4.000e-02],\n",
              "       [ 3.011e+01,  5.940e+00,  8.500e-01,  9.000e-02, -3.000e-02,\n",
              "         0.000e+00],\n",
              "       [ 3.605e+01,  6.790e+00,  9.400e-01,  6.000e-02,  0.000e+00,\n",
              "         0.000e+00],\n",
              "       [ 4.284e+01,  7.730e+00,  1.000e+00,  0.000e+00,  0.000e+00,\n",
              "         0.000e+00],\n",
              "       [ 5.057e+01,  8.730e+00,  0.000e+00,  0.000e+00,  0.000e+00,\n",
              "         0.000e+00],\n",
              "       [ 5.930e+01,  0.000e+00,  0.000e+00,  0.000e+00,  0.000e+00,\n",
              "         0.000e+00]])"
            ]
          },
          "metadata": {
            "tags": []
          },
          "execution_count": 2
        }
      ]
    },
    {
      "cell_type": "code",
      "metadata": {
        "colab": {
          "base_uri": "https://localhost:8080/",
          "height": 235
        },
        "id": "l76Vb9XOYRXe",
        "outputId": "4a7cb842-2089-429b-fd9e-ee22da2788d3"
      },
      "source": [
        "import pandas as pd\n",
        "df_TDF = pd.DataFrame(data=TDF, columns=[\"fxi\", \"Dfxi\",\"D^2fxi\",\"D^3fxi\",\"D^4fxi\",\"D^5fxi\"])\n",
        "df_TDF"
      ],
      "execution_count": null,
      "outputs": [
        {
          "output_type": "execute_result",
          "data": {
            "text/html": [
              "<div>\n",
              "<style scoped>\n",
              "    .dataframe tbody tr th:only-of-type {\n",
              "        vertical-align: middle;\n",
              "    }\n",
              "\n",
              "    .dataframe tbody tr th {\n",
              "        vertical-align: top;\n",
              "    }\n",
              "\n",
              "    .dataframe thead th {\n",
              "        text-align: right;\n",
              "    }\n",
              "</style>\n",
              "<table border=\"1\" class=\"dataframe\">\n",
              "  <thead>\n",
              "    <tr style=\"text-align: right;\">\n",
              "      <th></th>\n",
              "      <th>fxi</th>\n",
              "      <th>Dfxi</th>\n",
              "      <th>D^2fxi</th>\n",
              "      <th>D^3fxi</th>\n",
              "      <th>D^4fxi</th>\n",
              "      <th>D^5fxi</th>\n",
              "    </tr>\n",
              "  </thead>\n",
              "  <tbody>\n",
              "    <tr>\n",
              "      <th>0</th>\n",
              "      <td>24.94</td>\n",
              "      <td>5.17</td>\n",
              "      <td>0.77</td>\n",
              "      <td>0.08</td>\n",
              "      <td>0.01</td>\n",
              "      <td>-0.04</td>\n",
              "    </tr>\n",
              "    <tr>\n",
              "      <th>1</th>\n",
              "      <td>30.11</td>\n",
              "      <td>5.94</td>\n",
              "      <td>0.85</td>\n",
              "      <td>0.09</td>\n",
              "      <td>-0.03</td>\n",
              "      <td>0.00</td>\n",
              "    </tr>\n",
              "    <tr>\n",
              "      <th>2</th>\n",
              "      <td>36.05</td>\n",
              "      <td>6.79</td>\n",
              "      <td>0.94</td>\n",
              "      <td>0.06</td>\n",
              "      <td>0.00</td>\n",
              "      <td>0.00</td>\n",
              "    </tr>\n",
              "    <tr>\n",
              "      <th>3</th>\n",
              "      <td>42.84</td>\n",
              "      <td>7.73</td>\n",
              "      <td>1.00</td>\n",
              "      <td>0.00</td>\n",
              "      <td>0.00</td>\n",
              "      <td>0.00</td>\n",
              "    </tr>\n",
              "    <tr>\n",
              "      <th>4</th>\n",
              "      <td>50.57</td>\n",
              "      <td>8.73</td>\n",
              "      <td>0.00</td>\n",
              "      <td>0.00</td>\n",
              "      <td>0.00</td>\n",
              "      <td>0.00</td>\n",
              "    </tr>\n",
              "    <tr>\n",
              "      <th>5</th>\n",
              "      <td>59.30</td>\n",
              "      <td>0.00</td>\n",
              "      <td>0.00</td>\n",
              "      <td>0.00</td>\n",
              "      <td>0.00</td>\n",
              "      <td>0.00</td>\n",
              "    </tr>\n",
              "  </tbody>\n",
              "</table>\n",
              "</div>"
            ],
            "text/plain": [
              "     fxi  Dfxi  D^2fxi  D^3fxi  D^4fxi  D^5fxi\n",
              "0  24.94  5.17    0.77    0.08    0.01   -0.04\n",
              "1  30.11  5.94    0.85    0.09   -0.03    0.00\n",
              "2  36.05  6.79    0.94    0.06    0.00    0.00\n",
              "3  42.84  7.73    1.00    0.00    0.00    0.00\n",
              "4  50.57  8.73    0.00    0.00    0.00    0.00\n",
              "5  59.30  0.00    0.00    0.00    0.00    0.00"
            ]
          },
          "metadata": {
            "tags": []
          },
          "execution_count": 3
        }
      ]
    },
    {
      "cell_type": "markdown",
      "metadata": {
        "id": "PjjEyJEoTBUK"
      },
      "source": [
        "+ Aproximando a un polinomio de primer grado, $n=1$\n",
        "\n",
        "$$\\begin{align*}\n",
        "p(x) = p_n(x_0 + sh) &= f[x_0] + s\\Delta f[x_0] + \\dfrac{s(s-1)}{2!}\\Delta^2 f[x_0]+\\\\\n",
        "&\\dfrac{s(s-1)(s-2)}{3!}\\Delta^3 f[x_0] + \\ldots\\\\\n",
        "&+ \\dfrac{s(s-1)(s-2)\\ldots(s(s-(n-1)))}{n!}\\Delta^n f[x_0]\n",
        "\\end{align*}$$\n",
        "\n",
        "> sólo se consideran los dos primeros términos de la ecuación anterior, por lo tanto\n",
        "\n",
        "$$p(x) = f[x_0] + s\\Delta f[x_0] = 24.94 + 1.4(5.17) = 32.18$$\n",
        "\n",
        "+ Aproximando a un polinomio de segundo grado, $n=2$\n",
        "\n",
        "$$p_2(x) = f[x_0] + s\\Delta f[x_0] + \\dfrac{s(s-1)}{2!}\\Delta^2f[x_0]$$\n",
        "\n",
        "> con $s = \\dfrac{x-x_0}{h} = \\dfrac{64-50}{10}=1.4$\n",
        "\n",
        "$$p_2(64) = 24.94 + (1.4)(5.17) + \\dfrac{1.4(1.4-1)}{2!}0.77 = 32.39$$\n"
      ]
    }
  ]
}