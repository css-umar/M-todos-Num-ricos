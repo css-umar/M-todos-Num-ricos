{
  "nbformat": 4,
  "nbformat_minor": 0,
  "metadata": {
    "colab": {
      "name": "SistemaNolineales2.ipynb",
      "provenance": [],
      "collapsed_sections": []
    },
    "kernelspec": {
      "name": "python3",
      "display_name": "Python 3"
    },
    "language_info": {
      "name": "python"
    }
  },
  "cells": [
    {
      "cell_type": "markdown",
      "metadata": {
        "id": "i6U0hlp5a0h9"
      },
      "source": [
        "# Método de Newton"
      ]
    },
    {
      "cell_type": "code",
      "metadata": {
        "id": "9OhjKLagauP-"
      },
      "source": [
        "# Funciones\n",
        "def f1(x,y):\n",
        "  return x**2 - 10*x + y**2 + 8.0\n",
        "\n",
        "def f2(x,y):\n",
        "  return x*y**2 + x -10*y + 8.0"
      ],
      "execution_count": null,
      "outputs": []
    },
    {
      "cell_type": "code",
      "metadata": {
        "id": "hD_reubDbENB"
      },
      "source": [
        "# Parciales de f1 y f2\n",
        "\n",
        "def df1x(x,y):\n",
        "  return 2*x - 10\n",
        "\n",
        "def df1y(x,y):\n",
        "  return 2*y\n",
        "\n",
        "def df2x(x,y):\n",
        "  return y**2 + 1\n",
        "\n",
        "def df2y(x,y):\n",
        "  return 2*x*y - 10"
      ],
      "execution_count": null,
      "outputs": []
    },
    {
      "cell_type": "code",
      "metadata": {
        "id": "mgnxuO8IbKVX"
      },
      "source": [
        "import numpy as np\n"
      ],
      "execution_count": null,
      "outputs": []
    },
    {
      "cell_type": "markdown",
      "metadata": {
        "id": "YTPS6LxQiAfT"
      },
      "source": [
        "## Primera iteración"
      ]
    },
    {
      "cell_type": "code",
      "metadata": {
        "id": "6hbbSmsec1c8"
      },
      "source": [
        "# Valores iniciales\n",
        "x0 = 0.0\n",
        "y0 = 0.0"
      ],
      "execution_count": null,
      "outputs": []
    },
    {
      "cell_type": "code",
      "metadata": {
        "id": "68v4VM5odPrg"
      },
      "source": [
        "A = np.array([[df1x(x0,y0), df1y(x0,y0)],[df2x(x0,y0),df2y(x0,y0)]])"
      ],
      "execution_count": null,
      "outputs": []
    },
    {
      "cell_type": "code",
      "metadata": {
        "colab": {
          "base_uri": "https://localhost:8080/"
        },
        "id": "chXmHpDOdx6R",
        "outputId": "c1a9e4fb-03f4-465b-ce07-eee4a026225a"
      },
      "source": [
        "print(A)"
      ],
      "execution_count": null,
      "outputs": [
        {
          "output_type": "stream",
          "text": [
            "[[-10.   0.]\n",
            " [  1. -10.]]\n"
          ],
          "name": "stdout"
        }
      ]
    },
    {
      "cell_type": "code",
      "metadata": {
        "id": "36SoR1gwd3Sm"
      },
      "source": [
        "b = np.array([[-f1(x0,y0)],[-f2(x0,y0)]])"
      ],
      "execution_count": null,
      "outputs": []
    },
    {
      "cell_type": "code",
      "metadata": {
        "colab": {
          "base_uri": "https://localhost:8080/"
        },
        "id": "KPGUm74QeD41",
        "outputId": "5ef030ea-f787-45e1-96e3-dba4de6006bc"
      },
      "source": [
        "print(b)"
      ],
      "execution_count": null,
      "outputs": [
        {
          "output_type": "stream",
          "text": [
            "[[-8.]\n",
            " [-8.]]\n"
          ],
          "name": "stdout"
        }
      ]
    },
    {
      "cell_type": "markdown",
      "metadata": {
        "id": "cb-QE-9kehtW"
      },
      "source": [
        "$$A\\bar{x}=\\bar{b}$$\n",
        "\n",
        "$$\\bar{x} = A^{-1}\\bar{b}$$"
      ]
    },
    {
      "cell_type": "code",
      "metadata": {
        "id": "N5wMtwxHeFbm"
      },
      "source": [
        "A_inversa = np.linalg.inv(A)"
      ],
      "execution_count": null,
      "outputs": []
    },
    {
      "cell_type": "code",
      "metadata": {
        "colab": {
          "base_uri": "https://localhost:8080/"
        },
        "id": "hYlyLxw0fIY-",
        "outputId": "5d3ae57f-9686-4a45-bd72-9c03a962dd72"
      },
      "source": [
        "print(A_inversa)"
      ],
      "execution_count": null,
      "outputs": [
        {
          "output_type": "stream",
          "text": [
            "[[-0.1  -0.  ]\n",
            " [-0.01 -0.1 ]]\n"
          ],
          "name": "stdout"
        }
      ]
    },
    {
      "cell_type": "code",
      "metadata": {
        "id": "lEeHW_r8fKLS"
      },
      "source": [
        "x = A_inversa.dot(b)"
      ],
      "execution_count": null,
      "outputs": []
    },
    {
      "cell_type": "code",
      "metadata": {
        "colab": {
          "base_uri": "https://localhost:8080/"
        },
        "id": "ZDciAW9RfY_h",
        "outputId": "4627ed67-c1da-4bc9-a1a1-92a1252df8d4"
      },
      "source": [
        "print(x)"
      ],
      "execution_count": null,
      "outputs": [
        {
          "output_type": "stream",
          "text": [
            "[[0.8 ]\n",
            " [0.88]]\n"
          ],
          "name": "stdout"
        }
      ]
    },
    {
      "cell_type": "markdown",
      "metadata": {
        "id": "4KIDvELbhlwv"
      },
      "source": [
        "x = [[0,0],[1,0]]"
      ]
    },
    {
      "cell_type": "code",
      "metadata": {
        "colab": {
          "base_uri": "https://localhost:8080/"
        },
        "id": "RNU7pWMjhLHo",
        "outputId": "ec3506c8-f61d-4a17-d17a-def04417d420"
      },
      "source": [
        "x[0,0]"
      ],
      "execution_count": null,
      "outputs": [
        {
          "output_type": "execute_result",
          "data": {
            "text/plain": [
              "0.8"
            ]
          },
          "metadata": {
            "tags": []
          },
          "execution_count": 14
        }
      ]
    },
    {
      "cell_type": "code",
      "metadata": {
        "colab": {
          "base_uri": "https://localhost:8080/"
        },
        "id": "waaBn-Q4hQbf",
        "outputId": "2da8aa0d-833e-4c61-9c3b-ecff10f484d7"
      },
      "source": [
        "x[1,0]"
      ],
      "execution_count": null,
      "outputs": [
        {
          "output_type": "execute_result",
          "data": {
            "text/plain": [
              "0.8800000000000001"
            ]
          },
          "metadata": {
            "tags": []
          },
          "execution_count": 15
        }
      ]
    },
    {
      "cell_type": "code",
      "metadata": {
        "id": "IDqy153lgYw3"
      },
      "source": [
        "x1 = x0 + x[0,0]\n",
        "y1 = y0 + x[1,0]"
      ],
      "execution_count": null,
      "outputs": []
    },
    {
      "cell_type": "code",
      "metadata": {
        "colab": {
          "base_uri": "https://localhost:8080/"
        },
        "id": "PEmbqEIDhPv0",
        "outputId": "63ce630b-0dcf-40ba-e620-9c5266398c25"
      },
      "source": [
        "print(x1,y1)"
      ],
      "execution_count": null,
      "outputs": [
        {
          "output_type": "stream",
          "text": [
            "0.8 0.8800000000000001\n"
          ],
          "name": "stdout"
        }
      ]
    },
    {
      "cell_type": "code",
      "metadata": {
        "id": "nnAg5DHYhfVM"
      },
      "source": [
        "d = ((x1-x0)**2 + (y1-y0)**2)**(1/2)"
      ],
      "execution_count": null,
      "outputs": []
    },
    {
      "cell_type": "code",
      "metadata": {
        "colab": {
          "base_uri": "https://localhost:8080/"
        },
        "id": "MvOsT4achsZs",
        "outputId": "c687adc7-3633-4365-dcf4-ed68902b4b03"
      },
      "source": [
        "print(d)"
      ],
      "execution_count": null,
      "outputs": [
        {
          "output_type": "stream",
          "text": [
            "1.1892854997854805\n"
          ],
          "name": "stdout"
        }
      ]
    },
    {
      "cell_type": "code",
      "metadata": {
        "colab": {
          "base_uri": "https://localhost:8080/"
        },
        "id": "IANztpahht4j",
        "outputId": "c15a2bc9-bbc4-4119-ab8a-50f588fe0ff4"
      },
      "source": [
        "d <= 0.0001\n"
      ],
      "execution_count": null,
      "outputs": [
        {
          "output_type": "execute_result",
          "data": {
            "text/plain": [
              "False"
            ]
          },
          "metadata": {
            "tags": []
          },
          "execution_count": 20
        }
      ]
    },
    {
      "cell_type": "markdown",
      "metadata": {
        "id": "zw0O5h8amnK4"
      },
      "source": [
        "**Tarea**: continuar con las iteraciones hasta que se cumpla que $d<=0.0001$."
      ]
    },
    {
      "cell_type": "markdown",
      "metadata": {
        "id": "gMLtlpyakQHR"
      },
      "source": [
        "## Código"
      ]
    },
    {
      "cell_type": "code",
      "metadata": {
        "id": "Iko1_-H_h0SK"
      },
      "source": [
        "from IPython import get_ipython\n",
        "get_ipython().magic('reset -sf')"
      ],
      "execution_count": null,
      "outputs": []
    },
    {
      "cell_type": "code",
      "metadata": {
        "colab": {
          "base_uri": "https://localhost:8080/"
        },
        "id": "BZMurO6vktRl",
        "outputId": "c8f2e54e-abc8-437b-9b38-080d764e32ff"
      },
      "source": [
        "# Datos requeridos\n",
        "\n",
        "x0, y0 = 0.0, 0.0    # Valores inicialles\n",
        "EPSILON = 0.0001    # Criterio de paro para la distancia\n",
        "MAXIT = 100    # Criterio por sino se cumple d <= EPSILON\n",
        "\n",
        "# Funciones f1 y f2\n",
        "\n",
        "def f1(x,y):\n",
        "  return x**2 - 10*x + y**2 + 8.0\n",
        "\n",
        "def f2(x,y):\n",
        "  return x*y**2 + x -10*y + 8.0\n",
        "\n",
        "# Parciales de f1 y f2\n",
        "\n",
        "def df1x(x,y):\n",
        "  return 2*x - 10\n",
        "\n",
        "def df1y(x,y):\n",
        "  return 2*y\n",
        "\n",
        "def df2x(x,y):\n",
        "  return y**2 + 1\n",
        "\n",
        "def df2y(x,y):\n",
        "  return 2*x*y - 10\n",
        "\n",
        "# Bibliotecas\n",
        "\n",
        "import numpy as np\n",
        "\n",
        "for i in range(MAXIT):\n",
        "  A = np.array([[df1x(x0,y0), df1y(x0,y0)],[df2x(x0,y0),df2y(x0,y0)]])\n",
        "  b = np.array([[-f1(x0,y0)],[-f2(x0,y0)]])\n",
        "  A_inversa = np.linalg.inv(A)\n",
        "  x = A_inversa.dot(b)\n",
        "  x1 = x0 + x[0,0]\n",
        "  y1 = y0 + x[1,0]\n",
        "  d = ((x1-x0)**2 + (y1-y0)**2)**(1/2)  \n",
        "  if d <= EPSILON:\n",
        "    print(\"--------------\")\n",
        "    print(\"Iteracion = \", i, \"\\nSolucion = \",x1,y1)\n",
        "    break\n",
        "  else:\n",
        "    x0 = x1\n",
        "    y0 = y1"
      ],
      "execution_count": null,
      "outputs": [
        {
          "output_type": "stream",
          "text": [
            "--------------\n",
            "Iteracion =  3 \n",
            "Solucion =  0.9999999997010981 0.9999999996065294\n"
          ],
          "name": "stdout"
        }
      ]
    },
    {
      "cell_type": "markdown",
      "metadata": {
        "id": "YrpiQOmym_Mb"
      },
      "source": [
        "## Uso del método *root* de la biblioteca scipy\n",
        "\n",
        "Este método por default usa el método _hybr_. Sin embargo, existe la opción de seleccionar otros métodos:\n",
        "+ root(method='hybr')\n",
        "+ root(method='lm')\n",
        "+ root(method='broyden1')\n",
        "+ root(method='broyden2')\n",
        "+ root(method='anderson')\n",
        "+ root(method='linearmixing')\n",
        "+ root(method='diagbroyden')\n",
        "+ root(method='excitingmixing')\n",
        "+ root(method='krylov')\n",
        "+ root(method='df-sane')\n",
        "\n",
        "Para mayor detalle sobre los métodos, se recomienda revisar la [documentación de la biblioteca optmize.](https://docs.scipy.org/doc/scipy/reference/optimize.html)"
      ]
    },
    {
      "cell_type": "code",
      "metadata": {
        "id": "rP7AjC3pnXSu"
      },
      "source": [
        "from IPython import get_ipython\n",
        "get_ipython().magic('reset -sf')"
      ],
      "execution_count": null,
      "outputs": []
    },
    {
      "cell_type": "code",
      "metadata": {
        "id": "yuNkEEa9p-lh"
      },
      "source": [
        "from scipy.optimize import root\n",
        "import numpy as np\n",
        "\n",
        "\"\"\"\n",
        "Recuerden que en este caso x = x[0] y y = x[1]\n",
        "\"\"\"\n",
        "\n",
        "def f(x):\n",
        "  return [x[0]**2 - 10*x[0] + x[1]**2 + 8.0,\n",
        "          x[0]*x[1]**2 + x[0] -10*x[1] + 8.0]\n",
        "\n",
        "def jacobiano(x):\n",
        "  return [[2*x[0] - 10, 2*x[1]], \n",
        "          [x[1]**2 + 1, 2*x[0]*x[1] - 10 ] ]\n"
      ],
      "execution_count": null,
      "outputs": []
    },
    {
      "cell_type": "code",
      "metadata": {
        "id": "JJo27CIQre9Q"
      },
      "source": [
        "sol = root(f, [0, 0], jac=jacobiano, method='hybr')"
      ],
      "execution_count": null,
      "outputs": []
    },
    {
      "cell_type": "code",
      "metadata": {
        "colab": {
          "base_uri": "https://localhost:8080/"
        },
        "id": "qh1dmixJriFq",
        "outputId": "c5029c1c-6c10-4f11-88b6-b63b3b7c62b2"
      },
      "source": [
        "sol.x"
      ],
      "execution_count": null,
      "outputs": [
        {
          "output_type": "execute_result",
          "data": {
            "text/plain": [
              "array([1., 1.])"
            ]
          },
          "metadata": {
            "tags": []
          },
          "execution_count": 10
        }
      ]
    },
    {
      "cell_type": "markdown",
      "metadata": {
        "id": "vOnyHgp4tU4R"
      },
      "source": [
        "### Llamando a las funciones y al jacobiano en la misma función."
      ]
    },
    {
      "cell_type": "code",
      "metadata": {
        "id": "OmC-R1Ttrotg"
      },
      "source": [
        "def fun(x):\n",
        "  f = [x[0]**2 - 10*x[0] + x[1]**2 + 8.0,\n",
        "          x[0]*x[1]**2 + x[0] -10*x[1] + 8.0]\n",
        "  df = [[2*x[0] - 10, 2*x[1]], \n",
        "        [x[1]**2 + 1, 2*x[0]*x[1] - 10 ] ]\n",
        "  \n",
        "  return f, df"
      ],
      "execution_count": null,
      "outputs": []
    },
    {
      "cell_type": "code",
      "metadata": {
        "id": "Ov1VIPG2t_8O"
      },
      "source": [
        "sol = root(fun, [0, 0], jac=True, method='hybr')"
      ],
      "execution_count": null,
      "outputs": []
    },
    {
      "cell_type": "code",
      "metadata": {
        "colab": {
          "base_uri": "https://localhost:8080/"
        },
        "id": "n3TpajwRuEWq",
        "outputId": "2719900c-4d04-4513-a517-9d8dbf1d4812"
      },
      "source": [
        "sol.x"
      ],
      "execution_count": null,
      "outputs": [
        {
          "output_type": "execute_result",
          "data": {
            "text/plain": [
              "array([1., 1.])"
            ]
          },
          "metadata": {
            "tags": []
          },
          "execution_count": 14
        }
      ]
    },
    {
      "cell_type": "code",
      "metadata": {
        "id": "96ivosgBuKHq"
      },
      "source": [
        ""
      ],
      "execution_count": null,
      "outputs": []
    }
  ]
}