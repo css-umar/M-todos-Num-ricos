{
  "nbformat": 4,
  "nbformat_minor": 0,
  "metadata": {
    "colab": {
      "name": "AlgebraLinealNumerica2.ipynb",
      "provenance": [],
      "collapsed_sections": []
    },
    "kernelspec": {
      "name": "python3",
      "display_name": "Python 3"
    },
    "language_info": {
      "name": "python"
    }
  },
  "cells": [
    {
      "cell_type": "markdown",
      "metadata": {
        "id": "P-g35lrmmMWU"
      },
      "source": [
        "## Independencia y ortogonalización de vectores\n",
        "\n"
      ]
    },
    {
      "cell_type": "markdown",
      "metadata": {
        "id": "zog4-P7AmYFf"
      },
      "source": [
        "### Combinación lineal\n",
        "\n",
        "$$\\alpha_1 x_1 + \\alpha_2 x_2 + \\ldots + \\alpha_n x_n$$\n",
        "\n",
        "donde $\\alpha_1,\\alpha_2,\\ldots,\\alpha_n$ son números reales y $x_1,x_2,\\ldots,x_n$ son vectores de $m$ elementos cada uno."
      ]
    },
    {
      "cell_type": "markdown",
      "metadata": {
        "id": "4DGHjZROoKk-"
      },
      "source": [
        "### Dependencia lineal\n",
        "\n",
        "Se dice que un vector $x = [x_1, x_2,… x_m]^T$, depende linealmente de un conjunto de vectores de $m$ elementos $x_1, x_2,\\ldots x_n$, si se pueden encontrar escalares $\\alpha_1,\\alpha_2,\\ldots,\\alpha_n$, tales que se cumpla la siguiente ecuación\n",
        "vectorial\n",
        "\n",
        "$$x = \\alpha_1 x_1 + \\alpha_2 x_2 + \\ldots + \\alpha_n x_n$$\n",
        "\n",
        "Si no existen escalares que satisfagan tal ecuación, $x$ es un vector linealmente independiente de $x_1,x_2,\\ldots,x_n$. En otras palabras, $x$ es linealmente dependiente de $x_1,x_2,\\ldots,x_n$ si y sólo si $x$ es una combinación lineal de $x_1,x_2,\\ldots,x_n$.\n",
        "\n",
        "**Ejemplo**: Dado el conjunto de dos vectores de dos elementos\n",
        "\n",
        "$$x_1 = [4,4]^T$$\n",
        "$$x_2 = [-2,2]^T$$\n",
        "\n",
        "demuestre que el vector $x^T = [ 0, 8 ]^T$ es linealmente dependiente de dicho conjunto."
      ]
    },
    {
      "cell_type": "code",
      "metadata": {
        "id": "0mJT5IEJmA9V"
      },
      "source": [
        "import numpy as np\n",
        "\n",
        "x_1 = np.array([4,4])\n",
        "x_2 = np.array([-2,2])\n",
        "x = np.array([0,8])"
      ],
      "execution_count": null,
      "outputs": []
    },
    {
      "cell_type": "code",
      "metadata": {
        "colab": {
          "base_uri": "https://localhost:8080/"
        },
        "id": "B2hX1-7Jnrc6",
        "outputId": "d4a73835-ad06-49fe-ef81-aa38f3d31a39"
      },
      "source": [
        "alfa_1, alfa_2 = 1,2\n",
        "(alfa_1*x_1 + alfa_2*x_2 == x).all()"
      ],
      "execution_count": null,
      "outputs": [
        {
          "output_type": "execute_result",
          "data": {
            "text/plain": [
              "True"
            ]
          },
          "metadata": {
            "tags": []
          },
          "execution_count": 3
        }
      ]
    },
    {
      "cell_type": "markdown",
      "metadata": {
        "id": "DOxxfwv3tNO0"
      },
      "source": [
        "¿Por qué se usó $\\alpha_1 = 1$ y $\\alpha_2 = 2$?"
      ]
    },
    {
      "cell_type": "code",
      "metadata": {
        "colab": {
          "base_uri": "https://localhost:8080/"
        },
        "id": "TzaKwC0Xn5zN",
        "outputId": "a60466d2-be7d-4b8d-f088-faf71a5adcc0"
      },
      "source": [
        "np.array([x_1,x_2])"
      ],
      "execution_count": null,
      "outputs": [
        {
          "output_type": "execute_result",
          "data": {
            "text/plain": [
              "array([[ 4,  4],\n",
              "       [-2,  2]])"
            ]
          },
          "metadata": {
            "tags": []
          },
          "execution_count": 4
        }
      ]
    },
    {
      "cell_type": "code",
      "metadata": {
        "colab": {
          "base_uri": "https://localhost:8080/"
        },
        "id": "XQq_oWmBqPpS",
        "outputId": "4c7ec7bd-a457-4fae-b1bd-091684ebf8df"
      },
      "source": [
        "A = np.array([x_1,x_2]).transpose()\n",
        "A"
      ],
      "execution_count": null,
      "outputs": [
        {
          "output_type": "execute_result",
          "data": {
            "text/plain": [
              "array([[ 4, -2],\n",
              "       [ 4,  2]])"
            ]
          },
          "metadata": {
            "tags": []
          },
          "execution_count": 5
        }
      ]
    },
    {
      "cell_type": "code",
      "metadata": {
        "colab": {
          "base_uri": "https://localhost:8080/"
        },
        "id": "KOaQAxYasU9Y",
        "outputId": "d1039048-0ea4-47d4-ec81-cf3d2c55fad4"
      },
      "source": [
        "alfas = np.dot(np.linalg.inv(A),x)\n",
        "print(alfas)"
      ],
      "execution_count": null,
      "outputs": [
        {
          "output_type": "stream",
          "text": [
            "[1. 2.]\n"
          ],
          "name": "stdout"
        }
      ]
    },
    {
      "cell_type": "code",
      "metadata": {
        "colab": {
          "base_uri": "https://localhost:8080/"
        },
        "id": "jDithvo6viZo",
        "outputId": "0821db20-f7b3-43a6-b537-c53bec5804b3"
      },
      "source": [
        "# Otra manera de resolver es usando el método solve\n",
        "np.linalg.solve(A,x)"
      ],
      "execution_count": null,
      "outputs": [
        {
          "output_type": "execute_result",
          "data": {
            "text/plain": [
              "array([1., 2.])"
            ]
          },
          "metadata": {
            "tags": []
          },
          "execution_count": 7
        }
      ]
    },
    {
      "cell_type": "markdown",
      "metadata": {
        "id": "-0FXjozwgCTR"
      },
      "source": [
        "### Vectores ortogonales\n",
        "\n",
        "Dos vectores de igual número de componentes son ortogonales o perpendiculares si el coseno del ángulo entre ellos es cero. De acuerdo con esta definición, el vector cero es ortogonal con cualquier otro vector; en general, $\\vec{x}$ y $\\vec{y}$ son ortogonales si y sólo si\n",
        "\n",
        "$$\\vec{x}\\cdot \\vec{y} = x_1 y_1 + x_2 y_2 + \\ldots + x_n y_n$$\n",
        "\n",
        "$$\\vec{x}\\cdot \\vec{y} = |x|\\,|y|\\cos\\theta$$\n",
        "\n",
        "**Ejemplo**: Determine si los vectores $\\vec{x_1} = (4,4)$ y $\\vec{x_2}=(-2,2)$ son ortogonales."
      ]
    },
    {
      "cell_type": "code",
      "metadata": {
        "id": "zJY7bcZdhV9L"
      },
      "source": [
        "x_1 = np.array([4,4])\n",
        "x_2 = np.array([-2,2])"
      ],
      "execution_count": null,
      "outputs": []
    },
    {
      "cell_type": "code",
      "metadata": {
        "colab": {
          "base_uri": "https://localhost:8080/"
        },
        "id": "j2j_dGDDiG4h",
        "outputId": "ba964e82-c784-43d8-9056-0f775cc1691e"
      },
      "source": [
        "if np.dot(x_1,x_2)==0:\n",
        "  print(\"x_1 y x_2 son ortogonales\")\n",
        "else:\n",
        "  print(\"x_1 y x_2 no son ortogonales\")"
      ],
      "execution_count": null,
      "outputs": [
        {
          "output_type": "stream",
          "text": [
            "x_1 y x_2 son ortogonales\n"
          ],
          "name": "stdout"
        }
      ]
    },
    {
      "cell_type": "markdown",
      "metadata": {
        "id": "9RQeBolDiwaI"
      },
      "source": [
        "**Ejemplo**: Determine si los vectores $\\vec{x_1} = (1,0,0,0)$, $\\vec{x_2}=(0,1,0,0)$ y $\\vec{x_3}=(0,0,1,0)$ son ortogonales."
      ]
    },
    {
      "cell_type": "code",
      "metadata": {
        "id": "AqovFMs8jMpe"
      },
      "source": [
        "x_1 = np.array([1,0,0,0])\n",
        "x_2 = np.array([0,1,0,0])\n",
        "x_3 = np.array([0,0,1,0])"
      ],
      "execution_count": null,
      "outputs": []
    },
    {
      "cell_type": "code",
      "metadata": {
        "colab": {
          "base_uri": "https://localhost:8080/"
        },
        "id": "u8I8C4IsjfhO",
        "outputId": "5dc8574c-fe98-4503-8561-1ca875abc31b"
      },
      "source": [
        "if np.dot(x_1,x_2)==0 and np.dot(x_1,x_3)==0 and np.dot(x_2,x_3)==0:\n",
        "  print(\"x_1, x_2 y x_3 son ortogonales\")\n",
        "else:\n",
        "  print(\"x_1, x_2 y x_3 no son ortogonales\")"
      ],
      "execution_count": null,
      "outputs": [
        {
          "output_type": "stream",
          "text": [
            "x_1, x_2 y x_3 son ortogonales\n"
          ],
          "name": "stdout"
        }
      ]
    },
    {
      "cell_type": "markdown",
      "metadata": {
        "id": "Y52egvQxj3Ip"
      },
      "source": [
        "**Ejemplo**: Determine si los vectores $\\vec{x_1} = (1,0,0,0)$, $\\vec{x_2}=(0,1,0,0)$, $\\vec{x_3}=(0,0,1,0)$  y $\\vec{x_4}=(2,1,0,0)$son ortogonales."
      ]
    },
    {
      "cell_type": "code",
      "metadata": {
        "id": "kHbOmA25kC_s"
      },
      "source": [
        "x_1 = np.array([1,0,0,0])\n",
        "x_2 = np.array([0,1,0,0])\n",
        "x_3 = np.array([0,0,1,0])\n",
        "x_4 = np.array([2,1,0,0])"
      ],
      "execution_count": null,
      "outputs": []
    },
    {
      "cell_type": "code",
      "metadata": {
        "colab": {
          "base_uri": "https://localhost:8080/"
        },
        "id": "epSqJBqZkLEX",
        "outputId": "06d3c22d-d918-432c-c362-8d5891e03839"
      },
      "source": [
        "conjunto = np.array([np.dot(x_1,x_2), np.dot(x_1,x_3), np.dot(x_1,x_4), \n",
        "                     np.dot(x_2,x_3), np.dot(x_2,x_4),np.dot(x_3,x_4)])\n",
        "\n",
        "if (conjunto == np.zeros_like(conjunto)).all():\n",
        "  print(\"El conjunto es ortogonal\")\n",
        "else:\n",
        "  print(\"El conjunto no es ortogonal\")"
      ],
      "execution_count": null,
      "outputs": [
        {
          "output_type": "stream",
          "text": [
            "El conjunto no es ortogonal\n"
          ],
          "name": "stdout"
        }
      ]
    },
    {
      "cell_type": "markdown",
      "metadata": {
        "id": "rr1koOzQmFvH"
      },
      "source": [
        "### Criterio de ortogonalización\n",
        "\n",
        "Corrobore si $\\vec{x_1} = (-3,4,1)$ y $\\vec{x_2} = (2,2,-2.0003)$ son ortogonales.\n"
      ]
    },
    {
      "cell_type": "code",
      "metadata": {
        "colab": {
          "base_uri": "https://localhost:8080/"
        },
        "id": "ecpglD1gmosT",
        "outputId": "444b6b5a-5320-491a-d2f6-da31211bd422"
      },
      "source": [
        "x_1 = np.array([-3,4,1])\n",
        "x_2 = np.array([2,2,-2.0003])\n",
        "np.dot(x_1,x_2)"
      ],
      "execution_count": null,
      "outputs": [
        {
          "output_type": "execute_result",
          "data": {
            "text/plain": [
              "-0.000300000000000189"
            ]
          },
          "metadata": {
            "tags": []
          },
          "execution_count": 14
        }
      ]
    },
    {
      "cell_type": "markdown",
      "metadata": {
        "id": "aw2d3Myzm_Kh"
      },
      "source": [
        "Obsérvese que los vectores son \"casi\" ortogonales. Esto ocurre con frecuencia, y en los cálculos prácticos será preciso decidir con qué cercanía a cero se aceptará que un producto punto de dos vectores “es cero” y, por lo tanto, que los vectores son ortogonales."
      ]
    },
    {
      "cell_type": "code",
      "metadata": {
        "colab": {
          "base_uri": "https://localhost:8080/"
        },
        "id": "kxuYQgCan0aN",
        "outputId": "2fbf0f3f-d074-42ae-f3b8-5b5598a76d9e"
      },
      "source": [
        "if abs(np.dot(x_1,x_2)) <= 0.0001:\n",
        "  print(\"El conjunto es ortogonal\")\n",
        "else:\n",
        "  print(\"El conjunto no es ortogonal\")"
      ],
      "execution_count": null,
      "outputs": [
        {
          "output_type": "stream",
          "text": [
            "El conjunto no es ortogonal\n"
          ],
          "name": "stdout"
        }
      ]
    },
    {
      "cell_type": "markdown",
      "metadata": {
        "id": "CAlg8RFwoYVE"
      },
      "source": [
        "Con $\\epsilon = 10^{–4} $ los vectores de este ejemplo no son ortogonales. Así pues, $\\epsilon$ usado de esta manera puede llamarse *criterio de ortogonalidad**."
      ]
    },
    {
      "cell_type": "markdown",
      "metadata": {
        "id": "i2MPfKmkor0u"
      },
      "source": [
        "### Ortogonalización\n",
        "\n",
        "La ortogonalización permite construir un conjunto de vectores ortogonales a partir de un conjunto de vectores linealmente independientes."
      ]
    },
    {
      "cell_type": "markdown",
      "metadata": {
        "id": "Zv5ojEHSpUk_"
      },
      "source": [
        "#### Método de Gram-Schmidt\n",
        "\n",
        "Sea $\\vec{x_1}$ y $\\vec{x_2}$ dos vectores linealmente independientes\n",
        "\n",
        "<img src=\"https://drive.google.com/uc?id=1eICDh-a1coVMaK-gd4CmDqLHLVj_IdE8&export=download\" width=\"100%\">\n",
        "\n",
        "Se toma $e_1 = \\vec{x_1}$ y $e_2$ como la componente de $\\vec{x_2}$ perpendicular a $\\vec{x_1}$.\n",
        "\n",
        "De tal manera que\n",
        "\n",
        "$$e_2 = \\vec{x_2}-\\alpha_{1,2}e_1$$\n",
        "\n",
        "Para determinar $\\alpha_{1,2}$ se debe cumplir la condición $e_1\\cdot e_2=0$. Por lo tanto:\n",
        "\n",
        "$$e_1\\cdot e_2 = 0 = \\vec{x_2}\\cdot e_1 - \\alpha_{1,2}e_{1}\\cdot e_1$$\n",
        "\n",
        "por lo que \n",
        "\n",
        "$$\\alpha_{1,2}=\\dfrac{\\vec{x_2}\\cdot e_1}{e_1\\cdot e_1}$$\n",
        "\n",
        "**Ejemplo**: Ortogonalice $\\vec{x_1}=(2,2)$ y $\\vec{x_2}=(3,0)$\n"
      ]
    },
    {
      "cell_type": "code",
      "metadata": {
        "id": "gKMw6Y49w60y"
      },
      "source": [
        "x_1 = np.array([2,2])\n",
        "x_2 = np.array([3,0])"
      ],
      "execution_count": null,
      "outputs": []
    },
    {
      "cell_type": "code",
      "metadata": {
        "colab": {
          "base_uri": "https://localhost:8080/"
        },
        "id": "Q94dcewHxMo-",
        "outputId": "11e03bf7-9d4d-4960-e934-547c9af4fe61"
      },
      "source": [
        "e_1 = np.copy(x_1)\n",
        "e_1"
      ],
      "execution_count": null,
      "outputs": [
        {
          "output_type": "execute_result",
          "data": {
            "text/plain": [
              "array([2, 2])"
            ]
          },
          "metadata": {
            "tags": []
          },
          "execution_count": 17
        }
      ]
    },
    {
      "cell_type": "code",
      "metadata": {
        "colab": {
          "base_uri": "https://localhost:8080/"
        },
        "id": "YcoogLemxjkh",
        "outputId": "8ff54b9d-697f-4cea-c32d-69c2d6d96ab5"
      },
      "source": [
        "alfa_12 = np.dot(x_2,e_1)/np.dot(e_1,e_1)\n",
        "alfa_12"
      ],
      "execution_count": null,
      "outputs": [
        {
          "output_type": "execute_result",
          "data": {
            "text/plain": [
              "0.75"
            ]
          },
          "metadata": {
            "tags": []
          },
          "execution_count": 18
        }
      ]
    },
    {
      "cell_type": "code",
      "metadata": {
        "colab": {
          "base_uri": "https://localhost:8080/"
        },
        "id": "TMNqdJwqyHYu",
        "outputId": "5068f989-d25a-4b61-cd08-1d33ec974e47"
      },
      "source": [
        "e_2 = x_2 - alfa_12*e_1\n",
        "e_2"
      ],
      "execution_count": null,
      "outputs": [
        {
          "output_type": "execute_result",
          "data": {
            "text/plain": [
              "array([ 1.5, -1.5])"
            ]
          },
          "metadata": {
            "tags": []
          },
          "execution_count": 19
        }
      ]
    },
    {
      "cell_type": "markdown",
      "metadata": {
        "id": "8MQU1o6_zznm"
      },
      "source": [
        "**Ejemplo**: Ortogonalice $\\vec{x_1} = (1,1,0)$, $\\vec{x_2} = (0,1,0)$ y $\\vec{x_3} = (1,1,1)$\n",
        "\n",
        "$$\\begin{align*}\n",
        "e_1 &= \\vec{x_1}\\\\\n",
        "e_2 &= \\vec{x_2}-\\alpha_{1,2}e_1\\\\\n",
        "e_3 &= \\vec{x_3}-\\alpha_{1,3}e_1 -\\alpha_{2,3}e_2 \n",
        "\\end{align*}$$\n",
        "\n",
        "$$\\begin{align*}\n",
        "\\alpha_{1,2}&=\\dfrac{\\vec{x_2}\\cdot e_1}{e_1\\cdot e_1}\\\\\n",
        "\\alpha_{1,3}&=\\dfrac{\\vec{x_3}\\cdot e_1}{e_1\\cdot e_1}\\\\\n",
        "\\alpha_{2,3}&=\\dfrac{\\vec{x_3}\\cdot e_2}{e_2\\cdot e_2}\n",
        "\\end{align*}$$"
      ]
    },
    {
      "cell_type": "code",
      "metadata": {
        "id": "jQoqYQxC0F0p"
      },
      "source": [
        "x_1 = np.array([1,1,0])\n",
        "x_2 = np.array([0,1,0])\n",
        "x_3 = np.array([1,1,1])"
      ],
      "execution_count": null,
      "outputs": []
    },
    {
      "cell_type": "code",
      "metadata": {
        "colab": {
          "base_uri": "https://localhost:8080/"
        },
        "id": "lhFJordx0QhC",
        "outputId": "fd205924-3838-43eb-eec6-5e2057302714"
      },
      "source": [
        "e_1 = np.copy(x_1)\n",
        "alfa_12 = np.dot(x_2,e_1)/np.dot(e_1,e_1)\n",
        "alfa_13 = np.dot(x_3,e_1)/np.dot(e_1,e_1)\n",
        "print(alfa_12,alfa_13)"
      ],
      "execution_count": null,
      "outputs": [
        {
          "output_type": "stream",
          "text": [
            "0.5 1.0\n"
          ],
          "name": "stdout"
        }
      ]
    },
    {
      "cell_type": "code",
      "metadata": {
        "colab": {
          "base_uri": "https://localhost:8080/"
        },
        "id": "AO6A6REo2vy4",
        "outputId": "f01ff6e2-a858-405d-db7c-29ebf0572673"
      },
      "source": [
        "e_2 = x_2 - alfa_12*e_1\n",
        "e_2"
      ],
      "execution_count": null,
      "outputs": [
        {
          "output_type": "execute_result",
          "data": {
            "text/plain": [
              "array([-0.5,  0.5,  0. ])"
            ]
          },
          "metadata": {
            "tags": []
          },
          "execution_count": 22
        }
      ]
    },
    {
      "cell_type": "code",
      "metadata": {
        "colab": {
          "base_uri": "https://localhost:8080/"
        },
        "id": "nVo6jZNx2nr2",
        "outputId": "47bee489-0da7-49ce-ae16-317318f9c2fe"
      },
      "source": [
        "alfa_23 = np.dot(x_3,e_2)/np.dot(e_2,e_2)\n",
        "alfa_23"
      ],
      "execution_count": null,
      "outputs": [
        {
          "output_type": "execute_result",
          "data": {
            "text/plain": [
              "0.0"
            ]
          },
          "metadata": {
            "tags": []
          },
          "execution_count": 23
        }
      ]
    },
    {
      "cell_type": "code",
      "metadata": {
        "colab": {
          "base_uri": "https://localhost:8080/"
        },
        "id": "J2LRmiT53FFl",
        "outputId": "579a8a75-6187-4f6f-b1cd-0ffaf6807fb4"
      },
      "source": [
        "e_3 = x_3 - alfa_13*e_1 - alfa_23*e_2\n",
        "e_3"
      ],
      "execution_count": null,
      "outputs": [
        {
          "output_type": "execute_result",
          "data": {
            "text/plain": [
              "array([0., 0., 1.])"
            ]
          },
          "metadata": {
            "tags": []
          },
          "execution_count": 24
        }
      ]
    },
    {
      "cell_type": "markdown",
      "metadata": {
        "id": "IUJ1JPJWF_Bm"
      },
      "source": [
        "**Generalizando el método de Gram-Schmidt para un conjunto de $n$ vectores**\n",
        "\n",
        "Para un conjunto de $n$ vectores $\\vec{x_1}, \\vec{x_2},\\ldots, \\vec{x_n}$ linealmente independientes con $n$ componentes cada uno. Se puede construir un conjunto ortogonal $\\vec{e_1}, \\vec{e_2},\\ldots,\\vec{e_n}$ de la siguiente manera:\n",
        "\n",
        "> **Paso 1**: Hacer $\\vec{e_1} = \\vec{x_1}$\n",
        "\n",
        "> **Paso 2**:  Hacer para cada $i+1$ vector del conjunto\n",
        "\n",
        "$$\\vec{e_{i+1}}= \\vec{x_{i+1}} - \\alpha_{1,i+1}\\vec{e_1} - \\ldots - \\alpha_{i,i+1}\\vec{e_i}\\quad 1\\leq i\\leq n-1$$\n",
        "\n",
        ">> donde\n",
        "\n",
        "$$\\begin{align*}\n",
        "\\alpha_{1,i+1} &= \\dfrac{\\vec{x_{i+1}}\\cdot\\vec{e_1}}{\\vec{e_1}\\cdot\\vec{e_1}}\\\\\n",
        "\\alpha_{2,i+1} &= \\dfrac{\\vec{x_{i+1}}\\cdot\\vec{e_2}}{\\vec{e_2}\\cdot\\vec{e_2}}\\\\\n",
        "\\alpha_{i,i+1} &= \\dfrac{\\vec{x_{i+1}}\\cdot\\vec{e_i}}{\\vec{e_i}\\cdot\\vec{e_i}}\n",
        "\\end{align*}$$\n",
        "\n",
        "\n",
        "**Tarea**: Ortogonalice el siguiente conjunto de vectores linealmente independientes.\n",
        "\n",
        "$$\\begin{align*}\n",
        "\\vec{x_1} &= (2,0,1)\\\\\n",
        "\\vec{x_2} &= (3,2,0)\\\\\n",
        "\\vec{x_3} &= (1,1,1)\n",
        "\\end{align*}$$\n",
        "\n"
      ]
    },
    {
      "cell_type": "markdown",
      "metadata": {
        "id": "-d50cYkKwQnB"
      },
      "source": [
        "## Independencia de conjuntos de vectores\n",
        "\n",
        "Un conjunto de vectores dado $y_1, y_2,\\ldots,y_n$, es linealmente dependiente si por lo menos uno de ellos es combinación lineal de alguno o de todos los vectores restantes. Si ninguno lo es, se dice que es un conjunto linealmente independiente\n",
        "\n",
        "**Ejemplo**: Sea el siguiente conjunto de cuatro vectores de tres elementos cada uno.\n",
        "\n",
        "$$y_1 = [1,4,2],\\,y_2 = [0.1,-3,0],\\,y_3 = [0.5,-15,0],\\,y_4 = [0.03,-0.9,0]$$\n",
        "\n",
        "Determine si es linealmente dependiente o independiente."
      ]
    },
    {
      "cell_type": "code",
      "metadata": {
        "id": "s18Xp2wNs9FN"
      },
      "source": [
        "y1 = np.array([1,4,2])\n",
        "y2 = np.array([0.1,-3.0,0])\n",
        "y3 = np.array([0.5,-15,0])\n",
        "y4 = np.array([0.03,-0.9,0])"
      ],
      "execution_count": null,
      "outputs": []
    },
    {
      "cell_type": "code",
      "metadata": {
        "id": "VWkQlndWymm3",
        "colab": {
          "base_uri": "https://localhost:8080/"
        },
        "outputId": "4915a904-24dd-4799-8736-36dba56fede0"
      },
      "source": [
        "A = np.array([y1,y2,y3,y4]).transpose()\n",
        "A"
      ],
      "execution_count": null,
      "outputs": [
        {
          "output_type": "execute_result",
          "data": {
            "text/plain": [
              "array([[  1.  ,   0.1 ,   0.5 ,   0.03],\n",
              "       [  4.  ,  -3.  , -15.  ,  -0.9 ],\n",
              "       [  2.  ,   0.  ,   0.  ,   0.  ]])"
            ]
          },
          "metadata": {
            "tags": []
          },
          "execution_count": 26
        }
      ]
    },
    {
      "cell_type": "code",
      "metadata": {
        "id": "fp_BGFAjyu2s",
        "colab": {
          "base_uri": "https://localhost:8080/"
        },
        "outputId": "527f179f-e413-4665-b5c7-c06be8ad829f"
      },
      "source": [
        "b = np.zeros(3)\n",
        "b"
      ],
      "execution_count": null,
      "outputs": [
        {
          "output_type": "execute_result",
          "data": {
            "text/plain": [
              "array([0., 0., 0.])"
            ]
          },
          "metadata": {
            "tags": []
          },
          "execution_count": 27
        }
      ]
    },
    {
      "cell_type": "code",
      "metadata": {
        "id": "BfqYo_2Fy38T",
        "colab": {
          "base_uri": "https://localhost:8080/",
          "height": 358
        },
        "outputId": "3c79197b-a88a-444a-c8ef-e0308268239e"
      },
      "source": [
        "np.linalg.solve(A,b)"
      ],
      "execution_count": null,
      "outputs": [
        {
          "output_type": "error",
          "ename": "LinAlgError",
          "evalue": "ignored",
          "traceback": [
            "\u001b[0;31m---------------------------------------------------------------------------\u001b[0m",
            "\u001b[0;31mLinAlgError\u001b[0m                               Traceback (most recent call last)",
            "\u001b[0;32m<ipython-input-28-36718354ad3a>\u001b[0m in \u001b[0;36m<module>\u001b[0;34m()\u001b[0m\n\u001b[0;32m----> 1\u001b[0;31m \u001b[0mnp\u001b[0m\u001b[0;34m.\u001b[0m\u001b[0mlinalg\u001b[0m\u001b[0;34m.\u001b[0m\u001b[0msolve\u001b[0m\u001b[0;34m(\u001b[0m\u001b[0mA\u001b[0m\u001b[0;34m,\u001b[0m\u001b[0mb\u001b[0m\u001b[0;34m)\u001b[0m\u001b[0;34m\u001b[0m\u001b[0;34m\u001b[0m\u001b[0m\n\u001b[0m",
            "\u001b[0;32m<__array_function__ internals>\u001b[0m in \u001b[0;36msolve\u001b[0;34m(*args, **kwargs)\u001b[0m\n",
            "\u001b[0;32m/usr/local/lib/python3.7/dist-packages/numpy/linalg/linalg.py\u001b[0m in \u001b[0;36msolve\u001b[0;34m(a, b)\u001b[0m\n\u001b[1;32m    379\u001b[0m     \u001b[0ma\u001b[0m\u001b[0;34m,\u001b[0m \u001b[0m_\u001b[0m \u001b[0;34m=\u001b[0m \u001b[0m_makearray\u001b[0m\u001b[0;34m(\u001b[0m\u001b[0ma\u001b[0m\u001b[0;34m)\u001b[0m\u001b[0;34m\u001b[0m\u001b[0;34m\u001b[0m\u001b[0m\n\u001b[1;32m    380\u001b[0m     \u001b[0m_assert_stacked_2d\u001b[0m\u001b[0;34m(\u001b[0m\u001b[0ma\u001b[0m\u001b[0;34m)\u001b[0m\u001b[0;34m\u001b[0m\u001b[0;34m\u001b[0m\u001b[0m\n\u001b[0;32m--> 381\u001b[0;31m     \u001b[0m_assert_stacked_square\u001b[0m\u001b[0;34m(\u001b[0m\u001b[0ma\u001b[0m\u001b[0;34m)\u001b[0m\u001b[0;34m\u001b[0m\u001b[0;34m\u001b[0m\u001b[0m\n\u001b[0m\u001b[1;32m    382\u001b[0m     \u001b[0mb\u001b[0m\u001b[0;34m,\u001b[0m \u001b[0mwrap\u001b[0m \u001b[0;34m=\u001b[0m \u001b[0m_makearray\u001b[0m\u001b[0;34m(\u001b[0m\u001b[0mb\u001b[0m\u001b[0;34m)\u001b[0m\u001b[0;34m\u001b[0m\u001b[0;34m\u001b[0m\u001b[0m\n\u001b[1;32m    383\u001b[0m     \u001b[0mt\u001b[0m\u001b[0;34m,\u001b[0m \u001b[0mresult_t\u001b[0m \u001b[0;34m=\u001b[0m \u001b[0m_commonType\u001b[0m\u001b[0;34m(\u001b[0m\u001b[0ma\u001b[0m\u001b[0;34m,\u001b[0m \u001b[0mb\u001b[0m\u001b[0;34m)\u001b[0m\u001b[0;34m\u001b[0m\u001b[0;34m\u001b[0m\u001b[0m\n",
            "\u001b[0;32m/usr/local/lib/python3.7/dist-packages/numpy/linalg/linalg.py\u001b[0m in \u001b[0;36m_assert_stacked_square\u001b[0;34m(*arrays)\u001b[0m\n\u001b[1;32m    202\u001b[0m         \u001b[0mm\u001b[0m\u001b[0;34m,\u001b[0m \u001b[0mn\u001b[0m \u001b[0;34m=\u001b[0m \u001b[0ma\u001b[0m\u001b[0;34m.\u001b[0m\u001b[0mshape\u001b[0m\u001b[0;34m[\u001b[0m\u001b[0;34m-\u001b[0m\u001b[0;36m2\u001b[0m\u001b[0;34m:\u001b[0m\u001b[0;34m]\u001b[0m\u001b[0;34m\u001b[0m\u001b[0;34m\u001b[0m\u001b[0m\n\u001b[1;32m    203\u001b[0m         \u001b[0;32mif\u001b[0m \u001b[0mm\u001b[0m \u001b[0;34m!=\u001b[0m \u001b[0mn\u001b[0m\u001b[0;34m:\u001b[0m\u001b[0;34m\u001b[0m\u001b[0;34m\u001b[0m\u001b[0m\n\u001b[0;32m--> 204\u001b[0;31m             \u001b[0;32mraise\u001b[0m \u001b[0mLinAlgError\u001b[0m\u001b[0;34m(\u001b[0m\u001b[0;34m'Last 2 dimensions of the array must be square'\u001b[0m\u001b[0;34m)\u001b[0m\u001b[0;34m\u001b[0m\u001b[0;34m\u001b[0m\u001b[0m\n\u001b[0m\u001b[1;32m    205\u001b[0m \u001b[0;34m\u001b[0m\u001b[0m\n\u001b[1;32m    206\u001b[0m \u001b[0;32mdef\u001b[0m \u001b[0m_assert_finite\u001b[0m\u001b[0;34m(\u001b[0m\u001b[0;34m*\u001b[0m\u001b[0marrays\u001b[0m\u001b[0;34m)\u001b[0m\u001b[0;34m:\u001b[0m\u001b[0;34m\u001b[0m\u001b[0;34m\u001b[0m\u001b[0m\n",
            "\u001b[0;31mLinAlgError\u001b[0m: Last 2 dimensions of the array must be square"
          ]
        }
      ]
    },
    {
      "cell_type": "markdown",
      "metadata": {
        "id": "BvDbyLE33Pu9"
      },
      "source": [
        "### Rango de una matriz\n",
        "El rango de una matriz es el número de filas (o columnas) linealmente independientes."
      ]
    },
    {
      "cell_type": "code",
      "metadata": {
        "id": "AZnbnUJ12Q2d"
      },
      "source": [
        "rank = np.linalg.matrix_rank(A)\n",
        "rank"
      ],
      "execution_count": null,
      "outputs": []
    },
    {
      "cell_type": "code",
      "metadata": {
        "id": "53D29KOe29Q9"
      },
      "source": [
        "y3==5*y2"
      ],
      "execution_count": null,
      "outputs": []
    },
    {
      "cell_type": "code",
      "metadata": {
        "id": "HQnmkASr4_A8"
      },
      "source": [
        "y4"
      ],
      "execution_count": null,
      "outputs": []
    },
    {
      "cell_type": "code",
      "metadata": {
        "id": "mmhlOuc75vRg"
      },
      "source": [
        "0.3*y2"
      ],
      "execution_count": null,
      "outputs": []
    },
    {
      "cell_type": "markdown",
      "metadata": {
        "id": "3oRjYYlNMwTP"
      },
      "source": [
        "**Ejemplo**: Determinen el rango de la matriz $A$.\n",
        "\n",
        "$$A = \\begin{bmatrix}\n",
        "0 & 0 & 1\\\\\n",
        "5 & 1 & 1\\\\\n",
        "5 & 1 & 1\\\\\n",
        "0 & 0 & 1\n",
        "\\end{bmatrix}$$"
      ]
    },
    {
      "cell_type": "code",
      "metadata": {
        "id": "gDsZo_rk6Ilv"
      },
      "source": [
        "A = np.array([[0,0,1],[5,1,1],[5,1,1],[0,0,1]])\n",
        "np.linalg.matrix_rank(A)"
      ],
      "execution_count": null,
      "outputs": []
    },
    {
      "cell_type": "markdown",
      "metadata": {
        "id": "y2sWv-xQOxxO"
      },
      "source": [
        "Otro forma:"
      ]
    },
    {
      "cell_type": "code",
      "metadata": {
        "id": "SqlyXI3UNryQ"
      },
      "source": [
        "np.linalg.det([[0,0,1],[5,1,1],[5,1,1]])"
      ],
      "execution_count": null,
      "outputs": []
    },
    {
      "cell_type": "code",
      "metadata": {
        "id": "MSQw2zg0N_4T"
      },
      "source": [
        "np.linalg.det([[5,1,1],[5,1,1],[0,0,1]])"
      ],
      "execution_count": null,
      "outputs": []
    },
    {
      "cell_type": "code",
      "metadata": {
        "id": "-VUR-igJOKPh"
      },
      "source": [
        "np.linalg.det([[0,5],[1,1]])"
      ],
      "execution_count": null,
      "outputs": []
    },
    {
      "cell_type": "markdown",
      "metadata": {
        "id": "dvnbfKpVPAtW"
      },
      "source": [
        "### Matriz singular o mal condicionada\n",
        "\n",
        "Cuando el rango de una matriz cuadrada de orden $n$ es menor que $n$, se dice que la matriz es singular. Esto significa también que su determinante es cero. Si las columnas de la matriz son \"casi\" linealmente dependientes, recibe el nombre de casi singular o mal condicionada."
      ]
    },
    {
      "cell_type": "markdown",
      "metadata": {
        "id": "3oOb4ktSQZRE"
      },
      "source": [
        "## Solución de sistemas de ecuaciones lineales\n",
        "\n",
        "Si recordamos, en el **Paso 2** del algoritmo de Newton Raphson para sistemas de ecuaciones _no lineales_,  se tiene que resolver un sistema de ecuacioes lineales que se construye a partir de las funciones y del jacobiano de las funciones no lineales. Muchos de los problemas en ingeniería se reducen a resolver un sistema de ecuaciones lineales.\n",
        "\n",
        "Un sistema de $m$ ecuaciones lineales en $n$ incoógnitas tiene la forma:\n",
        "\n",
        "$$\\begin{matrix}\n",
        "a_{1,1}x_1 & + & a_{1,2}x_2 & + & \\ldots & + & a_{1,n}x_n & = & b_1\\\\\n",
        "a_{2,1}x_1 & + & a_{2,2}x_2 & + & \\ldots & + & a_{1,n}x_n & = & b_1\\\\\n",
        "\\vdots &   &       \\vdots   & + &        &   & \\vdots               \\\\\n",
        "a_{m,1}x_1 & + & a_{m,2}x_2 & + & \\ldots & + & a_{m,n}x_n & = & b_m\\\\\n",
        "\\end{matrix}$$\n",
        "\n",
        "en notación matricial:\n",
        "\n",
        "$$\\begin{align*}\n",
        "\\begin{bmatrix}\n",
        "a_{1,1} &  a_{1,2} &  \\ldots &  a_{1,n}  \\\\\n",
        "a_{2,1} &  a_{2,2} &  \\ldots &  a_{1,n}  \\\\\n",
        "\\vdots  &  \\vdots  &         &  \\vdots   \\\\\n",
        "a_{m,1} &  a_{m,2} &  \\ldots &  a_{m,n} \\\\\n",
        "\\end{bmatrix}\\, \\begin{bmatrix}\n",
        "x_1\\\\\n",
        "x_2\\\\\n",
        "\\vdots\\\\\n",
        "x_m\n",
        "\\end{bmatrix} &= \\begin{bmatrix}\n",
        "b_1\\\\\n",
        "b_2\\\\\n",
        "\\vdots\\\\\n",
        "b_m\n",
        "\\end{bmatrix}\\\\\n",
        "A\\,\\boldsymbol{x}&=\\boldsymbol{b}\n",
        "\\end{align*}$$\n",
        "\n",
        "### Matriz aumentada $B$\n",
        "\n",
        "Se forma con los elementos de la matriz de coefientes $A$ y los del vector $\\boldsymbol{b}$.\n",
        "\n",
        "$$\n",
        "B = \\left[\n",
        "\\begin{array}{cccc|c}\n",
        "a_{1,1} & a_{1,2} & \\ldots & a_{1,n} & b_{1}\\\\\n",
        "a_{2,1} & a_{2,2} & \\ldots & a_{2,n} & b_{2}\\\\\n",
        "\\vdots  & \\vdots  &        & \\vdots  & \\vdots\\\\\n",
        "a_{m,1} & a_{m,2}0 & \\ldots & a_{m,n} & b_{m}\\\\\n",
        "\\end{array}\n",
        "\\right] = \\left[\\begin{array}{c|c}A&\\boldsymbol{b}\\end{array} \\right]\n",
        "$$\n",
        "\n",
        "+ Si $\\boldsymbol{b}=\\boldsymbol{0}$ es un _sistema homogéneo_\n",
        "+ si $\\boldsymbol{b}\\neq \\boldsymbol{0}$ es un _sistema no homogéneo_ \n",
        "+ Si el rango de $A$ es igual al rango de $B$, el sistema es _consistente_\n",
        "> + Un sistema consistente puede tener una solución o un número infinito de soluciones.\n",
        ">> + Si $Rango\\,A = n$, donde $n$ es el número de incógnitas, la solución es única.\n",
        ">> + Si $Rango\\,A < n$, hay un número infinito de soluciones.\n",
        "+ Si el rango de $A$ es diferente al rango de $B$, el sistema es _inconsistente_\n",
        "> + Un sistema inconsistente **no tiene solución**.\n",
        "\n",
        "**Rango:** es el número de columnas o filas que son linealmente independientes. El rango fila y el rango columna siempre son iguales.\n",
        "\n",
        "**Independencia lineal:** dado un conjunto de vectores $\\boldsymbol{v_1},\\, \\boldsymbol{v_2},\\,\\ldots,\\boldsymbol{v_n}$ se dice que son _linealmente independientes_ si :\n",
        "\n",
        "$$a_1\\boldsymbol{v_1} + a_2\\boldsymbol{v_2} + \\ldots + a_n\\boldsymbol{v_n} = \\boldsymbol{0} $$\n",
        "\n",
        "se satiface únicamente cuando $a_1,\\, a_2,\\,\\ldots,a_n $ son todos cero. De lo contrario, se dice qee son linealmente dependientes.\n"
      ]
    },
    {
      "cell_type": "markdown",
      "metadata": {
        "id": "g-nol9zuQ5jR"
      },
      "source": [
        "Python permite calcular el rango de una matriz, para ello, es necesario cargar la bilbioteca numpy,\n",
        "para poder utilizar los método (o funciones) array y rank. Sea el sistema:\n",
        "\n",
        "\n",
        "$$\\begin{matrix}\n",
        "2\\, x_1 & + & 4\\,x_2 &  = & 6\\\\\n",
        "3\\, x_1 & + & 6\\,x_2 &  = & 5\\\\\n",
        "\\end{matrix}$$\n",
        "\n",
        "Calcular el rango de $A$ y de $B$"
      ]
    },
    {
      "cell_type": "code",
      "metadata": {
        "id": "YMVBVp_DOrqL"
      },
      "source": [
        "A = np.array([[2, 4],[3,6]])    # Con array se crea la matriz A\n",
        "m, n = A.shape\n",
        "B = np.array([[2,4,6],[3,6,5]])    # Se crea la matriz B\n",
        "b = np.array([6,5])\n",
        "rango_A = np.linalg.matrix_rank(A)    \n",
        "rango_B = np.linalg.matrix_rank(B)\n",
        "\n",
        "if rango_A == rango_B:\n",
        "  if rango_A == n:\n",
        "    np.linalg.solve(A,b)\n",
        "  elif rango_A < n:\n",
        "    print(\"El sistema tiene un numero infinito de soluciones\")\n",
        "else:\n",
        "  print(\"El sistema es inconsistente\")"
      ],
      "execution_count": null,
      "outputs": []
    },
    {
      "cell_type": "markdown",
      "metadata": {
        "id": "QNvaaVP-RxSM"
      },
      "source": [
        "Si el sistema fuera homogéneo, el rango de $A$ es igual al rango de $B$; de hecho un sistema homogéneo siempre es consistente. \n",
        "\n",
        "$$\\begin{matrix}\n",
        "2\\, x_1 & + & 4\\,x_2 &  = & 0\\\\\n",
        "3\\, x_1 & + & 6\\,x_2 &  = & 0\\\\\n",
        "\\end{matrix}$$"
      ]
    },
    {
      "cell_type": "code",
      "metadata": {
        "id": "40Gc-VtpRART"
      },
      "source": [
        "A = np.array([[2, 4],[3,6]])\n",
        "B = np.array([[2,4],[3,6]])\n",
        "\n",
        "rango_A = np.linalg.matrix_rank(A)    \n",
        "rango_B = np.linalg.matrix_rank(B)\n",
        "\n",
        "rango_A == rango_B"
      ],
      "execution_count": null,
      "outputs": []
    },
    {
      "cell_type": "code",
      "metadata": {
        "id": "j6qZ7Di1TO5r"
      },
      "source": [
        "if rango_A == rango_B:\n",
        "  if rango_A == n:\n",
        "    np.linalg.solve(A,b)\n",
        "  elif rango_A < n:\n",
        "    print(\"El sistema tiene un numero infinito de soluciones\")\n",
        "else:\n",
        "  print(\"El sistema es inconsistente\")"
      ],
      "execution_count": null,
      "outputs": []
    },
    {
      "cell_type": "markdown",
      "metadata": {
        "id": "eqQbFHwkTwKN"
      },
      "source": [
        "### Operaciones elementales\n",
        "\n",
        "+ Cambiar entre sí dos filas, o en su caso columnas.\n",
        "+ Multiplicar una fila(columna) por un número real distinto de cero.\n",
        "+ Sumar a una fila(columna) otra fila(columna) multiplicada por un número real.\n"
      ]
    },
    {
      "cell_type": "markdown",
      "metadata": {
        "id": "TeMCd9xnT1gn"
      },
      "source": [
        "### Métodos directos de solución\n",
        "\n",
        "+ Eliminación Gaussiana\n",
        "\n",
        "Sea el sistema: \n",
        "\n",
        "$$\\begin{matrix}\n",
        "a_{1,1}\\, x_1 & + & a_{1,2}\\,x_2 & + & a_{1,3}\\,x_3 & = & b_1\\\\\n",
        "a_{2,1}\\, x_1 & + & a_{2,2}\\,x_2 & + & a_{2,3}\\,x_3 & = & b_2\\\\\n",
        "a_{3,1}\\, x_1 & + & a_{3,2}\\,x_2 & + & a_{3,3}\\,x_3 & = & b_3\\\\\n",
        "\\end{matrix}$$\n",
        "\n",
        "Se realizan las operaciones elementales de multiplicación y suma hasta llegar a la _triangulización_ del sistema (triangular superior):\n",
        "\n",
        "$$\\begin{matrix}\n",
        "a_{1,1}\\, x_1 & + & a_{1,2}\\,x_2 & + & a_{1,3}\\,x_3 & = & b_1\\\\\n",
        "              &   & a_{2,2}^{\\prime\\prime}\\,x_2 & + & a_{2,3}^{\\prime\\prime}\\,x_3 & = & b_2^{\\prime\\prime}\\\\\n",
        "              &   &                       &   & a_{3,3}^{\\prime\\prime}\\,x_3 & = & b_3^{\\prime\\prime}\\\\\n",
        "\\end{matrix}$$\n",
        "\n",
        "Para resolver el sistema triangulizado, se aplica _sustitución regresiva_.\n",
        "\n",
        "Una vez triangulizado el sistema, se puede calcular el _determinante_ de la matriz $A$ del sistema original.\n",
        "\n",
        "$$\\text{det} A = \\prod_{i=1}^{n}{a_{i,i}}= a_{1,1}\\,a_{2,2}\\ldots a_{n,n}$$\n",
        "\n",
        "+ Eliminación Gauss con pivoteo parcial\n",
        "\n",
        "Se selecciona como pivote el coeficiente de máximo valor absoluto en la columna relevante de la matriz. Se toman las columnas como en el método gaussiano, de modo que se vayan eliminando las incógnitas $(x_1,\\,x_2,\\ldots,x_n)$ en orden natural.\n",
        "\n",
        "+ Eliminación Gauss-Jordan\n",
        "\n",
        "Este método continúa el proceso de triangulización, desde triangular superior hasta obtener una matriz diagonal, y por tanto, no se requiere la sustitución regresiva.\n",
        "\n",
        "> + Inversa de una matriz por Gauss-Jordan\n",
        "\n",
        ">> + La inversa $(A^{-1})$ de una matriz $(A)$, es aquella aquella que al multiplicarla por la matriz original $(A)$, el resultado es la matriz identidad $(I)$.\n",
        "\n",
        "$$A\\,A^{-1}=A^{-1}\\,A=I$$\n",
        "\n",
        ">> + Para que exista la inversa de una matriz, su determinante debe ser distinto de cero.\n",
        "\n",
        "$$\\text{det}A \\neq 0$$\n",
        "\n",
        ">> + Para calcular la inversa, en una misma matriz se coloca en la parte izquierda la matriz $A$, y en la parte derecha la identidad $I$:\n",
        "\n",
        "$$\\left[A|I\\right]$$\n",
        "\n",
        ">>> Se aplica el método de Gauss-Jordan hasta conseguir que en la parte izquierda quede la matriz identidad $(I)$, la matriz resulante en la parte derecha, será la matriz inversa $(A^{-1})$:\n",
        "\n",
        "$$\\left[A|I\\right]\\xrightarrow{Gauss-Jordan}\\left[I|A^{-1}\\right]$$"
      ]
    },
    {
      "cell_type": "markdown",
      "metadata": {
        "id": "0fBF4L3oUD6y"
      },
      "source": [
        "La biblioteca _Numpy_ posee el paquete _linalg_, el cual contiene métodos que permiten resolver sistemas de ecuaciones lineales, calcular el determinante y la inversa de una matriz:\n",
        "\n",
        "+ **solve:** resuelve sistemas de ecuaciones lienales (consistente) de la forma $A\\,\\boldsymbol{x}=\\boldsymbol{b}$\n",
        "\n",
        "+ **inv:** permite calcular la inversa de una matriz\n",
        "\n",
        "+ **det:** calcula el determinante de una matriz\n",
        "\n",
        "Sea el sistema:\n",
        "\n",
        "$$\\begin{matrix}\n",
        "4\\, x_1 & - & 9\\,x_2 & + & 2\\,x_3 & = & 5\\\\\n",
        "2\\, x_1 & - & 4\\,x_2 & + & 6\\,x_3 & = & 3\\\\\n",
        " \\, x_1 & - &  \\,x_2 & + & 3\\,x_3 & = & 4\\\\\n",
        "\\end{matrix}$$\n",
        "\n",
        "1. Resuelva el sistema usando el método _solve_\n",
        "2. Calcule el determinante de matriz de coeficientes usando el método _det_.\n",
        "3. Resuelva el sistema usando la inversa de la matriz de coefientes."
      ]
    },
    {
      "cell_type": "code",
      "metadata": {
        "id": "HyFAGhR6TUwF"
      },
      "source": [
        "# Resolviendo el sistema utilizando el método solve\n",
        "A = np.array([[4,-9,2],[2,-4,6],[1,-1,3]])    # Matriz de coeficientes A\n",
        "b = np.array([5,3,4])    # Vector b\n",
        "x = np.linalg.solve(A,b)    # se llama a la operación solve para resolver el sistema"
      ],
      "execution_count": null,
      "outputs": []
    },
    {
      "cell_type": "code",
      "metadata": {
        "id": "rtXQNDsPUN2t"
      },
      "source": [
        "print(x)"
      ],
      "execution_count": null,
      "outputs": []
    },
    {
      "cell_type": "code",
      "metadata": {
        "id": "Q6_vamntUQ8s"
      },
      "source": [
        "# calculando el determinante de la matriz de coefientes \n",
        "det_A = np.linalg.det(A)"
      ],
      "execution_count": null,
      "outputs": []
    },
    {
      "cell_type": "code",
      "metadata": {
        "id": "jmHuDjqNUVC-"
      },
      "source": [
        "print(det_A)"
      ],
      "execution_count": null,
      "outputs": []
    },
    {
      "cell_type": "markdown",
      "metadata": {
        "id": "2kB2Yg_FUfAP"
      },
      "source": [
        "Para resolver el sistema utilizando la inversa de A, se debe tomar en cuenta que:\n",
        "\n",
        "$$\\boldsymbol{x}=A^{-1}\\boldsymbol{b}$$"
      ]
    },
    {
      "cell_type": "code",
      "metadata": {
        "id": "oc4ftumyUXY5"
      },
      "source": [
        "# Resolviendo el sistema utilizando la inversa\n",
        "\n",
        "inv_A = np.linalg.inv(A)    # Se calcula la inversa llamando a la operación inv"
      ],
      "execution_count": null,
      "outputs": []
    },
    {
      "cell_type": "code",
      "metadata": {
        "id": "5sBpF6f9UjE8"
      },
      "source": [
        "print(inv_A)"
      ],
      "execution_count": null,
      "outputs": []
    },
    {
      "cell_type": "code",
      "metadata": {
        "id": "lWueb1qLUn1n"
      },
      "source": [
        "\"\"\"\n",
        "Para resolver el sistema hay que la realizar, A^-1 b, utilizando el método dot \n",
        "\"\"\"\n",
        "x = np.dot(inv_A,b)"
      ],
      "execution_count": null,
      "outputs": []
    },
    {
      "cell_type": "code",
      "metadata": {
        "id": "hbXKmX7MUoUX"
      },
      "source": [
        "print(x)"
      ],
      "execution_count": null,
      "outputs": []
    },
    {
      "cell_type": "code",
      "metadata": {
        "id": "EB3hEq2vUpRd"
      },
      "source": [
        ""
      ],
      "execution_count": null,
      "outputs": []
    },
    {
      "cell_type": "markdown",
      "metadata": {
        "id": "BkFxhKNhUxpA"
      },
      "source": [
        "#### Sistemas de ecuaciones lineales especiales\n",
        "\n",
        "+ Matrices simétricas\n",
        "> Matriz cuadrada que tiene la característica de ser igual a su transpuesta.\n",
        "$$A=A^{T}$$\n",
        "$$a_{i,j} = a_{j,i}\\, \\text{para todo}\\, i,\\,j\\,\\text{con}\\,i,\\,j = 1,2,3,\\ldots n $$\n",
        "+ Matrices dispersas (gran número de sus elementos son cero)\n",
        "> + Matrices dispersas bandeadas\n",
        "\n",
        ">> + Diagonal\n",
        "\n",
        "$$D = (d_{i,j}),\\, \\text{donde}\\, d_{i,j} = 0\\, \\text{si}\\, i\\neq j $$\n",
        "\n",
        ">> + Tridiagonal\n",
        " \n",
        "$$\\begin{bmatrix}\n",
        "b_1 & c_1 &        &        & 0\\\\\n",
        "a_2 & b_2 & c_2    &        &  \\\\\n",
        "    & a_3 & b_3    & \\ddots &  \\\\\n",
        "    &     & \\ddots & \\ddots & c_{n-1} \\\\\n",
        "0   &     &        & a_n    & b_{n} \\\\\n",
        "\\end{bmatrix} \\, \\begin{bmatrix}\n",
        "x_1\\\\\n",
        "x_2\\\\\n",
        "\\vdots\\\\\n",
        "x_{n-1}\\\\\n",
        "x_n\n",
        "\\end{bmatrix} = \\begin{bmatrix}\n",
        "d_1\\\\\n",
        "d_2\\\\\n",
        "\\vdots\\\\\n",
        "d_{n-1}\\\\\n",
        "d_{n}\n",
        "\\end{bmatrix}$$\n",
        "\n",
        ">> + Pentadiagonal\n",
        "\n",
        "$${\\begin{bmatrix}\n",
        "c_{1}  & d_{1}  & e_{1}  & 0      & \\cdots  & \\cdots  & 0     \\\\\n",
        "b_{1}  & c_{2}  & d_{2}  & e_{2}  & \\ddots  &         & \\vdots \\\\\n",
        "a_{1}  & b_{2}  & \\ddots & \\ddots & \\ddots  & \\ddots  & \\vdots \\\\\n",
        "0      & a_{2}  & \\ddots & \\ddots & \\ddots  & e_{n-3} & 0      \\\\\n",
        "\\vdots & \\ddots & \\ddots & \\ddots & \\ddots  & d_{n-2} & e_{n-2}\\\\\n",
        "\\vdots &        & \\ddots & a_{n-3}& b_{n-2} & c_{n-1} & d_{n-1}\\\\\n",
        "0      & \\cdots & \\cdots & 0      & a_{n-2} & b_{n-1} & c_{n}\n",
        "\\end{bmatrix}}$$\n",
        "\n",
        "El paquete _sparse_ de la biblioteca _scipy_ permite resolver sistemas bandeados (dispersos):\n",
        "\n",
        "+ **spsolve:** resuelve sistemas lineales dispersos de la forma $A\\,\\boldsymbol{x}=\\boldsymbol{b}$, donde $\\boldsymbol{b}$ es un vector.\n",
        "\n",
        "Sea el sistema:\n",
        "\n",
        "$$\\begin{matrix}\n",
        "3\\, x_1 & - & 2\\,    &   &          & = & 1.0\\\\\n",
        " \\, x_1 & + & 5\\,x_2 & - & 0.2\\,x_3 & = & 5.8\\\\\n",
        " \\,     &   & 4\\,x_2 & + & 7\\,x_3   & = & 11.0\\\\\n",
        "\\end{matrix}$$\n",
        "\n",
        " Resuelva el sistema usando los métodos _spsolve_."
      ]
    },
    {
      "cell_type": "markdown",
      "metadata": {
        "id": "ZyUhw1CYUQ3w"
      },
      "source": [
        "##### Método de Thomas para sistemas tridiagonales\n",
        "Sea el sistema:\n",
        "\n",
        "$$\\begin{matrix}\n",
        "b_1\\, x_1  & + & c_1\\,x_2 &   &  & = & d_1\\\\\n",
        "a_2\\,x_1 & + & b_2\\,x_2 & + & c_2\\,x_3 & = & d_2\\\\\n",
        "         &   & a_3\\,x_2 & + & b_3\\,x_3 & = & d_3\\\\\n",
        "\\end{matrix}$$\n",
        "\n",
        "**Aplicando el método de Gauss**\n",
        "\n",
        "> Si $b_1\\neq 0$, se elimina $x_1$ sólo en la segunda ecuación.\n",
        "\n",
        "$$F_2  = F_2 - \\dfrac{a_2}{b_1}F_1$$\n",
        "\n",
        "$$\\begin{align*} \n",
        "(a_2x_1 - \\dfrac{a_2}{b_1}b_1x_1) + b_2x_2 - (\\dfrac{a_2}{b_1}c_1x_2 ) + c_2x_3 = d_2-\\dfrac{a_2}{b_1}d_1\\\\\n",
        "b_2x_2 - (\\dfrac{a_2}{b_1}c_1x_2 ) + c_2x_3 = d_2-\\dfrac{a_2}{b_1}d_1\n",
        "\\end{align*}$$\n",
        "\n"
      ]
    },
    {
      "cell_type": "markdown",
      "metadata": {
        "id": "3LkEN7yJcT8Q"
      },
      "source": [
        "El nuevo sistema es:\n",
        "\n",
        "$$\\begin{matrix}\n",
        "b_1\\, x_1  & + & c_1\\,x_2 &   &  & = & d_1\\\\\n",
        "           &   & b^{'}_2\\,x_2 & + & c^{'}_2\\,x_3 & = & d^{'}_2\\\\\n",
        "         &   & a_3\\,x_2 & + & b_3\\,x_3 & = & d_3\\\\\n",
        "\\end{matrix}$$\n",
        "\n",
        "donde \n",
        "$$\\begin{align*}\n",
        "b^{'}_{2}&= b_2 - \\dfrac{a_2}{b_1}c_1\\\\\n",
        "c^{'}_2 &= c_2\\\\\n",
        "d^{'}_2 &= d_2 - \\dfrac{a_2}{b_1}d_1\n",
        "\\end{align*}$$\n",
        "\n",
        "> Si $b^{'}_2\\neq 0$, $x_2$ se elimina sólo de la tercera ecuación.\n",
        "\n",
        "$$F_3 = F_3 - \\dfrac{a_3}{b^{'}_2}F_2$$\n",
        "\n",
        "$$\\begin{align*}\n",
        "a_3x_2 + b_3x_3 &= d_3\\\\\n",
        "(a_3x_2 - \\dfrac{a_3}{b^{'}_2}b^{'}_2x_2) + (b_3\\,x_3 - \\dfrac{a_3}{b^{'}_2}c^{'}_2x_3) &= (d_3 - \\dfrac{a_3}{b^{'}_2}d^{'}_2) \\\\\n",
        "(b_3\\,x_3 - \\dfrac{a_3}{b^{'}_2}c^{'}_2x_3) &= (d_3 - \\dfrac{a_3}{b^{'}_2}d^{'}_2)\n",
        "\\end{align*}$$"
      ]
    },
    {
      "cell_type": "markdown",
      "metadata": {
        "id": "a06_Oa-7grJP"
      },
      "source": [
        "El nuevo sistema es:\n",
        "\n",
        "$$\\begin{matrix}\n",
        "b_1\\, x_1  & + & c_1\\,x_2 &   &  & = & d_1\\\\\n",
        "           &   & b^{'}_2\\,x_2 & + & c^{'}_2\\,x_3 & = & d^{'}_2\\\\\n",
        "         &   &  &  & b^{'}_3\\,x_3 & = & d^{'}_3\\\\\n",
        "\\end{matrix}$$\n",
        "\n",
        "donde \n",
        "$$\\begin{align*}\n",
        "b^{'}_{3}&= b_3 - \\dfrac{a_3}{b^{'}_2}c^{'}_2\\\\\n",
        "d^{'}_3 &= d_3 - \\dfrac{a_3}{b^{'}_2}d^{'}_2\n",
        "\\end{align*}$$\n"
      ]
    },
    {
      "cell_type": "code",
      "metadata": {
        "id": "Tdr49KafCrA7"
      },
      "source": [
        "# Método de Thomas\n",
        "a = np.array([0,1,4])\n",
        "b = np.array([3,5,7])\n",
        "c = np.array([-2,-0.2,0])\n",
        "d = np.array([1.0,5.8,11.0])\n",
        "N = a.shape[0]\n",
        "x = np.zeros_like(a)\n",
        "\n",
        "for i in range(1,N):\n",
        "  m = a[i-1]/b[i-1]\n",
        "  b[i] = b[i] - m*c[i-1]\n",
        "  d[i] = d[i] - m*d[i-1]\n",
        "   \n",
        "x[-1] = d[-1]/b[-1]\n",
        "for i in range(N-2,-1,-1):\n",
        "  x[i] = (d[i] - c[i]*x[i+1])/b[i]\n",
        "\n",
        "print(x)"
      ],
      "execution_count": null,
      "outputs": []
    },
    {
      "cell_type": "code",
      "metadata": {
        "id": "ifXYp1_1bJQh"
      },
      "source": [
        "from scipy.sparse import csc_matrix\n",
        "from scipy.sparse.linalg import spsolve\n",
        "\n",
        "\"\"\"\n",
        "csc_matrix sirve para crear una matriz de columna dispersa comprimida, tal cual lo requiere \n",
        "el método spsolve.\n",
        "\"\"\"\n",
        "A = csc_matrix([[3,-2,0],[1,5,-0.2],[0,4,7]])    # Se crea la matriz A\n",
        "b = np.array([1.0,5.8,11.0])"
      ],
      "execution_count": null,
      "outputs": []
    },
    {
      "cell_type": "code",
      "metadata": {
        "id": "0WgxOTCNbQIa"
      },
      "source": [
        "x =spsolve(A,b)    # Se resulve el sistema con el método spsolve\n",
        "x"
      ],
      "execution_count": null,
      "outputs": []
    },
    {
      "cell_type": "markdown",
      "metadata": {
        "id": "d2Oda1ilTGvi"
      },
      "source": [
        "### Métodos de factorización\n",
        "\n"
      ]
    },
    {
      "cell_type": "markdown",
      "metadata": {
        "id": "PmT_ibg-WdI0"
      },
      "source": [
        "#### Factorización de matrices en matrices triangulares\n",
        "\n",
        "Sea el sistema:\n",
        "\n",
        "$$\\begin{matrix}\n",
        "4\\, x_1 & - & 9\\,x_2 & + & 2\\,x_3 & = & 5\\\\\n",
        "2\\, x_1 & - & 4\\,x_2 & + & 6\\,x_3 & = & 3\\\\\n",
        " \\, x_1 & - &  \\,x_2 & + & 3\\,x_3 & = & 4\\\\\n",
        "\\end{matrix}$$\n",
        "\n",
        "Aplicando eliminación Gaussiana sin hacer 1 los elementos de la diagonal principal, se tiene el siguiente sistema equivalente: \n",
        "\n",
        "$$\\left[\n",
        "\\begin{array}{ccc|c}\n",
        "4 & -9 & 2 & 5\\\\\n",
        "0 & 0.5 & 5 & 0.5\\\\\n",
        "0 & 0 & -10 & 1.5\\\\\n",
        "\\end{array}\n",
        "\\right]$$\n",
        "\n",
        "A la matriz de coeficientes del sistema anterior se le denotará como $U$\n",
        "\n",
        "$$U = \\left[\n",
        "\\begin{array}{ccc}\n",
        "4 & -9 & 2  \\\\\n",
        "0 & 0.5 & 5 \\\\\n",
        "0 & 0 & -10\\\\\n",
        "\\end{array}\n",
        "\\right]$$\n",
        "\n",
        "Ahora se define una matriz triangular inferior $L$ del mismo orden que $A$, con $1$ en la diagonal principal y con $l_{i,j}$ igual al factor (cociente) que permitió eliminar el elemento $a_{i,j}$ que dio lugar a $U$. Por ejemplo, para hacer $0$ a $a_{2,1} = 2$ se utilizó el cociente $l_{2,1}=2/4$.\n",
        "\n",
        "$$L = \\left[\n",
        "\\begin{array}{ccc}\n",
        "1 & 0 & 0  \\\\\n",
        "\\frac{2}{4} & 1 & 0 \\\\\n",
        "\\frac{1}{4} & \\frac{1.25}{0.5} &1\\\\\n",
        "\\end{array}\n",
        "\\right]$$"
      ]
    },
    {
      "cell_type": "markdown",
      "metadata": {
        "id": "6nAteoq6WtnC"
      },
      "source": [
        "El producto de $LU$ resulta en $A$"
      ]
    },
    {
      "cell_type": "code",
      "metadata": {
        "id": "m0rkPb1RbvDf"
      },
      "source": [
        "A = np.array([[4,-9,2],[2,-4,6],[1,-1,3]]) \n",
        "U = np.array([[4,-9,2],[0,0.5,5],[0,0,-10]])\n",
        "L = np.array([[1,0,0],[2/4,1,0],[1/4,1.25/0.5,1]])\n",
        "np.dot(L,U)"
      ],
      "execution_count": null,
      "outputs": []
    },
    {
      "cell_type": "code",
      "metadata": {
        "id": "_mIxZC4s7ml6"
      },
      "source": [
        "np.allclose(A,np.dot(L,U))"
      ],
      "execution_count": null,
      "outputs": []
    },
    {
      "cell_type": "code",
      "metadata": {
        "id": "14X8BklE8auT"
      },
      "source": [
        "np.allclose(A-np.dot(L,U),np.zeros_like(A))"
      ],
      "execution_count": null,
      "outputs": []
    },
    {
      "cell_type": "markdown",
      "metadata": {
        "id": "FWVxPfv3Y4I7"
      },
      "source": [
        "El resultado anterior permite reescribir el sistema $A\\boldsymbol{x} = \\boldsymbol{b}$, ya que sustituyendo $A$ por $L U$ se tiene\n",
        "\n",
        "$$\\begin{align*}\n",
        "LU\\boldsymbol{x}&=\\boldsymbol{b}\\\\\n",
        "\\end{align*}$$\n",
        "\n",
        "Para resolver el sistema:\n",
        "\n",
        "> **Paso 1:** se hace $U\\boldsymbol{x} = \\boldsymbol{c}$, donde $\\boldsymbol{c}$ es un vector desconocido $[c_1,c_2,c_3,\\ldots,c_n]^T$ que se obtiene al resolver \n",
        "\n",
        "$$L\\boldsymbol{c}=\\boldsymbol{b}$$\n",
        "\n",
        "> con sustitución progresiva hacia adelante.\n",
        "\n",
        "> **Paso 2**: Una vez obtenido $\\boldsymbol{c}$, se resuelve para $\\boldsymbol{x}$\n",
        "\n",
        "$$U\\boldsymbol{x}=\\boldsymbol{c}$$\n",
        "\n",
        "> con sustitución regresiva."
      ]
    },
    {
      "cell_type": "markdown",
      "metadata": {
        "id": "p6bU3gDhS1ew"
      },
      "source": [
        "#### Factorización Doolitle y Crout\n",
        "\n",
        "Analizando la factorización de $A$\n",
        "\n",
        "$$\\left[\n",
        "\\begin{array}{ccc}\n",
        "l_{1,1} & 0 & 0 \\\\\n",
        "l_{2,1} & l_{2,2} & 0 & \\\\\n",
        "l_{3,1} & l_{3,3} & l_{3,3} & \\\\\n",
        "\\end{array}\n",
        "\\right] \\left[\n",
        "\\begin{array}{ccc}\n",
        "U_{1,1} & U_{1,2} & U_{1,3}\\\\\n",
        "0       & U_{2,2} & U_{2,3} & \\\\\n",
        "0       & 0       & U_{3,3} & \\\\\n",
        "\\end{array}\n",
        "\\right] = \\left[\n",
        "\\begin{array}{ccc}\n",
        "a_{1,1} & a_{1,2} & a_{1,3}\\\\\n",
        "a_{2,1} & a_{2,2} & a_{2,3} & \\\\\n",
        "a_{3,1} & a_{3,2} & a_{3,3} & \\\\\n",
        "\\end{array}\n",
        "\\right]$$\n",
        "\n",
        "se observa que:\n",
        "\n",
        "> $a_{1,1}, a_{1,2}$ y $a_{1,3}$, es decir la $F^A_1$, se obtiene al multiplicar $F^L_1$ por cada una de las columnas de $U$.\n",
        "\n",
        "$$\\begin{align*}\n",
        "\\text{Sistema 1}\\\\\n",
        "l_{1,1}u_{1,1} &= a_{1,1}\\\\\n",
        "l_{1,1}u_{1,2} &= a_{1,2}\\\\\n",
        "l_{1,1}u_{1,3} &= a_{1,3}\\\\\n",
        "\\end{align*}$$\n",
        "\n",
        "> $a_{2,1}, a_{2,2}$ y $a_{2,3}$, es decir la $F^A_2$, se obtiene al multiplicar $F^L_2$ por cada una de las columnas de $U$.\n",
        "\n",
        "$$\\begin{align*}\n",
        "\\text{Sistema 2}\\\\\n",
        "l_{2,1}u_{1,1} &= a_{2,1}\\\\\n",
        "l_{2,1}u_{1,2} + l_{2,2}u_{2,2}  &= a_{2,2}\\\\\n",
        "l_{2,1}u_{1,3} + l_{2,2}u_{2,3}&= a_{2,3}\\\\\n",
        "\\end{align*}$$\n",
        "\n",
        "> > $a_{3,1}, a_{3,2}$ y $a_{3,3}$, es decir la $F^A_3$, se obtiene al multiplicar $F^L_3$ por cada una de las columnas de $U$.\n",
        "\n",
        "$$\\begin{align*}\n",
        "\\text{Sistema 3}\\\\\n",
        "l_{3,1}u_{1,1} &= a_{3,1}\\\\\n",
        "l_{3,1}u_{1,2} + l_{3,2}u_{2,2}  &= a_{3,2}\\\\\n",
        "l_{3,1}u_{1,3} + l_{3,2}u_{2,3} + l_{3,3}u_{3,3}&= a_{3,3}\\\\\n",
        "\\end{align*}$$\n",
        "\n",
        "Se llega a un sistema de nueve ecuaciones con 12 incógnitas.\n",
        "> Si se toma $l_{1,1} = l_{2,2} = l_{3,3} = 1$ se obtiene el método de Doolitle.\n",
        "\n",
        "> Si se toma $U_{1,1} = U_{2,2} = U_{3,3} = 1$ se obtiene el método de Crout.\n",
        "\n"
      ]
    },
    {
      "cell_type": "markdown",
      "metadata": {
        "id": "D_jChy6PYi3M"
      },
      "source": [
        "##### Factorización Doolitle\n",
        "\n",
        "**Paso 1**: Haciendo $l_{1,1} = l_{2,2} = l_{3,3} = 1$\n",
        "\n",
        "Del _Sistema 1_, se tiene\n",
        "\n",
        "$$\\begin{align*}\n",
        "u_{1,1} &= a_{1,1}\\\\\n",
        "u_{1,2} &= a_{1,2}\\\\\n",
        "u_{1,3} &= a_{1,3}\\\\\n",
        "\\end{align*}$$\n",
        "\n",
        "**Paso 2**: Sustituyendo los resultados del **Paso** anterior en el _Sistema 2_, se tiene\n",
        "\n",
        "$$\\begin{align*}\n",
        "l_{2,1} &= \\dfrac{a_{2,1}}{u_{1,1}} = \\dfrac{a_{2,1}}{a_{1,1}}\\\\\n",
        "u_{2,2} &= a_{2,2} - l_{2,1}u_{1,2} = a_{2,2}- \\dfrac{a_{2,1}}{u_{1,1}}a_{1,2}\\\\\n",
        "u_{2,3} &= a_{2,3} - l_{2,1}u_{1,3} = a_{2,3}- \\dfrac{a_{2,1}}{u_{1,1}}a_{1,3}\n",
        "\\end{align*}$$\n",
        "\n",
        "**Paso 3**: Sustituyendo los resultados de los **Pasos** anteriores en el _Sistema 3_, se tiene\n",
        "\n",
        "$$\\begin{align*}\n",
        "l_{3,1} &= \\dfrac{a_{3,1}}{u_{1,1}} = \\dfrac{a_{3,1}}{a_{1,1}}\\\\\n",
        "l_{3,2} &= \\dfrac{a_{3,2}-l_{3,1}u_{1,2}}{u_{2,2}} =\\dfrac{a_{3,2}-\\dfrac{a_{3,1}}{a_{1,1}}a_{1,2}}{a_{2,2}-\\dfrac{a_{2,1}}{a_{1,1}}a_{1,2}}\\\\\n",
        "u_{3,3} &= a_{3,3}-l_{3,1}u_{1,3}-l_{3,2}u_{2,3} = a_{3,3}-\\dfrac{a_{3,1}}{a_{1,1}}a_{1,3}-\\left[\\dfrac{a_{3,2}-\\dfrac{a_{3,1}}{a_{1,1}}a_{1,2}}{a_{2,2}-\\dfrac{a_{2,1}}{a_{1,1}}a_{1,2}} \\right]\\left[a_{2,3}- \\dfrac{a_{2,1}}{u_{1,1}}a_{1,3} \\right]\n",
        "\\end{align*}$$\n",
        "\n",
        "Las ecuaciones anteriores conviene generalizarlas para poder programarlas.\n",
        "\n",
        "$$\\begin{align*}\n",
        "u_{i,j} &= a_{i,j} - \\sum_{k=1}^{i-1}l_{i,k}u_{k,j};j=i,i+1,\\ldots,n\\\\\n",
        "l_{i,j} &= \\dfrac{1}{u_{j,j}}\\left(a_{i,j}-\\sum_{k=1}^{j-1}u_{k,j}l_{i,k}\\right); i=j+1,\\ldots,n\\\\\n",
        "l_{i,i}&=1;i=1,2,\\ldots,n\n",
        "\\end{align*}$$\n",
        "\n",
        "**Ejemplo** Resuelva por el método de Doolitle el sistema \n",
        "\n",
        "$$\\begin{matrix}\n",
        "4\\, x_1 & - & 9\\,x_2 & + & 2\\,x_3 & = & 5\\\\\n",
        "2\\, x_1 & - & 4\\,x_2 & + & 6\\,x_3 & = & 3\\\\\n",
        " \\, x_1 & - &  \\,x_2 & + & 3\\,x_3 & = & 4\\\\\n",
        "\\end{matrix}$$"
      ]
    },
    {
      "cell_type": "code",
      "metadata": {
        "id": "PMUEBzrJXR-k"
      },
      "source": [
        "from scipy.linalg import lu\n",
        "A = np.array([[4,9,2],[2,-4,6],[1,-1,3]])\n",
        "b = np.array([5,3,4])\n",
        "p,l,u = lu(A)"
      ],
      "execution_count": null,
      "outputs": []
    },
    {
      "cell_type": "markdown",
      "metadata": {
        "id": "03pevBBC0CMj"
      },
      "source": [
        "$$\\begin{align*}\n",
        "A\\boldsymbol{x}&=\\boldsymbol{b}\\\\\n",
        "PA\\boldsymbol{x}&=P\\boldsymbol{b}\\\\\n",
        "PLU\\boldsymbol{x}&=P\\boldsymbol{b}\n",
        "\\end{align*}$$"
      ]
    },
    {
      "cell_type": "code",
      "metadata": {
        "id": "Hv5Y4W5giaPz"
      },
      "source": [
        "l"
      ],
      "execution_count": null,
      "outputs": []
    },
    {
      "cell_type": "code",
      "metadata": {
        "id": "NmLXhyDBicTx"
      },
      "source": [
        "u"
      ],
      "execution_count": null,
      "outputs": []
    },
    {
      "cell_type": "code",
      "metadata": {
        "id": "BPgL2SoridDp"
      },
      "source": [
        "p"
      ],
      "execution_count": null,
      "outputs": []
    },
    {
      "cell_type": "code",
      "metadata": {
        "id": "vw5mWcp1idjR"
      },
      "source": [
        "np.allclose(A - p @ l @ u, np.zeros_like(A))"
      ],
      "execution_count": null,
      "outputs": []
    },
    {
      "cell_type": "code",
      "metadata": {
        "id": "1f5wQo5q1D2P"
      },
      "source": [
        "p@b"
      ],
      "execution_count": null,
      "outputs": []
    },
    {
      "cell_type": "code",
      "metadata": {
        "id": "26QDIO7i1L2E"
      },
      "source": [
        "b@p"
      ],
      "execution_count": null,
      "outputs": []
    },
    {
      "cell_type": "code",
      "metadata": {
        "id": "Rz2-860djGyR"
      },
      "source": [
        "c = np.linalg.solve(l,b)\n",
        "c"
      ],
      "execution_count": null,
      "outputs": []
    },
    {
      "cell_type": "code",
      "metadata": {
        "id": "hfwDITGpkfRY"
      },
      "source": [
        "x = np.linalg.solve(u,c)\n",
        "x"
      ],
      "execution_count": null,
      "outputs": []
    },
    {
      "cell_type": "code",
      "metadata": {
        "id": "reN0es5nCFM-"
      },
      "source": [
        "np.allclose(np.dot(A,x),b)"
      ],
      "execution_count": null,
      "outputs": []
    },
    {
      "cell_type": "markdown",
      "metadata": {
        "id": "v_Qa6KBdmT5E"
      },
      "source": [
        "**Ejemplo**: Resuelva\n",
        "\n",
        "$$\\begin{matrix}\n",
        "10\\, x_1 & + & \\,x_2 & - & 5\\,x_3 & = & 1\\\\\n",
        "-20\\, x_1 & + & 3\\,x_2 & + & 20\\,x_3 & = & 2\\\\\n",
        " 5\\, x_1 & + &  3\\,x_2 & + & 5\\,x_3 & = & 6\\\\\n",
        "\\end{matrix}$$"
      ]
    },
    {
      "cell_type": "code",
      "metadata": {
        "id": "Ofc1fmSBmHM7"
      },
      "source": [
        "A = np.array([[10,1,-5],[-20,3,20],[5,3,5]])\n",
        "b = np.array([1,2,6])\n",
        "p,l,u = lu(A)"
      ],
      "execution_count": null,
      "outputs": []
    },
    {
      "cell_type": "code",
      "metadata": {
        "id": "SkcFjPIinLwK"
      },
      "source": [
        "p"
      ],
      "execution_count": null,
      "outputs": []
    },
    {
      "cell_type": "code",
      "metadata": {
        "id": "4OP5OoibnMli"
      },
      "source": [
        "l"
      ],
      "execution_count": null,
      "outputs": []
    },
    {
      "cell_type": "code",
      "metadata": {
        "id": "gwBO9SvVnNx8"
      },
      "source": [
        "u"
      ],
      "execution_count": null,
      "outputs": []
    },
    {
      "cell_type": "code",
      "metadata": {
        "id": "NiMsj6DdnO76"
      },
      "source": [
        "np.allclose(A - p @ l @ u, np.zeros_like(A))"
      ],
      "execution_count": null,
      "outputs": []
    },
    {
      "cell_type": "code",
      "metadata": {
        "id": "6qWgKj_F1R07"
      },
      "source": [
        "p@b"
      ],
      "execution_count": null,
      "outputs": []
    },
    {
      "cell_type": "code",
      "metadata": {
        "id": "-qTnPZK11bG_"
      },
      "source": [
        "b@p"
      ],
      "execution_count": null,
      "outputs": []
    },
    {
      "cell_type": "code",
      "metadata": {
        "id": "te_l-oq5sTLw"
      },
      "source": [
        "c = np.linalg.solve(l,b@p)\n",
        "c"
      ],
      "execution_count": null,
      "outputs": []
    },
    {
      "cell_type": "code",
      "metadata": {
        "id": "JcAozYlYsnhr"
      },
      "source": [
        "x = np.linalg.solve(u,c)"
      ],
      "execution_count": null,
      "outputs": []
    },
    {
      "cell_type": "code",
      "metadata": {
        "id": "39t17D7mzd5R"
      },
      "source": [
        "x"
      ],
      "execution_count": null,
      "outputs": []
    },
    {
      "cell_type": "markdown",
      "metadata": {
        "id": "IadE45nj19Zz"
      },
      "source": [
        "Otro ejemplo"
      ]
    },
    {
      "cell_type": "code",
      "metadata": {
        "colab": {
          "base_uri": "https://localhost:8080/"
        },
        "id": "cxUoKLwZze7J",
        "outputId": "87f1b182-252a-4554-8ea6-0983b1dde18f"
      },
      "source": [
        "from scipy.linalg import lu_factor, lu_solve\n",
        "A = np.array([[2, 5, 8, 7], [5, 2, 2, 8], [7, 5, 6, 6], [5, 4, 4, 8]])\n",
        "b = np.array([1, 1, 1, 1])\n",
        "lu, piv = lu_factor(A)\n",
        "x = lu_solve((lu, piv), b)\n",
        "np.allclose(A @ x - b, np.zeros_like(b))"
      ],
      "execution_count": null,
      "outputs": [
        {
          "output_type": "execute_result",
          "data": {
            "text/plain": [
              "True"
            ]
          },
          "metadata": {
            "tags": []
          },
          "execution_count": 29
        }
      ]
    },
    {
      "cell_type": "code",
      "metadata": {
        "colab": {
          "base_uri": "https://localhost:8080/"
        },
        "id": "bGRVi0ODFoe3",
        "outputId": "8391283d-5d19-4989-f1d5-1ed6141b5ffd"
      },
      "source": [
        "lu"
      ],
      "execution_count": null,
      "outputs": [
        {
          "output_type": "execute_result",
          "data": {
            "text/plain": [
              "array([[ 7.        ,  5.        ,  6.        ,  6.        ],\n",
              "       [ 0.28571429,  3.57142857,  6.28571429,  5.28571429],\n",
              "       [ 0.71428571,  0.12      , -1.04      ,  3.08      ],\n",
              "       [ 0.71428571, -0.44      , -0.46153846,  7.46153846]])"
            ]
          },
          "metadata": {
            "tags": []
          },
          "execution_count": 30
        }
      ]
    },
    {
      "cell_type": "code",
      "metadata": {
        "colab": {
          "base_uri": "https://localhost:8080/"
        },
        "id": "NfwRRon4FtqV",
        "outputId": "4b610f89-3d41-4a72-f02f-b56b0b5a5fce"
      },
      "source": [
        "piv\n"
      ],
      "execution_count": null,
      "outputs": [
        {
          "output_type": "execute_result",
          "data": {
            "text/plain": [
              "array([2, 2, 3, 3], dtype=int32)"
            ]
          },
          "metadata": {
            "tags": []
          },
          "execution_count": 31
        }
      ]
    },
    {
      "cell_type": "code",
      "metadata": {
        "colab": {
          "base_uri": "https://localhost:8080/"
        },
        "id": "nzFkNkRD3bzl",
        "outputId": "c6a0ce4a-dc70-42ea-869a-8503e069c335"
      },
      "source": [
        "x"
      ],
      "execution_count": null,
      "outputs": [
        {
          "output_type": "execute_result",
          "data": {
            "text/plain": [
              "array([ 0.05154639, -0.08247423,  0.08247423,  0.09278351])"
            ]
          },
          "metadata": {
            "tags": []
          },
          "execution_count": 32
        }
      ]
    },
    {
      "cell_type": "code",
      "metadata": {
        "id": "r3FKeF4J3dyl"
      },
      "source": [
        ""
      ],
      "execution_count": null,
      "outputs": []
    }
  ]
}