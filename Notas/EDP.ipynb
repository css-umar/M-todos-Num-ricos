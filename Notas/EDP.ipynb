{
  "nbformat": 4,
  "nbformat_minor": 0,
  "metadata": {
    "colab": {
      "name": "EDP.ipynb",
      "provenance": [],
      "collapsed_sections": [],
      "toc_visible": true
    },
    "kernelspec": {
      "name": "python3",
      "display_name": "Python 3"
    },
    "language_info": {
      "name": "python"
    }
  },
  "cells": [
    {
      "cell_type": "code",
      "metadata": {
        "id": "uXDogppKtoLN"
      },
      "source": [
        "import numpy as np\n",
        "import matplotlib.pyplot as plt\n",
        "import pandas as pd\n",
        "from scipy.sparse import csc_matrix\n",
        "from scipy.sparse.linalg import spsolve"
      ],
      "execution_count": null,
      "outputs": []
    },
    {
      "cell_type": "markdown",
      "metadata": {
        "id": "lspgJ9qD06gY"
      },
      "source": [
        "# Ecuaciones diferenciales parciales (EDP)\n",
        "\n",
        "\n",
        "Estas ecuaciones involucra una función que depende de más una variable independiente, por ejemplo:\n",
        "\n",
        "$$ PVF =\n",
        "  \\begin{cases}\n",
        "    \\dfrac{\\partial^2 y}{\\partial t^2} &= c^2 \\dfrac{\\partial^2 y}{\\partial x^2}\\quad \\text{Ecuación diferencial parcial}\\\\\n",
        "y(x,0) &= f(x),\\, 0 < x < L\\quad \\text{Condición inicial}\\\\\n",
        "y(0,t) &= 0,\\, t>0 \\quad \\text{Condición de frontera 1}\\\\\n",
        "y(L,t) &= 0,\\, t>0 \\quad \\text{Condición de frontera 2}\n",
        "  \\end{cases}\n",
        "$$\n",
        "\n",
        "La función que satisface el problema anterior, es una función $y(x,t)$, la cual debe describir la posición en un tiempo $t$.\n",
        "\n",
        "\n",
        "\n",
        "\n"
      ]
    },
    {
      "cell_type": "markdown",
      "metadata": {
        "id": "HrUnk7-W5-D1"
      },
      "source": [
        "## Clasificación \n",
        "\n",
        "Partiendo de un modelo general:\n",
        "\n",
        "$$A(x,y)\\dfrac{\\partial^2 U}{\\partial x^2} + B(x,y)\\dfrac{\\partial^2 U}{\\partial x\\partial y} + C(x,y)\\dfrac{\\partial^2 U}{\\partial y^2} = F\\left(x,y,\\dfrac{\\partial U}{\\partial x}, \\dfrac{\\partial U}{\\partial y}\\right)$$\n",
        "\n",
        "dependiendo de la valores de $A(x,y), B(x,y)$ y $C(x,y)$, la EDP puede ser \n",
        "\n",
        "1. Elíptica en $(a,b)$ si:\n",
        " $$B^2(a,b) - 4A(a,b) C(a,b) < 0 $$\n",
        "\n",
        "2. Parabólica en $(a,b)$ si:\n",
        " $$B^2(a,b) - 4A(a,b) C(a,b) = 0 $$\n",
        "\n",
        "1. Hiperbólica en $(a,b)$ si:\n",
        " $$B^2(a,b) - 4A(a,b) C(a,b) > 0 $$"
      ]
    },
    {
      "cell_type": "markdown",
      "metadata": {
        "id": "sISqiET17it4"
      },
      "source": [
        "## Aproximación de derivadas por diferencias finitas\n",
        "\n",
        "Partiendo de que para expandir una función $f(x)$ diferenciable alrededor de un punto $x_i$ se puede usar serie de Taylor:\n",
        "\n",
        "$$f(x_i + h) = f(x_i) + hf'(x_i)  + \\dfrac{h^2}{2!}f''(x_i) + \\dfrac{h^3}{3!}f'''(x_i) + \\ldots$$\n",
        "\n",
        "En difrencias finitas, en lugar de estimar el valor de la función, lo que se busca es aproximar la derivada de $f(x)$ en $x_i$ a partir de los valores $f(x_i)$, ya sea en:\n",
        "\n",
        "+ diferencias hacia adelante, $x_i + h$\n",
        "\n",
        "+ diferencias hacia atrás, $x_i - h$ \n",
        "\n",
        "+ diferencias centrales, un promedio de las dos anteriores.\n",
        "\n",
        "![texto del enlace](https://upload.wikimedia.org/wikipedia/commons/3/3b/Latex.draw.tex.png)\n",
        "\n",
        "Veamos cómo se realiza:\n",
        "\n",
        "### Primera derivada de $f(x)$\n",
        "\n",
        "> **Diferencias hacia adelante**\n",
        ">> _Consideraciones_\n",
        ">>> + $h>0$\n",
        ">>> + $h\\ll1$\n",
        ">>>> Se pueden despreciar el lado derecho depués del segundo término en la expansión de $f(x)$ en series de Taylor, con lo cual queda:\n",
        "\n",
        "$$f(x_i + h) = f(x_i) + hf'(x_i)  $$\n",
        "\n",
        ">>>> Resolviendo para $f'(x_i)$\n",
        "\n",
        "$$f'(x_i) = \\dfrac{df}{dx}|{x_i}\\approx \\dfrac{f(x_i + h) - f(x_i)}{h} $$\n",
        "\n",
        "\n",
        "> **Diferencias hacia atrás**\n",
        "\n",
        "> Ahora se resta $h$ en la expansión de $f(x)$ por series de Taylor.\n",
        "\n",
        "$$f(x_i - h) = f(x_i) - hf'(x_i)  + \\dfrac{h^2}{2!}f''(x_i) - \\dfrac{h^3}{3!}f'''(x_i) + \\ldots$$\n",
        "\n",
        ">> _Consideraciones_\n",
        ">>> + $h>0$\n",
        ">>> + $h\\ll1$\n",
        ">>>> Se pueden despreciar el lado derecho depués del segundo término en la expansión de $f(x)$ en series de Taylor, con lo cual queda:\n",
        "\n",
        "$$f(x_i - h) = f(x_i) - hf'(x_i)  $$\n",
        "\n",
        ">>>> Resolviendo para $f'(x_i)$\n",
        "\n",
        "$$f'(x_i) = \\dfrac{df}{dx}|_{x_i} \\approx \\dfrac{ f(x_i)-f(x_i - h)}{h} $$\n",
        "\n",
        "> **Diferencias centrales**\n",
        "\n",
        "> Sumando miembro a miembro las diferencias hacia adelante y hacia atrás, se tiene\n",
        "\n",
        "$$\\begin{align*}\n",
        "2\\dfrac{df}{dx}|_{x_i} &\\approx \\dfrac{ f(x_i)-f(x_i - h)}{h} +  \\dfrac{f(x_i + h) - f(x_i)}{h}\\\\\n",
        "\\dfrac{df}{dx}|_{x_i} &\\approx \\dfrac{ f(x_i + h)-f(x_i - h)}{2h}\\\\\n",
        "\\end{align*}$$\n",
        "\n",
        "\n",
        "### Segunda derivada de $f(x)$\n",
        "\n",
        "En el caso de segundas derivadas $(f''(x))$, se puede hacer un ejercicio similar para obtener diferencias centrales, pero ahora considerando más términos en la expansión de $f(x_i)$.\n",
        "\n",
        "$$f''(x)=\\dfrac{d^2f}{dx^2}|_{x_i}\\approx\\dfrac{f(x_i + h)-2f(x_i)+f(x_i-h)}{h^2}$$\n",
        "\n",
        "### Derivadas parciales en el caso de funciones con más de una variable independiente, por ejemplo $T(x,t)$\n",
        "\n",
        "> **Diferencias hacia adelante** en un punto $(x_j,t_j)$\n",
        "\n",
        ">> + $\\dfrac{\\partial T}{\\partial x}|_{(x_i,t_j)}\\approx \\dfrac{T(x_i + a,t_j)-T(x_i,t_j)}{a}$ con $a>0$\n",
        "\n",
        ">> + $\\dfrac{\\partial T}{\\partial t}|_{(x_i,t_j)}\\approx \\dfrac{T(x_i,t_j + b)-T(x_i,t_j)}{b}$ con $b>0$\n",
        "\n",
        "> **Diferencias hacia atrás** en un punto $(x_j,t_j)$\n",
        "\n",
        ">> + $\\dfrac{\\partial T}{\\partial x}|_{(x_i,t_j)}\\approx \\dfrac{T(x_i, t_j)-T(x_i-a,t_j)}{a}$ \n",
        "\n",
        ">> + $\\dfrac{\\partial T}{\\partial t}|_{(x_i,t_j)}\\approx \\dfrac{T(x_i, t_j)-T(x_i,t_j-b)}{b}$ \n",
        "\n",
        "> **Diferencias centrales** en un punto $(x_j,t_j)$\n",
        "\n",
        ">> + $\\dfrac{\\partial T}{\\partial x}|_{(x_i,t_j)}\\approx \\dfrac{T(x_i+a, t_j)-T(x_i-a,t_j)}{2a}$ \n",
        "\n",
        ">> + $\\dfrac{\\partial T}{\\partial t}|_{(x_i,t_j)}\\approx \\dfrac{T(x_i, t_j+b)-T(x_i,t_j-b)}{2b}$ \n",
        "\n",
        "> **Segundas derivadas parciales** en un punto $(x_j,t_j)$\n",
        "\n",
        ">> + $\\dfrac{\\partial^2 T}{\\partial x^2}|_{(x_i,t_j)}\\approx \\dfrac{T(x_i + a, t_j) - 2T(x_i,t_j) + T(x_i-a,t_j)}{a^2}$ \n",
        "\n",
        ">> + $\\dfrac{\\partial^2 T}{\\partial t^2}|_{(x_i,t_j)}\\approx \\dfrac{T(x_i, t_j+b)-2T(x_i,t_j) + T(x_i,t_j-b)}{b^2}$\n",
        "\n",
        "> **Segundas derivada parcial combinada** en un punto $(x_j,t_j)$\n",
        "\n",
        ">> + $\\dfrac{\\partial^2 T}{\\partial x\\partial t}\\approx \\dfrac{T(x_i+a, t_j+b)-T(x_i-a,t_j+b) - T(x_i+a,t_j-b) + T(x_i-a,t_j-b)}{4ab}$"
      ]
    },
    {
      "cell_type": "markdown",
      "metadata": {
        "id": "inBc1bzj0ZIU"
      },
      "source": [
        "\n",
        "**Ejemplo**\n",
        "\n",
        "Sea la siguiente ecuación en derivadas parciales\n",
        "\n",
        "$$\\dfrac{\\partial T}{\\partial t} = \\alpha \\dfrac{\\partial^2 T}{\\partial x^2}$$\n",
        "\n",
        "la cual describe la conducción de calor en régimen transitorio (estado no estacionario) en la dirección $x$.\n",
        "\n",
        "> **Consideraciones**\n",
        "\n",
        ">> 1. Estado transitorio, $\\dfrac{\\partial T}{\\partial t}$.\n",
        ">> 2. La barra está aislada longitudinalmente durante cierto periodo de tiempo.\n",
        ">> 3. La barra es lo suficientemente delgada y de longitud $L$ muy grande en comparación con su grosor.\n",
        ">> 4. Los extremos de la barra son $x=0$ y $x = L$ \n",
        "\n",
        "<img src=\"https://drive.google.com/uc?id=17wA9btaFn7AbWDSfhyIHjgJjGsfff13m&export=download\" width=\"50%\">\n",
        "\n",
        "> **Condición inicial y condición de frontera**\n",
        "\n",
        ">> Condición inicial\n",
        "\n",
        "$$T(x,0)=f(x)\\quad 0<x<L$$\n",
        "\n",
        ">>En un tiempo $t=0$, en cualquier punto $x$ de la barra la temperatura es $f(x)$.\n",
        "\n",
        "> Condiciones de frontera, para $t>0$\n",
        "\n",
        "$$\\begin{align*}\n",
        "T(0,t) &= g_1(t)\\\\\n",
        "T(L,t) &= g_2(t)\n",
        "\\end{align*}$$\n",
        "\n",
        "> Dan información de la temperatura de la barra en sus extremos a cualquier tiempo $t$.\n",
        "\n",
        "\n",
        "\n"
      ]
    },
    {
      "cell_type": "markdown",
      "metadata": {
        "id": "qq50iWNmXk_u"
      },
      "source": [
        "\n",
        "<img src=\"https://drive.google.com/uc?id=1Yj3oYy27BduUbXYryeADcybWEqW_01es&export=download\" width=\"50%\">\n",
        "\n",
        "Como la EDP\n",
        "\n",
        "$$\\dfrac{\\partial T}{\\partial t} = \\alpha \\dfrac{\\partial^2 T}{\\partial x^2}$$\n",
        "\n",
        "junto con sus condiciones iniciales y de frontera, son válidas en todo el dominio, entonces también será valida en cualquier nodo $(x_i,t_j)$\n",
        "\n",
        "$$\\dfrac{\\partial T}{\\partial t}|_{(x_i,t_j)} = \\alpha \\dfrac{\\partial^2 T}{\\partial x^2}|_{(x_j,t_j)}$$\n",
        "\n",
        "<img src=\"https://drive.google.com/uc?id=1EVjRljC7j7sQITETgaCtTe7FJLpSXYro&export=download\" width=\"50%\">\n"
      ]
    },
    {
      "cell_type": "markdown",
      "metadata": {
        "id": "bJqGqzA5cT5P"
      },
      "source": [
        "Sustituyendo en la EDP las derivadas parciales por sus aproximaciones con diferencias finitas\n",
        "\n",
        "> + $\\dfrac{\\partial T}{\\partial t}|_{(x_i,t_j)}\\approx \\dfrac{T(x_i,t_j + b)-T(x_i,t_j)}{b}$ con $b>0$\n",
        "\n",
        "> + $\\dfrac{\\partial^2 T}{\\partial x^2}|_{(x_i,t_j)}\\approx \\dfrac{T(x_i + a, t_j) - 2T(x_i,t_j) + T(x_i+a,t_j)}{a^2}$ \n",
        "\n",
        "Se tiene:\n",
        "\n",
        "$$\\dfrac{T_{i,j+1}-T_{i,j}}{b} = \\alpha\\dfrac{T_{i-1,j} - 2T_{i,j} + T_{i+1,j}}{a^2}$$"
      ]
    },
    {
      "cell_type": "markdown",
      "metadata": {
        "id": "V1KFJkRRem8M"
      },
      "source": [
        "**Ejemplo**\n",
        "\n",
        "Resolver \n",
        "\n",
        "$$ PVF =\n",
        "  \\begin{cases}\n",
        "    \\dfrac{\\partial T}{\\partial t} &= \\alpha \\dfrac{\\partial^2 T}{\\partial x^2}\\quad \\text{Ecuación diferencial parcial}\\\\\n",
        "T(x,0) &= 20^{°}F,\\, 0 < x < L\\quad \\text{Condición inicial}\\\\\n",
        "T(0,t) &= 100^{°}F,\\, t>0 \\quad \\text{Condición de frontera 1}\\\\\n",
        "T(L,t) &= 100^{°}F,\\, t>0 \\quad \\text{Condición de frontera 2}\n",
        "  \\end{cases}\n",
        "$$\n",
        "Con \n",
        "+ $L = 1\\,\\mathrm{pie}$\n",
        "+ $\\alpha = 1\\, \\mathrm{pie^2/h}$\n",
        "+ $t_{max} = 1\\, \\mathrm{h}$\n",
        "\n",
        "\n",
        "<img src=\"https://drive.google.com/uc?id=1S24wRmZAVOu-pZSGakrCIchlbFJMyS_p&export=download\" width=\"50%\">\n",
        "\n"
      ]
    },
    {
      "cell_type": "markdown",
      "metadata": {
        "id": "zMxPKQN3i7mx"
      },
      "source": [
        "## Método explícito\n",
        "$$\\dfrac{T_{i,j+1}-T_{i,j}}{b} = \\alpha\\dfrac{T_{i-1,j} - 2T_{i,j} + T_{i+1,j}}{a^2}$$\n",
        "\n",
        "1. Resolvemos para el nodo $(1,1)$, evaluando la EDP en difencias finitas en el punto  $i=1$ y $j=0$\n",
        "\n",
        "$$\\dfrac{T_{1,1}-T_{1,0}}{b} = \\alpha\\dfrac{T_{0,0} - 2T_{1,0} + T_{2,0}}{a^2}$$\n",
        "\n",
        "$$T_{1,1} = \\alpha\\dfrac{b}{a^2}(T_{0,0}-2T_{1,0}+T_{2,0}) + T_{1,0}$$\n",
        "\n",
        "> Sustiuyendo los valores \n",
        "\n",
        "> + $T_{0,0} = (100 + 20)/2 = 60^°\\,F$ porque es un punto singular y se acostumbra tomar la media aritmética.\n",
        "> + $T_{1,0} = 20^°\\,F$\n",
        "> + $T_{2,0} = 20^°\\,F$\n",
        "> + $b = 0.01$\n",
        "> + $a = 0.25$\n",
        "\n",
        "$$T_{1,1} = 26.4$$\n",
        "\n",
        "2. Resolvemos para el nodo $(2,1)$, evaluando la EDP en difencias finitas en el punto  $i=2$ y $j=0$\n",
        "\n",
        "$$\\dfrac{T_{2,1}-T_{2,0}}{b} = \\alpha\\dfrac{T_{1,0} - 2T_{2,0} + T_{3,0}}{a^2}$$\n",
        "\n",
        "$$T_{2,1} = \\alpha\\dfrac{b}{a^2}(T_{1,0}-2T_{2,0}+T_{3,0}) + T_{2,0}$$\n",
        "\n",
        "> Sustiuyendo los valores \n",
        "\n",
        "> + $T_{1,0} = 20$\n",
        "> + $T_{2,0} = 20^°\\,F$\n",
        "> + $T_{3,0} = 20^°\\,F$\n",
        "\n",
        "\n",
        "$$T_{2,1} = 20$$\n",
        "\n"
      ]
    },
    {
      "cell_type": "code",
      "metadata": {
        "id": "vjtyfg5l5bIF",
        "colab": {
          "base_uri": "https://localhost:8080/"
        },
        "outputId": "248b40e3-1946-46b9-d560-7d9dd0852681"
      },
      "source": [
        "# Condiciones iniciales y de frontera\n",
        "CIT = 20.0\n",
        "CF1T = 100.0\n",
        "CF2T = 100.0\n",
        "L, tmax = 1.0, 1.0\n",
        "\n",
        "# Parámetros\n",
        "alpha = 1.0\n",
        "\n",
        "# Construcción de los arreglos para la distancia y el tiempo\n",
        "x = np.linspace(0,L,5,endpoint=True)\n",
        "dx = x[1]-x[0]\n",
        "t = np.linspace(0,tmax,100,endpoint=True)\n",
        "dt = t[1]-t[0]\n",
        "\n",
        "F = alpha*dt/dx**2\n",
        "print(dx,dt, F)"
      ],
      "execution_count": null,
      "outputs": [
        {
          "output_type": "stream",
          "text": [
            "0.25 0.010101010101010102 0.16161616161616163\n"
          ],
          "name": "stdout"
        }
      ]
    },
    {
      "cell_type": "code",
      "metadata": {
        "id": "qI9chbJwvS_q"
      },
      "source": [
        "# Construcción del arreglo T donde se almacenarán los resultados de cada iteración\n",
        "Nx, Nt = len(x), len(t)\n",
        "T = np.zeros((Nt,Nx))"
      ],
      "execution_count": null,
      "outputs": []
    },
    {
      "cell_type": "code",
      "metadata": {
        "colab": {
          "base_uri": "https://localhost:8080/"
        },
        "id": "sf1jnqtGPG97",
        "outputId": "7ba71124-3339-41f9-87dd-56e4be754583"
      },
      "source": [
        "T[0:10,:]"
      ],
      "execution_count": null,
      "outputs": [
        {
          "output_type": "execute_result",
          "data": {
            "text/plain": [
              "array([[0., 0., 0., 0., 0.],\n",
              "       [0., 0., 0., 0., 0.],\n",
              "       [0., 0., 0., 0., 0.],\n",
              "       [0., 0., 0., 0., 0.],\n",
              "       [0., 0., 0., 0., 0.],\n",
              "       [0., 0., 0., 0., 0.],\n",
              "       [0., 0., 0., 0., 0.],\n",
              "       [0., 0., 0., 0., 0.],\n",
              "       [0., 0., 0., 0., 0.],\n",
              "       [0., 0., 0., 0., 0.]])"
            ]
          },
          "metadata": {
            "tags": []
          },
          "execution_count": 56
        }
      ]
    },
    {
      "cell_type": "code",
      "metadata": {
        "id": "JXu-PBWuDE26"
      },
      "source": [
        "# Ensamble de las condiciones iniciales y de frontera en el arreglo T\n",
        "T[0,0] = (CF1T+CIT)/2.0\n",
        "T[0,-1] = (CF2T+CIT)/2.0\n",
        "T[0,1:-1] = CIT\n",
        "T[1:,0] = CF1T\n",
        "T[1:,-1] = CF2T"
      ],
      "execution_count": null,
      "outputs": []
    },
    {
      "cell_type": "code",
      "metadata": {
        "colab": {
          "base_uri": "https://localhost:8080/"
        },
        "id": "pKZNqY4dPfdk",
        "outputId": "fb24524f-b917-4831-97ae-b4ab549b7d5a"
      },
      "source": [
        "T[0:10,:]"
      ],
      "execution_count": null,
      "outputs": [
        {
          "output_type": "execute_result",
          "data": {
            "text/plain": [
              "array([[ 60.,  20.,  20.,  20.,  60.],\n",
              "       [100.,   0.,   0.,   0., 100.],\n",
              "       [100.,   0.,   0.,   0., 100.],\n",
              "       [100.,   0.,   0.,   0., 100.],\n",
              "       [100.,   0.,   0.,   0., 100.],\n",
              "       [100.,   0.,   0.,   0., 100.],\n",
              "       [100.,   0.,   0.,   0., 100.],\n",
              "       [100.,   0.,   0.,   0., 100.],\n",
              "       [100.,   0.,   0.,   0., 100.],\n",
              "       [100.,   0.,   0.,   0., 100.]])"
            ]
          },
          "metadata": {
            "tags": []
          },
          "execution_count": 58
        }
      ]
    },
    {
      "cell_type": "code",
      "metadata": {
        "colab": {
          "base_uri": "https://localhost:8080/"
        },
        "id": "oa4Jiya5VPvo",
        "outputId": "ba961efd-758c-4bbd-bf61-3a318e53fe7d"
      },
      "source": [
        "np.shape(T)"
      ],
      "execution_count": null,
      "outputs": [
        {
          "output_type": "execute_result",
          "data": {
            "text/plain": [
              "(100, 5)"
            ]
          },
          "metadata": {
            "tags": []
          },
          "execution_count": 59
        }
      ]
    },
    {
      "cell_type": "code",
      "metadata": {
        "id": "dWDiOMkbR8Dx"
      },
      "source": [
        "# El índice i es para el tiempo (fila) y j para x (columna)\n",
        "for i in range(1,Nt):\n",
        "  for j in range(1,Nx-1):\n",
        "    T[i,j] = F*(T[i-1,j-1]-2*T[i-1,j]+T[i-1,j+1]) + T[i-1,j]\n",
        "  "
      ],
      "execution_count": null,
      "outputs": []
    },
    {
      "cell_type": "code",
      "metadata": {
        "colab": {
          "base_uri": "https://localhost:8080/",
          "height": 422
        },
        "id": "KsPUCHyzQcyN",
        "outputId": "1d303c0a-4281-4038-fdfe-b875ea364c94"
      },
      "source": [
        "df_ME = pd.DataFrame(T, columns =['0.0', '0.25',  '0.5', '0.75',  '1.0'])\n",
        "df_ME[\"Tiempo\"] = t\n",
        "df_ME"
      ],
      "execution_count": null,
      "outputs": [
        {
          "output_type": "execute_result",
          "data": {
            "text/html": [
              "<div>\n",
              "<style scoped>\n",
              "    .dataframe tbody tr th:only-of-type {\n",
              "        vertical-align: middle;\n",
              "    }\n",
              "\n",
              "    .dataframe tbody tr th {\n",
              "        vertical-align: top;\n",
              "    }\n",
              "\n",
              "    .dataframe thead th {\n",
              "        text-align: right;\n",
              "    }\n",
              "</style>\n",
              "<table border=\"1\" class=\"dataframe\">\n",
              "  <thead>\n",
              "    <tr style=\"text-align: right;\">\n",
              "      <th></th>\n",
              "      <th>0.0</th>\n",
              "      <th>0.25</th>\n",
              "      <th>0.5</th>\n",
              "      <th>0.75</th>\n",
              "      <th>1.0</th>\n",
              "      <th>Tiempo</th>\n",
              "    </tr>\n",
              "  </thead>\n",
              "  <tbody>\n",
              "    <tr>\n",
              "      <th>0</th>\n",
              "      <td>60.0</td>\n",
              "      <td>20.000000</td>\n",
              "      <td>20.000000</td>\n",
              "      <td>20.000000</td>\n",
              "      <td>60.0</td>\n",
              "      <td>0.000000</td>\n",
              "    </tr>\n",
              "    <tr>\n",
              "      <th>1</th>\n",
              "      <td>100.0</td>\n",
              "      <td>26.464646</td>\n",
              "      <td>20.000000</td>\n",
              "      <td>26.464646</td>\n",
              "      <td>100.0</td>\n",
              "      <td>0.010101</td>\n",
              "    </tr>\n",
              "    <tr>\n",
              "      <th>2</th>\n",
              "      <td>100.0</td>\n",
              "      <td>37.304357</td>\n",
              "      <td>22.089583</td>\n",
              "      <td>37.304357</td>\n",
              "      <td>100.0</td>\n",
              "      <td>0.020202</td>\n",
              "    </tr>\n",
              "    <tr>\n",
              "      <th>3</th>\n",
              "      <td>100.0</td>\n",
              "      <td>44.978033</td>\n",
              "      <td>27.007489</td>\n",
              "      <td>44.978033</td>\n",
              "      <td>100.0</td>\n",
              "      <td>0.030303</td>\n",
              "    </tr>\n",
              "    <tr>\n",
              "      <th>4</th>\n",
              "      <td>100.0</td>\n",
              "      <td>50.966142</td>\n",
              "      <td>32.816150</td>\n",
              "      <td>50.966142</td>\n",
              "      <td>100.0</td>\n",
              "      <td>0.040404</td>\n",
              "    </tr>\n",
              "    <tr>\n",
              "      <th>...</th>\n",
              "      <td>...</td>\n",
              "      <td>...</td>\n",
              "      <td>...</td>\n",
              "      <td>...</td>\n",
              "      <td>...</td>\n",
              "      <td>...</td>\n",
              "    </tr>\n",
              "    <tr>\n",
              "      <th>95</th>\n",
              "      <td>100.0</td>\n",
              "      <td>99.994338</td>\n",
              "      <td>99.991992</td>\n",
              "      <td>99.994338</td>\n",
              "      <td>100.0</td>\n",
              "      <td>0.959596</td>\n",
              "    </tr>\n",
              "    <tr>\n",
              "      <th>96</th>\n",
              "      <td>100.0</td>\n",
              "      <td>99.994874</td>\n",
              "      <td>99.992750</td>\n",
              "      <td>99.994874</td>\n",
              "      <td>100.0</td>\n",
              "      <td>0.969697</td>\n",
              "    </tr>\n",
              "    <tr>\n",
              "      <th>97</th>\n",
              "      <td>100.0</td>\n",
              "      <td>99.995359</td>\n",
              "      <td>99.993437</td>\n",
              "      <td>99.995359</td>\n",
              "      <td>100.0</td>\n",
              "      <td>0.979798</td>\n",
              "    </tr>\n",
              "    <tr>\n",
              "      <th>98</th>\n",
              "      <td>100.0</td>\n",
              "      <td>99.995798</td>\n",
              "      <td>99.994058</td>\n",
              "      <td>99.995798</td>\n",
              "      <td>100.0</td>\n",
              "      <td>0.989899</td>\n",
              "    </tr>\n",
              "    <tr>\n",
              "      <th>99</th>\n",
              "      <td>100.0</td>\n",
              "      <td>99.996196</td>\n",
              "      <td>99.994621</td>\n",
              "      <td>99.996196</td>\n",
              "      <td>100.0</td>\n",
              "      <td>1.000000</td>\n",
              "    </tr>\n",
              "  </tbody>\n",
              "</table>\n",
              "<p>100 rows × 6 columns</p>\n",
              "</div>"
            ],
            "text/plain": [
              "      0.0       0.25        0.5       0.75    1.0    Tiempo\n",
              "0    60.0  20.000000  20.000000  20.000000   60.0  0.000000\n",
              "1   100.0  26.464646  20.000000  26.464646  100.0  0.010101\n",
              "2   100.0  37.304357  22.089583  37.304357  100.0  0.020202\n",
              "3   100.0  44.978033  27.007489  44.978033  100.0  0.030303\n",
              "4   100.0  50.966142  32.816150  50.966142  100.0  0.040404\n",
              "..    ...        ...        ...        ...    ...       ...\n",
              "95  100.0  99.994338  99.991992  99.994338  100.0  0.959596\n",
              "96  100.0  99.994874  99.992750  99.994874  100.0  0.969697\n",
              "97  100.0  99.995359  99.993437  99.995359  100.0  0.979798\n",
              "98  100.0  99.995798  99.994058  99.995798  100.0  0.989899\n",
              "99  100.0  99.996196  99.994621  99.996196  100.0  1.000000\n",
              "\n",
              "[100 rows x 6 columns]"
            ]
          },
          "metadata": {
            "tags": []
          },
          "execution_count": 61
        }
      ]
    },
    {
      "cell_type": "code",
      "metadata": {
        "colab": {
          "base_uri": "https://localhost:8080/",
          "height": 265
        },
        "id": "sBKngvEVSf6y",
        "outputId": "a6aa9ea2-d614-4074-eb38-fe3916ab3f98"
      },
      "source": [
        "plt.plot(x,T[20,:])\n",
        "plt.plot(x,T[40,:])\n",
        "plt.plot(x,T[60,:])\n",
        "plt.plot(x,T[90,:])\n",
        "plt.plot(x,T[99,:])\n",
        "plt.show()"
      ],
      "execution_count": null,
      "outputs": [
        {
          "output_type": "display_data",
          "data": {
            "image/png": "[encoded data removed]",
            "text/plain": [
              "<Figure size 432x288 with 1 Axes>"
            ]
          },
          "metadata": {
            "tags": [],
            "needs_background": "light"
          }
        }
      ]
    },
    {
      "cell_type": "markdown",
      "metadata": {
        "id": "M0dP98iYbZYr"
      },
      "source": [
        "**Ejemplo**\n",
        "\n",
        "Calcule la temperatura como una función de $x$ y $t$ en una barra aislada de longitud unitaria (en $\\mathrm{pies}$), sujeta a las siguientes condiciones inicial y de frontera.\n",
        "\n",
        "$$ PVF =\n",
        "  \\begin{cases}\n",
        "    \\dfrac{\\partial T}{\\partial t} &= \\alpha \\dfrac{\\partial^2 T}{\\partial x^2}\\quad \\text{Ecuación diferencial parcial}\\\\\n",
        "T(x,0) &= 50\\sin(\\pi x),\\, 0 < x < L\\quad \\text{Condición inicial}\\\\\n",
        "T(0,t) &= 100^{°}F,\\, t>0 \\quad \\text{Condición de frontera 1}\\\\\n",
        "T(1,t) &= 50^{°}F,\\, t>0 \\quad \\text{Condición de frontera 2}\n",
        "  \\end{cases}\n",
        "$$\n",
        "Con \n",
        "+ $L = 1\\,\\mathrm{pie}$\n",
        "+ $\\alpha = 1\\, \\mathrm{pie^2/h}$\n",
        "+ $t_{max} = 30\\, \\mathrm{min}$"
      ]
    },
    {
      "cell_type": "markdown",
      "metadata": {
        "id": "7Pzwrf1mc8eL"
      },
      "source": [
        "Partiendo de la EDP discretizada\n",
        "\n",
        "$$\\dfrac{T_{i,j+1}-T_{i,j}}{b} = \\alpha\\dfrac{T_{i-1,j}-2T_{i,j}+T_{i+1,j}}{a^2}$$\n",
        "\n",
        "Resolviendo para $T_{i,j+1}$\n",
        "\n",
        "$$T_{i,j+1} = \\lambda T_{i-1,j} + (1-2\\lambda)T_{i,j} + \\lambda T_{i+1,j}$$\n",
        "\n",
        "donde $\\lambda = \\dfrac{\\alpha b}{a^2}$."
      ]
    },
    {
      "cell_type": "code",
      "metadata": {
        "colab": {
          "base_uri": "https://localhost:8080/"
        },
        "id": "buqTI7_ac8JA",
        "outputId": "718651a2-1a00-4605-c040-8b74f0b62e9b"
      },
      "source": [
        "# Condiciones iniciales y de frontera\n",
        "CF1T = 100.0\n",
        "CF2T = 50.0\n",
        "L, tmax = 1.0, 0.5\n",
        "\n",
        "# Parámetros\n",
        "alpha = 1.0\n",
        "\n",
        "# Construcción de los arreglos para la distancia y el tiempo\n",
        "x = np.linspace(0,L,9,endpoint=True)\n",
        "dx = x[1]-x[0]\n",
        "t = np.linspace(0,tmax,100,endpoint=True)\n",
        "dt = t[1]-t[0]\n",
        "\n",
        "F = alpha*dt/dx**2\n",
        "print(dx,dt, F)"
      ],
      "execution_count": null,
      "outputs": [
        {
          "output_type": "stream",
          "text": [
            "0.125 0.005050505050505051 0.32323232323232326\n"
          ],
          "name": "stdout"
        }
      ]
    },
    {
      "cell_type": "code",
      "metadata": {
        "id": "fHYywqCYV7gm"
      },
      "source": [
        "# Función para la condición inicial\n",
        "def CI(x):\n",
        "  return 50.0*np.sin(np.pi*x)"
      ],
      "execution_count": null,
      "outputs": []
    },
    {
      "cell_type": "code",
      "metadata": {
        "id": "cDISG0DogQOM"
      },
      "source": [
        "# Construcción del arreglo T donde se almacenarán los resultados de cada iteración\n",
        "Nx, Nt = len(x), len(t)\n",
        "T = np.zeros((Nt,Nx))"
      ],
      "execution_count": null,
      "outputs": []
    },
    {
      "cell_type": "code",
      "metadata": {
        "colab": {
          "base_uri": "https://localhost:8080/"
        },
        "id": "FSjpqm67gV_i",
        "outputId": "c35e2dc7-21a2-48a6-c6aa-6be56288f9cb"
      },
      "source": [
        "T[0:5,:]"
      ],
      "execution_count": null,
      "outputs": [
        {
          "output_type": "execute_result",
          "data": {
            "text/plain": [
              "array([[0., 0., 0., 0., 0., 0., 0., 0., 0.],\n",
              "       [0., 0., 0., 0., 0., 0., 0., 0., 0.],\n",
              "       [0., 0., 0., 0., 0., 0., 0., 0., 0.],\n",
              "       [0., 0., 0., 0., 0., 0., 0., 0., 0.],\n",
              "       [0., 0., 0., 0., 0., 0., 0., 0., 0.]])"
            ]
          },
          "metadata": {
            "tags": []
          },
          "execution_count": 66
        }
      ]
    },
    {
      "cell_type": "code",
      "metadata": {
        "id": "kTf-ixfOg3CC"
      },
      "source": [
        "# Ensamble de las condiciones de frontera en el arreglo T\n",
        "T[0,0] = (100 + CI(x[0]))/2\n",
        "T[0,-1] = (50 + CI(x[-1]))/2"
      ],
      "execution_count": null,
      "outputs": []
    },
    {
      "cell_type": "code",
      "metadata": {
        "colab": {
          "base_uri": "https://localhost:8080/"
        },
        "id": "M7aIQ-0tiZ3Q",
        "outputId": "3523037e-3c18-452c-cc1b-995b99417d1e"
      },
      "source": [
        "T[0:5,:]"
      ],
      "execution_count": null,
      "outputs": [
        {
          "output_type": "execute_result",
          "data": {
            "text/plain": [
              "array([[50.,  0.,  0.,  0.,  0.,  0.,  0.,  0., 25.],\n",
              "       [ 0.,  0.,  0.,  0.,  0.,  0.,  0.,  0.,  0.],\n",
              "       [ 0.,  0.,  0.,  0.,  0.,  0.,  0.,  0.,  0.],\n",
              "       [ 0.,  0.,  0.,  0.,  0.,  0.,  0.,  0.,  0.],\n",
              "       [ 0.,  0.,  0.,  0.,  0.,  0.,  0.,  0.,  0.]])"
            ]
          },
          "metadata": {
            "tags": []
          },
          "execution_count": 68
        }
      ]
    },
    {
      "cell_type": "code",
      "metadata": {
        "colab": {
          "base_uri": "https://localhost:8080/"
        },
        "id": "euSsTytWhzpS",
        "outputId": "584dbb6c-aeb0-4bef-ccc3-6428d498cbf2"
      },
      "source": [
        "x"
      ],
      "execution_count": null,
      "outputs": [
        {
          "output_type": "execute_result",
          "data": {
            "text/plain": [
              "array([0.   , 0.125, 0.25 , 0.375, 0.5  , 0.625, 0.75 , 0.875, 1.   ])"
            ]
          },
          "metadata": {
            "tags": []
          },
          "execution_count": 69
        }
      ]
    },
    {
      "cell_type": "code",
      "metadata": {
        "id": "aVfcux48gYWK"
      },
      "source": [
        "# Ensamble de las condiciones iniciales en el arreglo T\n",
        "for i in range(1,Nx-1):\n",
        "  T[0,i] = CI(x[i])"
      ],
      "execution_count": null,
      "outputs": []
    },
    {
      "cell_type": "code",
      "metadata": {
        "colab": {
          "base_uri": "https://localhost:8080/"
        },
        "id": "R6Fp63UAgvXH",
        "outputId": "952b1cbf-9484-44ab-e9ef-be50d860a288"
      },
      "source": [
        "T[0:5,:]"
      ],
      "execution_count": null,
      "outputs": [
        {
          "output_type": "execute_result",
          "data": {
            "text/plain": [
              "array([[50.        , 19.13417162, 35.35533906, 46.19397663, 50.        ,\n",
              "        46.19397663, 35.35533906, 19.13417162, 25.        ],\n",
              "       [ 0.        ,  0.        ,  0.        ,  0.        ,  0.        ,\n",
              "         0.        ,  0.        ,  0.        ,  0.        ],\n",
              "       [ 0.        ,  0.        ,  0.        ,  0.        ,  0.        ,\n",
              "         0.        ,  0.        ,  0.        ,  0.        ],\n",
              "       [ 0.        ,  0.        ,  0.        ,  0.        ,  0.        ,\n",
              "         0.        ,  0.        ,  0.        ,  0.        ],\n",
              "       [ 0.        ,  0.        ,  0.        ,  0.        ,  0.        ,\n",
              "         0.        ,  0.        ,  0.        ,  0.        ]])"
            ]
          },
          "metadata": {
            "tags": []
          },
          "execution_count": 71
        }
      ]
    },
    {
      "cell_type": "code",
      "metadata": {
        "id": "6nfq6NGhhfjN"
      },
      "source": [
        "# Ensamble de las condiciones  de frontera en el arreglo T\n",
        "T[1:,0] = CF1T\n",
        "T[1:,-1] = CF2T\n",
        "  "
      ],
      "execution_count": null,
      "outputs": []
    },
    {
      "cell_type": "code",
      "metadata": {
        "colab": {
          "base_uri": "https://localhost:8080/"
        },
        "id": "_QX_tHfyjqmA",
        "outputId": "b2af6e9f-181e-4dd8-e757-87c3fc18493d"
      },
      "source": [
        "T[0:5,:]"
      ],
      "execution_count": null,
      "outputs": [
        {
          "output_type": "execute_result",
          "data": {
            "text/plain": [
              "array([[ 50.        ,  19.13417162,  35.35533906,  46.19397663,\n",
              "         50.        ,  46.19397663,  35.35533906,  19.13417162,\n",
              "         25.        ],\n",
              "       [100.        ,   0.        ,   0.        ,   0.        ,\n",
              "          0.        ,   0.        ,   0.        ,   0.        ,\n",
              "         50.        ],\n",
              "       [100.        ,   0.        ,   0.        ,   0.        ,\n",
              "          0.        ,   0.        ,   0.        ,   0.        ,\n",
              "         50.        ],\n",
              "       [100.        ,   0.        ,   0.        ,   0.        ,\n",
              "          0.        ,   0.        ,   0.        ,   0.        ,\n",
              "         50.        ],\n",
              "       [100.        ,   0.        ,   0.        ,   0.        ,\n",
              "          0.        ,   0.        ,   0.        ,   0.        ,\n",
              "         50.        ]])"
            ]
          },
          "metadata": {
            "tags": []
          },
          "execution_count": 73
        }
      ]
    },
    {
      "cell_type": "code",
      "metadata": {
        "id": "vWCqTP5Lj6Ky"
      },
      "source": [
        "# El índice i es para el tiempo (fila) y j para x (columna)\n",
        "for i in range(1,Nt):\n",
        "  for j in range(1,Nx-1):\n",
        "    T[i,j] = F*(T[i-1,j-1]-2*T[i-1,j]+T[i-1,j+1]) + T[i-1,j]\n",
        "  "
      ],
      "execution_count": null,
      "outputs": []
    },
    {
      "cell_type": "code",
      "metadata": {
        "id": "fo4IVQvlkmR4"
      },
      "source": [
        "# Convertimos el arreglo T en un dataframe para na mejor visualización\n",
        "\n",
        "df = pd.DataFrame(T, columns =['0.0', '0.125', '0.25', '0.375', '0.5', '0.625', '0.75', '0.875', '1.0'])\n",
        "df[\"Tiempo\"] = t"
      ],
      "execution_count": null,
      "outputs": []
    },
    {
      "cell_type": "code",
      "metadata": {
        "colab": {
          "base_uri": "https://localhost:8080/",
          "height": 205
        },
        "id": "gbePdfoqlUhA",
        "outputId": "4849b585-f66b-4260-97b6-096cb34798da"
      },
      "source": [
        "df.head()"
      ],
      "execution_count": null,
      "outputs": [
        {
          "output_type": "execute_result",
          "data": {
            "text/html": [
              "<div>\n",
              "<style scoped>\n",
              "    .dataframe tbody tr th:only-of-type {\n",
              "        vertical-align: middle;\n",
              "    }\n",
              "\n",
              "    .dataframe tbody tr th {\n",
              "        vertical-align: top;\n",
              "    }\n",
              "\n",
              "    .dataframe thead th {\n",
              "        text-align: right;\n",
              "    }\n",
              "</style>\n",
              "<table border=\"1\" class=\"dataframe\">\n",
              "  <thead>\n",
              "    <tr style=\"text-align: right;\">\n",
              "      <th></th>\n",
              "      <th>0.0</th>\n",
              "      <th>0.125</th>\n",
              "      <th>0.25</th>\n",
              "      <th>0.375</th>\n",
              "      <th>0.5</th>\n",
              "      <th>0.625</th>\n",
              "      <th>0.75</th>\n",
              "      <th>0.875</th>\n",
              "      <th>1.0</th>\n",
              "      <th>Tiempo</th>\n",
              "    </tr>\n",
              "  </thead>\n",
              "  <tbody>\n",
              "    <tr>\n",
              "      <th>0</th>\n",
              "      <td>50.0</td>\n",
              "      <td>19.134172</td>\n",
              "      <td>35.355339</td>\n",
              "      <td>46.193977</td>\n",
              "      <td>50.000000</td>\n",
              "      <td>46.193977</td>\n",
              "      <td>35.355339</td>\n",
              "      <td>19.134172</td>\n",
              "      <td>25.0</td>\n",
              "      <td>0.000000</td>\n",
              "    </tr>\n",
              "    <tr>\n",
              "      <th>1</th>\n",
              "      <td>100.0</td>\n",
              "      <td>34.354211</td>\n",
              "      <td>33.615531</td>\n",
              "      <td>43.920808</td>\n",
              "      <td>47.539540</td>\n",
              "      <td>43.920808</td>\n",
              "      <td>33.615531</td>\n",
              "      <td>26.273403</td>\n",
              "      <td>50.0</td>\n",
              "      <td>0.005051</td>\n",
              "    </tr>\n",
              "    <tr>\n",
              "      <th>2</th>\n",
              "      <td>100.0</td>\n",
              "      <td>55.334287</td>\n",
              "      <td>37.185295</td>\n",
              "      <td>41.759501</td>\n",
              "      <td>45.200158</td>\n",
              "      <td>41.759501</td>\n",
              "      <td>34.573317</td>\n",
              "      <td>36.315819</td>\n",
              "      <td>50.0</td>\n",
              "      <td>0.010101</td>\n",
              "    </tr>\n",
              "    <tr>\n",
              "      <th>3</th>\n",
              "      <td>100.0</td>\n",
              "      <td>63.905348</td>\n",
              "      <td>44.530167</td>\n",
              "      <td>41.393101</td>\n",
              "      <td>42.975895</td>\n",
              "      <td>40.548826</td>\n",
              "      <td>37.459357</td>\n",
              "      <td>40.175756</td>\n",
              "      <td>50.0</td>\n",
              "      <td>0.015152</td>\n",
              "    </tr>\n",
              "    <tr>\n",
              "      <th>4</th>\n",
              "      <td>100.0</td>\n",
              "      <td>69.309622</td>\n",
              "      <td>49.778851</td>\n",
              "      <td>42.918712</td>\n",
              "      <td>41.679778</td>\n",
              "      <td>40.334717</td>\n",
              "      <td>39.336001</td>\n",
              "      <td>42.473241</td>\n",
              "      <td>50.0</td>\n",
              "      <td>0.020202</td>\n",
              "    </tr>\n",
              "  </tbody>\n",
              "</table>\n",
              "</div>"
            ],
            "text/plain": [
              "     0.0      0.125       0.25      0.375  ...       0.75      0.875   1.0    Tiempo\n",
              "0   50.0  19.134172  35.355339  46.193977  ...  35.355339  19.134172  25.0  0.000000\n",
              "1  100.0  34.354211  33.615531  43.920808  ...  33.615531  26.273403  50.0  0.005051\n",
              "2  100.0  55.334287  37.185295  41.759501  ...  34.573317  36.315819  50.0  0.010101\n",
              "3  100.0  63.905348  44.530167  41.393101  ...  37.459357  40.175756  50.0  0.015152\n",
              "4  100.0  69.309622  49.778851  42.918712  ...  39.336001  42.473241  50.0  0.020202\n",
              "\n",
              "[5 rows x 10 columns]"
            ]
          },
          "metadata": {
            "tags": []
          },
          "execution_count": 76
        }
      ]
    },
    {
      "cell_type": "code",
      "metadata": {
        "colab": {
          "base_uri": "https://localhost:8080/"
        },
        "id": "-vgRVkOyqFQm",
        "outputId": "5f83fec3-7d72-4c89-aee8-cabbb332e494"
      },
      "source": [
        "t[20]"
      ],
      "execution_count": null,
      "outputs": [
        {
          "output_type": "execute_result",
          "data": {
            "text/plain": [
              "0.10101010101010102"
            ]
          },
          "metadata": {
            "tags": []
          },
          "execution_count": 77
        }
      ]
    },
    {
      "cell_type": "code",
      "metadata": {
        "colab": {
          "base_uri": "https://localhost:8080/",
          "height": 279
        },
        "id": "iV-Hq-0rlfFz",
        "outputId": "d4170f6e-ab00-4285-fce2-1aae6d0a076e"
      },
      "source": [
        "plt.plot(x,T[1,:])\n",
        "plt.plot(x,T[2,:])\n",
        "plt.plot(x,T[4,:])\n",
        "plt.plot(x,T[20,:])\n",
        "plt.plot(x,T[40,:])\n",
        "plt.xlabel(\"Distancia\")\n",
        "plt.ylabel(\"Temperatura\")\n",
        "plt.legend([r\"$t=0.005$\", r\"$t=0.01$\", r\"$t=0.025$\", r\"$t=0.1$\", r\"$t=0.2$\" ])\n",
        "plt.show()"
      ],
      "execution_count": null,
      "outputs": [
        {
          "output_type": "display_data",
          "data": {
            "image/png": "[encoded data removed]",
            "text/plain": [
              "<Figure size 432x288 with 1 Axes>"
            ]
          },
          "metadata": {
            "tags": [],
            "needs_background": "light"
          }
        }
      ]
    },
    {
      "cell_type": "markdown",
      "metadata": {
        "id": "2Nd7YrtttrG_"
      },
      "source": [
        "## Método implícito\n",
        "\n",
        "Resolver:\n",
        "\n",
        "$$ PVF =\n",
        "  \\begin{cases}\n",
        "    \\dfrac{\\partial T}{\\partial t} &= \\alpha \\dfrac{\\partial^2 T}{\\partial x^2}\\quad \\text{Ecuación diferencial parcial}\\\\\n",
        "T(x,0) &= 20^{°}F,\\, 0 < x < L\\quad \\text{Condición inicial}\\\\\n",
        "T(0,t) &= 100^{°}F,\\, t>0 \\quad \\text{Condición de frontera 1}\\\\\n",
        "T(L,t) &= 100^{°}F,\\, t>0 \\quad \\text{Condición de frontera 2}\n",
        "  \\end{cases}\n",
        "$$\n",
        "Con \n",
        "+ $L = 1\\,\\mathrm{pie}$\n",
        "+ $\\alpha = 1\\, \\mathrm{pie^2/h}$\n",
        "+ $t_{max} = 1\\, \\mathrm{h}$\n"
      ]
    },
    {
      "cell_type": "markdown",
      "metadata": {
        "id": "HlS-X7rdwLek"
      },
      "source": [
        "1. Se va a utilizar:\n",
        "\n",
        "+ Diferencias hacia atras para $\\dfrac{\\partial T}{\\partial t}$\n",
        "+ Diferencias centrales para $\\dfrac{\\partial^2 T}{\\partial x^2}$\n",
        "\n",
        "Por lo tanto, la EDP queda:\n",
        "\n",
        "$$\\dfrac{T_{i,j}-T_{i,j-1}}{b} = \\alpha\\dfrac{T_{i-1,j}-2T_{i,j}+T_{i+1,j}}{a^2}$$\n",
        "\n",
        "<img src=\"https://drive.google.com/uc?id=1o6VSZk4D3Ag38Cm3zf4u3Hd3Nv2zOLJc&export=download\" width=\"50%\">\n",
        "\n",
        "2. Resolvemos para el nodo $(1,1)$\n",
        "\n",
        "$$\\dfrac{T_{1,1}-T_{1,0}}{b} = \\alpha\\dfrac{T_{0,1}-2T_{1,1}+T_{2,1}}{a^2}$$\n",
        "\n",
        ">> $T(0,1)$  y $T(1,0)$ están dadas por las condiciones iniciales y de frontera.\n",
        "\n",
        ">> $T(1,1)$ y $T(2,1)$ no se conoce su valor.\n",
        "\n",
        "> Por lo tanto, se tiene una ecuación con dos incognitas\n",
        "\n",
        "$$(1+2\\lambda)T_{1,1} - \\lambda T_{2,1} = T_{1,0} + \\lambda T_{0,1}$$\n",
        "\n",
        "3. Aplicamos el mismo razonamiento para los nodos $(2,1)$ y $(3,1)$\n",
        "\n",
        ">> Nodo $(2,1)$\n",
        "\n",
        "$$\\dfrac{T_{2,1}-T_{2,0}}{b} = \\alpha\\dfrac{T_{1,1}-2T_{2,1}+T_{3,1}}{a^2}$$\n",
        "\n",
        ">> En este nodo se tienen tres incógnitas $T_{1,1}$, $T_{2,1}$, $T_{3,1}$\n",
        "\n",
        "$$-\\lambda T_{1,1} + (1 + 2\\lambda) T_{2,1} - \\lambda T_{3,1} = T_{2,0} $$\n",
        "\n",
        ">> Nodo $(3,1)$\n",
        "\n",
        "$$\\dfrac{T_{3,1}-T_{3,0}}{b} = \\alpha\\dfrac{T_{2,1}-2T_{3,1}+T_{4,1}}{a^2}$$\n",
        "\n",
        ">> En este nodo se tienen dos incógnitas $T_{2,1}$ y $T_{3,1}$\n",
        "\n",
        "$$-\\lambda T_{2,1} + (1 + 2\\lambda) T_{3,1} = T_{3,0} + \\lambda T_{4,1}$$\n"
      ]
    },
    {
      "cell_type": "markdown",
      "metadata": {
        "id": "b6s__snuYbPY"
      },
      "source": [
        "Considerando los nodos $(1,1)$, $(2,1)$  y $(3,1)$ se llega al siguiente sistema de ecuaciones lineales:\n",
        "\n",
        "\\begin{array}{rclclcl}\n",
        "(1+2\\lambda)T_{1,1} & - & \\lambda T_{2,1}     &   &               &  = & \\lambda T_{0,1} + T_{1,0} \\\\\n",
        "-\\lambda T_{1,1}    & + & (1+2\\lambda)T_{2,1} & - & \\lambda T_{3,1}& = & T_{2,0} \\\\\n",
        "                    & - & \\lambda T_{2,1}     & + & (1+2\\lambda)T_{3,1}& = & T_{3,0} + \\lambda T_{4,1}\n",
        "\\end{array}\n",
        "\n",
        "Sustituyendo los valores conocidos\n",
        "\n",
        "+ $\\lambda = 0.16$\n",
        "+ $T_{1,0} = T_{2,0} = T_{3,0} = 20$\n",
        "+ $T_{0,1} = T_{4,1} = 100$\n",
        "\n",
        "se tiene que:\n",
        "\n",
        "\\begin{align*}\n",
        "T_{1,1} &= 29.99\\\\\n",
        "T_{2,1} &= 22.42\\\\\n",
        "T_{3,1} &= 29.99\\\\\n",
        "\\end{align*}\n"
      ]
    },
    {
      "cell_type": "markdown",
      "metadata": {
        "id": "Ivbm9bfdb9L0"
      },
      "source": [
        "Aplicando el mismo razonamiento para los nodos $(1,2)$, $(2,2)$ y $(3,2)$ se tiene:\n",
        "\n",
        "\\begin{array}{rclclcl}\n",
        "(1+2\\lambda)T_{1,2} & - & \\lambda T_{2,2}     &   &               &  = & \\lambda T_{0,2} + T_{1,1} \\\\\n",
        "-\\lambda T_{1,2}    & + & (1+2\\lambda)T_{2,2} & - & \\lambda T_{3,2}& = & T_{2,1} \\\\\n",
        "                    & - & \\lambda T_{2,2}     & + & (1+2\\lambda)T_{3,2}& = & T_{3,1} + \\lambda T_{4,2}\n",
        "\\end{array}\n",
        "\n",
        "Sustituyendo los valores optenidos en la iteracción anterior\n",
        "\n",
        "+ $\\lambda = 0.16$\n",
        "+ $T_{0,2} = T_{4,2}  = 100$\n",
        "+ $T_{1,1} = T_{3,1} = 29.99$\n",
        "+ $T_{2,1} = 22.42$\n",
        "\n",
        "se tiene que:\n",
        "\n",
        "\\begin{align*}\n",
        "T_{1,2} &= 38.02\\\\\n",
        "T_{2,2} &= 26.2\\\\\n",
        "T_{3,2} &= 38.02\\\\\n",
        "\\end{align*}"
      ]
    },
    {
      "cell_type": "code",
      "metadata": {
        "colab": {
          "base_uri": "https://localhost:8080/"
        },
        "id": "vans25_6mSZp",
        "outputId": "18081c08-80ba-4966-bd6e-a528c261eda7"
      },
      "source": [
        "# Condiciones iniciales y de frontera\n",
        "CIT = 20.0\n",
        "CF1T = 100.0\n",
        "CF2T = 100.0\n",
        "L, tmax = 1.0, 1.0\n",
        "\n",
        "# Parámetros\n",
        "alpha = 1.0\n",
        "\n",
        "# Construcción de los arreglos para la distancia y el tiempo\n",
        "x = np.linspace(0,L,5,endpoint=True)\n",
        "dx = x[1]-x[0]\n",
        "t = np.around(np.linspace(0,tmax,100,endpoint=True),2)\n",
        "dt = t[1]-t[0]\n",
        "\n",
        "F = alpha*dt/dx**2\n",
        "print(dx,dt, F)"
      ],
      "execution_count": null,
      "outputs": [
        {
          "output_type": "stream",
          "text": [
            "0.25 0.01 0.16\n"
          ],
          "name": "stdout"
        }
      ]
    },
    {
      "cell_type": "code",
      "metadata": {
        "id": "rMK9yYo-jnDX"
      },
      "source": [
        "# Funciones para contruir el sistema de ecuaciones lineales\n",
        "\n",
        "def MASEL(l):\n",
        "  F1 = [(1+2*l), -l, 0]\n",
        "  F2 = [-l, (1+2*l), -l]\n",
        "  F3 = [0, -l, (1+2*l)]\n",
        "  return np.array([F1,F2,F3])\n",
        "\n",
        "def VbSEL(l,T0,T1,T2,T3,T4):\n",
        "  return np.array([l*T0 + T1, T2, l*T4 + T3])"
      ],
      "execution_count": null,
      "outputs": []
    },
    {
      "cell_type": "code",
      "metadata": {
        "id": "XDI0K6g4fDqa"
      },
      "source": [
        "Nx, Nt = len(x), len(t)\n",
        "T = np.zeros((Nt,Nx))"
      ],
      "execution_count": null,
      "outputs": []
    },
    {
      "cell_type": "code",
      "metadata": {
        "colab": {
          "base_uri": "https://localhost:8080/"
        },
        "id": "TIf8Ls7UfDqu",
        "outputId": "838d05b5-161e-4663-defd-9eda5355442e"
      },
      "source": [
        "T[0:5,:]"
      ],
      "execution_count": null,
      "outputs": [
        {
          "output_type": "execute_result",
          "data": {
            "text/plain": [
              "array([[0., 0., 0., 0., 0.],\n",
              "       [0., 0., 0., 0., 0.],\n",
              "       [0., 0., 0., 0., 0.],\n",
              "       [0., 0., 0., 0., 0.],\n",
              "       [0., 0., 0., 0., 0.]])"
            ]
          },
          "metadata": {
            "tags": []
          },
          "execution_count": 82
        }
      ]
    },
    {
      "cell_type": "code",
      "metadata": {
        "id": "eE3H3jQOfDqv"
      },
      "source": [
        "T[0,0] = (CF1T+CIT)/2.0\n",
        "T[0,-1] = (CF2T+CIT)/2.0\n",
        "T[0,1:-1] = CIT\n",
        "T[1:,0] = CF1T\n",
        "T[1:,-1] = CF2T"
      ],
      "execution_count": null,
      "outputs": []
    },
    {
      "cell_type": "code",
      "metadata": {
        "colab": {
          "base_uri": "https://localhost:8080/"
        },
        "id": "FzER9x6GfDqw",
        "outputId": "0d437cb1-026b-4abe-88c9-601c489c5fcb"
      },
      "source": [
        "T[0:5,:]"
      ],
      "execution_count": null,
      "outputs": [
        {
          "output_type": "execute_result",
          "data": {
            "text/plain": [
              "array([[ 60.,  20.,  20.,  20.,  60.],\n",
              "       [100.,   0.,   0.,   0., 100.],\n",
              "       [100.,   0.,   0.,   0., 100.],\n",
              "       [100.,   0.,   0.,   0., 100.],\n",
              "       [100.,   0.,   0.,   0., 100.]])"
            ]
          },
          "metadata": {
            "tags": []
          },
          "execution_count": 84
        }
      ]
    },
    {
      "cell_type": "code",
      "metadata": {
        "colab": {
          "base_uri": "https://localhost:8080/"
        },
        "id": "ZSSxn_6qq1_L",
        "outputId": "73287f4e-9642-4d6c-aabc-523f0c1d3600"
      },
      "source": [
        "A = MASEL(F)\n",
        "A"
      ],
      "execution_count": null,
      "outputs": [
        {
          "output_type": "execute_result",
          "data": {
            "text/plain": [
              "array([[ 1.32, -0.16,  0.  ],\n",
              "       [-0.16,  1.32, -0.16],\n",
              "       [ 0.  , -0.16,  1.32]])"
            ]
          },
          "metadata": {
            "tags": []
          },
          "execution_count": 85
        }
      ]
    },
    {
      "cell_type": "code",
      "metadata": {
        "id": "6QIEup1kjfk6"
      },
      "source": [
        "for j in range(Nt-1):\n",
        "  b = VbSEL(F, T[j+1,0], T[j,1], T[j,2], T[j,3], T[j+1,4])\n",
        "  T[j+1,1], T[j+1,2], T[j+1,3] = np.linalg.solve(A,b)"
      ],
      "execution_count": null,
      "outputs": []
    },
    {
      "cell_type": "code",
      "metadata": {
        "colab": {
          "base_uri": "https://localhost:8080/",
          "height": 422
        },
        "id": "KppV10VmfLQk",
        "outputId": "7e637cab-6f73-4799-a735-03abe4149e9b"
      },
      "source": [
        "df = pd.DataFrame(T, columns =['0.0', '0.25',  '0.5', '0.75',  '1.0'])\n",
        "df[\"Tiempo\"] = t\n",
        "df"
      ],
      "execution_count": null,
      "outputs": [
        {
          "output_type": "execute_result",
          "data": {
            "text/html": [
              "<div>\n",
              "<style scoped>\n",
              "    .dataframe tbody tr th:only-of-type {\n",
              "        vertical-align: middle;\n",
              "    }\n",
              "\n",
              "    .dataframe tbody tr th {\n",
              "        vertical-align: top;\n",
              "    }\n",
              "\n",
              "    .dataframe thead th {\n",
              "        text-align: right;\n",
              "    }\n",
              "</style>\n",
              "<table border=\"1\" class=\"dataframe\">\n",
              "  <thead>\n",
              "    <tr style=\"text-align: right;\">\n",
              "      <th></th>\n",
              "      <th>0.0</th>\n",
              "      <th>0.25</th>\n",
              "      <th>0.5</th>\n",
              "      <th>0.75</th>\n",
              "      <th>1.0</th>\n",
              "      <th>Tiempo</th>\n",
              "    </tr>\n",
              "  </thead>\n",
              "  <tbody>\n",
              "    <tr>\n",
              "      <th>0</th>\n",
              "      <td>60.0</td>\n",
              "      <td>20.000000</td>\n",
              "      <td>20.000000</td>\n",
              "      <td>20.000000</td>\n",
              "      <td>60.0</td>\n",
              "      <td>0.00</td>\n",
              "    </tr>\n",
              "    <tr>\n",
              "      <th>1</th>\n",
              "      <td>100.0</td>\n",
              "      <td>29.990539</td>\n",
              "      <td>22.421949</td>\n",
              "      <td>29.990539</td>\n",
              "      <td>100.0</td>\n",
              "      <td>0.01</td>\n",
              "    </tr>\n",
              "    <tr>\n",
              "      <th>2</th>\n",
              "      <td>100.0</td>\n",
              "      <td>38.017398</td>\n",
              "      <td>26.202664</td>\n",
              "      <td>38.017398</td>\n",
              "      <td>100.0</td>\n",
              "      <td>0.02</td>\n",
              "    </tr>\n",
              "    <tr>\n",
              "      <th>3</th>\n",
              "      <td>100.0</td>\n",
              "      <td>44.640132</td>\n",
              "      <td>30.672353</td>\n",
              "      <td>44.640132</td>\n",
              "      <td>100.0</td>\n",
              "      <td>0.03</td>\n",
              "    </tr>\n",
              "    <tr>\n",
              "      <th>4</th>\n",
              "      <td>100.0</td>\n",
              "      <td>50.232114</td>\n",
              "      <td>35.414113</td>\n",
              "      <td>50.232114</td>\n",
              "      <td>100.0</td>\n",
              "      <td>0.04</td>\n",
              "    </tr>\n",
              "    <tr>\n",
              "      <th>...</th>\n",
              "      <td>...</td>\n",
              "      <td>...</td>\n",
              "      <td>...</td>\n",
              "      <td>...</td>\n",
              "      <td>...</td>\n",
              "      <td>...</td>\n",
              "    </tr>\n",
              "    <tr>\n",
              "      <th>95</th>\n",
              "      <td>100.0</td>\n",
              "      <td>99.986259</td>\n",
              "      <td>99.980567</td>\n",
              "      <td>99.986259</td>\n",
              "      <td>100.0</td>\n",
              "      <td>0.96</td>\n",
              "    </tr>\n",
              "    <tr>\n",
              "      <th>96</th>\n",
              "      <td>100.0</td>\n",
              "      <td>99.987437</td>\n",
              "      <td>99.982233</td>\n",
              "      <td>99.987437</td>\n",
              "      <td>100.0</td>\n",
              "      <td>0.97</td>\n",
              "    </tr>\n",
              "    <tr>\n",
              "      <th>97</th>\n",
              "      <td>100.0</td>\n",
              "      <td>99.988513</td>\n",
              "      <td>99.983755</td>\n",
              "      <td>99.988513</td>\n",
              "      <td>100.0</td>\n",
              "      <td>0.98</td>\n",
              "    </tr>\n",
              "    <tr>\n",
              "      <th>98</th>\n",
              "      <td>100.0</td>\n",
              "      <td>99.989498</td>\n",
              "      <td>99.985147</td>\n",
              "      <td>99.989498</td>\n",
              "      <td>100.0</td>\n",
              "      <td>0.99</td>\n",
              "    </tr>\n",
              "    <tr>\n",
              "      <th>99</th>\n",
              "      <td>100.0</td>\n",
              "      <td>99.990398</td>\n",
              "      <td>99.986420</td>\n",
              "      <td>99.990398</td>\n",
              "      <td>100.0</td>\n",
              "      <td>1.00</td>\n",
              "    </tr>\n",
              "  </tbody>\n",
              "</table>\n",
              "<p>100 rows × 6 columns</p>\n",
              "</div>"
            ],
            "text/plain": [
              "      0.0       0.25        0.5       0.75    1.0  Tiempo\n",
              "0    60.0  20.000000  20.000000  20.000000   60.0    0.00\n",
              "1   100.0  29.990539  22.421949  29.990539  100.0    0.01\n",
              "2   100.0  38.017398  26.202664  38.017398  100.0    0.02\n",
              "3   100.0  44.640132  30.672353  44.640132  100.0    0.03\n",
              "4   100.0  50.232114  35.414113  50.232114  100.0    0.04\n",
              "..    ...        ...        ...        ...    ...     ...\n",
              "95  100.0  99.986259  99.980567  99.986259  100.0    0.96\n",
              "96  100.0  99.987437  99.982233  99.987437  100.0    0.97\n",
              "97  100.0  99.988513  99.983755  99.988513  100.0    0.98\n",
              "98  100.0  99.989498  99.985147  99.989498  100.0    0.99\n",
              "99  100.0  99.990398  99.986420  99.990398  100.0    1.00\n",
              "\n",
              "[100 rows x 6 columns]"
            ]
          },
          "metadata": {
            "tags": []
          },
          "execution_count": 87
        }
      ]
    },
    {
      "cell_type": "code",
      "metadata": {
        "colab": {
          "base_uri": "https://localhost:8080/"
        },
        "id": "u9CbF4tdiioD",
        "outputId": "f4ae7a2a-493f-4fd9-ffd7-1faf3f27d3ef"
      },
      "source": [
        "t01 = df[\"Tiempo\"] == 0.01\n",
        "t01.head()\n"
      ],
      "execution_count": null,
      "outputs": [
        {
          "output_type": "execute_result",
          "data": {
            "text/plain": [
              "0    False\n",
              "1     True\n",
              "2    False\n",
              "3    False\n",
              "4    False\n",
              "Name: Tiempo, dtype: bool"
            ]
          },
          "metadata": {
            "tags": []
          },
          "execution_count": 88
        }
      ]
    },
    {
      "cell_type": "code",
      "metadata": {
        "colab": {
          "base_uri": "https://localhost:8080/"
        },
        "id": "IoEZ6KGImDpF",
        "outputId": "0195bfb9-a975-4daf-8faf-aca5a6ee7772"
      },
      "source": [
        "t05 = df[\"Tiempo\"] == 0.05\n",
        "t05"
      ],
      "execution_count": null,
      "outputs": [
        {
          "output_type": "execute_result",
          "data": {
            "text/plain": [
              "0     False\n",
              "1     False\n",
              "2     False\n",
              "3     False\n",
              "4     False\n",
              "      ...  \n",
              "95    False\n",
              "96    False\n",
              "97    False\n",
              "98    False\n",
              "99    False\n",
              "Name: Tiempo, Length: 100, dtype: bool"
            ]
          },
          "metadata": {
            "tags": []
          },
          "execution_count": 89
        }
      ]
    },
    {
      "cell_type": "code",
      "metadata": {
        "colab": {
          "base_uri": "https://localhost:8080/",
          "height": 81
        },
        "id": "XeTz_pONnIvr",
        "outputId": "7190c584-0327-42d8-dc8e-ceed1c4bd5da"
      },
      "source": [
        "df_t05 = df[t05]\n",
        "df_t05"
      ],
      "execution_count": null,
      "outputs": [
        {
          "output_type": "execute_result",
          "data": {
            "text/html": [
              "<div>\n",
              "<style scoped>\n",
              "    .dataframe tbody tr th:only-of-type {\n",
              "        vertical-align: middle;\n",
              "    }\n",
              "\n",
              "    .dataframe tbody tr th {\n",
              "        vertical-align: top;\n",
              "    }\n",
              "\n",
              "    .dataframe thead th {\n",
              "        text-align: right;\n",
              "    }\n",
              "</style>\n",
              "<table border=\"1\" class=\"dataframe\">\n",
              "  <thead>\n",
              "    <tr style=\"text-align: right;\">\n",
              "      <th></th>\n",
              "      <th>0.0</th>\n",
              "      <th>0.25</th>\n",
              "      <th>0.5</th>\n",
              "      <th>0.75</th>\n",
              "      <th>1.0</th>\n",
              "      <th>Tiempo</th>\n",
              "    </tr>\n",
              "  </thead>\n",
              "  <tbody>\n",
              "    <tr>\n",
              "      <th>5</th>\n",
              "      <td>100.0</td>\n",
              "      <td>55.045322</td>\n",
              "      <td>40.173194</td>\n",
              "      <td>55.045322</td>\n",
              "      <td>100.0</td>\n",
              "      <td>0.05</td>\n",
              "    </tr>\n",
              "  </tbody>\n",
              "</table>\n",
              "</div>"
            ],
            "text/plain": [
              "     0.0       0.25        0.5       0.75    1.0  Tiempo\n",
              "5  100.0  55.045322  40.173194  55.045322  100.0    0.05"
            ]
          },
          "metadata": {
            "tags": []
          },
          "execution_count": 90
        }
      ]
    },
    {
      "cell_type": "code",
      "metadata": {
        "id": "VKW7h8GYndm0"
      },
      "source": [
        "t01 = df[\"Tiempo\"] == 0.01\n",
        "df_t01 = df[t01]\n",
        "t1 = df[\"Tiempo\"] == 0.1\n",
        "df_t1 = df[t1]\n",
        "t2 = df[\"Tiempo\"] == 0.2\n",
        "df_t2 = df[t2]\n",
        "t4 = df[\"Tiempo\"] == 0.4\n",
        "df_t4 = df[t4]\n"
      ],
      "execution_count": null,
      "outputs": []
    },
    {
      "cell_type": "code",
      "metadata": {
        "colab": {
          "base_uri": "https://localhost:8080/",
          "height": 205
        },
        "id": "DzjzwgiYpRxg",
        "outputId": "1c0b7688-f3d1-43e5-a6e8-de1edbc998c4"
      },
      "source": [
        "df_datos = df_t01.append(df_t05)\n",
        "df_datos = df_datos.append(df_t1)\n",
        "df_datos = df_datos.append(df_t2)\n",
        "df_datos = df_datos.append(df_t4)\n",
        "df_datos"
      ],
      "execution_count": null,
      "outputs": [
        {
          "output_type": "execute_result",
          "data": {
            "text/html": [
              "<div>\n",
              "<style scoped>\n",
              "    .dataframe tbody tr th:only-of-type {\n",
              "        vertical-align: middle;\n",
              "    }\n",
              "\n",
              "    .dataframe tbody tr th {\n",
              "        vertical-align: top;\n",
              "    }\n",
              "\n",
              "    .dataframe thead th {\n",
              "        text-align: right;\n",
              "    }\n",
              "</style>\n",
              "<table border=\"1\" class=\"dataframe\">\n",
              "  <thead>\n",
              "    <tr style=\"text-align: right;\">\n",
              "      <th></th>\n",
              "      <th>0.0</th>\n",
              "      <th>0.25</th>\n",
              "      <th>0.5</th>\n",
              "      <th>0.75</th>\n",
              "      <th>1.0</th>\n",
              "      <th>Tiempo</th>\n",
              "    </tr>\n",
              "  </thead>\n",
              "  <tbody>\n",
              "    <tr>\n",
              "      <th>1</th>\n",
              "      <td>100.0</td>\n",
              "      <td>29.990539</td>\n",
              "      <td>22.421949</td>\n",
              "      <td>29.990539</td>\n",
              "      <td>100.0</td>\n",
              "      <td>0.01</td>\n",
              "    </tr>\n",
              "    <tr>\n",
              "      <th>5</th>\n",
              "      <td>100.0</td>\n",
              "      <td>55.045322</td>\n",
              "      <td>40.173194</td>\n",
              "      <td>55.045322</td>\n",
              "      <td>100.0</td>\n",
              "      <td>0.05</td>\n",
              "    </tr>\n",
              "    <tr>\n",
              "      <th>10</th>\n",
              "      <td>100.0</td>\n",
              "      <td>71.973709</td>\n",
              "      <td>60.788921</td>\n",
              "      <td>71.973709</td>\n",
              "      <td>100.0</td>\n",
              "      <td>0.10</td>\n",
              "    </tr>\n",
              "    <tr>\n",
              "      <th>20</th>\n",
              "      <td>100.0</td>\n",
              "      <td>88.617844</td>\n",
              "      <td>83.908628</td>\n",
              "      <td>88.617844</td>\n",
              "      <td>100.0</td>\n",
              "      <td>0.20</td>\n",
              "    </tr>\n",
              "    <tr>\n",
              "      <th>40</th>\n",
              "      <td>100.0</td>\n",
              "      <td>98.103373</td>\n",
              "      <td>97.317765</td>\n",
              "      <td>98.103373</td>\n",
              "      <td>100.0</td>\n",
              "      <td>0.40</td>\n",
              "    </tr>\n",
              "  </tbody>\n",
              "</table>\n",
              "</div>"
            ],
            "text/plain": [
              "      0.0       0.25        0.5       0.75    1.0  Tiempo\n",
              "1   100.0  29.990539  22.421949  29.990539  100.0    0.01\n",
              "5   100.0  55.045322  40.173194  55.045322  100.0    0.05\n",
              "10  100.0  71.973709  60.788921  71.973709  100.0    0.10\n",
              "20  100.0  88.617844  83.908628  88.617844  100.0    0.20\n",
              "40  100.0  98.103373  97.317765  98.103373  100.0    0.40"
            ]
          },
          "metadata": {
            "tags": []
          },
          "execution_count": 92
        }
      ]
    },
    {
      "cell_type": "code",
      "metadata": {
        "colab": {
          "base_uri": "https://localhost:8080/",
          "height": 279
        },
        "id": "83a45qKdrxqx",
        "outputId": "ceec597b-0b86-4b63-b4d0-00d78fdbf3a5"
      },
      "source": [
        "plt.plot(x,T[1,:])\n",
        "plt.plot(x,T[5,:])\n",
        "plt.plot(x,T[10,:])\n",
        "plt.plot(x,T[20,:])\n",
        "plt.plot(x,T[40,:])\n",
        "plt.xlabel(\"Distancia\")\n",
        "plt.ylabel(\"Temperatura\")\n",
        "plt.legend([r\"$t=0.01$\", r\"$t=0.05$\", r\"$t=0.1$\", r\"$t=0.2$\", r\"$t=0.4$\" ])\n",
        "plt.show()"
      ],
      "execution_count": null,
      "outputs": [
        {
          "output_type": "display_data",
          "data": {
            "image/png": "[encoded data removed]",
            "text/plain": [
              "<Figure size 432x288 with 1 Axes>"
            ]
          },
          "metadata": {
            "tags": [],
            "needs_background": "light"
          }
        }
      ]
    },
    {
      "cell_type": "markdown",
      "metadata": {
        "id": "jiAWxmduuR7n"
      },
      "source": [
        "En general, si se divide la longitud de la barra en $n$ subintervalos, con lo cual se obtienen $n-1$ nodos o puntos interiores, y por lo tanto se tiene que resolver un sistema de $n-1$ ecuaciones lineales.\n",
        "\n",
        "\\begin{array}{rcrcrcrcl}\n",
        "(1+2\\lambda)T_{1,j+1} & - &\\lambda T_{2,j+1} &  & & & &  = &\\lambda T_{0,j+1} +T_{1,j}\\\\\n",
        "-\\lambda T_{1,j+1} & + & (1+2\\lambda)T_{2,j+1}& - &\\lambda T_{3,j+1}& & & = &T_{2,j}  \\\\\n",
        "                   &- & \\lambda T_{2,j+1}     & + &(1+2\\lambda)T_{3,j+1}& -& \\lambda T_{4,j+1} & = & T_{3,j}\\\\\n",
        "& &    &  &\\vdots& &  & & \\\\\n",
        "                  &- & \\lambda T_{n-3,j+1}     & + &(1+2\\lambda)T_{n-2,j+1}& -& \\lambda T_{n-1,j+1} & = & T_{n-2,j}\\\\\n",
        "                  &  &                        & -&\\lambda T_{n-2,j+1}& + & (1+2\\lambda) T_{n-1,j+1} & = & T_{n-1,j}+\\lambda T_{n,j+1}\n",
        "\\end{array}\n",
        "\n",
        "La matriz de este sistema es simétrica, tridiagonal y de coeficientes constantes.\n",
        "\n"
      ]
    },
    {
      "cell_type": "markdown",
      "metadata": {
        "id": "McP8kEOPzl1c"
      },
      "source": [
        "## Método de Crank-Nicholson\n",
        "\n",
        "Consiste en obtener un algoritmo implícito de la forma siguiente:\n",
        "\n",
        "1. Aproximar $\\partial T/\\partial t$ en el nodo $(i,j)$ con diferencias hacia adelante, y $\\partial^2 T/\\partial t^2$ con diferencias centrales.\n",
        "\n",
        "$$\\dfrac{T_{i,j+1}-T_{i,j}}{\\Delta t} = \\alpha \\dfrac{T_{i-1,j}-2T_{i,j}+T_{i-1,j}}{\\Delta x^2}$$\n",
        "\n",
        "2. Aproximar $\\partial T/\\partial t$ en el nodo $(i,j+1)$ con diferencias hacia atrás, y $\\partial^2 T/\\partial t^2$ con diferencias centrales.\n",
        "\n",
        "$$\\dfrac{T_{i,j+1}-T_{i,j}}{\\Delta t} = \\alpha \\dfrac{T_{i-1,j+1}-2T_{i,j+1}+T_{i+1,j+1}}{\\Delta x^2}$$\n",
        "\n",
        "3. Al sumar las aproximaciones se llega al algoritmo de Crack-Nicholson:\n",
        "\n",
        "$$T_{i,j+1} - T_{i,j} = \\dfrac{\\lambda}{2}\\left[T_{i-1,j} - 2T_{i,j} + T_{i+1,j} + T_{i-1,j+1} - 2T_{i,j+1} + T_{i+1,j+1} \\right]$$\n"
      ]
    },
    {
      "cell_type": "markdown",
      "metadata": {
        "id": "8eMi0Qdr4p7b"
      },
      "source": [
        "\n",
        "Al aplicar el algoritmo en $i=1$ y $j=0$ para conocer el valor del nodo $(1,1)$, se tiene\n",
        "\n",
        "$$T_{1,1} - T_{1,0} = \\dfrac{\\lambda}{2}\\left[T_{0,0} - 2T_{1,0} + T_{2,0} + T_{0,1} - 2T_{1,1} + T_{2,1} \\right]$$\n",
        "\n",
        "\n",
        "<figure>\n",
        "  <img src=\"https://drive.google.com/uc?id=1Vru8OtDge6JdUVt41OhBXlU-7sQN-tIX&export=download\" width=\"50%\">\n",
        "  <figcaption> Discretización para el método de Crank-Nicholson.</figcaption>\n",
        "</figure>\n",
        "\n",
        "\n",
        "\n",
        "\n",
        "Al analizar la figura, se sabe que los nodos $(0,0)$, $(1,0)$, $(2,0)$ y $(0,1)$ son puntos con valores conocidos a partir de las condiciones inicial y de frontera. Entonces, pasamos del lado derecho los nodos (valores) conocidos y del lado izquierdo los que se desconocen.\n",
        "\n",
        "$$(1+\\lambda)T_{1,1} - \\dfrac{\\lambda}{2}T_{2,1} = (1-\\lambda)T_{1,0} + \\dfrac{\\lambda}{2}\\left[T_{0,0} + T_{0,1} + T_{2,0} \\right]$$\n",
        "\n",
        "Se aplica un razonamiento similar para encontrar el valor en el nodo $(2,1)$ y $(3,1)$, se evalúa el algoritmo en $i = 2, j=0$ y $i = 3, j=0$, espectivamente:\n",
        "\n",
        "$$-\\dfrac{\\lambda}{2}T_{1,1} + (1+\\lambda)T_{2,1}-\\dfrac{\\lambda}{2}T_{3,1} = \\dfrac{\\lambda}{2}T_{1,0} + (1-\\lambda)T_{2,0}+\\dfrac{\\lambda}{2}T_{3,0}$$\n",
        "\n",
        "$$-\\dfrac{\\lambda}{2}T_{2,1} + (1+\\lambda)T_{3,1} = \\dfrac{\\lambda}{2}[T_{2,0} +T_{4,0} + T_{4,1}] + (1-\\lambda)T_{3,0}$$\n",
        "\n",
        "Con lo cual se llega a un sistema de ecuaciones lineales \n",
        "\n",
        "\\begin{array}{rcrcl}\n",
        "(1+\\lambda)T_{1,1} & - & \\dfrac{\\lambda}{2}T_{2,1}& & & = & (1-\\lambda)T_{1,0} + \\dfrac{\\lambda}{2}\\left[T_{0,0} + T_{0,1} + T_{2,0} \\right]\\\\\n",
        "-\\dfrac{\\lambda}{2}T_{1,1} & + & (1+\\lambda)T_{2,1} &- & \\dfrac{\\lambda}{2}T_{3,1} & = & \\dfrac{\\lambda}{2}[T_{1,0} +T_{3,0}]+ (1-\\lambda)T_{2,0}\\\\\n",
        "& - &\\dfrac{\\lambda}{2}T_{2,1} & + & (1+\\lambda)T_{3,1}  & = & \\dfrac{\\lambda}{2}[T_{2,0} +T_{4,0} + T_{4,1}] + (1-\\lambda)T_{3,0}\n",
        "\\end{array}\n",
        "\n",
        "\n",
        "el cual, al resolver, permite conocer los valores en los nodos interiores $(1,1),\\, (1,2)$ y $(1,3)$."
      ]
    },
    {
      "cell_type": "markdown",
      "metadata": {
        "id": "K7kl3t3E4w1h"
      },
      "source": [
        "Se sigue un razonamiento similar para resolver los nodos $(2,1),\\,(2,2)$ y $(2,3)$\n",
        "\n",
        "\\begin{array}{rcrcl}\n",
        "(1+\\lambda)T_{1,2} & - & \\dfrac{\\lambda}{2}T_{2,2}& & & = & (1-\\lambda)T_{1,1} + \\dfrac{\\lambda}{2}\\left[T_{0,1} + T_{0,2} + T_{2,1} \\right]\\\\\n",
        "-\\dfrac{\\lambda}{2}T_{1,2} & + & (1+\\lambda)T_{2,2} &- & \\dfrac{\\lambda}{2}T_{3,2} & = & \\dfrac{\\lambda}{2}[T_{1,1} + T_{3,1}] + (1-\\lambda)T_{2,1}\\\\\n",
        "& - &\\dfrac{\\lambda}{2}T_{2,2} & + & (1+\\lambda)T_{3,2}  & = & \\dfrac{\\lambda}{2}[T_{2,1} +T_{4,1} + T_{4,2}] + (1-\\lambda)T_{3,1}\n",
        "\\end{array}\n",
        "\n"
      ]
    },
    {
      "cell_type": "markdown",
      "metadata": {
        "id": "SbIxLng54wsA"
      },
      "source": [
        "**Ejemplo**\n",
        "\n",
        "Resolver utilizando el algoritmo de Crank-Nicholson\n",
        "\n",
        "$$ PVF =\n",
        "  \\begin{cases}\n",
        "    \\dfrac{\\partial T}{\\partial t} &= \\alpha \\dfrac{\\partial^2 T}{\\partial x^2}\\quad \\text{Ecuación diferencial parcial}\\\\\n",
        "T(x,0) &= 20^{°}F,\\, 0 < x < L\\quad \\text{Condición inicial}\\\\\n",
        "T(0,t) &= 100^{°}F,\\, t>0 \\quad \\text{Condición de frontera 1}\\\\\n",
        "T(L,t) &= 100^{°}F,\\, t>0 \\quad \\text{Condición de frontera 2}\n",
        "  \\end{cases}\n",
        "$$\n",
        "Con \n",
        "+ $L = 1\\,\\mathrm{pie}$\n",
        "+ $\\alpha = 1\\, \\mathrm{pie^2/h}$\n",
        "+ $t_{max} = 1\\, \\mathrm{h}$\n"
      ]
    },
    {
      "cell_type": "code",
      "metadata": {
        "colab": {
          "base_uri": "https://localhost:8080/"
        },
        "id": "-tTujfNczoUW",
        "outputId": "0df01bdb-faea-4edb-cc0e-7e622f1a59f3"
      },
      "source": [
        "# Condiciones iniciales y de frontera\n",
        "CIT = 20.0\n",
        "CF1T = 100.0\n",
        "CF2T = 100.0\n",
        "L, tmax = 1.0, 1.0\n",
        "\n",
        "# Parámetros\n",
        "alpha = 1.0\n",
        "\n",
        "# Construcción de los arreglos para la distancia y el tiempo\n",
        "x = np.linspace(0,L,5,endpoint=True)\n",
        "dx = x[1]-x[0]\n",
        "t = np.around(np.linspace(0,tmax,100,endpoint=True),2)\n",
        "dt = t[1]-t[0]\n",
        "\n",
        "F = alpha*dt/dx**2\n",
        "print(dx,dt, F)"
      ],
      "execution_count": null,
      "outputs": [
        {
          "output_type": "stream",
          "text": [
            "0.25 0.01 0.16\n"
          ],
          "name": "stdout"
        }
      ]
    },
    {
      "cell_type": "code",
      "metadata": {
        "id": "0u4AGZWPzoUo"
      },
      "source": [
        "# Funciones para contruir el sistema de ecuaciones lineales\n",
        "\n",
        "def MASEL(l):\n",
        "  F1 = [(1+l), -l/2, 0]\n",
        "  F2 = [-l/2, (1+l), 0]\n",
        "  F3 = [0, -l/2, (1+l)]\n",
        "  return csc_matrix([F1,F2,F3])\n",
        "\n",
        "def VbSEL(l,T00,T01,T10,T20,T30,T40,T41):\n",
        "  E1 = (1-l)*T10 + 0.5*l*(T00 + T01 + T20)\n",
        "  E2 = 0.5*l*(T10 + T30) + (1-l)*T20\n",
        "  E3 = 0.5*l*(T20 + T40 + T41) + (1-l)*T30\n",
        "  return np.array([E1,E2,E3])"
      ],
      "execution_count": null,
      "outputs": []
    },
    {
      "cell_type": "code",
      "metadata": {
        "id": "UViscgwmzoUp"
      },
      "source": [
        "# Construimos un arreglo T para almacenar los valores calculados.\n",
        "Nx, Nt = len(x), len(t)\n",
        "T = np.zeros((Nt,Nx))"
      ],
      "execution_count": null,
      "outputs": []
    },
    {
      "cell_type": "code",
      "metadata": {
        "colab": {
          "base_uri": "https://localhost:8080/"
        },
        "id": "98JAEbrFzoUq",
        "outputId": "2dc2edc7-1e34-4567-af9a-8509d563752e"
      },
      "source": [
        "T[0:5,:]"
      ],
      "execution_count": null,
      "outputs": [
        {
          "output_type": "execute_result",
          "data": {
            "text/plain": [
              "array([[0., 0., 0., 0., 0.],\n",
              "       [0., 0., 0., 0., 0.],\n",
              "       [0., 0., 0., 0., 0.],\n",
              "       [0., 0., 0., 0., 0.],\n",
              "       [0., 0., 0., 0., 0.]])"
            ]
          },
          "metadata": {
            "tags": []
          },
          "execution_count": 97
        }
      ]
    },
    {
      "cell_type": "code",
      "metadata": {
        "id": "WuqFWH4PzoUr"
      },
      "source": [
        "T[0,0] = (CF1T+CIT)/2.0\n",
        "T[0,-1] = (CF2T+CIT)/2.0\n",
        "T[0,1:-1] = CIT\n",
        "T[1:,0] = CF1T\n",
        "T[1:,-1] = CF2T"
      ],
      "execution_count": null,
      "outputs": []
    },
    {
      "cell_type": "code",
      "metadata": {
        "colab": {
          "base_uri": "https://localhost:8080/"
        },
        "id": "FHSAzTVEzoUr",
        "outputId": "d6422153-de0a-41c2-9dab-e4505096babe"
      },
      "source": [
        "T[0:5,:]"
      ],
      "execution_count": null,
      "outputs": [
        {
          "output_type": "execute_result",
          "data": {
            "text/plain": [
              "array([[ 60.,  20.,  20.,  20.,  60.],\n",
              "       [100.,   0.,   0.,   0., 100.],\n",
              "       [100.,   0.,   0.,   0., 100.],\n",
              "       [100.,   0.,   0.,   0., 100.],\n",
              "       [100.,   0.,   0.,   0., 100.]])"
            ]
          },
          "metadata": {
            "tags": []
          },
          "execution_count": 99
        }
      ]
    },
    {
      "cell_type": "code",
      "metadata": {
        "colab": {
          "base_uri": "https://localhost:8080/"
        },
        "id": "Kc1iQanbzoUs",
        "outputId": "dcb766f5-4577-4f63-83d5-105b31f1dc6e"
      },
      "source": [
        "A = MASEL(F)\n",
        "A"
      ],
      "execution_count": null,
      "outputs": [
        {
          "output_type": "execute_result",
          "data": {
            "text/plain": [
              "<3x3 sparse matrix of type '<class 'numpy.float64'>'\n",
              "\twith 6 stored elements in Compressed Sparse Column format>"
            ]
          },
          "metadata": {
            "tags": []
          },
          "execution_count": 100
        }
      ]
    },
    {
      "cell_type": "code",
      "metadata": {
        "id": "VBeoay5xzoUt"
      },
      "source": [
        "# def VbSEL(l,T00,T01,T10,T20,T30,T40,T41):\n",
        "for j in range(Nt-1):\n",
        "  b = VbSEL(F, T[j,0], T[j+1,0], T[j,1], T[j,2], T[j,3], T[j,4], T[j+1,4])\n",
        "  T[j+1,1], T[j+1,2], T[j+1,3] = spsolve(A,b)\n"
      ],
      "execution_count": null,
      "outputs": []
    },
    {
      "cell_type": "code",
      "metadata": {
        "colab": {
          "base_uri": "https://localhost:8080/"
        },
        "id": "_--hfNi8APK-",
        "outputId": "235a2b59-a686-4c16-b866-6f1b1e820503"
      },
      "source": [
        "b"
      ],
      "execution_count": null,
      "outputs": [
        {
          "output_type": "execute_result",
          "data": {
            "text/plain": [
              "array([87.99971613, 63.19963746, 87.99971613])"
            ]
          },
          "metadata": {
            "tags": []
          },
          "execution_count": 105
        }
      ]
    },
    {
      "cell_type": "code",
      "metadata": {
        "colab": {
          "base_uri": "https://localhost:8080/",
          "height": 422
        },
        "id": "0iWzzmD-44QS",
        "outputId": "d4d522b6-1bec-4ba0-9364-496e8291ee48"
      },
      "source": [
        "df_Crank_Nicholson = pd.DataFrame(T, columns =['0.0', '0.25',  '0.5', '0.75',  '1.0'])\n",
        "df_Crank_Nicholson[\"Tiempo\"] = t\n",
        "df_Crank_Nicholson"
      ],
      "execution_count": null,
      "outputs": [
        {
          "output_type": "execute_result",
          "data": {
            "text/html": [
              "<div>\n",
              "<style scoped>\n",
              "    .dataframe tbody tr th:only-of-type {\n",
              "        vertical-align: middle;\n",
              "    }\n",
              "\n",
              "    .dataframe tbody tr th {\n",
              "        vertical-align: top;\n",
              "    }\n",
              "\n",
              "    .dataframe thead th {\n",
              "        text-align: right;\n",
              "    }\n",
              "</style>\n",
              "<table border=\"1\" class=\"dataframe\">\n",
              "  <thead>\n",
              "    <tr style=\"text-align: right;\">\n",
              "      <th></th>\n",
              "      <th>0.0</th>\n",
              "      <th>0.25</th>\n",
              "      <th>0.5</th>\n",
              "      <th>0.75</th>\n",
              "      <th>1.0</th>\n",
              "      <th>Tiempo</th>\n",
              "    </tr>\n",
              "  </thead>\n",
              "  <tbody>\n",
              "    <tr>\n",
              "      <th>0</th>\n",
              "      <td>60.0</td>\n",
              "      <td>20.000000</td>\n",
              "      <td>20.000000</td>\n",
              "      <td>20.000000</td>\n",
              "      <td>60.0</td>\n",
              "      <td>0.00</td>\n",
              "    </tr>\n",
              "    <tr>\n",
              "      <th>1</th>\n",
              "      <td>100.0</td>\n",
              "      <td>28.219833</td>\n",
              "      <td>19.187575</td>\n",
              "      <td>28.219833</td>\n",
              "      <td>100.0</td>\n",
              "      <td>0.01</td>\n",
              "    </tr>\n",
              "    <tr>\n",
              "      <th>2</th>\n",
              "      <td>100.0</td>\n",
              "      <td>36.953876</td>\n",
              "      <td>20.335385</td>\n",
              "      <td>36.953876</td>\n",
              "      <td>100.0</td>\n",
              "      <td>0.02</td>\n",
              "    </tr>\n",
              "    <tr>\n",
              "      <th>3</th>\n",
              "      <td>100.0</td>\n",
              "      <td>43.529367</td>\n",
              "      <td>22.824735</td>\n",
              "      <td>43.529367</td>\n",
              "      <td>100.0</td>\n",
              "      <td>0.03</td>\n",
              "    </tr>\n",
              "    <tr>\n",
              "      <th>4</th>\n",
              "      <td>100.0</td>\n",
              "      <td>48.673946</td>\n",
              "      <td>25.889131</td>\n",
              "      <td>48.673946</td>\n",
              "      <td>100.0</td>\n",
              "      <td>0.04</td>\n",
              "    </tr>\n",
              "    <tr>\n",
              "      <th>...</th>\n",
              "      <td>...</td>\n",
              "      <td>...</td>\n",
              "      <td>...</td>\n",
              "      <td>...</td>\n",
              "      <td>...</td>\n",
              "      <td>...</td>\n",
              "    </tr>\n",
              "    <tr>\n",
              "      <th>95</th>\n",
              "      <td>100.0</td>\n",
              "      <td>79.999564</td>\n",
              "      <td>59.999460</td>\n",
              "      <td>79.999564</td>\n",
              "      <td>100.0</td>\n",
              "      <td>0.96</td>\n",
              "    </tr>\n",
              "    <tr>\n",
              "      <th>96</th>\n",
              "      <td>100.0</td>\n",
              "      <td>79.999614</td>\n",
              "      <td>59.999522</td>\n",
              "      <td>79.999614</td>\n",
              "      <td>100.0</td>\n",
              "      <td>0.97</td>\n",
              "    </tr>\n",
              "    <tr>\n",
              "      <th>97</th>\n",
              "      <td>100.0</td>\n",
              "      <td>79.999658</td>\n",
              "      <td>59.999577</td>\n",
              "      <td>79.999658</td>\n",
              "      <td>100.0</td>\n",
              "      <td>0.98</td>\n",
              "    </tr>\n",
              "    <tr>\n",
              "      <th>98</th>\n",
              "      <td>100.0</td>\n",
              "      <td>79.999698</td>\n",
              "      <td>59.999626</td>\n",
              "      <td>79.999698</td>\n",
              "      <td>100.0</td>\n",
              "      <td>0.99</td>\n",
              "    </tr>\n",
              "    <tr>\n",
              "      <th>99</th>\n",
              "      <td>100.0</td>\n",
              "      <td>79.999732</td>\n",
              "      <td>59.999669</td>\n",
              "      <td>79.999732</td>\n",
              "      <td>100.0</td>\n",
              "      <td>1.00</td>\n",
              "    </tr>\n",
              "  </tbody>\n",
              "</table>\n",
              "<p>100 rows × 6 columns</p>\n",
              "</div>"
            ],
            "text/plain": [
              "      0.0       0.25        0.5       0.75    1.0  Tiempo\n",
              "0    60.0  20.000000  20.000000  20.000000   60.0    0.00\n",
              "1   100.0  28.219833  19.187575  28.219833  100.0    0.01\n",
              "2   100.0  36.953876  20.335385  36.953876  100.0    0.02\n",
              "3   100.0  43.529367  22.824735  43.529367  100.0    0.03\n",
              "4   100.0  48.673946  25.889131  48.673946  100.0    0.04\n",
              "..    ...        ...        ...        ...    ...     ...\n",
              "95  100.0  79.999564  59.999460  79.999564  100.0    0.96\n",
              "96  100.0  79.999614  59.999522  79.999614  100.0    0.97\n",
              "97  100.0  79.999658  59.999577  79.999658  100.0    0.98\n",
              "98  100.0  79.999698  59.999626  79.999698  100.0    0.99\n",
              "99  100.0  79.999732  59.999669  79.999732  100.0    1.00\n",
              "\n",
              "[100 rows x 6 columns]"
            ]
          },
          "metadata": {
            "tags": []
          },
          "execution_count": 106
        }
      ]
    },
    {
      "cell_type": "markdown",
      "metadata": {
        "id": "6QHy0zjZPOzv"
      },
      "source": [
        "## Tipos de condiciones de frontera\n",
        "\n",
        "1. **Dirichlet**\n",
        "\n",
        "Cuando la variable dependiente es conocida en todos los puntos de frontera.\n",
        "\n",
        "2. **Condiciones de Neuman**\n",
        "\n",
        "Se conoce la derivada de la variable dependiente en los puntos de frontera. Por ejemplo, en el siguiente PVF para la conducción de calor\n",
        "\n",
        "$$ PVF =\n",
        "  \\begin{cases}\n",
        "    \\dfrac{\\partial T}{\\partial t} &= \\alpha \\dfrac{\\partial^2 T}{\\partial x^2}\\quad \\text{Ecuación diferencial parcial}\\\\\n",
        "T(x,0) &= f(x),\\, 0 < x < L\\quad \\text{Condición inicial}\\\\\n",
        "\\dfrac{dT}{dx}|_{x=0} &= g_1(t),\\, t>0 \\quad \\text{Condición de frontera 1}\\\\\n",
        "\\dfrac{dT}{dx}|_{x=L} &= g_2(t),\\, t>0 \\quad \\text{Condición de frontera 2}\n",
        "  \\end{cases}\n",
        "$$\n",
        "\n",
        "se conoce como cambia la temperatura (gradiente) en $x=0$ y $x=L$.\n",
        "\n",
        "> + Si la frontera está aislada térmicamente, no hay cambio de temperatura en la frontera.\n",
        "\n",
        "$$\\dfrac{dT}{dx}|_{x=L} = 0$$\n",
        "\n",
        "> + Si la frontera está en contacto con el aire (o algún otro material), se puede usar la ley de enfriamiento de Newton para modelar la transferencia \n",
        "\n",
        "$$\\dfrac{dT}{dx}|_{x=L} = h(T-To)$$\n",
        "\n",
        "> donde $h$ es el coeficiente de transmisión de calor y $T_0$ es la temperatura del material.\n",
        "\n",
        "3. **Condiciones combinadas**\n",
        "\n",
        "> En la formulación de algunos problemas se puede tener una combinación de Dirichlet y Neumann, por ejemplo:\n",
        "$$ PVF =\n",
        "  \\begin{cases}\n",
        "    \\dfrac{\\partial T}{\\partial t} &= \\alpha \\dfrac{\\partial^2 T}{\\partial x^2}\\quad \\text{Ecuación diferencial parcial}\\\\\n",
        "T(x,0) &= f(x),\\, 0 < x < L\\quad \\text{Condición inicial}\\\\\n",
        "\\dfrac{dT}{dx}|_{x=0} &= g_1(t),\\, t>0 \\quad \\text{Condición de frontera 1, tipo Neumann}\\\\\n",
        "T(x,L) &= g_2(t),\\, t>0 \\quad \\text{Condición de frontera 2, tipo Dirichlet}\n",
        "  \\end{cases}\n",
        "$$\n"
      ]
    },
    {
      "cell_type": "code",
      "metadata": {
        "id": "opFX931W5G68"
      },
      "source": [
        ""
      ],
      "execution_count": null,
      "outputs": []
    }
  ]
}