{
  "nbformat": 4,
  "nbformat_minor": 0,
  "metadata": {
    "colab": {
      "name": "PolinomiosLagrange.ipynb",
      "provenance": []
    },
    "kernelspec": {
      "name": "python3",
      "display_name": "Python 3"
    },
    "language_info": {
      "name": "python"
    }
  },
  "cells": [
    {
      "cell_type": "code",
      "metadata": {
        "id": "H_hAFLwsb-IU"
      },
      "source": [
        "import numpy as np\n",
        "import matplotlib.pyplot as plt"
      ],
      "execution_count": 8,
      "outputs": []
    },
    {
      "cell_type": "markdown",
      "metadata": {
        "id": "JMX2NKEXvzTR"
      },
      "source": [
        "# Polinomios de Lagrange\n",
        "\n",
        "Partiendo de una función $f(x)$ desconocida dada en forma tabular $([x_0,f(x_0)],[x_1,f(x_1)]\\ldots[x_n,f(x_n)])$, y asumiendo que un polinomio $p(x)$ de primer grado se puede escribir de la forma siguiente:\n",
        "\n",
        "$$p(x)=a_0\\,(x-x_1) + a_1\\,(x-x0) $$\n",
        "\n",
        "donde $x_1$ y $x_0$ son puntos conocidos y $a_0$ y $a_1$ son los coeficientes que se desean determinar.\n",
        "\n",
        "> Resolviendo para $a_0$, se considera $x = x_0$.\n",
        "\n",
        "$$a_0 = \\dfrac{p(x_0)}{x_0 - x_1} = \\dfrac{f(x0)}{x_0 - x_1} $$\n",
        "\n",
        "> Resolviendo par $a_1$, se hace $x=x_1$\n",
        "\n",
        "$$a_1 = \\dfrac{p(x_1)}{x_1 - x_0} = \\dfrac{f(x_1)}{x_1 - x_0} $$\n",
        "\n",
        "Sustituyendo el valor de $a_1$ y $a_0$ en el polinomio de primer grado:\n",
        "\n",
        "$$p(x) = L_0\\,(x - x_1) + L_1\\,(x-x_0)$$\n",
        "\n",
        "donde:\n",
        "\n",
        "\n",
        "$$\\begin{align*}\n",
        "L_0 &= \\dfrac{f(x_0)}{x_0 - x_1}\\\\\n",
        "L_1 &= \\dfrac{f(x_1)}{x_1 - x_0}\n",
        "\\end{align*}$$\n",
        "\n",
        "> Para un _polinomio de segundo grado_:\n",
        "\n",
        "$$p_2(x) = a_0\\,(x - x_1)\\,(x - x_2) + a_1\\,(x-x_0)\\,(x-x_2) + a_2\\,(x-x_0)\\,(x-x_1)$$\n",
        "\n",
        "> puede escribirse:\n",
        "\n",
        "$$p_2(x) = L_0(x)\\,f(x_0) + L_1(x)\\,f(x_1) + L_2(x)\\,f(x_2)$$\n",
        "\n",
        "> donde:\n",
        "\n",
        "$$\\begin{align*}\n",
        "L_0(x) &= \\dfrac{(x - x_1)(x - x_2)}{(x_0 - x_1)(x_0 - x_2)}\\\\\n",
        "L_1(x) &= \\dfrac{(x - x_0)(x - x_2)}{(x_1 - x_0)(x_1 - x_2)}\\\\\n",
        "L_2(x) &= \\dfrac{(x - x_0)(x - x_1)}{(x_2 - x_0)(x_2 - x_1)}\\\\\n",
        "\\end{align*}$$\n",
        "\n",
        "> Para un polinomio de _n_-ésimo grado:\n",
        "\n",
        "$$p_n(x) = L_0(x)\\,f(x_0) + L_1(x)\\,f(x_1) + \\ldots + L_n(x)\\,f(x_n)$$\n",
        "\n",
        "> donde:\n",
        "\n",
        "$$\\begin{align*}\n",
        "L_0(x) &= \\dfrac{(x - x_1)(x - x_2)\\ldots(x - x_n)}{(x_0 - x_1)(x_0 - x_2)\\ldots(x_0 - x_n)}\\\\\n",
        "L_1(x) &= \\dfrac{(x - x_0)(x - x_2)\\ldots(x - x_n)}{(x_1 - x_0)(x_1 - x_2)\\ldots(x_1 - x_n)}\\\\\n",
        "\\vdots &\\\\\n",
        "L_n(x) &= \\dfrac{(x - x_0)(x - x_1)\\ldots(x - x_{n-1})}{(x_n - x_0)(x_n - x_1)\\ldots(x_n - x_{n-1})}\n",
        "\\end{align*}$$\n",
        "\n",
        "La biblioteca _scipy_ posee el método _lagrange_ para realizar interpolación.\n",
        "\n",
        "Considere todos los puntos de los datos tabulados de temperatura de ebullición para la acetona para construir un polinomio de interpolación de Lagrange:"
      ]
    },
    {
      "cell_type": "code",
      "metadata": {
        "id": "5d4LZhiIvCzm"
      },
      "source": [
        "from scipy.interpolate import lagrange    # Cargamos el método lagrange\n",
        "P = np.array([1, 5, 20, 40])    # Datos de presión, variable independiente\n",
        "T = np.array([56.5, 113.0, 181.0, 214.0])    # Datos de temperatura, variable dependiente\n",
        "# El polinomio resultante se almacenará en la varible pol\n",
        "pol = lagrange(P,T)    # Enviamos los datos de P y T al método lagrange"
      ],
      "execution_count": 9,
      "outputs": []
    },
    {
      "cell_type": "code",
      "metadata": {
        "colab": {
          "base_uri": "https://localhost:8080/"
        },
        "id": "SjydqJV9wW3q",
        "outputId": "bea37cfa-2936-4cc1-ee9d-45151c6ba479"
      },
      "source": [
        "pol"
      ],
      "execution_count": 10,
      "outputs": [
        {
          "output_type": "execute_result",
          "data": {
            "text/plain": [
              "poly1d([ 1.08318874e-02, -7.86453634e-01,  1.85079333e+01,  3.87676885e+01])"
            ]
          },
          "metadata": {
            "tags": []
          },
          "execution_count": 10
        }
      ]
    },
    {
      "cell_type": "code",
      "metadata": {
        "colab": {
          "base_uri": "https://localhost:8080/"
        },
        "id": "F1kfmYbdwfjo",
        "outputId": "38dcaeca-bcb0-4ce8-cddd-54dd04d08a10"
      },
      "source": [
        "pol(2)"
      ],
      "execution_count": 11,
      "outputs": [
        {
          "output_type": "execute_result",
          "data": {
            "text/plain": [
              "72.7243956043956"
            ]
          },
          "metadata": {
            "tags": []
          },
          "execution_count": 11
        }
      ]
    },
    {
      "cell_type": "code",
      "metadata": {
        "colab": {
          "base_uri": "https://localhost:8080/"
        },
        "id": "IMqvmoD7xucl",
        "outputId": "324f40ca-47b3-48fb-90fd-6bf36fd0c6bf"
      },
      "source": [
        "print(np.poly1d(pol.coefficients))"
      ],
      "execution_count": 12,
      "outputs": [
        {
          "output_type": "stream",
          "text": [
            "         3          2\n",
            "0.01083 x - 0.7865 x + 18.51 x + 38.77\n"
          ],
          "name": "stdout"
        }
      ]
    },
    {
      "cell_type": "markdown",
      "metadata": {
        "id": "YCcrQJGCyX8T"
      },
      "source": [
        "Al graficar los datos tabulados y el polinomio de interpolación de lagrange se pude observar que el ajuste a los datos tabulados es mejor. "
      ]
    },
    {
      "cell_type": "code",
      "metadata": {
        "colab": {
          "base_uri": "https://localhost:8080/",
          "height": 281
        },
        "id": "eM_JSuzVx6AE",
        "outputId": "212629a4-4e6a-4dc8-d7e3-c4be87fad264"
      },
      "source": [
        "p = np.arange(1,40)\n",
        "plt.plot(P,T, \"ko\")\n",
        "plt.plot(p,pol(p))\n",
        "plt.xlabel(\"Presion, atm\")\n",
        "plt.ylabel(\"Temperatura, grados C\")\n",
        "plt.show()"
      ],
      "execution_count": 14,
      "outputs": [
        {
          "output_type": "display_data",
          "data": {
            "image/png": "[encoded data removed]",
            "text/plain": [
              "<Figure size 432x288 with 1 Axes>"
            ]
          },
          "metadata": {
            "tags": [],
            "needs_background": "light"
          }
        }
      ]
    },
    {
      "cell_type": "markdown",
      "metadata": {
        "id": "7CFPZi_RvHZb"
      },
      "source": [
        "**Tarea**: Obtener manualmente el polinomio de Lagrange para los datos de $T(P)$.\n",
        "\n",
        "|**Puntos**| 0  | 1    | 2    | 3    |\n",
        "|---       |--- |---   |---   |---   |\n",
        "|$T(^oC)$   |56.5| 113.0| 181.0| 214.5|\n",
        "|$P(atm)$  | 1  | 5    | 20   | 40   |"
      ]
    }
  ]
}