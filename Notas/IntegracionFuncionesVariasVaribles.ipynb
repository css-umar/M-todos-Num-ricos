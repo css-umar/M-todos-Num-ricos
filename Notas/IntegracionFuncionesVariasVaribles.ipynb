{
  "nbformat": 4,
  "nbformat_minor": 0,
  "metadata": {
    "colab": {
      "name": "IntegracionFuncionesVariasVaribles.ipynb",
      "provenance": []
    },
    "kernelspec": {
      "name": "python3",
      "display_name": "Python 3"
    },
    "language_info": {
      "name": "python"
    }
  },
  "cells": [
    {
      "cell_type": "code",
      "metadata": {
        "id": "FDsEtF0CkA6U"
      },
      "source": [
        "import numpy as np\n",
        "import matplotlib.pyplot as plt"
      ],
      "execution_count": 1,
      "outputs": []
    },
    {
      "cell_type": "markdown",
      "metadata": {
        "id": "dvRnfaZmM08f"
      },
      "source": [
        "# Integrales dobles\n",
        "\n",
        "Para integrales dobles se utiliza el método [_dblquad_ ](https://docs.scipy.org/doc/scipy/reference/generated/scipy.integrate.dblquad.html)de la biblioteca scipy.\n",
        "\n",
        "**Ejemplo**\n",
        "\n",
        "Integre numéricamente\n",
        "\n",
        "$$\\int_0^{\\pi}\\int_0^3{y\\sin\\,x\\,dx\\,dy}$$"
      ]
    },
    {
      "cell_type": "code",
      "metadata": {
        "colab": {
          "base_uri": "https://localhost:8080/"
        },
        "id": "IXOA0GFG-Dvi",
        "outputId": "d280ff44-8487-4119-c298-c9724ce6f228"
      },
      "source": [
        "# Creamos la función con el integrando\n",
        "\n",
        "from scipy.integrate import dblquad\n",
        "\n",
        "f = lambda y, x: y*np.sin(x)\n",
        "\n",
        "# Dominio de integración en x\n",
        "a = 0\n",
        "b = 3\n",
        "\n",
        "# Dominio de integración en y\n",
        "c = 0\n",
        "d = np.pi\n",
        "\n",
        "#c = lambda y:0\n",
        "#d = lambda y: np.pi\n",
        "\n",
        "res = dblquad(f,a,b,c,d)\n",
        "print (\"la integral es:\",res[0])"
      ],
      "execution_count": null,
      "outputs": [
        {
          "output_type": "stream",
          "text": [
            "la integral es: 9.820219351291279\n"
          ],
          "name": "stdout"
        }
      ]
    },
    {
      "cell_type": "markdown",
      "metadata": {
        "id": "FJIPH0bDOUER"
      },
      "source": [
        "**Ejemplo**:\n",
        "\n",
        "Integre numéricamente \n",
        "\n",
        "$$\\int_1^3\\int_0^4 e^{x+y}\\,dx\\,dy$$"
      ]
    },
    {
      "cell_type": "code",
      "metadata": {
        "colab": {
          "base_uri": "https://localhost:8080/"
        },
        "id": "B73v7HXdNp3d",
        "outputId": "c9987609-97d1-4af2-d6df-e8e8a76c47d3"
      },
      "source": [
        "f = lambda y,x: np.e**(x+y)\n",
        "\n",
        "# Dominio de integración en x\n",
        "a = 0\n",
        "b = 4\n",
        "\n",
        "# Dominio de integración en y\n",
        "c = lambda y:1\n",
        "d = lambda y:3\n",
        "\n",
        "res = dblquad(f,a,b,c,d)\n",
        "print (\"la integral es:\",res[0])"
      ],
      "execution_count": null,
      "outputs": [
        {
          "output_type": "stream",
          "text": [
            "la integral es: 930.8527442311532\n"
          ],
          "name": "stdout"
        }
      ]
    },
    {
      "cell_type": "markdown",
      "metadata": {
        "id": "TV8K8EenP6py"
      },
      "source": [
        "# Integrales triples\n",
        "\n",
        "Para integrales dobles se utiliza el método [_tplquad_](https://het.as.utexas.edu/HET/Software/Scipy/generated/scipy.integrate.tplquad.html#scipy.integrate.tplquad) de la biblioteca scipy.\n",
        "\n",
        "**Ejemplo**:\n",
        "\n",
        "Integre numéricamente \n",
        "$$\\int_0^1\\int_2^3\\int_1^2x\\,y\\,z\\,dx\\,dy\\,dz$$"
      ]
    },
    {
      "cell_type": "code",
      "metadata": {
        "colab": {
          "base_uri": "https://localhost:8080/"
        },
        "id": "ywmDByLEO2FG",
        "outputId": "50c0f9a5-ebf2-4363-faa9-3a99f16fe35a"
      },
      "source": [
        "from scipy.integrate import tplquad\n",
        "\n",
        "fxyz = lambda z, y, x: x*y*z\n",
        "\n",
        "# Dominio de integración en x\n",
        "a = 1\n",
        "b = 2\n",
        "\n",
        "# Dominio de integración en y\n",
        "c =2\n",
        "d =3\n",
        "\n",
        "#c = lambda x:2\n",
        "#d = lambda x:3\n",
        "\n",
        "# Dominio de integración en z\n",
        "e = 0\n",
        "f = 1\n",
        "\n",
        "#e = lambda x,y:0\n",
        "#f = lambda x,y:1\n",
        "\n",
        "tplquad(fxyz,a,b,c,d,e,f)"
      ],
      "execution_count": null,
      "outputs": [
        {
          "output_type": "execute_result",
          "data": {
            "text/plain": [
              "(1.8750000000000002, 3.324644794257407e-14)"
            ]
          },
          "metadata": {
            "tags": []
          },
          "execution_count": 50
        }
      ]
    },
    {
      "cell_type": "markdown",
      "metadata": {
        "id": "HDaQKs6dUZHT"
      },
      "source": [
        "**Ejemplo**\n",
        "\n",
        "Integre numéricamente\n",
        "\n",
        "$$\\int_0^{\\sqrt{1-x^2-y^2}}\\int_0^{\\sqrt{1-x^2}}\\int_0^1x\\,y\\,dx\\,dy\\,dz$$"
      ]
    },
    {
      "cell_type": "code",
      "metadata": {
        "colab": {
          "base_uri": "https://localhost:8080/"
        },
        "id": "cuXHtq3XRRh0",
        "outputId": "9d7b780d-c5f9-4a07-a630-a4c35e5fc24c"
      },
      "source": [
        "fxyz = lambda z, y, x: x*y\n",
        "\n",
        "# Dominio de integración en x\n",
        "a = 0\n",
        "b = 1\n",
        "\n",
        "# Dominio de integración en y\n",
        "#c = lambda x:0\n",
        "c = 0\n",
        "d = lambda x:np.sqrt(1-x**2)\n",
        "\n",
        "# Dominio de integración en z\n",
        "#e = lambda x,y:0\n",
        "e = 0\n",
        "f = lambda x,y:np.sqrt(1-x**2-y**2)\n",
        "\n",
        "tplquad(fxyz,a,b,c,d,e,f)[0]"
      ],
      "execution_count": null,
      "outputs": [
        {
          "output_type": "execute_result",
          "data": {
            "text/plain": [
              "0.06666666666408252"
            ]
          },
          "metadata": {
            "tags": []
          },
          "execution_count": 55
        }
      ]
    }
  ]
}