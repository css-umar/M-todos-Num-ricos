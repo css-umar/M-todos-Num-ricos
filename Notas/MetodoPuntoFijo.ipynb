{
  "nbformat": 4,
  "nbformat_minor": 0,
  "metadata": {
    "colab": {
      "name": "PuntoFijo.ipynb",
      "provenance": [],
      "collapsed_sections": []
    },
    "kernelspec": {
      "name": "python3",
      "display_name": "Python 3"
    }
  },
  "cells": [
    {
      "cell_type": "markdown",
      "metadata": {
        "id": "BqbDwnFYrL-s"
      },
      "source": [
        "# Método del Punto Fijo\n",
        "Sea la ecuación:\n",
        "\n",
        "$$\\begin{equation}f(x)=0\\end{equation}$$\n",
        "\n",
        "de la cual se desea encontrar la raiz real $\\bar{x}$.\n",
        "\n",
        "\n",
        "**Paso 1:** Hay que transformar la ecuación anterior a una forma equivalente:\n",
        "\n",
        "$$x=g(x)$$\n",
        "\n",
        "**Paso 2:** Una vez obtenida la forma equivalente, se tantea una raíz $(x_0)$ \n",
        "\n",
        "**Paso 3:** Se evalúa la forma equivalente en $x_0$ y se obtiene $x_1$:\n",
        "\n",
        "$$g(x_0)=x_1$$\n",
        "\n",
        "**Paso 4:** Comparar el valor de $x_1$ con el $x_0$\n",
        "\n",
        "> **Caso 1. $x_1=x_0$**\n",
        ">> El problema queda concluido. Se ha elegido como valor inicial $(x_0)$ una raíz, es decir, que al evaluar la función original, se tiene que $f(x_0)=0$.\n",
        "\n",
        "> **Caso 2. $x_1\\not=x_0 $**\n",
        ">> Se procede a evaluar nuevamente la función equivalente, pero ahora en $x_1$, con lo cual se obtiene $x_2$:\n",
        "\n",
        "$$\\begin{equation} \n",
        "x_2=g(x_1)\n",
        "\\end{equation}$$\n",
        "\n",
        ">> El proceso se repite n veces, o bien, hasta que $d=\\lvert x_n-x_{n-1}\\rvert \\leq \\epsilon$ o $\\lvert f(x_i) \\rvert \\leq \\epsilon$. Lo que suceda primero.\n",
        "\n",
        ">> _Por otro lado, para determinar si la sucesión $x_0, x_1, x_2,\\ldots,x_n$ está convergiendo o divergiendo de $\\bar{x}$, se puede calcular la sucesión $f(x_0), f(x_1), f(x_2),\\ldots, f(x_n)$. Si la sucesión tiende a cero, el algoritmo está convergiendo a $\\bar{x}$, de ser el caso contrario, se dice que el algoritmo está  divergiendo de $\\bar{x}$._\n",
        "\n"
      ]
    },
    {
      "cell_type": "markdown",
      "metadata": {
        "id": "v-EjqMiNfhYe"
      },
      "source": [
        "# Ejemplo\n",
        "Sea la siguiente función\n",
        "\n",
        "$$f(x)= 2x^2-x-5$$\n",
        "\n",
        "$$g(x)_1 = 2x^2 - 5$$\n",
        "\n",
        "$$g(x)_2 = \\dfrac{5}{(2x-1)}$$\n",
        "\n",
        "$$g(x)_3 = \\sqrt{\\dfrac{x + 5}{2}}$$"
      ]
    },
    {
      "cell_type": "code",
      "metadata": {
        "id": "iCyRPPHyfRj4"
      },
      "source": [
        "fx = lambda x:2*x**2-x-5\n",
        "g_1 = lambda x:2*x**2-5"
      ],
      "execution_count": 1,
      "outputs": []
    },
    {
      "cell_type": "code",
      "metadata": {
        "id": "CBpBTAGF0Gdh"
      },
      "source": [
        "x0 = 3.0\n",
        "epsilon = 0.0001"
      ],
      "execution_count": 2,
      "outputs": []
    },
    {
      "cell_type": "markdown",
      "metadata": {
        "id": "OsNcU9tB00DA"
      },
      "source": [
        "## Iteración 1"
      ]
    },
    {
      "cell_type": "code",
      "metadata": {
        "colab": {
          "base_uri": "https://localhost:8080/"
        },
        "id": "xZTDRcyX0R6d",
        "outputId": "dac9dc74-ba4c-4e3d-c829-eda58377eb8c"
      },
      "source": [
        "x1 = g_1(x0)\n",
        "print(x1)"
      ],
      "execution_count": 3,
      "outputs": [
        {
          "output_type": "stream",
          "text": [
            "13.0\n"
          ],
          "name": "stdout"
        }
      ]
    },
    {
      "cell_type": "code",
      "metadata": {
        "colab": {
          "base_uri": "https://localhost:8080/"
        },
        "id": "Rq4hETzw1NBh",
        "outputId": "5eadb2ed-aa7d-4e60-aa51-a4ca10f72692"
      },
      "source": [
        "dif1 = abs(x1-x0)\n",
        "print(dif1)"
      ],
      "execution_count": 4,
      "outputs": [
        {
          "output_type": "stream",
          "text": [
            "10.0\n"
          ],
          "name": "stdout"
        }
      ]
    },
    {
      "cell_type": "code",
      "metadata": {
        "colab": {
          "base_uri": "https://localhost:8080/"
        },
        "id": "DAwlENRm1lYw",
        "outputId": "712aa2e6-54a6-4d4a-c435-06decd235480"
      },
      "source": [
        "dif1<epsilon "
      ],
      "execution_count": 5,
      "outputs": [
        {
          "output_type": "execute_result",
          "data": {
            "text/plain": [
              "False"
            ]
          },
          "metadata": {
            "tags": []
          },
          "execution_count": 5
        }
      ]
    },
    {
      "cell_type": "markdown",
      "metadata": {
        "id": "uyINGAYJ143V"
      },
      "source": [
        "## Iteración 2"
      ]
    },
    {
      "cell_type": "code",
      "metadata": {
        "colab": {
          "base_uri": "https://localhost:8080/"
        },
        "id": "28gojcKm10q_",
        "outputId": "196cce08-c54a-41d8-cab2-ea5d7668c02e"
      },
      "source": [
        "x2 = g_1(x1)\n",
        "print(x2)"
      ],
      "execution_count": 6,
      "outputs": [
        {
          "output_type": "stream",
          "text": [
            "333.0\n"
          ],
          "name": "stdout"
        }
      ]
    },
    {
      "cell_type": "code",
      "metadata": {
        "colab": {
          "base_uri": "https://localhost:8080/"
        },
        "id": "TjARqLZg2GT_",
        "outputId": "ceec8ecd-f5cc-4272-cf9c-38526627e4a6"
      },
      "source": [
        "dif2=abs(x2-x1)\n",
        "print(dif2)"
      ],
      "execution_count": 7,
      "outputs": [
        {
          "output_type": "stream",
          "text": [
            "320.0\n"
          ],
          "name": "stdout"
        }
      ]
    },
    {
      "cell_type": "code",
      "metadata": {
        "colab": {
          "base_uri": "https://localhost:8080/"
        },
        "id": "JRgdCSu62QEO",
        "outputId": "15e93c60-d0af-4b3f-f2df-a548bb8bb75d"
      },
      "source": [
        "dif2<epsilon\n"
      ],
      "execution_count": 8,
      "outputs": [
        {
          "output_type": "execute_result",
          "data": {
            "text/plain": [
              "False"
            ]
          },
          "metadata": {
            "tags": []
          },
          "execution_count": 8
        }
      ]
    },
    {
      "cell_type": "markdown",
      "metadata": {
        "id": "PDvWuJH62aOg"
      },
      "source": [
        "## Iteración 3"
      ]
    },
    {
      "cell_type": "code",
      "metadata": {
        "colab": {
          "base_uri": "https://localhost:8080/"
        },
        "id": "J_CN3AuR2Vh-",
        "outputId": "7584aded-593c-45c1-bdc5-2a9e1f1d4767"
      },
      "source": [
        "x3 = g_1(x2)\n",
        "print(x3)"
      ],
      "execution_count": 9,
      "outputs": [
        {
          "output_type": "stream",
          "text": [
            "221773.0\n"
          ],
          "name": "stdout"
        }
      ]
    },
    {
      "cell_type": "code",
      "metadata": {
        "colab": {
          "base_uri": "https://localhost:8080/"
        },
        "id": "gYvYiZ3B2iP9",
        "outputId": "4be97ba4-6258-4bed-e31a-8e17710256aa"
      },
      "source": [
        "dif3 = abs(x3-x2)\n",
        "print(dif3)"
      ],
      "execution_count": 10,
      "outputs": [
        {
          "output_type": "stream",
          "text": [
            "221440.0\n"
          ],
          "name": "stdout"
        }
      ]
    },
    {
      "cell_type": "code",
      "metadata": {
        "colab": {
          "base_uri": "https://localhost:8080/"
        },
        "id": "f9-GZZBP2sP1",
        "outputId": "0bb68f16-9538-4297-f473-7ce2393b2d92"
      },
      "source": [
        "dif3<epsilon"
      ],
      "execution_count": 11,
      "outputs": [
        {
          "output_type": "execute_result",
          "data": {
            "text/plain": [
              "False"
            ]
          },
          "metadata": {
            "tags": []
          },
          "execution_count": 11
        }
      ]
    },
    {
      "cell_type": "markdown",
      "metadata": {
        "id": "SEmERVJ41W8d"
      },
      "source": [
        "## Iteración 4"
      ]
    },
    {
      "cell_type": "code",
      "metadata": {
        "id": "3dnpJOyl2yHV",
        "colab": {
          "base_uri": "https://localhost:8080/"
        },
        "outputId": "8525f457-a200-4c22-b078-760597b22a70"
      },
      "source": [
        "x4 = g_1(x3)\n",
        "print(x4)"
      ],
      "execution_count": 12,
      "outputs": [
        {
          "output_type": "stream",
          "text": [
            "98366527053.0\n"
          ],
          "name": "stdout"
        }
      ]
    },
    {
      "cell_type": "code",
      "metadata": {
        "colab": {
          "base_uri": "https://localhost:8080/"
        },
        "id": "-C5VQ1Ye1hUn",
        "outputId": "a70c4599-be45-4cf0-d269-75d247a66cf1"
      },
      "source": [
        "dif4 = abs(x4-x3)\n",
        "print(dif4)"
      ],
      "execution_count": 13,
      "outputs": [
        {
          "output_type": "stream",
          "text": [
            "98366305280.0\n"
          ],
          "name": "stdout"
        }
      ]
    },
    {
      "cell_type": "code",
      "metadata": {
        "colab": {
          "base_uri": "https://localhost:8080/"
        },
        "id": "P2kR7FIf137J",
        "outputId": "6c20bea3-c178-41db-9a0e-3dd8dddee464"
      },
      "source": [
        "dif4<epsilon"
      ],
      "execution_count": 14,
      "outputs": [
        {
          "output_type": "execute_result",
          "data": {
            "text/plain": [
              "False"
            ]
          },
          "metadata": {
            "tags": []
          },
          "execution_count": 14
        }
      ]
    },
    {
      "cell_type": "code",
      "metadata": {
        "id": "zuKDC-5aZaL_"
      },
      "source": [
        "# Si solo se desea borrar unas cuantas variables, se puede usar del\n",
        "del x0, x1, x2, x3, x4, epsilon \n"
      ],
      "execution_count": 15,
      "outputs": []
    },
    {
      "cell_type": "code",
      "metadata": {
        "id": "r3YCXubDc53q"
      },
      "source": [
        "\"\"\"\n",
        "Para borrar todas las variables\n",
        "\"\"\"\n",
        "from IPython import get_ipython\n",
        "get_ipython().magic('reset -sf')"
      ],
      "execution_count": 16,
      "outputs": []
    },
    {
      "cell_type": "code",
      "metadata": {
        "colab": {
          "base_uri": "https://localhost:8080/",
          "height": 171
        },
        "id": "w5RWwSJKaIqL",
        "outputId": "23b2c20d-b4d0-4867-c511-6941c778ac78"
      },
      "source": [
        "print(dif4)"
      ],
      "execution_count": 17,
      "outputs": [
        {
          "output_type": "error",
          "ename": "NameError",
          "evalue": "ignored",
          "traceback": [
            "\u001b[0;31m---------------------------------------------------------------------------\u001b[0m",
            "\u001b[0;31mNameError\u001b[0m                                 Traceback (most recent call last)",
            "\u001b[0;32m<ipython-input-17-903581df8f23>\u001b[0m in \u001b[0;36m<module>\u001b[0;34m()\u001b[0m\n\u001b[0;32m----> 1\u001b[0;31m \u001b[0mprint\u001b[0m\u001b[0;34m(\u001b[0m\u001b[0mdif4\u001b[0m\u001b[0;34m)\u001b[0m\u001b[0;34m\u001b[0m\u001b[0;34m\u001b[0m\u001b[0m\n\u001b[0m",
            "\u001b[0;31mNameError\u001b[0m: name 'dif4' is not defined"
          ]
        }
      ]
    },
    {
      "cell_type": "markdown",
      "metadata": {
        "id": "ELLoIIWD2fln"
      },
      "source": [
        "## Código para el método de punto fijo"
      ]
    },
    {
      "cell_type": "code",
      "metadata": {
        "id": "0qfS5_ca17ZI",
        "colab": {
          "base_uri": "https://localhost:8080/",
          "height": 480
        },
        "outputId": "efbf9530-55fe-4738-d38b-c0f9f5c6a818"
      },
      "source": [
        "# Datos reqeridos\n",
        "x0 = 10.0    # Valor inicial\n",
        "f = lambda x: 2*x**2-x-5    # Funcion a la cual se le desea encontrar su raiz\n",
        "g = lambda x: 2*x**2-5    # Funcion equivalente\n",
        "\n",
        "EPSILON = 0.0001    # Criterio de paro\n",
        "MAXIT = 30    # Numero maximo de iteraciones. Criterio de paro\n",
        "\n",
        "for i in range(MAXIT):\n",
        "  x1 = g(x0)   \n",
        "  d = abs(x1-x0)\n",
        "  print (i,\" \",d, \" \",f(x1),\" \", g(x1))\n",
        "  if d <= EPSILON:\n",
        "    print(x1)\n",
        "    break\n",
        "  else:\n",
        "    x0 = x1\n",
        "\n"
      ],
      "execution_count": 18,
      "outputs": [
        {
          "output_type": "stream",
          "text": [
            "0   185.0   75850.0   76045.0\n",
            "1   75850.0   11565608000.0   11565684045.0\n",
            "2   11565608000.0   2.6753009484596943e+20   2.6753009485753513e+20\n",
            "3   2.6753009484596943e+20   1.4314470330896349e+41   1.4314470330896349e+41\n",
            "4   1.4314470330896349e+41   4.0980812170822364e+82   4.0980812170822364e+82\n",
            "5   4.0980812170822364e+82   3.358853932360445e+165   3.358853932360445e+165\n"
          ],
          "name": "stdout"
        },
        {
          "output_type": "error",
          "ename": "OverflowError",
          "evalue": "ignored",
          "traceback": [
            "\u001b[0;31m---------------------------------------------------------------------------\u001b[0m",
            "\u001b[0;31mOverflowError\u001b[0m                             Traceback (most recent call last)",
            "\u001b[0;32m<ipython-input-18-654c6c49bbff>\u001b[0m in \u001b[0;36m<module>\u001b[0;34m()\u001b[0m\n\u001b[1;32m     10\u001b[0m   \u001b[0mx1\u001b[0m \u001b[0;34m=\u001b[0m \u001b[0mg\u001b[0m\u001b[0;34m(\u001b[0m\u001b[0mx0\u001b[0m\u001b[0;34m)\u001b[0m\u001b[0;34m\u001b[0m\u001b[0;34m\u001b[0m\u001b[0m\n\u001b[1;32m     11\u001b[0m   \u001b[0md\u001b[0m \u001b[0;34m=\u001b[0m \u001b[0mabs\u001b[0m\u001b[0;34m(\u001b[0m\u001b[0mx1\u001b[0m\u001b[0;34m-\u001b[0m\u001b[0mx0\u001b[0m\u001b[0;34m)\u001b[0m\u001b[0;34m\u001b[0m\u001b[0;34m\u001b[0m\u001b[0m\n\u001b[0;32m---> 12\u001b[0;31m   \u001b[0mprint\u001b[0m \u001b[0;34m(\u001b[0m\u001b[0mi\u001b[0m\u001b[0;34m,\u001b[0m\u001b[0;34m\" \"\u001b[0m\u001b[0;34m,\u001b[0m\u001b[0md\u001b[0m\u001b[0;34m,\u001b[0m \u001b[0;34m\" \"\u001b[0m\u001b[0;34m,\u001b[0m\u001b[0mf\u001b[0m\u001b[0;34m(\u001b[0m\u001b[0mx1\u001b[0m\u001b[0;34m)\u001b[0m\u001b[0;34m,\u001b[0m\u001b[0;34m\" \"\u001b[0m\u001b[0;34m,\u001b[0m \u001b[0mg\u001b[0m\u001b[0;34m(\u001b[0m\u001b[0mx1\u001b[0m\u001b[0;34m)\u001b[0m\u001b[0;34m)\u001b[0m\u001b[0;34m\u001b[0m\u001b[0;34m\u001b[0m\u001b[0m\n\u001b[0m\u001b[1;32m     13\u001b[0m   \u001b[0;32mif\u001b[0m \u001b[0md\u001b[0m \u001b[0;34m<=\u001b[0m \u001b[0mEPSILON\u001b[0m\u001b[0;34m:\u001b[0m\u001b[0;34m\u001b[0m\u001b[0;34m\u001b[0m\u001b[0m\n\u001b[1;32m     14\u001b[0m     \u001b[0mprint\u001b[0m\u001b[0;34m(\u001b[0m\u001b[0mx1\u001b[0m\u001b[0;34m)\u001b[0m\u001b[0;34m\u001b[0m\u001b[0;34m\u001b[0m\u001b[0m\n",
            "\u001b[0;32m<ipython-input-18-654c6c49bbff>\u001b[0m in \u001b[0;36m<lambda>\u001b[0;34m(x)\u001b[0m\n\u001b[1;32m      1\u001b[0m \u001b[0;31m# Datos reqeridos\u001b[0m\u001b[0;34m\u001b[0m\u001b[0;34m\u001b[0m\u001b[0;34m\u001b[0m\u001b[0m\n\u001b[1;32m      2\u001b[0m \u001b[0mx0\u001b[0m \u001b[0;34m=\u001b[0m \u001b[0;36m10.0\u001b[0m    \u001b[0;31m# Valor inicial\u001b[0m\u001b[0;34m\u001b[0m\u001b[0;34m\u001b[0m\u001b[0m\n\u001b[0;32m----> 3\u001b[0;31m \u001b[0mf\u001b[0m \u001b[0;34m=\u001b[0m \u001b[0;32mlambda\u001b[0m \u001b[0mx\u001b[0m\u001b[0;34m:\u001b[0m \u001b[0;36m2\u001b[0m\u001b[0;34m*\u001b[0m\u001b[0mx\u001b[0m\u001b[0;34m**\u001b[0m\u001b[0;36m2\u001b[0m\u001b[0;34m-\u001b[0m\u001b[0mx\u001b[0m\u001b[0;34m-\u001b[0m\u001b[0;36m5\u001b[0m    \u001b[0;31m# Funcion a la cual se le desea encontrar su raiz\u001b[0m\u001b[0;34m\u001b[0m\u001b[0;34m\u001b[0m\u001b[0m\n\u001b[0m\u001b[1;32m      4\u001b[0m \u001b[0mg\u001b[0m \u001b[0;34m=\u001b[0m \u001b[0;32mlambda\u001b[0m \u001b[0mx\u001b[0m\u001b[0;34m:\u001b[0m \u001b[0;36m2\u001b[0m\u001b[0;34m*\u001b[0m\u001b[0mx\u001b[0m\u001b[0;34m**\u001b[0m\u001b[0;36m2\u001b[0m\u001b[0;34m-\u001b[0m\u001b[0;36m5\u001b[0m    \u001b[0;31m# Funcion equivalente\u001b[0m\u001b[0;34m\u001b[0m\u001b[0;34m\u001b[0m\u001b[0m\n\u001b[1;32m      5\u001b[0m \u001b[0;34m\u001b[0m\u001b[0m\n",
            "\u001b[0;31mOverflowError\u001b[0m: (34, 'Numerical result out of range')"
          ]
        }
      ]
    },
    {
      "cell_type": "code",
      "metadata": {
        "id": "krlKKuVb6lBa"
      },
      "source": [
        "get_ipython().magic('reset -sf')\n"
      ],
      "execution_count": 19,
      "outputs": []
    },
    {
      "cell_type": "code",
      "metadata": {
        "colab": {
          "base_uri": "https://localhost:8080/"
        },
        "id": "Nnb3USJIXtJd",
        "outputId": "3285d705-bb10-4346-a961-95481cfc648d"
      },
      "source": [
        "x0 = 3.0\n",
        "f = lambda x: 2*x**2-x-5    # Funcion a la cual se le desea encontrar su raiz\n",
        "g = lambda x: 5.0/(2*x-1)    # Funcion equivalente\n",
        "\n",
        "EPSILON = 0.0001    # Criterio de paro\n",
        "MAXIT = 40    # Numero maximo de iteraciones. Criterio de paro.\n",
        "\n",
        "\n",
        "for i in range(MAXIT):\n",
        "  \n",
        "  x1 = g(x0)   \n",
        "  d = abs(x1-x0)\n",
        "  \n",
        "  print (i,\" \",d, \" \",f(x1),\" \", g(x1))\n",
        "  if d <= EPSILON:\n",
        "    print(\"-----------\")\n",
        "    print(x1)\n",
        "    \n",
        "    break\n",
        "  else:\n",
        "    x0 = x1"
      ],
      "execution_count": 20,
      "outputs": [
        {
          "output_type": "stream",
          "text": [
            "0   2.0   -4.0   5.0\n",
            "1   4.0   40.0   0.5555555555555556\n",
            "2   4.444444444444445   -4.938271604938271   44.99999999999998\n",
            "3   44.44444444444442   3999.9999999999964   0.0561797752808989\n",
            "4   44.94382022471908   -5.049867440979674   -5.632911392405064\n",
            "5   5.689091167685963   64.09229290177858   -0.4076367389060887\n",
            "6   5.225274653498976   -4.26002783928193   -2.754405912450256\n",
            "7   2.346769173544167   12.927909773532111   -0.7681893615162896\n",
            "8   1.9862165509339664   -3.0515808481901012   -1.971314439202452\n",
            "9   1.2031250776861624   4.743475675618608   -1.0116074103491282\n",
            "10   0.9597070288533238   -1.941693484304333   -1.653868579158783\n",
            "11   0.6422611688096549   2.1244311334161665   -1.1607022007704861\n",
            "12   0.4931663783882969   -1.144838601482614   -1.5053872987222634\n",
            "13   0.34468509795177726   1.0377691370308897   -1.2466419836172693\n",
            "14   0.2587453151049941   -0.6451255457483303   -1.4313179366171753\n",
            "15   0.18467595299990602   0.5286600079812711   -1.294452846214905\n",
            "16   0.13686509040227035   -0.35433081163735825   -1.3931823314685183\n",
            "17   0.09872948525361336   0.2750963489006315   -1.3205278532579483\n",
            "18   0.07265447821057003   -0.1918845242819609   -1.3732280972939215\n",
            "19   0.052700244035973176   0.14473891168888908   -1.3345945448989995\n",
            "20   0.038633552394921944   -0.10312025655266499   -1.3626989172899961\n",
            "21   0.028104372390996613   0.0765955956566513   -1.3421385371486663\n",
            "22   0.02056038014132988   -0.05518975705220974   -1.357118343482243\n",
            "23   0.01497980633357665   0.040658739914217534   -1.3461716151660552\n",
            "24   0.010946728316187704   -0.02947234987637337   -1.354153633098262\n",
            "25   0.007982017932206764   0.02161775716470693   -1.3483240845703486\n",
            "26   0.005829548527913397   -0.015720241364714838   -1.3525766508534873\n",
            "27   0.004252566283138748   0.011503843721560436   -1.3494718282497207\n",
            "28   0.003104822603766655   -0.008379741270992724   -1.3517372699674575\n",
            "29   0.0022654417177367936   0.006124564005607347   -1.3500835353624088\n",
            "30   0.0016537346050486956   -0.0044653597242705345   -1.3512903348498155\n",
            "31   0.0012067994874067622   0.003261472966868517   -1.3504094700536589\n",
            "32   0.0008808647961566773   -0.002379056325133355   -1.3510523159652357\n",
            "33   0.000642845911576817   0.0017370369152898135   -1.3505831134202002\n",
            "34   0.0004692025450354631   -0.0012673940681970919   -1.350925544424516\n",
            "35   0.0003424310043158574   0.0009251975818660441   -1.3506756160617428\n",
            "36   0.00024992836277326624   -0.0006751442907209082   -1.3508580208778167\n",
            "37   0.00018240481607390002   0.000492806017680536   -1.350724891806834\n",
            "38   0.0001331290709827293   -0.00035964149999934136   -1.3508220541407907\n",
            "39   9.716233395673513e-05   0.0002624980470811167   -1.35075114023351\n",
            "-----------\n",
            "-1.3508220541407907\n"
          ],
          "name": "stdout"
        }
      ]
    },
    {
      "cell_type": "code",
      "metadata": {
        "id": "xSaTeqelLyYd"
      },
      "source": [
        ""
      ],
      "execution_count": 20,
      "outputs": []
    },
    {
      "cell_type": "code",
      "metadata": {
        "id": "hVkH-2lobEEP"
      },
      "source": [
        "get_ipython().magic('reset -sf')"
      ],
      "execution_count": 21,
      "outputs": []
    },
    {
      "cell_type": "code",
      "metadata": {
        "colab": {
          "base_uri": "https://localhost:8080/"
        },
        "id": "hW-h7dl-bcpQ",
        "outputId": "c7dfe02e-3ba7-4d5b-d691-74b1fa697fe8"
      },
      "source": [
        "x0 = 3.0\n",
        "f = lambda x: 2*x**2-x-5    # Funcion a la cual se le desea encontrar su raiz\n",
        "g = lambda x: ((x+5)/2)**(0.5)    # Funcion equivalente\n",
        "\n",
        "EPSILON = 0.0001    # Criterio de paro\n",
        "MAXIT = 40    # Criterio de paro\n",
        "\n",
        "for i in range(MAXIT):\n",
        "  x1 = g(x0)   \n",
        "  d = abs(x1-x0)\n",
        "  print (i,\" \",d , \" \",f(x1),\" \", g(x1))\n",
        "  if d <= EPSILON:\n",
        "    print(\"--------------\")\n",
        "    print(x1)\n",
        "    break\n",
        "  else:\n",
        "    x0 = x1"
      ],
      "execution_count": 22,
      "outputs": [
        {
          "output_type": "stream",
          "text": [
            "0   1.0   1.0   1.8708286933869707\n",
            "1   0.12917130661302934   0.12917130661302956   1.8534870775631227\n",
            "2   0.017341615823847967   0.017341615823847967   1.8511465470841473\n",
            "3   0.002340530478975422   0.002340530478974756   1.8508304280895302\n",
            "4   0.00031611899461703175   0.00031611899461747583   1.850787727980917\n",
            "5   4.270010861318063e-05   4.2700108613402676e-05   1.8507819601429172\n",
            "--------------\n",
            "1.850787727980917\n"
          ],
          "name": "stdout"
        }
      ]
    },
    {
      "cell_type": "code",
      "metadata": {
        "id": "afWKTMCmbk3r"
      },
      "source": [
        "import numpy as np\n",
        "import matplotlib.pyplot as plt"
      ],
      "execution_count": 23,
      "outputs": []
    },
    {
      "cell_type": "code",
      "metadata": {
        "id": "vcoMQLgjgdFV"
      },
      "source": [
        "x = np.linspace(-2,2)\n",
        "y = f(x)"
      ],
      "execution_count": 24,
      "outputs": []
    },
    {
      "cell_type": "code",
      "metadata": {
        "colab": {
          "base_uri": "https://localhost:8080/",
          "height": 265
        },
        "id": "jLt5e1Kxgw0Q",
        "outputId": "a1a33de7-a6bf-4f54-b468-fc57c698c4fa"
      },
      "source": [
        "plt.plot(x,y)\n",
        "plt.axhline(linewidth=1, color=\"k\")\n",
        "plt.text(-1.35, 0, \"-1.35\")\n",
        "plt.text(1.85, 0, \"1.85\")\n",
        "plt.show()"
      ],
      "execution_count": 25,
      "outputs": [
        {
          "output_type": "display_data",
          "data": {
            "image/png": "[encoded data removed]",
            "text/plain": [
              "<Figure size 432x288 with 1 Axes>"
            ]
          },
          "metadata": {
            "tags": [],
            "needs_background": "light"
          }
        }
      ]
    },
    {
      "cell_type": "code",
      "metadata": {
        "id": "sdDY6_4Tg9yq"
      },
      "source": [
        "get_ipython().magic('reset -sf')"
      ],
      "execution_count": 26,
      "outputs": []
    },
    {
      "cell_type": "markdown",
      "metadata": {
        "id": "YEh62zTUF3iq"
      },
      "source": [
        "## Orden de convergencia"
      ]
    },
    {
      "cell_type": "code",
      "metadata": {
        "id": "_l9ZdsvUQn_n"
      },
      "source": [
        "import numpy as np\n",
        "import matplotlib.pyplot as plt"
      ],
      "execution_count": 27,
      "outputs": []
    },
    {
      "cell_type": "code",
      "metadata": {
        "id": "U9cxbeG4hrtJ",
        "colab": {
          "base_uri": "https://localhost:8080/"
        },
        "outputId": "b3aa4cab-2ad0-4444-b05a-73ff2bcb36b0"
      },
      "source": [
        "\n",
        "x0 = 3.0\n",
        "f = lambda x: 2*x**2-x-5    # Funcion a la cual se le desea encontrar su raiz\n",
        "g = lambda x: ((x+5)/2)**(0.5)    # Funcion equivalente\n",
        "\n",
        "EPSILON = 0.0001    # Criterio de paro\n",
        "MAXIT = 40    # Criterio de paro\n",
        "\n",
        "iteracion = np.zeros(MAXIT)    # Lista para almacenar las iteaciones\n",
        "distancia = np.zeros_like(iteracion)    # Lista para almacenar las distancias\n",
        "\n",
        "for i in range(MAXIT):\n",
        "  iteracion[i] = i\n",
        "\n",
        "  x1 = g(x0)   \n",
        "  dif = abs(x1-x0)\n",
        "  distancia[i] = dif\n",
        "  print (i,\" \",dif, \" \",f(x1),\" \", g(x1))\n",
        "  if dif <= EPSILON:\n",
        "    print(\"--------------\")\n",
        "    print(x1)\n",
        "    pf = i+1     # Almacena la iteracion final\n",
        "    break\n",
        "  else:\n",
        "    x0 = x1"
      ],
      "execution_count": 28,
      "outputs": [
        {
          "output_type": "stream",
          "text": [
            "0   1.0   1.0   1.8708286933869707\n",
            "1   0.12917130661302934   0.12917130661302956   1.8534870775631227\n",
            "2   0.017341615823847967   0.017341615823847967   1.8511465470841473\n",
            "3   0.002340530478975422   0.002340530478974756   1.8508304280895302\n",
            "4   0.00031611899461703175   0.00031611899461747583   1.850787727980917\n",
            "5   4.270010861318063e-05   4.2700108613402676e-05   1.8507819601429172\n",
            "--------------\n",
            "1.850787727980917\n"
          ],
          "name": "stdout"
        }
      ]
    },
    {
      "cell_type": "code",
      "metadata": {
        "id": "nbg3Xk-Thxw0",
        "colab": {
          "base_uri": "https://localhost:8080/",
          "height": 279
        },
        "outputId": "04d882dd-dee3-4c64-ced3-ed93bb880793"
      },
      "source": [
        "plt.plot(iteracion[0:pf],distancia[0:pf])\n",
        "plt.xlabel(\"Iteracion\")\n",
        "plt.ylabel(r\"$| x_i-x_0|$\")\n",
        "plt.show()"
      ],
      "execution_count": 29,
      "outputs": [
        {
          "output_type": "display_data",
          "data": {
            "image/png": "[encoded data removed]",
            "text/plain": [
              "<Figure size 432x288 with 1 Axes>"
            ]
          },
          "metadata": {
            "tags": [],
            "needs_background": "light"
          }
        }
      ]
    }
  ]
}