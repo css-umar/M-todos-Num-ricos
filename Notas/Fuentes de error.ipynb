{
 "cells": [
  {
   "cell_type": "markdown",
   "metadata": {},
   "source": [
    "# Fuentes de error\n",
    "\n",
    "## 1. Error de planteamiento\n",
    "\n",
    "Tiene que ver con:\n",
    "+ Modelo matemático utilizado o desarrollado para resolver el problema.\n",
    "+ Consideraciones realizadas para: \n",
    "> + Simplificar el modelo matemático.\n",
    "> + Resolver el modelo matemático.\n",
    "\n",
    "\n",
    "## 2. Error del método\n",
    "\n",
    "No todos lo métodos numéricos presentan el mismo error, el error es inherente al método numérico utilizado. Cuando se aplica un método numérico, se busca obtener soluciones aproximadas.\n",
    "\n",
    "\n",
    "## 3. Error de representación o de redondeo\n",
    "\n",
    "Este error tiene que ver con la computadora, y va a depender de la capacidad de ésta, para representar los números.\n",
    "\n",
    "**Ejemplo**"
   ]
  },
  {
   "cell_type": "code",
   "execution_count": 1,
   "metadata": {},
   "outputs": [],
   "source": [
    "# En este caso a y b tienen 16 cifras decimales. Python indica que son iguales y su diferencia da cero.\n",
    "\n",
    "a = 3.1415168975512542\n",
    "b = 3.1415168975512542\n",
    "a == b\n"
   ]
  },
  {
   "cell_type": "code",
   "execution_count": 2,
   "metadata": {},
   "outputs": [
    {
     "data": {
      "text/plain": [
       "0.0"
      ]
     },
     "execution_count": 2,
     "metadata": {},
     "output_type": "execute_result"
    }
   ],
   "source": [
    "a-b"
   ]
  },
  {
   "cell_type": "code",
   "execution_count": 7,
   "metadata": {},
   "outputs": [
    {
     "data": {
      "text/plain": [
       "True"
      ]
     },
     "execution_count": 7,
     "metadata": {},
     "output_type": "execute_result"
    }
   ],
   "source": [
    "\"\"\" \n",
    "c y d tienen 17 cifras. \n",
    "La ultima cifra es diferente en c y d. \n",
    "Python indica que son iguales y su diferencia da cero.\n",
    "\"\"\"\n",
    "c = 3.14151689755125421\n",
    "d = 3.14151689755125429\n",
    "c == d"
   ]
  },
  {
   "cell_type": "code",
   "execution_count": 9,
   "metadata": {},
   "outputs": [
    {
     "data": {
      "text/plain": [
       "0.0"
      ]
     },
     "execution_count": 9,
     "metadata": {},
     "output_type": "execute_result"
    }
   ],
   "source": [
    "c-d"
   ]
  },
  {
   "cell_type": "code",
   "execution_count": 12,
   "metadata": {},
   "outputs": [
    {
     "data": {
      "text/plain": [
       "True"
      ]
     },
     "execution_count": 12,
     "metadata": {},
     "output_type": "execute_result"
    }
   ],
   "source": [
    "\"\"\"\n",
    "e y f tienen 19 cifras. \n",
    "Las tres ultimas cifras en e y f son diferentes.\n",
    "Python indica que son iguales y su diferencia da cero.\n",
    "\"\"\"\n",
    "e = 3.1415168975512542169\n",
    "f = 3.1415168975512542294\n",
    "e == f"
   ]
  },
  {
   "cell_type": "code",
   "execution_count": 11,
   "metadata": {},
   "outputs": [
    {
     "data": {
      "text/plain": [
       "0.0"
      ]
     },
     "execution_count": 11,
     "metadata": {},
     "output_type": "execute_result"
    }
   ],
   "source": [
    "e-f"
   ]
  },
  {
   "cell_type": "markdown",
   "metadata": {},
   "source": [
    "\n",
    "## 4.0 Error de propagación\n",
    "\n",
    "Este error también tiene que ver con la computadora; en cada operación el resultado se _redondea_ de acuerdo con el número máximo de decimales que puede manejar la computadora. Este redondeo ocasiona (propaga) que en cada operación se pierda exactitud.\n",
    "\n",
    "## 5.0 Error residual\n",
    "## 6.0 Error numérico total\n",
    "## 7.0 Error relativo"
   ]
  }
 ],
 "metadata": {
  "kernelspec": {
   "display_name": "Python 3",
   "language": "python",
   "name": "python3"
  },
  "language_info": {
   "codemirror_mode": {
    "name": "ipython",
    "version": 3
   },
   "file_extension": ".py",
   "mimetype": "text/x-python",
   "name": "python",
   "nbconvert_exporter": "python",
   "pygments_lexer": "ipython3",
   "version": "3.8.5"
  }
 },
 "nbformat": 4,
 "nbformat_minor": 4
}
