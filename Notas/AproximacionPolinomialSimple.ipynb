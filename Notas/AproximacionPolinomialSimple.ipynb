{
  "nbformat": 4,
  "nbformat_minor": 0,
  "metadata": {
    "colab": {
      "name": "AproximacionPolinomialSimple.ipynb",
      "provenance": []
    },
    "kernelspec": {
      "name": "python3",
      "display_name": "Python 3"
    },
    "language_info": {
      "name": "python"
    }
  },
  "cells": [
    {
      "cell_type": "markdown",
      "metadata": {
        "id": "o4YfABBjjCbJ"
      },
      "source": [
        "# Aproximación polinomial"
      ]
    },
    {
      "cell_type": "markdown",
      "metadata": {
        "id": "Miwqu0Xdj9kY"
      },
      "source": [
        "# Aproximación polinomial\n",
        "\n",
        "Se utiliza para encontrar valores que no se encuentran tabulados; por ejemplo, se cuenta con los datos de temperatura de ebullición para la acetona a diferentes presiones:\n",
        "\n",
        "\n",
        "|**Puntos**| 0  | 1    | 2    | 3    |\n",
        "|---       |--- |---   |---   |---   |\n",
        "|$T(^oC)$   |56.5| 113.0| 181.0| 214.5|\n",
        "|$P(atm)$  | 1  | 5    | 20   | 40   |\n",
        "\n",
        "Se desea saber la temperatura de ebullición de la acetona a $2\\,atm$.\n",
        "\n",
        "Considerando que la ebullución de la acetona se comporta de forma lineal en el intervalo $(1\\,atm-5\\,atm)$ que deseamos encontrar la temperatura, se puede resolver de la forma siguiente:\n",
        "\n",
        "**Paso 1:** considerando que la temperatura se comporta de forma lineal, se tiene que:\n",
        "\n",
        "$$T(P)=a_0 + a_1\\,P $$\n",
        "\n",
        "**Paso 2:** se toman los puntos 0 y 1, porque entre esos puntos se encuentra la temperatura a la presión que se desea.\n",
        "\n",
        "$$\\begin{align*}\n",
        "56.5 &= a_0 + 1\\,a_1,\\, \\text{punto 0}\\\\\n",
        "113.0 &= a_0 + 5\\,a_1,\\, \\text{punto 1}\n",
        "\\end{align*}$$\n",
        "\n",
        "**Paso 3:** resolviendo el sistema se tiene que $a_0 = 42.4$ y $a_1 = 14.13$, por tanto, la ecuación que describe la temperatura en función de la presión en el intervalo de $1\\,atm$ a $5\\,atm$ es:\n",
        "\n",
        "$$T(P)=42.4 + 14.13\\,P $$\n",
        "\n",
        "**Paso 4:** evaluar la ecuación en $2\\,atm$ para encontrar la temperatura de ebullición deseada."
      ]
    },
    {
      "cell_type": "code",
      "metadata": {
        "id": "k9RX2jtCi1AS"
      },
      "source": [
        "T = lambda P: 42.4 + 14.13*P"
      ],
      "execution_count": null,
      "outputs": []
    },
    {
      "cell_type": "code",
      "metadata": {
        "colab": {
          "base_uri": "https://localhost:8080/"
        },
        "id": "KXPcg1TfjBpo",
        "outputId": "b6c0b765-218d-4867-ea67-cfd4b648e1b6"
      },
      "source": [
        "T(2)"
      ],
      "execution_count": null,
      "outputs": [
        {
          "output_type": "execute_result",
          "data": {
            "text/plain": [
              "70.66"
            ]
          },
          "metadata": {
            "tags": []
          },
          "execution_count": 2
        }
      ]
    },
    {
      "cell_type": "code",
      "metadata": {
        "id": "-XDI8WK3lAbz"
      },
      "source": [
        "# Con poly1d se puede construir un polinomio en términos de sus coeficientes\n",
        "# p[0] * x**n + p[1] * x**(n-1) + ... + p[n-1]*x + p[n]\n",
        "import numpy as np\n",
        "coeficientes = [14.13,42.4]\n",
        "Tp = np.poly1d(coeficientes)"
      ],
      "execution_count": null,
      "outputs": []
    },
    {
      "cell_type": "code",
      "metadata": {
        "colab": {
          "base_uri": "https://localhost:8080/"
        },
        "id": "sSCtOUjCmZPg",
        "outputId": "21ce8b75-7677-4edb-d100-57e7e0c426e2"
      },
      "source": [
        "Tp(2)"
      ],
      "execution_count": null,
      "outputs": [
        {
          "output_type": "execute_result",
          "data": {
            "text/plain": [
              "70.66"
            ]
          },
          "metadata": {
            "tags": []
          },
          "execution_count": 4
        }
      ]
    },
    {
      "cell_type": "code",
      "metadata": {
        "colab": {
          "base_uri": "https://localhost:8080/"
        },
        "id": "cX_XMF3uw65b",
        "outputId": "a6ff2351-d7bc-4949-ee61-9b6f7a9026cf"
      },
      "source": [
        "# Algunos atributos de poly1d\n",
        "Tp.coefficients"
      ],
      "execution_count": null,
      "outputs": [
        {
          "output_type": "execute_result",
          "data": {
            "text/plain": [
              "array([14.13, 42.4 ])"
            ]
          },
          "metadata": {
            "tags": []
          },
          "execution_count": 5
        }
      ]
    },
    {
      "cell_type": "code",
      "metadata": {
        "colab": {
          "base_uri": "https://localhost:8080/"
        },
        "id": "PaF4xWRlxQE9",
        "outputId": "76c5fc7c-0594-4070-84f7-86e977e9c0cb"
      },
      "source": [
        "Tp.order"
      ],
      "execution_count": null,
      "outputs": [
        {
          "output_type": "execute_result",
          "data": {
            "text/plain": [
              "1"
            ]
          },
          "metadata": {
            "tags": []
          },
          "execution_count": 6
        }
      ]
    },
    {
      "cell_type": "code",
      "metadata": {
        "colab": {
          "base_uri": "https://localhost:8080/",
          "height": 35
        },
        "id": "iVQCWF0mxZFO",
        "outputId": "8480004e-2152-4c0a-91a3-768f7bf6ebaa"
      },
      "source": [
        "Tp.variable"
      ],
      "execution_count": null,
      "outputs": [
        {
          "output_type": "execute_result",
          "data": {
            "application/vnd.google.colaboratory.intrinsic+json": {
              "type": "string"
            },
            "text/plain": [
              "'x'"
            ]
          },
          "metadata": {
            "tags": []
          },
          "execution_count": 7
        }
      ]
    },
    {
      "cell_type": "code",
      "metadata": {
        "colab": {
          "base_uri": "https://localhost:8080/"
        },
        "id": "CGeM2Bb_xfVt",
        "outputId": "c9abb125-c284-4d61-bb62-f64af0495811"
      },
      "source": [
        "Tp.roots"
      ],
      "execution_count": null,
      "outputs": [
        {
          "output_type": "execute_result",
          "data": {
            "text/plain": [
              "array([-3.00070771])"
            ]
          },
          "metadata": {
            "tags": []
          },
          "execution_count": 8
        }
      ]
    },
    {
      "cell_type": "markdown",
      "metadata": {
        "id": "1mLV1XsSmp_h"
      },
      "source": [
        "Al graficar los datos tabulados y los datos que genera la ecuación que describe la temperatura en función de la presión en el intervalo de $1\\,atm$ a $5\\,atm$, se puede observar que la aproximación sólo funciona en el intervalo para el cual se construyó."
      ]
    },
    {
      "cell_type": "code",
      "metadata": {
        "colab": {
          "base_uri": "https://localhost:8080/",
          "height": 279
        },
        "id": "lGp4K0dOma1l",
        "outputId": "2e5fc5ab-66d1-401c-c7fc-bbceec03e025"
      },
      "source": [
        "import matplotlib.pyplot as plt\n",
        "Temperatura = [56.5, 113.0, 181.0, 214.5]\n",
        "Presion = [1, 5, 20, 40]\n",
        "p = np.arange(1, 20)\n",
        "plt.plot(Presion,Temperatura, \"ko\")\n",
        "plt.plot(p,T(p))\n",
        "plt.plot(2,T(2), \"ro\")\n",
        "plt.annotate(\"T(2)\", xy=(2,T(2)), xytext=(10, 100),\n",
        "             arrowprops=dict(facecolor='black', shrink=0.1),fontsize=12)\n",
        "plt.xlabel(\"Presion, atm\")\n",
        "plt.ylabel(\"Temperatura, grados C\")\n",
        "plt.show()"
      ],
      "execution_count": null,
      "outputs": [
        {
          "output_type": "display_data",
          "data": {
            "image/png": "[encoded data removed]",
            "text/plain": [
              "<Figure size 432x288 with 1 Axes>"
            ]
          },
          "metadata": {
            "tags": [],
            "needs_background": "light"
          }
        }
      ]
    },
    {
      "cell_type": "markdown",
      "metadata": {
        "id": "HxnvuJ7qoNBZ"
      },
      "source": [
        "Si se desea encontrar una aproximación mejor a la anterior $(70.66\\,ºC)$, se puden usar más puntos de los datos tabulados, por ejemplo, los puntos $0,1$ y $2$; y aproximar el comportamiento de la temperatura de forma cuadrática:\n",
        "\n",
        "$$T(P) = a_0 + a_1\\,P + a_2\\,P^2$$\n",
        "\n",
        "**Paso 1:** considerando los puntos $0,1$ y $2$, se llega a un sistema de ecuaciones lineales:\n",
        "\n",
        "$$\\begin{align*}\n",
        "56.5  &= a_0 + a_1\\,1 + a_2\\,1^2 \\, \\text{punto 0}\\\\\n",
        "113.0 &= a_0 + a_1\\,5 + a_2\\,5^2 \\, \\text{punto 1}\\\\\n",
        "181.0 &= a_0 + a_1\\,20 + a_2\\,20^2 \\, \\text{punto 2}\n",
        "\\end{align*}$$\n",
        "\n",
        "**Paso 2:** Resolver el sistema de ecuaciones lineales."
      ]
    },
    {
      "cell_type": "code",
      "metadata": {
        "colab": {
          "base_uri": "https://localhost:8080/"
        },
        "id": "nL8WIK-zmvUo",
        "outputId": "09e4ea9c-f502-497f-9d14-345a121c91b2"
      },
      "source": [
        "\"\"\"\n",
        "Vamos a utilizar el método solve de la biblioteca numpy para resolver el sistema de ecuaciones lineales\n",
        "\"\"\"\n",
        "\n",
        "# Resolviendo el sistema utilizando el método solve\n",
        "A = np.array([[1,1,1],[1,5,25],[1,20,400]])    # Matriz de coeficientes A\n",
        "b = np.array([56.5,113.0,181.0])    # Vector b\n",
        "x = np.linalg.solve(A,b)    # se llama a método solve para resolver el sistema\n",
        "x"
      ],
      "execution_count": null,
      "outputs": [
        {
          "output_type": "execute_result",
          "data": {
            "text/plain": [
              "array([39.85087719, 17.15394737, -0.50482456])"
            ]
          },
          "metadata": {
            "tags": []
          },
          "execution_count": 10
        }
      ]
    },
    {
      "cell_type": "markdown",
      "metadata": {
        "id": "ZbbQoBdkoiLT"
      },
      "source": [
        "La ecuación que describe la temperatura en función de la presión en el intervalo de $0\\,atm$ a $20\\,atm$ es:\n",
        "\n",
        "$$T(P)=39.85 + 17.15\\,P - 0.5048\\,P^2 $$\n",
        "\n",
        "**Paso 3**: evaluar la ecuación en 2 atm"
      ]
    },
    {
      "cell_type": "code",
      "metadata": {
        "colab": {
          "base_uri": "https://localhost:8080/"
        },
        "id": "GuTDlWeOtcmx",
        "outputId": "33b4dd50-f9dd-41d5-c968-02fc24f37985"
      },
      "source": [
        "x[::-1]    # Invertir el orden"
      ],
      "execution_count": null,
      "outputs": [
        {
          "output_type": "execute_result",
          "data": {
            "text/plain": [
              "array([-0.50482456, 17.15394737, 39.85087719])"
            ]
          },
          "metadata": {
            "tags": []
          },
          "execution_count": 11
        }
      ]
    },
    {
      "cell_type": "code",
      "metadata": {
        "colab": {
          "base_uri": "https://localhost:8080/"
        },
        "id": "eAHfwIJToaRK",
        "outputId": "e8e914c9-8d6b-406d-f110-105460ffce57"
      },
      "source": [
        "# p[0] * x**n + p[1] * x**(n-1) + ... + p[n-1]*x + p[n]\n",
        "T_P = np.poly1d(x[::-1])\n",
        "T_P(2)"
      ],
      "execution_count": null,
      "outputs": [
        {
          "output_type": "execute_result",
          "data": {
            "text/plain": [
              "72.13947368421051"
            ]
          },
          "metadata": {
            "tags": []
          },
          "execution_count": 12
        }
      ]
    },
    {
      "cell_type": "code",
      "metadata": {
        "colab": {
          "base_uri": "https://localhost:8080/"
        },
        "id": "X-bSbapOqrnH",
        "outputId": "758671c1-6936-40d7-d01e-42b9bb13edb6"
      },
      "source": [
        "T_P.order"
      ],
      "execution_count": null,
      "outputs": [
        {
          "output_type": "execute_result",
          "data": {
            "text/plain": [
              "2"
            ]
          },
          "metadata": {
            "tags": []
          },
          "execution_count": 13
        }
      ]
    },
    {
      "cell_type": "markdown",
      "metadata": {
        "id": "xvVT3V3uu7g1"
      },
      "source": [
        "Al graficar los datos tabulados y la función cuadrática se pude observar que el ajuste a los datos tabulados es mejor. "
      ]
    },
    {
      "cell_type": "code",
      "metadata": {
        "colab": {
          "base_uri": "https://localhost:8080/",
          "height": 280
        },
        "id": "P9i9bs1-sgAu",
        "outputId": "245ad451-2253-4598-94fa-d11df9680f85"
      },
      "source": [
        "plt.plot(Presion,Temperatura, \"ko\")\n",
        "plt.plot(p,T_P(p))\n",
        "plt.plot(2,T_P(2), \"ro\")\n",
        "plt.annotate(\"T(2)\", xy=(2,T(2)), xytext=(10, 100),\n",
        "             arrowprops=dict(facecolor='black', shrink=0.1),fontsize=12)\n",
        "plt.xlabel(\"Presion, atm\")\n",
        "plt.ylabel(\"Temperatura, grados C\")\n",
        "plt.show()"
      ],
      "execution_count": null,
      "outputs": [
        {
          "output_type": "display_data",
          "data": {
            "image/png": "[encoded data removed]",
            "text/plain": [
              "<Figure size 432x288 with 1 Axes>"
            ]
          },
          "metadata": {
            "tags": [],
            "needs_background": "light"
          }
        }
      ]
    },
    {
      "cell_type": "markdown",
      "metadata": {
        "id": "knFPyHoYvWGi"
      },
      "source": [
        "**Tarea** Realice una aproximación polinomial cúbica $(T(P) = a_0 + a_1\\,P + a_2\\,P^2 + a_3\\,P^3)$ a los datos tabulados."
      ]
    }
  ]
}