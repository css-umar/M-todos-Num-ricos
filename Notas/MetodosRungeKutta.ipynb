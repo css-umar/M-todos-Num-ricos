{
  "nbformat": 4,
  "nbformat_minor": 0,
  "metadata": {
    "colab": {
      "name": "MetodosRungeKutta.ipynb",
      "provenance": [],
      "collapsed_sections": []
    },
    "kernelspec": {
      "name": "python3",
      "display_name": "Python 3"
    },
    "language_info": {
      "name": "python"
    }
  },
  "cells": [
    {
      "cell_type": "code",
      "metadata": {
        "id": "E01Bh1JNmpP8"
      },
      "source": [
        "import numpy as np\n",
        "import matplotlib.pyplot as plt\n",
        "from sympy import *\n",
        "from scipy.integrate import solve_ivp"
      ],
      "execution_count": 17,
      "outputs": []
    },
    {
      "cell_type": "markdown",
      "metadata": {
        "id": "ZaG9gY_7A-WR"
      },
      "source": [
        "# Métodos de Runge-Kutta \n",
        "\n",
        "## Algoritmo de Runge-Kutta de segundo orden\n",
        "\n",
        "$$y_{i+1} = y_i + \\dfrac{h}{2}\\left[f(x_i,y_i) + f(x_i+h,y_i+hf(x_i,y_i))\\right]$$\n",
        "\n",
        "o bien \n",
        "\n",
        "$$\\begin{align*}\n",
        "y_{i+1} &= y_i + \\dfrac{h}{2}(k_0 + k_1)\\\\\n",
        "k_0 &=  f(x_i,y_i)\\\\\n",
        "k_1 &= f(x_i+h,y_i+hk_0)\n",
        "\\end{align*}$$"
      ]
    },
    {
      "cell_type": "markdown",
      "metadata": {
        "id": "Dp-XE_9OGwuH"
      },
      "source": [
        "<img src=\"https://drive.google.com/uc?id=1r-xeI_PikigavVEgWRvGQ1jDsfnVKv_7&export=download\" width=\"100%\">"
      ]
    },
    {
      "cell_type": "markdown",
      "metadata": {
        "id": "1dOSQkUZHJVQ"
      },
      "source": [
        "## Algoritmo de Runge-kutta de cuarto orden (RK-4)\n",
        "\n",
        "$$\\begin{align*}\n",
        "y_{i+1} &= y_i + \\dfrac{h}{6}(k_1 + 2k_2 + 2k_3 + k_4)\\\\\n",
        "k_1 &= f(x_i,y_i)\\\\\n",
        "k_2 &= f(x_i+h/2,y_i+hk_1/2)\\\\\n",
        "k_3 &= f(x_i+h/2,y_i+hk_2/2)\\\\\n",
        "k_4 &= f(x_i+h,y_i+hk_3)\n",
        "\\end{align*}$$\n"
      ]
    },
    {
      "cell_type": "markdown",
      "metadata": {
        "id": "qanvPHihIqgw"
      },
      "source": [
        "**Ejemplo**\n",
        "\n",
        "Resuelva el siguiente PVI mediante el método de Runge-Kutta de Cuarto Orden (RK-4)\n",
        "\n",
        "$$\\begin{align*} \n",
        "\\dfrac{dy}{dx}&=(x-y) \\\\ \n",
        "y(0)&=2\\\\\n",
        "y(1)&=? \n",
        "\\end{align*} \n",
        "$$"
      ]
    },
    {
      "cell_type": "code",
      "metadata": {
        "id": "a69i_KfooOKD"
      },
      "source": [
        "# Condiciones iniciales\n",
        "x0, xf = 0, 1\n",
        "y0 = 2.0\n",
        "# Dividir el intervalo [x0,xf] en n subintervalos\n",
        "n = 5\n",
        "h = (xf-x0)/n"
      ],
      "execution_count": 18,
      "outputs": []
    },
    {
      "cell_type": "markdown",
      "metadata": {
        "id": "dtANDgJYJCBi"
      },
      "source": [
        "Aplicamos \n",
        "\n",
        "\n",
        "\n",
        "$$\\begin{align*}\n",
        "y_{i+1} &= y_i + \\dfrac{h}{6}(k_1 + 2k_2 + 2k_3 + k_)\\\\\n",
        "k_1 &= f(x_i,y_i)\\\\\n",
        "k_2 &= f(x_i+h/2,y_i+hk_1/2)\\\\\n",
        "k_3 &= f(x_i+h/2,y_i+hk_2/2)\\\\\n",
        "k_4 &= f(x_i+h,y_i+hk_3)\\\\\n",
        "x_i &= x_0 +ih,\\,0\\leq i\\leq n\n",
        "\\end{align*}$$"
      ]
    },
    {
      "cell_type": "code",
      "metadata": {
        "id": "Il5kFA_kI7t8"
      },
      "source": [
        "# Creamos las funciones\n",
        "def f(x,y):\n",
        "  return x-y"
      ],
      "execution_count": 19,
      "outputs": []
    },
    {
      "cell_type": "code",
      "metadata": {
        "id": "Yc36eY7bJTyp"
      },
      "source": [
        "yRK4 = np.zeros(n+1)    # Creamos un arreglo yT para almacenar las aproximaciones por el método de Taylor\n",
        "x = np.zeros_like(yRK4)\n",
        "x[0] = x0\n",
        "yRK4[0] = y0\n",
        "for i in range(1,n+1): # Creamos un ciclo para realizar los calculos, el ciclo va desde i = 0 hasta n+1\n",
        "    x[i] = x[i-1] + h\n",
        "    \n",
        "    k1 = f(x[i-1],yRK4[i-1])\n",
        "    k2 = f(x[i-1] + h/2, yRK4[i-1] + h*k1/2)\n",
        "    k3 = f(x[i-1] + h/2, yRK4[i-1] + h*k2/2)\n",
        "    k4 = f(x[i-1] + h, yRK4[i-1] + h*k3)\n",
        "    \n",
        "    yRK4[i] = yRK4[i-1] + (h/6)*(k1 + 2*k2 + 2*k3 + k4)\n"
      ],
      "execution_count": 20,
      "outputs": []
    },
    {
      "cell_type": "code",
      "metadata": {
        "colab": {
          "base_uri": "https://localhost:8080/",
          "height": 483
        },
        "id": "beEoNKYWKggz",
        "outputId": "7f38471a-81ef-4ea2-a8dc-db61c989b7b3"
      },
      "source": [
        "solA = lambda x: ((x - 1.0)*np.exp(x) + 3)*np.exp(-x)\n",
        "plt.figure(figsize=(10,8))\n",
        "plt.plot(x,solA(x),color=\"red\", linestyle=\"solid\", marker = \"+\")\n",
        "plt.plot(x,yRK4,color=\"green\", linestyle=\"solid\", marker = \"*\")\n",
        "plt.legend([\"Solución analítica\",\"Runge-Kutta cuarto orden\"])\n",
        "plt.show()"
      ],
      "execution_count": 22,
      "outputs": [
        {
          "output_type": "display_data",
          "data": {
            "image/png": "[encoded data removed]",
            "text/plain": [
              "<Figure size 720x576 with 1 Axes>"
            ]
          },
          "metadata": {
            "tags": [],
            "needs_background": "light"
          }
        }
      ]
    },
    {
      "cell_type": "markdown",
      "metadata": {
        "id": "UOo-vDTlYiwF"
      },
      "source": [
        "# Metodos de predicción-corrección"
      ]
    },
    {
      "cell_type": "markdown",
      "metadata": {
        "id": "993FztivSqfe"
      },
      "source": [
        "## Corrector basado en el método trapezoidal\n",
        "\n",
        "Se tiene que llegar al esquema iterativo del método de Euler modificado\n",
        "\n",
        "$$y_{i+1} = y_i + \\dfrac{h}{2}\\left[f(x_i,y_i) + f(x_{i+1},\\bar{y}_{i+1}) \\right]$$\n",
        "\n",
        "Recordando que la solución analítica de la ecuación diferencial es\n",
        "\n",
        "$$y = F(x)$$\n",
        "\n",
        "y que \n",
        "\n",
        "$$F'(x) = f(x,y)$$\n",
        "\n",
        "La integral con respecto a $x$ de la ecuación anterior es\n",
        "\n",
        "$$\\int F'(x)dx = F(x) = \\int f(x,y)dx$$\n",
        "\n",
        "Integrando $\\int f(x,y)dx$ en el intervalo $[x_i,x_{i+1}]$\n",
        "\n",
        "$$\\begin{align*}\n",
        "\\int_{x_i}^{x_{i+1}} f(x,y)dx &= F(x)|_{x_i}^{x_{i+1}}\\\\\n",
        "& = F(x_{i+1})-F(x_i)\\approx y_{i+1}-y_i\n",
        "\\end{align*}$$\n",
        "\n",
        "donde $y_i$ y  $y_{i+1}$  son aproximaciones a $F(x_i)$ y $F(x_{i+1})$.\n",
        "\n",
        "Integrando $\\int f(x,y)dx$ con el método trapezoidal, se tiene\n",
        "\n",
        "$$\\int_{x_i}^{x_{i+1}}f(x,y)dx\\approx \\dfrac{h}{2}\\left[f(x_i,y_i) + f(x_{i+1},\\bar{y}_{i+1})\\right]$$\n",
        "\n",
        "donde $h = x_{i+1}-x_i$ \n",
        "\n",
        "Haciendo \n",
        "\n",
        "$$\\begin{align*}\n",
        "y_{i+1}-y_i &= \\dfrac{h}{2}\\left[f(x_i,y_i) + f(x_{i+1},\\bar{y}_{i+1})\\right]\\,\\text{resolviendo para }y_{i+1}\\\\\n",
        "y_{i+1} &= y_i + \\dfrac{h}{2}\\left[f(x_i,y_i) + f(x_{i+1},\\bar{y}_{i+1})\\right]\\\\\n",
        "\\bar{y}_{i+1} &= y_i + hf(x_i,y_i)\n",
        "\\end{align*}$$\n",
        "\n",
        "O bien \n",
        "\n",
        "$$\\begin{align*}\n",
        "y_{i+1} &= y_i + \\dfrac{h}{2}\\left[f(x_i,y_i) + f(x_{i+1},y_i + hf(x_i,y_i))\\right]\\\\\n",
        "\\end{align*}$$\n"
      ]
    },
    {
      "cell_type": "markdown",
      "metadata": {
        "id": "9Qe0ibjga1K-"
      },
      "source": [
        "## Corrector basado en el método de Simpson 1/3\n",
        "\n",
        "Se parte de \n",
        "\n",
        "$$\\int_{x_{i-1}}^{x_{i+1}}f(x,y)dx = F(x_{i+1})-F(x_{i-1})\\approx y_{i+1} - y_{i-1}$$\n",
        "\n",
        "Utilizando el método de Simpson para integrar $\\int_{x_{i-1}}^{x_{i+1}}f(x,y)dx $\n",
        "\n",
        "$$\\int_{x_{i-1}}^{x_{i+1}}f(x,y)dx  \\approx \\dfrac{h}{3}\\left[f(x_{i-1},y_{i-1})+ 4f(x_i,y_i) + f(x_{i+1},\\bar{y}_{i+1})\\right]$$\n",
        "\n",
        "Igualando las integrales y resolviendo para $y_{i+1}$\n",
        "\n",
        "$$y_{i+1} = y_{i-1} + \\dfrac{h}{3}\\left[f(x_{i-1},y_{i-1})+ 4f(x_i,y_i) + f(x_{i+1},\\bar{y}_{i+1})\\right]$$\n",
        "\n",
        "$$\\bar{y}_{i+1} = y_i + hf(x_i,y_i)$$\n",
        "\n",
        "**Aplicación**\n",
        "\n",
        "Partiendo de la condición inicial $(x_0,y_0)$, se tiene que la primera iteración, $i=1$, está dada por \n",
        "\n",
        "$$y_2 = y_0 + \\dfrac{h}{3}\\left[f(x_0,y_0) +4f(x_1,y_1) + f(x_2,\\bar{y}_2)  \\right]$$\n",
        "\n",
        "donde $\\bar{y}_2$ se estima a través de un predictor, el cual requiere del valor de $y_1$ y $f(x_1,y_1)$. A esto se le conoce como paso de inicialización."
      ]
    },
    {
      "cell_type": "markdown",
      "metadata": {
        "id": "cEC7kWO4fNpo"
      },
      "source": [
        "**Ejemplo**\n",
        "\n",
        "Resuelva el siguiente PVI mediante el método de corrector de Simpson 1/3\n",
        "\n",
        "$$\\begin{align*} \n",
        "\\dfrac{dy}{dx}&=(x-y) \\\\ \n",
        "y(0)&=2\\\\\n",
        "y(1)&=? \n",
        "\\end{align*} \n",
        "$$"
      ]
    }
  ]
}