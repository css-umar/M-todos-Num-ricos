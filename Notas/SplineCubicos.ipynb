{
  "nbformat": 4,
  "nbformat_minor": 0,
  "metadata": {
    "colab": {
      "name": "SplineCubicos.ipynb",
      "provenance": []
    },
    "kernelspec": {
      "name": "python3",
      "display_name": "Python 3"
    },
    "language_info": {
      "name": "python"
    }
  },
  "cells": [
    {
      "cell_type": "code",
      "metadata": {
        "id": "5OcrV9mYgqW6"
      },
      "source": [
        "import numpy as np\n",
        "import matplotlib.pyplot as plt"
      ],
      "execution_count": null,
      "outputs": []
    },
    {
      "cell_type": "markdown",
      "metadata": {
        "id": "UsUO8xRohaq4"
      },
      "source": [
        "# Spline cúbicos \n",
        "\n",
        "En este tipo de interpolación se considera que los puntos $(x_i, y_i)$ y $(x_{i + 1}, y_{i + 1})$ se unen por un polinomio cúbico de la forma\n",
        "\n",
        "$$S_i(x) = a_i x^3 + b_i x^2 + c_i x + d_i $$\n",
        "\n",
        "que es válido para $x_i \\leq x \\leq x_{i+1}$ para $i = 1, \\ldots, n - 1$.\n",
        "\n",
        "Para encontrar la función de interpolación, primero se deben  determinar los coeficientes $a_i, b_i, c_i, d_i$ para cada una de las funciones cúbicas. \n",
        "\n",
        "Para $n$ puntos, hay $n - 1$ funciones cúbicas para encontrar, y cada función cúbica requiere cuatro coeficientes. Por lo tanto, se tiene un total de $4 (n - 1)$ incógnitas, por lo que se necesita $4 (n - 1)$ ecuaciones independientes para encontrar todos los coeficientes.\n",
        "\n",
        "Algunas consideraciones:\n",
        "\n",
        "1. Las funciones cúbicas deben cruzar con los datos (los puntos de la izquierda y la derecha):\n",
        "\n",
        "$$\\begin{align*}\n",
        "S_i(x_i) &= y_i,\\, i = 1,\\ldots,n-1\\\\\n",
        "S_i(x_{i+1}) &= y_{i+1},\\, i = 1,\\ldots,n-1\\\\\n",
        "\\end{align*}$$\n",
        "\n",
        "\n",
        "> esto da $2(n - 1)$ ecuaciones. \n",
        "\n",
        "2. Cada función cúbica se debe unir lo más suavemente posible con sus vecinas, por lo que las splines deben tener una primera y segunda derivadas continuas en los puntos de datos $i = 2, \\ldots, n - 1$:\n",
        "\n",
        "$$\\begin{align*}\n",
        "S^{'}_i(x_{i+1}) &= S^{'}_{i+1}(x_{i+1}),\\, i = 1,\\ldots,n-1\\\\\n",
        "S^{''}_i(x_{i+1}) &= S^{''}_{i+1}(x_{i+1}),\\, i = 1,\\ldots,n-1\\\\\n",
        "\\end{align*}$$\n",
        "\n",
        "> esto da $2(n - 2)$ ecuaciones.\n",
        "\n",
        "Con todo esto, aún se requieren dos ecuaciones más para calcular los coeficientes de $Si (x)$. Estas dos últimas restricciones son arbitrarias; se pueden elegir para adaptarse a las circunstancias de la interpolación que se está realizando. Un conjunto común de restricciones finales es asumir que las segundas derivadas son cero en los puntos finales. Esto significa que la curva es una \"línea recta\" en los puntos finales, es decir\n",
        "\n",
        "$$\\begin{align*}\n",
        "S^{''}_1(x_1) &= 0\\\\\n",
        "S^{''}_{n-1}(x_n) &= 0\n",
        "\\end{align*}$$\n",
        "\n"
      ]
    },
    {
      "cell_type": "markdown",
      "metadata": {
        "id": "81BZZMQ9q3-y"
      },
      "source": [
        "Para determinar los coeficientes de cada función cúbica, se escriben las restricciones explícitamente como sistema de ecuaciones lineales con $4 (n - 1)$ incógnitas. Para $n$ puntos de datos, las incógnitas son los coeficientes $a_i, b_i, c_i, d_i$ del spline cúbico, $S_i$, uniendo los puntos $x_i$ y $x_{i + 1}$. \n",
        "\n",
        "Para las restricciones $S_i(x_i) = y_i$ se tiene:\n",
        "\n",
        "$$\\begin{align*}\n",
        "a_1 x^3_1 + b_1 x^2_1 + c_1 x_1 + d_1&= y_1\\\\\n",
        "a_2 x^3_2 + b_2 x^2_2 + c_2 x_2 + d_2&= y_2\\\\\n",
        "\\vdots\\\\\n",
        "a_{n-1} x^3_{n-1} + b_{n-1} x^2_{n-1} + c_{n-1} x_{n-1} + d_{n-1}&= y_{n-1}\\\\\n",
        "\\end{align*}$$\n",
        "\n",
        "Para las restricciones $S_i(x_{i+1}) = y_{i+1}$ se tiene:\n",
        "\n",
        "$$\\begin{align*}\n",
        "a_1 x^3_2 + b_1 x^2_2 + c_1 x_2 + d_1&= y_2\\\\\n",
        "a_2 x^3_3 + b_2 x^2_3 + c_2 x_3 + d_2&= y_3\\\\\n",
        "\\vdots\\\\\n",
        "a_{n-1} x^3_{n} + b_{n-1} x^2_{n} + c_{n-1} x_{n} + d_{n-1}&= y_n\\\\\n",
        "\\end{align*}$$\n",
        "\n",
        "\n",
        "Para las restricciones $S^{'}_i(x_{i+1}) = S^{'}_{i+1}(x_{i+1})$ se tiene:\n",
        "\n",
        "$$\\begin{align*}\n",
        "3a_1 x^2_2 + 2b_1 x_2 + c_1 - 3a_2 x^2_2 - 2b_2 x_2 - c_2&= 0\\\\\n",
        "3a_2 x^2_3 + 2b_2 x_3 + c_2 - 3a_3 x^2_3 - 2b_3 x_3 - c_3&= 0\\\\\n",
        "\\vdots\\\\\n",
        "3a_{n-2} x^2_{n-1} + 2b_{n-2} x_{n-1} + c_{n-2} - 3a_{n-1} x^2_{n-1} - 2b_{n-1} x_{n-1} - c_{n-1}&= 0\\\\\n",
        "\\end{align*}$$\n",
        "\n",
        "Para las restricciones $S^{''}_i(x_{i+1}) = S^{''}_{i+1}(x_{i+1})$ se tiene:\n",
        "\n",
        "$$\\begin{align*}\n",
        "6a_1 x_2 + 2b_1 - 6a_2 x_2 - 2b_2&= 0\\\\\n",
        "6a_2 x_3 + 2b_2 - 6a_3 x_3 - 2b_3&= 0\\\\\n",
        "\\vdots\\\\\n",
        "6a_{n-2} x_{n-1} +2b_{n-2} - 6a_{n-1} x_{n-1} - 2b_{n-1} &= 0\\\\\n",
        "\\end{align*}$$\n",
        "\n",
        "Finalmente, para las restricciones de punto final $S_1 (x_1) = 0$ y $S_{n −1} (x_n) = 0$, se tiene:\n",
        "\n",
        "$$\\begin{align*}\n",
        "6a_1 x_1 + 2b_1 &= 0\\\\\n",
        "6a_{n-1} x_n + 2b_{n-1} &= 0\\\\\n",
        "\\end{align*}$$"
      ]
    },
    {
      "cell_type": "markdown",
      "metadata": {
        "id": "QpXaRJq7wiyw"
      },
      "source": [
        "Estas ecuaciones son lineales en los coeficientes desconocidos $a_i, b_i, c_i\\, \\text{y}\\, d_i$. Con los cuales se puede formar una matriz y encontrar los coeficientes de cada spline. \n",
        "\n",
        "Tip: Recordar que siempre que se tenga un sistema $A\\boldsymbol{x} = \\boldsymbol{b}$, para que éste tenga solución, $A$ debe ser cuadrada e invertible."
      ]
    },
    {
      "cell_type": "markdown",
      "metadata": {
        "id": "855qp9hJtUzl"
      },
      "source": [
        "**Ejemplo** Interpolar con spline lineal los siguientes datos $(1,1), (2,0.5)$ y $(4,0.25)$.\n",
        "\n",
        "\n",
        "\n"
      ]
    },
    {
      "cell_type": "code",
      "metadata": {
        "colab": {
          "base_uri": "https://localhost:8080/",
          "height": 279
        },
        "id": "EiM9oP1ztUWr",
        "outputId": "92eb9978-9005-47e4-87f2-9198bffe0a67"
      },
      "source": [
        "x = [1, 2, 4]\n",
        "y = [1,0.5,0.25]\n",
        "plt.plot(x,y, \"ko\")\n",
        "plt.xlabel(\"x\")\n",
        "plt.ylabel(\"y\")\n",
        "plt.show()"
      ],
      "execution_count": null,
      "outputs": [
        {
          "output_type": "display_data",
          "data": {
            "image/png": "[encoded data removed]",
            "text/plain": [
              "<Figure size 432x288 with 1 Axes>"
            ]
          },
          "metadata": {
            "tags": [],
            "needs_background": "light"
          }
        }
      ]
    },
    {
      "cell_type": "markdown",
      "metadata": {
        "id": "Tf7PZsCCuLpN"
      },
      "source": [
        "El spline lineal tiene la forma $S(x) = ax+b$\n",
        "\n",
        "> Para el intervalo $(1,1)$ y $(2,0.5)$\n",
        "\n",
        "**Paso 1**: Construir el spline que une los puntos $(1,1)$ y $(2,0.5)$\n",
        "\n",
        "$$S_1(x) = ax+b$$\n",
        "\n",
        "$$\\begin{align*}\n",
        "a + b &= 1\\\\\n",
        "2a + b &= 0.5\n",
        "\\end{align*}$$\n",
        "\n",
        "**Paso 2**: Resolver el sistema anterior\n",
        "\n",
        "$$\\begin{align*}\n",
        "a &= -0.5\\\\\n",
        "b &= 1.5\n",
        "\\end{align*}$$\n",
        "\n",
        "**Paso 3**: Sustituir $a=-0.5$ y $b = 1.5$  en $S_1(x)$\n",
        "\n",
        "$$S_1(x) = -0.5x+1.5$$\n",
        "\n",
        "> Para el intervalo $(2,0.5)$ y $(4,0.25)$\n",
        "\n",
        "**Paso 1**: Construir el spline que une los puntos $(2,0.5)$ y $(4,0.25)$\n",
        "\n",
        "$$S_2(x) = ax+b$$\n",
        "\n",
        "$$\\begin{align*}\n",
        "4a + b &= 0.25\\\\\n",
        "2a + b &= 0.5\n",
        "\\end{align*}$$\n",
        "\n",
        "**Paso 2**: Resolver el sistema anterior\n",
        "\n",
        "$$\\begin{align*}\n",
        "a &= -0.125\\\\\n",
        "b &= 0.75\n",
        "\\end{align*}$$\n",
        "\n",
        "**Paso 3**: Sustituir $a=-0.125$ y $b = 0.75$  en $S_2(x)$\n",
        "\n",
        "$$S_2(x) = -0.5x+1.5$$"
      ]
    },
    {
      "cell_type": "code",
      "metadata": {
        "colab": {
          "base_uri": "https://localhost:8080/",
          "height": 279
        },
        "id": "smBySihMxHiu",
        "outputId": "342c8fae-9b3a-4a4b-f019-e59e2d059f74"
      },
      "source": [
        "S1x = lambda x: -0.5*x + 1.5  \n",
        "S2x = lambda x: -0.125*x + 0.75\n",
        "x = [1, 2, 4]\n",
        "y = [1,0.5,0.25]\n",
        "plt.plot(x,y, \"ko\")\n",
        "plt.plot(np.linspace(1,2,10,endpoint=True),\n",
        "         S1x(np.linspace(1,2,10,endpoint=True)),\"b-\")\n",
        "plt.annotate(r\"$S_1(x)$\", xy=(1.25,S1x(1.25)), xytext=(2.5, 0.9),\n",
        "             arrowprops=dict(facecolor='black', shrink=0.05),fontsize=15)\n",
        "plt.plot(np.linspace(2,4,10,endpoint=True),\n",
        "         S2x(np.linspace(2,4,10,endpoint=True)),\"b-\")\n",
        "plt.annotate(r\"$S_2(x)$\", xy=(2.5,S2x(2.5)), xytext=(3.5, 0.9),\n",
        "             arrowprops=dict(facecolor='black', shrink=0.05),fontsize=15)\n",
        "plt.xlabel(\"x\")\n",
        "plt.ylabel(\"y\")\n",
        "plt.show()"
      ],
      "execution_count": null,
      "outputs": [
        {
          "output_type": "display_data",
          "data": {
            "image/png": "[encoded data removed]",
            "text/plain": [
              "<Figure size 432x288 with 1 Axes>"
            ]
          },
          "metadata": {
            "tags": [],
            "needs_background": "light"
          }
        }
      ]
    },
    {
      "cell_type": "markdown",
      "metadata": {
        "id": "_Wqn0N4Uz7K8"
      },
      "source": [
        "**Ejemplo**: Construya un spline cuadrático que pase por los puntos $(3.0,2.5), (4.5,1.0),(7.0,2.5)$ y $(9.0,0.5)$.\n",
        "\n",
        "**Paso 1**: Construir los splines cuadráticos $S_i(x_i)= a_ix_i^2 + b_ix_i + c_i$. que pasen por los puntos.\n",
        "\n",
        "> Para las restricciones $S_i(x_i) = y_i$ se tiene:\n",
        "\n",
        "$$\\begin{align*}\n",
        "S_1(3.0) &= 2.5 = a_1(3.0)^2 + b_1(3.0) + c_1\\\\\n",
        "S_2(4.5) &= 1.0 = a_2(4.5)^2 + b_2(4.5) + c_2\\\\\n",
        "S_3(7.0) &= 2.5 = a_3(7.0)^2 + b_3(7.0) + c_3\\\\\n",
        "\\end{align*}$$\n",
        "\n",
        "> Para las restricciones $S_i(x_{i+1}) = y_{i+1}$ se tiene:\n",
        "\n",
        "$$\\begin{align*}\n",
        "S_1(4.5) &= 1.0 = a_1(4.5)^2 + b_1(4.5) + c_1\\\\\n",
        "S_2(7.0) &= 2.5 = a_2(7.0)^2 + b_2(7.0) + c_2\\\\\n",
        "S_3(9.0) &= 0.5 = a_3(9.0)^2 + b_3(9.0) + c_3\\\\\n",
        "\\end{align*}$$\n",
        "\n",
        "**Paso 2**: \n",
        "> Para las restricciones $S^{'}_i(x_{i+1}) = S^{'}_{i+1}(x_{i+1})$ se tiene:\n",
        "\n",
        "$$\\begin{align*}\n",
        "2a_1(4.5)+b_1 = 2a_2(4.5)+b2\\,\\therefore\\ 2a_1(4.5)+b_1 - 2a_2(4.5)-b_2 = 0\\\\\n",
        "2a_2(7.0)+b_2 = 2a_3(7.0)+b3\\,\\therefore\\ 2a_2(7.0)+b_2 - 2a_3(7.0)-b_3=0\n",
        "\\end{align*}$$\n",
        "\n",
        "> Hasta este paso se tienen 8 ecuaciones y 9 incógnitas. Se puede elegir arbitrariamente $a_1=0$. Así se tiene 8 ecuciones y 8 ingógnitas.\n",
        "\n",
        "**Paso 3**: Pasar las ecuaciones a forma matricial"
      ]
    },
    {
      "cell_type": "markdown",
      "metadata": {
        "id": "LA3NU19yCEdR"
      },
      "source": [
        "$$\\begin{bmatrix}\n",
        "3   & 1 & 0     & 0   & 0 & 0  & 0 & 0\\\\\n",
        "4.5 & 1 & 0     & 0   & 0 & 0  & 0 & 0\\\\\n",
        "0   & 0 & 20.25 & 4.5 & 1 & 0  & 0 & 0\\\\\n",
        "0   & 0 & 49.0  & 7.0 & 1 & 0  & 0 & 0\\\\\n",
        "0   & 0 & 0     & 0   & 0 & 49 & 7 & 1\\\\\n",
        "0   & 0 & 0     & 0   & 0 & 81 & 9 & 1\\\\\n",
        "1   & 0 & -9    & -1  & 0 & 0  & 0 & 0\\\\\n",
        "0   & 0 & 14    & 1   & 0 & -14& -1& 0\\\\\n",
        "\\end{bmatrix} \\begin{bmatrix}\n",
        "b_1\\\\\n",
        "c_1\\\\\n",
        "a_2\\\\\n",
        "b_2\\\\\n",
        "c_2\\\\\n",
        "a_3\\\\\n",
        "b_3\\\\\n",
        "c_3\n",
        "\\end{bmatrix}=\\begin{bmatrix}\n",
        "2.5\\\\\n",
        "1.0\\\\\n",
        "1.0\\\\\n",
        "2.5\\\\\n",
        "2.5\\\\\n",
        "0.5\\\\\n",
        "0.0\\\\\n",
        "0\n",
        "\\end{bmatrix}$$"
      ]
    },
    {
      "cell_type": "code",
      "metadata": {
        "colab": {
          "base_uri": "https://localhost:8080/"
        },
        "id": "bBJE4geYHdqa",
        "outputId": "f4de61a1-1993-430f-f07d-b1652214446f"
      },
      "source": [
        "A = np.array([[3,1,0,0,0,0,0,0],[4.5,1.0,0,0,0,0,0,0],\n",
        "              [0,0,20.25,4.5,1.0,0,0,0],[0,0,49.0,7.0,1.0,0,0,0],\n",
        "              [0,0,0,0,0,49.0,7.0,1.0],[0,0,0,0,0,81,9,1],[1,0,-9,-1,0,0,0,0],\n",
        "              [0,0,14,1,0,-14,-1,0]])\n",
        "b = np.array([2.5,1.0,1.0,2.5,2.5,0.5,0,0])\n",
        "\n",
        "DetA = np.linalg.det(A)\n",
        "DetA"
      ],
      "execution_count": null,
      "outputs": [
        {
          "output_type": "execute_result",
          "data": {
            "text/plain": [
              "-37.50000000000005"
            ]
          },
          "metadata": {
            "tags": []
          },
          "execution_count": 4
        }
      ]
    },
    {
      "cell_type": "code",
      "metadata": {
        "colab": {
          "base_uri": "https://localhost:8080/"
        },
        "id": "9tNY4kTZJEtW",
        "outputId": "ee33dcf2-f821-4a24-9363-27b4d2a987ce"
      },
      "source": [
        "sol = np.linalg.solve(A,b)\n",
        "sol"
      ],
      "execution_count": null,
      "outputs": [
        {
          "output_type": "execute_result",
          "data": {
            "text/plain": [
              "array([ -1.  ,   5.5 ,   0.64,  -6.76,  18.46,  -1.6 ,  24.6 , -91.3 ])"
            ]
          },
          "metadata": {
            "tags": []
          },
          "execution_count": 5
        }
      ]
    },
    {
      "cell_type": "code",
      "metadata": {
        "colab": {
          "base_uri": "https://localhost:8080/"
        },
        "id": "FmzvbTTPJh4F",
        "outputId": "2c34d485-43da-4f5e-ddf1-2205faf00592"
      },
      "source": [
        "S1Coef = sol[:2]\n",
        "S1Coef"
      ],
      "execution_count": null,
      "outputs": [
        {
          "output_type": "execute_result",
          "data": {
            "text/plain": [
              "array([-1. ,  5.5])"
            ]
          },
          "metadata": {
            "tags": []
          },
          "execution_count": 6
        }
      ]
    },
    {
      "cell_type": "code",
      "metadata": {
        "colab": {
          "base_uri": "https://localhost:8080/"
        },
        "id": "19L80xyhJy0n",
        "outputId": "c371dabe-7982-45c7-9145-8ffa65c54ce9"
      },
      "source": [
        "np.insert(S1Coef,0,0)"
      ],
      "execution_count": null,
      "outputs": [
        {
          "output_type": "execute_result",
          "data": {
            "text/plain": [
              "array([ 0. , -1. ,  5.5])"
            ]
          },
          "metadata": {
            "tags": []
          },
          "execution_count": 7
        }
      ]
    },
    {
      "cell_type": "code",
      "metadata": {
        "colab": {
          "base_uri": "https://localhost:8080/"
        },
        "id": "ESwCRseTLFpR",
        "outputId": "a90446cd-a0c7-4207-a1fd-0e3d5ac5fddc"
      },
      "source": [
        "S1 = np.poly1d(np.insert(S1Coef,0,0))\n",
        "print(np.poly1d(np.insert(S1Coef,0,0)))"
      ],
      "execution_count": null,
      "outputs": [
        {
          "output_type": "stream",
          "text": [
            " \n",
            "-1 x + 5.5\n"
          ],
          "name": "stdout"
        }
      ]
    },
    {
      "cell_type": "code",
      "metadata": {
        "colab": {
          "base_uri": "https://localhost:8080/"
        },
        "id": "_r8pyNZ6Kjyf",
        "outputId": "291e846a-f177-4ecc-e222-70bbf24afad3"
      },
      "source": [
        "S2Coef = sol[2:5]\n",
        "S2Coef"
      ],
      "execution_count": null,
      "outputs": [
        {
          "output_type": "execute_result",
          "data": {
            "text/plain": [
              "array([ 0.64, -6.76, 18.46])"
            ]
          },
          "metadata": {
            "tags": []
          },
          "execution_count": 9
        }
      ]
    },
    {
      "cell_type": "code",
      "metadata": {
        "colab": {
          "base_uri": "https://localhost:8080/"
        },
        "id": "UayFDXuALY5_",
        "outputId": "d5428b0e-8b9b-44f6-9252-a8b53febecf8"
      },
      "source": [
        "S2 = np.poly1d(S2Coef)\n",
        "print(np.poly1d(S2Coef))"
      ],
      "execution_count": null,
      "outputs": [
        {
          "output_type": "stream",
          "text": [
            "      2\n",
            "0.64 x - 6.76 x + 18.46\n"
          ],
          "name": "stdout"
        }
      ]
    },
    {
      "cell_type": "code",
      "metadata": {
        "colab": {
          "base_uri": "https://localhost:8080/"
        },
        "id": "K81hILibK5Nh",
        "outputId": "56f41fb5-9867-4903-baf0-e47b30548ca9"
      },
      "source": [
        "S3Coef = sol[5:]\n",
        "S3Coef"
      ],
      "execution_count": null,
      "outputs": [
        {
          "output_type": "execute_result",
          "data": {
            "text/plain": [
              "array([ -1.6,  24.6, -91.3])"
            ]
          },
          "metadata": {
            "tags": []
          },
          "execution_count": 11
        }
      ]
    },
    {
      "cell_type": "code",
      "metadata": {
        "colab": {
          "base_uri": "https://localhost:8080/"
        },
        "id": "3EEZ5rc8LibC",
        "outputId": "691d9018-ee80-434c-d52b-c43cfc0eadfb"
      },
      "source": [
        "S3 = np.poly1d(S3Coef)\n",
        "print(np.poly1d(S3Coef))"
      ],
      "execution_count": null,
      "outputs": [
        {
          "output_type": "stream",
          "text": [
            "      2\n",
            "-1.6 x + 24.6 x - 91.3\n"
          ],
          "name": "stdout"
        }
      ]
    },
    {
      "cell_type": "code",
      "metadata": {
        "colab": {
          "base_uri": "https://localhost:8080/",
          "height": 279
        },
        "id": "TNS5xqEjLqMv",
        "outputId": "a4610dc4-cda7-4ff3-ab08-f0d3e4f5b122"
      },
      "source": [
        "x = [3, 4.5, 7, 9]\n",
        "y = [2.5,1.0,2.5,0.5]\n",
        "plt.plot(x,y, \"ko\")\n",
        "plt.plot(np.linspace(3,4.5,20,endpoint=True),\n",
        "         S1(np.linspace(3,4.5,20,endpoint=True)), \"b-\")\n",
        "plt.annotate(r\"$S_1(x)$\", xy=(3.5,S1(3.5)), xytext=(3.5, 2.5),\n",
        "             arrowprops=dict(facecolor='black', shrink=0.05),fontsize=15)\n",
        "plt.plot(np.linspace(4.5,7,20,endpoint=True),\n",
        "         S2(np.linspace(4.5,7,20,endpoint=True)), \"b-\")\n",
        "plt.annotate(r\"$S_2(x)$\", xy=(6.0,S2(6.0)), xytext=(5.0, 2.5),\n",
        "             arrowprops=dict(facecolor='black', shrink=0.05),fontsize=15)\n",
        "plt.plot(np.linspace(7.0,9.0,20,endpoint=True),\n",
        "         S3(np.linspace(7.0,9.0,20,endpoint=True)), \"b-\")\n",
        "plt.annotate(r\"$S_3(x)$\", xy=(8.5,S3(8.5)), xytext=(7.0, 1.0),\n",
        "             arrowprops=dict(facecolor='black', shrink=0.05),fontsize=15)\n",
        "plt.xlabel(\"x\")\n",
        "plt.ylabel(\"y\")\n",
        "plt.show()"
      ],
      "execution_count": null,
      "outputs": [
        {
          "output_type": "display_data",
          "data": {
            "image/png": "[encoded data removed]",
            "text/plain": [
              "<Figure size 432x288 with 1 Axes>"
            ]
          },
          "metadata": {
            "tags": [],
            "needs_background": "light"
          }
        }
      ]
    },
    {
      "cell_type": "markdown",
      "metadata": {
        "id": "HnoGPvImaC2g"
      },
      "source": [
        "**Ejemplo** Construya un spline cúbico natural que pase por los puntos $(1,2),(2,3)$ y $(3,5)$.\n",
        "\n",
        "$$S_i(x_i) = a_i(x-x_i)^3 + b_i(x-x_i)^2 + c_i(x-x_i) + d_i$$"
      ]
    },
    {
      "cell_type": "code",
      "metadata": {
        "colab": {
          "base_uri": "https://localhost:8080/",
          "height": 279
        },
        "id": "AObuzlcMmmRU",
        "outputId": "074a7aac-2ff8-49bd-f507-777955d9f9f1"
      },
      "source": [
        "x = [1, 2, 3]\n",
        "y = [2,3,5]\n",
        "plt.plot(x,y, \"ko\")\n",
        "plt.xlabel(\"x\")\n",
        "plt.ylabel(\"y\")\n",
        "plt.show()"
      ],
      "execution_count": null,
      "outputs": [
        {
          "output_type": "display_data",
          "data": {
            "image/png": "[encoded data removed]",
            "text/plain": [
              "<Figure size 432x288 with 1 Axes>"
            ]
          },
          "metadata": {
            "tags": [],
            "needs_background": "light"
          }
        }
      ]
    },
    {
      "cell_type": "markdown",
      "metadata": {
        "id": "tBB1akIum5zV"
      },
      "source": [
        "**Paso 1**: Para el intervalo $ [1,2]$ y $ [2,3]$\n",
        "\n",
        "se tiene\n",
        "\n",
        "$$\\begin{align*}\n",
        "S_1(1) &= a_1(x-1)^3 + b_1(x-1)^2 + c_1(x-1) + d_1 \\,; [1,2]\\\\\n",
        "\\end{align*}$$\n",
        "\n",
        "**Paso 2**: Para el intervalo $ [2,3]$ y $ [3,5]$\n",
        "\n",
        "$$\\begin{align*}\n",
        "S_2(2) &=a_2(x-2)^3 + b_2(x-2)^2 + c_2(x-2) + d_2 \\,; [2,3]\\\\\n",
        "\\end{align*}$$\n",
        "\n",
        "**Paso 3**: El sistema anterior tiene ocho coeficientes por determinar, por lo tanto se requieren de ocho condiciones. Cuatro de ellas surgen del hecho de que los splines deben concordar con los datos en los nodos.\n",
        "\n",
        "$$\\begin{align*}\n",
        "d_1 &= f(1)=2\\\\\n",
        "d_1 + b_1 + c_1 + a_1 &= f(2)=3\\\\\n",
        "d_2 &= f(2)=3\\\\\n",
        "d_2 + c_2 + b_2 + a_2 &= f(3)=5\\\\\n",
        "\\end{align*}$$\n",
        "\n",
        "**Paso 4**: Dos condiciones más surgen del hecho de que $S'_1(2) = S'_2(2)$ y $S''_1(2) = S''_2(2)$\n",
        "\n",
        "$$\\begin{align*}\n",
        "S'_i(x_i)&=3a_i(x-x_i)^2 + 2b_i(x-x_i)+c_i\\\\\n",
        "S''_i(x_i)&=6a_i(x-x_i)+2b_i\n",
        "\\end{align*}$$\n",
        "\n",
        "> Para $S'_1(2) = S'_2(2)$\n",
        "\n",
        "$$3a_1+2b_1+c_1 = c_2$$\n",
        "\n",
        "> Para $S''_1(2) = S''_2(2)$\n",
        "\n",
        "$$2b_1 + 6a_1 = 2b_2$$\n",
        "\n",
        "**Paso 5**: Las dos condiciones finales provienen de las condiciones de frontera natural.\n",
        "\n",
        "> Para $S''_1(1)=0$\n",
        "\n",
        "$$2b_1 = 0$$\n",
        "\n",
        "> Para $S''_2(3) = 0$\n",
        "\n",
        "$$2b_1+6a_1 = 0$$\n",
        "\n"
      ]
    },
    {
      "cell_type": "markdown",
      "metadata": {
        "id": "ebLnStO1Hvt5"
      },
      "source": [
        "**Paso 6**: Las ecuaciones a resolver son\n",
        "$$\\begin{align*}\n",
        "S_1(x) &= a_1(x-1)^3 + b_1(x-1)^2 + c_1(x-1) + d_1\\\\\n",
        "S_2(x) &=a_2(x-2)^3 + b_2(x-2)^2 + c_2(x-2) + d_2 \\\\\n",
        "d_1 &= f(1)=2\\\\\n",
        "d_1 + c_1 + b_1 + a_1 &= f(2)=3\\\\\n",
        "d_2 &= f(2)=3\\\\\n",
        "d_2 + c_2 + b_2 + a_2 &= f(3)=5\\\\\n",
        "3a_1+2b_1+c_1 &= c_2\\\\\n",
        "2b_1 + 6a_1 &= 2b_2\\\\\n",
        "2b_1 &= 0\\\\\n",
        "2b_1+6a_1 &= 0\n",
        "\\end{align*}$$"
      ]
    },
    {
      "cell_type": "markdown",
      "metadata": {
        "id": "g8E0SQdSJiRK"
      },
      "source": [
        "$$\\begin{align*}\n",
        "S_1(x) &= \\dfrac{1}{4}(x-1)^3 + \\dfrac{3}{4}(x-1) + 2,\\,\\text{para }x\\in[1,2]\\\\\n",
        "S_2(x) &= -\\dfrac{1}{4}(x-2)^3 + \\dfrac{3}{4}(x-2)^2 + \\dfrac{3}{2}(x-2) + 3,\\,\\text{para }x\\in[2,3]\n",
        "\\end{align*}$$"
      ]
    },
    {
      "cell_type": "code",
      "metadata": {
        "id": "au_ib0VktnrK",
        "colab": {
          "base_uri": "https://localhost:8080/"
        },
        "outputId": "142b38a0-267b-4e9b-9591-187a5c141230"
      },
      "source": [
        "from scipy.interpolate import CubicSpline\n",
        "x = np.array([1,2,3])\n",
        "y = np.array([2,3,5])\n",
        "\n",
        "S = CubicSpline(x,y,bc_type=\"natural\")\n",
        "S"
      ],
      "execution_count": null,
      "outputs": [
        {
          "output_type": "execute_result",
          "data": {
            "text/plain": [
              "<scipy.interpolate._cubic.CubicSpline at 0x7f9fbc861d10>"
            ]
          },
          "metadata": {
            "tags": []
          },
          "execution_count": 15
        }
      ]
    },
    {
      "cell_type": "code",
      "metadata": {
        "colab": {
          "base_uri": "https://localhost:8080/",
          "height": 497
        },
        "id": "9L6LIh7aTPPX",
        "outputId": "fb3ef323-47b0-4497-ae78-6e44c3df9572"
      },
      "source": [
        "xinter = np.linspace(1,3,endpoint=True)\n",
        "plt.figure(figsize=(10,8))\n",
        "plt.plot(x,y,\"ko\")\n",
        "plt.plot(xinter,S(xinter),\"b-\")\n",
        "plt.xlabel(\"x\")\n",
        "plt.ylabel(\"y\")\n",
        "plt.show()\n"
      ],
      "execution_count": null,
      "outputs": [
        {
          "output_type": "display_data",
          "data": {
            "image/png": "[encoded data removed]",
            "text/plain": [
              "<Figure size 720x576 with 1 Axes>"
            ]
          },
          "metadata": {
            "tags": [],
            "needs_background": "light"
          }
        }
      ]
    }
  ]
}