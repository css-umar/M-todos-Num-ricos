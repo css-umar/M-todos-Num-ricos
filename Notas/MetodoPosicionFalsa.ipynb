{
  "nbformat": 4,
  "nbformat_minor": 0,
  "metadata": {
    "colab": {
      "name": "Posicion_falsa.ipynb",
      "provenance": [],
      "collapsed_sections": []
    },
    "kernelspec": {
      "name": "python3",
      "display_name": "Python 3"
    },
    "language_info": {
      "name": "python"
    }
  },
  "cells": [
    {
      "cell_type": "markdown",
      "metadata": {
        "id": "nosiAzvHmjII"
      },
      "source": [
        "# Método de la posición falsa (Regula-Falsi)\n",
        "\n",
        "Este método es similar al de la secante. La diferencia radica en cómo se escogen los valores iniciales, en éste caso dichos valores ,$x_i$ y $x_{i-1}$, deben estar en lados opuestos de la raíz buscada $\\bar{x}$. \n",
        "\n",
        "El objetivo es que los valores funcionales $f(x_i)$ y $f(x_{i-1}) $ siempre tengan signos opuestos, es decir \n",
        "\n",
        "$$f(x_i)\\times f(x_{i-1}) < 0$$\n",
        "\n",
        "Partiendo de la fórmula del método de la secante\n",
        "\n",
        "$$x_{i+1}=x_{i} - \\dfrac{(x_i-x_{i-1})f(x_i)}{f(x_i)-f(x_{i-1})}$$\n",
        "\n",
        "y denotando $x_{i+1}$, $x_i$ y $x_{i-1}$ como $x_M$, $x_D$ y $x_I$, respectivamente, se llega a \n",
        "\n",
        "$$x_M = x_D-\\dfrac{(x_D-x_I)f(x_D)}{f(x_D)-f(x_I)} = \\dfrac{x_I f(x_D)-x_D f(x_I)}{f(x_D)-f(x_I)} $$\n",
        "\n",
        "**Ejemplo**\n",
        "\n",
        "Sea la función \n",
        "\n",
        "$$f(x) = x^3+2x^2+10x-20$$\n",
        "\n",
        "cuya gráfica es"
      ]
    },
    {
      "cell_type": "code",
      "metadata": {
        "colab": {
          "base_uri": "https://localhost:8080/",
          "height": 483
        },
        "id": "yDwtznavmYHF",
        "outputId": "9f85b86a-2bb1-4cd7-f49d-9639ff9678b8"
      },
      "source": [
        "import numpy as np\n",
        "import matplotlib.pyplot as plt\n",
        "\n",
        "def f(x):\n",
        "  return x**3 + 2*x**2 + 10*x - 20\n",
        "\n",
        "x = np.linspace(0,2)\n",
        "plt.figure(figsize=(12,8))\n",
        "plt.axhline(linewidth=1, color='k')\n",
        "plt.axvline(linewidth=1, color='k')\n",
        "plt.annotate(\"¡Aquí está la raíz!\", xy=(1.36,0.0), xytext=(0.2, 10),\n",
        "             arrowprops=dict(facecolor='black', shrink=0.05),fontsize=15)\n",
        "plt.plot(x,f(x))\n",
        "plt.show()"
      ],
      "execution_count": null,
      "outputs": [
        {
          "output_type": "display_data",
          "data": {
            "image/png": "[encoded data removed]",
            "text/plain": [
              "<Figure size 864x576 with 1 Axes>"
            ]
          },
          "metadata": {
            "tags": [],
            "needs_background": "light"
          }
        }
      ]
    },
    {
      "cell_type": "markdown",
      "metadata": {
        "id": "dokumtR6r3Y-"
      },
      "source": [
        "Se deben escorger los valores de $x_I$ y $x_D$, tal que estos estén en lados opuestos de la raíz. Para este ejemplo, $x_I$ y $x_D$ pueden ser $1.0$ y  $2.0$ respectivamente. Con estos valores se cumple que \n",
        "\n",
        "$$f(x_I)\\times f(x_{D}) < 0$$\n",
        "\n",
        "porque $f(1.0) = -7$ y $f(2.0)=16$.\n",
        "\n",
        "Al aplicar el método de la posición falsa con estos valores, se tiene que \n",
        "\n",
        "## Primera iteración"
      ]
    },
    {
      "cell_type": "code",
      "metadata": {
        "id": "vZDCrOxGrbl3"
      },
      "source": [
        "# Valores iniciales\n",
        "xI = 1.0\n",
        "xD = 2.0\n",
        "# Criterios de convergencia\n",
        "EPSILON = 0.0001\n",
        "EPSILON1 = 0.0001\n"
      ],
      "execution_count": null,
      "outputs": []
    },
    {
      "cell_type": "code",
      "metadata": {
        "colab": {
          "base_uri": "https://localhost:8080/"
        },
        "id": "XYre5nSUt5vZ",
        "outputId": "1d40b283-6b5d-4312-fa0a-f23bc4b0af0d"
      },
      "source": [
        "xM = (xI*f(xD)-xD*f(xI))/(f(xD)-f(xI))\n",
        "print(xM)"
      ],
      "execution_count": null,
      "outputs": [
        {
          "output_type": "stream",
          "text": [
            "1.3043478260869565\n"
          ],
          "name": "stdout"
        }
      ]
    },
    {
      "cell_type": "code",
      "metadata": {
        "colab": {
          "base_uri": "https://localhost:8080/"
        },
        "id": "yKRPSqi-uQwl",
        "outputId": "da7680b1-8c66-4cb1-9f48-394dde5ffe8d"
      },
      "source": [
        "abs(f(xM)) <= EPSILON"
      ],
      "execution_count": null,
      "outputs": [
        {
          "output_type": "execute_result",
          "data": {
            "text/plain": [
              "False"
            ]
          },
          "metadata": {
            "tags": []
          },
          "execution_count": 4
        }
      ]
    },
    {
      "cell_type": "code",
      "metadata": {
        "colab": {
          "base_uri": "https://localhost:8080/"
        },
        "id": "ITH24tXsufGj",
        "outputId": "01b9652e-b505-40e8-f07d-296f342d72fb"
      },
      "source": [
        "f(xM)<0"
      ],
      "execution_count": null,
      "outputs": [
        {
          "output_type": "execute_result",
          "data": {
            "text/plain": [
              "True"
            ]
          },
          "metadata": {
            "tags": []
          },
          "execution_count": 5
        }
      ]
    },
    {
      "cell_type": "code",
      "metadata": {
        "id": "a0HpqdI5usqy"
      },
      "source": [
        "xI = xM"
      ],
      "execution_count": null,
      "outputs": []
    },
    {
      "cell_type": "code",
      "metadata": {
        "colab": {
          "base_uri": "https://localhost:8080/"
        },
        "id": "9KG9rwILu2jC",
        "outputId": "ef1ac97e-7cae-4675-d5ac-e702b9791744"
      },
      "source": [
        "f(xI)*f(xD)<0"
      ],
      "execution_count": null,
      "outputs": [
        {
          "output_type": "execute_result",
          "data": {
            "text/plain": [
              "True"
            ]
          },
          "metadata": {
            "tags": []
          },
          "execution_count": 7
        }
      ]
    },
    {
      "cell_type": "markdown",
      "metadata": {
        "id": "w3ZJ3d9cvPtj"
      },
      "source": [
        "## Segunda iteración"
      ]
    },
    {
      "cell_type": "code",
      "metadata": {
        "colab": {
          "base_uri": "https://localhost:8080/"
        },
        "id": "0fPoolF1u8kR",
        "outputId": "536776ef-b6c8-43ee-947d-0f41d3973975"
      },
      "source": [
        "xM = (xI*f(xD)-xD*f(xI))/(f(xD)-f(xI))\n",
        "print(xM)"
      ],
      "execution_count": null,
      "outputs": [
        {
          "output_type": "stream",
          "text": [
            "1.3579123046578667\n"
          ],
          "name": "stdout"
        }
      ]
    },
    {
      "cell_type": "code",
      "metadata": {
        "colab": {
          "base_uri": "https://localhost:8080/"
        },
        "id": "g5grD_6hu_bx",
        "outputId": "bdc10399-4672-46b7-f281-4e87662f10c0"
      },
      "source": [
        "abs(f(xM)) <= EPSILON"
      ],
      "execution_count": null,
      "outputs": [
        {
          "output_type": "execute_result",
          "data": {
            "text/plain": [
              "False"
            ]
          },
          "metadata": {
            "tags": []
          },
          "execution_count": 9
        }
      ]
    },
    {
      "cell_type": "code",
      "metadata": {
        "colab": {
          "base_uri": "https://localhost:8080/"
        },
        "id": "ZQ1KqUDXvH3R",
        "outputId": "b66c761f-8b77-4b28-ad05-36b0ea8ed81e"
      },
      "source": [
        "f(xM)<0"
      ],
      "execution_count": null,
      "outputs": [
        {
          "output_type": "execute_result",
          "data": {
            "text/plain": [
              "True"
            ]
          },
          "metadata": {
            "tags": []
          },
          "execution_count": 10
        }
      ]
    },
    {
      "cell_type": "code",
      "metadata": {
        "id": "lH-mXwibvLi4"
      },
      "source": [
        "xI = xM"
      ],
      "execution_count": null,
      "outputs": []
    },
    {
      "cell_type": "code",
      "metadata": {
        "colab": {
          "base_uri": "https://localhost:8080/"
        },
        "id": "OzXayUSbvObA",
        "outputId": "2f4a6752-62a9-4fb3-f62d-139aee94ac7e"
      },
      "source": [
        "f(xI)*f(xD)<0"
      ],
      "execution_count": null,
      "outputs": [
        {
          "output_type": "execute_result",
          "data": {
            "text/plain": [
              "True"
            ]
          },
          "metadata": {
            "tags": []
          },
          "execution_count": 12
        }
      ]
    },
    {
      "cell_type": "code",
      "metadata": {
        "id": "ZVABcmBzw1-z"
      },
      "source": [
        ""
      ],
      "execution_count": null,
      "outputs": []
    },
    {
      "cell_type": "markdown",
      "metadata": {
        "id": "ekUImjzFvZza"
      },
      "source": [
        "Grafiamente la primer iteración queda de la forma siguiente"
      ]
    },
    {
      "cell_type": "code",
      "metadata": {
        "id": "k0WekLOkwavr"
      },
      "source": [
        "from IPython import get_ipython\n",
        "get_ipython().magic('reset -sf')"
      ],
      "execution_count": null,
      "outputs": []
    },
    {
      "cell_type": "code",
      "metadata": {
        "colab": {
          "base_uri": "https://localhost:8080/",
          "height": 483
        },
        "id": "y1POG48_vWx4",
        "outputId": "e1ab6d71-4155-4b49-d97a-bfe2cd633a8c"
      },
      "source": [
        "import numpy as np\n",
        "import matplotlib.pyplot as plt\n",
        "\n",
        "def f(x):\n",
        "  return x**3 + 2*x**2 + 10*x - 20\n",
        "\n",
        "x = np.linspace(0,2)\n",
        "xI, xD = 1.0,2.0\n",
        "plt.figure(figsize=(12,8))\n",
        "plt.axhline(linewidth=1, color='k')\n",
        "plt.axvline(linewidth=1, color='k')\n",
        "plt.plot(x,f(x))\n",
        "plt.text(xI,0, r'$x_I$',fontsize=15)\n",
        "plt.text(xD,0, r'$x_D$',fontsize=15)\n",
        "plt.plot([xI,xD], [0,0], 'o', markersize=10)\n",
        "plt.plot([xI,xI], [0,f(xI)], '--', markersize=10)\n",
        "plt.plot([xD,xD], [0,f(xD)], '--', markersize=10)\n",
        "\n",
        "plt.plot([xI,xD], [f(xI),f(xD)], 'o', markersize=10)\n",
        "plt.text(xI,f(xI), r'$(x_I,f(x_I)$',fontsize=15)\n",
        "plt.text(xD,f(xD), r'$(x_D,f(x_D))$',fontsize=15)\n",
        "plt.plot([xI,xD], [f(xI),f(xD)], '--', markersize=10)\n",
        "xM = (xI*f(xD)-xD*f(xI))/(f(xD)-f(xI))\n",
        "plt.plot([xM],[0], 'o', markersize=10)\n",
        "plt.text(xM,0, r'$x_M$',fontsize=15)\n",
        "plt.annotate(r\"$f(x_M)=-1.3347$\", xy=(xM,f(xM)), xytext=(1.50, -10),\n",
        "             arrowprops=dict(facecolor='black', shrink=0.05),fontsize=15)\n",
        "plt.show()"
      ],
      "execution_count": null,
      "outputs": [
        {
          "output_type": "display_data",
          "data": {
            "image/png": "[encoded data removed]",
            "text/plain": [
              "<Figure size 864x576 with 1 Axes>"
            ]
          },
          "metadata": {
            "tags": [],
            "needs_background": "light"
          }
        }
      ]
    },
    {
      "cell_type": "code",
      "metadata": {
        "id": "pD081xjvwCG2"
      },
      "source": [
        "from IPython import get_ipython\n",
        "get_ipython().magic('reset -sf')"
      ],
      "execution_count": null,
      "outputs": []
    },
    {
      "cell_type": "code",
      "metadata": {
        "colab": {
          "base_uri": "https://localhost:8080/"
        },
        "id": "Jx9R24rrJjyv",
        "outputId": "391f9b5b-dfae-4ee1-c1eb-ccb14d750f86"
      },
      "source": [
        "def f(x):\n",
        "  return x**3 + 2*x**2 + 10*x - 20\n",
        "\n",
        "xM = 1.5\n",
        "xI = 1.0\n",
        "xD = 0.8\n",
        "\n",
        "print(f(xM)<0)\n",
        "\n",
        "if f(xM)<0:\n",
        "  xI = xM\n",
        "  print(xI)\n",
        "else:\n",
        "  xD = xM\n",
        "  print(xD)"
      ],
      "execution_count": null,
      "outputs": [
        {
          "output_type": "stream",
          "text": [
            "False\n",
            "1.5\n"
          ],
          "name": "stdout"
        }
      ]
    },
    {
      "cell_type": "code",
      "metadata": {
        "id": "pufTW5hgKHFX"
      },
      "source": [
        ""
      ],
      "execution_count": null,
      "outputs": []
    }
  ]
}