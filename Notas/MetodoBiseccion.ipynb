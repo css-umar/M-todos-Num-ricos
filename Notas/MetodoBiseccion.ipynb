{
  "nbformat": 4,
  "nbformat_minor": 0,
  "metadata": {
    "colab": {
      "name": "Metodo_Biseccion.ipynb",
      "provenance": [],
      "collapsed_sections": []
    },
    "kernelspec": {
      "name": "python3",
      "display_name": "Python 3"
    },
    "language_info": {
      "name": "python"
    }
  },
  "cells": [
    {
      "cell_type": "markdown",
      "metadata": {
        "id": "kfXeeKNSvLYg"
      },
      "source": [
        "# Método de la bisección\n",
        "\n",
        "Este método es similar al de la posición falsa, por lo tanto,requiere de dos valores iniciales, $x_I$ y $x_D$, para ambos lados de la raíz, y también que se cumpla con el criterio $f(x_I)\\times f(x_D) <0 $.\n",
        "\n",
        "El valor de $x_M$ se obtiene como el punto medio entre los dos valores iniciales.\n",
        "\n",
        "$$x_M = \\dfrac{x_I+x_D}{2}$$\n",
        "\n",
        "**Ejemplo**\n",
        "\n",
        "Sea la siguiente función\n",
        "\n",
        "$$f(x)=x^3 + 2x^2 + 10x - 20$$\n",
        "\n",
        "cuya gráfica es\n"
      ]
    },
    {
      "cell_type": "code",
      "metadata": {
        "colab": {
          "base_uri": "https://localhost:8080/",
          "height": 483
        },
        "id": "1SWe2nm1vKuY",
        "outputId": "9c11e391-b23f-41ef-8fa2-a6e8b4d92261"
      },
      "source": [
        "import numpy as np\n",
        "import matplotlib.pyplot as plt\n",
        "\n",
        "def f(x):\n",
        "  return x**3 + 2*x**2 + 10*x - 20\n",
        "\n",
        "x=np.linspace(0.5,2)\n",
        "plt.figure(figsize=(12,8))\n",
        "plt.axhline(linewidth=1, color='k')\n",
        "plt.axvline(linewidth=1, color='k')\n",
        "plt.annotate(\"¡Aquí está la raíz!\", xy=(1.36,0.0), xytext=(0.2, 10),\n",
        "             arrowprops=dict(facecolor='black', shrink=0.05),fontsize=15)\n",
        "plt.plot(x,f(x))\n",
        "plt.show()"
      ],
      "execution_count": null,
      "outputs": [
        {
          "output_type": "display_data",
          "data": {
            "image/png": "[encoded data removed]",
            "text/plain": [
              "<Figure size 864x576 with 1 Axes>"
            ]
          },
          "metadata": {
            "tags": [],
            "needs_background": "light"
          }
        }
      ]
    },
    {
      "cell_type": "markdown",
      "metadata": {
        "id": "asMDE7Wuygnf"
      },
      "source": [
        "Al aplicar el método de la bisección con los valores iniciales de $2.0$ y $1.0$ para $x_D$ y $x_I$ respectivamente. Se obtiene las siguientes iteaciones.\n",
        "\n",
        "## Primera iteración"
      ]
    },
    {
      "cell_type": "code",
      "metadata": {
        "id": "_0x9WnNeyRPD"
      },
      "source": [
        "# Valores iniciales\n",
        "xD = 2.0\n",
        "xI = 1.0\n",
        "\n",
        "# Criterios de convergencia\n",
        "EPSILON = 0.0001\n",
        "EPSILON1 = 0.0001"
      ],
      "execution_count": null,
      "outputs": []
    },
    {
      "cell_type": "code",
      "metadata": {
        "colab": {
          "base_uri": "https://localhost:8080/"
        },
        "id": "aOr2damLzIhg",
        "outputId": "640577b6-c770-4f85-ad1b-d8b839c97f31"
      },
      "source": [
        "xM = (xD+xI)/2.0\n",
        "print(xM)"
      ],
      "execution_count": null,
      "outputs": [
        {
          "output_type": "stream",
          "text": [
            "1.5\n"
          ],
          "name": "stdout"
        }
      ]
    },
    {
      "cell_type": "code",
      "metadata": {
        "colab": {
          "base_uri": "https://localhost:8080/"
        },
        "id": "e2z_lrIgzame",
        "outputId": "ba371172-4370-429d-b757-1eb819b2e552"
      },
      "source": [
        "abs(f(xM))<EPSILON"
      ],
      "execution_count": null,
      "outputs": [
        {
          "output_type": "execute_result",
          "data": {
            "text/plain": [
              "False"
            ]
          },
          "metadata": {
            "tags": []
          },
          "execution_count": 4
        }
      ]
    },
    {
      "cell_type": "code",
      "metadata": {
        "colab": {
          "base_uri": "https://localhost:8080/"
        },
        "id": "FpRkNGzPze0u",
        "outputId": "d7a0fca9-4b37-4b46-f91c-c1385c5d9686"
      },
      "source": [
        "if f(xM)<0:\n",
        "  xI = xM\n",
        "else:\n",
        "  xD = xM\n",
        "\n",
        "print(xI,xD)"
      ],
      "execution_count": null,
      "outputs": [
        {
          "output_type": "stream",
          "text": [
            "1.0 1.5\n"
          ],
          "name": "stdout"
        }
      ]
    },
    {
      "cell_type": "markdown",
      "metadata": {
        "id": "brW2ov9b06PV"
      },
      "source": [
        "## Segunda iteración"
      ]
    },
    {
      "cell_type": "code",
      "metadata": {
        "colab": {
          "base_uri": "https://localhost:8080/"
        },
        "id": "qplE2U4Rzmt9",
        "outputId": "c5883d29-5a9e-4cab-efb9-396f2ff70cc8"
      },
      "source": [
        "xM = (xD+xI)/2.0\n",
        "print(xM)"
      ],
      "execution_count": null,
      "outputs": [
        {
          "output_type": "stream",
          "text": [
            "1.25\n"
          ],
          "name": "stdout"
        }
      ]
    },
    {
      "cell_type": "code",
      "metadata": {
        "colab": {
          "base_uri": "https://localhost:8080/"
        },
        "id": "HTOC2qU11CcZ",
        "outputId": "a779593c-5009-4e4f-b88f-beb246eed55f"
      },
      "source": [
        "abs(f(xM))<EPSILON"
      ],
      "execution_count": null,
      "outputs": [
        {
          "output_type": "execute_result",
          "data": {
            "text/plain": [
              "False"
            ]
          },
          "metadata": {
            "tags": []
          },
          "execution_count": 7
        }
      ]
    },
    {
      "cell_type": "code",
      "metadata": {
        "colab": {
          "base_uri": "https://localhost:8080/"
        },
        "id": "oXQrX-BA1Eyo",
        "outputId": "5c8bcc13-cb8a-4822-8dcc-caaeae36920c"
      },
      "source": [
        "if f(xM)<0:\n",
        "  xI = xM\n",
        "else:\n",
        "  xD = xM\n",
        "\n",
        "print(xI,xD)"
      ],
      "execution_count": null,
      "outputs": [
        {
          "output_type": "stream",
          "text": [
            "1.25 1.5\n"
          ],
          "name": "stdout"
        }
      ]
    },
    {
      "cell_type": "markdown",
      "metadata": {
        "id": "QnQnmnht1SQ9"
      },
      "source": [
        "Gráficamente las iteraciones anteriores quedan de la forma siguiente:"
      ]
    },
    {
      "cell_type": "code",
      "metadata": {
        "colab": {
          "base_uri": "https://localhost:8080/",
          "height": 502
        },
        "id": "TIbza4Yx1GuI",
        "outputId": "1b3c587d-54f1-4720-af45-507e31ca0463"
      },
      "source": [
        "xI=1.0\n",
        "xD=2.0\n",
        "xM = (xI+xD)/2.0\n",
        "\n",
        "plt.figure(figsize=(12,8))\n",
        "plt.axhline(linewidth=1, color='k')\n",
        "plt.axvline(linewidth=1, color='k')\n",
        "\n",
        "plt.plot(x,f(x))\n",
        "\n",
        "plt.plot([xI,xD], [0,0], 'o', markersize=10)\n",
        "plt.text(xI,0, r'$x_I$',fontsize=15)\n",
        "plt.text(xD,0, r'$x_D$',fontsize=15)\n",
        "\n",
        "plt.plot([xI,xD], [f(xI),f(xD)], 'o', markersize=10)\n",
        "plt.text(xI,f(xI), r'$(x_I,f(x_I))$',fontsize=15)\n",
        "plt.text(xD,f(xD), r'$(x_D,f(x_D))$',fontsize=15)\n",
        "\n",
        "plt.plot([xM], [0], 'o', markersize=10)\n",
        "plt.text(xM,0, r'$x_M$',fontsize=15)\n",
        "\n",
        "\n",
        "# Segunda iteracion\n",
        "plt.plot([xI,1.5], [0,0], 'o', markersize=10)\n",
        "plt.text(1.5,1, r'$x_{D2}$',fontsize=15)\n",
        "\n",
        "plt.plot([1.25], [0], 'o', markersize=10)\n",
        "plt.text(1.25,0, r'$x_{M2}$',fontsize=15)\n",
        "\n",
        "# Tercerra iteracion\n",
        "\n",
        "plt.plot([1.25], [1], 'o', markersize=10)\n",
        "plt.text(1.25,1, r'$x_{I3}$',fontsize=15)\n",
        "plt.plot([1.38], [0], 'o', markersize=10)\n",
        "plt.text(1.38,0, r'$x_{M3}$',fontsize=15)\n",
        "\n",
        "\n",
        "plt.xlabel(r\"$x$\", fontsize=15)\n",
        "plt.ylabel(r\"$f(x)$\",fontsize=15)\n",
        "\n",
        "plt.show()"
      ],
      "execution_count": null,
      "outputs": [
        {
          "output_type": "display_data",
          "data": {
            "image/png": "[encoded data removed]",
            "text/plain": [
              "<Figure size 864x576 with 1 Axes>"
            ]
          },
          "metadata": {
            "tags": [],
            "needs_background": "light"
          }
        }
      ]
    },
    {
      "cell_type": "code",
      "metadata": {
        "id": "H_qViXfi2kyn"
      },
      "source": [
        ""
      ],
      "execution_count": null,
      "outputs": []
    }
  ]
}