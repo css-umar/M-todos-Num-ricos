{
  "nbformat": 4,
  "nbformat_minor": 0,
  "metadata": {
    "colab": {
      "name": "ConceptosPVIEuler.ipynb",
      "provenance": [],
      "collapsed_sections": []
    },
    "kernelspec": {
      "name": "python3",
      "display_name": "Python 3"
    },
    "language_info": {
      "name": "python"
    }
  },
  "cells": [
    {
      "cell_type": "code",
      "metadata": {
        "id": "ahLFhIRr_lhO"
      },
      "source": [
        "import numpy as np\n",
        "import matplotlib.pyplot as plt\n",
        "from sympy import *\n",
        "from scipy.integrate import solve_ivp"
      ],
      "execution_count": null,
      "outputs": []
    },
    {
      "cell_type": "markdown",
      "metadata": {
        "id": "UgYmBWuEql_7"
      },
      "source": [
        "# Problema del valor inicial(PVI)\n",
        "\n",
        "La ecuación diferencial ordinaria (EDO) general de primer orden tiene la forma\n",
        "\n",
        "$$\\dfrac{dy}{dx} = f(x,y)$$\n",
        "\n",
        "cuya solución (analítica) general es\n",
        "\n",
        "$$F(x,y,c)=0$$\n",
        "\n",
        "donde $c$ es una constante de integración.\n",
        "\n",
        "Cuando se utilizan métodos numéricos no es posible encontrar una solución analítica $F(x,y,c)=0$; el propósito es determinar valores de $y(x)$ correspondientes a valores de $x$ en un intervalo dado por la condición inicial $(x_0)$ y un valor final $(x_f)$.\n",
        "\n",
        "Entonces, el PVI se formula como sigue:\n",
        "\n",
        "$$\\begin{align*} \n",
        "\\dfrac{dy}{dx}&=f(x,y) \\\\ \n",
        "y(x_0)&=y_0\\\\\n",
        "y(x_f)&=? \n",
        "\\end{align*} \n",
        "$$"
      ]
    },
    {
      "cell_type": "markdown",
      "metadata": {
        "id": "Ezb__Qwsurxq"
      },
      "source": [
        "# Método de Euler (Taylor de primer orden)\n",
        "\n",
        "**Paso 1**: Dividir el intervalo $[x_0,x_f]$ en $n$ subintervalos de tamaño de paso $h$\n",
        "\n",
        "$$h=\\dfrac{x_f-x_0}{n}$$\n",
        "\n",
        " de tal manera que se obtenga un conjunto discreto de $n+1$ puntos:\n",
        "\n",
        " $$x_i = x_0 + ih,\\,0\\leq i \\leq n $$\n",
        "\n",
        "<img src=\"https://drive.google.com/uc?id=1wl6XD0GN6saVOcwbGe63p75wplkQ9ENn&export=download\" width=\"100%\">\n",
        "\n",
        "**Paso 2**: Evaluar la primera derivada en el punto $P_0 = f(x_0,y_0)$, que no es más que la condición inicial en la formulación del PVI.\n",
        "\n",
        "$$F'(x)=\\dfrac{dy}{dx}|_{f(x_0,y_0)}$$\n",
        "\n",
        "**Paso 3**: Trazar una recta que pase por $P_0$ y con pendiente de $F'(x)$. Esta recta es la aproximación a $F(x)$.\n",
        "\n",
        "**Paso 4**: Localizar en la recta (del paso anterior) el valor de $y$ correspondiente a $x_1$.\n",
        "\n",
        "$$\\begin{align*}\n",
        "\\dfrac{y_1-y_0}{x_1-x_0} &= f(x_0,y_0),\\,\\text{resolviendo para } y_1\\\\\n",
        "y_1 & =y_0 + (x_1-x_0)f(x_0,y_0) \\\\\n",
        "y_1 &=  y_0 + hf(x_0,y_0)\n",
        "\\end{align*}$$\n",
        "\n",
        "**Paso 5**: Repetir los **Pasos 2, 3, 4** para generar la sucesión de aproxmaciones\n",
        "\n",
        "$$\\begin{align*}\n",
        "y_1 &=  y_0 + hf(x_0,y_0)\\\\\n",
        "y_2 &=  y_1 + hf(x_1,y_1)\\\\\n",
        "&\\vdots\\\\\n",
        "y_{i+1} &=  y_i + hf(x_i,y_i)\\\\\n",
        "&\\vdots\\\\\n",
        "y_n &=  y_{n-1} + hf(x_{n-1},y_{n-1})\\\\\n",
        "\\end{align*}$$"
      ]
    },
    {
      "cell_type": "markdown",
      "metadata": {
        "id": "TejMOSpk997U"
      },
      "source": [
        "**Ejemplo**\n",
        "\n",
        "Resuelva el siguiente PVI mediante el método de Euler\n",
        "\n",
        "$$\\begin{align*} \n",
        "\\dfrac{dy}{dx}&=(x-y) \\\\ \n",
        "y(0)&=2\\\\\n",
        "y(1)&=? \n",
        "\\end{align*} \n",
        "$$"
      ]
    },
    {
      "cell_type": "code",
      "metadata": {
        "id": "kD0xXNqJqRby"
      },
      "source": [
        "# Condiciones iniciales\n",
        "x0, xf = 0, 1\n",
        "y0 = 2.0\n",
        "# Dividir el intervalo [x0,xf] en n subintervalos\n",
        "n = 5\n",
        "h = (xf-x0)/n"
      ],
      "execution_count": null,
      "outputs": []
    },
    {
      "cell_type": "markdown",
      "metadata": {
        "id": "v7DoAXq9_3qp"
      },
      "source": [
        "Aplicamos \n",
        "\n",
        "$$\\begin{align*}\n",
        "y_{i+1} &=  y_i + hf(x_i,y_i)\\\\\n",
        "x_i &= x_0 +ih,\\,0\\leq i\\leq n\n",
        "\\end{align*}$$"
      ]
    },
    {
      "cell_type": "code",
      "metadata": {
        "id": "e8WqGB4O_i09"
      },
      "source": [
        "# Creamos la función\n",
        "def f(x,y):\n",
        "  return x-y"
      ],
      "execution_count": null,
      "outputs": []
    },
    {
      "cell_type": "code",
      "metadata": {
        "id": "UGnkkOUhANr2"
      },
      "source": [
        "yE = np.zeros(n+1)    # Creamos un arreglo para almacenar las aproximaciones\n",
        "x = np.zeros_like(yE)\n",
        "x[0] = x0\n",
        "yE[0] = y0\n",
        "# Inicia el proceso iterativo para calcular las aproximaciones de y = F(x)\n",
        "for i in range(1,n+1): # Creamos un ciclo para realizar los calculos, el ciclo va desde i = 1 hasta n+1\n",
        "    x[i] = x[i-1] + h\n",
        "    yE[i] = yE[i-1] + h*f(x[i-1],yE[i-1])  \n",
        "\n",
        "  \n"
      ],
      "execution_count": null,
      "outputs": []
    },
    {
      "cell_type": "code",
      "metadata": {
        "colab": {
          "base_uri": "https://localhost:8080/",
          "height": 265
        },
        "id": "M9gl1shYDWQx",
        "outputId": "9a0eb1ac-9dad-4bb5-d15c-58a71e0d2f32"
      },
      "source": [
        "plt.plot(x,yE,color=\"black\", linestyle=\"solid\", marker = \"o\")\n",
        "plt.show()"
      ],
      "execution_count": null,
      "outputs": [
        {
          "output_type": "display_data",
          "data": {
            "image/png": "[encoded data removed]",
            "text/plain": [
              "<Figure size 432x288 with 1 Axes>"
            ]
          },
          "metadata": {
            "tags": [],
            "needs_background": "light"
          }
        }
      ]
    },
    {
      "cell_type": "code",
      "metadata": {
        "colab": {
          "base_uri": "https://localhost:8080/"
        },
        "id": "6jImSh97Hy-X",
        "outputId": "9aab235b-39da-4ac5-9ac9-62e34d2bc197"
      },
      "source": [
        "yE[-1]"
      ],
      "execution_count": null,
      "outputs": [
        {
          "output_type": "execute_result",
          "data": {
            "text/plain": [
              "0.9830400000000001"
            ]
          },
          "metadata": {
            "tags": []
          },
          "execution_count": 6
        }
      ]
    },
    {
      "cell_type": "markdown",
      "metadata": {
        "id": "y_e2dyIKCP9X"
      },
      "source": [
        "# Metodos de Taylor\n",
        "\n",
        "El método de Euler utiliza _los primeros dos términos_ de la serie de Taylor sólo para su primera iteración\n",
        "\n",
        "$$F(x_1)\\approx y_1 = F(x_0)+F'(x_0)(x_1-x_0)$$\n",
        "\n",
        "Como no se dispone de los valores exactos de $F(x_1)$ y $F'(x_1)$, una segunda iteración con \n",
        "\n",
        "$$F(x_2)\\approx y_2 = F(x_1)+F'(x_1)(x_2-x_1)$$\n",
        "\n",
        "el lado derecho no es evaluable.\n",
        "\n",
        "Es por ello que después de la primera iteración se usa la expresión\n",
        "\n",
        "$$y_{i+1} = y_i + f(x_i,y_i)(x_{i+1},x_i)$$\n",
        "\n",
        "la cual guarda similitud con $F_i + F'(x_i)(x_{i+1},x_i)$\n",
        "\n",
        "**Usando tres términos** en la expansión de $F(x_1)$ se llega al método de Taylor de segundo orden\n",
        "\n",
        "$$F(x_1) \\approx y_1 = F(x_0) + F'(x_0)(x_1-x_0) + F''(x_0)\\dfrac{(x_1-x_0)^2}{2!}$$\n",
        "\n",
        "con\n",
        "\n",
        "$$F''(x) = \\dfrac{dF'(x)}{dx}=\\dfrac{df(x,y)}{dx}\\,\\text{y}\\, h=x_1-x_0$$\n",
        "\n",
        "la primera iteración toma la forma\n",
        "\n",
        "$$y_1 = y_0 + hf(x_0,y_0) + \\dfrac{h^2}{2!}\\dfrac{df(x,y)}{dx}|_{x_0,y_0}$$\n",
        "\n",
        "Para obtener $y_1,\\,y_2,\\ldots,\\,y_n$\n",
        "\n",
        "$$y_{i+1}=y_i + hf(x_i,y_i) + \\dfrac{h^2}{2!}\\dfrac{df(x,y)}{dx}|_{x_i,y_i}$$\n",
        "\n",
        "\n",
        "\n"
      ]
    },
    {
      "cell_type": "markdown",
      "metadata": {
        "id": "eTbQF-XbCaB5"
      },
      "source": [
        "\n",
        "<img src=\"https://drive.google.com/uc?id=1-YjLNx1e_ZpZWQ5h2tcGGWVtTAM7vQUr&export=download\" width=\"100%\">\n",
        "\n",
        "Este método equivale a usar una curva que pasa por el punto $(x_0,y_0)$, cuya pendiente  y segunda derivada serían iguales que las de la función desconocida $F(x)$ en el punto $(x_0,y_0)$.\n",
        "\n",
        "> * Si $f(x,y)$ es una función sólo de $x$, la diferenciación respecto a $x$ es relativamente fácil.\n",
        "\n",
        "> * Si $f(x,y)$ es función de $x$ y de $y$, se usan derivadas totales. La derivada total respecto a $x$ es\n",
        "\n",
        "$$\\dfrac{df(x,y)}{dx} = \\dfrac{\\partial f(x,y)}{\\partial x} + \\dfrac{\\partial f(x,y)}{\\partial y}\\dfrac{dy}{dx}$$"
      ]
    },
    {
      "cell_type": "markdown",
      "metadata": {
        "id": "kvRr1R8sGAoK"
      },
      "source": [
        "**Ejemplo**\n",
        "\n",
        "Resuelva el siguiente PVI mediante el método de Taylor de segundo orden\n",
        "\n",
        "$$\\begin{align*} \n",
        "\\dfrac{dy}{dx}&=(x-y) \\\\ \n",
        "y(0)&=2\\\\\n",
        "y(1)&=? \n",
        "\\end{align*} \n",
        "$$\n",
        "\n",
        "Aplicando \n",
        "\n",
        "$$\\begin{align*}\n",
        "\\dfrac{df(x,y)}{dx} &= \\dfrac{\\partial f(x,y)}{\\partial x} + \\dfrac{\\partial f(x,y)}{\\partial y}\\dfrac{dy}{dx}\\\\\n",
        "& = 1 - 1(x-y)\\\\\n",
        "& = 1- x + y\n",
        "\\end{align*}$$"
      ]
    },
    {
      "cell_type": "code",
      "metadata": {
        "id": "NuQGB3FNLVKF"
      },
      "source": [
        "# Condiciones iniciales\n",
        "x0, xf = 0, 1\n",
        "y0 = 2.0\n",
        "# Dividir el intervalo [x0,xf] en n subintervalos\n",
        "n = 5\n",
        "h = (xf-x0)/n"
      ],
      "execution_count": null,
      "outputs": []
    },
    {
      "cell_type": "markdown",
      "metadata": {
        "id": "kKM0lrFRHtV8"
      },
      "source": [
        "Aplicamos \n",
        "\n",
        "$$\\begin{align*}\n",
        "y_{i+1}&=y_i + hf(x_i,y_i) + \\dfrac{h^2}{2!}\\dfrac{df(x,y)}{dx}|_{x_i,y_i}\n",
        "\\\\\n",
        "x_i &= x_0 +ih,\\,0\\leq i\\leq n\n",
        "\\end{align*}$$"
      ]
    },
    {
      "cell_type": "code",
      "metadata": {
        "id": "4_PQZsF7ICY2"
      },
      "source": [
        "# Creamos las funciones\n",
        "def f(x,y):\n",
        "  return x-y\n",
        "\n",
        "def dfxy(x,y):\n",
        "  return 1.0 - x + y\n",
        "\n"
      ],
      "execution_count": null,
      "outputs": []
    },
    {
      "cell_type": "code",
      "metadata": {
        "id": "IybpB8ywICZK"
      },
      "source": [
        "yT = np.zeros(n+1)    # Creamos un arreglo yT para almacenar las aproximaciones por el método de Taylor\n",
        "x = np.zeros_like(yT)\n",
        "x[0] = x0\n",
        "yT[0] = y0\n",
        "for i in range(1,n+1): # Creamos un ciclo para realizar los calculos, el ciclo va desde i = 1 hasta n+1\n",
        "    x[i] = x[i-1] + h\n",
        "    yT[i] = yT[i-1] + h*f(x[i-1],yT[i-1]) + 0.5*h**2*dfxy(x[i-1],yT[i-1])\n",
        "\n",
        "  \n"
      ],
      "execution_count": null,
      "outputs": []
    },
    {
      "cell_type": "code",
      "metadata": {
        "colab": {
          "base_uri": "https://localhost:8080/",
          "height": 265
        },
        "id": "ff9swfOAJSPz",
        "outputId": "c4172dd7-9453-4a30-bbe8-227419e15ee4"
      },
      "source": [
        "plt.plot(x,yE,color=\"black\", linestyle=\"solid\", marker = \"o\")\n",
        "plt.plot(x,yT,color=\"red\", linestyle=\"solid\", marker = \"o\")\n",
        "plt.legend([\"Método de Euler\", \"Método de Taylor\"])\n",
        "plt.show()"
      ],
      "execution_count": null,
      "outputs": [
        {
          "output_type": "display_data",
          "data": {
            "image/png": "[encoded data removed]",
            "text/plain": [
              "<Figure size 432x288 with 1 Axes>"
            ]
          },
          "metadata": {
            "tags": [],
            "needs_background": "light"
          }
        }
      ]
    },
    {
      "cell_type": "code",
      "metadata": {
        "cellView": "both",
        "colab": {
          "base_uri": "https://localhost:8080/",
          "height": 38
        },
        "id": "odfM-_GxWbCy",
        "outputId": "c073ddd0-27bb-4505-9cd8-1bb62479d67e"
      },
      "source": [
        "%%html\n",
        "<marquee style='width: 100%; color: blue;'><b>Solución analítica</b></marquee>"
      ],
      "execution_count": null,
      "outputs": [
        {
          "output_type": "display_data",
          "data": {
            "text/html": [
              "<marquee style='width: 100%; color: blue;'><b>Solución analítica</b></marquee>"
            ],
            "text/plain": [
              "<IPython.core.display.HTML object>"
            ]
          },
          "metadata": {
            "tags": []
          }
        }
      ]
    },
    {
      "cell_type": "code",
      "metadata": {
        "colab": {
          "base_uri": "https://localhost:8080/",
          "height": 17
        },
        "id": "em_rJDZHOM-3",
        "outputId": "804e04cd-7452-41af-fba9-287f8dd60ee9"
      },
      "source": [
        "x = symbols(\"x\")\n",
        "y = Function(\"y\")\n",
        "y(x)"
      ],
      "execution_count": null,
      "outputs": [
        {
          "output_type": "execute_result",
          "data": {
            "text/latex": "$\\displaystyle y{\\left(x \\right)}$",
            "text/plain": [
              "y(x)"
            ]
          },
          "metadata": {
            "tags": []
          },
          "execution_count": 12
        }
      ]
    },
    {
      "cell_type": "markdown",
      "metadata": {
        "id": "WZYQJWWO_QMp"
      },
      "source": [
        "$$\\begin{align*} \n",
        "\\dfrac{dy}{dx}&=(x-y) \\\\ \n",
        "y(0)&=2\\\\\n",
        "y(1)&=? \n",
        "\\end{align*} \n",
        "$$"
      ]
    },
    {
      "cell_type": "code",
      "metadata": {
        "colab": {
          "base_uri": "https://localhost:8080/",
          "height": 17
        },
        "id": "eZf3HUoTORwQ",
        "outputId": "f9b7aca5-0cb1-41b5-a650-dd3491e1b73f"
      },
      "source": [
        "# y(x) + dy(x)/dx = x\n",
        "edo = Eq(y(x)+ y(x).diff(x),x)\n",
        "edo"
      ],
      "execution_count": null,
      "outputs": [
        {
          "output_type": "execute_result",
          "data": {
            "text/latex": "$\\displaystyle y{\\left(x \\right)} + \\frac{d}{d x} y{\\left(x \\right)} = x$",
            "text/plain": [
              "Eq(y(x) + Derivative(y(x), x), x)"
            ]
          },
          "metadata": {
            "tags": []
          },
          "execution_count": 13
        }
      ]
    },
    {
      "cell_type": "code",
      "metadata": {
        "colab": {
          "base_uri": "https://localhost:8080/",
          "height": 17
        },
        "id": "Ztq_HO_pOVkO",
        "outputId": "383e2c9a-46ab-4cbe-f181-df7a73a0097c"
      },
      "source": [
        "sol = dsolve(edo,ics = {y(0):2})\n",
        "sol"
      ],
      "execution_count": null,
      "outputs": [
        {
          "output_type": "execute_result",
          "data": {
            "text/latex": "$\\displaystyle y{\\left(x \\right)} = \\left(\\left(x - 1\\right) e^{x} + 3\\right) e^{- x}$",
            "text/plain": [
              "Eq(y(x), ((x - 1)*exp(x) + 3)*exp(-x))"
            ]
          },
          "metadata": {
            "tags": []
          },
          "execution_count": 14
        }
      ]
    },
    {
      "cell_type": "code",
      "metadata": {
        "colab": {
          "base_uri": "https://localhost:8080/"
        },
        "id": "1TQMsMftPMqW",
        "outputId": "b8929872-3743-41f8-f5bb-eca10f36c254"
      },
      "source": [
        "solA = lambdify(x,sol.rhs, \"numpy\")\n",
        "\n",
        "print(solA(0), solA(1))\n"
      ],
      "execution_count": null,
      "outputs": [
        {
          "output_type": "stream",
          "text": [
            "2.0 1.103638323514327\n"
          ],
          "name": "stdout"
        }
      ]
    },
    {
      "cell_type": "code",
      "metadata": {
        "colab": {
          "base_uri": "https://localhost:8080/"
        },
        "id": "v01KTPbiV3Q6",
        "outputId": "52e58a5a-526d-4e7d-b292-e759b82394d9"
      },
      "source": [
        "x = np.linspace(x0,xf,num= 6,endpoint=True)\n",
        "x"
      ],
      "execution_count": null,
      "outputs": [
        {
          "output_type": "execute_result",
          "data": {
            "text/plain": [
              "array([0. , 0.2, 0.4, 0.6, 0.8, 1. ])"
            ]
          },
          "metadata": {
            "tags": []
          },
          "execution_count": 16
        }
      ]
    },
    {
      "cell_type": "code",
      "metadata": {
        "colab": {
          "base_uri": "https://localhost:8080/",
          "height": 265
        },
        "id": "SPu3ro5UQIoJ",
        "outputId": "daa1bd27-1e82-4e83-d115-57f26e687de5"
      },
      "source": [
        "plt.plot(x,solA(x),color=\"blue\", linestyle=\"solid\")\n",
        "plt.plot(x,yE,color=\"black\", linestyle=\"solid\", marker = \"o\")\n",
        "plt.plot(x,yT,color=\"red\", linestyle=\"solid\", marker = \"o\")\n",
        "plt.legend([\"Solución analítica\", \"Método de Euler\", \"Método de Taylor\"])\n",
        "plt.show()"
      ],
      "execution_count": null,
      "outputs": [
        {
          "output_type": "display_data",
          "data": {
            "image/png": "[encoded data removed]",
            "text/plain": [
              "<Figure size 432x288 with 1 Axes>"
            ]
          },
          "metadata": {
            "tags": [],
            "needs_background": "light"
          }
        }
      ]
    },
    {
      "cell_type": "markdown",
      "metadata": {
        "id": "f4DsHeErbsT2"
      },
      "source": [
        "## Método de Euler modificado (predictor-corrector)\n",
        "\n",
        "Este método consiste en utilizar un valor promedio de la derivada tomada en los dos extremos del intervalo, en lugar de la derivada tomada en un solo extremo.\n",
        "\n",
        "Los pasos a seguir son :\n",
        "\n",
        "> 1. Se parte de $(x_0,y_0)$ y se utiliza el método de Euler a fin de calcular el valor de $y$ correspondiente a $x_1$. Este valor de $y$ se denotará como $\\bar{y}$, ya que sólo es un valor transitorio para $y_1$. Esta parte del proceso se conoce como predictor.\n",
        "\n",
        "> 2. Se trata de corregir (corrector) la predicción evaluando la derivada en el punto $(x_1,y_1)$ usando la ecuación diferencial ordinaria del PVI.\n",
        "\n",
        "> 3. Se obtiene la media aritmética de esta derivada y la del punto inicial.\n",
        "\n",
        "$$\\dfrac{1}{2}\\left[f(x_0,y_0) + f(x_1,\\bar{y}_1)\\right] = \\,\\text{derivada promedio}$$\n",
        "\n",
        "> 4. Se usa la derivada promedio para calcular el nuevo valor de $y_1$\n",
        "\n",
        "$$y_{1} = y_0 + \\dfrac{(x_1-x_0)}{2}\\left[f(x_0,y_0) + f(x_1,\\bar{y}_1)\\right]$$\n",
        "\n",
        "El esquema iterativo queda de la forma siguiente\n",
        "\n",
        "$$\\bar{y}_{i+1} = y_i + hf(x_i,y_i)$$\n",
        "\n",
        "Una vez obtenida $\\bar{y}_{i+1}$ se calcula $f(x_i,\\bar{y}_i)$, la derivada en el punto $(x_{i+1},\\bar{y}_{i+1})$ y se promedia con la derivada previa $f(x_i,{y}_i)$ para encontrar la derivada proedio\n",
        "\n",
        "$$\\dfrac{1}{2}\\left[f(x_i,y_i) + f(x_{i+1},\\bar{y}_{i+1})\\right] $$\n",
        "\n",
        "Se sustituye \n",
        "\n",
        "$$y_{i+1} = y_i + \\dfrac{h}{2}\\left[f(x_i,y_i) + f(x_{i+1},\\bar{y}_{i+1})\\right]$$\n",
        "\n",
        "\n"
      ]
    },
    {
      "cell_type": "markdown",
      "metadata": {
        "id": "Gf1WZE5QhjkP"
      },
      "source": [
        "**Ejemplo**\n",
        "\n",
        "Resuelva el siguiente PVI mediante el método de Euler modificado\n",
        "\n",
        "$$\\begin{align*} \n",
        "\\dfrac{dy}{dx}&=(x-y) \\\\ \n",
        "y(0)&=2\\\\\n",
        "y(1)&=? \n",
        "\\end{align*} \n",
        "$$\n"
      ]
    },
    {
      "cell_type": "code",
      "metadata": {
        "id": "5GlFCU0Mhi9V"
      },
      "source": [
        "# Condiciones iniciales\n",
        "x0, xf = 0, 1\n",
        "y0 = 2.0\n",
        "# Dividir el intervalo [x0,xf] en n subintervalos\n",
        "n = 5\n",
        "h = (xf-x0)/n"
      ],
      "execution_count": null,
      "outputs": []
    },
    {
      "cell_type": "markdown",
      "metadata": {
        "id": "IXtBp4nPlPSQ"
      },
      "source": [
        "Aplicamos \n",
        "\n",
        "$$\\begin{align*}\n",
        "\\bar{y}_{i+1} &= y_i + hf(x_i,y_i)\\\\\n",
        "y_{i+1} &= y_i + \\dfrac{h}{2}\\left[f(x_i,y_i) + f(x_{i+1},\\bar{y}_{i+1})\\right]\\\\\n",
        "x_i &= x_0 +ih,\\,0\\leq i\\leq n\n",
        "\\end{align*}$$"
      ]
    },
    {
      "cell_type": "code",
      "metadata": {
        "id": "yTPPD-EYRQ_v"
      },
      "source": [
        "# Creamos las funciones\n",
        "def f(x,y):\n",
        "  return x-y"
      ],
      "execution_count": null,
      "outputs": []
    },
    {
      "cell_type": "code",
      "metadata": {
        "id": "v58U0pf2VDSa"
      },
      "source": [
        "yEM = np.zeros(n+1)    # Creamos un arreglo yEM para almacenar las aproximaciones por el método Euler Modificado\n",
        "x = np.zeros_like(yEM)\n",
        "x[0] = x0\n",
        "yEM[0] = y0\n",
        "\n",
        "for i in range(1,n+1): # Creamos un ciclo para realizar los calculos, el ciclo va desde i = 0 hasta n+1\n",
        "    x[i] = x[i-1] + h\n",
        "    ybar = yEM[i-1] + h*f(x[i-1],yEM[i-1])\n",
        "    yEM[i] = yEM[i-1] + 0.5*h*(f(x[i-1],yEM[i-1]) + f(x[i],ybar))                               \n"
      ],
      "execution_count": null,
      "outputs": []
    },
    {
      "cell_type": "code",
      "metadata": {
        "colab": {
          "base_uri": "https://localhost:8080/",
          "height": 483
        },
        "id": "gZWSUB8XoANY",
        "outputId": "fb276a6b-f4d3-4ef2-e05d-860e36e57a68"
      },
      "source": [
        "plt.figure(figsize=(10,8))\n",
        "plt.plot(x,solA(x),color=\"blue\", linestyle=\"solid\")\n",
        "plt.plot(x,yE,color=\"black\", linestyle=\"solid\", marker = \"o\")\n",
        "plt.plot(x,yT,color=\"red\", linestyle=\"solid\", marker = \"+\")\n",
        "plt.plot(x,yEM,color=\"green\", linestyle=\"solid\", marker = \"*\")\n",
        "plt.legend([\"Solución analítica\", \"Método de Euler\",\n",
        "            \"Método de Taylor\",\"Euler modificado\"])\n",
        "plt.show()"
      ],
      "execution_count": null,
      "outputs": [
        {
          "output_type": "display_data",
          "data": {
            "image/png": "[encoded data removed]",
            "text/plain": [
              "<Figure size 720x576 with 1 Axes>"
            ]
          },
          "metadata": {
            "tags": [],
            "needs_background": "light"
          }
        }
      ]
    },
    {
      "cell_type": "markdown",
      "metadata": {
        "id": "PqpD6DmWLiLw"
      },
      "source": [
        "## Resolviendo el PVI con [_solve_ivp_](https://docs.scipy.org/doc/scipy/reference/generated/scipy.integrate.solve_ivp.html#scipy.integrate.solve_ivp)"
      ]
    },
    {
      "cell_type": "code",
      "metadata": {
        "colab": {
          "base_uri": "https://localhost:8080/"
        },
        "id": "VRXW5wolL4NV",
        "outputId": "b49e370d-8a77-424c-df17-dfd6bb485e7d"
      },
      "source": [
        "#from scipy.integrate import solve_ivp\n",
        "\n",
        "\"\"\"\n",
        "dy / dt = f(t, y)\n",
        "y(t0) = y0\n",
        "\"\"\"\n",
        "\n",
        "def dydt(x,y):\n",
        "  return x-y\n",
        "\n",
        "ysol = solve_ivp(dydt,[0, 1],[2])\n",
        "ysol\n"
      ],
      "execution_count": null,
      "outputs": [
        {
          "output_type": "execute_result",
          "data": {
            "text/plain": [
              "  message: 'The solver successfully reached the end of the integration interval.'\n",
              "     nfev: 20\n",
              "     njev: 0\n",
              "      nlu: 0\n",
              "      sol: None\n",
              "   status: 0\n",
              "  success: True\n",
              "        t: array([0.        , 0.09222001, 0.95192723, 1.        ])\n",
              " t_events: None\n",
              "        y: array([[2.        , 1.82793351, 1.11039319, 1.1040927 ]])\n",
              " y_events: None"
            ]
          },
          "metadata": {
            "tags": []
          },
          "execution_count": 22
        }
      ]
    },
    {
      "cell_type": "code",
      "metadata": {
        "colab": {
          "base_uri": "https://localhost:8080/",
          "height": 483
        },
        "id": "ZOKK_sd0N_Ba",
        "outputId": "8c090ee6-05dd-425a-ee7e-574b2dcef6bb"
      },
      "source": [
        "plt.figure(figsize=(10,8))\n",
        "plt.plot(x,solA(x),color=\"blue\", linestyle=\"solid\")\n",
        "plt.plot(ysol.t,ysol.y[0][:],color=\"black\", linestyle=\"solid\", marker = \"o\")\n",
        "plt.legend([\"Solución analítica\", \"Método solve_ivp\"])\n",
        "plt.show()"
      ],
      "execution_count": null,
      "outputs": [
        {
          "output_type": "display_data",
          "data": {
            "image/png": "[encoded data removed]",
            "text/plain": [
              "<Figure size 720x576 with 1 Axes>"
            ]
          },
          "metadata": {
            "tags": [],
            "needs_background": "light"
          }
        }
      ]
    },
    {
      "cell_type": "code",
      "metadata": {
        "colab": {
          "base_uri": "https://localhost:8080/"
        },
        "id": "ymdCqf7nPvmV",
        "outputId": "aa8b6f6a-492d-4d8a-e1cd-56f27d71cee3"
      },
      "source": [
        "ysol = solve_ivp(dydt,[0, 1],[1,2,4,6], t_eval=[0, 0.2, 0.4, 0.6, 0.8, 1.0])\n",
        "ysol"
      ],
      "execution_count": null,
      "outputs": [
        {
          "output_type": "execute_result",
          "data": {
            "text/plain": [
              "  message: 'The solver successfully reached the end of the integration interval.'\n",
              "     nfev: 20\n",
              "     njev: 0\n",
              "      nlu: 0\n",
              "      sol: None\n",
              "   status: 0\n",
              "  success: True\n",
              "        t: array([0. , 0.2, 0.4, 0.6, 0.8, 1. ])\n",
              " t_events: None\n",
              "        y: array([[1.        , 0.83731294, 0.74009008, 0.6971929 , 0.69876108,\n",
              "        0.73605775],\n",
              "       [2.        , 1.65596942, 1.41013512, 1.24578935, 1.14814161,\n",
              "        1.10408663],\n",
              "       [4.        , 3.29328236, 2.75022521, 2.34298225, 2.04690269,\n",
              "        1.84014439],\n",
              "       [6.        , 4.93059531, 4.09031529, 3.44017515, 2.94566377,\n",
              "        2.57620214]])\n",
              " y_events: None"
            ]
          },
          "metadata": {
            "tags": []
          },
          "execution_count": 24
        }
      ]
    },
    {
      "cell_type": "code",
      "metadata": {
        "colab": {
          "base_uri": "https://localhost:8080/",
          "height": 483
        },
        "id": "-9u5XinWQHpp",
        "outputId": "ece8f768-2ec6-488b-f70d-5bde42b1bcc0"
      },
      "source": [
        "plt.figure(figsize=(10,8))\n",
        "plt.plot(ysol.t,ysol.y[0][:],color=\"black\", linestyle=\"solid\", marker = \"o\")\n",
        "plt.plot(ysol.t,ysol.y[1][:],color=\"black\", linestyle=\"solid\", marker = \"v\")\n",
        "plt.plot(ysol.t,ysol.y[2][:],color=\"black\", linestyle=\"solid\", marker = \">\")\n",
        "plt.plot(ysol.t,ysol.y[3][:],color=\"black\", linestyle=\"solid\", marker = \"<\")\n",
        "plt.legend([r\"y(0)=1\", r\"y(0)=2\",r\"y(0)=4\",r\"y(0)=6\"])\n",
        "plt.show()"
      ],
      "execution_count": null,
      "outputs": [
        {
          "output_type": "display_data",
          "data": {
            "image/png": "[encoded data removed]",
            "text/plain": [
              "<Figure size 720x576 with 1 Axes>"
            ]
          },
          "metadata": {
            "tags": [],
            "needs_background": "light"
          }
        }
      ]
    }
  ]
}