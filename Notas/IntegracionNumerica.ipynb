{
  "nbformat": 4,
  "nbformat_minor": 0,
  "metadata": {
    "colab": {
      "name": "IntegracionNumerica.ipynb",
      "provenance": []
    },
    "kernelspec": {
      "name": "python3",
      "display_name": "Python 3"
    },
    "language_info": {
      "name": "python"
    }
  },
  "cells": [
    {
      "cell_type": "code",
      "metadata": {
        "id": "6x1Of8SekZD1"
      },
      "source": [
        ""
      ],
      "execution_count": null,
      "outputs": []
    },
    {
      "cell_type": "code",
      "metadata": {
        "id": "kYSzbe0KNjuj"
      },
      "source": [
        "import numpy as np\n",
        "import matplotlib.pyplot as plt"
      ],
      "execution_count": null,
      "outputs": []
    },
    {
      "cell_type": "markdown",
      "metadata": {
        "id": "RgIq2ivgN8Ut"
      },
      "source": [
        "\n",
        "# Integración y diferenciación numérica\n",
        "\n",
        "Una vez determinado el polinomio, $p_n(x)$, de aproximación a una función tabulada, $f(x)$, en un intervalo de interés, por ejemplo:\n",
        "\n",
        "<img src=\"https://drive.google.com/uc?id=1v8IlM60totGnukSqY2icwGAUjWEtkPy-&export=download\" width=\"100%\">\n",
        "\n",
        "> Es de esperarse que al diferenciar $p_n(x)$ o integrarla en forma definida, también aproxime satisfactoriamente la derivada o la integral definida correspondiente a $f(x)$. Sin embargo:\n",
        "\n",
        ">> En el caso de la diferenciación numérica tiende a generar discrepancias debido a las pendientes de las curvas.\n",
        "\n",
        ">> Por otro lado, con la integración, el valor de la integral $\\int_{x_0}^{x_n}f(x) dx$ está dado por el área bajo la curva de $f(x)$; sucede lo mismo con la aproximación $\\int_{x_0}^{x_n}p_n(x) dx$, la integral está dada por el área bajo la curva de $p_n(x)$. \n",
        "\n",
        ">>> El error total al integrar $p_n(x)$ entre $x_0$ y $x_n$ puede ser muy pequeño, aún cuando $p_n(x)$ no sea una buena aproximación a $f(x)$."
      ]
    },
    {
      "cell_type": "markdown",
      "metadata": {
        "id": "5aMjsgKpUvMC"
      },
      "source": [
        "## Métodos de Newton-Cotes\n",
        "\n",
        "Para estimar \n",
        "\n",
        "$$I = \\int_{a}^{b}f(x)dx$$\n",
        "\n",
        "los métodos de Newton-Cotes se realizan en dos pasos:\n",
        "\n",
        "**Paso 1**: Dividir el intervalo $[a,b]$ en $n$ intervalos de igual amplitud, cuyos extremos son sucesivamente \n",
        "\n",
        "$$x_i = x_0 + i\\left(\\dfrac{b-a}{n}\\right),\\,i = 0,1,2,\\ldots,n$$\n",
        "\n",
        "para quedar en la nueva notación $x_0 = a$ y $x_n=b$\n",
        "\n",
        "**Paso 2**: Se aproxima $f(x)$ por un polinomio $p_n(x)$ de grado $n$, y se integra para obtener la aproximación de $I$."
      ]
    },
    {
      "cell_type": "markdown",
      "metadata": {
        "id": "6IFwjkJtWyYv"
      },
      "source": [
        "### Método trapezoidal\n",
        "\n",
        "En este caso el polinomio es de grado $1$ y el intervalo de integración $[a,b]$ queda tal cual, $x_0=a, x_1 = b$.\n",
        "\n",
        "<img src=\"https://drive.google.com/uc?id=1BUi8obLRMkuzXizcGXeM94zf8yQvqB7Y&export=download\" width=\"100%\">\n",
        "\n",
        "Para llevar a cabo la integración\n",
        "\n",
        "$$\\int_{x_0}^{x_1}p_1(x)dx$$\n",
        "\n",
        "se usa diferencias finitas hacia adelante (o bien, hacia atrás o centrales):\n",
        "\n",
        "$$f(x)\\approx p_1(x)$$\n",
        "\n",
        "donde \n",
        "\n",
        "$$p_1(x) = p_1(x_0 + sh)  = f(x_0) + s \\Delta f(x_0)$$\n",
        "\n",
        "Sustituyendo $p_1(x)$  en la integral\n",
        "\n",
        "$$\\int_{a}^{b}f(x)dx\\approx \\int_{x_0}^{x_1}[f(x_0)+s\\Delta f(x_0)]dx $$\n",
        "\n",
        "Poniendo la integral en términos de $s$\n",
        "\n",
        "$$\\begin{align*}\n",
        "x &= x_0 + sh\\\\\n",
        "dx &= hds\n",
        "\\end{align*}$$\n",
        "\n",
        "\n",
        "$$\\int_{x_0}^{x_1}[f(x_0)+s\\Delta f(x_0)]dx = \\int_{0}^{1}h[f(x_0)+s\\Delta f(x_0)]ds$$\n",
        "\n",
        "\n",
        "Al integrar, se tiene\n",
        "\n",
        "$$h\\int_{0}^{1}[f(x_0)+s\\Delta f(x_0)]ds = h[sf(x_0) + \\dfrac{s^2}{2}\\Delta f(x_0)]\\lvert_0^1 = h[f(x_0)+\\dfrac{\\Delta f(x_0)}{2}]$$\n",
        "\n",
        "como $\\Delta f(x_0)= f(x_0+h)-f(x_0)$, se tiene que el algoritmo del método trapezoidal es\n",
        "\n",
        "$$\\int_{a}^{b}f(x)dx\\approx \\dfrac{h}{2}[f(x_0)+f(x_1)]$$"
      ]
    },
    {
      "cell_type": "markdown",
      "metadata": {
        "id": "-NROQTrofyX0"
      },
      "source": [
        "**Ejemplo**\n",
        "\n",
        "a) Aproxime el área $A_1$ bajo la curva de la función dada por la tabla siguiente, en el intervalo $a = 500,\\,b = 1800$.\n",
        "\n",
        "|Puntos | 0   | 1    | 2    | 3    | 4    | 5    |\n",
        "|---    | --- | ---  | ---  | ---  | ---  | ---  |\n",
        "|$f(x)$ | 9.0 | 13.4 | 18.7 | 23.0 | 25.1 | 27.2 |\n",
        "|$x$    | 500 | 900  | 1400 | 1800 | 2000 | 2200 |\n",
        "\n",
        "b) Aproxime $A_2 = \\int_0^5(2 + 3\\,x)dx$\n",
        "\n",
        "c) Aproxime $A_3 = \\int_{-2}^4(1 + 2\\,x + 3\\,x^2)dx$\n",
        "\n",
        "d) Aproxime $A_4 = \\int_0^{\\pi/2}\\sin x\\,dx$"
      ]
    },
    {
      "cell_type": "code",
      "metadata": {
        "id": "4IZ9NUQpOJVx"
      },
      "source": [
        "\"\"\"\n",
        "Para resolver el primer inciso vamos a utilizar el método trapz\n",
        "de la biblioteca numpy.\n",
        "\n",
        "Referencia\n",
        "https://numpy.org/doc/stable/reference/generated/numpy.trapz.html\n",
        "https://docs.scipy.org/doc/scipy/reference/generated/scipy.integrate.trapz.html\n",
        "\"\"\"\n",
        "\n",
        "# Creamos una lista \"y\" para los datos de la función f(x) en el intervalo\n",
        "# indicado en el problema\n",
        "y = np.array([9.0, 13.4, 18.7, 23.0])\n",
        "\n",
        "# Creamos una lista \"x\" para los datos de la variable independiente\n",
        "\n",
        "x = np.array([500, 900, 1400, 1800])\n",
        "\n"
      ],
      "execution_count": null,
      "outputs": []
    },
    {
      "cell_type": "code",
      "metadata": {
        "colab": {
          "base_uri": "https://localhost:8080/",
          "height": 279
        },
        "id": "RWFKbn_YgIVv",
        "outputId": "c2c610bc-3547-4e1d-eaf9-651c728e2013"
      },
      "source": [
        "plt.scatter(x,y)\n",
        "plt.xlabel(r\"$x$\")\n",
        "plt.ylabel(r\"$y$\")\n",
        "plt.show()"
      ],
      "execution_count": null,
      "outputs": [
        {
          "output_type": "display_data",
          "data": {
            "image/png": "[encoded data removed]",
            "text/plain": [
              "<Figure size 432x288 with 1 Axes>"
            ]
          },
          "metadata": {
            "tags": [],
            "needs_background": "light"
          }
        }
      ]
    },
    {
      "cell_type": "code",
      "metadata": {
        "colab": {
          "base_uri": "https://localhost:8080/"
        },
        "id": "ppgiYgQJhhm8",
        "outputId": "8bcb9256-16d2-41bc-d989-add7637e0e41"
      },
      "source": [
        "# Manualmente\n",
        "x0,x1 = 500,1800\n",
        "f0, f1 = 9.0,23.0\n",
        "h = x1-x0\n",
        "area = (h/2)*(f0+f1)\n",
        "print (area)"
      ],
      "execution_count": null,
      "outputs": [
        {
          "output_type": "stream",
          "text": [
            "20800.0\n"
          ],
          "name": "stdout"
        }
      ]
    },
    {
      "cell_type": "code",
      "metadata": {
        "colab": {
          "base_uri": "https://localhost:8080/"
        },
        "id": "OQUSoyBhgYA5",
        "outputId": "7cad2adb-d4fb-45a8-d67a-613dea6ed61c"
      },
      "source": [
        "A1 = np.trapz (y,x)    # Enviamos los datos al método trapz\n",
        "\n",
        "print (\"El area A1 bajo la curva es: \"+str(A1))"
      ],
      "execution_count": null,
      "outputs": [
        {
          "output_type": "stream",
          "text": [
            "El area A1 bajo la curva es: 20845.0\n"
          ],
          "name": "stdout"
        }
      ]
    },
    {
      "cell_type": "code",
      "metadata": {
        "colab": {
          "base_uri": "https://localhost:8080/"
        },
        "id": "6yAAgWldgkgw",
        "outputId": "5da76cb1-06a6-4ba9-f615-28bba0804d94"
      },
      "source": [
        "\"\"\"\n",
        "Para poder comparar, antes de integrar numericamente los ejemplos de \n",
        "los incisos b, c y d vamos a resolver el inciso \"b\" de forma simbólica\n",
        "utilizando la biblioteca sympy.\n",
        "\"\"\"\n",
        "from sympy import *\n",
        "x = Symbol(\"x\", real = True)\n",
        "fb = 2 + 3*x\n",
        "I_exacta = integrate(fb,(x,0,5))\n",
        "print (float(I_exacta))"
      ],
      "execution_count": null,
      "outputs": [
        {
          "output_type": "stream",
          "text": [
            "47.5\n"
          ],
          "name": "stdout"
        }
      ]
    },
    {
      "cell_type": "code",
      "metadata": {
        "id": "LIeviY91iRjs"
      },
      "source": [
        "\"\"\"\n",
        "Para resolver los incisos b, c y d utilizando el método trapz:\n",
        "\"\"\"\n",
        "\n",
        "# a) Crear el dominio de integración\n",
        "\n",
        "x =  np.linspace(0,5,10,endpoint=True)   # Dominio de integración del ejemplo b\n",
        "\n",
        "# Crear el integrando del ejemplo b\n",
        "y =  2 + 3*x    "
      ],
      "execution_count": null,
      "outputs": []
    },
    {
      "cell_type": "code",
      "metadata": {
        "colab": {
          "base_uri": "https://localhost:8080/",
          "height": 279
        },
        "id": "O95CNXxonpUY",
        "outputId": "2731ead7-cf50-491c-f43b-7060d9d7e989"
      },
      "source": [
        "plt.scatter(x,y)\n",
        "plt.xlabel(r\"$x$\")\n",
        "plt.ylabel(r\"$y$\")\n",
        "plt.show()"
      ],
      "execution_count": null,
      "outputs": [
        {
          "output_type": "display_data",
          "data": {
            "image/png": "[encoded data removed]",
            "text/plain": [
              "<Figure size 432x288 with 1 Axes>"
            ]
          },
          "metadata": {
            "tags": [],
            "needs_background": "light"
          }
        }
      ]
    },
    {
      "cell_type": "code",
      "metadata": {
        "colab": {
          "base_uri": "https://localhost:8080/"
        },
        "id": "Y8UWNcW0nwB_",
        "outputId": "d98f90a7-4839-405c-b5a4-8c427b4960ef"
      },
      "source": [
        "# Utilizar el método trapz\n",
        "\n",
        "A2 = np.trapz (y,x,)\n",
        "print (\"El area A2 bajo la curva es: \",A2)"
      ],
      "execution_count": null,
      "outputs": [
        {
          "output_type": "stream",
          "text": [
            "El area A2 bajo la curva es:  47.5\n"
          ],
          "name": "stdout"
        }
      ]
    },
    {
      "cell_type": "code",
      "metadata": {
        "colab": {
          "base_uri": "https://localhost:8080/",
          "height": 279
        },
        "id": "AKjD9Rq4izax",
        "outputId": "aca0d96c-82f2-4c4f-cd7e-1550d8d015c2"
      },
      "source": [
        "x =  np.linspace(-2,4,50,endpoint=True)   # Dominio de integración del ejemplo c\n",
        "y =  1.0 + 2.0*x + 3.0*x**2    # Integrando del ejemplo c\n",
        "plt.scatter(x,y)\n",
        "plt.xlabel(r\"$x$\")\n",
        "plt.ylabel(r\"$y$\")\n",
        "plt.show()"
      ],
      "execution_count": null,
      "outputs": [
        {
          "output_type": "display_data",
          "data": {
            "image/png": "[encoded data removed]",
            "text/plain": [
              "<Figure size 432x288 with 1 Axes>"
            ]
          },
          "metadata": {
            "tags": [],
            "needs_background": "light"
          }
        }
      ]
    },
    {
      "cell_type": "code",
      "metadata": {
        "colab": {
          "base_uri": "https://localhost:8080/"
        },
        "id": "vAoPldESjvSI",
        "outputId": "be9c7c6b-5ad3-41ad-e6a3-487a5d1aa81b"
      },
      "source": [
        "# Manualmente\n",
        "x0, x1 = -2, 4\n",
        "f0 = 1.0 +2.0*x0 + 3.0*x0**2\n",
        "f1 = 1.0 +2.0*x1 + 3.0*x1**2\n",
        "h = x1 - x0\n",
        "Area = (h/2)*(f0+f1)\n",
        "Area"
      ],
      "execution_count": null,
      "outputs": [
        {
          "output_type": "execute_result",
          "data": {
            "text/plain": [
              "198.0"
            ]
          },
          "metadata": {
            "tags": []
          },
          "execution_count": 11
        }
      ]
    },
    {
      "cell_type": "code",
      "metadata": {
        "colab": {
          "base_uri": "https://localhost:8080/"
        },
        "id": "onN0BhJ3n6Mn",
        "outputId": "355f22fe-6e39-49a1-fd9b-481c13c391d2"
      },
      "source": [
        "# Utilizar el método trapz\n",
        "\n",
        "A3 = np.trapz (y,x)\n",
        "print (\"El area A3 bajo la curva es: \",A3)"
      ],
      "execution_count": null,
      "outputs": [
        {
          "output_type": "stream",
          "text": [
            "El area A3 bajo la curva es:  90.04498125780925\n"
          ],
          "name": "stdout"
        }
      ]
    },
    {
      "cell_type": "code",
      "metadata": {
        "colab": {
          "base_uri": "https://localhost:8080/"
        },
        "id": "PLgJZKy8j0xP",
        "outputId": "8aebd7b8-e284-41a9-9b3e-15792f1d214f"
      },
      "source": [
        "# Integrando simbólicamente\n",
        "x = Symbol(\"x\", real = True)\n",
        "fc = 1.0 + 2.0*x + 3.0*x**2 \n",
        "I_exacta = integrate(fc,(x,-2,4))\n",
        "print (float(I_exacta))"
      ],
      "execution_count": null,
      "outputs": [
        {
          "output_type": "stream",
          "text": [
            "90.0\n"
          ],
          "name": "stdout"
        }
      ]
    },
    {
      "cell_type": "code",
      "metadata": {
        "colab": {
          "base_uri": "https://localhost:8080/"
        },
        "id": "ccjlaXNWlUSM",
        "outputId": "8efc1d38-e2e8-47ef-a7e1-b4e4e5ee2807"
      },
      "source": [
        "x =  np.linspace(0,np.pi/2,50,endpoint=True)   # Dominio de integración del ejemplo d\n",
        "y =  np.sin(x)   # Integrando del ejemplo c\n",
        "A4 = np.trapz (y,x)\n",
        "print (\"El area A4 bajo la curva es: \",A4)"
      ],
      "execution_count": null,
      "outputs": [
        {
          "output_type": "stream",
          "text": [
            "El area A4 bajo la curva es:  0.999914360566363\n"
          ],
          "name": "stdout"
        }
      ]
    },
    {
      "cell_type": "code",
      "metadata": {
        "colab": {
          "base_uri": "https://localhost:8080/"
        },
        "id": "1v9346nGl5YB",
        "outputId": "6274d087-3a59-4688-9090-142e82119fd5"
      },
      "source": [
        "x = Symbol(\"x\", real = True)\n",
        "fd = sin(x)\n",
        "I_exacta = integrate(fd,(x,0,np.pi/2))\n",
        "print (float(I_exacta))"
      ],
      "execution_count": null,
      "outputs": [
        {
          "output_type": "stream",
          "text": [
            "0.9999999999999999\n"
          ],
          "name": "stdout"
        }
      ]
    },
    {
      "cell_type": "markdown",
      "metadata": {
        "id": "hWlj_6bWocec"
      },
      "source": [
        "### Método de Simpson\n",
        "\n",
        "En este caso el polinomio es de grado $2$ y el intervalo de integración $[a,b]$ se divide en:\n",
        "\n",
        "$$\\begin{align*}\n",
        "x_0 &= a\\\\\n",
        "x_1 &= x_0 + 1\\dfrac{b-a}{2} = a + \\dfrac{b}{2}-\\dfrac{a}{2}=\\dfrac{1}{2}(b-a)\\\\\n",
        "x_2 &= b\n",
        "\\end{align*}$$\n",
        "\n",
        "Entonces, como el polinomio es de grado $2$, la aproximación a la integral será el área bajo el segmento de parábola comprendida entre $f(x_0)$ y $f(x_2)$\n",
        "\n",
        "$$\\int_{a}^{b} f(x)dx\\approx \\int_{x_0}^{x_2}p_2(x)dx$$\n",
        "\n",
        "Utilizando diferencias finitas hacia adelante para expresar la integral de $p_2(x)$\n",
        "\n",
        "$$\\begin{align*}\n",
        "p_2(x) &= p_2(x_0 + sh) \\\\\n",
        "&= f(x_0) + s\\Delta f(x_0) + \\dfrac{s(s-1)}{2!}\\Delta^2f(x_0)\n",
        "\\end{align*}$$\n",
        "\n",
        "Sustituyendo $p_2(x)$ y expresando la integral en términos de $s$\n",
        "\n",
        "$$\\begin{align*}\n",
        "\\int_a^b f(x)dx &= \\int_{x_0}^{x_2}p_2(x)dx\\\\\n",
        "&= h \\int_{0}^{2}p_2(x_0 + sh)ds\n",
        "\\end{align*}$$\n",
        "\n",
        "$$\\begin{align*}\n",
        "h \\int_{0}^{2}p_2(x_0 + sh)ds &= h \\int_{0}^{2}\\left[f(x_0) + s\\Delta f(x_0) + \\dfrac{s(s-1)}{2!}\\Delta^2f(x_0)\\right] ds\\\\\n",
        "&= h\\left[sf(x_0) + \\dfrac{s^2}{2}\\Delta f(x_0) + \\dfrac{s^3}{3!}\\Delta^2f(x_0)-\\dfrac{s^4}{4}\\delta^2f(x_0)\\right]|_{0}^{2}\\\\\n",
        "&= h\\left[2f(x_0)+2\\Delta f(x_0)+\\dfrac{1}{3}\\Delta^2f(x_0)\\right]\n",
        "\\end{align*}$$\n",
        "\n",
        "Utilizando la definición de la primera y segunda diferencia finitas hacia adelante:\n",
        "\n",
        "$$\\begin{align*}\n",
        "\\Delta f(x_0) &= f(x_0 + h) - f(x_0) = f(x_1)-f(x_0)\\\\\n",
        "\\Delta^2f(x_0) & = f(x_0 + 2h) - 2f(x_0 + h) + f(x_0) = f(x_2) - 2f(x_1) + f(x_0)\n",
        "\\end{align*}$$\n",
        "\n",
        "Con lo cual se obtiene el algoritmo de Simpson\n",
        "\n",
        "$$\\int_{a}^{b} f(x)dx \\approx \\dfrac{h}{3}\\left[f(x_0) + 4f(x_1) + f(x_2) \\right] $$\n",
        "\n",
        "\n"
      ]
    },
    {
      "cell_type": "markdown",
      "metadata": {
        "id": "YZma3Afuzi4A"
      },
      "source": [
        "Graficamente\n",
        "\n",
        "<img src=\"https://drive.google.com/uc?id=1udYOqnNpBBAX2Dju2mBxHI5Fdg7Uvor5&export=download\" width=\"100%\">\n"
      ]
    },
    {
      "cell_type": "markdown",
      "metadata": {
        "id": "7L_PXGMy0NTu"
      },
      "source": [
        "**Ejemplo** Utilizar el método de Simpson para aproximar las integrales del ejemplo anterior.\n",
        "\n",
        "$$\\int_{a}^{b} f(x)dx \\approx \\dfrac{h}{3}\\left[f(x_0) + 4f(x_1) + f(x_2) \\right] $$\n",
        "\n",
        "a) Aproxime el área $A_1$ bajo la curva de la función dada por la tabla siguiente, en el intervalo $a = 500,\\,b = 1800$.\n",
        "\n",
        "|Puntos | 0   | 1    | 2    | 3    | 4    | 5    |\n",
        "|---    | --- | ---  | ---  | ---  | ---  | ---  |\n",
        "|$f(x)$ | 9.0 | 13.4 | 18.7 | 23.0 | 25.1 | 27.2 |\n",
        "|$x$    | 500 | 900  | 1400 | 1800 | 2000 | 2200 |\n",
        "\n",
        "b) Aproxime $A_2 = \\int_0^5(2 + 3\\,x)dx$\n",
        "\n",
        "c) Aproxime $A_3 = \\int_{-2}^4(1 + 2\\,x + 3\\,x^2)dx$\n",
        "\n",
        "d) Aproxime $A_4 = \\int_0^{\\pi/2}\\sin x\\,dx$"
      ]
    },
    {
      "cell_type": "code",
      "metadata": {
        "id": "i2oxAdcsp57Y"
      },
      "source": [
        "from scipy.integrate import simps"
      ],
      "execution_count": null,
      "outputs": []
    },
    {
      "cell_type": "code",
      "metadata": {
        "colab": {
          "base_uri": "https://localhost:8080/"
        },
        "id": "-kMk7lygFki-",
        "outputId": "ed08ffc9-751a-4e20-b2f7-a5498fec155c"
      },
      "source": [
        "# a) \n",
        "# Utilizando el método sims de scipy\n",
        "y = np.array([9.0, 13.4, 18.8, 23.0])\n",
        "x = np.array([500, 900, 1400, 1800])\n",
        "\n",
        "A1 = simps(y,x)\n",
        "print(\"El área A1 es: \" + str(A1))"
      ],
      "execution_count": null,
      "outputs": [
        {
          "output_type": "stream",
          "text": [
            "El área A1 es: 20898.75\n"
          ],
          "name": "stdout"
        }
      ]
    },
    {
      "cell_type": "code",
      "metadata": {
        "colab": {
          "base_uri": "https://localhost:8080/"
        },
        "id": "sWdwSsMcGo93",
        "outputId": "5f85b001-e81e-4723-b484-90731d81305e"
      },
      "source": [
        "# Manualmente\n",
        "from scipy.interpolate import lagrange\n",
        "pol = lagrange(x,y)\n",
        "a,b = 500,1800\n",
        "h = (b-a)/2\n",
        "x0, fx0 = a, 9.0\n",
        "x1 = x0 + h\n",
        "fx1 = pol(x1)\n",
        "x2,fx2 = b, 23.0\n",
        "\n",
        "print(h,x0,fx0,x2,fx2, x1,fx1)"
      ],
      "execution_count": null,
      "outputs": [
        {
          "output_type": "stream",
          "text": [
            "650.0 500 9.0 1800 23.0 1150.0 16.117361111111133\n"
          ],
          "name": "stdout"
        }
      ]
    },
    {
      "cell_type": "code",
      "metadata": {
        "colab": {
          "base_uri": "https://localhost:8080/"
        },
        "id": "YvnemtBSIWsx",
        "outputId": "42832607-4bbe-46c1-f923-a4e560a70fb2"
      },
      "source": [
        "Area = (h/3)*(fx0 + 4*fx1 + fx2)\n",
        "Area"
      ],
      "execution_count": null,
      "outputs": [
        {
          "output_type": "execute_result",
          "data": {
            "text/plain": [
              "20901.71296296298"
            ]
          },
          "metadata": {
            "tags": []
          },
          "execution_count": 19
        }
      ]
    },
    {
      "cell_type": "code",
      "metadata": {
        "id": "RuOqiINlKNDC",
        "colab": {
          "base_uri": "https://localhost:8080/",
          "height": 279
        },
        "outputId": "25422420-a4f0-40b9-a703-1e6bfa3b5d31"
      },
      "source": [
        "# c)\n",
        "x =  np.linspace(-2,4,50,endpoint=True)   # Dominio de integración del ejemplo c\n",
        "y =  1.0 + 2.0*x + 3.0*x**2    # Integrando del ejemplo c\n",
        "plt.scatter(x,y)\n",
        "plt.xlabel(r\"$x$\")\n",
        "plt.ylabel(r\"$y$\")\n",
        "plt.show()\n"
      ],
      "execution_count": null,
      "outputs": [
        {
          "output_type": "display_data",
          "data": {
            "image/png": "[encoded data removed]",
            "text/plain": [
              "<Figure size 432x288 with 1 Axes>"
            ]
          },
          "metadata": {
            "tags": [],
            "needs_background": "light"
          }
        }
      ]
    },
    {
      "cell_type": "code",
      "metadata": {
        "colab": {
          "base_uri": "https://localhost:8080/"
        },
        "id": "F_0vYijVlLmQ",
        "outputId": "cdfdb64a-b10d-4ffe-ff62-bdb1ba5d05c8"
      },
      "source": [
        "# Manualmente\n",
        "a, b = -2, 4\n",
        "h = 0.5*(b-a)\n",
        "x0 = a\n",
        "x1 = x0 + h\n",
        "x2 = b\n",
        "fc = lambda x : 1.0 +2.0*x +3.0*x**2\n",
        "Area = (h/3)*(fc(x0) + 4*fc(x1) + fc(x2))\n",
        "Area"
      ],
      "execution_count": null,
      "outputs": [
        {
          "output_type": "execute_result",
          "data": {
            "text/plain": [
              "90.0"
            ]
          },
          "metadata": {
            "tags": []
          },
          "execution_count": 21
        }
      ]
    },
    {
      "cell_type": "code",
      "metadata": {
        "colab": {
          "base_uri": "https://localhost:8080/"
        },
        "id": "91QGlaeijasN",
        "outputId": "dd1f89b8-9ddc-432c-f276-7e1de06eb6eb"
      },
      "source": [
        "A3 = simps(y,x)\n",
        "print(\"El área A1 es: \" + str(A3))"
      ],
      "execution_count": null,
      "outputs": [
        {
          "output_type": "stream",
          "text": [
            "El área A1 es: 90.00091798485326\n"
          ],
          "name": "stdout"
        }
      ]
    },
    {
      "cell_type": "markdown",
      "metadata": {
        "id": "iQwwlxTqnEpQ"
      },
      "source": [
        "## Caso general\n",
        "\n",
        "Aquí el polinomio de interpolación es degrado $n$, y el intervalo de integración $[a,b]$ se divide en $n$ subintervalos y da lugar a $n+1$ abscisas equidistantes\n",
        "\n",
        "$$x_0, x_1, \\ldots, x_n,\\, \\text{con}\\, x_0=a\\,\\text{y}\\,x_n=b $$\n",
        "\n",
        "Considerando $p_n(x)$, la aproximación a $\\int_{a}^{b}f(x)dx$ está dada por\n",
        "\n",
        "$$\\begin{align*}\n",
        "\\int_a^b f(x)dx \\approx \\int_{x_0}^{x_n}p_n(x)dx &= h\\int_0^n p_n(x_0 + sh)ds\\\\\n",
        "&= h\\int_0^n[f(x_0) + s\\Delta f(x_0) + \\dfrac{s(s-1)}{2!}\\Delta^2 f(x_0) + \\dfrac{s(s-1)(s-2)}{3!}\\Delta^3 f(x_0) + \\\\\n",
        "& \\ldots +\\dfrac{s(s-1)(s-2)\\ldots (s-(n-1))}{n!}\\Delta^n f(x_0) ]ds\n",
        "\\end{align*}$$\n",
        "\n",
        "Integrando los cinco primeros términos\n",
        "\n",
        "$$\\begin{align*}\n",
        "h\\int_0^n p_n(x_0 +sh)ds &= h[sf(x_0) + \\dfrac{s^2}{2}\\Delta f(x_0) + \\left(\\dfrac{s^3}{6}-\\dfrac{s^2}{4}\\right)\\Delta^2 f(x_0)\\\\\n",
        "& +\\left(\\dfrac{s^4}{24}-\\dfrac{s^3}{6}+\\dfrac{s^2}{6}\\right)\\Delta^3 f(x_0) + \\left(\\dfrac{s^5}{120}-\\dfrac{s^4}{16}+\\dfrac{11s^3}{72} - \\dfrac{s^2}{8}\\right)\\Delta^4 f(x_0)  \\\\\n",
        "& + \\text{términos faltantes}]|_0^n\n",
        "\\end{align*}$$\n",
        "\n",
        "Los términos del límite inferior son cero, por lo tanto\n",
        "\n",
        "$$\\begin{align*}\n",
        "\\int_a^b f(x)dx &\\approx h[nf(x_0) + \\dfrac{n^2}{2}\\Delta f(x_0) + \\left(\\dfrac{n^3}{6}-\\dfrac{n^2}{4}\\right)\\Delta^2 f(x_0)\\\\\n",
        "&+ \\left(\\dfrac{n^4}{24}-\\dfrac{n^3}{6}+\\dfrac{n^2}{6}\\right)\\Delta^3 f(x_0) + \\left(\\dfrac{n^5}{120}-\\dfrac{n^4}{16}+\\dfrac{11n^3}{72}-\\dfrac{n^2}{8}\\right)\\Delta^4 f(x_0)\\\\\n",
        "& + \\text{términos faltantes}]\n",
        "\\end{align*}$$"
      ]
    },
    {
      "cell_type": "markdown",
      "metadata": {
        "id": "bS66ODOAuSrt"
      },
      "source": [
        "### Fórmulas de Newton-Cotes\n",
        "\n",
        "Para cuando \n",
        "\n",
        "> $n = 1$, se le llama trapezoidal\n",
        "\n",
        "$$\\int_{x_0}^{x_1} f(x)dx\\approx \\dfrac{h}{2}\\left[f(x0)+f(x_1)\\right]$$\n",
        "\n",
        "> $n = 2$, se le llama Simpson $1/3$\n",
        "\n",
        "$$\\int_{x_0}^{x_2} f(x)dx\\approx \\dfrac{h}{3}\\left[f(x0)+4f(x_1)+f(x_2)\\right]$$\n",
        "\n",
        "> $n = 3$, se le llama Simpson $3/8$\n",
        "\n",
        "$$\\int_{x_0}^{x_3} f(x)dx\\approx \\dfrac{3h}{8}\\left[f(x0)+3f(x_1)+3f(x_2) + f(x_3)\\right]$$\n",
        "\n",
        "> $n = 4$\n",
        "\n",
        "$$\\int_{x_0}^{x_4} f(x)dx\\approx \\dfrac{2h}{45}\\left[7f(x0)+32f(x_1)+12f(x_2) + 32f(x_3) + 7f(x_4)\\right]$$"
      ]
    },
    {
      "cell_type": "markdown",
      "metadata": {
        "id": "-Jq_Ff8zp5AS"
      },
      "source": [
        "# Métodos compuestos de integración\n",
        "\n",
        "Se utiliza cuando el intervalo de integración es amplio, y resulta conveniente dividirlo en subintervalos, aproximando cada subintervalo por medio de un polinomio."
      ]
    },
    {
      "cell_type": "markdown",
      "metadata": {
        "id": "Mw4PTGKPqZzH"
      },
      "source": [
        "## Trapezopidal compuesto\n",
        "\n",
        "**Paso 1**: Dividir en el intervalo de integración ,$[a,b]$, en $n$ subintervalos.\n",
        "\n",
        "$$I = \\int_a^b f(x)dx\\approx \\int_{a=x_0}^{x_1}p_1(x)dx + \\int_{x_1}^{x_2}p_2(x)dx + \\ldots + \\int_{x_{n-1}}^{x_n=b}p_n(x)dx$$\n",
        "\n",
        "<img src=\"https://drive.google.com/uc?id=10ucQshiG0s_jj8TLydZ3pcZmDhcVKkUo&export=download\" width=\"90%\">\n",
        "\n",
        "**Paso 2**: Aproximar cada subintervalor por un polinomio de primer grado $p_1(x)$.\n",
        "\n",
        "**Paso 3**: Aplicar la fórmula trapezoidal a cada subintervalo para obtener el área de cada trapezoide.\n",
        "\n",
        "$$I = \\dfrac{x_1-x_0}{2}\\left[f(x_0)+f(x_1)\\right] + \\dfrac{x_2-x_1}{2}\\left[f(x_1)+f(x_2)\\right] + \\ldots + \\dfrac{x_n-x_{n-1}}{2}\\left[f(x_{n-1})+f(x_n)\\right]$$\n",
        "\n",
        "**Paso 4**: Sumar todas las áreas de los subintervalos para obtener el área bajo la curva de $f(x)$.\n",
        "\n",
        "> Si todos los subintervalos son del mismo tamaño \n",
        "\n",
        "$$h = x_{i+1}-x_i,\\,\\text{para } i=0,1,\\ldots,(n-1)$$\n",
        "\n",
        ">> Entonces\n",
        "\n",
        "$$\\begin{align*}\n",
        "I &\\approx \\dfrac{h}{2}\\left[f(x_0)+2f(x_1) + 2f(x_2)+\\ldots+2f(x_{n-1})+f(x_n)\\right]\\\\\n",
        "&\\approx\\dfrac{h}{2}\\left[f(x_0)+2\\sum_{i=1}^{n-1}f(x_i)+f(x_n)\\right]\n",
        "\\end{align*}$$\n",
        "\n",
        "\n",
        "\n"
      ]
    },
    {
      "cell_type": "markdown",
      "metadata": {
        "id": "uzXLwTBT0h5W"
      },
      "source": [
        "**Ejemplo** Mediante el algoritmo trapezoidal compuesto, aproxime el área bajo la curva de la siguiente funcion, entre $x=-1$ y $x=4$.\n",
        "\n",
        "|Puntos | 0   | 1    | 2    | 3    | 4    | 5    |\n",
        "|---    | --- | ---  | ---  | ---  | ---  | ---  |\n",
        "|$f(x)$ | 8.0 | 10.0 | 10.0 | 20.0 | 76.0 | 238 |\n",
        "|$x$    | -1 | 0  | 1 | 2 | 3 | 4 |\n",
        "\n",
        "Compárese el resultado obtenido con la solución analítica de $f(x)=x^4 - 2x^2 + x + 10$."
      ]
    },
    {
      "cell_type": "markdown",
      "metadata": {
        "id": "-GZongz_vAFY"
      },
      "source": [
        "$$\\begin{align*}\n",
        "I &\\approx \\dfrac{h}{2}\\left[f(x_0)+2f(x_1) + 2f(x_2)+\\ldots+2f(x_{n-1})+f(x_n)\\right]\\\\\n",
        "&\\approx\\dfrac{h}{2}\\left[f(x_0)+2\\sum_{i=1}^{n-1}f(x_i)+f(x_n)\\right]\n",
        "\\end{align*}$$"
      ]
    },
    {
      "cell_type": "code",
      "metadata": {
        "colab": {
          "base_uri": "https://localhost:8080/",
          "height": 279
        },
        "id": "lcdnERkruAQE",
        "outputId": "451cb7da-dbb8-4fcf-9c95-2247ef90c313"
      },
      "source": [
        "x = np.array([-1,0,1,2,3,4])\n",
        "y = np.array([8.0, 10, 10, 20, 76, 238])\n",
        "plt.scatter(x,y)\n",
        "plt.xlabel(r\"$x$\")\n",
        "plt.ylabel(r\"$y$\")\n",
        "plt.show()\n"
      ],
      "execution_count": null,
      "outputs": [
        {
          "output_type": "display_data",
          "data": {
            "image/png": "[encoded data removed]",
            "text/plain": [
              "<Figure size 432x288 with 1 Axes>"
            ]
          },
          "metadata": {
            "tags": [],
            "needs_background": "light"
          }
        }
      ]
    },
    {
      "cell_type": "code",
      "metadata": {
        "colab": {
          "base_uri": "https://localhost:8080/"
        },
        "id": "5Lpj-paevPs0",
        "outputId": "8d61ae84-d026-4246-d603-7a151161cc1b"
      },
      "source": [
        "# Manualmente trapezoidal compuesto\n",
        "h = 1.0\n",
        "suma = 0.0\n",
        "for i in range(1,len(y)-1):\n",
        "  suma = suma + y[i]\n",
        "\n",
        "Area = 0.5*h*(y[0] + 2*suma + y[-1])\n",
        "Area"
      ],
      "execution_count": null,
      "outputs": [
        {
          "output_type": "execute_result",
          "data": {
            "text/plain": [
              "239.0"
            ]
          },
          "metadata": {
            "tags": []
          },
          "execution_count": 24
        }
      ]
    },
    {
      "cell_type": "code",
      "metadata": {
        "colab": {
          "base_uri": "https://localhost:8080/"
        },
        "id": "7PHI0eeTzUX4",
        "outputId": "cac7cf57-5b30-4bac-d1bd-5f0f6652c21e"
      },
      "source": [
        "# Manualmente trapezoidal simple\n",
        "a,b = -1,4\n",
        "h = b-a\n",
        "a = 0.5*h*(y[0] + y[-1])\n",
        "a"
      ],
      "execution_count": null,
      "outputs": [
        {
          "output_type": "execute_result",
          "data": {
            "text/plain": [
              "615.0"
            ]
          },
          "metadata": {
            "tags": []
          },
          "execution_count": 25
        }
      ]
    },
    {
      "cell_type": "code",
      "metadata": {
        "colab": {
          "base_uri": "https://localhost:8080/"
        },
        "id": "JEOf0uywy6bQ",
        "outputId": "aa4de9c0-c411-49df-d172-d3386bfafbc8"
      },
      "source": [
        "# Integrando simbólicamente\n",
        "x = Symbol(\"x\", real = True)\n",
        "fc = 10.0 + x - 2.0*x**2 + x**4 \n",
        "I_exacta = integrate(fc,(x,-1,4))\n",
        "print (float(I_exacta))"
      ],
      "execution_count": null,
      "outputs": [
        {
          "output_type": "stream",
          "text": [
            "219.16666666666669\n"
          ],
          "name": "stdout"
        }
      ]
    },
    {
      "cell_type": "markdown",
      "metadata": {
        "id": "Ojvh6O6c2ax2"
      },
      "source": [
        "## Simpson compuesto\n",
        "\n",
        "Para aplicar el método de Simson se requieren de dos subintervalos, de $[x_0,x_1]$ y de $[x_1,x_2]$:\n",
        "\n",
        "$$\\int_{a}^{b} f(x)dx \\approx \\dfrac{h}{3}\\left[f(x_0) + 4f(x_1) + f(x_2) \\right] $$\n",
        "\n",
        "Por lo tanto:\n",
        "\n",
        "**Paso 1**: Dividir el intervalo de integración $[a,b]$ en un número de subintervalos igual a $2n$.\n",
        "\n",
        "<img src=\"https://drive.google.com/uc?id=1qsDxCyp-1pL1uQ_VgpLS5wZkT7Q-rGGq&export=download\" width=\"90%\">\n",
        "\n",
        "**Paso 2**: Aproximar cada subintervalor por un polinomio de segundo grado $p_2(x)$.\n",
        "\n",
        "$$I = \\int_a^b f(x)dx\\approx \\int_{x_0=a}^{x_1}p_2^{1}(x)dx + \\int_{x_2}^{x_4}p_2^{2}(x)dx + \\ldots + \\int_{x_{n-2}}^{x_n=b}p_2^{n}(x)dx$$\n",
        "\n",
        "donde $p_2^{1}(x), p_2^{2}(x),\\ldots,p_2^{n}(x)$ es el polinomio que pasa por tres puntos consecutivos.\n",
        "\n",
        "**Paso 3**: Aplicar el método de Simpson a cada subintervalo para obtener el área de cada uno.\n",
        "\n",
        "$$I \\approx \\dfrac{h_1}{3}\\left[f(x_0) + 4f(x_1) +f(x_2)\\right] + \\dfrac{h_2}{3}\\left[f(x_2) + 4f(x_3) +f(x_4)\\right]+\\ldots+\\dfrac{h_n}{3}\\left[f(x_{n-2}) + 4f(x_{n--}) +f(x_n)\\right] $$\n",
        "\n",
        "donde\n",
        "\n",
        "$$\\begin{align*}\n",
        "h_1 &= x_1-x_0 = x_2-x_1\\\\\n",
        "h_1 &= x_3-x_2 = x_4-x_3\\\\\n",
        "&\\vdots\\\\\n",
        "h_n &= x_{n-1}-x_{n-2} = x_n-x_{n-1}\\\\\n",
        "\\end{align*}$$\n",
        "\n",
        "**Paso 4**: Sumar todas las áreas de los subintervalos para obtener el área bajo la curva de $f(x)$.\n",
        "\n",
        "> Si todos los subintervalos son del mismo tamaño \n",
        "\n",
        "$$h_1=h_2=\\ldots=h_n$$\n",
        "\n",
        ">> Entonces\n",
        "\n",
        "$$\\begin{align*}\n",
        "I &\\approx \\dfrac{h}{3}\\left[f(x_0) +4f(x_1)+f(x_2)\\right] + \\dfrac{h}{3}\\left[f(x_2) +4f(x_3)+f(x_4)\\right] + \\ldots+ \\dfrac{h}{3}\\left[f(x_{n-2}) +4f(x_{n-1})+f(x_n)\\right]\\\\\n",
        "&\\approx \\dfrac{h}{3}\\left[f(x_0)+4\\sum_{i=1\\\\\\Delta i = 2}^{n-1}f(x_i)+2\\sum_{i=2\\\\\\Delta i = 2}^{n-2}f(x_i)+f(x_n)\\right]\n",
        "\\end{align*}$$\n",
        "\n"
      ]
    },
    {
      "cell_type": "markdown",
      "metadata": {
        "id": "Q6CV2eO7AwnM"
      },
      "source": [
        "**Ejemplo** Mediante el algoritmo Simpson compuesto, aproxime el área bajo la curva de la siguiente funcion, entre $x=-1$ y $x=4$.\n",
        "\n",
        "|Puntos | 0   | 1    | 2    | 3    | 4    | 5    |\n",
        "|---    | --- | ---  | ---  | ---  | ---  | ---  |\n",
        "|$f(x)$ | 8.0 | 10.0 | 10.0 | 20.0 | 76.0 | 238 |\n",
        "|$x$    | -1 | 0  | 1 | 2 | 3 | 4 |\n",
        "\n",
        "Compárese el resultado obtenido con la solución analítica de $f(x)=x^4 - 2x^2 + x + 10$."
      ]
    },
    {
      "cell_type": "code",
      "metadata": {
        "id": "jW0uF2FAjeni",
        "colab": {
          "base_uri": "https://localhost:8080/"
        },
        "outputId": "be65511c-4d7e-4328-812b-561e5c306112"
      },
      "source": [
        "\"\"\"\n",
        "Aplicar Simpson en los puntos 0,1,2 y en 2,3,4.\n",
        "En los puntos 4 y 5 aplicar el método trapezoidal.\n",
        "\"\"\"\n",
        "x = np.array([-1,0,1,2,3,4])\n",
        "y = np.array([8.0, 10, 10, 20, 76, 238])\n",
        "h = 1.0\n",
        "\n",
        "Area1 = (h/3.0)*(y[0]+4*y[1]+ y[2]) + (h/3.0)*(y[2]+4*y[3]+ y[4])\n",
        "Area1"
      ],
      "execution_count": null,
      "outputs": [
        {
          "output_type": "execute_result",
          "data": {
            "text/plain": [
              "74.66666666666666"
            ]
          },
          "metadata": {
            "tags": []
          },
          "execution_count": 27
        }
      ]
    },
    {
      "cell_type": "code",
      "metadata": {
        "colab": {
          "base_uri": "https://localhost:8080/"
        },
        "id": "VIZ9j2Ti92nw",
        "outputId": "7fa23a0f-ae01-474f-a328-91c2a5024de0"
      },
      "source": [
        "# Trapezoidal en los puntos 4 y 5.\n",
        "Area2 = 0.5*h*(y[4]+y[5])\n",
        "Area2"
      ],
      "execution_count": null,
      "outputs": [
        {
          "output_type": "execute_result",
          "data": {
            "text/plain": [
              "157.0"
            ]
          },
          "metadata": {
            "tags": []
          },
          "execution_count": 28
        }
      ]
    },
    {
      "cell_type": "code",
      "metadata": {
        "colab": {
          "base_uri": "https://localhost:8080/"
        },
        "id": "S3q8SJ8N-Yqs",
        "outputId": "82a61d3a-0340-48e8-b560-bfa2835b6c73"
      },
      "source": [
        "AreaTotal = Area1 + Area2\n",
        "AreaTotal"
      ],
      "execution_count": null,
      "outputs": [
        {
          "output_type": "execute_result",
          "data": {
            "text/plain": [
              "231.66666666666666"
            ]
          },
          "metadata": {
            "tags": []
          },
          "execution_count": 29
        }
      ]
    },
    {
      "cell_type": "code",
      "metadata": {
        "colab": {
          "base_uri": "https://localhost:8080/"
        },
        "id": "efZpbV_gAgF4",
        "outputId": "13266c4d-1248-42b0-97bd-f0eaf679b8cb"
      },
      "source": [
        "# Utilizando simps de Scipy con la opción even = \"first\"\n",
        "\"\"\"\n",
        "A este método le podemos indicar que utilice el método de Simpson para \n",
        "los primeros N-2 intervalos y el método trapezoidal en el último \n",
        "intervalo\n",
        "\"\"\"\n",
        "simps(y,x,even=\"first\")"
      ],
      "execution_count": null,
      "outputs": [
        {
          "output_type": "execute_result",
          "data": {
            "text/plain": [
              "231.66666666666666"
            ]
          },
          "metadata": {
            "tags": []
          },
          "execution_count": 30
        }
      ]
    },
    {
      "cell_type": "code",
      "metadata": {
        "colab": {
          "base_uri": "https://localhost:8080/"
        },
        "id": "jC8l0zbtEkgI",
        "outputId": "1e0782b6-362c-4fb3-aa52-da14e7db6763"
      },
      "source": [
        "# Utilizando simps de Scipy con la opción even = \"last\"\n",
        "\"\"\"\n",
        "Para indicarle que utilice el método de Simpson para \n",
        "los últimos N-2 intervalos y el método trapezoidal en el primer \n",
        "intervalo\n",
        "\"\"\"\n",
        "simps(y,x,even=\"last\")"
      ],
      "execution_count": null,
      "outputs": [
        {
          "output_type": "execute_result",
          "data": {
            "text/plain": [
              "219.66666666666666"
            ]
          },
          "metadata": {
            "tags": []
          },
          "execution_count": 31
        }
      ]
    },
    {
      "cell_type": "code",
      "metadata": {
        "colab": {
          "base_uri": "https://localhost:8080/"
        },
        "id": "oPzFt4w1FJLy",
        "outputId": "490e9610-e673-4fe5-fce0-6be27059f6a4"
      },
      "source": [
        "# Utilizando simps de Scipy con la opción even = \"avg\"\n",
        "\"\"\"\n",
        "A trapezoidal rule on the last interval and 2) use the last N-2 intervals\n",
        "with a trapezoidal rule on the first interval.\n",
        "\"\"\"\n",
        "simps(y,x, even=\"avg\")"
      ],
      "execution_count": null,
      "outputs": [
        {
          "output_type": "execute_result",
          "data": {
            "text/plain": [
              "225.66666666666666"
            ]
          },
          "metadata": {
            "tags": []
          },
          "execution_count": 32
        }
      ]
    },
    {
      "cell_type": "markdown",
      "metadata": {
        "id": "ZjaR2TPdGFV3"
      },
      "source": [
        "## El método _quad_ de scipy"
      ]
    },
    {
      "cell_type": "code",
      "metadata": {
        "colab": {
          "base_uri": "https://localhost:8080/"
        },
        "id": "n_Og-H_FGEz6",
        "outputId": "92a0c8d2-7c89-4f05-d915-1c1f99abe7d4"
      },
      "source": [
        "\"\"\"\n",
        "Otra forma de resolver los incisos b, c y d es utilizando el método \n",
        "quad de la biblioteca scipy.\n",
        "\n",
        "Referencia \n",
        "https://docs.scipy.org/doc/scipy/reference/generated/scipy.integrate.quad.html\n",
        "\"\"\"\n",
        "\n",
        "from scipy.integrate import quad\n",
        "\n",
        "# Primero creamos una función fb con el integrando\n",
        "\n",
        "def fb(x):\n",
        "    return 2 + 3*x    # Integrando del inciso b\n",
        "\n",
        "# Establecemos el dominio de integración\n",
        "a = 0.0    # Limite inferior\n",
        "b = 5.0    # Limite superior\n",
        "\n",
        "A2,error = quad(fb,a,b)    # Enviamos la función y el dominio de integración\n",
        "\n",
        "print (\"El area A2 bajo la curva es: \" +str(A2))    # Aquí nada más imprimo el resultado"
      ],
      "execution_count": null,
      "outputs": [
        {
          "output_type": "stream",
          "text": [
            "El area A2 bajo la curva es: 47.5\n"
          ],
          "name": "stdout"
        }
      ]
    },
    {
      "cell_type": "code",
      "metadata": {
        "colab": {
          "base_uri": "https://localhost:8080/"
        },
        "id": "fsFt4SMhFU7p",
        "outputId": "4a25e87f-b6a8-4aa7-85c5-a16c5b42c38f"
      },
      "source": [
        "# Imprimimos el error\n",
        "print (error)"
      ],
      "execution_count": null,
      "outputs": [
        {
          "output_type": "stream",
          "text": [
            "5.273559366969494e-13\n"
          ],
          "name": "stdout"
        }
      ]
    },
    {
      "cell_type": "code",
      "metadata": {
        "colab": {
          "base_uri": "https://localhost:8080/"
        },
        "id": "mfJllQXXGpTZ",
        "outputId": "876d1aa4-4ae3-4e02-ffb6-67d6701e1ad7"
      },
      "source": [
        "def fc(x):\n",
        "    return 1 + 2*x + 3*x**2    # Integrando del inciso c\n",
        "\n",
        "# Establecemos el dominio de integración\n",
        "a = -2    # Limite inferior\n",
        "b = 4    # Limite superior\n",
        "\n",
        "A3 = quad(fc,a,b)    # Enviamos la función y el dominio de integración\n",
        "\n",
        "print (\"El area A3 bajo la curva es: \"+str(A3[0]))"
      ],
      "execution_count": null,
      "outputs": [
        {
          "output_type": "stream",
          "text": [
            "El area A3 bajo la curva es: 90.0\n"
          ],
          "name": "stdout"
        }
      ]
    },
    {
      "cell_type": "code",
      "metadata": {
        "colab": {
          "base_uri": "https://localhost:8080/"
        },
        "id": "H6-givPBGyB1",
        "outputId": "6b39d159-3edf-41f3-9862-0d67cb4faa28"
      },
      "source": [
        "def fd(x):\n",
        "    return np.sin(x)    # Integrando del inciso d\n",
        "\n",
        "# Establecemos el dominio de integración\n",
        "a = 0    # Limite inferior\n",
        "b = (np.pi/2)    # Limite superior\n",
        "\n",
        "A4 = quad(fd,a,b)    # Enviamos la función y el dominio de integración\n",
        "\n",
        "print (\"El area A4 bajo la curva es: \"+str(A4[0]))"
      ],
      "execution_count": null,
      "outputs": [
        {
          "output_type": "stream",
          "text": [
            "El area A4 bajo la curva es: 0.9999999999999999\n"
          ],
          "name": "stdout"
        }
      ]
    },
    {
      "cell_type": "markdown",
      "metadata": {
        "id": "TDvk3RvwPcYa"
      },
      "source": [
        "# Método de Romberg\n",
        "\n",
        "Método de Romberg genera una matriz triangular cuyos elementos son estimaciones numéricas de la integral definida siguiente:\n",
        "\n",
        "$$ I = \\int _{a}^{b}f(x)\\,dx$$\n",
        "\n",
        "\n",
        "La integral anterior se puede expresar como \n",
        "\n",
        "$$E = c\\,h^r\\,f^{(r)}(\\xi)$$\n",
        "\n",
        "donde $c$ es independiente de $h$, $r$ es un entero positivo y $\\xi$ es un punto desconocido en $[a,b]$.\n",
        "\n",
        "Al realizar dos aproximaciones a la integral,$I_1$ y $I_2$, con tamaños de paso distintos,$h_1$ y $h_2$, se tiene:\n",
        "\n",
        "$$\\begin{align*}\n",
        "I - I_1&= c\\,h_1^r\\,f^{(r)}(\\xi_1)\\\\\n",
        "I - I_2&= c\\,h_2^r\\,f^{(r)}(\\xi_2)\n",
        "\\end{align*}$$\n",
        "\n",
        "\n",
        "Dividiendo estas dos ecuaciones\n",
        "\n",
        "$$\\dfrac{I-I_1}{I-I_2} = \\dfrac{c\\,h_1^r\\,f^{(r)}(\\xi_1)}{c\\,h_2^r\\,f^{(r)}(\\xi_2)}$$\n",
        "\n",
        "de donde\n",
        "\n",
        "$$I = \\dfrac{h_1^rI_2-h_2^rI_1}{h_1^r-h_2^r}$$\n",
        "\n",
        "Si se hace $h_2=h_1/2$, se tiene \n",
        "\n",
        "$$I\\approx \\dfrac{2^rI_2-I_1}{2^r-1}$$\n",
        "\n",
        "\n",
        "La integración de Romberg, es efectivo cuando $f^{(r)}(x)$ no varía bruscamente en $[a, b]$, y no cambia de signo en dicho intervalo. En estos casos, el método de Romber permiten obtener una mejor aproximación a $I$ a partir de $I_1$ y $I_2$, sin repetir el proceso de integración y con cálculos breves.\n",
        "\n",
        "Para $r=2$\n",
        "\n",
        "$$I\\approx \\dfrac{2^2I_2-I_1}{2^2-1}=\\dfrac{4I_2-I_1}{3}$$\n",
        "\n",
        "Sistematizando, denótese por $I_k^{(0)}$ las aproximaciones de $I$ obtenidas empleando $2^k$ trapezoides. Para obtener mejores aproximaciones de $I$ mediante $I_k^{(0)}$ e  $I_{k+1}^{(0)}$, se aplica la extrapolación de Richardson\n",
        "\n",
        "$$I\\approx \\dfrac{2^2I_{k+1}^{(0)}-I_k^{(0)}}{2^2-1}$$\n",
        "\n",
        "Este resultado se denota como $I_k^{(1)}$. Estos valores sirven para producir una segunda extrapolación y obtener una mejor aproximación de $I$. Con el empleo de $I_k^{(1)}$ e $I_{k+1}^{(1)}$ se obtiene\n",
        "\n",
        "$$I\\approx \\dfrac{2^4I_{k+1}^{(1)}-I_k^{(1)}}{2^4-1}$$\n",
        "\n",
        "que se denota como $I_k^{(2)}$. Este proceso puede continuar en tanto cada iteración responda al algoritmo.\n",
        "\n",
        "\n",
        "$$I_k^{(m)}=\\dfrac{4^mI_{k+1}^{(m-1)}-I_k^{(m-1)}}{4^m-1};\\,m=1,2,3,\\ldots$$\n",
        "\n",
        "\n",
        "\n",
        "**Ejemplo**: Encuentre una aproximación de la integral\n",
        "\n",
        "$$\\int_0^1 \\sin(\\pi x)dx$$"
      ]
    },
    {
      "cell_type": "code",
      "metadata": {
        "colab": {
          "base_uri": "https://localhost:8080/"
        },
        "id": "7Sznmu5aPcAZ",
        "outputId": "1b23f83d-0857-44ac-c2d9-d8a09d1de72e"
      },
      "source": [
        "\"\"\"\n",
        "El método de Romber se encuentra en la biblioteca scipy\n",
        "\n",
        "Ref:\n",
        "https://docs.scipy.org/doc/scipy/reference/generated/scipy.integrate.romberg.html\n",
        "\"\"\"\n",
        "\n",
        "from scipy.integrate import romberg\n",
        "f = lambda x: np.sin(np.pi*x)   # Creamos la función con el integrando\n",
        "\n",
        "# Mandamos la función y el dominio de integración\n",
        "# a, b = 0, 1\n",
        "\n",
        "aprox = romberg(f, 0, 1, show=True)"
      ],
      "execution_count": null,
      "outputs": [
        {
          "output_type": "stream",
          "text": [
            "Romberg integration of <function vectorize1.<locals>.vfunc at 0x7f2bec2688c0> from [0, 1]\n",
            "\n",
            " Steps  StepSize   Results\n",
            "     1  1.000000  0.000000 \n",
            "     2  0.500000  0.500000  0.666667 \n",
            "     4  0.250000  0.603553  0.638071  0.636165 \n",
            "     8  0.125000  0.628417  0.636705  0.636614  0.636622 \n",
            "    16  0.062500  0.634573  0.636625  0.636620  0.636620  0.636620 \n",
            "    32  0.031250  0.636108  0.636620  0.636620  0.636620  0.636620  0.636620 \n",
            "\n",
            "The final result is 0.6366197723680019 after 33 function evaluations.\n"
          ],
          "name": "stdout"
        }
      ]
    },
    {
      "cell_type": "code",
      "metadata": {
        "colab": {
          "base_uri": "https://localhost:8080/"
        },
        "id": "UdmbqBSCG6I1",
        "outputId": "9ed374a8-e682-4bc8-bb7d-4ff6b019237a"
      },
      "source": [
        "# Si no se desea la tabla\n",
        "aprox = romberg(f, 0, 1, show=False)\n",
        "print (aprox)"
      ],
      "execution_count": null,
      "outputs": [
        {
          "output_type": "stream",
          "text": [
            "0.6366197723680019\n"
          ],
          "name": "stdout"
        }
      ]
    },
    {
      "cell_type": "markdown",
      "metadata": {
        "id": "GpvamJxrgIU8"
      },
      "source": [
        "# Cuadratura de Gauss\n",
        "\n",
        "Integre la función\n",
        "\n",
        "$$\\dfrac{1}{\\sqrt{2\\,\\pi}}e^{\\frac{-x^2}{2}}$$\n",
        "en el intervalo $[-0.8,1.5]$ por cuadratura de Gauss."
      ]
    },
    {
      "cell_type": "code",
      "metadata": {
        "colab": {
          "base_uri": "https://localhost:8080/"
        },
        "id": "EnvQRuwIf-Ty",
        "outputId": "edffec56-09f4-495f-f125-98c1b6d2dcf0"
      },
      "source": [
        "\"\"\"\n",
        "El método de cuadratura de Gauss se encuentra en la biblioteca scipy\n",
        "\n",
        "Ref:\n",
        "https://docs.scipy.org/doc/scipy/reference/generated/scipy.integrate.quadrature.html#scipy.integrate.quadrature\n",
        "\"\"\" \n",
        "\n",
        "from scipy.integrate import quadrature\n",
        "\n",
        "# Creamos la función con el integrando\n",
        "f = lambda x: (1/(np.sqrt(2*np.pi)))*np.exp(-x**2/2)  \n",
        "\n",
        "# Mandamos la función y el dominio de integración al método \n",
        "\n",
        "aprox = quadrature(f, -0.8, 1.5)\n",
        "\n",
        "print (aprox)"
      ],
      "execution_count": null,
      "outputs": [
        {
          "output_type": "stream",
          "text": [
            "(0.721337400322854, 1.0183873078162264e-08)\n"
          ],
          "name": "stdout"
        }
      ]
    },
    {
      "cell_type": "code",
      "metadata": {
        "id": "EcmEApc5hMRD",
        "colab": {
          "base_uri": "https://localhost:8080/"
        },
        "outputId": "58f9bf06-2ab5-4955-b151-7f202d9eeddb"
      },
      "source": [
        "aprox[0]"
      ],
      "execution_count": null,
      "outputs": [
        {
          "output_type": "execute_result",
          "data": {
            "text/plain": [
              "0.721337400322854"
            ]
          },
          "metadata": {
            "tags": []
          },
          "execution_count": 40
        }
      ]
    }
  ]
}