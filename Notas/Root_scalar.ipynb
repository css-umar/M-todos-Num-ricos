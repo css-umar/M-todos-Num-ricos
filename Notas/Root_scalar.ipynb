{
  "nbformat": 4,
  "nbformat_minor": 0,
  "metadata": {
    "colab": {
      "name": "Root_scalar.ipynb",
      "provenance": [],
      "collapsed_sections": []
    },
    "kernelspec": {
      "name": "python3",
      "display_name": "Python 3"
    },
    "language_info": {
      "name": "python"
    }
  },
  "cells": [
    {
      "cell_type": "markdown",
      "metadata": {
        "id": "F_5A5UyWOpwX"
      },
      "source": [
        "# Ejercicio 1\n",
        "\n",
        "Resuelva por el método de la secante y de la posición falsa las siguientes ecuaciones.\n",
        "\n",
        "a. $e^x + 2^{-x} + 2\\cos(x)-6 = 0$\n",
        "\n",
        "b. $x\\log(x)-10 = 0$\n",
        "\n",
        "c. $e^x + x^3 + 2x^2 +10x - 20 = 0$\n",
        "\n",
        "*d. $\\sin(x) - \\csc(x) + 1 = 0$*"
      ]
    },
    {
      "cell_type": "markdown",
      "metadata": {
        "id": "_bsEX_oOS4SC"
      },
      "source": [
        "## a. $e^x + 2^{-x} + 2\\cos(x)-6 = 0$\n"
      ]
    },
    {
      "cell_type": "code",
      "metadata": {
        "id": "9dGtyOL4ITXB"
      },
      "source": [
        "# Bibliotecas necesarias\n",
        "import numpy as np\n",
        "from scipy import optimize\n",
        "import matplotlib.pyplot as plt\n"
      ],
      "execution_count": 1,
      "outputs": []
    },
    {
      "cell_type": "markdown",
      "metadata": {
        "id": "oyHlM38CVi6F"
      },
      "source": [
        "### Análisis preliminar de la función"
      ]
    },
    {
      "cell_type": "code",
      "metadata": {
        "colab": {
          "base_uri": "https://localhost:8080/",
          "height": 502
        },
        "id": "x7wVRx00TNOA",
        "outputId": "051aa650-4c4f-414b-edb3-4345f3cf5e9a"
      },
      "source": [
        "def f(x):\n",
        "  return np.e**(x) + 2**(-x) + 2*np.cos(x) - 6\n",
        "x = np.linspace(0,np.pi)\n",
        "plt.figure(figsize=(12,8))\n",
        "plt.plot(x,f(x))\n",
        "plt.axhline(linewidth=1, color='k')\n",
        "plt.axvline(linewidth=1, color='k')\n",
        "plt.xlabel(r\"$x$\",fontsize=15)\n",
        "plt.ylabel(r\"$f(x)$\",fontsize=15)\n",
        "plt.show()\n"
      ],
      "execution_count": 2,
      "outputs": [
        {
          "output_type": "display_data",
          "data": {
            "image/png": "[encoded data removed]",
            "text/plain": [
              "<Figure size 864x576 with 1 Axes>"
            ]
          },
          "metadata": {
            "tags": [],
            "needs_background": "light"
          }
        }
      ]
    },
    {
      "cell_type": "markdown",
      "metadata": {
        "id": "krOilPZGVtqT"
      },
      "source": [
        "### Uso del método de la secante de la biblioteca _scipy.optimize_"
      ]
    },
    {
      "cell_type": "code",
      "metadata": {
        "colab": {
          "base_uri": "https://localhost:8080/"
        },
        "id": "RFXzOPQwUANb",
        "outputId": "dcf3edd2-ddaf-4a25-b648-d713e4509547"
      },
      "source": [
        "sol = optimize.root_scalar(f,method=\"secant\",x0=3.0,x1=2.0,xtol=0.00001, maxiter=40)\n",
        "print(sol)"
      ],
      "execution_count": 3,
      "outputs": [
        {
          "output_type": "stream",
          "text": [
            "      converged: True\n",
            "           flag: 'converged'\n",
            " function_calls: 7\n",
            "     iterations: 6\n",
            "           root: 1.8293836020996999\n"
          ],
          "name": "stdout"
        }
      ]
    },
    {
      "cell_type": "code",
      "metadata": {
        "colab": {
          "base_uri": "https://localhost:8080/"
        },
        "id": "2xZv6Hk60i10",
        "outputId": "3083a782-a694-49b4-d1a2-3081096dc196"
      },
      "source": [
        "sol.iterations"
      ],
      "execution_count": 4,
      "outputs": [
        {
          "output_type": "execute_result",
          "data": {
            "text/plain": [
              "6"
            ]
          },
          "metadata": {
            "tags": []
          },
          "execution_count": 4
        }
      ]
    },
    {
      "cell_type": "code",
      "metadata": {
        "colab": {
          "base_uri": "https://localhost:8080/"
        },
        "id": "hhS1lcuHWgfM",
        "outputId": "77196936-6d7a-4bb3-ab3a-035c612780fc"
      },
      "source": [
        "sol.root"
      ],
      "execution_count": 5,
      "outputs": [
        {
          "output_type": "execute_result",
          "data": {
            "text/plain": [
              "1.8293836020996999"
            ]
          },
          "metadata": {
            "tags": []
          },
          "execution_count": 5
        }
      ]
    },
    {
      "cell_type": "markdown",
      "metadata": {
        "id": "1d2dyycQdiZJ"
      },
      "source": [
        "### Uso del método de la bisección de la biblioteca _scipy.optimize_"
      ]
    },
    {
      "cell_type": "code",
      "metadata": {
        "colab": {
          "base_uri": "https://localhost:8080/"
        },
        "id": "3i7RrTLednbD",
        "outputId": "18feaa4f-d4bf-4ee0-86ef-51540e8843ec"
      },
      "source": [
        "sol = optimize.bisect(f,1.5,2.0,xtol=0.0001,maxiter=40)\n",
        "print(sol)"
      ],
      "execution_count": 6,
      "outputs": [
        {
          "output_type": "stream",
          "text": [
            "1.82940673828125\n"
          ],
          "name": "stdout"
        }
      ]
    },
    {
      "cell_type": "markdown",
      "metadata": {
        "id": "iyCleIR_XMrr"
      },
      "source": [
        "## b. $x\\log(x)-10 = 0$"
      ]
    },
    {
      "cell_type": "markdown",
      "metadata": {
        "id": "fKyMq2WjXXBs"
      },
      "source": [
        "### Análisis preliminar de la función"
      ]
    },
    {
      "cell_type": "code",
      "metadata": {
        "id": "N80sDDBgX99b"
      },
      "source": [
        "del f, x, sol"
      ],
      "execution_count": 7,
      "outputs": []
    },
    {
      "cell_type": "code",
      "metadata": {
        "colab": {
          "base_uri": "https://localhost:8080/",
          "height": 502
        },
        "id": "hRMJb07jWs8o",
        "outputId": "4868b45e-7eca-47c0-ee6d-e25453273c92"
      },
      "source": [
        "\n",
        "def f(x):\n",
        "  return x*np.log(x)-10\n",
        "x = np.linspace(1,10)\n",
        "plt.figure(figsize=(12,8))\n",
        "plt.plot(x,f(x))\n",
        "plt.axhline(linewidth=1, color='k')\n",
        "plt.axvline(linewidth=1, color='k')\n",
        "plt.xlabel(r\"$x$\",fontsize=15)\n",
        "plt.ylabel(r\"$f(x)$\",fontsize=15)\n",
        "plt.show()"
      ],
      "execution_count": 8,
      "outputs": [
        {
          "output_type": "display_data",
          "data": {
            "image/png": "[encoded data removed]",
            "text/plain": [
              "<Figure size 864x576 with 1 Axes>"
            ]
          },
          "metadata": {
            "tags": [],
            "needs_background": "light"
          }
        }
      ]
    },
    {
      "cell_type": "markdown",
      "metadata": {
        "id": "l_yRGhaoYZhT"
      },
      "source": [
        "### Uso del método de la secante de la biblioteca _scipy.optimize_"
      ]
    },
    {
      "cell_type": "code",
      "metadata": {
        "colab": {
          "base_uri": "https://localhost:8080/"
        },
        "id": "KKsW9QmNXhcb",
        "outputId": "36a0b2a3-15ae-4115-8375-d2935177a36e"
      },
      "source": [
        "sol = optimize.root_scalar(f,method=\"secant\",x0=8,x1=6,xtol=0.0001,maxiter=40)\n",
        "print(sol)"
      ],
      "execution_count": 9,
      "outputs": [
        {
          "output_type": "stream",
          "text": [
            "      converged: True\n",
            "           flag: 'converged'\n",
            " function_calls: 5\n",
            "     iterations: 4\n",
            "           root: 5.728925565401933\n"
          ],
          "name": "stdout"
        }
      ]
    },
    {
      "cell_type": "markdown",
      "metadata": {
        "id": "LSmrqxYMZH97"
      },
      "source": [
        "## c. $e^x + x^3 + 2x^2 +10x - 20 = 0$"
      ]
    },
    {
      "cell_type": "markdown",
      "metadata": {
        "id": "nRJwW2PdZNjr"
      },
      "source": [
        "### Análisis preliminar de la función"
      ]
    },
    {
      "cell_type": "code",
      "metadata": {
        "id": "Z3gQw6VkYxaR"
      },
      "source": [
        "del f, x"
      ],
      "execution_count": 10,
      "outputs": []
    },
    {
      "cell_type": "code",
      "metadata": {
        "colab": {
          "base_uri": "https://localhost:8080/",
          "height": 502
        },
        "id": "JbV95xtGZPmJ",
        "outputId": "355ac919-231e-4674-f167-fb36d8a106dc"
      },
      "source": [
        "def f(x):\n",
        "  return np.e**x + x**3 + 2*x**2 + 10*x - 20\n",
        "x = np.linspace(-5,5)\n",
        "plt.figure(figsize=(12,8))\n",
        "plt.plot(x,f(x))\n",
        "plt.axhline(linewidth=1, color='k')\n",
        "plt.axvline(linewidth=1, color='k')\n",
        "plt.xlabel(r\"$x$\",fontsize=15)\n",
        "plt.ylabel(r\"$f(x)$\",fontsize=15)\n",
        "plt.show()"
      ],
      "execution_count": 11,
      "outputs": [
        {
          "output_type": "display_data",
          "data": {
            "image/png": "[encoded data removed]",
            "text/plain": [
              "<Figure size 864x576 with 1 Axes>"
            ]
          },
          "metadata": {
            "tags": [],
            "needs_background": "light"
          }
        }
      ]
    },
    {
      "cell_type": "markdown",
      "metadata": {
        "id": "vaN-_7MdZte9"
      },
      "source": [
        "### Uso del método de la secante de la biblioteca _scipy.optimize_"
      ]
    },
    {
      "cell_type": "code",
      "metadata": {
        "colab": {
          "base_uri": "https://localhost:8080/"
        },
        "id": "6f2M_xr_ZhRD",
        "outputId": "9303e9d7-eb67-4e85-a778-7ea7b56f6e90"
      },
      "source": [
        "sol = optimize.root_scalar(f,method=\"secant\",x0=4,x1=3,xtol=0.0001,maxiter=40)\n",
        "print(sol)"
      ],
      "execution_count": 12,
      "outputs": [
        {
          "output_type": "stream",
          "text": [
            "      converged: True\n",
            "           flag: 'converged'\n",
            " function_calls: 8\n",
            "     iterations: 7\n",
            "           root: 1.2032000204309854\n"
          ],
          "name": "stdout"
        }
      ]
    },
    {
      "cell_type": "markdown",
      "metadata": {
        "id": "Eyrq0DQoaGVH"
      },
      "source": [
        "## d. $\\sin(x) - \\csc(x) + 1 = 0$"
      ]
    },
    {
      "cell_type": "markdown",
      "metadata": {
        "id": "RBwIbj91aKZU"
      },
      "source": [
        "### Análisis preliminar de la función"
      ]
    },
    {
      "cell_type": "code",
      "metadata": {
        "id": "EmxxVi2OZz45"
      },
      "source": [
        "del f, x"
      ],
      "execution_count": 13,
      "outputs": []
    },
    {
      "cell_type": "code",
      "metadata": {
        "colab": {
          "base_uri": "https://localhost:8080/",
          "height": 538
        },
        "id": "vQIB1jZLaQQT",
        "outputId": "c557be64-9229-4fa5-c800-0644fcb3e926"
      },
      "source": [
        "def f(x):\n",
        "  return np.sin(x) - (1/np.sin(x)) + 1\n",
        "x = np.linspace(0,3)\n",
        "plt.figure(figsize=(12,8))\n",
        "plt.plot(x,f(x))\n",
        "plt.axhline(linewidth=1, color='k')\n",
        "plt.axvline(linewidth=1, color='k')\n",
        "plt.xlabel(r\"$x$\",fontsize=15)\n",
        "plt.ylabel(r\"$f(x)$\",fontsize=15)\n",
        "plt.show()"
      ],
      "execution_count": 14,
      "outputs": [
        {
          "output_type": "stream",
          "text": [
            "/usr/local/lib/python3.7/dist-packages/ipykernel_launcher.py:2: RuntimeWarning: divide by zero encountered in true_divide\n",
            "  \n"
          ],
          "name": "stderr"
        },
        {
          "output_type": "display_data",
          "data": {
            "image/png": "[encoded data removed]",
            "text/plain": [
              "<Figure size 864x576 with 1 Axes>"
            ]
          },
          "metadata": {
            "tags": [],
            "needs_background": "light"
          }
        }
      ]
    },
    {
      "cell_type": "markdown",
      "metadata": {
        "id": "TzM_yB0qbcrT"
      },
      "source": [
        "### Uso del método de la secante de la biblioteca _scipy.optimize_"
      ]
    },
    {
      "cell_type": "code",
      "metadata": {
        "colab": {
          "base_uri": "https://localhost:8080/"
        },
        "id": "Nl1ZIggJa4pB",
        "outputId": "c108e548-616d-4d8d-b346-47a05244c9a3"
      },
      "source": [
        "sol = optimize.root_scalar(f,method=\"secant\",x0=1.0,x1=0.5,xtol=0.0001,maxiter=40)\n",
        "print(sol)"
      ],
      "execution_count": 15,
      "outputs": [
        {
          "output_type": "stream",
          "text": [
            "      converged: True\n",
            "           flag: 'converged'\n",
            " function_calls: 7\n",
            "     iterations: 6\n",
            "           root: 0.6662394326244696\n"
          ],
          "name": "stdout"
        }
      ]
    },
    {
      "cell_type": "markdown",
      "metadata": {
        "id": "B7_BFjbyeIUe"
      },
      "source": [
        "# Ejercicio 2\n",
        "\n",
        "Resuelva por el método de Newton la siguiente función\n",
        "\n",
        "$$f(x) = x^3+2x^2+10x-20$$"
      ]
    },
    {
      "cell_type": "markdown",
      "metadata": {
        "id": "eXDdCs1zef3h"
      },
      "source": [
        "### Análisis preliminar de la función"
      ]
    },
    {
      "cell_type": "code",
      "metadata": {
        "id": "puMpjgF9eowZ"
      },
      "source": [
        "del f, x"
      ],
      "execution_count": 16,
      "outputs": []
    },
    {
      "cell_type": "code",
      "metadata": {
        "colab": {
          "base_uri": "https://localhost:8080/",
          "height": 502
        },
        "id": "pyiyGkZAbl3C",
        "outputId": "393d8944-0b73-4f62-ab4f-3cba50cf43da"
      },
      "source": [
        "def f(x):\n",
        "  return x**3 + 2*x**2 + 10*x - 20\n",
        "x = np.linspace(-5,5)\n",
        "plt.figure(figsize=(12,8))\n",
        "plt.plot(x,f(x))\n",
        "plt.axhline(linewidth=1, color='k')\n",
        "plt.axvline(linewidth=1, color='k')\n",
        "plt.xlabel(r\"$x$\",fontsize=15)\n",
        "plt.ylabel(r\"$f(x)$\",fontsize=15)\n",
        "plt.show()"
      ],
      "execution_count": 17,
      "outputs": [
        {
          "output_type": "display_data",
          "data": {
            "image/png": "[encoded data removed]",
            "text/plain": [
              "<Figure size 864x576 with 1 Axes>"
            ]
          },
          "metadata": {
            "tags": [],
            "needs_background": "light"
          }
        }
      ]
    },
    {
      "cell_type": "markdown",
      "metadata": {
        "id": "c11kXsM1e8rA"
      },
      "source": [
        "### Uso del método de Newton de la biblioteca scipy.optimize"
      ]
    },
    {
      "cell_type": "code",
      "metadata": {
        "id": "4skeUDQ3eyoH"
      },
      "source": [
        "def df(x):\n",
        "  return 3*x**2 + 4*x + 10"
      ],
      "execution_count": 18,
      "outputs": []
    },
    {
      "cell_type": "code",
      "metadata": {
        "colab": {
          "base_uri": "https://localhost:8080/"
        },
        "id": "TBv2IgoRfVbH",
        "outputId": "4821d390-1018-4b93-857f-baa9e91e2ef3"
      },
      "source": [
        "sol = optimize.root_scalar(f,method=\"newton\",fprime=df,x0=4,xtol=0.0001,maxiter=40)\n",
        "print(sol)"
      ],
      "execution_count": 19,
      "outputs": [
        {
          "output_type": "stream",
          "text": [
            "      converged: True\n",
            "           flag: 'converged'\n",
            " function_calls: 10\n",
            "     iterations: 5\n",
            "           root: 1.3688081097247389\n"
          ],
          "name": "stdout"
        }
      ]
    },
    {
      "cell_type": "markdown",
      "metadata": {
        "id": "RfMcFzkJhp3C"
      },
      "source": [
        "### Llamando a $f(x)$ y $f'(x)$ en la misma función"
      ]
    },
    {
      "cell_type": "code",
      "metadata": {
        "id": "6PyjYdqGf-vN"
      },
      "source": [
        "del f, df"
      ],
      "execution_count": 20,
      "outputs": []
    },
    {
      "cell_type": "code",
      "metadata": {
        "colab": {
          "base_uri": "https://localhost:8080/"
        },
        "id": "dEkqJ752h-Gt",
        "outputId": "4f4dcc97-af5a-4ae6-adc9-0381f4fdb813"
      },
      "source": [
        "def f_df(x):\n",
        "  return x**3 + 2*x**2 + 10*x - 20, 3*x**2 + 4*x + 10\n",
        "\n",
        "sol = optimize.root_scalar(f_df,method=\"newton\",fprime=True,x0=4,xtol=0.0001,maxiter=40)\n",
        "print(sol)"
      ],
      "execution_count": 21,
      "outputs": [
        {
          "output_type": "stream",
          "text": [
            "      converged: True\n",
            "           flag: 'converged'\n",
            " function_calls: 5\n",
            "     iterations: 5\n",
            "           root: 1.3688081097247389\n"
          ],
          "name": "stdout"
        }
      ]
    },
    {
      "cell_type": "code",
      "metadata": {
        "id": "9UkYkOmoiZsP"
      },
      "source": [
        ""
      ],
      "execution_count": 21,
      "outputs": []
    }
  ]
}