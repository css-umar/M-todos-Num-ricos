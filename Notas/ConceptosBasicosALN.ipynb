{
  "nbformat": 4,
  "nbformat_minor": 0,
  "metadata": {
    "colab": {
      "name": "AlgebraLinealNumerica1.ipynb",
      "provenance": [],
      "collapsed_sections": [],
      "toc_visible": true
    },
    "kernelspec": {
      "name": "python3",
      "display_name": "Python 3"
    },
    "language_info": {
      "name": "python"
    }
  },
  "cells": [
    {
      "cell_type": "markdown",
      "metadata": {
        "id": "V0pL2vz55CnX"
      },
      "source": [
        "# Álgebra lineal numérica\n",
        "\n"
      ]
    },
    {
      "cell_type": "markdown",
      "metadata": {
        "id": "ABo-d-aL5KII"
      },
      "source": [
        "## Conceptos básicos"
      ]
    },
    {
      "cell_type": "markdown",
      "metadata": {
        "id": "FkUQNXmqvOFn"
      },
      "source": [
        "\n",
        "### ¿Qué es una matriz?\n",
        "\n",
        "$$\n",
        "\\begin{bmatrix} \n",
        "a_{1,1} & a_{1,2} & a_{1,3}& \\ldots & a_{1,n}\\\\\n",
        "a_{2,1} & a_{2,2} & a_{2,3}& \\ldots & a_{2,n}\\\\\n",
        "a_{3,1} & a_{3,2} & a_{3,3}& \\ldots & a_{3,n}\\\\\n",
        "\\vdots  & \\vdots  & \\vdots &        & \\vdots \\\\\n",
        "a_{m,1} & a_{m,2} & a_{m,3}& \\ldots & a_{m,n}\\\\\n",
        "\\end{bmatrix}\n",
        "$$\n",
        "\n",
        "Una matriz es un conjunto de elementos ordenados en filas y columnas. Donde los elementos $a_{i,j}$ pueden ser reales, complejos o funciones.\n",
        "\n",
        "_Para facilitar la lectura de las expresiones de cálculo matricial, acordaremos la siguiente convención de notación:_\n",
        "\n",
        "+ $\\alpha,\\,\\beta,\\,\\gamma,\\ldots,\\omega$ para escalares\n",
        "+ $\\boldsymbol{a},\\,\\boldsymbol{b},\\,\\boldsymbol{c},\\ldots,\\boldsymbol{z}$ para vectores columna (vectores)\n",
        "+ $\\boldsymbol{a^{\\prime}},\\,\\boldsymbol{b^{\\prime}},\\,\\boldsymbol{c^{\\prime}},\\ldots,\\boldsymbol{z^{\\prime}}$ para vectores fila (co-vectores)\n",
        "+ $A,\\,B,\\,C,\\ldots,Z$ para matrices"
      ]
    },
    {
      "cell_type": "markdown",
      "metadata": {
        "id": "wLTgmr8c456k"
      },
      "source": [
        "### ¿Cómo se construye una matriz en python?\n",
        "\n",
        "Se recomienda usar el método _array_ de la biblioteca _numpy_ para construir matrices."
      ]
    },
    {
      "cell_type": "code",
      "metadata": {
        "id": "HIO23iG0ugz-"
      },
      "source": [
        "import numpy as np"
      ],
      "execution_count": null,
      "outputs": []
    },
    {
      "cell_type": "code",
      "metadata": {
        "colab": {
          "base_uri": "https://localhost:8080/"
        },
        "id": "j2NdnMYnygJR",
        "outputId": "ca4ecb77-7b48-4ea7-c562-5c10d4df7031"
      },
      "source": [
        "# Construyendo una matriz de 3 x 3\n",
        "A = np.array([[1,2,3],[4,5,6],[7,8,9]])\n",
        "A"
      ],
      "execution_count": null,
      "outputs": [
        {
          "output_type": "execute_result",
          "data": {
            "text/plain": [
              "array([[1, 2, 3],\n",
              "       [4, 5, 6],\n",
              "       [7, 8, 9]])"
            ]
          },
          "metadata": {
            "tags": []
          },
          "execution_count": 2
        }
      ]
    },
    {
      "cell_type": "code",
      "metadata": {
        "colab": {
          "base_uri": "https://localhost:8080/"
        },
        "id": "opqp0y5_y9PK",
        "outputId": "6793857f-93bb-4149-a8f1-039cd547cedf"
      },
      "source": [
        "A[2,2]"
      ],
      "execution_count": null,
      "outputs": [
        {
          "output_type": "execute_result",
          "data": {
            "text/plain": [
              "9"
            ]
          },
          "metadata": {
            "tags": []
          },
          "execution_count": 3
        }
      ]
    },
    {
      "cell_type": "code",
      "metadata": {
        "colab": {
          "base_uri": "https://localhost:8080/"
        },
        "id": "sgwYI6KT0YDS",
        "outputId": "307beea9-c59b-4b0f-c5f1-62a434a73133"
      },
      "source": [
        "# Cómo maneja python los arreglos?\n",
        "type(A)"
      ],
      "execution_count": null,
      "outputs": [
        {
          "output_type": "execute_result",
          "data": {
            "text/plain": [
              "numpy.ndarray"
            ]
          },
          "metadata": {
            "tags": []
          },
          "execution_count": 4
        }
      ]
    },
    {
      "cell_type": "code",
      "metadata": {
        "colab": {
          "base_uri": "https://localhost:8080/"
        },
        "id": "vT1QShU30lzk",
        "outputId": "9c5f8d32-9852-4562-ecc2-49caa916bd7c"
      },
      "source": [
        "# El método shape permite saber el tamaño del arreglo.\n",
        "np.shape(A)"
      ],
      "execution_count": null,
      "outputs": [
        {
          "output_type": "execute_result",
          "data": {
            "text/plain": [
              "(3, 3)"
            ]
          },
          "metadata": {
            "tags": []
          },
          "execution_count": 5
        }
      ]
    },
    {
      "cell_type": "code",
      "metadata": {
        "colab": {
          "base_uri": "https://localhost:8080/"
        },
        "id": "NxGiXhZT1B31",
        "outputId": "afda39bf-1c8d-41ab-9eaa-81efaa856711"
      },
      "source": [
        " m,n = A.shape\n",
        " print(m,n)"
      ],
      "execution_count": null,
      "outputs": [
        {
          "output_type": "stream",
          "text": [
            "3 3\n"
          ],
          "name": "stdout"
        }
      ]
    },
    {
      "cell_type": "code",
      "metadata": {
        "colab": {
          "base_uri": "https://localhost:8080/"
        },
        "id": "qJglhNyZ1Isd",
        "outputId": "733d9378-3a18-4b68-a3d2-8f0592721f30"
      },
      "source": [
        "# El método ndim permite saber la dimension del arreglo.\n",
        "A.ndim"
      ],
      "execution_count": null,
      "outputs": [
        {
          "output_type": "execute_result",
          "data": {
            "text/plain": [
              "2"
            ]
          },
          "metadata": {
            "tags": []
          },
          "execution_count": 7
        }
      ]
    },
    {
      "cell_type": "code",
      "metadata": {
        "colab": {
          "base_uri": "https://localhost:8080/"
        },
        "id": "7CcCRlRn2rLC",
        "outputId": "032ee454-3c80-454e-de42-e2936a2e7b3e"
      },
      "source": [
        "# El método size permite saber el número de elementos del arreglo.\n",
        "A.size"
      ],
      "execution_count": null,
      "outputs": [
        {
          "output_type": "execute_result",
          "data": {
            "text/plain": [
              "9"
            ]
          },
          "metadata": {
            "tags": []
          },
          "execution_count": 8
        }
      ]
    },
    {
      "cell_type": "markdown",
      "metadata": {
        "id": "kCaCL0Xq5Sv3"
      },
      "source": [
        "## Suma de matrices\n",
        "\n",
        "Para sumar dos matrices $A$ y $B$ deben ser de las mismas dimensiones. La suma se realiza elemento a elemento:\n",
        "\n",
        "$$\\begin{eqnarray*}\n",
        "A_{m,n} + B_{m,n} &=& C_{m,n}\\\\\n",
        "\\begin{bmatrix} \n",
        "a_{1,1} & a_{1,2} & \\ldots & a_{1,n}\\\\\n",
        "a_{2,1} & a_{2,2} & \\ldots & a_{2,n}\\\\\n",
        "\\vdots  & \\vdots  &        & \\vdots \\\\\n",
        "a_{m,1} & a_{m,2} & \\ldots & a_{m,n}\\\\\n",
        "\\end{bmatrix} + \\begin{bmatrix} \n",
        "b_{1,1} & b_{1,2} & \\ldots & b_{1,n}\\\\\n",
        "b_{2,1} & b_{2,2} & \\ldots & b_{2,n}\\\\\n",
        "\\vdots  & \\vdots  &        & \\vdots \\\\\n",
        "b_{m,1} & b_{m,2} & \\ldots & b_{m,n}\\\\\n",
        "\\end{bmatrix} &=& \\begin{bmatrix} \n",
        "a_{1,1}+b_{1,1} & a_{1,2}+b_{1,2} & \\ldots & a_{1,n}+b_{1,n}\\\\\n",
        "a_{2,1}+b_{2,1} & a_{2,2}+b_{2,2} & \\ldots & a_{2,n}+b_{2,n}\\\\\n",
        "\\vdots  & \\vdots  &        & \\vdots \\\\\n",
        "a_{m,1}+b_{m,1} & a_{m,2}+b_{m,2} & \\ldots & a_{m,n}+b_{m,n}\\\\\n",
        "\\end{bmatrix} \\\\\n",
        "&=&  \\begin{bmatrix} \n",
        "c_{1,1} & c_{1,2} & \\ldots & c_{1,n}\\\\\n",
        "c_{2,1} & c_{2,2} & \\ldots & c_{2,n}\\\\\n",
        "\\vdots  & \\vdots  &        & \\vdots \\\\\n",
        "c_{m,1} & c_{m,2} & \\ldots & c_{m,n}\\\\\n",
        "\\end{bmatrix}\\\\\n",
        "\\begin{bmatrix}a_{i,j}\\end{bmatrix}+\\begin{bmatrix}b_{i,j}\\end{bmatrix} &=&\\begin{bmatrix}a_{i,j}+b_{i,j}\\end{bmatrix} = \\begin{bmatrix}c_{i,j}\\end{bmatrix}\n",
        "\\end{eqnarray*}$$\n"
      ]
    },
    {
      "cell_type": "markdown",
      "metadata": {
        "id": "T5DkADxP5yOF"
      },
      "source": [
        "En python la suma se realiza con el operador de suma $+$"
      ]
    },
    {
      "cell_type": "code",
      "metadata": {
        "id": "zi8h0gS04o6s"
      },
      "source": [
        "A = np.array([[4, 8.5, -3],[2, -1.3, 7]])\n",
        "B = np.array([[-1, 2, -4], [5, 8, 3]])"
      ],
      "execution_count": null,
      "outputs": []
    },
    {
      "cell_type": "code",
      "metadata": {
        "colab": {
          "base_uri": "https://localhost:8080/"
        },
        "id": "fouJzxTE6lfU",
        "outputId": "a38b80e5-fa67-4135-e55d-2027b69c2239"
      },
      "source": [
        "A.shape == B.shape"
      ],
      "execution_count": null,
      "outputs": [
        {
          "output_type": "execute_result",
          "data": {
            "text/plain": [
              "True"
            ]
          },
          "metadata": {
            "tags": []
          },
          "execution_count": 10
        }
      ]
    },
    {
      "cell_type": "code",
      "metadata": {
        "colab": {
          "base_uri": "https://localhost:8080/"
        },
        "id": "hEqnbgPf6q_u",
        "outputId": "4fb5e454-3e1f-497b-e2f7-b1d4148167d9"
      },
      "source": [
        "C = A + B\n",
        "C"
      ],
      "execution_count": null,
      "outputs": [
        {
          "output_type": "execute_result",
          "data": {
            "text/plain": [
              "array([[ 3. , 10.5, -7. ],\n",
              "       [ 7. ,  6.7, 10. ]])"
            ]
          },
          "metadata": {
            "tags": []
          },
          "execution_count": 11
        }
      ]
    },
    {
      "cell_type": "markdown",
      "metadata": {
        "id": "kmg0ln3d7Hs2"
      },
      "source": [
        "## Producto de matrices por un escalar\n",
        "\n",
        "El producto de un número real $\\alpha$ y una matriz $A$ se denota por $\\alpha A$, y se realiza multiplicando los elementos de $A$ por $\\alpha$:\n",
        "\n",
        "$$\\begin{eqnarray*}\n",
        "\\alpha A &=& \\begin{bmatrix} \n",
        "a_{1,1} & a_{1,2} & \\ldots & a_{1,n}\\\\\n",
        "a_{2,1} & a_{2,2} & \\ldots & a_{2,n}\\\\\n",
        "\\vdots  & \\vdots  &        & \\vdots \\\\\n",
        "a_{m,1} & a_{m,2} & \\ldots & a_{m,n}\\\\\n",
        "\\end{bmatrix}\\\\\n",
        "&=& \\begin{bmatrix} \n",
        "\\alpha\\, a_{1,1} & \\alpha\\, a_{1,2} & \\ldots & \\alpha\\, a_{1,n}\\\\\n",
        "\\alpha\\, a_{2,1} & \\alpha\\, a_{2,2} & \\ldots & \\alpha\\, a_{2,n}\\\\\n",
        "\\vdots  & \\vdots  &        & \\vdots \\\\\n",
        "\\alpha\\, a_{m,1} & \\alpha\\, a_{m,2} & \\ldots & \\alpha\\, a_{m,n}\\\\\n",
        "\\end{bmatrix}\\\\\n",
        "\\alpha\\,\\begin{bmatrix}a_{i,j}\\end{bmatrix} &=& \\begin{bmatrix}\\alpha\\,a_{i,j}\\end{bmatrix}\n",
        "\\end{eqnarray*}$$\n",
        "\n",
        "En python el producto de una matriz por un escalar se realiza con el operador de multiplicación $*$."
      ]
    },
    {
      "cell_type": "code",
      "metadata": {
        "colab": {
          "base_uri": "https://localhost:8080/"
        },
        "id": "_u4F3Qoj6uHm",
        "outputId": "60aef88a-0c15-4836-aa82-d652c9ec037c"
      },
      "source": [
        "3*A\n"
      ],
      "execution_count": null,
      "outputs": [
        {
          "output_type": "execute_result",
          "data": {
            "text/plain": [
              "array([[12. , 25.5, -9. ],\n",
              "       [ 6. , -3.9, 21. ]])"
            ]
          },
          "metadata": {
            "tags": []
          },
          "execution_count": 12
        }
      ]
    },
    {
      "cell_type": "code",
      "metadata": {
        "colab": {
          "base_uri": "https://localhost:8080/"
        },
        "id": "dnmBdoxC7v1J",
        "outputId": "d6e7e9e2-44ca-4c2b-9161-235dbbe7c2a6"
      },
      "source": [
        "A*3"
      ],
      "execution_count": null,
      "outputs": [
        {
          "output_type": "execute_result",
          "data": {
            "text/plain": [
              "array([[12. , 25.5, -9. ],\n",
              "       [ 6. , -3.9, 21. ]])"
            ]
          },
          "metadata": {
            "tags": []
          },
          "execution_count": 13
        }
      ]
    },
    {
      "cell_type": "markdown",
      "metadata": {
        "id": "SOGbmS44B00y"
      },
      "source": [
        "### Principales propiedades algebraicas de esta multiplicación\n",
        "\n",
        "1. Distributiva respecto a la suma de matrices\n",
        "\n",
        "$$\\alpha(A+B)=\\alpha A + \\alpha B$$\n",
        "\n",
        "2. Distributiva respecto a la suma de escalares\n",
        "\n",
        "$$(\\alpha + \\beta )A = \\alpha A + \\beta A$$\n",
        "\n",
        "3. Asociatividad\n",
        "\n",
        "$$(\\alpha\\beta)A = \\alpha(\\beta A)$$\n",
        "\n",
        "4. $1 A = A$"
      ]
    },
    {
      "cell_type": "markdown",
      "metadata": {
        "id": "-WVmLb37761L"
      },
      "source": [
        "## Multiplicación de matrices\n",
        "\n",
        "Para que la multiplicación de dos matrices $A$ y $B$ se pueda llevar a cabo, estas deben ser conformables, es decir, $A$ tiene el mismo número de columnas que $B$ tiene de filas:\n",
        "\n",
        "$$\\begin{eqnarray*}\n",
        "A_{m,n}\\,B_{n,p} &=& C_{m,p}\\\\\n",
        "\\begin{bmatrix} \n",
        "a_{1,1} & a_{1,2} & \\ldots & a_{1,n}\\\\\n",
        "a_{2,1} & a_{2,2} & \\ldots & a_{2,n}\\\\\n",
        "\\vdots  & \\vdots  &        & \\vdots \\\\\n",
        "a_{m,1} & a_{m,2} & \\ldots & a_{m,n}\\\\\n",
        "\\end{bmatrix}\\, \\begin{bmatrix} \n",
        "b_{1,1} & b_{1,2} & \\ldots & b_{1,n}\\\\\n",
        "b_{2,1} & b_{2,2} & \\ldots & b_{2,n}\\\\\n",
        "\\vdots  & \\vdots  &        & \\vdots \\\\\n",
        "b_{m,1} & b_{m,2} & \\ldots & b_{m,n}\\\\\n",
        "\\end{bmatrix} &=& \\begin{bmatrix} \n",
        "c_{1,1} & c_{1,2} & \\ldots & c_{1,p}\\\\\n",
        "c_{2,1} & c_{2,2} & \\ldots & c_{2,p}\\\\\n",
        "\\vdots  & \\vdots  &        & \\vdots \\\\\n",
        "c_{m,1} & c_{m,2} & \\ldots & c_{m,p}\\\\\n",
        "\\end{bmatrix}\n",
        "\\end{eqnarray*}$$\n",
        "\n",
        "donde:\n",
        "\n",
        "$$\\begin{eqnarray*}\n",
        "c_{i,j} &=&a_{i,1}\\,b_{1,j}+ a_{i,2}\\,b_{2,j}+\\ldots+a_{i,n}\\,b_{n,j}\\\\\n",
        "c_{i,j} &=& \\sum_{k=1}^{n}{a_{i,k}\\,b_{k,j}}\\, \\text{para}\\, i = 1,2,\\ldots,m\\, \\text{y}\\, j = 1,2,\\ldots,p\n",
        "\\end{eqnarray*}$$\n",
        "\n",
        "En python para multiplicar dos matrices se usa el método  _dot_ de la biblioteca _numpy_."
      ]
    },
    {
      "cell_type": "code",
      "metadata": {
        "id": "YjWrIFOQ7iTv"
      },
      "source": [
        "A = np.array([[1, 2, 3], [2, 3, 4], [3, -4, -5]])\n",
        "B = np.array([[0, 1, -2], [-1, 2, 3], [4, 2, 1]])"
      ],
      "execution_count": null,
      "outputs": []
    },
    {
      "cell_type": "code",
      "metadata": {
        "id": "ez-66-rt8FCC"
      },
      "source": [
        "mA, nA = A.shape\n",
        "mB, nB = B.shape"
      ],
      "execution_count": null,
      "outputs": []
    },
    {
      "cell_type": "code",
      "metadata": {
        "colab": {
          "base_uri": "https://localhost:8080/"
        },
        "id": "76G2I1878qXx",
        "outputId": "80aa845f-1b84-4fa1-91a4-046d13b8b90f"
      },
      "source": [
        "nA == mB"
      ],
      "execution_count": null,
      "outputs": [
        {
          "output_type": "execute_result",
          "data": {
            "text/plain": [
              "True"
            ]
          },
          "metadata": {
            "tags": []
          },
          "execution_count": 16
        }
      ]
    },
    {
      "cell_type": "code",
      "metadata": {
        "colab": {
          "base_uri": "https://localhost:8080/"
        },
        "id": "JKRTTlZp9A2Q",
        "outputId": "b53b70e6-f262-44da-ba96-cc56d06a9ba2"
      },
      "source": [
        "C = np.dot(A,B)\n",
        "C"
      ],
      "execution_count": null,
      "outputs": [
        {
          "output_type": "execute_result",
          "data": {
            "text/plain": [
              "array([[ 10,  11,   7],\n",
              "       [ 13,  16,   9],\n",
              "       [-16, -15, -23]])"
            ]
          },
          "metadata": {
            "tags": []
          },
          "execution_count": 17
        }
      ]
    },
    {
      "cell_type": "markdown",
      "metadata": {
        "id": "YxxX2UYPB1cY"
      },
      "source": [
        "**¿Es lo mismo $A\\,B$ que $B\\,A$?**"
      ]
    },
    {
      "cell_type": "code",
      "metadata": {
        "id": "gldbYYli_l3J",
        "colab": {
          "base_uri": "https://localhost:8080/"
        },
        "outputId": "271403b5-c3f2-486f-a9dc-d645af2e9b95"
      },
      "source": [
        "np.dot(A,B)"
      ],
      "execution_count": null,
      "outputs": [
        {
          "output_type": "execute_result",
          "data": {
            "text/plain": [
              "array([[ 10,  11,   7],\n",
              "       [ 13,  16,   9],\n",
              "       [-16, -15, -23]])"
            ]
          },
          "metadata": {
            "tags": []
          },
          "execution_count": 18
        }
      ]
    },
    {
      "cell_type": "code",
      "metadata": {
        "colab": {
          "base_uri": "https://localhost:8080/"
        },
        "id": "sOfYsZv8CHU6",
        "outputId": "7be7f052-f4ef-44fc-d72a-c5ba9fd1990a"
      },
      "source": [
        "np.dot(B,A)"
      ],
      "execution_count": null,
      "outputs": [
        {
          "output_type": "execute_result",
          "data": {
            "text/plain": [
              "array([[ -4,  11,  14],\n",
              "       [ 12,  -8, -10],\n",
              "       [ 11,  10,  15]])"
            ]
          },
          "metadata": {
            "tags": []
          },
          "execution_count": 19
        }
      ]
    },
    {
      "cell_type": "markdown",
      "metadata": {
        "id": "OKB2EFuDCTo2"
      },
      "source": [
        "La multiplicación de matrices no es conmutativa.\n"
      ]
    },
    {
      "cell_type": "markdown",
      "metadata": {
        "id": "luRzjV_eCo2z"
      },
      "source": [
        "### Propiedades del producto de matrices\n",
        "\n",
        "1. Distributiva\n",
        "\n",
        "$$A(B+C) = A\\,B+ A\\,C$$\n",
        "\n",
        "2. Asociativa\n",
        "\n",
        "$$(A\\,B)C = A(B\\,C)$$"
      ]
    },
    {
      "cell_type": "code",
      "metadata": {
        "colab": {
          "base_uri": "https://localhost:8080/"
        },
        "id": "7Ejd42ygCNOo",
        "outputId": "550d92cb-4362-48e9-ca7f-e6df4c127bbe"
      },
      "source": [
        "# Proiedad distributiva\n",
        "np.dot(A,B+C)"
      ],
      "execution_count": null,
      "outputs": [
        {
          "output_type": "execute_result",
          "data": {
            "text/plain": [
              "array([[ -2,   9, -37],\n",
              "       [  8,  26, -42],\n",
              "       [ 42,  29,  77]])"
            ]
          },
          "metadata": {
            "tags": []
          },
          "execution_count": 20
        }
      ]
    },
    {
      "cell_type": "code",
      "metadata": {
        "colab": {
          "base_uri": "https://localhost:8080/"
        },
        "id": "HojANZRQDXJc",
        "outputId": "04c7036c-6e3d-42a4-8cf2-25f333c27f92"
      },
      "source": [
        "np.dot(A,B) + np.dot(A,C)"
      ],
      "execution_count": null,
      "outputs": [
        {
          "output_type": "execute_result",
          "data": {
            "text/plain": [
              "array([[ -2,   9, -37],\n",
              "       [  8,  26, -42],\n",
              "       [ 42,  29,  77]])"
            ]
          },
          "metadata": {
            "tags": []
          },
          "execution_count": 21
        }
      ]
    },
    {
      "cell_type": "code",
      "metadata": {
        "colab": {
          "base_uri": "https://localhost:8080/"
        },
        "id": "3YjXpIVyDcN3",
        "outputId": "7cf66862-64dd-423e-ecb2-4ce46ffdfaff"
      },
      "source": [
        "# Propiedad asociativa\n",
        "np.dot(np.dot(A,B),C)"
      ],
      "execution_count": null,
      "outputs": [
        {
          "output_type": "execute_result",
          "data": {
            "text/plain": [
              "array([[131, 181,   8],\n",
              "       [194, 264,  28],\n",
              "       [ 13, -71, 282]])"
            ]
          },
          "metadata": {
            "tags": []
          },
          "execution_count": 22
        }
      ]
    },
    {
      "cell_type": "code",
      "metadata": {
        "colab": {
          "base_uri": "https://localhost:8080/"
        },
        "id": "GDPx1cZvDpUt",
        "outputId": "51c8267f-5e69-48e2-ccdb-3bd305cb075c"
      },
      "source": [
        "np.dot(A,np.dot(B,C))"
      ],
      "execution_count": null,
      "outputs": [
        {
          "output_type": "execute_result",
          "data": {
            "text/plain": [
              "array([[131, 181,   8],\n",
              "       [194, 264,  28],\n",
              "       [ 13, -71, 282]])"
            ]
          },
          "metadata": {
            "tags": []
          },
          "execution_count": 23
        }
      ]
    },
    {
      "cell_type": "markdown",
      "metadata": {
        "id": "yGoA1sRnD-vk"
      },
      "source": [
        "## Matrices especiales\n",
        "\n",
        "**¡Para recordar!**\n",
        "\n",
        "En una matriz cuadrada $A$, el conjunto de elementos en donde el primero y el segundo subíndices son iguales,$i=j$, forma la *diagonal principal*.\n",
        "\n",
        "Por ejemplo, para en una matriz de $3\\times 3$\n",
        "\n",
        "$$\n",
        "\\begin{bmatrix} \n",
        "a_{1,1} & a_{1,2} & a_{1,3}\\\\\n",
        "a_{2,1} & a_{2,2} & a_{2,3}\\\\\n",
        "a_{3,1} & a_{3,2} & a_{3,3}\\\\\n",
        "\\end{bmatrix}\n",
        "$$\n",
        "\n",
        "los elmentos de la diagonal principal son $a_{1,1}, a_{2,2}$ y $a_{3,3}$.\n",
        "\n",
        "*Numpy*, a través del método *diagonal* permite extraer la diagonal principal de una matriz."
      ]
    },
    {
      "cell_type": "code",
      "metadata": {
        "colab": {
          "base_uri": "https://localhost:8080/"
        },
        "id": "AKvMzU0eDs_u",
        "outputId": "477869fd-ebe2-47f1-c83a-b6f4603aa7ad"
      },
      "source": [
        "A = np.array([[1, 2, 3], [2, 3, 4], [3, -4, -5]])\n",
        "A"
      ],
      "execution_count": null,
      "outputs": [
        {
          "output_type": "execute_result",
          "data": {
            "text/plain": [
              "array([[ 1,  2,  3],\n",
              "       [ 2,  3,  4],\n",
              "       [ 3, -4, -5]])"
            ]
          },
          "metadata": {
            "tags": []
          },
          "execution_count": 24
        }
      ]
    },
    {
      "cell_type": "code",
      "metadata": {
        "colab": {
          "base_uri": "https://localhost:8080/"
        },
        "id": "nx65G7-rG5oI",
        "outputId": "073a575b-af1e-44b6-d3fc-2e5b678ee52d"
      },
      "source": [
        "A.diagonal(0)"
      ],
      "execution_count": null,
      "outputs": [
        {
          "output_type": "execute_result",
          "data": {
            "text/plain": [
              "array([ 1,  3, -5])"
            ]
          },
          "metadata": {
            "tags": []
          },
          "execution_count": 25
        }
      ]
    },
    {
      "cell_type": "code",
      "metadata": {
        "colab": {
          "base_uri": "https://localhost:8080/"
        },
        "id": "PmmsBtazVNIN",
        "outputId": "0932494c-ea36-45bc-ef43-023a5265cff8"
      },
      "source": [
        "A.diagonal(1)"
      ],
      "execution_count": null,
      "outputs": [
        {
          "output_type": "execute_result",
          "data": {
            "text/plain": [
              "array([2, 4])"
            ]
          },
          "metadata": {
            "tags": []
          },
          "execution_count": 26
        }
      ]
    },
    {
      "cell_type": "code",
      "metadata": {
        "colab": {
          "base_uri": "https://localhost:8080/"
        },
        "id": "ZV4fhOqgVL16",
        "outputId": "55f7167f-af33-43f8-b775-bd449ccaca58"
      },
      "source": [
        "A.diagonal(-1)"
      ],
      "execution_count": null,
      "outputs": [
        {
          "output_type": "execute_result",
          "data": {
            "text/plain": [
              "array([ 2, -4])"
            ]
          },
          "metadata": {
            "tags": []
          },
          "execution_count": 27
        }
      ]
    },
    {
      "cell_type": "markdown",
      "metadata": {
        "id": "98tio0nmMovj"
      },
      "source": [
        "También se puede usar el método *diag*, si se desea extraer una diagonal por encima o por debajo de la diagonal principal."
      ]
    },
    {
      "cell_type": "code",
      "metadata": {
        "colab": {
          "base_uri": "https://localhost:8080/"
        },
        "id": "noCOGFDjNKaS",
        "outputId": "a2aa9c3a-95a2-4d1b-ea85-60051253e844"
      },
      "source": [
        "# Primer diagonal por arriba de la principal\n",
        "np.diag(A,k=1)"
      ],
      "execution_count": null,
      "outputs": [
        {
          "output_type": "execute_result",
          "data": {
            "text/plain": [
              "array([2, 4])"
            ]
          },
          "metadata": {
            "tags": []
          },
          "execution_count": 28
        }
      ]
    },
    {
      "cell_type": "code",
      "metadata": {
        "colab": {
          "base_uri": "https://localhost:8080/"
        },
        "id": "n90O39rgNdKN",
        "outputId": "fae82883-2582-4c18-8fa5-8acf288a40eb"
      },
      "source": [
        "# Segunda diagonal por arriba de la principal\n",
        "np.diag(A,k=2)"
      ],
      "execution_count": null,
      "outputs": [
        {
          "output_type": "execute_result",
          "data": {
            "text/plain": [
              "array([3])"
            ]
          },
          "metadata": {
            "tags": []
          },
          "execution_count": 29
        }
      ]
    },
    {
      "cell_type": "code",
      "metadata": {
        "colab": {
          "base_uri": "https://localhost:8080/"
        },
        "id": "WaZ8z9j5NiB2",
        "outputId": "4f33c71f-3b3f-43f6-e533-0e5485fc5b2e"
      },
      "source": [
        "# Primer diagonal por abajo de la principal\n",
        "np.diag(A,k=-1)"
      ],
      "execution_count": null,
      "outputs": [
        {
          "output_type": "execute_result",
          "data": {
            "text/plain": [
              "array([ 2, -4])"
            ]
          },
          "metadata": {
            "tags": []
          },
          "execution_count": 30
        }
      ]
    },
    {
      "cell_type": "code",
      "metadata": {
        "colab": {
          "base_uri": "https://localhost:8080/"
        },
        "id": "t4s8bopxN2zY",
        "outputId": "76de88df-8de3-4522-d2b4-2aee2154518f"
      },
      "source": [
        "# Si k=0 extrae la diagonal principal\n",
        "np.diag(A,k=0)"
      ],
      "execution_count": null,
      "outputs": [
        {
          "output_type": "execute_result",
          "data": {
            "text/plain": [
              "array([ 1,  3, -5])"
            ]
          },
          "metadata": {
            "tags": []
          },
          "execution_count": 31
        }
      ]
    },
    {
      "cell_type": "markdown",
      "metadata": {
        "id": "ymsnbuNVHKU4"
      },
      "source": [
        "### Matriz triangular superior\n",
        "\n",
        "Es una matriz de orden $n$ con todos sus elementos debajo de la diagonal principal iguales a cero.\n",
        "\n",
        "$$\n",
        "\\begin{bmatrix} \n",
        "a_{1,1} & a_{1,2} & a_{1,3}& \\ldots & a_{1,n}\\\\\n",
        "0       & a_{2,2} & a_{2,3}& \\ldots & a_{2,n}\\\\\n",
        "\\vdots  & \\vdots  & \\vdots &        & \\vdots \\\\\n",
        "0       &  0      &        & \\ldots & a_{n-1,n}\\\\\n",
        "0       & 0       & 0      & \\ldots & a_{n,n}\\\\\n",
        "\\end{bmatrix}\n",
        "$$"
      ]
    },
    {
      "cell_type": "markdown",
      "metadata": {
        "id": "JA0TGiG1Ipui"
      },
      "source": [
        "### Matriz triangular inferior\n",
        "Es una matriz de orden $n$ con todos sus elementos por encima de la diagonal principal iguales a cero.\n",
        "\n",
        "$$\n",
        "\\begin{bmatrix} \n",
        "a_{1,1} & 0       & 0      & \\ldots & 0      \\\\\n",
        "a_{2,1}  & a_{2,2} & 0      & \\ldots &        \\\\\n",
        "\\vdots  & \\vdots  & \\vdots &        & \\vdots \\\\\n",
        "        &         &        &        & 0      \\\\\n",
        "a_{n,1} & a_{n,2} & a_{n,3}& \\ldots & a_{n,n}\\\\\n",
        "\\end{bmatrix}\n",
        "$$"
      ]
    },
    {
      "cell_type": "markdown",
      "metadata": {
        "id": "Hr4X1t2pKCku"
      },
      "source": [
        "### Matriz diagonal\n",
        "Se llama matriz diagonal a aquella que únicamente ceros arriba y abajo de la diagonal principal.\n",
        "\n",
        "$$\n",
        "\\begin{bmatrix} \n",
        "a_{1,1} & 0       & 0      & \\ldots & 0      \\\\\n",
        "0       & a_{2,2} & 0      & \\ldots & 0      \\\\\n",
        "0       &         & a_{3,3}& \\ldots & 0      \\\\\n",
        "\\vdots  & \\vdots  & \\vdots &        & \\vdots \\\\\n",
        "0       & 0       & 0      & \\ldots & a_{n,n}\\\\\n",
        "\\end{bmatrix}\n",
        "$$\n",
        "\n",
        "En método *diagflat* de la biblioteca *numpy* permite crear matrices diagonales a partir de un vector."
      ]
    },
    {
      "cell_type": "code",
      "metadata": {
        "colab": {
          "base_uri": "https://localhost:8080/"
        },
        "id": "Sr-3FHGEG_RV",
        "outputId": "905600fd-9496-4fbb-ad2a-89370d74e581"
      },
      "source": [
        "a = np.array([1,2,3,4])\n",
        "np.diagflat(a)"
      ],
      "execution_count": null,
      "outputs": [
        {
          "output_type": "execute_result",
          "data": {
            "text/plain": [
              "array([[1, 0, 0, 0],\n",
              "       [0, 2, 0, 0],\n",
              "       [0, 0, 3, 0],\n",
              "       [0, 0, 0, 4]])"
            ]
          },
          "metadata": {
            "tags": []
          },
          "execution_count": 32
        }
      ]
    },
    {
      "cell_type": "markdown",
      "metadata": {
        "id": "hKiaQol0OSWO"
      },
      "source": [
        "### Matriz identidad\n",
        "Se llama matriz identidad a aquella cuyos elementos de la diagonal principal son 1, y los demás son 0.\n",
        "\n",
        "$$\n",
        "\\begin{bmatrix} \n",
        "1       & 0       & 0      & \\ldots & 0      \\\\\n",
        "0       & 1       & 0      & \\ldots & 0      \\\\\n",
        "0       & 0       & 1      & \\ldots & 0      \\\\\n",
        "\\vdots  & \\vdots  & \\vdots &        & \\vdots \\\\\n",
        "0       & 0       & 0      & \\ldots & 1      \\\\\n",
        "\\end{bmatrix}\n",
        "$$\n",
        "\n",
        "El método *identity* permite crear matrices identidad."
      ]
    },
    {
      "cell_type": "code",
      "metadata": {
        "colab": {
          "base_uri": "https://localhost:8080/"
        },
        "id": "Wpepv3ZwORtI",
        "outputId": "90712143-5ac6-4a40-9a21-987b2b904cd2"
      },
      "source": [
        "np.identity(3)"
      ],
      "execution_count": null,
      "outputs": [
        {
          "output_type": "execute_result",
          "data": {
            "text/plain": [
              "array([[1., 0., 0.],\n",
              "       [0., 1., 0.],\n",
              "       [0., 0., 1.]])"
            ]
          },
          "metadata": {
            "tags": []
          },
          "execution_count": 33
        }
      ]
    },
    {
      "cell_type": "code",
      "metadata": {
        "colab": {
          "base_uri": "https://localhost:8080/"
        },
        "id": "-2gRJHDaLRpL",
        "outputId": "22b2e912-36ae-42a4-adb5-11fe1651995c"
      },
      "source": [
        "np.identity(4)"
      ],
      "execution_count": null,
      "outputs": [
        {
          "output_type": "execute_result",
          "data": {
            "text/plain": [
              "array([[1., 0., 0., 0.],\n",
              "       [0., 1., 0., 0.],\n",
              "       [0., 0., 1., 0.],\n",
              "       [0., 0., 0., 1.]])"
            ]
          },
          "metadata": {
            "tags": []
          },
          "execution_count": 34
        }
      ]
    },
    {
      "cell_type": "markdown",
      "metadata": {
        "id": "Yg1ZYqy_PyNR"
      },
      "source": [
        "### Matriz transpuesta\n",
        "\n",
        "Se llama matriz transpuesta $(A^T)$ de $A$, a aquella que se obtiene de $A$ itercambiando sus filas por columnas.\n",
        "\n",
        "$$A = \n",
        "\\begin{bmatrix} \n",
        "a_{1,1} & a_{1,2} & \\ldots & a_{1,n} \\\\\n",
        "a_{2,1} & a_{2,2} & \\ldots & a_{2,n} \\\\\n",
        "\\vdots  & \\vdots  & \\vdots & \\vdots  \\\\\n",
        "a_{m,1} & a_{m,2} & \\ldots & a_{m,n} \\\\\n",
        "\\end{bmatrix}\n",
        "$$\n",
        "\n",
        "$$A^T = \n",
        "\\begin{bmatrix} \n",
        "a_{1,1} & a_{2,1} & \\ldots & a_{m,1} \\\\\n",
        "a_{1,2} & a_{2,2} & \\ldots & a_{m,2} \\\\\n",
        "\\vdots  & \\vdots  & \\vdots & \\vdots  \\\\\n",
        "a_{1,n} & a_{2,n} & \\ldots & a_{m,n} \\\\\n",
        "\\end{bmatrix}\n",
        "$$\n",
        "\n",
        "El método *transpose* permite realizar esta operación."
      ]
    },
    {
      "cell_type": "code",
      "metadata": {
        "colab": {
          "base_uri": "https://localhost:8080/"
        },
        "id": "deFUayVkPeKw",
        "outputId": "061dc704-3361-4b1f-919f-e51278f0f72b"
      },
      "source": [
        " A = np.array([[1, 2, 3], [2, 3, 4], [3, -4, -5]])\n",
        " A"
      ],
      "execution_count": null,
      "outputs": [
        {
          "output_type": "execute_result",
          "data": {
            "text/plain": [
              "array([[ 1,  2,  3],\n",
              "       [ 2,  3,  4],\n",
              "       [ 3, -4, -5]])"
            ]
          },
          "metadata": {
            "tags": []
          },
          "execution_count": 35
        }
      ]
    },
    {
      "cell_type": "code",
      "metadata": {
        "colab": {
          "base_uri": "https://localhost:8080/"
        },
        "id": "NoiiiVthR4pg",
        "outputId": "685c0491-c1d9-4932-eb1d-a519d73eeb49"
      },
      "source": [
        "A_transpuesta = np.transpose(A)\n",
        "A_transpuesta"
      ],
      "execution_count": null,
      "outputs": [
        {
          "output_type": "execute_result",
          "data": {
            "text/plain": [
              "array([[ 1,  2,  3],\n",
              "       [ 2,  3, -4],\n",
              "       [ 3,  4, -5]])"
            ]
          },
          "metadata": {
            "tags": []
          },
          "execution_count": 36
        }
      ]
    },
    {
      "cell_type": "markdown",
      "metadata": {
        "id": "fV1HCwaYkRCE"
      },
      "source": [
        "### Matriz simétrica\n",
        "\n",
        "Se llama matriz simétrica a aquella matriz cuadrada para la que $A^T = A$\n",
        "\n",
        "Por ejemplo, Sea $A$ una matriz de $3\\times 3$\n",
        "\n",
        "$$A =\n",
        "\\begin{bmatrix} \n",
        "1 & 2 & 3\\\\\n",
        "2 & 3 & 1\\\\\n",
        "3 & 1 & 4\\\\\n",
        "\\end{bmatrix}\n",
        "$$\n"
      ]
    },
    {
      "cell_type": "code",
      "metadata": {
        "id": "aVyXzTuHSArF",
        "colab": {
          "base_uri": "https://localhost:8080/"
        },
        "outputId": "9010ffd8-d666-4518-e289-0431f9c31e6b"
      },
      "source": [
        "A = np.array([[1, 2, 3], [2, 3, 1], [3, 1, 4]])\n",
        "A"
      ],
      "execution_count": null,
      "outputs": [
        {
          "output_type": "execute_result",
          "data": {
            "text/plain": [
              "array([[1, 2, 3],\n",
              "       [2, 3, 1],\n",
              "       [3, 1, 4]])"
            ]
          },
          "metadata": {
            "tags": []
          },
          "execution_count": 37
        }
      ]
    },
    {
      "cell_type": "code",
      "metadata": {
        "colab": {
          "base_uri": "https://localhost:8080/"
        },
        "id": "hmtlSiNRlNuZ",
        "outputId": "ffd71556-1c33-48c8-b363-98d147cd0d50"
      },
      "source": [
        "A.transpose()"
      ],
      "execution_count": null,
      "outputs": [
        {
          "output_type": "execute_result",
          "data": {
            "text/plain": [
              "array([[1, 2, 3],\n",
              "       [2, 3, 1],\n",
              "       [3, 1, 4]])"
            ]
          },
          "metadata": {
            "tags": []
          },
          "execution_count": 38
        }
      ]
    },
    {
      "cell_type": "markdown",
      "metadata": {
        "id": "UNmFA4535uv7"
      },
      "source": [
        "#### ¿Cómo podemos saber si una matriz es simétrica?\n"
      ]
    },
    {
      "cell_type": "code",
      "metadata": {
        "colab": {
          "base_uri": "https://localhost:8080/"
        },
        "id": "C5Mqb35h534i",
        "outputId": "d8965517-874e-465d-b7ae-2c215ca6ff75"
      },
      "source": [
        "A.transpose()==A"
      ],
      "execution_count": null,
      "outputs": [
        {
          "output_type": "execute_result",
          "data": {
            "text/plain": [
              "array([[ True,  True,  True],\n",
              "       [ True,  True,  True],\n",
              "       [ True,  True,  True]])"
            ]
          },
          "metadata": {
            "tags": []
          },
          "execution_count": 39
        }
      ]
    },
    {
      "cell_type": "code",
      "metadata": {
        "colab": {
          "base_uri": "https://localhost:8080/"
        },
        "id": "2zdxOpmT6FKN",
        "outputId": "d3509e3f-d13e-4903-8ca6-2e94218fd738"
      },
      "source": [
        "(A.transpose()==A).all()"
      ],
      "execution_count": null,
      "outputs": [
        {
          "output_type": "execute_result",
          "data": {
            "text/plain": [
              "True"
            ]
          },
          "metadata": {
            "tags": []
          },
          "execution_count": 40
        }
      ]
    },
    {
      "cell_type": "markdown",
      "metadata": {
        "id": "h62t7g576UpJ"
      },
      "source": [
        "Ahora con una matriz no simétrica"
      ]
    },
    {
      "cell_type": "code",
      "metadata": {
        "colab": {
          "base_uri": "https://localhost:8080/"
        },
        "id": "Gku5dn5Z6TVH",
        "outputId": "e8662299-4981-4441-8897-68acd22c83a5"
      },
      "source": [
        "ANS = np.array([[1, 2, 10], [2, 3, 1], [3, 1, 4]])\n",
        "ANS.transpose()==ANS"
      ],
      "execution_count": null,
      "outputs": [
        {
          "output_type": "execute_result",
          "data": {
            "text/plain": [
              "array([[ True,  True, False],\n",
              "       [ True,  True,  True],\n",
              "       [False,  True,  True]])"
            ]
          },
          "metadata": {
            "tags": []
          },
          "execution_count": 41
        }
      ]
    },
    {
      "cell_type": "code",
      "metadata": {
        "colab": {
          "base_uri": "https://localhost:8080/"
        },
        "id": "rX6_8_FO6sRk",
        "outputId": "b7864349-0c69-465e-c761-f75ad82449ef"
      },
      "source": [
        "(ANS.transpose()==ANS).all()"
      ],
      "execution_count": null,
      "outputs": [
        {
          "output_type": "execute_result",
          "data": {
            "text/plain": [
              "False"
            ]
          },
          "metadata": {
            "tags": []
          },
          "execution_count": 42
        }
      ]
    },
    {
      "cell_type": "markdown",
      "metadata": {
        "id": "3GzO0zPWqn-q"
      },
      "source": [
        "### Matriz permutadora, P\n",
        "\n",
        "Es una matriz cuyos elementos son ceros y unos, y donde sólo hay un uno por cada fila o columna.\n",
        "\n",
        "$$\n",
        "\\begin{bmatrix} \n",
        "0 & 1 & 0\\\\\n",
        "1 & 0 & 0\\\\\n",
        "0 & 0 & 1\\\\\n",
        "\\end{bmatrix}\n",
        "$$\n",
        "\n",
        "$$\n",
        "\\begin{bmatrix} \n",
        "1 & 0 & 0 & 0\\\\\n",
        "0 & 0 & 1 & 0\\\\\n",
        "0 & 1 & 0 & 0\\\\\n",
        "0 & 0 & 0 & 1\\\\\n",
        "\\end{bmatrix}\n",
        "$$\n",
        "\n",
        "Si una matriz $P$ se multiplica por una matriz $A$, se intercambian las filas de $A$. La multiplicación en el orden inverso itercambia las columnas de $A$."
      ]
    },
    {
      "cell_type": "code",
      "metadata": {
        "colab": {
          "base_uri": "https://localhost:8080/"
        },
        "id": "bKlTIK9usNlZ",
        "outputId": "152c19a4-e06e-44d8-bed2-e79da4092b59"
      },
      "source": [
        "P = np.array([[0,1,0],[1,0,0],[0,0,1]])\n",
        "A"
      ],
      "execution_count": null,
      "outputs": [
        {
          "output_type": "execute_result",
          "data": {
            "text/plain": [
              "array([[1, 2, 3],\n",
              "       [2, 3, 1],\n",
              "       [3, 1, 4]])"
            ]
          },
          "metadata": {
            "tags": []
          },
          "execution_count": 43
        }
      ]
    },
    {
      "cell_type": "code",
      "metadata": {
        "colab": {
          "base_uri": "https://localhost:8080/"
        },
        "id": "haPCOWPWsmdD",
        "outputId": "033969f7-a1ee-4a80-c39e-495cca55950d"
      },
      "source": [
        "# PA intercambian filas de A\n",
        "np.dot(P,A)"
      ],
      "execution_count": null,
      "outputs": [
        {
          "output_type": "execute_result",
          "data": {
            "text/plain": [
              "array([[2, 3, 1],\n",
              "       [1, 2, 3],\n",
              "       [3, 1, 4]])"
            ]
          },
          "metadata": {
            "tags": []
          },
          "execution_count": 44
        }
      ]
    },
    {
      "cell_type": "code",
      "metadata": {
        "colab": {
          "base_uri": "https://localhost:8080/"
        },
        "id": "ZvFmLMiksxBY",
        "outputId": "951cf5e0-2546-4377-d2aa-ae9b97b4a03a"
      },
      "source": [
        "# AP intercambian columnas de A\n",
        "np.dot(A,P)"
      ],
      "execution_count": null,
      "outputs": [
        {
          "output_type": "execute_result",
          "data": {
            "text/plain": [
              "array([[2, 1, 3],\n",
              "       [3, 2, 1],\n",
              "       [1, 3, 4]])"
            ]
          },
          "metadata": {
            "tags": []
          },
          "execution_count": 45
        }
      ]
    },
    {
      "cell_type": "markdown",
      "metadata": {
        "id": "43FCJE7ynBt6"
      },
      "source": [
        "## Inversa de una matriz\n",
        "\n",
        "Si $A$ y $B$ son dos matrices cuadradas, tal que\n",
        "\n",
        "$$A\\,B = I = B\\,A$$\n",
        "\n",
        "entonces, se dice que $B$ es la inversa de $A$. Normalmente se representa como $A^{-1}$.\n",
        "\n",
        "**Por ejemplo**: Sean \n",
        "\n",
        "$$A =\n",
        "\\begin{bmatrix} \n",
        "1 & 3 & 3\\\\\n",
        "1 & 4 & 3\\\\\n",
        "1 & 3 & 4\\\\\n",
        "\\end{bmatrix}\n",
        "$$\n",
        "\n",
        "$$B =\n",
        "\\begin{bmatrix} \n",
        "7 & -3 & -3\\\\\n",
        "-1 & -1 & 0\\\\\n",
        "-1 & 0 & 1\\\\\n",
        "\\end{bmatrix}\n",
        "$$"
      ]
    },
    {
      "cell_type": "code",
      "metadata": {
        "colab": {
          "base_uri": "https://localhost:8080/"
        },
        "id": "OW94dtFjlRcO",
        "outputId": "05c15519-d11d-42dd-dc57-2d584f126ddb"
      },
      "source": [
        "# El producto A B es I\n",
        "\n",
        "A = np.array([[1,3,3],[1,4,3],[1,3,4]])\n",
        "B = np.array([[7,-3,-3],[-1,1,0],[-1,0,1]])\n",
        "\n",
        "np.dot(A,B)"
      ],
      "execution_count": null,
      "outputs": [
        {
          "output_type": "execute_result",
          "data": {
            "text/plain": [
              "array([[1, 0, 0],\n",
              "       [0, 1, 0],\n",
              "       [0, 0, 1]])"
            ]
          },
          "metadata": {
            "tags": []
          },
          "execution_count": 46
        }
      ]
    },
    {
      "cell_type": "code",
      "metadata": {
        "colab": {
          "base_uri": "https://localhost:8080/"
        },
        "id": "o9Ap5z9OmJI9",
        "outputId": "e5c5bef9-b17e-427b-d489-cf584df8e582"
      },
      "source": [
        "# El producto B A es I\n",
        "np.dot(B,A)"
      ],
      "execution_count": null,
      "outputs": [
        {
          "output_type": "execute_result",
          "data": {
            "text/plain": [
              "array([[1, 0, 0],\n",
              "       [0, 1, 0],\n",
              "       [0, 0, 1]])"
            ]
          },
          "metadata": {
            "tags": []
          },
          "execution_count": 47
        }
      ]
    },
    {
      "cell_type": "markdown",
      "metadata": {
        "id": "4zIXFqrxozi6"
      },
      "source": [
        "por lo tanto \n",
        "$$B =\n",
        "\\begin{bmatrix} \n",
        "7 & -3 & -3\\\\\n",
        "-1 & -1 & 0\\\\\n",
        "-1 & 0 & 1\\\\\n",
        "\\end{bmatrix}\n",
        "$$\n",
        "\n",
        "es la inversa $(A^{-1})$ de $A$, y entonces $A$ es *no singular*.\n",
        "\n",
        "Si $A$ es diagonal\n",
        "\n",
        "$$A = \n",
        "\\begin{bmatrix} \n",
        "a_{1,1} & 0       & 0      & \\ldots & 0      \\\\\n",
        "0       & a_{2,2} & 0      & \\ldots & 0      \\\\\n",
        "0       &         & a_{3,3}& \\ldots & 0      \\\\\n",
        "\\vdots  & \\vdots  & \\vdots &        & \\vdots \\\\\n",
        "0       & 0       & 0      & \\ldots & a_{m,n}\\\\\n",
        "\\end{bmatrix}\n",
        "$$\n",
        "\n",
        "entonces\n",
        "\n",
        "$$A^{-1}=\n",
        "\\begin{bmatrix} \n",
        "1/a_{1,1} & 0       & 0      & \\ldots & 0      \\\\\n",
        "0       & 1/a_{2,2} & 0      & \\ldots & 0      \\\\\n",
        "0       &         & 1/a_{3,3}& \\ldots & 0      \\\\\n",
        "\\vdots  & \\vdots  & \\vdots &        & \\vdots \\\\\n",
        "0       & 0       & 0      & \\ldots & 1/a_{m,n}\\\\\n",
        "\\end{bmatrix}\n",
        "$$"
      ]
    },
    {
      "cell_type": "markdown",
      "metadata": {
        "id": "Cam7VKfYhvms"
      },
      "source": [
        "## Vectores\n",
        "\n",
        "Las matrices donde $m > 1$ y $n = 1$ son llamadas vectores columna. De igual manera, si $m = 1$ y $n >1$, se tiene un vector fila.\n",
        "\n",
        "**Ejemplo**:\n",
        "\n",
        "> **Vector columna**\n",
        "\n",
        "$$x =\n",
        "\\begin{bmatrix} \n",
        "x_1 \\\\\n",
        "x_2\\\\\n",
        "\\vdots\\\\\n",
        "x_m\n",
        "\\end{bmatrix}\n",
        "$$\n",
        "\n",
        "> **Vector fila**\n",
        "\n",
        "$$y =\n",
        "\\begin{bmatrix} \n",
        "y_1 & y_2 & \\ldots & y_n\\\\\n",
        "\\end{bmatrix}\n",
        "$$\n",
        "\n"
      ]
    },
    {
      "cell_type": "markdown",
      "metadata": {
        "id": "oorc3d8R20f9"
      },
      "source": [
        "### ¿Cómo se construyen vectores fila en python?"
      ]
    },
    {
      "cell_type": "code",
      "metadata": {
        "colab": {
          "base_uri": "https://localhost:8080/"
        },
        "id": "C4RBzrpqy3tV",
        "outputId": "36014abb-43c6-44b4-a50c-a76b7d6af6ab"
      },
      "source": [
        "# Construyendo un vector fila\n",
        "a = np.array([1,2,3])\n",
        "a"
      ],
      "execution_count": null,
      "outputs": [
        {
          "output_type": "execute_result",
          "data": {
            "text/plain": [
              "array([1, 2, 3])"
            ]
          },
          "metadata": {
            "tags": []
          },
          "execution_count": 48
        }
      ]
    },
    {
      "cell_type": "code",
      "metadata": {
        "colab": {
          "base_uri": "https://localhost:8080/"
        },
        "id": "hmwbcFcj104e",
        "outputId": "7fa586e7-f84d-46ae-9a5d-a119286aba03"
      },
      "source": [
        "type(a)"
      ],
      "execution_count": null,
      "outputs": [
        {
          "output_type": "execute_result",
          "data": {
            "text/plain": [
              "numpy.ndarray"
            ]
          },
          "metadata": {
            "tags": []
          },
          "execution_count": 49
        }
      ]
    },
    {
      "cell_type": "code",
      "metadata": {
        "colab": {
          "base_uri": "https://localhost:8080/"
        },
        "id": "w-NjLWLg15cM",
        "outputId": "1644d246-fa36-4ed3-92ff-37a36651a574"
      },
      "source": [
        "np.shape(a)"
      ],
      "execution_count": null,
      "outputs": [
        {
          "output_type": "execute_result",
          "data": {
            "text/plain": [
              "(3,)"
            ]
          },
          "metadata": {
            "tags": []
          },
          "execution_count": 50
        }
      ]
    },
    {
      "cell_type": "code",
      "metadata": {
        "colab": {
          "base_uri": "https://localhost:8080/"
        },
        "id": "A2uia20I2FnP",
        "outputId": "c80c5c18-b8f2-4648-965c-2419ebe40ded"
      },
      "source": [
        " a.shape"
      ],
      "execution_count": null,
      "outputs": [
        {
          "output_type": "execute_result",
          "data": {
            "text/plain": [
              "(3,)"
            ]
          },
          "metadata": {
            "tags": []
          },
          "execution_count": 51
        }
      ]
    },
    {
      "cell_type": "code",
      "metadata": {
        "colab": {
          "base_uri": "https://localhost:8080/"
        },
        "id": "r7_6dtpz2Hs2",
        "outputId": "84b59b67-1aa2-46bd-c9aa-d930191922a8"
      },
      "source": [
        "a.ndim"
      ],
      "execution_count": null,
      "outputs": [
        {
          "output_type": "execute_result",
          "data": {
            "text/plain": [
              "1"
            ]
          },
          "metadata": {
            "tags": []
          },
          "execution_count": 52
        }
      ]
    },
    {
      "cell_type": "code",
      "metadata": {
        "colab": {
          "base_uri": "https://localhost:8080/"
        },
        "id": "jN8PXhMT4lUC",
        "outputId": "1bbcc4ab-3579-41f4-fbc1-349a646bc473"
      },
      "source": [
        "a.size"
      ],
      "execution_count": null,
      "outputs": [
        {
          "output_type": "execute_result",
          "data": {
            "text/plain": [
              "3"
            ]
          },
          "metadata": {
            "tags": []
          },
          "execution_count": 53
        }
      ]
    },
    {
      "cell_type": "markdown",
      "metadata": {
        "id": "DN5WRBXv3PTn"
      },
      "source": [
        "### ¿Cómo se construyen vectores columna en python?"
      ]
    },
    {
      "cell_type": "code",
      "metadata": {
        "colab": {
          "base_uri": "https://localhost:8080/"
        },
        "id": "FnqOMvJWza6i",
        "outputId": "26bdea0c-43ee-407a-9e6e-5e2be84460a2"
      },
      "source": [
        "# Construyendo un vector columna\n",
        "b = np.array([[1],[2],[3]])\n",
        "b"
      ],
      "execution_count": null,
      "outputs": [
        {
          "output_type": "execute_result",
          "data": {
            "text/plain": [
              "array([[1],\n",
              "       [2],\n",
              "       [3]])"
            ]
          },
          "metadata": {
            "tags": []
          },
          "execution_count": 54
        }
      ]
    },
    {
      "cell_type": "code",
      "metadata": {
        "colab": {
          "base_uri": "https://localhost:8080/"
        },
        "id": "aKfZrqZD2MOC",
        "outputId": "b9a65793-f432-4f8e-f2e4-058c7300c45a"
      },
      "source": [
        "type(b)"
      ],
      "execution_count": null,
      "outputs": [
        {
          "output_type": "execute_result",
          "data": {
            "text/plain": [
              "numpy.ndarray"
            ]
          },
          "metadata": {
            "tags": []
          },
          "execution_count": 55
        }
      ]
    },
    {
      "cell_type": "code",
      "metadata": {
        "colab": {
          "base_uri": "https://localhost:8080/"
        },
        "id": "stlU9eHczlh6",
        "outputId": "3307f281-8702-4106-ba57-9243cbe2c8d4"
      },
      "source": [
        "b.shape"
      ],
      "execution_count": null,
      "outputs": [
        {
          "output_type": "execute_result",
          "data": {
            "text/plain": [
              "(3, 1)"
            ]
          },
          "metadata": {
            "tags": []
          },
          "execution_count": 56
        }
      ]
    },
    {
      "cell_type": "code",
      "metadata": {
        "colab": {
          "base_uri": "https://localhost:8080/"
        },
        "id": "XUq1AE8i2TJr",
        "outputId": "72223abb-9370-4b52-8a10-444043987166"
      },
      "source": [
        "b.ndim"
      ],
      "execution_count": null,
      "outputs": [
        {
          "output_type": "execute_result",
          "data": {
            "text/plain": [
              "2"
            ]
          },
          "metadata": {
            "tags": []
          },
          "execution_count": 57
        }
      ]
    },
    {
      "cell_type": "code",
      "metadata": {
        "colab": {
          "base_uri": "https://localhost:8080/"
        },
        "id": "vF97o_fI2WkS",
        "outputId": "d0230b85-1fd6-45a4-a13f-997c07de4beb"
      },
      "source": [
        "b.size"
      ],
      "execution_count": null,
      "outputs": [
        {
          "output_type": "execute_result",
          "data": {
            "text/plain": [
              "3"
            ]
          },
          "metadata": {
            "tags": []
          },
          "execution_count": 58
        }
      ]
    },
    {
      "cell_type": "markdown",
      "metadata": {
        "id": "xGU0Ur-fkPS5"
      },
      "source": [
        "### Transpuesta de un vector\n",
        "\n",
        "Si se tiene un vector columna, la transpuesta será un vector fila y viceversa."
      ]
    },
    {
      "cell_type": "code",
      "metadata": {
        "colab": {
          "base_uri": "https://localhost:8080/"
        },
        "id": "d9xW1FpZlgna",
        "outputId": "90f42479-a376-4ac1-c1de-27973319dd2f"
      },
      "source": [
        "# b es un vector columna\n",
        "b"
      ],
      "execution_count": null,
      "outputs": [
        {
          "output_type": "execute_result",
          "data": {
            "text/plain": [
              "array([[1],\n",
              "       [2],\n",
              "       [3]])"
            ]
          },
          "metadata": {
            "tags": []
          },
          "execution_count": 59
        }
      ]
    },
    {
      "cell_type": "code",
      "metadata": {
        "colab": {
          "base_uri": "https://localhost:8080/"
        },
        "id": "2zSHa0sBkj7m",
        "outputId": "4a383c1a-9ef7-4bab-cba6-ce7e69e80092"
      },
      "source": [
        "# Su transpuesta será un vector fila\n",
        "np.transpose(b)"
      ],
      "execution_count": null,
      "outputs": [
        {
          "output_type": "execute_result",
          "data": {
            "text/plain": [
              "array([[1, 2, 3]])"
            ]
          },
          "metadata": {
            "tags": []
          },
          "execution_count": 60
        }
      ]
    },
    {
      "cell_type": "code",
      "metadata": {
        "colab": {
          "base_uri": "https://localhost:8080/"
        },
        "id": "-VYwIgHSl0nV",
        "outputId": "8dd79e4a-f4c7-4d45-8082-3cfbdbb102db"
      },
      "source": [
        "np.transpose(b).shape"
      ],
      "execution_count": null,
      "outputs": [
        {
          "output_type": "execute_result",
          "data": {
            "text/plain": [
              "(1, 3)"
            ]
          },
          "metadata": {
            "tags": []
          },
          "execution_count": 61
        }
      ]
    },
    {
      "cell_type": "code",
      "metadata": {
        "colab": {
          "base_uri": "https://localhost:8080/"
        },
        "id": "uCqj-ki9l7K5",
        "outputId": "fee5173c-899b-44bd-fe0c-70b7e51981ab"
      },
      "source": [
        "# a es un vector fila\n",
        "a"
      ],
      "execution_count": null,
      "outputs": [
        {
          "output_type": "execute_result",
          "data": {
            "text/plain": [
              "array([1, 2, 3])"
            ]
          },
          "metadata": {
            "tags": []
          },
          "execution_count": 62
        }
      ]
    },
    {
      "cell_type": "code",
      "metadata": {
        "colab": {
          "base_uri": "https://localhost:8080/"
        },
        "id": "Tgb537rCkpK9",
        "outputId": "dc5d84fc-ef51-4e63-8f4d-8f81821fe078"
      },
      "source": [
        "a.shape"
      ],
      "execution_count": null,
      "outputs": [
        {
          "output_type": "execute_result",
          "data": {
            "text/plain": [
              "(3,)"
            ]
          },
          "metadata": {
            "tags": []
          },
          "execution_count": 63
        }
      ]
    },
    {
      "cell_type": "code",
      "metadata": {
        "colab": {
          "base_uri": "https://localhost:8080/"
        },
        "id": "siyBM2y1lJnC",
        "outputId": "04a07238-88b5-41a4-cfb5-75eb12c0eb97"
      },
      "source": [
        "# Para transponer a se usa el método reshape.\n",
        "a.reshape(3,1)"
      ],
      "execution_count": null,
      "outputs": [
        {
          "output_type": "execute_result",
          "data": {
            "text/plain": [
              "array([[1],\n",
              "       [2],\n",
              "       [3]])"
            ]
          },
          "metadata": {
            "tags": []
          },
          "execution_count": 64
        }
      ]
    },
    {
      "cell_type": "markdown",
      "metadata": {
        "id": "akMQm51bmWxc"
      },
      "source": [
        "### Multiplicación de vectores\n",
        "\n",
        "Se siguen las mismas reglas de multiplicación de las matrices."
      ]
    },
    {
      "cell_type": "code",
      "metadata": {
        "id": "7xXOcBxVlWk6"
      },
      "source": [
        "a = np.array([1,5,7])\n",
        "b = np.array([0,-2,3])"
      ],
      "execution_count": null,
      "outputs": []
    },
    {
      "cell_type": "code",
      "metadata": {
        "colab": {
          "base_uri": "https://localhost:8080/"
        },
        "id": "zcMbw3kjmthR",
        "outputId": "e430acf6-f3e6-4005-e814-1629b259415d"
      },
      "source": [
        "np.dot(a,b)"
      ],
      "execution_count": null,
      "outputs": [
        {
          "output_type": "execute_result",
          "data": {
            "text/plain": [
              "11"
            ]
          },
          "metadata": {
            "tags": []
          },
          "execution_count": 66
        }
      ]
    },
    {
      "cell_type": "code",
      "metadata": {
        "colab": {
          "base_uri": "https://localhost:8080/"
        },
        "id": "TiGtSHZZndRF",
        "outputId": "8465027e-d989-4e1e-c61e-828e90f69019"
      },
      "source": [
        "# ¿Es correcto el siguiente resultado?\n",
        "np.dot(b,a)"
      ],
      "execution_count": null,
      "outputs": [
        {
          "output_type": "execute_result",
          "data": {
            "text/plain": [
              "11"
            ]
          },
          "metadata": {
            "tags": []
          },
          "execution_count": 67
        }
      ]
    },
    {
      "cell_type": "code",
      "metadata": {
        "colab": {
          "base_uri": "https://localhost:8080/"
        },
        "id": "p-09Hwxan7ux",
        "outputId": "58b59a8b-8676-4f04-e10c-bab06cb7a0c0"
      },
      "source": [
        "# Hay que modificar los vectores a matrices\n",
        "\n",
        "np.dot(b.reshape(3,1),a.reshape(1,3))"
      ],
      "execution_count": null,
      "outputs": [
        {
          "output_type": "execute_result",
          "data": {
            "text/plain": [
              "array([[  0,   0,   0],\n",
              "       [ -2, -10, -14],\n",
              "       [  3,  15,  21]])"
            ]
          },
          "metadata": {
            "tags": []
          },
          "execution_count": 68
        }
      ]
    },
    {
      "cell_type": "code",
      "metadata": {
        "colab": {
          "base_uri": "https://localhost:8080/"
        },
        "id": "QPF3dz_qnRP5",
        "outputId": "9708f067-f74d-4e69-98a0-20eb205c35fe"
      },
      "source": [
        "b.reshape(3,1)"
      ],
      "execution_count": null,
      "outputs": [
        {
          "output_type": "execute_result",
          "data": {
            "text/plain": [
              "array([[ 0],\n",
              "       [-2],\n",
              "       [ 3]])"
            ]
          },
          "metadata": {
            "tags": []
          },
          "execution_count": 69
        }
      ]
    },
    {
      "cell_type": "code",
      "metadata": {
        "colab": {
          "base_uri": "https://localhost:8080/"
        },
        "id": "cZWLd8X1m_b2",
        "outputId": "694d070c-1550-4aa0-c8e9-0100e5438ded"
      },
      "source": [
        "np.dot(a,b.reshape(3,1))"
      ],
      "execution_count": null,
      "outputs": [
        {
          "output_type": "execute_result",
          "data": {
            "text/plain": [
              "array([11])"
            ]
          },
          "metadata": {
            "tags": []
          },
          "execution_count": 70
        }
      ]
    },
    {
      "cell_type": "markdown",
      "metadata": {
        "id": "kOTiiX4Op_-O"
      },
      "source": [
        "### Multiplicación de vectores por matrices"
      ]
    },
    {
      "cell_type": "code",
      "metadata": {
        "id": "E6Yfh4ihnHLF"
      },
      "source": [
        "a = np.array([1,-2,3])\n",
        "B = np.array([[0,4,3],[-1,8,2],[3,1,5]])"
      ],
      "execution_count": null,
      "outputs": []
    },
    {
      "cell_type": "code",
      "metadata": {
        "colab": {
          "base_uri": "https://localhost:8080/"
        },
        "id": "j_14Lv_LqX2l",
        "outputId": "e9fabb4b-7846-48c8-b958-64f2c15daf93"
      },
      "source": [
        "np.dot(a,B)"
      ],
      "execution_count": null,
      "outputs": [
        {
          "output_type": "execute_result",
          "data": {
            "text/plain": [
              "array([11, -9, 14])"
            ]
          },
          "metadata": {
            "tags": []
          },
          "execution_count": 72
        }
      ]
    },
    {
      "cell_type": "markdown",
      "metadata": {
        "id": "n3uv_l0oq7ov"
      },
      "source": [
        "### Producto punto\n",
        "\n",
        "$$a \\cdot b =\n",
        "\\begin{bmatrix} \n",
        "a_1 \\\\\n",
        "a_2\\\\\n",
        "\\vdots\\\\\n",
        "a_n\n",
        "\\end{bmatrix} \\cdot \\begin{bmatrix} \n",
        "b_1 \\\\\n",
        "b_2\\\\\n",
        "\\vdots\\\\\n",
        "b_n\n",
        "\\end{bmatrix} = a_1 b_1 + a_2 b_2 + \\ldots + a_n b_n\n",
        "$$\n",
        "\n",
        "\n",
        "\n",
        "\n"
      ]
    },
    {
      "cell_type": "code",
      "metadata": {
        "colab": {
          "base_uri": "https://localhost:8080/"
        },
        "id": "gdWyNGckqbYT",
        "outputId": "5da3244a-5373-4e94-c930-10358afb7013"
      },
      "source": [
        "a = np.array([2,1,6])\n",
        "b = np.array([-3,0,2.5])\n",
        "np.dot(a,b)"
      ],
      "execution_count": null,
      "outputs": [
        {
          "output_type": "execute_result",
          "data": {
            "text/plain": [
              "9.0"
            ]
          },
          "metadata": {
            "tags": []
          },
          "execution_count": 80
        }
      ]
    },
    {
      "cell_type": "markdown",
      "metadata": {
        "id": "Idr_zfv5yDj4"
      },
      "source": [
        "#### Propiedades del producto punto\n",
        "\n",
        "a. Conmutatividad\n",
        "\n",
        "$$a\\cdot b = b\\cdot a$$\n",
        "\n",
        "b. Distributividad\n",
        "\n",
        "$$(a+b)\\cdot c = a\\cdot c + b\\cdot c $$\n",
        "\n",
        "c. Asociatividad. Para cualquier número real $\\alpha$\n",
        "\n",
        "$$(\\alpha a)\\cdot b = \\alpha (a\\cdot b)$$\n",
        "\n",
        "d. Positividad\n",
        "\n",
        "$$a\\cdot a \\geq 0$$\n",
        "$$a\\cdot a = 0\\, \\text{si y sólo si}\\, a=0$$"
      ]
    },
    {
      "cell_type": "code",
      "metadata": {
        "colab": {
          "base_uri": "https://localhost:8080/"
        },
        "id": "NSl5Z0vG4xgr",
        "outputId": "380aced5-dfc9-4f55-f931-0d51da9ba4ff"
      },
      "source": [
        "# Conmutatividad\n",
        "np.dot(a,b) == np.dot(b,a)"
      ],
      "execution_count": null,
      "outputs": [
        {
          "output_type": "execute_result",
          "data": {
            "text/plain": [
              "True"
            ]
          },
          "metadata": {
            "tags": []
          },
          "execution_count": 83
        }
      ]
    },
    {
      "cell_type": "code",
      "metadata": {
        "colab": {
          "base_uri": "https://localhost:8080/"
        },
        "id": "KclBbPYjUihm",
        "outputId": "65266472-9ca5-4929-f0f2-bcea8989423f"
      },
      "source": [
        "# Distributividad\n",
        "c = np.array([2,3,4])\n",
        "np.dot(a+b,c) == np.dot(a,c) + np.dot(b,c)"
      ],
      "execution_count": null,
      "outputs": [
        {
          "output_type": "execute_result",
          "data": {
            "text/plain": [
              "True"
            ]
          },
          "metadata": {
            "tags": []
          },
          "execution_count": 87
        }
      ]
    },
    {
      "cell_type": "code",
      "metadata": {
        "colab": {
          "base_uri": "https://localhost:8080/"
        },
        "id": "SQafCadKVAkE",
        "outputId": "6d502b21-925f-4274-83c8-0c002982a75e"
      },
      "source": [
        "# Asociatividad\n",
        "alfa = 5.0\n",
        "np.dot(alfa*a,b) == alfa*np.dot(a,b)"
      ],
      "execution_count": null,
      "outputs": [
        {
          "output_type": "execute_result",
          "data": {
            "text/plain": [
              "True"
            ]
          },
          "metadata": {
            "tags": []
          },
          "execution_count": 88
        }
      ]
    },
    {
      "cell_type": "markdown",
      "metadata": {
        "id": "4g0ewMWJV-OW"
      },
      "source": [
        "### Longitud o norma de un vector\n",
        "\n",
        "Sea $x$ un vector cualquiera de dos elementos, su longitud denotada por $|x|$ es el número real no negativo.\n",
        "\n",
        "$$|x| = \\sqrt{x_1^2 + x_2^2}$$\n",
        "\n",
        "En términos del producto punto\n",
        "\n",
        "$$|x| = \\sqrt{x\\cdot x}$$\n",
        "\n",
        "Para un vector de $n$ componentes\n",
        "\n",
        "$$|x| = \\sqrt{x_1^2 + x_2^2 + \\ldots + x_n^2}$$\n",
        "\n",
        "**Ejemplo**: Calcule la norma de $a = [5,3,4]$\n",
        "\n",
        "$$|a| = \\sqrt{25+9+16} = 7.07$$\n",
        "\n",
        "Para calcular la norma de un vector se usa el método *norm*."
      ]
    },
    {
      "cell_type": "code",
      "metadata": {
        "colab": {
          "base_uri": "https://localhost:8080/",
          "height": 269
        },
        "id": "dMHH9YmuVtYb",
        "outputId": "a22c6047-810f-4364-bc6e-49679a97b9ca"
      },
      "source": [
        "import matplotlib.pyplot as plt\n",
        "plt.quiver([0], [0], [5], [4], \n",
        "           angles='xy', scale_units='xy', scale=1)\n",
        "\n",
        "plt.plot([5], [4], 'o')\n",
        "plt.text(5.5,4.5, r'$x=[x_1,x_2]$',fontsize=15)\n",
        "plt.text(0.5,4.0, r'$|x|=\\sqrt{x_1^2 + x_2^2}$',fontsize=15)\n",
        "plt.xlim(0, 10)\n",
        "plt.ylim(0, 10)\n",
        "plt.show()"
      ],
      "execution_count": null,
      "outputs": [
        {
          "output_type": "display_data",
          "data": {
            "image/png": "[encoded data removed]",
            "text/plain": [
              "<Figure size 432x288 with 1 Axes>"
            ]
          },
          "metadata": {
            "tags": [],
            "needs_background": "light"
          }
        }
      ]
    },
    {
      "cell_type": "code",
      "metadata": {
        "colab": {
          "base_uri": "https://localhost:8080/"
        },
        "id": "KlsrQ0WFXcdR",
        "outputId": "6839fbd3-d322-4e76-e26a-ff2e39a5dc1f"
      },
      "source": [
        "a = np.array([5,3,4])\n",
        "np.linalg.norm(a)"
      ],
      "execution_count": null,
      "outputs": [
        {
          "output_type": "execute_result",
          "data": {
            "text/plain": [
              "7.0710678118654755"
            ]
          },
          "metadata": {
            "tags": []
          },
          "execution_count": 133
        }
      ]
    },
    {
      "cell_type": "markdown",
      "metadata": {
        "id": "tnhkWL8YfzWB"
      },
      "source": [
        "### Ángulo entre vectores\n",
        "\n",
        "$$\\cos \\theta = \\dfrac{x\\cdot y}{|x|\\,|y|};\\,0\\leq\\theta\\leq\\pi$$\n"
      ]
    },
    {
      "cell_type": "code",
      "metadata": {
        "colab": {
          "base_uri": "https://localhost:8080/"
        },
        "id": "x6rAhn6Me8Gw",
        "outputId": "740d4edf-b0c0-4020-c757-6c294e8c0724"
      },
      "source": [
        "# Las funciones trigonométricas trabajan en radianes\n",
        "x = np.array([2,-3,4,1])\n",
        "y = np.array([-1,2,4,2])\n",
        "np.arccos(np.dot(x,y)/(np.linalg.norm(x)*np.linalg.norm(y)))"
      ],
      "execution_count": null,
      "outputs": [
        {
          "output_type": "execute_result",
          "data": {
            "text/plain": [
              "1.1970041519603862"
            ]
          },
          "metadata": {
            "tags": []
          },
          "execution_count": 136
        }
      ]
    },
    {
      "cell_type": "code",
      "metadata": {
        "colab": {
          "base_uri": "https://localhost:8080/"
        },
        "id": "Hwzs_w3nh9By",
        "outputId": "6fc196d5-23a2-40f8-e5d2-3dac7c11397a"
      },
      "source": [
        "# Convertir a grados\n",
        "np.degrees(np.arccos(np.dot(x,y)/(np.linalg.norm(x)*np.linalg.norm(y))))"
      ],
      "execution_count": null,
      "outputs": [
        {
          "output_type": "execute_result",
          "data": {
            "text/plain": [
              "68.58328596696637"
            ]
          },
          "metadata": {
            "tags": []
          },
          "execution_count": 137
        }
      ]
    },
    {
      "cell_type": "markdown",
      "metadata": {
        "id": "R9qYUtF2jNJt"
      },
      "source": [
        "### Distancia entre dos vectores\n",
        "\n",
        "$$d(x,y) = |x-y|$$"
      ]
    },
    {
      "cell_type": "code",
      "metadata": {
        "colab": {
          "base_uri": "https://localhost:8080/"
        },
        "id": "fVZvk_pAiw5W",
        "outputId": "fbb57503-83d5-4c5e-dbea-af2b7850124f"
      },
      "source": [
        "x = np.array([0,3,5,1])\n",
        "y = np.array([-2,1,-3,1])\n",
        "\n",
        "np.linalg.norm(x-y)"
      ],
      "execution_count": null,
      "outputs": [
        {
          "output_type": "execute_result",
          "data": {
            "text/plain": [
              "8.48528137423857"
            ]
          },
          "metadata": {
            "tags": []
          },
          "execution_count": 138
        }
      ]
    },
    {
      "cell_type": "code",
      "metadata": {
        "id": "D9dM3fgokLHN"
      },
      "source": [
        ""
      ],
      "execution_count": null,
      "outputs": []
    }
  ]
}