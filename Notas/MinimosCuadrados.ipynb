{
  "nbformat": 4,
  "nbformat_minor": 0,
  "metadata": {
    "colab": {
      "name": "MinimosCuadrados.ipynb",
      "provenance": []
    },
    "kernelspec": {
      "name": "python3",
      "display_name": "Python 3"
    },
    "language_info": {
      "name": "python"
    }
  },
  "cells": [
    {
      "cell_type": "code",
      "metadata": {
        "id": "oUasSw7rhyfd"
      },
      "source": [
        "import numpy as np\n",
        "import matplotlib.pyplot as plt"
      ],
      "execution_count": 1,
      "outputs": []
    },
    {
      "cell_type": "markdown",
      "metadata": {
        "id": "H9QGh2nJBSOV"
      },
      "source": [
        "# Aproximación de funciones por el método de mínimos cuadrados\n",
        "\n",
        "Se utiliza cuando la información contiene errores significativos; por ejemplo, cuando los datos provienen de experimentos. Es por ello que no tiene sentido hacer pasar un polinomio por los puntos, lo mejor es que pase cerca de ellos."
      ]
    },
    {
      "cell_type": "code",
      "metadata": {
        "id": "JgPHb5GYUzTK",
        "colab": {
          "base_uri": "https://localhost:8080/",
          "height": 265
        },
        "outputId": "f5315acd-5084-4fc8-c36f-88895b275b99"
      },
      "source": [
        "x = np.arange(10)\n",
        "y = 2.5*np.sin(x/20*np.pi)\n",
        "yerr = np.linspace(0.05,0.2,10)\n",
        "plt.plot(x,y,\"ko\")\n",
        "plt.show()"
      ],
      "execution_count": 2,
      "outputs": [
        {
          "output_type": "display_data",
          "data": {
            "image/png": "[encoded data removed]",
            "text/plain": [
              "<Figure size 432x288 with 1 Axes>"
            ]
          },
          "metadata": {
            "tags": [],
            "needs_background": "light"
          }
        }
      ]
    },
    {
      "cell_type": "code",
      "metadata": {
        "colab": {
          "base_uri": "https://localhost:8080/",
          "height": 265
        },
        "id": "TJ0QJLGwGKiC",
        "outputId": "1e9f42d6-02f1-44e1-e009-46c25b626104"
      },
      "source": [
        "x = np.arange(10)\n",
        "y = 2.5*np.sin(x/20*np.pi)\n",
        "yerr = np.linspace(0.05,0.2,10)\n",
        "plt.errorbar(x,y,yerr=yerr,fmt='o')\n",
        "plt.show()"
      ],
      "execution_count": 3,
      "outputs": [
        {
          "output_type": "display_data",
          "data": {
            "image/png": "[encoded data removed]",
            "text/plain": [
              "<Figure size 432x288 with 1 Axes>"
            ]
          },
          "metadata": {
            "tags": [],
            "needs_background": "light"
          }
        }
      ]
    },
    {
      "cell_type": "markdown",
      "metadata": {
        "id": "PAykr8uWH-g1"
      },
      "source": [
        "¿Cuántas curvas pueden pasar entre los puntos? Pues pueden pasar un número infinito de curvas. El método de mínimos cuadrados busca determinar la mejor curva, minimizando la sumatoria de las distancias entre el valor de la función de aproximación $p(x_i)$ y el valor de la función $f(x_i)$ de los datos.\n",
        "\n",
        "$$\\sum_{i=1}^{m}\\left|p(x_i)-f(x_i) \\right|^2 = \\sum_{i=1}^{m}d_i^2=\\text{mínimo}$$\n",
        "\n",
        "Si se utiliza un polinomio de grado uno\n",
        "\n",
        "$$p(x)=a_0 + a_1x$$\n",
        "\n",
        "para aproximar la función tabulada, el problema queda definido como\n",
        "\n",
        "$$\\sum_{i=1}^m\\left|a_0+a_1x_i-f(x_i)\\right|^2$$\n",
        "\n",
        "Entonces, del total de polinomios que pasan entre los puntos, se va a seleccionar aquél cuyos coeficientes $a_0$ y $a_1$ minimicen la sumatoria de la ecuación anterior."
      ]
    },
    {
      "cell_type": "markdown",
      "metadata": {
        "id": "tvjPgidTLMsu"
      },
      "source": [
        "Para minimizar la sumatoria, se deriva parcialmente respectoa a cada una de las variables, $a_0$ y $a_1$, y se iguala a cero cada derivada.\n",
        "\n",
        "$$\\dfrac{\\partial}{\\partial a_0}\\left[\\sum_{i=1}^m\\left|a_0+a_1x_i-f(x_i)\\right|^2\\right]=\\sum_{i=1}^m 2 \\left[a_0+a_1x_i-f(x_i)\\right] = 0$$\n",
        "\n",
        "$$\\dfrac{\\partial}{\\partial a_1}\\left[\\sum_{i=1}^m\\left|a_0+a_1x_i-f(x_i)\\right|^2\\right]=\\sum_{i=1}^m 2 \\left[a_0+a_1x_i-f(x_i)\\right]x_i = 0$$\n",
        "\n"
      ]
    },
    {
      "cell_type": "markdown",
      "metadata": {
        "id": "SfzgXf52Nq9z"
      },
      "source": [
        "Desarrollando las sumatorias\n",
        "\n",
        "$$[a_0+a_1x_1-f(x_1)]+[a_0+a_1x_2-f(x_2)]+\\ldots+[a_0+a_1x_m-f(x_m)]=0$$\n",
        "\n",
        "$$[a_0+a_1x_1^2-f(x_1)x_1]+[a_0+a_1x_2^2-f(x_2)x_2]+\\ldots+[a_0+a_1x_m^2-f(x_m)x_m]=0$$\n",
        "\n",
        "simplificando\n",
        "\n",
        "$$ma_0 + a_1 \\sum_{i=1}^m x_i = \\sum_{i=1}^m f(x_i)$$\n",
        "\n",
        "$$m\\sum_{i=1}^m x_i + a_1 \\sum_{i=1}^m x_i^2= \\sum_{i=1}^m f(x_i) x_i$$\n",
        "\n",
        "Resolviendo\n",
        "\n",
        "$$a_0 = \\dfrac{[\\sum_{i=1}^m f(x_i)][\\sum_{i=1}^m x_i^2]-[\\sum_{i=1}^m x_i][\\sum_{i=1}^m f(x_i)x_i] }{m \\sum_{i=1}^m x_i^2-[\\sum_{i=1}^m x_i]^2}$$\n",
        "\n",
        "$$a_1 = \\dfrac{m\\sum_{i=1}^m f(x_i)x_i-[\\sum_{i=1}^m f(x_i)][\\sum_{i=1}^m x_i]}{m\\sum_{i=1}^m x_i^2 - [\\sum_{i=1}^m x_i]^2}$$"
      ]
    },
    {
      "cell_type": "markdown",
      "metadata": {
        "id": "1hgYaywNQnTP"
      },
      "source": [
        "**Ejemplo**: En la siguiente tabla se presentan los alargamientos de un resorte $(m)$, correspondientes a fuerzas $(kgf)$ de diferente magnitud que lo deforman.\n",
        "\n",
        "<table class=\"egt\">\n",
        "  <tr><td>Puntos </td> <td>$0$</td><td>$1$</td><td>$2$</td><td>$3$</td><td>$4$</td></tr>\n",
        "  <tr><td>$Fuerza$</td><td>$0$</td><td>$2$</td><td>$3$</td><td>$6$</td><td>$7$</td></tr>\n",
        "  <tr><td>$Longitud$</td><td>$0.120$</td><td>$0.153$</td><td>$0.170$</td><td>$0.225$</td><td>$0.260$</td></tr>\n",
        "</table>\n",
        "\n",
        "Determine por mínimos cuadrados el mejor polinomio de primer grado que represente la función dada."
      ]
    },
    {
      "cell_type": "code",
      "metadata": {
        "id": "VrMHUXRiHhDj"
      },
      "source": [
        "Fxi = np.array([0,2,3,6,7])    # Variable independiente, xi \n",
        "Lyi = np.array([0.120, 0.153, 0.170, 0.225, 0.260])    # Variable dependiente, f(xi)\n"
      ],
      "execution_count": 4,
      "outputs": []
    },
    {
      "cell_type": "code",
      "metadata": {
        "id": "_aRUtFa1S-H5"
      },
      "source": [
        "SumFxi = np.sum(Fxi)\n",
        "SumLyi = np.sum(Lyi)\n",
        "SumFxi_pow2 = np.sum(Fxi**2)\n",
        "SumFxiLyi = np.sum(Fxi*Lyi)\n",
        "m = np.shape(Fxi)[0]\n",
        "# m = len(Fxi)   # Tambien se puede hacer de esta forma"
      ],
      "execution_count": 5,
      "outputs": []
    },
    {
      "cell_type": "code",
      "metadata": {
        "colab": {
          "base_uri": "https://localhost:8080/"
        },
        "id": "3q3grRk9VdVe",
        "outputId": "494483e0-03ff-4637-979c-2dc430f56c1b"
      },
      "source": [
        "a0 = (SumLyi*SumFxi_pow2 - SumFxi*SumFxiLyi)/(m*SumFxi_pow2-SumFxi**2)\n",
        "a0"
      ],
      "execution_count": 6,
      "outputs": [
        {
          "output_type": "execute_result",
          "data": {
            "text/plain": [
              "0.11563855421686738"
            ]
          },
          "metadata": {
            "tags": []
          },
          "execution_count": 6
        }
      ]
    },
    {
      "cell_type": "code",
      "metadata": {
        "colab": {
          "base_uri": "https://localhost:8080/"
        },
        "id": "F7m3pU6rV7u5",
        "outputId": "79cb50eb-2ca3-4a4c-e572-5ea75c340cfe"
      },
      "source": [
        "a1 = (m*SumFxiLyi - SumLyi*SumFxi)/(m*SumFxi_pow2-SumFxi**2)\n",
        "a1"
      ],
      "execution_count": 7,
      "outputs": [
        {
          "output_type": "execute_result",
          "data": {
            "text/plain": [
              "0.019433734939759053"
            ]
          },
          "metadata": {
            "tags": []
          },
          "execution_count": 7
        }
      ]
    },
    {
      "cell_type": "code",
      "metadata": {
        "colab": {
          "base_uri": "https://localhost:8080/",
          "height": 497
        },
        "id": "VveMuv1yX0i7",
        "outputId": "81408f19-118d-4370-c5d6-b7d12f0bf848"
      },
      "source": [
        "xinter = np.linspace(0,7,endpoint=True)\n",
        "plt.figure(figsize=(10,8))\n",
        "plt.plot(Fxi,Lyi,\"ko\")\n",
        "plt.plot(xinter,a0+a1*xinter,\"b-\")\n",
        "plt.xlabel(\"F\")\n",
        "plt.ylabel(\"L\")\n",
        "plt.show()"
      ],
      "execution_count": 8,
      "outputs": [
        {
          "output_type": "display_data",
          "data": {
            "image/png": "[encoded data removed]",
            "text/plain": [
              "<Figure size 720x576 with 1 Axes>"
            ]
          },
          "metadata": {
            "tags": [],
            "needs_background": "light"
          }
        }
      ]
    },
    {
      "cell_type": "markdown",
      "metadata": {
        "id": "pyd9vnUJdC1x"
      },
      "source": [
        "**Otras formas de resolver**\n",
        "\n",
        "$$\\begin{bmatrix}\n",
        "x_{11} & x_{12}& \\ldots & x_{1n}\\\\\n",
        "x_{21} & x_{22}& \\ldots & x_{2n}\\\\\n",
        "\\vdots & \\vdots& \\ddots & \\vdots\\\\\n",
        "x_{m1} & x_{m2}& \\ldots & x_{mn}\n",
        "\\end{bmatrix}\\begin{bmatrix}\n",
        "\\beta_1\\\\\n",
        "\\beta_2\\\\\n",
        "\\vdots\\\\\n",
        "\\beta_n\\\\\n",
        "\\end{bmatrix}=\\begin{bmatrix}\n",
        "y_1\\\\\n",
        "y_2\\\\\n",
        "\\vdots\\\\\n",
        "y_m\n",
        "\\end{bmatrix}$$\n",
        "\n",
        "donde $X$ es la matriz de Vandermonde $(V)$ de la variable x.\n",
        "\n",
        "$$V = \\begin{bmatrix}\n",
        "1 & \\alpha_1 & \\alpha_1^2 &\\ldots & \\alpha_1^n\\\\\n",
        "1 & \\alpha_2 & \\alpha_2^2 &\\ldots & \\alpha_2^n\\\\\n",
        "1 & \\alpha_3 & \\alpha_3^2 &\\ldots & \\alpha_3^n\\\\\n",
        "\\vdots & \\vdots& \\vdots &\\ddots & \\vdots\\\\\n",
        "1 & \\alpha_n & \\alpha_n^2 &\\ldots & \\alpha_n^n\\\\\n",
        "\\end{bmatrix}$$\n",
        "\n",
        "Para obtener los coeficientes, hay que resolver el sistema anterior de la forma siguiente:\n",
        "\n",
        "$$\\boldsymbol{\\beta} = (X^TX)^{-1}X^T\\boldsymbol{y}$$"
      ]
    },
    {
      "cell_type": "code",
      "metadata": {
        "colab": {
          "base_uri": "https://localhost:8080/"
        },
        "id": "mdL_LgVxYNca",
        "outputId": "4c0ff3f4-e4d9-4e6b-fc71-805715e120fc"
      },
      "source": [
        "X = np.vstack([Fxi, np.ones(len(Fxi))]).T\n",
        "X"
      ],
      "execution_count": 9,
      "outputs": [
        {
          "output_type": "execute_result",
          "data": {
            "text/plain": [
              "array([[0., 1.],\n",
              "       [2., 1.],\n",
              "       [3., 1.],\n",
              "       [6., 1.],\n",
              "       [7., 1.]])"
            ]
          },
          "metadata": {
            "tags": []
          },
          "execution_count": 9
        }
      ]
    },
    {
      "cell_type": "code",
      "metadata": {
        "colab": {
          "base_uri": "https://localhost:8080/"
        },
        "id": "Ki0d6ZP2ak_e",
        "outputId": "7f6811cf-53ba-48be-ffd9-40b19ece7812"
      },
      "source": [
        "beta = np.dot(np.linalg.inv(np.dot(X.T,X)),np.dot(X.T,Lyi))\n",
        "beta"
      ],
      "execution_count": 10,
      "outputs": [
        {
          "output_type": "execute_result",
          "data": {
            "text/plain": [
              "array([0.01943373, 0.11563855])"
            ]
          },
          "metadata": {
            "tags": []
          },
          "execution_count": 10
        }
      ]
    },
    {
      "cell_type": "markdown",
      "metadata": {
        "id": "xQ-ik9gop_M2"
      },
      "source": [
        "Utilizando el método _lstsqs_ de numpy"
      ]
    },
    {
      "cell_type": "code",
      "metadata": {
        "colab": {
          "base_uri": "https://localhost:8080/"
        },
        "id": "FpXtCWTnn8rk",
        "outputId": "b001aaf0-23af-4890-d6eb-113a225d8973"
      },
      "source": [
        "np.linalg.lstsq(X,Lyi,rcond=None)[0]"
      ],
      "execution_count": 11,
      "outputs": [
        {
          "output_type": "execute_result",
          "data": {
            "text/plain": [
              "array([0.01943373, 0.11563855])"
            ]
          },
          "metadata": {
            "tags": []
          },
          "execution_count": 11
        }
      ]
    },
    {
      "cell_type": "markdown",
      "metadata": {
        "id": "IkVFGl1iq7mh"
      },
      "source": [
        "Utilizando el método _polyfit_ de numpy para ajustar a un polinomio de primer grado de la forma\n",
        "\n",
        "$$y = mx+c$$\n"
      ]
    },
    {
      "cell_type": "code",
      "metadata": {
        "colab": {
          "base_uri": "https://localhost:8080/"
        },
        "id": "m6NVBEuCqQV_",
        "outputId": "2a5964c1-12fa-4d9c-b245-369283877640"
      },
      "source": [
        "m,c = np.polyfit(Fxi,Lyi,1)\n",
        "print (m,c)"
      ],
      "execution_count": 12,
      "outputs": [
        {
          "output_type": "stream",
          "text": [
            "0.01943373493975904 0.11563855421686749\n"
          ],
          "name": "stdout"
        }
      ]
    },
    {
      "cell_type": "markdown",
      "metadata": {
        "id": "SOQbKbx0LbVY"
      },
      "source": [
        "## Para polinomios de segundo grado \n",
        "\n",
        "$$p_2(x)=a_0 + a_1x_1 + a_2x^2$$\n",
        "\n",
        "se tiene que minimizar\n",
        "\n",
        "$$\\sum_{i=1}^m\\left[a_0 + a_1x_i + a_2x_i^2 - f(x_i)\\right]^2$$\n",
        "\n",
        "Los parámetros $a_0, a_1$ y $a_2$ se obtienen al resolver el sistema de ecuaciones que resulta de derivar parcialmente e igual a cero la función por minimizar con respecto a cada uno.\n",
        "\n",
        "$$\\begin{align*}\n",
        "ma_0 + a_1\\sum_{i=1}^m x_i + a_2 \\sum_{i=1}^m x_i^2\n",
        "&= \\sum_{i=1}^m f(x_i)\\\\\n",
        "a_0\\sum_{i=1}^m x_i + a_1\\sum_{i=1}^m x_i^2 + a_2\\sum_{i=1}^m x_i^3 &= \\sum_{i=1}^m f(x_i)x_i\\\\\n",
        "a_0\\sum_{i=1}^m x_i^2 + a_1\\sum_{i=1}^m x_i^3 + a_2\\sum_{i=1}^m x_i^4 &= \\sum_{i=1}^m f(x_i)x_i^2\n",
        "\\end{align*}$$"
      ]
    },
    {
      "cell_type": "markdown",
      "metadata": {
        "id": "kO9ZTO2RN9VV"
      },
      "source": [
        "**Ejemplo**: El calor específico $\\mathrm{C_p(cal/k gmol)}$ del $\\mathrm{Mn_3O_4}$ varía con la temperatura, $\\mathrm{T(K)}$, de acuerdo a la siguiente tabla.\n",
        "\n",
        "<table class=\"egt\">\n",
        "  <tr><td>Punto </td> <td>$0$</td><td>$1$</td><td>$2$</td><td>$3$</td><td>$4$</td><td>$5$</td></tr>\n",
        "  <tr><td>$T$</td><td>$280$</td><td>$650$</td><td>$1000$</td><td>$1200$</td><td>$1500$</td><td>$1700$</td></tr>\n",
        "  <tr><td>$C_p$</td><td>$32.7$</td><td>$45.4$</td><td>$52.15$</td><td>$53.7$</td><td>$52.9$</td><td>$50.3$</td></tr>\n",
        "</table>\n",
        "\n",
        "Aproxime esta información con un polinomio por el método de minimos cuadrados."
      ]
    },
    {
      "cell_type": "code",
      "metadata": {
        "id": "ILmR3LZBrkJF"
      },
      "source": [
        "Txi = np.array([280, 650, 1000, 1200, 1500, 1700])    # xi\n",
        "Cpfxi = np.array([32.7, 45.4, 52.15, 53.7, 52.9, 50.3])    #f(xi)\n"
      ],
      "execution_count": 13,
      "outputs": []
    },
    {
      "cell_type": "code",
      "metadata": {
        "id": "SgQJoK2pQY9w"
      },
      "source": [
        "SumTxi = np.sum(Txi)\n",
        "SumCpfxi = np.sum(Cpfxi)\n",
        "SumTxi_pow2 = np.sum(Txi**2)\n",
        "SumTxi_pow3 = np.sum(Txi**3)\n",
        "SumTxi_pow4 = np.sum(Txi**4)\n",
        "SumTxiCpfxi = np.sum(Txi*Cpfxi)\n",
        "SumTxiCpfxi2 = np.sum(Cpfxi*Txi**2)\n",
        "m = len(Txi)"
      ],
      "execution_count": 14,
      "outputs": []
    },
    {
      "cell_type": "code",
      "metadata": {
        "colab": {
          "base_uri": "https://localhost:8080/"
        },
        "id": "GtcVKfjCRLgK",
        "outputId": "f9a0f2b9-7b8f-435c-c996-b8f7f1b3a3c9"
      },
      "source": [
        "print(SumTxi,SumCpfxi,SumTxi_pow2,SumTxi_pow3,SumTxi_pow4,SumTxiCpfxi,SumTxiCpfxi2)"
      ],
      "execution_count": 15,
      "outputs": [
        {
          "output_type": "stream",
          "text": [
            "6330 287.15 8080900 11312577000 16672852810000 320116.0 415615180.0\n"
          ],
          "name": "stdout"
        }
      ]
    },
    {
      "cell_type": "markdown",
      "metadata": {
        "id": "7xmIlzMORtu3"
      },
      "source": [
        "Con los datos anteriores se obtiene el siguiente sistema\n",
        "\n",
        "$$\\begin{bmatrix}\n",
        "6 & 6330 & 8.08E6 \\\\\n",
        "6330 & 8.08E6 & 11.30E9\\\\\n",
        "8.08E6 & 11.31E9 & 166.72E11\n",
        "\\end{bmatrix}\\begin{bmatrix}\n",
        "a_0\\\\\n",
        "a_1\\\\\n",
        "a_2\n",
        "\\end{bmatrix} =\\begin{bmatrix}\n",
        "287.15\\\\\n",
        "320116\\\\\n",
        "415.61E6\n",
        "\\end{bmatrix} $$"
      ]
    },
    {
      "cell_type": "code",
      "metadata": {
        "id": "0PH8uGiARoPR"
      },
      "source": [
        "A = np.array([[6, 6330, 8.08e6],\n",
        "              [6330, 8.08e6, 11.30e9],\n",
        "              [8.08e6, 11.31e9, 166.72e11]])\n",
        "b = np.array([287.15, 320116, 415.61e6])"
      ],
      "execution_count": 16,
      "outputs": []
    },
    {
      "cell_type": "code",
      "metadata": {
        "colab": {
          "base_uri": "https://localhost:8080/"
        },
        "id": "DXXPdPpxT12V",
        "outputId": "e5494dc2-ada7-4354-e98f-1b9a2e00fb56"
      },
      "source": [
        "a0,a1,a2= np.linalg.solve(A,b)\n",
        "print(a0,a1,a2)\n"
      ],
      "execution_count": 17,
      "outputs": [
        {
          "output_type": "stream",
          "text": [
            "20.90498330522697 0.04967713613367377 -1.8902991529395654e-05\n"
          ],
          "name": "stdout"
        }
      ]
    },
    {
      "cell_type": "code",
      "metadata": {
        "colab": {
          "base_uri": "https://localhost:8080/"
        },
        "id": "NtWMTy2PUAVK",
        "outputId": "ae1e2089-64cd-45fb-abaf-b0af980feed4"
      },
      "source": [
        "CpdeT = np.poly1d([a2,a1,a0]) \n",
        "print(CpdeT)"
      ],
      "execution_count": 18,
      "outputs": [
        {
          "output_type": "stream",
          "text": [
            "           2\n",
            "-1.89e-05 x + 0.04968 x + 20.9\n"
          ],
          "name": "stdout"
        }
      ]
    },
    {
      "cell_type": "code",
      "metadata": {
        "colab": {
          "base_uri": "https://localhost:8080/",
          "height": 497
        },
        "id": "BVtAypZyVBED",
        "outputId": "ec24f45b-d743-48e0-a966-5b72d64c2abc"
      },
      "source": [
        "xinter = np.linspace(280,1700,endpoint=True)\n",
        "plt.figure(figsize=(10,8))\n",
        "plt.plot(Txi,Cpfxi,\"ko\")\n",
        "plt.plot(xinter,CpdeT(xinter),\"b-\")\n",
        "plt.xlabel(\"T\")\n",
        "plt.ylabel(\"Cp\")\n",
        "plt.show()"
      ],
      "execution_count": 19,
      "outputs": [
        {
          "output_type": "display_data",
          "data": {
            "image/png": "[encoded data removed]",
            "text/plain": [
              "<Figure size 720x576 with 1 Axes>"
            ]
          },
          "metadata": {
            "tags": [],
            "needs_background": "light"
          }
        }
      ]
    },
    {
      "cell_type": "markdown",
      "metadata": {
        "id": "sze6xKw6ah1e"
      },
      "source": [
        "**¡Cuidado!** al utilizar el método _polyfit_ de numpy"
      ]
    },
    {
      "cell_type": "code",
      "metadata": {
        "colab": {
          "base_uri": "https://localhost:8080/"
        },
        "id": "4aSo6EXzag5H",
        "outputId": "58cff903-5656-41dd-c094-5f0379257b50"
      },
      "source": [
        "np.polyfit(Txi,Cpfxi,2)"
      ],
      "execution_count": 20,
      "outputs": [
        {
          "output_type": "execute_result",
          "data": {
            "text/plain": [
              "array([-2.08787347e-05,  5.37277016e-02,  1.92954360e+01])"
            ]
          },
          "metadata": {
            "tags": []
          },
          "execution_count": 20
        }
      ]
    },
    {
      "cell_type": "code",
      "metadata": {
        "colab": {
          "base_uri": "https://localhost:8080/"
        },
        "id": "aJeTBQwea8CC",
        "outputId": "bf32431d-c31f-4fda-ae61-5b4f860363ab"
      },
      "source": [
        "CpdeT2 = np.poly1d(np.polyfit(Txi,Cpfxi,2))\n",
        "print(CpdeT2)"
      ],
      "execution_count": 21,
      "outputs": [
        {
          "output_type": "stream",
          "text": [
            "            2\n",
            "-2.088e-05 x + 0.05373 x + 19.3\n"
          ],
          "name": "stdout"
        }
      ]
    },
    {
      "cell_type": "code",
      "metadata": {
        "colab": {
          "base_uri": "https://localhost:8080/",
          "height": 279
        },
        "id": "dOZwcmzmbRWd",
        "outputId": "4fd7086e-ee7a-4e72-e60e-8b009c9b01f0"
      },
      "source": [
        "plt.plot(Txi,Cpfxi,\"ko\")\n",
        "plt.plot(xinter,CpdeT2(xinter),\"b-\")\n",
        "plt.xlabel(\"T\")\n",
        "plt.ylabel(\"Cp\")\n",
        "plt.show()"
      ],
      "execution_count": 22,
      "outputs": [
        {
          "output_type": "display_data",
          "data": {
            "image/png": "[encoded data removed]",
            "text/plain": [
              "<Figure size 432x288 with 1 Axes>"
            ]
          },
          "metadata": {
            "tags": [],
            "needs_background": "light"
          }
        }
      ]
    },
    {
      "cell_type": "markdown",
      "metadata": {
        "id": "d57vCDk0XC7W"
      },
      "source": [
        "## Para polinomios de grado $n$\n",
        "\n",
        "La función a minimizar es\n",
        "\n",
        "$$\\sum_{i=1}^m\\left[a_0 + a_1x_i + a_2x_i^2+\\ldots+a_nx_i^n - f(x_i)\\right]^2$$\n",
        "\n",
        "Se llega al siguiente sistema lineal\n",
        "\n",
        "$$\\begin{array}\n",
        "ma_0 & + & a_1\\sum x & + & a_2\\sum x^2 & + \\ldots +&a_n\\sum x^n &= \\sum  \\gamma\\\\\n",
        "a_0 \\sum x& + & a_1\\sum x^2 & + & a_2\\sum x^3 & + \\ldots +&a_n\\sum x^{n+1} &= \\sum  x\\gamma\\\\\n",
        "a_0 \\sum x^2& + & a_1\\sum x^3 & + & a_2\\sum x^4 & + \\ldots +&a_n\\sum x^{n+2} &= \\sum  x^2\\gamma\\\\\n",
        "\\vdots&  & &  &  &  \\vdots & &\\\\\n",
        "a_0 \\sum x^n& + & a_1\\sum x^{n+1} & + & a_2\\sum x^{n+2} & + \\ldots +&a_n\\sum x^{n+n} &= \\sum  x^n\\gamma\\\\\n",
        "\\end{array}$$"
      ]
    },
    {
      "cell_type": "markdown",
      "metadata": {
        "id": "rmVRQlX-aPYO"
      },
      "source": [
        "## Aproximación multilineal con mínimos cuadrados\n",
        "\n",
        "Se utiliza cuando se tiene funciones lineales de más de una variable $f(u,v,z)$ \n",
        "\n",
        "$$\\gamma = a_0 + a_1 u + a_2 v + a_3 z$$\n",
        "\n",
        "Por ejemplo, si se tienen los siguientes datos:\n",
        "\n",
        "<table class=\"egt\">\n",
        "  <tr><td>Puntos</td><td>$u$</td><td>$v$</td><td>$z$</td><td>$\\gamma$</td></tr>\n",
        "  <tr><td>$1$</td><td>$u_1$</td><td>$v_1$</td><td>$z_1$</td><td>$f(u_1,v_1,z_1)$</td></tr>\n",
        "  <tr><td>$2$</td><td>$u_2$</td><td>$v_2$</td><td>$z_2$</td><td>$f(u_2,v_2,z_2)$</td></tr>\n",
        "  <tr><td>$3$</td><td>$u_3$</td><td>$v_3$</td><td>$z_3$</td><td>$f(u_3,v_3,z_3)$</td></tr>\n",
        "  <tr><td>$\\vdots$</td><td>$\\vdots$</td><td>$\\vdots$</td><td>$\\vdots$</td><td>$\\vdots$</td></tr>\n",
        "  <tr><td>$m$</td><td>$u_m$</td><td>$v_m$</td><td>$z_m$</td><td>$f(u_m,v_m,z_m)$</td></tr>\n",
        "</table>\n",
        "\n",
        "\n",
        "Al aplicar el método de mínimos cuadrados, se tiene\n",
        "\n",
        "$$\\begin{align*}\n",
        "\\dfrac{\\partial}{\\partial a_0}\\sum_{i=1}^m[(a_0+a_1u_i+a_2v_i+a_3z_i)-\\gamma_i]^2 & = 2\\sum_{i=1}^m ((a_0+a_1u_i+a_2v_i+a_3z_i)-\\gamma_i) = 0\\\\\n",
        "\\dfrac{\\partial}{\\partial a_1}\\sum_{i=1}^m[(a_0+a_1u_i+a_2v_i+a_3z_i)-\\gamma_i]^2 & = 2\\sum_{i=1}^m ((a_0+a_1u_i+a_2v_i+a_3z_i)-\\gamma_i)u_i = 0\\\\\n",
        "\\dfrac{\\partial}{\\partial a_2}\\sum_{i=1}^m[(a_0+a_1u_i+a_2v_i+a_3z_i)-\\gamma_i]^2 & = 2\\sum_{i=1}^m ((a_0+a_1u_i+a_2v_i+a_3z_i)-\\gamma_i)v_i = 0\\\\\n",
        "\\dfrac{\\partial}{\\partial a_3}\\sum_{i=1}^m[(a_0+a_1u_i+a_2v_i+a_3z_i)-\\gamma_i]^2 & = 2\\sum_{i=1}^m ((a_0+a_1u_i+a_2v_i+a_3z_i)-\\gamma_i) z_i= 0\\\\\n",
        "\\end{align*}$$\n",
        "\n",
        "Las ecuaciones anteriores forman un sistema algebraico lineal\n",
        "\n",
        "$$\\begin{array}{ccccccccc}\n",
        "m a_0 & + & a_1\\sum u & + & a_2\\sum v & + a_3\\sum z &= \\sum  \\gamma\\\\\n",
        "a_0\\sum u & + & a_1\\sum u^2 & + & a_2\\sum uv & + a_3\\sum uz &= \\sum  u\\gamma\\\\\n",
        "a_0\\sum v & + & a_1\\sum vu & + & a_2\\sum v^2 & + a_3\\sum vz &= \\sum  v\\gamma\\\\\n",
        "a_0\\sum z & + & a_1\\sum zu & + & a_2\\sum zv & + a_3\\sum z^2 &= \\sum  z\\gamma\\\\\n",
        "\\end{array}$$"
      ]
    },
    {
      "cell_type": "markdown",
      "metadata": {
        "id": "9s14VLQjjSu0"
      },
      "source": [
        "**Ejemplo**: A partir del estudio experimental acerca de la estabilización de arcilla muy plástica, pudo observarse que el contenido de agua para moldeo con densidad óptima dependía linealmente de los porcentajes de cal y puzolana mezclados con la arcilla. Se obtuvieron así los siguientes resultados.\n",
        "\n",
        "<table class=\"egt\">\n",
        "  <tr><td>Agua(%)</td><td>Cal(%)</td><td>Puzolana(%)</td></tr>\n",
        "  <tr><td>$\\gamma$</td><td>$u$</td><td>$v$</td></tr>\n",
        "  <tr><td>$27.5$</td><td>$2.0$</td><td>$18.0$</td></tr>\n",
        "  <tr><td>$28.0$</td><td>$3.5$</td><td>$16.5$</td></tr>\n",
        "  <tr><td>$28.8$</td><td>$4.5$</td><td>$10.5$</td></tr>\n",
        "  <tr><td>$29.1$</td><td>$2.5$</td><td>$2.5$</td></tr>\n",
        "  <tr><td>$30.0$</td><td>$8.5$</td><td>$9.0$</td></tr>\n",
        "  <tr><td>$31.0$</td><td>$10.5$</td><td>$4.5$</td></tr>\n",
        "  <tr><td>$32.0$</td><td>$13.5$</td><td>$1.5$</td></tr>\n",
        "</table>\n",
        "\n",
        "Ajuste los datos a una ecuación de la forma\n",
        "\n",
        "$$\\gamma = a_0 + a_1 u + a_2 v$$"
      ]
    },
    {
      "cell_type": "markdown",
      "metadata": {
        "id": "NTIKY_m-lkQz"
      },
      "source": [
        "El sistema a resolver es\n",
        "\n",
        "$$\\begin{array}{ccccccccc}\n",
        "m a_0     & + & a_1\\sum u & + & a_2\\sum v &=& \\sum  \\gamma\\\\\n",
        "a_0\\sum u & + & a_1\\sum u^2 & + & a_2\\sum uv &=& \\sum  u\\gamma\\\\\n",
        "a_0\\sum v & + & a_1\\sum vu & + & a_2\\sum v^2 &=& \\sum  v\\gamma\\\\\n",
        "\\end{array}$$"
      ]
    },
    {
      "cell_type": "code",
      "metadata": {
        "id": "Vxx50s3UViRW"
      },
      "source": [
        "u = np.array([2.0, 3.5, 4.5, 2.5, 8.5, 10.5, 13.5])\n",
        "v = np.array([18.0, 16.5, 10.5, 2.5, 9.0, 4.5, 1.5])\n",
        "gamma = np.array([27.5, 28.0, 28.8, 29.1, 30.0, 31.0, 32.0])"
      ],
      "execution_count": 23,
      "outputs": []
    },
    {
      "cell_type": "code",
      "metadata": {
        "id": "GNz5kjiInSKs"
      },
      "source": [
        "Sumu = np.sum(u)\n",
        "Sumv = np.sum(v)\n",
        "Sumgamma = np.sum(gamma)\n",
        "Sumu2 = np.sum(u**2)\n",
        "Sumv2 = np.sum(v**2)\n",
        "Sumuv = np.sum(u*v)\n",
        "Sumugamma = np.sum(u*gamma)\n",
        "Sumvgamma = np.sum(v*gamma)"
      ],
      "execution_count": 24,
      "outputs": []
    },
    {
      "cell_type": "code",
      "metadata": {
        "id": "mr26zY1eoB8x"
      },
      "source": [
        "A = np.array([[len(u), Sumu, Sumv],[Sumu,Sumu2,Sumuv],[Sumv,Sumuv,Sumv2]])\n",
        "b = np.array([Sumgamma, Sumugamma,Sumvgamma])"
      ],
      "execution_count": 25,
      "outputs": []
    },
    {
      "cell_type": "code",
      "metadata": {
        "colab": {
          "base_uri": "https://localhost:8080/"
        },
        "id": "7hUJMh_Oojsm",
        "outputId": "83e029c0-1a9f-4804-f0b1-380347fa81d2"
      },
      "source": [
        "a0,a1,a2 = np.linalg.solve(A,b)\n",
        "print(a0,a1,a2)"
      ],
      "execution_count": 26,
      "outputs": [
        {
          "output_type": "stream",
          "text": [
            "28.691713508833963 0.2569392657261652 -0.09606818431224294\n"
          ],
          "name": "stdout"
        }
      ]
    },
    {
      "cell_type": "markdown",
      "metadata": {
        "id": "DDY5COkDgQtJ"
      },
      "source": [
        "## Ajuste de funciones genéricas, $f(x)$, por mínimos cuadrados\n",
        "\n",
        "Se utiliza el método _leastsq_ del paquete **optimize** de la biblioteca _scipy_.\n"
      ]
    },
    {
      "cell_type": "code",
      "metadata": {
        "id": "Fth6VYkrqa4B"
      },
      "source": [
        "from scipy.optimize import leastsq\n",
        "\n",
        "# Datos experimentales\n",
        "T = np.array([280, 650, 1000, 1200, 1500, 1700])    # xi\n",
        "Cp = np.array([32.7, 45.4, 52.15, 53.7, 52.9, 50.3])    #f(xi)\n",
        "\n",
        "# Construir una función objetivo\n",
        "def funcion_objetivo(p,x,y):\n",
        "  error = y - (p[2]*x**2 + p[1]*x + p[0])\n",
        "  return error\n",
        "\n",
        "\n",
        "# Valores iniciales con los que se inicia la búsqueda para p[2]*x**2 + p[1]*x + p[0] \n",
        "p0 = [1, 1, 10]\n",
        "\n",
        "\"\"\"\n",
        "En el método leastsq(); el primer parámetro es la funcion objetivo (de residuos), \n",
        "luego los valores iniciales y una tupla con los argumentos de la funcion objetivo,\n",
        "en este caso, T y Cp en ese orden.\n",
        "\"\"\"\n",
        "\n",
        "ajuste = leastsq(funcion_objetivo,p0,args=(T,Cp))"
      ],
      "execution_count": 27,
      "outputs": []
    },
    {
      "cell_type": "code",
      "metadata": {
        "colab": {
          "base_uri": "https://localhost:8080/"
        },
        "id": "f6hczm4dkcXL",
        "outputId": "83174be2-08f6-4626-efb3-d9364e3efeac"
      },
      "source": [
        "print(ajuste)"
      ],
      "execution_count": 28,
      "outputs": [
        {
          "output_type": "stream",
          "text": [
            "(array([ 1.92954360e+01,  5.37277016e-02, -2.08787347e-05]), 3)\n"
          ],
          "name": "stdout"
        }
      ]
    },
    {
      "cell_type": "code",
      "metadata": {
        "colab": {
          "base_uri": "https://localhost:8080/"
        },
        "id": "jK-vDi9Vkfzu",
        "outputId": "2c209ab7-86c7-4762-8d3f-f24eb0fcbd48"
      },
      "source": [
        "a0,a1,a2 = ajuste[0]\n",
        "print(a0,a1,a2)"
      ],
      "execution_count": 29,
      "outputs": [
        {
          "output_type": "stream",
          "text": [
            "19.295435965895717 0.053727701608657474 -2.087873466794246e-05\n"
          ],
          "name": "stdout"
        }
      ]
    },
    {
      "cell_type": "code",
      "metadata": {
        "colab": {
          "base_uri": "https://localhost:8080/",
          "height": 497
        },
        "id": "0fqLE_1XlLTt",
        "outputId": "794b4e61-2567-47f3-e375-62792fb65a88"
      },
      "source": [
        "xinter = np.linspace(280,1700,endpoint=True)\n",
        "plt.figure(figsize=(10,8))\n",
        "plt.plot(T,Cp,\"ko\")\n",
        "plt.plot(xinter,a0 + a1*xinter + a2*xinter**2,\"b-\")\n",
        "plt.xlabel(\"T\")\n",
        "plt.ylabel(\"Cp\")\n",
        "plt.legend(('Datos experimentales', 'Ajuste con leastsq'))\n",
        "plt.show()"
      ],
      "execution_count": 30,
      "outputs": [
        {
          "output_type": "display_data",
          "data": {
            "image/png": "[encoded data removed]",
            "text/plain": [
              "<Figure size 720x576 with 1 Axes>"
            ]
          },
          "metadata": {
            "tags": [],
            "needs_background": "light"
          }
        }
      ]
    },
    {
      "cell_type": "markdown",
      "metadata": {
        "id": "pPW2lcaBmdvA"
      },
      "source": [
        "**Otro ejemplo**\n"
      ]
    },
    {
      "cell_type": "code",
      "metadata": {
        "id": "ZBz3F9s2l3gY"
      },
      "source": [
        "from scipy import random\n",
        "\"\"\"\n",
        "Se van a generar datos artificiales a partir de una función fx, posteriormente a \n",
        "éstos datos se le va a agregar un \"ruido\" para simular el error experimental\n",
        "(medida), añadiendole un valor aleatorio.\n",
        "\"\"\"\n",
        "x = np.arange(0,0.1,0.003)\n",
        "A, k, theta = 10.0,33.3, np.pi/5.0\n",
        "fx = A*np.sin(2*np.pi*k*x + theta)\n",
        "datos_exp = fx + 2*random.randn(len(x))"
      ],
      "execution_count": 31,
      "outputs": []
    },
    {
      "cell_type": "code",
      "metadata": {
        "colab": {
          "base_uri": "https://localhost:8080/",
          "height": 497
        },
        "id": "KYR8cQKkoXfi",
        "outputId": "006d6396-5a72-420b-b1bf-f44118944f99"
      },
      "source": [
        "plt.figure(figsize=(10,8))\n",
        "plt.plot(x,fx,\"k-\")\n",
        "plt.plot(x,datos_exp,\"bo\")\n",
        "plt.xlabel(\"T\")\n",
        "plt.ylabel(\"Cp\")\n",
        "plt.legend((r'$f(x)$', 'Datos experimentales'))\n",
        "plt.show()"
      ],
      "execution_count": 32,
      "outputs": [
        {
          "output_type": "display_data",
          "data": {
            "image/png": "[encoded data removed]",
            "text/plain": [
              "<Figure size 720x576 with 1 Axes>"
            ]
          },
          "metadata": {
            "tags": [],
            "needs_background": "light"
          }
        }
      ]
    },
    {
      "cell_type": "code",
      "metadata": {
        "id": "TIc_mrqzo1nr"
      },
      "source": [
        "\"\"\"\n",
        "Con leastsq se va a ajustar los datos experimenrales (datos_exp) a la función\n",
        "f(x) = A*sin(2*pi*k*x + theta)\n",
        "\"\"\"\n",
        "# Función objetivo\n",
        "def funcion_objetivo(p,x,y):\n",
        "  A,k,theta = p\n",
        "  return y -  A*np.sin(2*np.pi*k*x + theta)\n",
        "\n",
        "# Valores iniciales\n",
        "p0 = [8.0,30.0,np.pi/3]\n",
        "\n",
        "# Se llama a leastsq para realizar el ajuste\n",
        "\n",
        "p = leastsq(funcion_objetivo, p0, args=(x,datos_exp))[0]"
      ],
      "execution_count": 33,
      "outputs": []
    },
    {
      "cell_type": "code",
      "metadata": {
        "colab": {
          "base_uri": "https://localhost:8080/"
        },
        "id": "KLG6NTtkrW8B",
        "outputId": "a332f4ca-50c9-40d2-bcab-474251537279"
      },
      "source": [
        "# A, k, theta = 10.0,33.3, np.pi/5.0\n",
        "print(p)"
      ],
      "execution_count": 34,
      "outputs": [
        {
          "output_type": "stream",
          "text": [
            "[ 9.73858084 33.22724441  0.68627561]\n"
          ],
          "name": "stdout"
        }
      ]
    },
    {
      "cell_type": "code",
      "metadata": {
        "colab": {
          "base_uri": "https://localhost:8080/",
          "height": 497
        },
        "id": "_Pso6lWtrYfd",
        "outputId": "84285e82-8713-4c75-82c9-133f74f25234"
      },
      "source": [
        "def funcion(x, p):\n",
        "    return p[0]*np.sin(2*np.pi*p[1]*x + p[2])\n",
        "\n",
        "plt.figure(figsize=(10,8))\n",
        "plt.plot(x,datos_exp,\"ko\")\n",
        "plt.plot(x,funcion(x,p),\"b-\")\n",
        "plt.xlabel(\"T\")\n",
        "plt.ylabel(\"Cp\")\n",
        "plt.legend(('Datos experimentales',r'$f(x)$' ))\n",
        "plt.show()"
      ],
      "execution_count": 35,
      "outputs": [
        {
          "output_type": "display_data",
          "data": {
            "image/png": "[encoded data removed]",
            "text/plain": [
              "<Figure size 720x576 with 1 Axes>"
            ]
          },
          "metadata": {
            "tags": [],
            "needs_background": "light"
          }
        }
      ]
    },
    {
      "cell_type": "markdown",
      "metadata": {
        "id": "JgsOPvueFf7q"
      },
      "source": [
        "# Regresión lineal con _scikit-learn_\n",
        "\n",
        "[_scikit-learn_](https://scikit-learn.org/stable/) es una biblioteca para el aprendizaje automático (machine learning).\n",
        "\n",
        "**Ejemplo**: Para este ejemplo se van a generar datos artificiales a partir de una función $f(x)$, posteriormente a éstos datos se le va a agregar un \"ruido\" para simular el error experimental\n",
        "(medida), añadiendole un ruido gausiano $(N(0,0.2))$.\n",
        "\n",
        "La función es \n",
        "\n",
        "$$y = 0.1x + 1.25 + N(0,0.2)$$"
      ]
    },
    {
      "cell_type": "markdown",
      "metadata": {
        "id": "7foNDeGHQP_B"
      },
      "source": [
        "Regresión lineal con una variable\n",
        "\n",
        "$$y = b + wx$$\n",
        "\n",
        "para cuando se tiene un dato con $N$ variables (regresión lineal múltivariable), se designará a $X$ como el dato y con $W$ a los parámetros.\n",
        "\n",
        "$$\\begin{align*}\n",
        "X &= [x_0, x_1, x_2,\\ldots,x_N]\\\\\n",
        "W &= [w_0, w_1, w_2,\\ldots,w_N]\n",
        "\\end{align*}$$\n",
        "\n",
        "Haciendo $x_0=1$ y $w_0=b$, se tiene\n",
        "\n",
        "$$y = w_0x_0 + w_1x_1 = b + wx $$\n",
        "\n",
        "Para el caso general:\n",
        "\n",
        "$$y = WX$$\n",
        "\n",
        "En la matriz $X$:\n",
        "\n",
        "> $M$ filas: cada fila es un dato (variable).\n",
        "\n",
        "> $N$ columnas: cada columna es atributo relevante"
      ]
    },
    {
      "cell_type": "code",
      "metadata": {
        "id": "sOqhhydwtz-2"
      },
      "source": [
        "# Importamos el modulo LinearRegression\n",
        "from sklearn.linear_model import LinearRegression"
      ],
      "execution_count": 36,
      "outputs": []
    },
    {
      "cell_type": "code",
      "metadata": {
        "id": "OfxVSWCVIQHd"
      },
      "source": [
        "def f(x):    # Creamos la función f(x)\n",
        "  np.random.seed(42)\n",
        "  return 0.1*x + 1.25 + 0.2*np.random.rand(x.shape[0])"
      ],
      "execution_count": 37,
      "outputs": []
    },
    {
      "cell_type": "code",
      "metadata": {
        "id": "WOlIMyXkI6Ta"
      },
      "source": [
        "x = np.arange(0,20,0.5)    # creamos un arreglo para la variable independiente x"
      ],
      "execution_count": 38,
      "outputs": []
    },
    {
      "cell_type": "code",
      "metadata": {
        "colab": {
          "base_uri": "https://localhost:8080/"
        },
        "id": "3LZ5RtH7JLid",
        "outputId": "bd38a703-1977-48a1-ed5b-ff91435ff509"
      },
      "source": [
        "y = f(x)\n",
        "y"
      ],
      "execution_count": 39,
      "outputs": [
        {
          "output_type": "execute_result",
          "data": {
            "text/plain": [
              "array([1.32490802, 1.49014286, 1.49639879, 1.5197317 , 1.48120373,\n",
              "       1.5311989 , 1.56161672, 1.77323523, 1.770223  , 1.84161452,\n",
              "       1.7541169 , 1.99398197, 2.01648853, 1.94246782, 1.98636499,\n",
              "       2.0366809 , 2.11084845, 2.20495129, 2.236389  , 2.25824583,\n",
              "       2.37237058, 2.32789877, 2.40842893, 2.47327237, 2.541214  ,\n",
              "       2.65703519, 2.58993476, 2.70284689, 2.76848291, 2.70929008,\n",
              "       2.87150897, 2.83410482, 2.86301032, 3.08977711, 3.14312641,\n",
              "       3.16167947, 3.11092275, 3.11953442, 3.28684661, 3.2880305 ])"
            ]
          },
          "metadata": {
            "tags": []
          },
          "execution_count": 39
        }
      ]
    },
    {
      "cell_type": "code",
      "metadata": {
        "colab": {
          "base_uri": "https://localhost:8080/"
        },
        "id": "hkQLmF8RzNmX",
        "outputId": "3620ce6e-208e-4e75-d98f-ae513421d9d6"
      },
      "source": [
        "len(y)"
      ],
      "execution_count": 40,
      "outputs": [
        {
          "output_type": "execute_result",
          "data": {
            "text/plain": [
              "40"
            ]
          },
          "metadata": {
            "tags": []
          },
          "execution_count": 40
        }
      ]
    },
    {
      "cell_type": "code",
      "metadata": {
        "colab": {
          "base_uri": "https://localhost:8080/",
          "height": 513
        },
        "id": "tjyRwtazJOhM",
        "outputId": "79a475c8-a4af-42bf-f710-2147f55743af"
      },
      "source": [
        "plt.figure(figsize=(10,8))\n",
        "plt.scatter(x,y,label='data', color='blue')\n",
        "plt.title('Datos')\n",
        "plt.xlabel(r\"$x$\")\n",
        "plt.ylabel(r\"$f(x)$\")\n",
        "plt.legend(('Datos experimentales'))\n",
        "plt.show()"
      ],
      "execution_count": 41,
      "outputs": [
        {
          "output_type": "display_data",
          "data": {
            "image/png": "[encoded data removed]",
            "text/plain": [
              "<Figure size 720x576 with 1 Axes>"
            ]
          },
          "metadata": {
            "tags": [],
            "needs_background": "light"
          }
        }
      ]
    },
    {
      "cell_type": "code",
      "metadata": {
        "colab": {
          "base_uri": "https://localhost:8080/"
        },
        "id": "bQ0v7_QnMYpP",
        "outputId": "5d924505-868c-4d7b-eeea-1dc75036327c"
      },
      "source": [
        "x.shape"
      ],
      "execution_count": 42,
      "outputs": [
        {
          "output_type": "execute_result",
          "data": {
            "text/plain": [
              "(40,)"
            ]
          },
          "metadata": {
            "tags": []
          },
          "execution_count": 42
        }
      ]
    },
    {
      "cell_type": "code",
      "metadata": {
        "colab": {
          "base_uri": "https://localhost:8080/"
        },
        "id": "Ly-OFPrKMBhT",
        "outputId": "7760a904-e159-4762-afb0-a5aacc714e8e"
      },
      "source": [
        "x.reshape(len(x),1)"
      ],
      "execution_count": 43,
      "outputs": [
        {
          "output_type": "execute_result",
          "data": {
            "text/plain": [
              "array([[ 0. ],\n",
              "       [ 0.5],\n",
              "       [ 1. ],\n",
              "       [ 1.5],\n",
              "       [ 2. ],\n",
              "       [ 2.5],\n",
              "       [ 3. ],\n",
              "       [ 3.5],\n",
              "       [ 4. ],\n",
              "       [ 4.5],\n",
              "       [ 5. ],\n",
              "       [ 5.5],\n",
              "       [ 6. ],\n",
              "       [ 6.5],\n",
              "       [ 7. ],\n",
              "       [ 7.5],\n",
              "       [ 8. ],\n",
              "       [ 8.5],\n",
              "       [ 9. ],\n",
              "       [ 9.5],\n",
              "       [10. ],\n",
              "       [10.5],\n",
              "       [11. ],\n",
              "       [11.5],\n",
              "       [12. ],\n",
              "       [12.5],\n",
              "       [13. ],\n",
              "       [13.5],\n",
              "       [14. ],\n",
              "       [14.5],\n",
              "       [15. ],\n",
              "       [15.5],\n",
              "       [16. ],\n",
              "       [16.5],\n",
              "       [17. ],\n",
              "       [17.5],\n",
              "       [18. ],\n",
              "       [18.5],\n",
              "       [19. ],\n",
              "       [19.5]])"
            ]
          },
          "metadata": {
            "tags": []
          },
          "execution_count": 43
        }
      ]
    },
    {
      "cell_type": "code",
      "metadata": {
        "colab": {
          "base_uri": "https://localhost:8080/"
        },
        "id": "iSAkg0rbJXCU",
        "outputId": "b90e1b39-b2a3-4e0e-8174-82b0bafbb458"
      },
      "source": [
        "# Enviamos los datos (x,y) al método fit para que aprenda de ellos\n",
        "\n",
        "regresion_lineal=LinearRegression()    # creamos una instancia de LinearRegression\n",
        "\n",
        "regresion_lineal.fit(x.reshape(-1,1), y)"
      ],
      "execution_count": 44,
      "outputs": [
        {
          "output_type": "execute_result",
          "data": {
            "text/plain": [
              "LinearRegression(copy_X=True, fit_intercept=True, n_jobs=None, normalize=False)"
            ]
          },
          "metadata": {
            "tags": []
          },
          "execution_count": 44
        }
      ]
    },
    {
      "cell_type": "code",
      "metadata": {
        "colab": {
          "base_uri": "https://localhost:8080/"
        },
        "id": "Fsl_NyI_MmiU",
        "outputId": "b192b02b-f3f3-41ce-91cd-e6351afad8c8"
      },
      "source": [
        "w = regresion_lineal.coef_[0]\n",
        "w"
      ],
      "execution_count": 45,
      "outputs": [
        {
          "output_type": "execute_result",
          "data": {
            "text/plain": [
              "0.09975416840868817"
            ]
          },
          "metadata": {
            "tags": []
          },
          "execution_count": 45
        }
      ]
    },
    {
      "cell_type": "code",
      "metadata": {
        "colab": {
          "base_uri": "https://localhost:8080/"
        },
        "id": "bA00-k0MP0ru",
        "outputId": "ddc6d51d-0b23-4fe2-c7c0-15eaf4e27d69"
      },
      "source": [
        "b = regresion_lineal.intercept_\n",
        "b"
      ],
      "execution_count": 46,
      "outputs": [
        {
          "output_type": "execute_result",
          "data": {
            "text/plain": [
              "1.3436499832821553"
            ]
          },
          "metadata": {
            "tags": []
          },
          "execution_count": 46
        }
      ]
    },
    {
      "cell_type": "code",
      "metadata": {
        "colab": {
          "base_uri": "https://localhost:8080/"
        },
        "id": "eGbDLBLqQEYs",
        "outputId": "15911330-955a-41b9-f124-d03d1231d368"
      },
      "source": [
        "print(np.poly1d([w,b]))"
      ],
      "execution_count": 47,
      "outputs": [
        {
          "output_type": "stream",
          "text": [
            " \n",
            "0.09975 x + 1.344\n"
          ],
          "name": "stdout"
        }
      ]
    },
    {
      "cell_type": "markdown",
      "metadata": {
        "id": "nIILHX35Trnd"
      },
      "source": [
        "El método _fit_ estimó $0.09975$ para $w$ y $1.344$ para $b$, la regresión queda como \n",
        "\n",
        "$$y=0.09975x + 1.344 $$\n",
        "\n",
        "La función que generó los datos es:\n",
        "\n",
        "$$y = 0.1x + 1.25 $$"
      ]
    },
    {
      "cell_type": "markdown",
      "metadata": {
        "id": "atH6euxSU5Q4"
      },
      "source": [
        "## Prediciendo \n",
        "\n",
        "Interesa saber qué valor de $y$ corresponde para $x=5$"
      ]
    },
    {
      "cell_type": "code",
      "metadata": {
        "colab": {
          "base_uri": "https://localhost:8080/"
        },
        "id": "qXaIw4dlTmHh",
        "outputId": "037d737e-9a63-4296-8bb3-c00fbdf92337"
      },
      "source": [
        "prediccion = regresion_lineal.predict(np.array([[5]]))\n",
        "prediccion"
      ],
      "execution_count": 48,
      "outputs": [
        {
          "output_type": "execute_result",
          "data": {
            "text/plain": [
              "array([1.84242083])"
            ]
          },
          "metadata": {
            "tags": []
          },
          "execution_count": 48
        }
      ]
    },
    {
      "cell_type": "code",
      "metadata": {
        "colab": {
          "base_uri": "https://localhost:8080/",
          "height": 513
        },
        "id": "VSLOBsen2hEz",
        "outputId": "53200752-649d-431d-c53a-ec14fa7abcb4"
      },
      "source": [
        "plt.figure(figsize=(10,8))\n",
        "plt.scatter(x,y,label='data', color='blue')\n",
        "plt.scatter(x,regresion_lineal.predict(x.reshape(-1,1)),label='data', color='black')\n",
        "plt.title('Datos')\n",
        "plt.xlabel(r\"$x$\")\n",
        "plt.ylabel(r\"$f(x)$\")\n",
        "plt.legend(('Datos experimentales', \"predicción\"))\n",
        "plt.show()"
      ],
      "execution_count": 49,
      "outputs": [
        {
          "output_type": "display_data",
          "data": {
            "image/png": "[encoded data removed]",
            "text/plain": [
              "<Figure size 720x576 with 1 Axes>"
            ]
          },
          "metadata": {
            "tags": [],
            "needs_background": "light"
          }
        }
      ]
    },
    {
      "cell_type": "markdown",
      "metadata": {
        "id": "TJb0eUdVVea7"
      },
      "source": [
        "## Calidad de la regresión\n",
        "\n",
        "Para medir la calidad del modelo se usa el error cuadrático medio y el coeficiente de determinación."
      ]
    },
    {
      "cell_type": "code",
      "metadata": {
        "id": "mSoDE8V5VSOL"
      },
      "source": [
        "# importamos el cálculo del error cuadrático medio (MSE)\n",
        "from sklearn.metrics import mean_squared_error"
      ],
      "execution_count": 50,
      "outputs": []
    },
    {
      "cell_type": "code",
      "metadata": {
        "colab": {
          "base_uri": "https://localhost:8080/"
        },
        "id": "FF8gTxbPV0e3",
        "outputId": "bf13f125-b6ea-4f52-b43a-7e35b3a82fd9"
      },
      "source": [
        "# Se Predecen los valores y con los datos usados en el entrenamiento\n",
        "prediccion_entrenamiento = regresion_lineal.predict(x.reshape(-1,1))\n",
        "# El Error Cuadrático Medio (MSE = Mean Squared Error) se calcula con mean_squared_error\n",
        "mse = mean_squared_error(y_true = y, y_pred = prediccion_entrenamiento)\n",
        "# La raíz cuadrada del MSE es el RMSE\n",
        "rmse = np.sqrt(mse)\n",
        "print('Error Cuadrático Medio (MSE) = ' + str(mse))\n",
        "print('Raíz del Error Cuadrático Medio (RMSE) = ' + str(rmse))"
      ],
      "execution_count": 51,
      "outputs": [
        {
          "output_type": "stream",
          "text": [
            "Error Cuadrático Medio (MSE) = 0.003407741696926759\n",
            "Raíz del Error Cuadrático Medio (RMSE) = 0.05837586570601552\n"
          ],
          "name": "stdout"
        }
      ]
    },
    {
      "cell_type": "code",
      "metadata": {
        "colab": {
          "base_uri": "https://localhost:8080/"
        },
        "id": "ioiuNF_bV-ZI",
        "outputId": "bdf13272-2a73-4933-e10f-072072873f80"
      },
      "source": [
        "# El coeficiente de determinación R^2 se obtiene con score\n",
        "r2 = regresion_lineal.score(x.reshape(-1,1), y)\n",
        "print('Coeficiente de Determinación R2 = ' + str(r2))"
      ],
      "execution_count": 52,
      "outputs": [
        {
          "output_type": "stream",
          "text": [
            "Coeficiente de Determinación R2 = 0.9898245051608568\n"
          ],
          "name": "stdout"
        }
      ]
    },
    {
      "cell_type": "markdown",
      "metadata": {
        "id": "f8HT1_A4W2EX"
      },
      "source": [
        "## Visualizando la regresión"
      ]
    },
    {
      "cell_type": "code",
      "metadata": {
        "colab": {
          "base_uri": "https://localhost:8080/",
          "height": 497
        },
        "id": "eFOsW5O0WnN4",
        "outputId": "99f1f23c-bc7f-481b-c64a-2a017b389166"
      },
      "source": [
        "plt.figure(figsize=(10,8))\n",
        "plt.scatter(x,y,label='data', color='blue')\n",
        "plt.plot(x,prediccion_entrenamiento, \"k-\")\n",
        "plt.xlabel(r\"$x$\")\n",
        "plt.ylabel(r\"$y$\")\n",
        "plt.legend((\"Modelo\",'Datos experimentales'))\n",
        "plt.show()"
      ],
      "execution_count": 53,
      "outputs": [
        {
          "output_type": "display_data",
          "data": {
            "image/png": "[encoded data removed]",
            "text/plain": [
              "<Figure size 720x576 with 1 Axes>"
            ]
          },
          "metadata": {
            "tags": [],
            "needs_background": "light"
          }
        }
      ]
    },
    {
      "cell_type": "markdown",
      "metadata": {
        "id": "PkciPilKZHki"
      },
      "source": [
        "**Otro ejemplo**: Regresión múltiple\n",
        "\n",
        "Se desea predecir la emisión de $\\mathrm{CO_2}$ de un automóvil en función del tamaño del motor, pero con la regresión múltiple se puede incluir más variables, como el peso del automóvil, para hacer la predicción más precisa."
      ]
    },
    {
      "cell_type": "code",
      "metadata": {
        "id": "5aZmM00hXZNp"
      },
      "source": [
        "import pandas as pd"
      ],
      "execution_count": 54,
      "outputs": []
    },
    {
      "cell_type": "code",
      "metadata": {
        "id": "wkQfuQySaJQW"
      },
      "source": [
        "df = pd.read_csv(\"https://raw.githubusercontent.com/css-umar/Metodos-Numericos/master/cars.csv\")"
      ],
      "execution_count": 55,
      "outputs": []
    },
    {
      "cell_type": "code",
      "metadata": {
        "colab": {
          "base_uri": "https://localhost:8080/",
          "height": 204
        },
        "id": "N42Y247gaWTa",
        "outputId": "82a05beb-4300-4b09-d04b-ba7c70037cb8"
      },
      "source": [
        "df.head()"
      ],
      "execution_count": 56,
      "outputs": [
        {
          "output_type": "execute_result",
          "data": {
            "text/html": [
              "<div>\n",
              "<style scoped>\n",
              "    .dataframe tbody tr th:only-of-type {\n",
              "        vertical-align: middle;\n",
              "    }\n",
              "\n",
              "    .dataframe tbody tr th {\n",
              "        vertical-align: top;\n",
              "    }\n",
              "\n",
              "    .dataframe thead th {\n",
              "        text-align: right;\n",
              "    }\n",
              "</style>\n",
              "<table border=\"1\" class=\"dataframe\">\n",
              "  <thead>\n",
              "    <tr style=\"text-align: right;\">\n",
              "      <th></th>\n",
              "      <th>Car</th>\n",
              "      <th>Model</th>\n",
              "      <th>Volume</th>\n",
              "      <th>Weight</th>\n",
              "      <th>CO2</th>\n",
              "    </tr>\n",
              "  </thead>\n",
              "  <tbody>\n",
              "    <tr>\n",
              "      <th>0</th>\n",
              "      <td>Toyoty</td>\n",
              "      <td>Aygo</td>\n",
              "      <td>1000</td>\n",
              "      <td>790</td>\n",
              "      <td>99</td>\n",
              "    </tr>\n",
              "    <tr>\n",
              "      <th>1</th>\n",
              "      <td>Mitsubishi</td>\n",
              "      <td>Space Star</td>\n",
              "      <td>1200</td>\n",
              "      <td>1160</td>\n",
              "      <td>95</td>\n",
              "    </tr>\n",
              "    <tr>\n",
              "      <th>2</th>\n",
              "      <td>Skoda</td>\n",
              "      <td>Citigo</td>\n",
              "      <td>1000</td>\n",
              "      <td>929</td>\n",
              "      <td>95</td>\n",
              "    </tr>\n",
              "    <tr>\n",
              "      <th>3</th>\n",
              "      <td>Fiat</td>\n",
              "      <td>500</td>\n",
              "      <td>900</td>\n",
              "      <td>865</td>\n",
              "      <td>90</td>\n",
              "    </tr>\n",
              "    <tr>\n",
              "      <th>4</th>\n",
              "      <td>Mini</td>\n",
              "      <td>Cooper</td>\n",
              "      <td>1500</td>\n",
              "      <td>1140</td>\n",
              "      <td>105</td>\n",
              "    </tr>\n",
              "  </tbody>\n",
              "</table>\n",
              "</div>"
            ],
            "text/plain": [
              "          Car       Model  Volume  Weight  CO2\n",
              "0      Toyoty        Aygo    1000     790   99\n",
              "1  Mitsubishi  Space Star    1200    1160   95\n",
              "2       Skoda      Citigo    1000     929   95\n",
              "3        Fiat         500     900     865   90\n",
              "4        Mini      Cooper    1500    1140  105"
            ]
          },
          "metadata": {
            "tags": []
          },
          "execution_count": 56
        }
      ]
    },
    {
      "cell_type": "code",
      "metadata": {
        "colab": {
          "base_uri": "https://localhost:8080/",
          "height": 204
        },
        "id": "gWnBXNPZbizZ",
        "outputId": "e940838d-3683-4ea3-ddc0-d8b2932567b3"
      },
      "source": [
        "df.tail()"
      ],
      "execution_count": 57,
      "outputs": [
        {
          "output_type": "execute_result",
          "data": {
            "text/html": [
              "<div>\n",
              "<style scoped>\n",
              "    .dataframe tbody tr th:only-of-type {\n",
              "        vertical-align: middle;\n",
              "    }\n",
              "\n",
              "    .dataframe tbody tr th {\n",
              "        vertical-align: top;\n",
              "    }\n",
              "\n",
              "    .dataframe thead th {\n",
              "        text-align: right;\n",
              "    }\n",
              "</style>\n",
              "<table border=\"1\" class=\"dataframe\">\n",
              "  <thead>\n",
              "    <tr style=\"text-align: right;\">\n",
              "      <th></th>\n",
              "      <th>Car</th>\n",
              "      <th>Model</th>\n",
              "      <th>Volume</th>\n",
              "      <th>Weight</th>\n",
              "      <th>CO2</th>\n",
              "    </tr>\n",
              "  </thead>\n",
              "  <tbody>\n",
              "    <tr>\n",
              "      <th>31</th>\n",
              "      <td>Volvo</td>\n",
              "      <td>XC70</td>\n",
              "      <td>2000</td>\n",
              "      <td>1746</td>\n",
              "      <td>117</td>\n",
              "    </tr>\n",
              "    <tr>\n",
              "      <th>32</th>\n",
              "      <td>Ford</td>\n",
              "      <td>B-Max</td>\n",
              "      <td>1600</td>\n",
              "      <td>1235</td>\n",
              "      <td>104</td>\n",
              "    </tr>\n",
              "    <tr>\n",
              "      <th>33</th>\n",
              "      <td>BMW</td>\n",
              "      <td>216</td>\n",
              "      <td>1600</td>\n",
              "      <td>1390</td>\n",
              "      <td>108</td>\n",
              "    </tr>\n",
              "    <tr>\n",
              "      <th>34</th>\n",
              "      <td>Opel</td>\n",
              "      <td>Zafira</td>\n",
              "      <td>1600</td>\n",
              "      <td>1405</td>\n",
              "      <td>109</td>\n",
              "    </tr>\n",
              "    <tr>\n",
              "      <th>35</th>\n",
              "      <td>Mercedes</td>\n",
              "      <td>SLK</td>\n",
              "      <td>2500</td>\n",
              "      <td>1395</td>\n",
              "      <td>120</td>\n",
              "    </tr>\n",
              "  </tbody>\n",
              "</table>\n",
              "</div>"
            ],
            "text/plain": [
              "         Car   Model  Volume  Weight  CO2\n",
              "31     Volvo    XC70    2000    1746  117\n",
              "32      Ford   B-Max    1600    1235  104\n",
              "33       BMW     216    1600    1390  108\n",
              "34      Opel  Zafira    1600    1405  109\n",
              "35  Mercedes     SLK    2500    1395  120"
            ]
          },
          "metadata": {
            "tags": []
          },
          "execution_count": 57
        }
      ]
    },
    {
      "cell_type": "code",
      "metadata": {
        "id": "9N2Z9JB1bcFw"
      },
      "source": [
        "X = df[[\"Weight\",\"Volume\"]]\n",
        "y = df[\"CO2\"]"
      ],
      "execution_count": 58,
      "outputs": []
    },
    {
      "cell_type": "code",
      "metadata": {
        "colab": {
          "base_uri": "https://localhost:8080/",
          "height": 204
        },
        "id": "MrLLdSOkcIhG",
        "outputId": "6ff942d2-95fd-4e75-fc0d-f0b046feaff4"
      },
      "source": [
        "X.head()"
      ],
      "execution_count": 59,
      "outputs": [
        {
          "output_type": "execute_result",
          "data": {
            "text/html": [
              "<div>\n",
              "<style scoped>\n",
              "    .dataframe tbody tr th:only-of-type {\n",
              "        vertical-align: middle;\n",
              "    }\n",
              "\n",
              "    .dataframe tbody tr th {\n",
              "        vertical-align: top;\n",
              "    }\n",
              "\n",
              "    .dataframe thead th {\n",
              "        text-align: right;\n",
              "    }\n",
              "</style>\n",
              "<table border=\"1\" class=\"dataframe\">\n",
              "  <thead>\n",
              "    <tr style=\"text-align: right;\">\n",
              "      <th></th>\n",
              "      <th>Weight</th>\n",
              "      <th>Volume</th>\n",
              "    </tr>\n",
              "  </thead>\n",
              "  <tbody>\n",
              "    <tr>\n",
              "      <th>0</th>\n",
              "      <td>790</td>\n",
              "      <td>1000</td>\n",
              "    </tr>\n",
              "    <tr>\n",
              "      <th>1</th>\n",
              "      <td>1160</td>\n",
              "      <td>1200</td>\n",
              "    </tr>\n",
              "    <tr>\n",
              "      <th>2</th>\n",
              "      <td>929</td>\n",
              "      <td>1000</td>\n",
              "    </tr>\n",
              "    <tr>\n",
              "      <th>3</th>\n",
              "      <td>865</td>\n",
              "      <td>900</td>\n",
              "    </tr>\n",
              "    <tr>\n",
              "      <th>4</th>\n",
              "      <td>1140</td>\n",
              "      <td>1500</td>\n",
              "    </tr>\n",
              "  </tbody>\n",
              "</table>\n",
              "</div>"
            ],
            "text/plain": [
              "   Weight  Volume\n",
              "0     790    1000\n",
              "1    1160    1200\n",
              "2     929    1000\n",
              "3     865     900\n",
              "4    1140    1500"
            ]
          },
          "metadata": {
            "tags": []
          },
          "execution_count": 59
        }
      ]
    },
    {
      "cell_type": "markdown",
      "metadata": {
        "id": "XGC3flM4c15V"
      },
      "source": [
        "## Aplicando la regresión"
      ]
    },
    {
      "cell_type": "code",
      "metadata": {
        "colab": {
          "base_uri": "https://localhost:8080/"
        },
        "id": "9wbMGAkncKGt",
        "outputId": "759ce1e8-ce82-49b3-940a-aa2245e00a4a"
      },
      "source": [
        "regresion_lineal_CO2 = LinearRegression()\n",
        "regresion_lineal_CO2.fit(X,y)"
      ],
      "execution_count": 60,
      "outputs": [
        {
          "output_type": "execute_result",
          "data": {
            "text/plain": [
              "LinearRegression(copy_X=True, fit_intercept=True, n_jobs=None, normalize=False)"
            ]
          },
          "metadata": {
            "tags": []
          },
          "execution_count": 60
        }
      ]
    },
    {
      "cell_type": "markdown",
      "metadata": {
        "id": "roGBr-8rlpNI"
      },
      "source": [
        "## Validando "
      ]
    },
    {
      "cell_type": "code",
      "metadata": {
        "colab": {
          "base_uri": "https://localhost:8080/"
        },
        "id": "mMHoWRpelx7L",
        "outputId": "4435e12b-56b5-4583-e998-c3011840182e"
      },
      "source": [
        "r2 = regresion_lineal_CO2.score(X,y)\n",
        "r2"
      ],
      "execution_count": 61,
      "outputs": [
        {
          "output_type": "execute_result",
          "data": {
            "text/plain": [
              "0.37655640436199855"
            ]
          },
          "metadata": {
            "tags": []
          },
          "execution_count": 61
        }
      ]
    },
    {
      "cell_type": "markdown",
      "metadata": {
        "id": "pABf_svuc7PV"
      },
      "source": [
        "## Prediciendo la generación de $\\mathrm{CO_2}$\n",
        "\n",
        "Para un coche que pesa $2300\\,\\mathrm{kg}$ y un volumen de $1300\\,\\mathrm{cm^3}$"
      ]
    },
    {
      "cell_type": "code",
      "metadata": {
        "colab": {
          "base_uri": "https://localhost:8080/"
        },
        "id": "kYilN9OocrYM",
        "outputId": "a5f4e91c-def4-44d1-9877-355181de91d5"
      },
      "source": [
        "predicCO2 = regresion_lineal_CO2.predict([[2300, 1300]])\n",
        "predicCO2"
      ],
      "execution_count": 62,
      "outputs": [
        {
          "output_type": "execute_result",
          "data": {
            "text/plain": [
              "array([107.2087328])"
            ]
          },
          "metadata": {
            "tags": []
          },
          "execution_count": 62
        }
      ]
    }
  ]
}