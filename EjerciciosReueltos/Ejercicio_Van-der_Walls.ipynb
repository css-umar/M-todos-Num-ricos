{
 "cells": [
  {
   "cell_type": "markdown",
   "metadata": {},
   "source": [
    "# Ejercicio Van der Walls\n",
    "La ecuación de estado de Van der Walls para un gas real es \n",
    "\n",
    "\n",
    "$$\\begin{equation} \n",
    "\\left(P+\\frac{a}{V^2} \\right)\\left(V-b \\right)=R\\,T \\label{eqn:VdeW}\n",
    "\\end{equation}\n",
    "$$\n",
    "\n",
    "donde:\n",
    "\n",
    "**P** = presión en _atm_\n",
    " \n",
    "**T** = temperatura en _k_\n",
    " \n",
    "**R** = constante universal de los gases ideales en _atm-L/(gmol K)_\n",
    " \n",
    "**V** = volumen molar del gas en _L/mol_\n",
    " \n",
    "**a, b** = constantes particulares para cada gas\n",
    "\n",
    "Para los siguientes gases, calcule el volumen molar $(V)$ a $80\\,°C$ para presiones de 10, 20, 30 y 100 $atm$.\n",
    "\n",
    "Gas| a| b|\n",
    "---|---|---|\n",
    "Dióxido de carbono| 3.599| 0.04267\n",
    "Dimetilamina| 37.49| 0.19700\n",
    "He | 0.03412| 0.02370\n",
    "Óxido nítrico| 1.34| 0.02789\n",
    "\n",
    "## Solución\n",
    "\n",
    "La ecuación \\ref{eqn:VdeW} se puede escribir como:\n",
    "\n",
    "$$\n",
    "\\begin{equation}\n",
    "f(V) = P\\,V^3-b\\,P\\,V^2-R\\,T\\,V^2+a\\,V-a\\,b =0 \\label{eqn:VdeWCubic}\n",
    "\\end{equation}\n",
    "$$\n",
    "\n",
    "### Para el caso del dióxido de carbono\n",
    "\n",
    "Para $T = 80\\,°C$,  $P = 10\\, atm$, $a = 3.599$ y $b = 0.04267$\n",
    "\n",
    "**Paso 1:** Buscar un valor inicial, se puede hacer de manera gráfica, o bien, considerando el significado físico de la raíz, o del problema. \n",
    "\n",
    "> **Paso 1.1:** Considerando el significado físico de la raíz, en el caso del volumen, una buena aproximación se puede hacer calculando el volumen a partir de la ley de los gases ideales:\n",
    "\n",
    "$$\n",
    "\\begin{split}\n",
    "V_0 & = \\dfrac{R\\,T}{P}\\\\\n",
    "    & = \\dfrac{(0.08205)(353.15)}{10}\\\\\n",
    "    & = 2.89\n",
    "\\end{split}\n",
    "$$\n",
    "\n",
    ">> **Paso 1.2:** De manera gráfica, analizando la funcion $f(V)$; en este caso el dominio de la función depende del siginificado físico de la raíz, $V > 0$. Por ejemplo:"
   ]
  },
  {
   "cell_type": "code",
   "execution_count": 1,
   "metadata": {},
   "outputs": [],
   "source": [
    "import numpy as np\n",
    "import matplotlib.pyplot as plt"
   ]
  },
  {
   "cell_type": "code",
   "execution_count": 2,
   "metadata": {},
   "outputs": [],
   "source": [
    "T, P, R, a, b = 353.15, 10, 0.08205, 3.599, 0.04267\n",
    "def f(V):   \n",
    "    return P*V**3-b*P*V**2-R*T*V**2+a*V-a*b"
   ]
  },
  {
   "cell_type": "code",
   "execution_count": 3,
   "metadata": {},
   "outputs": [
    {
     "data": {
      "image/png": "[encoded data removed]",
      "text/plain": [
       "<Figure size 432x288 with 1 Axes>"
      ]
     },
     "metadata": {
      "needs_background": "light"
     },
     "output_type": "display_data"
    }
   ],
   "source": [
    "V = np.linspace(0, 3)\n",
    "plt.plot(V,f(V))\n",
    "plt.axhline(color = \"k\")\n",
    "plt.text(0,10, r'$f(V)=P\\,V^3-(P\\,b+R\\,T)V^2+a\\,V-a\\,b$',fontsize=15)\n",
    "plt.annotate(\"Raiz\", xy=(2.8,0), xytext=(1, -10),\n",
    "             arrowprops=dict(facecolor='black', shrink=0.05),fontsize=15)\n",
    "plt.show()"
   ]
  },
  {
   "cell_type": "markdown",
   "metadata": {},
   "source": [
    "**Paso 2:** Seleccionar un método para encontrar la raíz, en este caso se usará el de Newton-Raphson, usando como criterio de paro (exactitud) $|f(V)|\\leq 1.0\\times 10^{-3}$. La deriva de $f(V)$ es:\n",
    "\n",
    "$$ \\dfrac{df(V)}{dt} = 3\\,P\\,V^2-2\\,(P\\,b+R\\,T)\\,V+a$$"
   ]
  },
  {
   "cell_type": "code",
   "execution_count": 68,
   "metadata": {},
   "outputs": [
    {
     "name": "stdout",
     "output_type": "stream",
     "text": [
      "la raiz es:2.81432310562 Iteraciones =3\n"
     ]
    }
   ],
   "source": [
    "def df(V):\n",
    "    return 3*P*V**2-2*(P*b+R*T)*V+a \n",
    "\n",
    "MAXIT = 30\n",
    "EPSILON = 0.0001\n",
    "v0 = 2.89  # Valor inicial calculado en el Paso 1.1\n",
    "Vm = []\n",
    "convergencia = []\n",
    "iteraciones = 0\n",
    "for i in range(MAXIT):\n",
    "    v1 = v0 - (f(v0)/df(v0))  # recuerda que f(V) ya fue creada para graficar\n",
    "    convergencia.append(np.abs(f(v1)))\n",
    "    Vm.append(v1)\n",
    "    iteraciones += 1  # es igual a iteraciones = iteraciones + 1\n",
    "    if np.abs(f(v1)) <= EPSILON:        \n",
    "        print \"la raiz es:\"+str(v1),\"Iteraciones =\"+str(iteraciones)\n",
    "        break\n",
    "    else:\n",
    "        v0 = v1\n",
    "    "
   ]
  },
  {
   "cell_type": "code",
   "execution_count": 69,
   "metadata": {},
   "outputs": [],
   "source": [
    "import pandas as pd  # Permite trabajar con dataframes"
   ]
  },
  {
   "cell_type": "code",
   "execution_count": 70,
   "metadata": {},
   "outputs": [],
   "source": [
    "datos = {\"Vm(L/gmol)\":Vm, \n",
    "        \"|f(Vm)|\":convergencia}"
   ]
  },
  {
   "cell_type": "code",
   "execution_count": 71,
   "metadata": {},
   "outputs": [],
   "source": [
    "dfDatos = pd.DataFrame(datos)"
   ]
  },
  {
   "cell_type": "code",
   "execution_count": 72,
   "metadata": {},
   "outputs": [
    {
     "data": {
      "text/html": [
       "<div>\n",
       "<style scoped>\n",
       "    .dataframe tbody tr th:only-of-type {\n",
       "        vertical-align: middle;\n",
       "    }\n",
       "\n",
       "    .dataframe tbody tr th {\n",
       "        vertical-align: top;\n",
       "    }\n",
       "\n",
       "    .dataframe thead th {\n",
       "        text-align: right;\n",
       "    }\n",
       "</style>\n",
       "<table border=\"1\" class=\"dataframe\">\n",
       "  <thead>\n",
       "    <tr style=\"text-align: right;\">\n",
       "      <th></th>\n",
       "      <th>Vm(L/gmol)</th>\n",
       "      <th>|f(Vm)|</th>\n",
       "    </tr>\n",
       "  </thead>\n",
       "  <tbody>\n",
       "    <tr>\n",
       "      <th>0</th>\n",
       "      <td>2.818168</td>\n",
       "      <td>2.919374e-01</td>\n",
       "    </tr>\n",
       "    <tr>\n",
       "      <th>1</th>\n",
       "      <td>2.814334</td>\n",
       "      <td>8.101425e-04</td>\n",
       "    </tr>\n",
       "    <tr>\n",
       "      <th>2</th>\n",
       "      <td>2.814323</td>\n",
       "      <td>6.299840e-09</td>\n",
       "    </tr>\n",
       "  </tbody>\n",
       "</table>\n",
       "</div>"
      ],
      "text/plain": [
       "   Vm(L/gmol)       |f(Vm)|\n",
       "0    2.818168  2.919374e-01\n",
       "1    2.814334  8.101425e-04\n",
       "2    2.814323  6.299840e-09"
      ]
     },
     "execution_count": 72,
     "metadata": {},
     "output_type": "execute_result"
    }
   ],
   "source": [
    "dfDatos.head(iteraciones)"
   ]
  },
  {
   "cell_type": "markdown",
   "metadata": {},
   "source": [
    "#### Tarea: utilizar el método de la posición falsa para encontrar el volumen molar de los otros gases y a las diferentes presiones"
   ]
  },
  {
   "cell_type": "code",
   "execution_count": null,
   "metadata": {},
   "outputs": [],
   "source": []
  },
  {
   "cell_type": "code",
   "execution_count": null,
   "metadata": {},
   "outputs": [],
   "source": []
  }
 ],
 "metadata": {
  "hide_input": false,
  "kernelspec": {
   "display_name": "Python 2",
   "language": "python",
   "name": "python2"
  },
  "language_info": {
   "codemirror_mode": {
    "name": "ipython",
    "version": 2
   },
   "file_extension": ".py",
   "mimetype": "text/x-python",
   "name": "python",
   "nbconvert_exporter": "python",
   "pygments_lexer": "ipython2",
   "version": "2.7.15"
  },
  "latex_envs": {
   "LaTeX_envs_menu_present": true,
   "autoclose": true,
   "autocomplete": true,
   "bibliofile": "biblio.bib",
   "cite_by": "apalike",
   "current_citInitial": 1,
   "eqLabelWithNumbers": true,
   "eqNumInitial": 1,
   "hotkeys": {
    "equation": "Ctrl-E",
    "itemize": "Ctrl-I"
   },
   "labels_anchors": false,
   "latex_user_defs": false,
   "report_style_numbering": true,
   "user_envs_cfg": false
  },
  "toc": {
   "base_numbering": 1,
   "nav_menu": {},
   "number_sections": true,
   "sideBar": true,
   "skip_h1_title": false,
   "title_cell": "Table of Contents",
   "title_sidebar": "Contents",
   "toc_cell": false,
   "toc_position": {},
   "toc_section_display": true,
   "toc_window_display": false
  }
 },
 "nbformat": 4,
 "nbformat_minor": 2
}
