{
 "cells": [
  {
   "cell_type": "markdown",
   "metadata": {},
   "source": [
    "# Álgebra lineal numérica\n",
    "\n",
    "## Conceptos básicos\n",
    "\n",
    "**¿Qué es una matriz?**\n",
    "\n",
    "$$\n",
    "\\begin{bmatrix} \n",
    "a_{1,1} & a_{1,2} & a_{1,3}& \\ldots & a_{1,n}\\\\\n",
    "a_{2,1} & a_{2,2} & a_{2,3}& \\ldots & a_{2,n}\\\\\n",
    "a_{3,1} & a_{3,2} & a_{3,3}& \\ldots & a_{3,n}\\\\\n",
    "\\vdots  & \\vdots  & \\vdots &        & \\vdots \\\\\n",
    "a_{m,1} & a_{m,2} & a_{m,3}& \\ldots & a_{m,n}\\\\\n",
    "\\end{bmatrix}\n",
    "$$\n",
    "\n",
    "Una matriz es un conjunto de elementos ordenados en filas y columnas. Donde los elementos $a_{i,j}$ pueden ser reales, complejos o funciones.\n",
    "\n",
    "_Para facilitar la lectura de las expresiones de cálculo matricial, acordaremos la siguiente convención de notación:_\n",
    "\n",
    "+ $\\alpha,\\,\\beta,\\,\\gamma,\\ldots,\\omega$ para escalares\n",
    "+ $\\boldsymbol{a},\\,\\boldsymbol{b},\\,\\boldsymbol{c},\\ldots,\\boldsymbol{z}$ para vectores columna (vectores)\n",
    "+ $\\boldsymbol{a^{\\prime}},\\,\\boldsymbol{b^{\\prime}},\\,\\boldsymbol{c^{\\prime}},\\ldots,\\boldsymbol{z^{\\prime}}$ para vectores fila (co-vectores)\n",
    "+ $A,\\,B,\\,C,\\ldots,Z$ para matrices\n",
    "\n",
    "### Suma de matrices\n",
    "\n",
    "Para sumar dos matrices $A$ y $B$ deben ser de las mismas dimensiones. La suma se realiza elemento a elemento:\n",
    "\n",
    "$$\\begin{eqnarray*}\n",
    "A_{m,n} + B_{m,n} &=& C_{m,n}\\\\\n",
    "\\begin{bmatrix} \n",
    "a_{1,1} & a_{1,2} & \\ldots & a_{1,n}\\\\\n",
    "a_{2,1} & a_{2,2} & \\ldots & a_{2,n}\\\\\n",
    "\\vdots  & \\vdots  &        & \\vdots \\\\\n",
    "a_{m,1} & a_{m,2} & \\ldots & a_{m,n}\\\\\n",
    "\\end{bmatrix} + \\begin{bmatrix} \n",
    "b_{1,1} & b_{1,2} & \\ldots & b_{1,n}\\\\\n",
    "b_{2,1} & b_{2,2} & \\ldots & b_{2,n}\\\\\n",
    "\\vdots  & \\vdots  &        & \\vdots \\\\\n",
    "b_{m,1} & b_{m,2} & \\ldots & b_{m,n}\\\\\n",
    "\\end{bmatrix} &=& \\begin{bmatrix} \n",
    "a_{1,1}+b_{1,1} & a_{1,2}+b_{1,2} & \\ldots & a_{1,n}+b_{1,n}\\\\\n",
    "a_{2,1}+b_{2,1} & a_{2,2}+b_{2,2} & \\ldots & a_{2,n}+b_{2,n}\\\\\n",
    "\\vdots  & \\vdots  &        & \\vdots \\\\\n",
    "a_{m,1}+b_{m,1} & a_{m,2}+b_{m,2} & \\ldots & a_{m,n}+b_{m,n}\\\\\n",
    "\\end{bmatrix} \\\\\n",
    "&=&  \\begin{bmatrix} \n",
    "c_{1,1} & c_{1,2} & \\ldots & c_{1,n}\\\\\n",
    "c_{2,1} & c_{2,2} & \\ldots & c_{2,n}\\\\\n",
    "\\vdots  & \\vdots  &        & \\vdots \\\\\n",
    "c_{m,1} & c_{m,2} & \\ldots & c_{m,n}\\\\\n",
    "\\end{bmatrix}\\\\\n",
    "\\begin{bmatrix}a_{i,j}\\end{bmatrix}+\\begin{bmatrix}b_{i,j}\\end{bmatrix} &=&\\begin{bmatrix}a_{i,j}+b_{i,j}\\end{bmatrix} = \\begin{bmatrix}c_{i,j}\\end{bmatrix}\n",
    "\\end{eqnarray*}$$\n",
    "\n",
    "### Producto de matrices por un escalar\n",
    "\n",
    "El producto de un número real $\\alpha$ y una matriz $A$ se denota por $\\alpha A$, y se realiza multiplicando los elementos de $A$ por $\\alpha$:\n",
    "\n",
    "$$\\begin{eqnarray*}\n",
    "\\alpha A &=& \\begin{bmatrix} \n",
    "a_{1,1} & a_{1,2} & \\ldots & a_{1,n}\\\\\n",
    "a_{2,1} & a_{2,2} & \\ldots & a_{2,n}\\\\\n",
    "\\vdots  & \\vdots  &        & \\vdots \\\\\n",
    "a_{m,1} & a_{m,2} & \\ldots & a_{m,n}\\\\\n",
    "\\end{bmatrix}\\\\\n",
    "&=& \\begin{bmatrix} \n",
    "\\alpha\\, a_{1,1} & \\alpha\\, a_{1,2} & \\ldots & \\alpha\\, a_{1,n}\\\\\n",
    "\\alpha\\, a_{2,1} & \\alpha\\, a_{2,2} & \\ldots & \\alpha\\, a_{2,n}\\\\\n",
    "\\vdots  & \\vdots  &        & \\vdots \\\\\n",
    "\\alpha\\, a_{m,1} & \\alpha\\, a_{m,2} & \\ldots & \\alpha\\, a_{m,n}\\\\\n",
    "\\end{bmatrix}\\\\\n",
    "\\alpha\\,\\begin{bmatrix}a_{i,j}\\end{bmatrix} &=& \\begin{bmatrix}\\alpha\\,a_{i,j}\\end{bmatrix}\n",
    "\\end{eqnarray*}$$\n",
    "\n",
    "### Multiplicación de matrices\n",
    "\n",
    "Para que la multiplicación de dos matrices $A$ y $B$ se pueda llevar a cabo, estas deben ser conformables, es decir, $A$ tiene el mismo número de columnas que $B$ tiene de filas:\n",
    "\n",
    "$$\\begin{eqnarray*}\n",
    "A_{m,n}\\,B_{n,p} &=& C_{m,p}\\\\\n",
    "\\begin{bmatrix} \n",
    "a_{1,1} & a_{1,2} & \\ldots & a_{1,n}\\\\\n",
    "a_{2,1} & a_{2,2} & \\ldots & a_{2,n}\\\\\n",
    "\\vdots  & \\vdots  &        & \\vdots \\\\\n",
    "a_{m,1} & a_{m,2} & \\ldots & a_{m,n}\\\\\n",
    "\\end{bmatrix}\\, \\begin{bmatrix} \n",
    "b_{1,1} & b_{1,2} & \\ldots & b_{1,n}\\\\\n",
    "b_{2,1} & b_{2,2} & \\ldots & b_{2,n}\\\\\n",
    "\\vdots  & \\vdots  &        & \\vdots \\\\\n",
    "b_{m,1} & b_{m,2} & \\ldots & b_{m,n}\\\\\n",
    "\\end{bmatrix} &=& \\begin{bmatrix} \n",
    "c_{1,1} & c_{1,2} & \\ldots & c_{1,p}\\\\\n",
    "c_{2,1} & c_{2,2} & \\ldots & c_{2,p}\\\\\n",
    "\\vdots  & \\vdots  &        & \\vdots \\\\\n",
    "c_{m,1} & c_{m,2} & \\ldots & c_{m,p}\\\\\n",
    "\\end{bmatrix}\n",
    "\\end{eqnarray*}$$\n",
    "\n",
    "donde:\n",
    "\n",
    "$$\\begin{eqnarray*}\n",
    "c_{i,j} &=&a_{i,1}\\,b_{1,j}+ a_{i,2}\\,b_{2,j}+\\ldots+a_{i,n}\\,b_{n,j}\\\\\n",
    "c_{i,j} &=& \\sum_{k=1}^{n}{a_{i,k}\\,b_{k,j}}\\, \\text{para}\\, i = 1,2,\\ldots,m\\, \\text{y}\\, j = 1,2,\\ldots,p\n",
    "\\end{eqnarray*}$$\n",
    "\n"
   ]
  },
  {
   "cell_type": "markdown",
   "metadata": {},
   "source": [
    "## Solución de sistemas de ecuaciones lineales\n",
    "\n",
    "Si recordamos, en el **Paso 2** del algoritmo de Newton Raphson para sistemas de ecuaciones _no lineales_,  se tiene que resolver un sistema de ecuacioes lineales que se construye a partir de las funciones y del jacobiano de las funciones no lineales. Muchos de los problemas en ingniería se reducen a resolver un sistema de ecuaciones lineales.\n",
    "\n",
    "Un sistema de $m$ ecuaciones lineales en $n$ incoógnitas tiene la forma:\n",
    "\n",
    "$$\\begin{matrix}\n",
    "a_{1,1}x_1 & + & a_{1,2}x_2 & + & \\ldots & + & a_{1,n}x_n & = & b_1\\\\\n",
    "a_{2,1}x_1 & + & a_{2,2}x_2 & + & \\ldots & + & a_{1,n}x_n & = & b_1\\\\\n",
    "\\vdots &   &       \\vdots   & + &        &   & \\vdots               \\\\\n",
    "a_{m,1}x_1 & + & a_{m,2}x_2 & + & \\ldots & + & a_{m,n}x_n & = & b_m\\\\\n",
    "\\end{matrix}$$\n",
    "\n",
    "en notación matricial:\n",
    "\n",
    "$$\\begin{align*}\n",
    "\\begin{bmatrix}\n",
    "a_{1,1} &  a_{1,2} &  \\ldots &  a_{1,n}  \\\\\n",
    "a_{2,1} &  a_{2,2} &  \\ldots &  a_{1,n}  \\\\\n",
    "\\vdots  &  \\vdots  &         &  \\vdots   \\\\\n",
    "a_{m,1} &  a_{m,2} &  \\ldots &  a_{m,n} \\\\\n",
    "\\end{bmatrix}\\, \\begin{bmatrix}\n",
    "x_1\\\\\n",
    "x_2\\\\\n",
    "\\vdots\\\\\n",
    "x_m\n",
    "\\end{bmatrix} &= \\begin{bmatrix}\n",
    "b_1\\\\\n",
    "b_2\\\\\n",
    "\\vdots\\\\\n",
    "b_m\n",
    "\\end{bmatrix}\\\\\n",
    "A\\,\\boldsymbol{x}&=\\boldsymbol{b}\n",
    "\\end{align*}$$\n",
    "\n",
    "### Matriz aumentada $B$\n",
    "\n",
    "Se forma con los elementos de la matriz de coefientes $A$ y los del vector $\\boldsymbol{b}$.\n",
    "\n",
    "$$\n",
    "B = \\left[\n",
    "\\begin{array}{cccc|c}\n",
    "a_{1,1} & a_{1,2} & \\ldots & a_{1,n} & b_{1}\\\\\n",
    "a_{2,1} & a_{2,2} & \\ldots & a_{2,n} & b_{2}\\\\\n",
    "\\vdots  & \\vdots  &        & \\vdots  & \\vdots\\\\\n",
    "a_{m,1} & a_{m,2}0 & \\ldots & a_{m,n} & b_{m}\\\\\n",
    "\\end{array}\n",
    "\\right] = \\left[\\begin{array}{c|c}A&\\boldsymbol{b}\\end{array} \\right]\n",
    "$$\n",
    "\n",
    "+ Si $\\boldsymbol{b}=\\boldsymbol{0}$ es un _sistema homogéneo_\n",
    "+ si $\\boldsymbol{b}\\neq \\boldsymbol{0}$ es un _sistema no homogéneo_ \n",
    "+ Si el rango de $A$ es igual al rango de $B$, el sistema es _consistente_\n",
    "> + Un sistema consistente puede tener una solución o un número infinito de soluciones.\n",
    ">> + Si $Rango\\,A = n$, donde $n$ es el número de incógnitas, la solución es única.\n",
    ">> + Si $Rango\\,A < n$, hay un número infinito de soluciones.\n",
    "+ Si el rango de $A$ es diferente al rango de $B$, el sistema es _inconsistente_\n",
    "> + Un sistema inconsistente **no tiene solución**.\n",
    "\n",
    "**Rango:** es el número de columnas o filas que son linealmente independientes. El rango fila y el rango columna siempre son iguales.\n",
    "\n",
    "**Independencia lineal:** dado un conjunto de vectores $\\boldsymbol{v_1},\\, \\boldsymbol{v_2},\\,\\ldots,\\boldsymbol{v_n}$ se dice que son _linealmente independientes_ si :\n",
    "\n",
    "$$a_1\\boldsymbol{v_1} + a_2\\boldsymbol{v_2} + \\ldots + a_n\\boldsymbol{v_n} = \\boldsymbol{0} $$\n",
    "\n",
    "se satiface únicamente cuando $a_1,\\, a_2,\\,\\ldots,a_n $ son todos cero. De lo contrario, se dice qee son linealmente dependientes.\n"
   ]
  },
  {
   "cell_type": "markdown",
   "metadata": {},
   "source": [
    "Python permite calcular el rango de una matriz, para ello, es necesario cargar la bilbioteca numpy,\n",
    "para poder utilizar las operaciones array y rank. Sea el sistema:\n",
    "\n",
    "\n",
    "$$\\begin{matrix}\n",
    "2\\, x_1 & + & 4\\,x_2 &  = & 6\\\\\n",
    "3\\, x_1 & + & 6\\,x_2 &  = & 5\\\\\n",
    "\\end{matrix}$$\n",
    "\n",
    "Calcular el rango de $A$ y de $B$\n"
   ]
  },
  {
   "cell_type": "code",
   "execution_count": 1,
   "metadata": {},
   "outputs": [],
   "source": [
    "import numpy as np    # Carga la biblioteca numpy \n",
    "A = np.array([[2, 4],[3,6]])    # Con array se crea la matriz A\n",
    "B = np.array([[2,4,6],[3,6,5]])    # Se crea la matriz B"
   ]
  },
  {
   "cell_type": "code",
   "execution_count": 6,
   "metadata": {},
   "outputs": [
    {
     "data": {
      "text/plain": [
       "numpy.ndarray"
      ]
     },
     "execution_count": 6,
     "metadata": {},
     "output_type": "execute_result"
    }
   ],
   "source": [
    "type(A)    # Verificamos el tipo de dato que es A"
   ]
  },
  {
   "cell_type": "code",
   "execution_count": 10,
   "metadata": {},
   "outputs": [],
   "source": [
    "# Para calcular el rango, se utiliza la operación rank \n",
    "rango_A = np.linalg.matrix_rank(A)    \n",
    "rango_B = np.linalg.matrix_rank(B)"
   ]
  },
  {
   "cell_type": "code",
   "execution_count": 14,
   "metadata": {},
   "outputs": [
    {
     "data": {
      "text/plain": [
       "False"
      ]
     },
     "execution_count": 14,
     "metadata": {},
     "output_type": "execute_result"
    }
   ],
   "source": [
    "# El sistema es inconsiste porque el rango de A es diferente al rango de B\n",
    "rango_A == rango_B"
   ]
  },
  {
   "cell_type": "markdown",
   "metadata": {},
   "source": [
    "Si el sistema fuera homogéneo:\n",
    "$$\\begin{matrix}\n",
    "2\\, x_1 & + & 4\\,x_2 &  = & 0\\\\\n",
    "3\\, x_1 & + & 6\\,x_2 &  = & 0\\\\\n",
    "\\end{matrix}$$\n",
    "\n"
   ]
  },
  {
   "cell_type": "code",
   "execution_count": 17,
   "metadata": {},
   "outputs": [
    {
     "data": {
      "text/plain": [
       "True"
      ]
     },
     "execution_count": 17,
     "metadata": {},
     "output_type": "execute_result"
    }
   ],
   "source": [
    "A = np.array([[2, 4],[3,6]])\n",
    "B = np.array([[2,4],[3,6]])\n",
    "\n",
    "rango_A = np.linalg.matrix_rank(A)    \n",
    "rango_B = np.linalg.matrix_rank(B)\n",
    "\n",
    "rango_A == rango_B"
   ]
  },
  {
   "cell_type": "markdown",
   "metadata": {},
   "source": [
    "Como se puede ver, si el sistema fuera homogéneo, el rango de A es igual al rango de B; de hecho un sistema homogéneo siempre es consistente. "
   ]
  },
  {
   "cell_type": "code",
   "execution_count": 18,
   "metadata": {},
   "outputs": [],
   "source": [
    "\"\"\"\n",
    "Para determinar el número de ingógnitas del sistema, se utiliza la operación shape \n",
    "sobre la matriz A:\n",
    "\"\"\"\n",
    "m,n = A.shape"
   ]
  },
  {
   "cell_type": "code",
   "execution_count": 19,
   "metadata": {},
   "outputs": [
    {
     "name": "stdout",
     "output_type": "stream",
     "text": [
      "2\n"
     ]
    }
   ],
   "source": [
    "# El número de filas es igual al número de ecuaciones\n",
    "print m"
   ]
  },
  {
   "cell_type": "code",
   "execution_count": 20,
   "metadata": {},
   "outputs": [
    {
     "name": "stdout",
     "output_type": "stream",
     "text": [
      "2\n"
     ]
    }
   ],
   "source": [
    "# El número de columnas es igual al número de ingógnitas\n",
    "print n"
   ]
  },
  {
   "cell_type": "code",
   "execution_count": 22,
   "metadata": {},
   "outputs": [],
   "source": [
    "if rango_A == n:\n",
    "    print \"Solucion unica\"\n",
    "    "
   ]
  },
  {
   "cell_type": "code",
   "execution_count": 24,
   "metadata": {},
   "outputs": [
    {
     "name": "stdout",
     "output_type": "stream",
     "text": [
      "multiples soluciones\n"
     ]
    }
   ],
   "source": [
    "if rango_A < n:\n",
    "    print \"multiples soluciones\"\n",
    "    "
   ]
  },
  {
   "cell_type": "markdown",
   "metadata": {},
   "source": [
    "### Operaciones elementales\n",
    "\n",
    "+ Cambiar entre sí dos filas, o en su caso columnas.\n",
    "+ Multiplicar una fila(columna) por un número real distinto de cero.\n",
    "+ Sumar a una fila(columna) otra fila(columna) multiplicada por un número real.\n"
   ]
  },
  {
   "cell_type": "markdown",
   "metadata": {},
   "source": [
    "### Métodos directos de solución\n",
    "\n",
    "+ Eliminación Gaussiana\n",
    "\n",
    "Sea el sistema: \n",
    "\n",
    "$$\\begin{matrix}\n",
    "a_{1,1}\\, x_1 & + & a_{1,2}\\,x_2 & + & a_{1,3}\\,x_3 & = & b_1\\\\\n",
    "a_{2,1}\\, x_1 & + & a_{2,2}\\,x_2 & + & a_{2,3}\\,x_3 & = & b_2\\\\\n",
    "a_{3,1}\\, x_1 & + & a_{3,2}\\,x_2 & + & a_{3,3}\\,x_3 & = & b_3\\\\\n",
    "\\end{matrix}$$\n",
    "\n",
    "Se realizan las operaciones elementales de multiplicación y suma hasta llegar a la _triangulización_ del sistema (triangular superior):\n",
    "\n",
    "$$\\begin{matrix}\n",
    "a_{1,1}\\, x_1 & + & a_{1,2}\\,x_2 & + & a_{1,3}\\,x_3 & = & b_1\\\\\n",
    "              &   & a_{2,2}^{\\prime\\prime}\\,x_2 & + & a_{2,3}^{\\prime\\prime}\\,x_3 & = & b_2^{\\prime\\prime}\\\\\n",
    "              &   &                       &   & a_{3,3}^{\\prime\\prime}\\,x_3 & = & b_3^{\\prime\\prime}\\\\\n",
    "\\end{matrix}$$\n",
    "\n",
    "Para resolver el sistema triangulizado, se aplica _sustitución regresiva_.\n",
    "\n",
    "Una vez triangulizado el sistema, se puede calcular el _determinante_ de la matriz $A$ del sistema original.\n",
    "\n",
    "$$\\text{det} A = \\prod_{i=1}^{n}{a_{i,i}}= a_{1,1}\\,a_{2,2}\\ldots a_{n,n}$$\n",
    "\n",
    "+ Eliminación Gauss con pivoteo parcial\n",
    "\n",
    "Se selecciona como pivote el coeficiente de máximo valor absoluto en la columna relevante de la matriz. Se toman las columnas como en el método gaussiano, de modo que se vayan eliminando las incógnitas $(x_1,\\,x_2,\\ldots,x_n)$ en orden natural.\n",
    "\n",
    "+ Eliminación Gauss-Jordan\n",
    "\n",
    "Este método continúa el proceso de triangulización, desde triangular superior hasta obtener una matriz diagonal, y por tanto, no se requiere la sustitución regresiva.\n",
    "\n",
    "> + Inversa de una matriz por Gauss-Jordan\n",
    "\n",
    ">> + La inversa $(A^{-1})$ de una matriz $(A)$, es aquella aquella que al multiplicarla por la matriz original $(A)$, el resultado es la matriz identidad $(I)$.\n",
    "\n",
    "$$A\\,A^{-1}=A^{-1}\\,A=I$$\n",
    "\n",
    ">> + Para que exista la inversa de una matriz, su determinante debe ser distinto de cero.\n",
    "\n",
    "$$\\text{det}A \\neq 0$$\n",
    "\n",
    ">> + Para calcular la inversa, en una misma matriz se coloca en la parte izquierda la matriz $A$, y en la parte derecha la identidad $I$:\n",
    "\n",
    "$$\\left[A|I\\right]$$\n",
    "\n",
    ">>> Se aplica el método de Gauss-Jordan hasta conseguir que en la parte izquierda quede la matriz identidad $(I)$, la matriz resulante en la parte derecha, será la matriz inversa $(A^{-1})$:\n",
    "\n",
    "$$\\left[A|I\\right]\\xrightarrow{Gauss-Jordan}\\left[I|A^{-1}\\right]$$"
   ]
  },
  {
   "cell_type": "markdown",
   "metadata": {},
   "source": [
    "La librería _Numpy_ posee operaciones que permiten resolver sistemas de ecuaciones lineales, calcular el determinante y la inversa de una matriz:\n",
    "\n",
    "+ **solve:** resuelve sistemas de ecuaciones lienales (consistente) de la forma $A\\,\\boldsymbol{x}=\\boldsymbol{b}$\n",
    "\n",
    "+ **inv:** permite calcular la inversa de una matriz\n",
    "\n",
    "+ **det:** calcula el determinante de una matriz\n",
    "\n",
    "Sea el sistema:\n",
    "\n",
    "$$\\begin{matrix}\n",
    "4\\, x_1 & - & 9\\,x_2 & + & 2\\,x_3 & = & 5\\\\\n",
    "2\\, x_1 & - & 4\\,x_2 & + & 6\\,x_3 & = & 3\\\\\n",
    " \\, x_1 & - &  \\,x_2 & + & 3\\,x_3 & = & 4\\\\\n",
    "\\end{matrix}$$\n",
    "\n"
   ]
  },
  {
   "cell_type": "code",
   "execution_count": 4,
   "metadata": {},
   "outputs": [],
   "source": [
    "# Resolviendo el sistema utilizando la operación solve\n",
    "A = np.array([[4,-9,2],[2,-4,6],[1,-1,3]])    # Matriz de coeficientes A\n",
    "b = np.array([5,3,4])    # Vector b\n",
    "x = np.linalg.solve(A,b)    # se llama a la operación solve para resolver el sistema"
   ]
  },
  {
   "cell_type": "code",
   "execution_count": 5,
   "metadata": {},
   "outputs": [
    {
     "name": "stdout",
     "output_type": "stream",
     "text": [
      "[ 6.95  2.5  -0.15]\n"
     ]
    }
   ],
   "source": [
    "print x"
   ]
  },
  {
   "cell_type": "code",
   "execution_count": 6,
   "metadata": {},
   "outputs": [],
   "source": [
    "# calculando el determinante de la matriz de coefientes \n",
    "det_A = np.linalg.det(A)"
   ]
  },
  {
   "cell_type": "code",
   "execution_count": 7,
   "metadata": {},
   "outputs": [
    {
     "name": "stdout",
     "output_type": "stream",
     "text": [
      "-19.999999999999996\n"
     ]
    }
   ],
   "source": [
    "print det_A"
   ]
  },
  {
   "cell_type": "markdown",
   "metadata": {},
   "source": [
    "Para resolver el sistema utilizando la inversa de A, se debe tomar en cuenta que:\n",
    "\n",
    "$$\\boldsymbol{x}=A^{-1}\\boldsymbol{b}$$"
   ]
  },
  {
   "cell_type": "code",
   "execution_count": 8,
   "metadata": {},
   "outputs": [],
   "source": [
    "# Resolviendo el sistema utilizando la inversa\n",
    "\n",
    "inv_A = np.linalg.inv(A)    # Se calcula la inversa llamando a la operación inv"
   ]
  },
  {
   "cell_type": "code",
   "execution_count": 9,
   "metadata": {},
   "outputs": [
    {
     "name": "stdout",
     "output_type": "stream",
     "text": [
      "[[ 0.3  -1.25  2.3 ]\n",
      " [ 0.   -0.5   1.  ]\n",
      " [-0.1   0.25 -0.1 ]]\n"
     ]
    }
   ],
   "source": [
    "print inv_A    # Imprime la inversa calculada\n"
   ]
  },
  {
   "cell_type": "code",
   "execution_count": 10,
   "metadata": {},
   "outputs": [],
   "source": [
    "\"\"\"\n",
    "Para resolver el sistema hay que la realizar, A^-1 b, utilizando la operación dot \n",
    "\"\"\"\n",
    "x = np.dot(inv_A,b)"
   ]
  },
  {
   "cell_type": "code",
   "execution_count": 11,
   "metadata": {},
   "outputs": [
    {
     "name": "stdout",
     "output_type": "stream",
     "text": [
      "[ 6.95  2.5  -0.15]\n"
     ]
    }
   ],
   "source": [
    "print x"
   ]
  },
  {
   "cell_type": "code",
   "execution_count": null,
   "metadata": {},
   "outputs": [],
   "source": []
  }
 ],
 "metadata": {
  "kernelspec": {
   "display_name": "Python 2",
   "language": "python",
   "name": "python2"
  },
  "language_info": {
   "codemirror_mode": {
    "name": "ipython",
    "version": 2
   },
   "file_extension": ".py",
   "mimetype": "text/x-python",
   "name": "python",
   "nbconvert_exporter": "python",
   "pygments_lexer": "ipython2",
   "version": "2.7.16"
  }
 },
 "nbformat": 4,
 "nbformat_minor": 2
}
