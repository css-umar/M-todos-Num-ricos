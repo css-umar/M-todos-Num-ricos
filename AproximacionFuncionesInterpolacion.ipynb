{
 "cells": [
  {
   "cell_type": "markdown",
   "metadata": {},
   "source": [
    "# Aproximación polinomial\n",
    "\n",
    "Se utiliza para encontrar valores que no se encuentran tabulados; por ejemplo, se cuenta con los datos de temperatura de ebullición para la acetona a diferentes presiones:\n",
    "\n",
    "\n",
    "|**Puntos**| 0  | 1    | 2    | 3    |\n",
    "|:---       |--- |---   |---   |---   |\n",
    "|$T(ºC)$   |56.5| 113.0| 181.0| 214.5|\n",
    "|$P(atm)$  | 1  | 5    | 20   | 40   |\n",
    "\n",
    "Se desea saber la temperatura de ebullición de la acetona a $2\\,atm$.\n",
    "\n",
    "Considerando que la ebullución de la acetona se comporta de forma lineal en el intervalo $(0\\,atm-5\\,atm)$ que deseamos encontrar la temperatura, se puede resolver de la forma siguiente:\n",
    "\n",
    "**Paso 1:** considerando que la temperatura se comporta de forma lineal, se tiene que:\n",
    "\n",
    "$$T(P)=a_0 + a_1\\,P $$\n",
    "\n",
    "**Paso 2:** se toman los puntos 0 y 1, porque entre esos puntos se encuentra la temperatura a la presión que se desea.\n",
    "\n",
    "$$\\begin{align*}\n",
    "56.5 &= a_0 + 1\\,a_1,\\, \\text{punto 0}\\\\\n",
    "113.0 &= a_0 + 5\\,a_1,\\, \\text{punto 1}\n",
    "\\end{align*}$$\n",
    "\n",
    "**Paso 3:** resolviendo el sistema se tiene que $a_0 = 42.4$ y $a_1 = 14.13$, por tanto, la ecuación que describe la temperatura en función de la presión en el intervalo de $0\\,atm$ a $5\\,atm$ es:\n",
    "\n",
    "$$T(P)=42.4 + 14.13\\,P $$\n",
    "\n",
    "**Paso 4:** evaluar la ecuación en $2\\,atm$ para encontrar la temperatura de ebullición deseada."
   ]
  },
  {
   "cell_type": "code",
   "execution_count": 1,
   "metadata": {},
   "outputs": [],
   "source": [
    "T = lambda P: 42.4 + 14.13*P    # Creamos una funcón lambda con la ecuación obtenida "
   ]
  },
  {
   "cell_type": "code",
   "execution_count": 2,
   "metadata": {},
   "outputs": [
    {
     "data": {
      "text/plain": [
       "70.66"
      ]
     },
     "execution_count": 2,
     "metadata": {},
     "output_type": "execute_result"
    }
   ],
   "source": [
    "T(2)    # Evaluamos la función en 2 atm "
   ]
  },
  {
   "cell_type": "markdown",
   "metadata": {},
   "source": [
    "Al graficar los datos tabulados y los datos que genera la ecuación que describe la temperatura en función de la presión en el intervalo de $0\\,atm$ a $5\\,atm$, se puede observar que la aproximación sólo funciona en el intervalo para el cual se construyó."
   ]
  },
  {
   "cell_type": "code",
   "execution_count": 3,
   "metadata": {},
   "outputs": [
    {
     "data": {
      "text/plain": [
       "<Figure size 640x480 with 1 Axes>"
      ]
     },
     "metadata": {},
     "output_type": "display_data"
    }
   ],
   "source": [
    "import matplotlib.pyplot as plt\n",
    "import numpy as np\n",
    "Temperatura = [56.5, 113.0, 181.0, 214.5]\n",
    "Presion = [1, 5, 20, 40]\n",
    "p = np.arange(1, 20)\n",
    "plt.plot(Presion,Temperatura, \"ko\")\n",
    "plt.plot(p,T(p))\n",
    "plt.xlabel(\"Presion, atm\")\n",
    "plt.ylabel(\"Temperatura, grados C\")\n",
    "plt.show()"
   ]
  },
  {
   "cell_type": "markdown",
   "metadata": {},
   "source": [
    "Si se desea encontrar una aproximación mejor a la anterior $(70.66\\,ºC)$, se puden usar más puntos de los datos tabulados, por ejemplo, los puntos $0,1$ y $2$; y aproximar el comportamiento de la temperatura de forma cuadrática:\n",
    "\n",
    "$$T(P) = a_0 + a_1\\,P + a_2\\,P^2$$\n",
    "\n",
    "**Paso 1:** considerando los puntos $0,1$ y $2$, se llega a un sistema de ecuaciones lineales:\n",
    "\n",
    "$$\\begin{align*}\n",
    "56.5  &= a_0 + a_1\\,1 + a_2\\,1^2 \\, \\text{punto o}\\\\\n",
    "113.0 &= a_0 + a_1\\,5 + a_2\\,5^2 \\, \\text{punto 1}\\\\\n",
    "181.0 &= a_0 + a_1\\,20 + a_2\\,20^2 \\, \\text{punto 2}\n",
    "\\end{align*}$$\n",
    "\n",
    "**Paso 2:** Resolver el sistema de ecuaciones lineales."
   ]
  },
  {
   "cell_type": "code",
   "execution_count": 4,
   "metadata": {},
   "outputs": [],
   "source": [
    "\"\"\"\n",
    "Vamos a utilizar el método solve de la biblioteca numpy para resolver el sistema de ecuaciones lineales\n",
    "\"\"\"\n",
    "\n",
    "# Resolviendo el sistema utilizando el método solve\n",
    "A = np.array([[1,1,1],[1,5,25],[1,20,400]])    # Matriz de coeficientes A\n",
    "b = np.array([56.5,113.0,181.0])    # Vector b\n",
    "x = np.linalg.solve(A,b)    # se llama a método solve para resolver el sistema"
   ]
  },
  {
   "cell_type": "code",
   "execution_count": 5,
   "metadata": {},
   "outputs": [
    {
     "name": "stdout",
     "output_type": "stream",
     "text": [
      "[39.85087719 17.15394737 -0.50482456]\n"
     ]
    }
   ],
   "source": [
    "print x    # Imprimimos la solución"
   ]
  },
  {
   "cell_type": "code",
   "execution_count": null,
   "metadata": {},
   "outputs": [],
   "source": []
  },
  {
   "cell_type": "markdown",
   "metadata": {},
   "source": [
    "La ecuación que describe la temperatura en función de la presión en el intervalo de $0\\,atm$ a $20\\,atm$ es:\n",
    "\n",
    "$$T(P)=39.85 + 17.15\\,P - 0.5048\\,P^2 $$"
   ]
  },
  {
   "cell_type": "markdown",
   "metadata": {},
   "source": [
    "**Paso 4:** evaluar la ecuación en 2 atm. "
   ]
  },
  {
   "cell_type": "code",
   "execution_count": 6,
   "metadata": {},
   "outputs": [
    {
     "data": {
      "text/plain": [
       "72.13080000000001"
      ]
     },
     "execution_count": 6,
     "metadata": {},
     "output_type": "execute_result"
    }
   ],
   "source": [
    "T = lambda P: 39.85 + 17.15*P - 0.5048*P**2\n",
    "T(2)"
   ]
  },
  {
   "cell_type": "markdown",
   "metadata": {},
   "source": [
    "Al graficar los datos tabulados y la función cuadrática se pude observar que el ajuste a los datos tabulados es mejor. "
   ]
  },
  {
   "cell_type": "code",
   "execution_count": 7,
   "metadata": {},
   "outputs": [
    {
     "data": {
      "image/png": "[encoded data removed]",
      "text/plain": [
       "<Figure size 432x288 with 1 Axes>"
      ]
     },
     "metadata": {
      "needs_background": "light"
     },
     "output_type": "display_data"
    }
   ],
   "source": [
    "plt.plot(Presion,Temperatura, \"ko\")\n",
    "plt.plot(p,T(p))\n",
    "plt.xlabel(\"Presion, atm\")\n",
    "plt.ylabel(\"Temperatura, grados C\")\n",
    "plt.show()"
   ]
  },
  {
   "cell_type": "markdown",
   "metadata": {},
   "source": [
    "**Tarea** Realice una aproximación polinomial cubica $(T(P) = a_0 + a_1\\,P + a_2\\,P^2 + a_3\\,P^3)$ a los datos datos tabulados."
   ]
  },
  {
   "cell_type": "markdown",
   "metadata": {},
   "source": [
    "# Polinomios de Lagrange\n",
    "\n",
    "Partiendo de una función $f(x)$ desconocida dada en forma tabular $([x_0,f(x_0)],[x_1,f(x_1)]\\ldots[x_n,f(x_n)])$, y asumiendo que un polinomio $p(x)$ de primer grado se puede escribir de la forma siguiente:\n",
    "\n",
    "$$p(x)=a_0\\,(x-x_1) + a_1\\,(x-x0) $$\n",
    "\n",
    "donde $x_1$ y $x_0$ son puntos conocidos y $a_0$ y $a_1$ son los coeficientes que se desean determinar.\n",
    "\n",
    "> Resolviendo para $a_0$, se considera $x = x_0$.\n",
    "\n",
    "$$a_0 = \\dfrac{p(x_0)}{x_0 - x_1} = \\dfrac{f(x0)}{x_0 - x_1} $$\n",
    "\n",
    "> Resolviendo par $a_1$, se hace $x=x_1$\n",
    "\n",
    "$$a_1 = \\dfrac{p(x_1)}{x_1 - x_0} = \\dfrac{f(x_1)}{x_1 - x_0} $$\n",
    "\n",
    "Sustituyendo el valor de $a_1$ y $a_0$ en el polinomio de primer grado:\n",
    "\n",
    "$$p(x) = L_0\\,(x - x_1) + L_1\\,(x-x_0)$$\n",
    "\n",
    "donde:\n",
    "\n",
    "\n",
    "$$\\begin{align*}\n",
    "L_0 &= \\dfrac{f(x_0)}{x_0 - x_1}\\\\\n",
    "L_1 &= \\dfrac{f(x_1)}{x_1 - x_0}\n",
    "\\end{align*}$$\n",
    "\n",
    "> Para un _polinomio de segundo grado_:\n",
    "\n",
    "$$p_2(x) = a_0\\,(x - x_1)\\,(x - x_2) + a_1\\,(x-x_0)\\,(x-x_2) + a_2\\,(x-x_0)\\,(x-x_1)$$\n",
    "\n",
    "> puede escribirse:\n",
    "\n",
    "$$p_2(x) = L_0(x)\\,f(x_0) + L_1(x)\\,f(x_1) + L_2(x)\\,f(x_2)$$\n",
    "\n",
    "> donde:\n",
    "\n",
    "$$\\begin{align*}\n",
    "L_0(x) &= \\dfrac{(x - x_1)(x - x_2)}{(x_0 - x_1)(x_0 - x_2)}\\\\\n",
    "L_1(x) &= \\dfrac{(x - x_0)(x - x_2)}{(x_1 - x_0)(x_1 - x_2)}\\\\\n",
    "L_2(x) &= \\dfrac{(x - x_0)(x - x_1)}{(x_2 - x_0)(x_2 - x_1)}\\\\\n",
    "\\end{align*}$$\n",
    "\n",
    "> Para un polinomio de _n_-ésimo grado:\n",
    "\n",
    "$$p_n(x) = L_0(x)\\,f(x_0) + L_1(x)\\,f(x_1) + \\ldots + L_n(x)\\,f(x_n)$$\n",
    "\n",
    "> donde:\n",
    "\n",
    "$$\\begin{align*}\n",
    "L_0(x) &= \\dfrac{(x - x_1)(x - x_2)\\ldots(x - x_n)}{(x_0 - x_1)(x_0 - x_2)\\ldots(x_0 - x_n)}\\\\\n",
    "L_1(x) &= \\dfrac{(x - x_0)(x - x_2)\\ldots(x - x_n)}{(x_1 - x_0)(x_1 - x_2)\\ldots(x_1 - x_n)}\\\\\n",
    "\\vdots &\\\\\n",
    "L_n(x) &= \\dfrac{(x - x_0)(x - x_1)\\ldots(x - x_{n-1})}{(x_n - x_0)(x_n - x_1)\\ldots(x_n - x_{n-1})}\n",
    "\\end{align*}$$\n",
    "\n",
    "La biblioteca _scipy_ posee el método _lagrange_ para realizar interpolación.\n",
    "\n",
    "Considere todos los puntos de los datos tabulados de temperatura de ebullición para la acetona para construir un polinomio de interpolación de Lagrange:"
   ]
  },
  {
   "cell_type": "code",
   "execution_count": 8,
   "metadata": {},
   "outputs": [],
   "source": [
    "from scipy.interpolate import lagrange    # Cargamos el método lagrange\n",
    "P = np.array([1, 5, 20, 40])    # Datos de presión, variable independiente\n",
    "T = np.array([56.5, 113.0, 181.0, 214.0])    # Datos de temperatura, variable dependiente\n",
    "# El polinomio resultante se almacenará en la varible pol\n",
    "pol = lagrange(P,T)    # Enviamos los datos de P y T al método lagrange"
   ]
  },
  {
   "cell_type": "code",
   "execution_count": 9,
   "metadata": {},
   "outputs": [
    {
     "data": {
      "text/plain": [
       "72.7243956043956"
      ]
     },
     "execution_count": 9,
     "metadata": {},
     "output_type": "execute_result"
    }
   ],
   "source": [
    "# Evaluamos en 2 atm el polinomio resultante \n",
    "pol(2)"
   ]
  },
  {
   "cell_type": "code",
   "execution_count": 10,
   "metadata": {},
   "outputs": [
    {
     "name": "stdout",
     "output_type": "stream",
     "text": [
      "[ 1.08318874e-02 -7.86453634e-01  1.85079333e+01  3.87676885e+01]\n"
     ]
    }
   ],
   "source": [
    "\"\"\"\n",
    "Si se desea conocer los coeficientes del polinomio es necesario importar\n",
    "el método Polynomial de la biblioteca numpy\n",
    "\"\"\"\n",
    "from numpy.polynomial.polynomial import Polynomial    \n",
    "\n",
    "coeficientes = Polynomial(pol).coef\n",
    "print coeficientes"
   ]
  },
  {
   "cell_type": "code",
   "execution_count": 11,
   "metadata": {},
   "outputs": [
    {
     "name": "stdout",
     "output_type": "stream",
     "text": [
      "         3          2\n",
      "0.01083 x - 0.7865 x + 18.51 x + 38.77\n"
     ]
    }
   ],
   "source": [
    "# Con el método poly1d se puede generar la ecuación del polinomio\n",
    "print np.poly1d(coeficientes)    "
   ]
  },
  {
   "cell_type": "markdown",
   "metadata": {},
   "source": [
    "Al graficar los datos tabulados y el polinomio de interpolación de lagrange se pude observar que el ajuste a los datos tabulados es mejor. "
   ]
  },
  {
   "cell_type": "code",
   "execution_count": 12,
   "metadata": {},
   "outputs": [
    {
     "data": {
      "image/png": "[encoded data removed]",
      "text/plain": [
       "<Figure size 432x288 with 1 Axes>"
      ]
     },
     "metadata": {
      "needs_background": "light"
     },
     "output_type": "display_data"
    }
   ],
   "source": [
    "p = np.arange(1,40)\n",
    "plt.plot(Presion,Temperatura, \"ko\")\n",
    "plt.plot(p,pol(p))\n",
    "plt.xlabel(\"Presion, atm\")\n",
    "plt.ylabel(\"Temperatura, grados C\")\n",
    "plt.show()"
   ]
  },
  {
   "cell_type": "markdown",
   "metadata": {},
   "source": [
    "**Tarea:** Utilizando el algoritmo de Lagrange, construya un polinomio de interpolación considerando los puntos 0,1 y 2. "
   ]
  },
  {
   "cell_type": "markdown",
   "metadata": {},
   "source": [
    "# Polinomios de Newton \n",
    "\n",
    "Considere nuevamente que se tiene una función (datos tabulados) en forma tabular:\n",
    "\n",
    "|Puntos | 0        | 1        | 2        | 3        | $\\ldots$ | $n$      |   \n",
    "|---    | ---      | ---      | ---      | ---      | ---      | ---      |\n",
    "|$x$    | $x_0$    | $x_1$    | $x_2$    | $x_3$    | $\\ldots$ | $x_n$    |\n",
    "|$f(x)$ | $f[x_0]$ | $f[x_1]$ | $f[x_2]$ | $f[x_3]$ | $\\ldots$ | $f[x_n]$ |\n",
    "\n",
    "y que se desea aproximar los datos a un polinomio $p(x)$ de primer grado que pasa por los puntos $0$ y $1$. Dicho polonomio se puede escribir de la forma:\n",
    "\n",
    "$$p(x) = a_0 + a_1\\,(x - x0)$$\n",
    "\n",
    "donde $x_0$ es la abscisa del punto $0$ y $a_0$ y $a_1$ son parámetros que se tienen que determinar.\n",
    "\n",
    "> Para encontrar $a_0$ se considera que $x = x_0$, por lo que:\n",
    "\n",
    "$$a_0 = p(x_0) = f[x_0]$$\n",
    "\n",
    "> Para encontrar $a_1$ se considera que $x = x_1$:\n",
    "\n",
    "$$a_1 = \\dfrac{f[x_1] - f[x_0]}{(x_1 - x_0)}$$\n",
    "\n",
    "> donde a $\\dfrac{f[x_1] - f[x_0]}{(x_1 - x_0)} = f[x_0,x_1]$  se le conoce como primera diferencia dividida, por lo que el polinomio de primer grado queda en términos de diferencias divididas.\n",
    "\n",
    "$$p(x) = f[x_0] + (x - x_0)\\,f[x_0,x_1]$$\n",
    "\n",
    "Ahora considere que por los puntos $0$, $1$ y $2$ pasa un _polinomio de segundo grado_ $p_2(x)$ de la forma:\n",
    "\n",
    "$$p_2(x) = a_0 + a_1\\,(x - x0) + a_2\\,(x - x_0)\\,(x - x_1)$$\n",
    "\n",
    "donde $x_0$ y $x_1$ son las abscisas de los puntos $0$ y $1$ y $a_0$, $a_1$ y $a_2$ son parámetros a determinar:\n",
    "\n",
    "> Para encontrar $a_0$ se considera que $x = x_0$, por lo que:\n",
    "\n",
    "$$a_0 = p_2(x_0) = f[x_0]$$\n",
    "\n",
    "> Para encontrar $a_1$ se considera que $x = x_1$, por lo que:\n",
    "\n",
    "$$a_1 =\\dfrac{f[x_1] - f[x_0]}{(x_1 - x_0)} = f[x_0,x_1]$$\n",
    "\n",
    "> Para encontrar $a_2$ se considera que $x = x_2$, por lo que:\n",
    "\n",
    "$$a_2 =\\dfrac{\\dfrac{f[x_2] - f[x_1]}{(x_2 - x_1)} - \\dfrac{f[x_1] - f[x_0]}{(x_1 - x_0)}}{x_2 - x_0} = f[x_0,x_1,x_2]$$\n",
    "\n",
    ">> a $f[x_0,x_1,x_2]$ se le conoce como segunda diferencia dividida respecto a $x_0,\\,x_1$ y $x_2$.\n",
    "\n",
    "Sustituyendo en $p_2(x)$ los valores de $a_0,\\,a_1$ y $a_2$ se obtiene:\n",
    "\n",
    "$$p_2(x) = f[x_0] + (x - x_0)\\,f[x_0,x_1] + (x - x_0)\\,(x - x_1)\\,f[x_0,x_1,x_2]$$\n",
    "\n",
    "\n",
    "**Generalizando**\n",
    "\n",
    "Considerando que por todos los puntos (datos tabulados) $0,\\, 1,\\, 2,\\,\\ldots, n$ pasa un polinomio de grado $n$ $(p_n(x))$ de la forma:\n",
    "\n",
    "$$p_n(x) = a_0 + a_1\\,(x - x_0) + a_2\\,(x - x_0)\\,(x - x_1) + \\ldots + a_n\\,(x - x_0)(x - x_1)\\ldots(x - x_{n-1})$$\n",
    "\n",
    "cuyos coeficientes están en términos de diferencias divididas (Ver Tabla de Diferencias divididas):\n",
    "\n",
    "$$\\begin{align*} \n",
    "a_0 &= f[x_0]\\\\\n",
    "a_1 &= f[x_0,x_1]\\\\\n",
    "a_2 &= f[x_0,x_1,x_2]\\\\\n",
    "\\vdots \\\\\n",
    "a_n &= f[x_0,x_1,x_2,\\ldots,x_n]\n",
    "\\end{align*}$$\n",
    "\n"
   ]
  },
  {
   "cell_type": "markdown",
   "metadata": {},
   "source": [
    "<style type=\"text/css\">\n",
    ".tg  {border-collapse:collapse;border-spacing:0;}\n",
    ".tg td{border-color:black;border-style:solid;border-width:1px;font-family:Arial, sans-serif;font-size:14px;\n",
    "  overflow:hidden;padding:10px 5px;word-break:normal;}\n",
    ".tg th{border-color:black;border-style:solid;border-width:1px;font-family:Arial, sans-serif;font-size:14px;\n",
    "  font-weight:normal;overflow:hidden;padding:10px 5px;word-break:normal;}\n",
    ".tg .tg-c3ow{border-color:inherit;text-align:center;vertical-align:top}\n",
    ".tg .tg-0pky{border-color:inherit;text-align:left;vertical-align:top}\n",
    "</style>\n",
    "<table class=\"tg\">\n",
    "<thead>\n",
    "  <tr>\n",
    "    <th class=\"tg-c3ow\"><span style=\"font-weight:400;font-style:normal\">Diferencias divididas</span></th>\n",
    "    <th class=\"tg-c3ow\">Diferencias divididas</th>\n",
    "    <th class=\"tg-c3ow\"></th>\n",
    "    <th class=\"tg-c3ow\"></th>\n",
    "    <th class=\"tg-c3ow\"></th>\n",
    "    <th class=\"tg-0pky\"></th>\n",
    "  </tr>\n",
    "</thead>\n",
    "<tbody>\n",
    "  <tr>\n",
    "    <td class=\"tg-c3ow\">$x$</td>\n",
    "    <td class=\"tg-c3ow\">$f(x)$</td>\n",
    "    <td class=\"tg-c3ow\">Primeras</td>\n",
    "    <td class=\"tg-c3ow\">Segundas</td>\n",
    "    <td class=\"tg-c3ow\">Terceras</td>\n",
    "    <td class=\"tg-0pky\">$\\ldots$</td>\n",
    "  </tr>\n",
    "  <tr>\n",
    "    <td class=\"tg-c3ow\">$x_0$</td>\n",
    "    <td class=\"tg-c3ow\">$f[x_0]$</td>\n",
    "    <td class=\"tg-c3ow\"></td>\n",
    "    <td class=\"tg-c3ow\"></td>\n",
    "    <td class=\"tg-c3ow\"></td>\n",
    "    <td class=\"tg-0pky\"></td>\n",
    "  </tr>\n",
    "  <tr>\n",
    "    <td class=\"tg-c3ow\"></td>\n",
    "    <td class=\"tg-c3ow\"></td>\n",
    "    <td class=\"tg-c3ow\">$f[x_0,x_1]=\\dfrac{f[x_1]-f[x_0]}{x_1 - x_0}$</td>\n",
    "    <td class=\"tg-c3ow\"></td>\n",
    "    <td class=\"tg-c3ow\"></td>\n",
    "    <td class=\"tg-0pky\"></td>\n",
    "  </tr>\n",
    "  <tr>\n",
    "    <td class=\"tg-c3ow\">$x_1$</td>\n",
    "    <td class=\"tg-c3ow\">$f[x_1]$</td>\n",
    "    <td class=\"tg-c3ow\"></td>\n",
    "    <td class=\"tg-c3ow\">$f[x_0,x_1,x_2]=\\dfrac{f[x_1,x_2]-f[x_0,x_1]}{x_2 - x_0}$</td>\n",
    "    <td class=\"tg-c3ow\"></td>\n",
    "    <td class=\"tg-0pky\"></td>\n",
    "  </tr>\n",
    "  <tr>\n",
    "    <td class=\"tg-0pky\"></td>\n",
    "    <td class=\"tg-0pky\"></td>\n",
    "    <td class=\"tg-0pky\">$f[x_1,x_2]=\\dfrac{f[x_2]-f[x_1]}{x_2 - x_1}$</td>\n",
    "    <td class=\"tg-0pky\"></td>\n",
    "    <td class=\"tg-0pky\"><span style=\"font-weight:400;font-style:normal\">$f[x_0,x_1,x_2,x_3]=\\dfrac{f[x_1,x_2,x_3]-f[x_0,x_1,x_2]}{x_3 - x_0}$</span><br><br></td>\n",
    "    <td class=\"tg-0pky\">$\\ldots$</td>\n",
    "  </tr>\n",
    "  <tr>\n",
    "    <td class=\"tg-0pky\">$x_2$</td>\n",
    "    <td class=\"tg-0pky\">$f[x_2]$</td>\n",
    "    <td class=\"tg-0pky\"></td>\n",
    "    <td class=\"tg-0pky\">$f[x_1,x_2,x_3]=\\dfrac{f[x_2,x_3]-f[x_1,x_2]}{x_3 - x_1}$</td>\n",
    "    <td class=\"tg-0pky\"></td>\n",
    "    <td class=\"tg-0pky\"></td>\n",
    "  </tr>\n",
    "  <tr>\n",
    "    <td class=\"tg-0pky\"></td>\n",
    "    <td class=\"tg-0pky\"></td>\n",
    "    <td class=\"tg-0pky\"><span style=\"font-weight:400;font-style:normal\">$f[x_2,x_3]=\\dfrac{f[x_3]-f[x_2]}{x_3 - x_2}$</span><br><br></td>\n",
    "    <td class=\"tg-0pky\"></td>\n",
    "    <td class=\"tg-0pky\">$f[x_1,x_2,x_3,x_4]=\\dfrac{f[x_2,x_3,x_4]-f[x_1,x_2,x_3]}{x_4 - x_1}$</td>\n",
    "    <td class=\"tg-0pky\">$\\ldots$</td>\n",
    "  </tr>\n",
    "  <tr>\n",
    "    <td class=\"tg-0pky\">$x_3$</td>\n",
    "    <td class=\"tg-0pky\">$f[x_3]$</td>\n",
    "    <td class=\"tg-0pky\"></td>\n",
    "    <td class=\"tg-0pky\">$f[x_2,x_3,x_4]=\\dfrac{f[x_3,x_4]-f[x_2,x_3]}{x_4 - x_2}$</td>\n",
    "    <td class=\"tg-0pky\"></td>\n",
    "    <td class=\"tg-0pky\"></td>\n",
    "  </tr>\n",
    "  <tr>\n",
    "    <td class=\"tg-0pky\"></td>\n",
    "    <td class=\"tg-0pky\"></td>\n",
    "    <td class=\"tg-0pky\">$f[x_3,x_4]=\\dfrac{f[x_4]-f[x_3]}{x_4 - x_3}$</td>\n",
    "    <td class=\"tg-0pky\"></td>\n",
    "    <td class=\"tg-0pky\">$f[x_2,x_3,x_4,x_5]=\\dfrac{f[x_3,x_4,x_5]-f[x_2,x_3,x_4]}{x_5 - x_2}$</td>\n",
    "    <td class=\"tg-0pky\">$\\ldots$</td>\n",
    "  </tr>\n",
    "  <tr>\n",
    "    <td class=\"tg-0pky\">$x_4$</td>\n",
    "    <td class=\"tg-0pky\">$f[x_4]$</td>\n",
    "    <td class=\"tg-0pky\"></td>\n",
    "    <td class=\"tg-0pky\">$f[x_3,x_4,x_5]=\\dfrac{f[x_4,x_5]-f[x_3,x_4]}{x_5 - x_3}$</td>\n",
    "    <td class=\"tg-0pky\"></td>\n",
    "    <td class=\"tg-0pky\"></td>\n",
    "  </tr>\n",
    "  <tr>\n",
    "    <td class=\"tg-0pky\"></td>\n",
    "    <td class=\"tg-0pky\"></td>\n",
    "    <td class=\"tg-0pky\">$f[x_4,x_5]=\\dfrac{f[x_5]-f[x_4]}{x_5 - x_4}$</td>\n",
    "    <td class=\"tg-0pky\"></td>\n",
    "    <td class=\"tg-0pky\"></td>\n",
    "    <td class=\"tg-0pky\"></td>\n",
    "  </tr>\n",
    "  <tr>\n",
    "    <td class=\"tg-0pky\">$x_5$</td>\n",
    "    <td class=\"tg-0pky\">$f[x_5]$</td>\n",
    "    <td class=\"tg-0pky\"></td>\n",
    "    <td class=\"tg-0pky\"></td>\n",
    "    <td class=\"tg-0pky\"></td>\n",
    "    <td class=\"tg-0pky\"></td>\n",
    "  </tr>\n",
    "</tbody>\n",
    "</table>"
   ]
  },
  {
   "cell_type": "markdown",
   "metadata": {},
   "source": [
    "La biblioteca _scipy_ contiene varios métodos para interpolar, aquí usaremos el método _interp1d_. A este método se le puede indicar qué tipo de interpolación se requiere:\n",
    "\n",
    "+ Lineal\n",
    "+ Cuadrática\n",
    "+ Cúbica \n",
    "\n",
    "Por default utiliza la oprción _lineal_.\n",
    "\n",
    "Considere los siguientes datos tabulados.\n",
    "\n",
    "|Puntos | 0     | 1     | 2     | 3     | 4     | 5     |\n",
    "|---    | ---   | ---   | ---   | ---   | ---   | ---   |\n",
    "|$x$    | -2    | -1    | 0     | 2     | 3     | 6     |\n",
    "|$f(x)$ | -18   | -5    | -2    | -2    | 7     | 142   |"
   ]
  },
  {
   "cell_type": "code",
   "execution_count": 32,
   "metadata": {},
   "outputs": [],
   "source": [
    "# Primero vamos a cargar el método interp1d.\n",
    "\n",
    "from scipy.interpolate import interp1d\n",
    "\n",
    "# Almacenamos los datos de x y f(x) en vectores.\n",
    "\n",
    "x = np.array([-2, -1, 0, 2, 3, 6])\n",
    "fx = np.array([-18, -5, -2, -2, 7, 142])\n",
    "interpol_defaul = interp1d(x,fx)    # Interpolación lineal\n",
    "interpol_cuadratica = interp1d(x,fx, kind = \"quadratic\")    # Interpolación cuadrátrica\n",
    "interpol_cubica = interp1d(x,fx, kind = \"cubic\")    # Interpolación cubica"
   ]
  },
  {
   "cell_type": "code",
   "execution_count": 33,
   "metadata": {},
   "outputs": [
    {
     "data": {
      "image/png": "[encoded data removed]",
      "text/plain": [
       "<Figure size 432x288 with 1 Axes>"
      ]
     },
     "metadata": {
      "needs_background": "light"
     },
     "output_type": "display_data"
    }
   ],
   "source": [
    "xnew = np.linspace(-2,6)\n",
    "plt.plot(x,fx,\"o\")\n",
    "plt.plot(xnew,interpol_defaul(xnew))\n",
    "plt.plot(xnew,interpol_cuadratica(xnew))\n",
    "plt.plot(xnew,interpol_cubica(xnew))\n",
    "plt.show()"
   ]
  },
  {
   "cell_type": "code",
   "execution_count": null,
   "metadata": {},
   "outputs": [],
   "source": []
  }
 ],
 "metadata": {
  "hide_input": false,
  "kernelspec": {
   "display_name": "Python 2",
   "language": "python",
   "name": "python2"
  },
  "language_info": {
   "codemirror_mode": {
    "name": "ipython",
    "version": 2
   },
   "file_extension": ".py",
   "mimetype": "text/x-python",
   "name": "python",
   "nbconvert_exporter": "python",
   "pygments_lexer": "ipython2",
   "version": "2.7.15"
  },
  "latex_envs": {
   "LaTeX_envs_menu_present": true,
   "autoclose": true,
   "autocomplete": true,
   "bibliofile": "biblio.bib",
   "cite_by": "apalike",
   "current_citInitial": 1,
   "eqLabelWithNumbers": true,
   "eqNumInitial": 1,
   "hotkeys": {
    "equation": "Ctrl-E",
    "itemize": "Ctrl-I"
   },
   "labels_anchors": false,
   "latex_user_defs": false,
   "report_style_numbering": true,
   "user_envs_cfg": false
  },
  "toc": {
   "base_numbering": 1,
   "nav_menu": {},
   "number_sections": true,
   "sideBar": true,
   "skip_h1_title": false,
   "title_cell": "Table of Contents",
   "title_sidebar": "Contents",
   "toc_cell": false,
   "toc_position": {},
   "toc_section_display": true,
   "toc_window_display": false
  }
 },
 "nbformat": 4,
 "nbformat_minor": 2
}
