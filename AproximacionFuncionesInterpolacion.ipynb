{
 "cells": [
  {
   "cell_type": "markdown",
   "metadata": {},
   "source": [
    "# Aproximación polinomial\n",
    "\n",
    "Se utiliza para encontrar valores que no se encuentran tabulados; por ejemplo, se cuenta con los datos de temperatura de ebullición para la acetona a diferentes presiones:\n",
    "\n",
    "\n",
    "|**Puntos**| 0  | 1    | 2    | 3    |\n",
    "|:---       |--- |---   |---   |---   |\n",
    "|$T(ºC)$   |56.5| 113.0| 181.0| 214.5|\n",
    "|$P(atm)$  | 1  | 5    | 20   | 40   |\n",
    "\n",
    "Se desea saber la temperatura de ebullición de la acetona a $2\\,atm$.\n",
    "\n",
    "Considerando que el comportamiento de ebullución de la acetona se comporta de forma lineal en el intervalo $(0\\,atm-5\\,atm)$ que deseamos encontrar la temperatura, se puede resolver de la forma siguiente:\n",
    "\n",
    "**Paso 1:** considerando que la temperatura se comporta de forma lineal, se tiene que:\n",
    "\n",
    "$$T(P)=a_0 + a_1\\,P $$\n",
    "\n",
    "**Paso 2:** se toman los puntos 0 y 1, porque entre esos puntos se encuentra la temperatura a la presión que se desea.\n",
    "\n",
    "$$\\begin{align*}\n",
    "56.5 &= a_0 + 1\\,a_1\\, \\text{punto 0}\\\\\n",
    "113.0 &= a_0 + 5\\,a_1\\, \\text{punto 1}\n",
    "\\end{align*}$$\n",
    "\n",
    "**Paso 3:** resolviendo el sistema se tiene que $a_0 = 42.4$ y $a_1 = 14.13$, por tanto, la ecuación que describe la temperatura en función de la presión en el intervalo de $0\\,atm$ a $5\\,atm$ es:\n",
    "\n",
    "$$T(P)=42.4 + 14.13\\,P $$\n",
    "\n",
    "**Paso 4:** evaluar la ecuación en $2\\,atm$ para encontrar la temperatura de ebullición deseada."
   ]
  },
  {
   "cell_type": "code",
   "execution_count": 1,
   "metadata": {},
   "outputs": [],
   "source": [
    "T = lambda P: 42.4 + 14.13*P    # Creamos una funcón lambda con la ecuación obtenida "
   ]
  },
  {
   "cell_type": "code",
   "execution_count": 2,
   "metadata": {},
   "outputs": [
    {
     "data": {
      "text/plain": [
       "70.66"
      ]
     },
     "execution_count": 2,
     "metadata": {},
     "output_type": "execute_result"
    }
   ],
   "source": [
    "T(2)    # Evaluamos la función en 2 atm "
   ]
  },
  {
   "cell_type": "markdown",
   "metadata": {},
   "source": [
    "Al graficar los datos tabulados y los datos que genera la ecuación que describe la temperatura en función de la presión en el intervalo de $0\\,atm$ a $5\\,atm$, se puede observar que la aproximación sólo funciona en el intervalo para el cual se construyó."
   ]
  },
  {
   "cell_type": "code",
   "execution_count": 16,
   "metadata": {},
   "outputs": [
    {
     "data": {
      "image/png": "[encoded data removed]",
      "text/plain": [
       "<Figure size 432x288 with 1 Axes>"
      ]
     },
     "metadata": {
      "needs_background": "light"
     },
     "output_type": "display_data"
    }
   ],
   "source": [
    "import matplotlib.pyplot as plt\n",
    "import numpy as np\n",
    "Temperatura = [56.5, 113.0, 181.0, 214.5]\n",
    "Presion = [1, 5, 20, 40]\n",
    "p = np.arange(1, 20)\n",
    "plt.plot(Temperatura,Presion, \"ko\")\n",
    "plt.plot(T(p),p)\n",
    "\n",
    "plt.show()"
   ]
  },
  {
   "cell_type": "markdown",
   "metadata": {},
   "source": [
    "Si se desea encontrar una aproximación mejor a la anterior $(70.66\\,ºC)$, se puden usar más puntos de los datos tabulados, por ejemplo, los puntos $0,1$ y $2$; y aproximar el comportamiento de la temperatura de forma cuadrática:\n",
    "\n",
    "$$T(P) = a_0 + a_1\\,P + a_2\\,P^2$$\n",
    "\n",
    "**Paso 1:** considerando los puntos $0,1$ y $2$, se llega a un sistema de ecuaciones no lineales ¿recuerdan las notas de sistemas de ecuaciones no lineales?, aquí se ocupa:\n",
    "\n",
    "$$\\begin{align*}\n",
    "56.5  &= a_0 + a_1\\,1 + a_2\\,1^2 \\, \\text{punto o}\\\\\n",
    "113.0 &= a_0 + a_1\\,5 + a_2\\,5^2 \\, \\text{punto 1}\\\\\n",
    "181.0 &= a_0 + a_1\\,20 + a_2\\,20^2 \\, \\text{punto 2}\n",
    "\\end{align*}$$\n",
    "\n",
    "**Paso 2:** Resolver el sistema de ecuaciones no lineales."
   ]
  },
  {
   "cell_type": "code",
   "execution_count": 20,
   "metadata": {},
   "outputs": [],
   "source": [
    "\"\"\"\n",
    "Vamos a utilizar el método fsolve de la biblioteca scipy para resolver el sistema de ecuaciones\n",
    "no lineales\n",
    "\"\"\"\n",
    "\n",
    "from scipy.optimize import fsolve    # Cargamos el método fsolve\n",
    "\n",
    "\"\"\"\n",
    "Creamos una función que contenga el sistema de ecuaciones no lineales (SNL) \n",
    "\"\"\"\n",
    "\n",
    "def SNL(eqs):\n",
    "    a0, a1, a2 = eqs\n",
    "    return (a0 + a1 + a2 - 56.5, \n",
    "            a0 + 5*a1 + 25*a2 - 113.0, \n",
    "            a0 + 20*a1 + a2*20**2 - 181.0)\n",
    "\n",
    "\"\"\"\n",
    "Llamamos al método fsolve y le enviamos la función (SNL) con las ecuaciones no lineales, y las \n",
    "condiciones iniciales (20,10,1) para cada una de las ecuaciones.\n",
    "\n",
    "La solución se va a almacenar en a0, a1 y a2\n",
    "\"\"\"\n",
    "\n",
    "a0, a1, a2 = fsolve(SNL,(20,10,1))    "
   ]
  },
  {
   "cell_type": "code",
   "execution_count": 21,
   "metadata": {},
   "outputs": [
    {
     "name": "stdout",
     "output_type": "stream",
     "text": [
      "39.85087719298245 17.153947368421058 -0.504824561403509\n"
     ]
    }
   ],
   "source": [
    "print a0, a1, a2    # Imprimimos la solución"
   ]
  },
  {
   "cell_type": "code",
   "execution_count": 22,
   "metadata": {},
   "outputs": [
    {
     "name": "stdout",
     "output_type": "stream",
     "text": [
      "(0.0, 1.4210854715202004e-14, 2.842170943040401e-14)\n"
     ]
    }
   ],
   "source": [
    "print SNL((a0,a1,a2))    # Evaluamos las ecuaciones en el resultado obtenido por fsolve\n",
    "\n",
    "\"\"\"\n",
    "Como se puede observar, al evaluar el SNL con las solución dada por fsolve, las funciones se \n",
    "acercan a cero.\n",
    "\"\"\""
   ]
  },
  {
   "cell_type": "markdown",
   "metadata": {},
   "source": [
    "La ecuación que describe la temperatura en función de la presión en el intervalo de $0\\,atm$ a $20\\,atm$ es:\n",
    "\n",
    "$$T(P)=39.85 + 17.15\\,P - 0.5048\\,P^2 $$"
   ]
  },
  {
   "cell_type": "markdown",
   "metadata": {},
   "source": [
    "**Paso 4:** evaluar la ecuación en 2 atm. "
   ]
  },
  {
   "cell_type": "code",
   "execution_count": 23,
   "metadata": {},
   "outputs": [
    {
     "data": {
      "text/plain": [
       "72.13080000000001"
      ]
     },
     "execution_count": 23,
     "metadata": {},
     "output_type": "execute_result"
    }
   ],
   "source": [
    "T = lambda P: 39.85 + 17.15*P - 0.5048*P**2\n",
    "T(2)"
   ]
  },
  {
   "cell_type": "markdown",
   "metadata": {},
   "source": []
  }
 ],
 "metadata": {
  "kernelspec": {
   "display_name": "Python 2",
   "language": "python",
   "name": "python2"
  },
  "language_info": {
   "codemirror_mode": {
    "name": "ipython",
    "version": 2
   },
   "file_extension": ".py",
   "mimetype": "text/x-python",
   "name": "python",
   "nbconvert_exporter": "python",
   "pygments_lexer": "ipython2",
   "version": "2.7.16"
  }
 },
 "nbformat": 4,
 "nbformat_minor": 2
}
