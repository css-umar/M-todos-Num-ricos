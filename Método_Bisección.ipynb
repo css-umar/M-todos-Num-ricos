{
 "cells": [
  {
   "cell_type": "markdown",
   "metadata": {},
   "source": [
    "# Método de la bisección\n",
    "\n",
    "Este método es muy similar al de la _Falsa Posición_, por lo tanto, también se requieren de dos valores iniciales $(x_I\\,\\text{y}\\, x_D)$ que encierren a la raíz $\\bar{x}$, en consecuencia, también se debe cumplir que:\n",
    "\n",
    "$$f(x_I)\\times f(x_D)<0$$\n",
    "\n",
    "El valor de $x_M$ se obtiene como el punto medio entre $x_I\\,\\text{y}\\,x_D$:\n",
    "\n",
    "$$x_M= \\dfrac{x_I + x_D}{2}$$\n",
    "\n",
    "## Algoritmo\n",
    "\n",
    "~~~\n",
    "\n",
    "Funcion fx <- f (x)\n",
    "\tfx <- x^3 + 2*x^2 + 10*x - 20\t\n",
    "Fin Funcion\n",
    "\n",
    "Algoritmo PuntoFijo\n",
    "\t\n",
    "\tEscribir \"Valor inicial xI\"\n",
    "\tLeer xI\n",
    "\tEscribir \"Valor inicial xD\"\n",
    "\tLeer xD\n",
    "\tEscribir \"Epsilon\"\n",
    "\tLeer EPS\n",
    "\tEscribir \"Número de iteraciones\"\n",
    "\tLeer MAXIT\n",
    "\t\n",
    "\tcont <- 0\n",
    "\tvalfx <- 10\n",
    "\t\n",
    "\tMientras valfx >= EPS & cont <= MAXIT Hacer\n",
    "\t\t\n",
    "\t\txM <- (xI + xD)/2\t\t\t\n",
    "\t\tvalfx <- abs(f(xM))\t\t\n",
    "\t\t\n",
    "\t\tSi valfx <= EPS Entonces\n",
    "\t\t\tEscribir \"La raíz es\"\n",
    "\t\t\tEscribir xM\n",
    "\t\t\tEscribir \"Iteraciones\"\n",
    "\t\t\tEscribir cont\t\t\n",
    "\t\tSiNo\n",
    "\t\t\tSi f(xM)*f(xD) > 0 Entonces\n",
    "\t\t\t\txD <- xM\n",
    "\t\t\tSiNo\n",
    "\t\t\t\txI <- xM \n",
    "\t\t\tFin Si\t\t\t\n",
    "\t\tFin Si\n",
    "\t\t\n",
    "\t\tcont <- cont + 1\n",
    "\t\t\n",
    "\tFin Mientras\n",
    "\t\t\n",
    "FinAlgoritmo\n",
    "\n",
    "~~~"
   ]
  },
  {
   "cell_type": "code",
   "execution_count": null,
   "metadata": {},
   "outputs": [],
   "source": []
  }
 ],
 "metadata": {
  "hide_input": false,
  "kernelspec": {
   "display_name": "Python 2",
   "language": "python",
   "name": "python2"
  },
  "language_info": {
   "codemirror_mode": {
    "name": "ipython",
    "version": 2
   },
   "file_extension": ".py",
   "mimetype": "text/x-python",
   "name": "python",
   "nbconvert_exporter": "python",
   "pygments_lexer": "ipython2",
   "version": "2.7.15"
  },
  "latex_envs": {
   "LaTeX_envs_menu_present": true,
   "autoclose": true,
   "autocomplete": true,
   "bibliofile": "biblio.bib",
   "cite_by": "apalike",
   "current_citInitial": 1,
   "eqLabelWithNumbers": true,
   "eqNumInitial": 1,
   "hotkeys": {
    "equation": "Ctrl-E",
    "itemize": "Ctrl-I"
   },
   "labels_anchors": false,
   "latex_user_defs": false,
   "report_style_numbering": true,
   "user_envs_cfg": false
  },
  "toc": {
   "base_numbering": 1,
   "nav_menu": {},
   "number_sections": true,
   "sideBar": true,
   "skip_h1_title": false,
   "title_cell": "Table of Contents",
   "title_sidebar": "Contents",
   "toc_cell": false,
   "toc_position": {},
   "toc_section_display": true,
   "toc_window_display": false
  }
 },
 "nbformat": 4,
 "nbformat_minor": 2
}
