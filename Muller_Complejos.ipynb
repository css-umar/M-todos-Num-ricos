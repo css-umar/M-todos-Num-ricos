{
 "cells": [
  {
   "cell_type": "markdown",
   "metadata": {},
   "source": [
    "# Método de Müller para raíces complejas\n",
    "\n",
    "Utilizando el método de Múller, encuentre las raíces de la ecuación:\n",
    "\n",
    "$$f(x) = x^2+4=0$$\n",
    "\n",
    "Graficando $f(x)$:"
   ]
  },
  {
   "cell_type": "code",
   "execution_count": 4,
   "metadata": {},
   "outputs": [],
   "source": [
    "import matplotlib.pyplot as plt\n",
    "import numpy as np"
   ]
  },
  {
   "cell_type": "code",
   "execution_count": 5,
   "metadata": {},
   "outputs": [],
   "source": [
    "def f(x):\n",
    "    return x**2+4"
   ]
  },
  {
   "cell_type": "code",
   "execution_count": 10,
   "metadata": {},
   "outputs": [
    {
     "data": {
      "image/png": "[encoded data removed]",
      "text/plain": [
       "<Figure size 432x288 with 1 Axes>"
      ]
     },
     "metadata": {
      "needs_background": "light"
     },
     "output_type": "display_data"
    }
   ],
   "source": [
    "x = np.linspace(-3,3)\n",
    "plt.plot(x,f(x))\n",
    "plt.text(-1,10, r'$f(x) = x^2+4=0$',fontsize=15)\n",
    "plt.show()"
   ]
  },
  {
   "cell_type": "markdown",
   "metadata": {},
   "source": [
    "En la grafica se puede observar que $f(x)$ no tiene soluciones reales. Para obtener las raíces complejas, se utiliza el método de Múller; a continuación se desarrolla un ejemplo considerando el algoritmo para cuando $p_{n=2}(x)$.\n",
    "\n",
    "> **Paso 1:** Se proponen tres valores iniciales:\n",
    "$$\n",
    "\\begin{split}\n",
    "x_0 & = 0.0 \\\\\n",
    "x_1 & = 1.0 \\\\\n",
    "x_2 & = -1.0\n",
    "\\end{split}\n",
    "$$\n",
    "\n",
    "> **Paso 2:** Se obtiene el polinomio que pasa por $(x_1,f(x_1)),\\,(x_2,f(x_2)),\\,(x_3,f(x_3))$\n",
    "\n",
    "$$\n",
    "\\begin{split}\n",
    "a_2 &= 1.0\\\\\n",
    "a_1 &= 0.0\\\\\n",
    "a_0 &= 4.0\n",
    "\\end{split}\n",
    "$$\n",
    "\n",
    "$$p(x) = 4.0 + x^2$$\n",
    "\n",
    "> **Paso 3:** Se obtienen las raíces de $p(x)$, a partir de la formula: \n",
    "\n",
    "$$x_3 = \\dfrac{2\\,a_0}{-a_1\\pm \\left(a_{1}^{2}-4\\,a_0\\,a_2\\right)^{1/2}}$$\n",
    "\n",
    ">> **Paso 3.1:** Se obtienen los denominadores:\n",
    "\n",
    "$$\\begin{split}\n",
    "D_1 & =  -a_1 + \\left(a_{1}^{2}-4\\,a_0\\,a_2\\right)^{1/2}\\\\\n",
    "    & = (-16)^{1/2}\\\\\n",
    "    & = 4j\\\\\n",
    "D_2 & =  -a_1 - \\left(a_{1}^{2}-4\\,a_0\\,a_2\\right)^{1/2}\\\\\n",
    "    & = -(-16)^{1/2}\\\\\n",
    "    & = -4j\n",
    "\\end{split}$$\n",
    "\n",
    ">> **Paso 3.2:** Se escoge el denominador con mayor valor absoluto para calcula $x_3$.\n",
    "$$|D_1| = |D_2|$$\n",
    "\n",
    ">> En este caso $D_1$ y $D_2$ son de igual magnitud, se puede usar cualquiera:\n",
    "$$\n",
    "\\begin{split}\n",
    "x_3 & = \\dfrac{8.0}{D_1}\\\\\n",
    "    & = \\dfrac{8.0}{4j}\\\\\n",
    "    & = \\frac{2}{j}\\\\\n",
    "    & = -2j\n",
    "\\end{split}\n",
    "$$\n",
    "\n",
    "> **Paso 4:** Se repiten los **Pasos 2 y 3** con los nuevos valores iniciales $x_1$, $x_2$ y $x_3$.\n",
    "\n",
    "> **Paso 5:** El algoritmo se termina cuando se satisfaga algún criterio de convergencia.\n"
   ]
  },
  {
   "cell_type": "markdown",
   "metadata": {},
   "source": [
    "Python maneja números complejos, su sintaxis es la siguiente:\n",
    "~~~\n",
    "número_complejo = parte_real + parte_imaginariaj\n",
    "~~~\n",
    "Ejemplo:"
   ]
  },
  {
   "cell_type": "code",
   "execution_count": 22,
   "metadata": {},
   "outputs": [],
   "source": [
    "# la j añadida al numero 5 indica que es la parte imaginaria\n",
    "numero_complejo = 4 + 5j  "
   ]
  },
  {
   "cell_type": "code",
   "execution_count": 23,
   "metadata": {},
   "outputs": [
    {
     "data": {
      "text/plain": [
       "complex"
      ]
     },
     "execution_count": 23,
     "metadata": {},
     "output_type": "execute_result"
    }
   ],
   "source": [
    "# La función type devuelve el tipo de dato que almacena numero_complejo\n",
    "type(numero_complejo)  "
   ]
  },
  {
   "cell_type": "code",
   "execution_count": 24,
   "metadata": {},
   "outputs": [
    {
     "data": {
      "text/plain": [
       "4.0"
      ]
     },
     "execution_count": 24,
     "metadata": {},
     "output_type": "execute_result"
    }
   ],
   "source": [
    "numero_complejo.real  # .real Devuelve la parte real de numero_complejo"
   ]
  },
  {
   "cell_type": "code",
   "execution_count": 25,
   "metadata": {},
   "outputs": [
    {
     "data": {
      "text/plain": [
       "5.0"
      ]
     },
     "execution_count": 25,
     "metadata": {},
     "output_type": "execute_result"
    }
   ],
   "source": [
    "numero_complejo.imag  # .imag Devuelve la parte imaginaria de numero_complejo"
   ]
  },
  {
   "cell_type": "markdown",
   "metadata": {},
   "source": [
    "Para calcular la raíz de un número complejo se usa la función sqrt() de numpy:"
   ]
  },
  {
   "cell_type": "code",
   "execution_count": 30,
   "metadata": {},
   "outputs": [],
   "source": [
    "raiz = np.sqrt(numero_complejo)"
   ]
  },
  {
   "cell_type": "code",
   "execution_count": 31,
   "metadata": {},
   "outputs": [
    {
     "name": "stdout",
     "output_type": "stream",
     "text": [
      "La raíz es:(2.280693341665298+1.096157889501519j)\n"
     ]
    }
   ],
   "source": [
    "print \"La raíz es:\"+str(raiz)"
   ]
  },
  {
   "cell_type": "code",
   "execution_count": 32,
   "metadata": {},
   "outputs": [
    {
     "name": "stdout",
     "output_type": "stream",
     "text": [
      "parte real:  2.280693341665298\n"
     ]
    }
   ],
   "source": [
    "print \"parte real:\",'',raiz.real"
   ]
  },
  {
   "cell_type": "code",
   "execution_count": 33,
   "metadata": {},
   "outputs": [
    {
     "name": "stdout",
     "output_type": "stream",
     "text": [
      "parte imaginaria:  1.096157889501519\n"
     ]
    }
   ],
   "source": [
    "print \"parte imaginaria:\",'',raiz.imag"
   ]
  },
  {
   "cell_type": "markdown",
   "metadata": {},
   "source": [
    "# Tarea: Finalice los calculos del ejemplo anterior hasta que $|x_3-x_2|\\leq 0.001$"
   ]
  },
  {
   "cell_type": "code",
   "execution_count": null,
   "metadata": {},
   "outputs": [],
   "source": []
  }
 ],
 "metadata": {
  "hide_input": false,
  "kernelspec": {
   "display_name": "Python 2",
   "language": "python",
   "name": "python2"
  },
  "language_info": {
   "codemirror_mode": {
    "name": "ipython",
    "version": 2
   },
   "file_extension": ".py",
   "mimetype": "text/x-python",
   "name": "python",
   "nbconvert_exporter": "python",
   "pygments_lexer": "ipython2",
   "version": "2.7.15"
  },
  "latex_envs": {
   "LaTeX_envs_menu_present": true,
   "autoclose": true,
   "autocomplete": true,
   "bibliofile": "biblio.bib",
   "cite_by": "apalike",
   "current_citInitial": 1,
   "eqLabelWithNumbers": true,
   "eqNumInitial": 1,
   "hotkeys": {
    "equation": "Ctrl-E",
    "itemize": "Ctrl-I"
   },
   "labels_anchors": false,
   "latex_user_defs": false,
   "report_style_numbering": true,
   "user_envs_cfg": false
  },
  "toc": {
   "base_numbering": 1,
   "nav_menu": {},
   "number_sections": true,
   "sideBar": true,
   "skip_h1_title": false,
   "title_cell": "Table of Contents",
   "title_sidebar": "Contents",
   "toc_cell": false,
   "toc_position": {},
   "toc_section_display": true,
   "toc_window_display": false
  }
 },
 "nbformat": 4,
 "nbformat_minor": 2
}
