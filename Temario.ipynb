{
 "cells": [
  {
   "cell_type": "markdown",
   "metadata": {},
   "source": [
    "# TEMAS Y SUBTEMAS"
   ]
  },
  {
   "cell_type": "markdown",
   "metadata": {},
   "source": [
    "\n",
    "> ## **Principios generales de los cálculos numéricos**\n",
    ">> ###  Introducción\n",
    ">> ###  Conceptos básicos e ideas comunes en los métodos numéricos\n",
    ">> ###  Problemas numéricos y algoritmos. Fórmulas recursivas\n",
    ">> ###  Concepos básicos en la estimación de errores\n",
    ">> ###  Fuentes de error\n",
    ">> ###  Errores absolutos y relativos. Redondeo\n",
    "> ## **Álgebra lineal numérica**\n",
    ">> ###  Conceptos básicos\n",
    ">> ###  Métodos directos para resolver sistemas lineales\n",
    ">> ###  Métodos iterativos (Jacobi Y Gauss Seidel)\n",
    "> ## **Aproximación de funciones e interpolación**\n",
    ">> ###  Conceptos básicos en aproximación\n",
    ">> ###  Aproximación polinomial simple e interpolación\n",
    ">> ###  Polinomios de Newton con diferencias finitas\n",
    ">> ###  Spline cúbicos\n",
    ">> ###  Aproximación de funciones por el método de mínimos cuadrados\n",
    "> ## **Ecuaciones no lineales**\n",
    ">> ###  Introducción\n",
    ">> ###  Métodos de punto fijo\n",
    ">> ###  Método de falsa posición\n",
    ">> ###  Método de bisección\n",
    ">> ###  Método de la secante\n",
    ">> ###  Método de Newton-Raphson\n",
    ">> ###  Raíces múltiples (método de Mueller)\n",
    ">> ###  Sistemas de ecuaciones no lineales\n",
    ">> ###  Métodos del tipo Newton-Raphson y algunas modificaciones\n",
    ">> ###  Otros métodos\n",
    "> ## **Integración numérica y diferenciación**\n",
    ">> ###  Operadores en diferencias y sus propiedades\n",
    ">> ###  Diferenciación numérica\n",
    ">> ###  Integración Numérica. La regla del rectángulo. La regla del trapecio. Regla de Simpson.\n",
    ">> ###  Integración de funciones de varias variables\n",
    "> ## **Ecuaciones diferenciales**\n",
    ">> ###  Conceptos sobre problemas de valor inicial\n",
    ">> ###  Método de Euler\n",
    ">> ###  Método de Runge-Kutta\n",
    ">> ###  Diferencias finitas"
   ]
  },
  {
   "cell_type": "code",
   "execution_count": null,
   "metadata": {},
   "outputs": [],
   "source": []
  }
 ],
 "metadata": {
  "kernelspec": {
   "display_name": "Python 2",
   "language": "python",
   "name": "python2"
  },
  "language_info": {
   "codemirror_mode": {
    "name": "ipython",
    "version": 2
   },
   "file_extension": ".py",
   "mimetype": "text/x-python",
   "name": "python",
   "nbconvert_exporter": "python",
   "pygments_lexer": "ipython2",
   "version": "2.7.15"
  },
  "latex_envs": {
   "LaTeX_envs_menu_present": true,
   "autoclose": true,
   "autocomplete": true,
   "bibliofile": "biblio.bib",
   "cite_by": "apalike",
   "current_citInitial": 1,
   "eqLabelWithNumbers": true,
   "eqNumInitial": 1,
   "hotkeys": {
    "equation": "Ctrl-E",
    "itemize": "Ctrl-I"
   },
   "labels_anchors": false,
   "latex_user_defs": false,
   "report_style_numbering": true,
   "user_envs_cfg": false
  },
  "toc": {
   "base_numbering": 1,
   "nav_menu": {},
   "number_sections": true,
   "sideBar": true,
   "skip_h1_title": false,
   "title_cell": "Table of Contents",
   "title_sidebar": "Contents",
   "toc_cell": false,
   "toc_position": {
    "height": "calc(100% - 180px)",
    "left": "10px",
    "top": "150px",
    "width": "322.6px"
   },
   "toc_section_display": true,
   "toc_window_display": false
  }
 },
 "nbformat": 4,
 "nbformat_minor": 2
}
