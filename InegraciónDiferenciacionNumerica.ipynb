{
 "cells": [
  {
   "cell_type": "markdown",
   "metadata": {},
   "source": [
    "# Ejemplo 6.1\n",
    "\n",
    "a) Aproxime el área $A_1$ bajo la curva de la función dada por la tabla siguiente, en el intervalo $a = 500,\\,b = 1800$.\n",
    "\n",
    "|Puntos | 0   | 1    | 2    | 3    | 4    | 5    |\n",
    "|---    | --- | ---  | ---  | ---  | ---  | ---  |\n",
    "|$f(x)$ | 9.0 | 13.4 | 18.7 | 23.0 | 25.1 | 27.2 |\n",
    "|$x$    | 500 | 900  | 1400 | 1800 | 2000 | 2200 |\n",
    "\n",
    "b) Aproxime $A_2 = \\int_0^5(2 + 3\\,x)dx$\n",
    "\n",
    "c) Aproxime $A_3 = \\int_{-2}^4(1 + 2\\,x + 3\\,x^2)dx$\n",
    "\n",
    "d) Aproxime $A_4 = \\int_0^{\\pi/2}\\sin x\\,dx$"
   ]
  },
  {
   "cell_type": "code",
   "execution_count": 1,
   "metadata": {},
   "outputs": [
    {
     "name": "stdout",
     "output_type": "stream",
     "text": [
      "El area A1 bajo la curva es: 20845.0\n"
     ]
    }
   ],
   "source": [
    "\"\"\"\n",
    "Para resolver el primer inciso vamos a utilizar el método trapz\n",
    "de la biblioteca numpy.\n",
    "\n",
    "Referencia\n",
    "https://numpy.org/doc/stable/reference/generated/numpy.trapz.html\n",
    "https://docs.scipy.org/doc/scipy/reference/generated/scipy.integrate.trapz.html\n",
    "\"\"\"\n",
    "import numpy as np\n",
    "import matplotlib.pyplot as plt\n",
    "\n",
    "# Creamos una lista \"y\" para los datos de la función f(x) en el intervalo\n",
    "# indicado en el problema\n",
    "y = np.array([9.0, 13.4, 18.7, 23.0])\n",
    "\n",
    "# Creamos una lista \"x\" para los datos de la variable independiente\n",
    "\n",
    "x = np.array([500, 900, 1400, 1800])\n",
    "\n",
    "A1 = np.trapz (y,x)    # Enviamos los datos al método trapz\n",
    "\n",
    "print \"El area A1 bajo la curva es: \"+str(A1)"
   ]
  },
  {
   "cell_type": "code",
   "execution_count": null,
   "metadata": {},
   "outputs": [],
   "source": []
  },
  {
   "cell_type": "code",
   "execution_count": 2,
   "metadata": {},
   "outputs": [
    {
     "name": "stdout",
     "output_type": "stream",
     "text": [
      "47.5\n"
     ]
    }
   ],
   "source": [
    "\"\"\"\n",
    "Para poder comparar, antes de integrar numericamente los ejemplos de \n",
    "los incisos b, c y d vamos a resolver el inciso \"a\" de forma simbólica\n",
    "utilizando la biblioteca sympy.\n",
    "\"\"\"\n",
    "from sympy import *\n",
    "x = Symbol(\"x\", real = True)\n",
    "fa = 2 + 3*x\n",
    "I_exacta = integrate(fa,(x,0,5))\n",
    "print float(I_exacta)"
   ]
  },
  {
   "cell_type": "code",
   "execution_count": 3,
   "metadata": {},
   "outputs": [
    {
     "name": "stdout",
     "output_type": "stream",
     "text": [
      "El area A2 bajo la curva es:  47.5\n"
     ]
    }
   ],
   "source": [
    "\"\"\"\n",
    "Para resolver los incisos b, c y d utilizando el método trapz:\n",
    "\"\"\"\n",
    "\n",
    "# a) Crear el dominio de integración\n",
    "\n",
    "x =  np.arange(0,5+1)   # Dominio de integración del ejemplo b\n",
    "\n",
    "# Crear el integrando del ejemplo b\n",
    "y =  2 + 3*x    \n",
    "\n",
    "# Utilizar el método trapz\n",
    "\n",
    "A2 = np.trapz (y,x,)\n",
    "print \"El area A2 bajo la curva es: \",A2\n"
   ]
  },
  {
   "cell_type": "code",
   "execution_count": 4,
   "metadata": {},
   "outputs": [
    {
     "name": "stdout",
     "output_type": "stream",
     "text": [
      "El area A3 bajo la curva es:  93.0\n"
     ]
    }
   ],
   "source": [
    "x =  np.arange(-2,4+1)   # Dominio de integración del ejemplo c\n",
    "y =  1 + 2*x + 3*x**2    # Integrando del ejemplo c\n",
    "A3 = np.trapz (y,x)\n",
    "print \"El area A3 bajo la curva es: \",A3"
   ]
  },
  {
   "cell_type": "code",
   "execution_count": null,
   "metadata": {},
   "outputs": [],
   "source": []
  },
  {
   "cell_type": "code",
   "execution_count": 5,
   "metadata": {},
   "outputs": [
    {
     "name": "stdout",
     "output_type": "stream",
     "text": [
      "El area A2 bajo la curva es: 47.5\n"
     ]
    }
   ],
   "source": [
    "\"\"\"\n",
    "Otra forma de resolver los incisos b, c y d es utilizando el método \n",
    "quad de la biblioteca scipy.\n",
    "\n",
    "Referencia \n",
    "https://docs.scipy.org/doc/scipy/reference/generated/scipy.integrate.quad.html\n",
    "\"\"\"\n",
    "\n",
    "from scipy.integrate import quad\n",
    "\n",
    "# Primero creamos una función fb con el integrando\n",
    "\n",
    "def fb(x):\n",
    "    return 2 + 3*x    # Integrando del inciso b\n",
    "\n",
    "# Establecemos el dominio de integración\n",
    "a = 0.0    # Limite inferior\n",
    "b = 5.0    # Limite superior\n",
    "\n",
    "A2,error = quad(fb,a,b)    # Enviamos la función y el dominio de integración\n",
    "\n",
    "print \"El area A2 bajo la curva es: \"+str(A2)    # Aquí nada más imprimo el resultado"
   ]
  },
  {
   "cell_type": "code",
   "execution_count": 6,
   "metadata": {},
   "outputs": [
    {
     "name": "stdout",
     "output_type": "stream",
     "text": [
      "5.27355936697e-13\n"
     ]
    }
   ],
   "source": [
    "# Imprimimos el error\n",
    "print error"
   ]
  },
  {
   "cell_type": "code",
   "execution_count": 7,
   "metadata": {},
   "outputs": [
    {
     "name": "stdout",
     "output_type": "stream",
     "text": [
      "El area A3 bajo la curva es: 90.0\n"
     ]
    }
   ],
   "source": [
    "def fc(x):\n",
    "    return 1 + 2*x + 3*x**2    # Integrando del inciso c\n",
    "\n",
    "# Establecemos el dominio de integración\n",
    "a = -2    # Limite inferior\n",
    "b = 4    # Limite superior\n",
    "\n",
    "A3 = quad(fc,a,b)    # Enviamos la función y el dominio de integración\n",
    "\n",
    "print \"El area A3 bajo la curva es: \"+str(A3[0])"
   ]
  },
  {
   "cell_type": "code",
   "execution_count": 8,
   "metadata": {},
   "outputs": [
    {
     "name": "stdout",
     "output_type": "stream",
     "text": [
      "El area A3 bajo la curva es: 1.0\n"
     ]
    }
   ],
   "source": [
    "def fd(x):\n",
    "    return np.sin(x)    # Integrando del inciso d\n",
    "\n",
    "# Establecemos el dominio de integración\n",
    "a = 0    # Limite inferior\n",
    "b = (np.pi/2)    # Limite superior\n",
    "\n",
    "A4 = quad(fd,a,b)    # Enviamos la función y el dominio de integración\n",
    "\n",
    "print \"El area A3 bajo la curva es: \"+str(A4[0])"
   ]
  },
  {
   "cell_type": "markdown",
   "metadata": {},
   "source": [
    "# Ejemplo 6.2 \n",
    "\n",
    "Con el algoritmo de Simpson aproxime las integrales del ejemplo 6.1"
   ]
  },
  {
   "cell_type": "code",
   "execution_count": 9,
   "metadata": {},
   "outputs": [
    {
     "name": "stdout",
     "output_type": "stream",
     "text": [
      "El area A1 bajo la curva es: 20849.375\n"
     ]
    }
   ],
   "source": [
    "\"\"\"\n",
    "Nada más voy a resolver el primer inciso, para hacerlo voy a utilizar \n",
    "el método simps de la biblioteca scipy.\n",
    "\n",
    "Referencia\n",
    "https://docs.scipy.org/doc/scipy/reference/generated/scipy.integrate.simps.html#scipy.integrate.simps\n",
    "\"\"\"\n",
    "\n",
    "from scipy.integrate import simps \n",
    "\n",
    "# Creamos una lista \"y\" para los datos de la función f(x) en el intervalo\n",
    "# indicado en el problema\n",
    "y = np.array([9.0, 13.4, 18.7, 23.0])\n",
    "\n",
    "# Creamos una lista \"x\" para los datos de la variable independiente\n",
    "\n",
    "x = np.array([500, 900, 1400, 1800])\n",
    "\n",
    "A1 = simps(y,x)    # Enviamos los datos al método simps\n",
    "\n",
    "print \"El area A1 bajo la curva es: \"+str(A1)"
   ]
  },
  {
   "cell_type": "code",
   "execution_count": 10,
   "metadata": {},
   "outputs": [
    {
     "data": {
      "text/plain": [
       "20859.0"
      ]
     },
     "execution_count": 10,
     "metadata": {},
     "output_type": "execute_result"
    }
   ],
   "source": [
    "\"\"\"\n",
    "A este método le podemos indicar que utilice el método de Simpson para \n",
    "los primeros N-2 intervalos y el método trapezoidal en el último \n",
    "intervalo\n",
    "\"\"\"\n",
    "simps(y,x, even=\"first\")"
   ]
  },
  {
   "cell_type": "code",
   "execution_count": 11,
   "metadata": {},
   "outputs": [
    {
     "data": {
      "text/plain": [
       "20839.75"
      ]
     },
     "execution_count": 11,
     "metadata": {},
     "output_type": "execute_result"
    }
   ],
   "source": [
    "\"\"\"\n",
    "Para indicarle que utilice el método de Simpson para \n",
    "los últimos N-2 intervalos y el método trapezoidal en el primer \n",
    "intervalo\n",
    "\"\"\"\n",
    "simps(y,x, even=\"last\")"
   ]
  },
  {
   "cell_type": "code",
   "execution_count": 12,
   "metadata": {},
   "outputs": [
    {
     "data": {
      "text/plain": [
       "20849.375"
      ]
     },
     "execution_count": 12,
     "metadata": {},
     "output_type": "execute_result"
    }
   ],
   "source": [
    "\"\"\"\n",
    "Para un promedio de los dos métodos\n",
    "\"\"\"\n",
    "simps(y,x, even=\"avg\")"
   ]
  },
  {
   "cell_type": "markdown",
   "metadata": {},
   "source": [
    "# Ejemplo 6.8\n",
    "\n",
    "Encuentre una aproximación a la integral utilizando integración de Romberg\n",
    "\n",
    "$$\\int_0^1 \\sin \\pi\\,x\\, dx$$"
   ]
  },
  {
   "cell_type": "code",
   "execution_count": 13,
   "metadata": {},
   "outputs": [
    {
     "name": "stdout",
     "output_type": "stream",
     "text": [
      "Romberg integration of <function vfunc at 0x0BCC61B0> from [0, 1]\n",
      "\n",
      " Steps  StepSize   Results\n",
      "     1  1.000000  0.000000 \n",
      "     2  0.500000  0.500000  0.666667 \n",
      "     4  0.250000  0.603553  0.638071  0.636165 \n",
      "     8  0.125000  0.628417  0.636705  0.636614  0.636622 \n",
      "    16  0.062500  0.634573  0.636625  0.636620  0.636620  0.636620 \n",
      "    32  0.031250  0.636108  0.636620  0.636620  0.636620  0.636620  0.636620 \n",
      "\n",
      "The final result is 0.6366197723680019 after 33 function evaluations.\n"
     ]
    }
   ],
   "source": [
    "\"\"\"\n",
    "El método de Romber se encuentra en la biblioteca scipy\n",
    "\n",
    "Ref:\n",
    "https://docs.scipy.org/doc/scipy/reference/generated/scipy.integrate.romberg.html\n",
    "\"\"\"\n",
    "\n",
    "from scipy.integrate import romberg\n",
    "f = lambda x: np.sin(np.pi*x)   # Creamos la función con el integrando\n",
    "\n",
    "# Mandamos la función y el dominio de integración\n",
    "\n",
    "aprox = romberg(f, 0, 1, show=True)"
   ]
  },
  {
   "cell_type": "code",
   "execution_count": 14,
   "metadata": {},
   "outputs": [
    {
     "name": "stdout",
     "output_type": "stream",
     "text": [
      "0.6366197723680019\n"
     ]
    }
   ],
   "source": [
    "# Si no se desea la tabla\n",
    "aprox = romberg(f, 0, 1, show=False)\n",
    "print aprox"
   ]
  },
  {
   "cell_type": "markdown",
   "metadata": {},
   "source": [
    "# Ejemplo 6.9 \n",
    "\n",
    "Integre la función \n",
    "\n",
    "$$\\dfrac{1}{\\sqrt{2\\,\\pi}}e^{\\frac{-x^2}{2}}$$\n",
    "\n",
    "en el intervalo $(-0.8,1.5)$ por cuadratura de Gauss."
   ]
  },
  {
   "cell_type": "code",
   "execution_count": 15,
   "metadata": {},
   "outputs": [
    {
     "name": "stdout",
     "output_type": "stream",
     "text": [
      "0.7213374001477387\n"
     ]
    }
   ],
   "source": [
    "\"\"\"\n",
    "El método de cuadratura de Gauss se encuentra en la biblioteca scipy\n",
    "\n",
    "Ref:\n",
    "https://docs.scipy.org/doc/scipy-0.14.0/reference/generated/scipy.integrate.quadrature.html\n",
    "\"\"\" \n",
    "\n",
    "from scipy.integrate import quadrature\n",
    "\n",
    "# Creamos la función con el integrando\n",
    "f = lambda x: (1/(np.sqrt(2*np.pi)))*np.exp(-x**2/2)  \n",
    "\n",
    "# Mandamos la función y el dominio de integración la método de romberg\n",
    "\n",
    "aprox = romberg(f, -0.8, 1.5)\n",
    "\n",
    "print aprox\n"
   ]
  },
  {
   "cell_type": "markdown",
   "metadata": {},
   "source": [
    "# Integrales dobles\n",
    "\n",
    "Integre numericamente \n",
    "\n",
    "$$\\int_0^{\\pi}\\int_0^3{y\\sin\\,x\\,dx\\,dy}$$\n"
   ]
  },
  {
   "cell_type": "code",
   "execution_count": 16,
   "metadata": {},
   "outputs": [
    {
     "name": "stdout",
     "output_type": "stream",
     "text": [
      "la integral es: 9.0\n"
     ]
    }
   ],
   "source": [
    "\"\"\"\n",
    "Para integrales dobles se utiliza el método dblquad de la biblioteca\n",
    "scipy\n",
    "\"\"\"\n",
    "# Creamos la función con el integrando\n",
    "\n",
    "from scipy.integrate import dblquad\n",
    "\n",
    "f = lambda x,y: y*np.sin(x)\n",
    "\n",
    "# Dominio de integración en x\n",
    "a = 0\n",
    "b = 3\n",
    "\n",
    "# Dominio de integración en y\n",
    "c = lambda y:0\n",
    "d = lambda y: np.pi\n",
    "\n",
    "res = dblquad(f,a,b,c,d)\n",
    "print \"la integral es:\",res[0]"
   ]
  },
  {
   "cell_type": "markdown",
   "metadata": {},
   "source": [
    "# Ejemplo 6.12\n",
    "\n",
    "La ecuación de de Van der Walls para gmol de $\\mathrm{CO_2}$ es:\n",
    "\n",
    "$$(P + \\frac{a}{v^2})(v - b) = R\\,T$$\n",
    "\n",
    "donde:\n",
    "\n",
    "$a = 3.6\\times 10^{-6}\\, \\mathrm{atm\\,cm^6/gmol^2}$\n",
    "\n",
    "$b = 42.8\\, \\mathrm{cm^3/gmol}$\n",
    "\n",
    "$R = 82.1\\, \\mathrm{atm\\,cm^3/ (gmol\\,K)}$\n",
    "\n",
    "si $\\mathrm{T = 350\\,K}$, se obtiene la siguiente tabla de valores:\n",
    "\n",
    "|Puntos            | 0      | 1      | 2      | 3      |\n",
    "|---               |---     |---     |---     |---     |\n",
    "|$\\mathrm{P(atm)}$ | 13.782 | 12.577 | 11.565 | 10.704 |\n",
    "|$\\mathrm{v(cm^3)}$| 2000   | 2200   | 2400   | 2600   |\n",
    "\n",
    "Calcule $\\partial P/\\partial v$ cuando $v = \\mathrm{2300\\,cm^3}$ y compárelo con el valor de la derivada analítica."
   ]
  },
  {
   "cell_type": "code",
   "execution_count": 17,
   "metadata": {},
   "outputs": [
    {
     "name": "stdout",
     "output_type": "stream",
     "text": [
      "[4.0e-7*(359187500000.0*v**2 - 45.0*v + 1926.0)/(v**2*(5.0*v - 214.0))]\n"
     ]
    }
   ],
   "source": [
    "\"\"\"\n",
    "Vamos a utilizar sympy para:\n",
    "1) crear la expresión\n",
    "2) encontrar la derivada analítica\n",
    "3) pasar un expresión símbolica a expresión evaluable numericamente\n",
    "\"\"\"\n",
    "# Creamos los variables dependiente e independiente\n",
    "P, v = symbols(\"P v\")\n",
    "# Asignamos valor a las constantes\n",
    "a, b, R, T = 3.6e-6, 42.8, 82.1, 350\n",
    "# Creamos la expresión\n",
    "expr = (P + a/v**2)*(v - b) - R*T\n",
    "# Resolvemos para la presión P\n",
    "P = solve(expr,P)\n",
    "# Mostramos la ecuación obtenida para P\n",
    "print P"
   ]
  },
  {
   "cell_type": "code",
   "execution_count": 18,
   "metadata": {},
   "outputs": [
    {
     "data": {
      "text/plain": [
       "list"
      ]
     },
     "execution_count": 18,
     "metadata": {},
     "output_type": "execute_result"
    }
   ],
   "source": [
    "\"\"\"\n",
    "Como pueden observar la ecuación se muestra entre corchetes, lo que indicar\n",
    "que solve regresa una lista, lo cual podemos comprobar con type\n",
    "\"\"\"\n",
    "type(P)"
   ]
  },
  {
   "cell_type": "code",
   "execution_count": 19,
   "metadata": {},
   "outputs": [
    {
     "name": "stdout",
     "output_type": "stream",
     "text": [
      "4.0e-7*(718375000000.0*v - 45.0)/(v**2*(5.0*v - 214.0)) - 2.0e-6*(359187500000.0*v**2 - 45.0*v + 1926.0)/(v**2*(5.0*v - 214.0)**2) - 8.0e-7*(359187500000.0*v**2 - 45.0*v + 1926.0)/(v**3*(5.0*v - 214.0))\n"
     ]
    }
   ],
   "source": [
    "# Para Calcular la derivada le debemos indicar que utilice el elemento cero de la lista\n",
    "dpdv = diff(P[0],v)\n",
    "print dpdv"
   ]
  },
  {
   "cell_type": "code",
   "execution_count": 20,
   "metadata": {},
   "outputs": [
    {
     "data": {
      "text/plain": [
       "-0.00563989629389647"
      ]
     },
     "execution_count": 20,
     "metadata": {},
     "output_type": "execute_result"
    }
   ],
   "source": [
    "# Evaluamos la derivada en 2300; para ello usamos la función subs\n",
    "# donde v es la variable que se va sustituir con el valor de 2300.\n",
    "dpdv.subs(v,2300)"
   ]
  },
  {
   "cell_type": "code",
   "execution_count": 21,
   "metadata": {},
   "outputs": [],
   "source": [
    "# Pasamos la expresión símbolica de la presión a una expresion evaluable con scipy o numpy\n",
    "Pdev = lambdify(v,P[0],\"scipy\")"
   ]
  },
  {
   "cell_type": "code",
   "execution_count": 22,
   "metadata": {},
   "outputs": [
    {
     "data": {
      "text/plain": [
       "-0.005639897400853577"
      ]
     },
     "execution_count": 22,
     "metadata": {},
     "output_type": "execute_result"
    }
   ],
   "source": [
    "\"\"\"\n",
    "Para calcular la derivada numericamente vamos a utilizar el método derivative\n",
    "de la biblioteca scipy\n",
    "fuente:\n",
    "https://docs.scipy.org/doc/scipy/reference/generated/scipy.misc.derivative.html\n",
    "\"\"\" \n",
    "from scipy.misc import derivative\n",
    "derivative(Pdev,2300)\n"
   ]
  },
  {
   "cell_type": "markdown",
   "metadata": {},
   "source": [
    "# Ejemplo 6.14\n",
    "\n",
    "En una reacción química $\\mathrm{A + B}\\xrightarrow{k} \\mathrm{productos}$, la concentración del reactante A es una función de la presión $\\mathrm{(P)}$ y la temperatura  $\\mathrm{(T)}$. La siguiente tabla presenta la concentración de  $\\mathrm{A}$ en  $\\mathrm{gmol/L}$ como función de estas dos varibales.\n",
    "\n",
    "| $\\mathrm{P(kg/cm^2)}$| 273 K | 300 K| 325 K| 360 K|\n",
    "| ---                  | ---   | ---  | ---  | ---  |\n",
    "| 1                    | 0.99  | 0.97 | 0.96 | 0.93 |\n",
    "| 2                    | 0.88  | 0.82 | 0.79 | 0.77 |\n",
    "| 8                    | 0.62  | 0.51 | 0.48 | 0.45 |\n",
    "| 15                   | 0.56  | 0.49 | 0.46 | 0.42 |\n",
    "| 20                   | 0.582 | 0.44 | 0.41 | 0.37 |\n",
    "\n",
    "Calcule la variación de la concentración de  $\\mathrm{A}$ con la temperatura $(\\dfrac{\\partial C_A}{\\partial T})$ a $\\mathrm{P = 8\\,kg/cm^2}$ y  $\\mathrm{T = 300\\,K}$."
   ]
  },
  {
   "cell_type": "code",
   "execution_count": 24,
   "metadata": {},
   "outputs": [
    {
     "name": "stdout",
     "output_type": "stream",
     "text": [
      "[-0.00407407 -0.00258177 -0.00105714 -0.00085714]\n"
     ]
    }
   ],
   "source": [
    "\"\"\"\n",
    "Para este ejemplo vamos a utilizar el método gradient de la biblioteca \n",
    "numpy. Este método permite calcular el gradiente () de un arreglo N \n",
    "dimensional que contiene muestras de una función escalar.\n",
    "Funete:\n",
    "https://numpy.org/doc/stable/reference/generated/numpy.gradient.html\n",
    "\"\"\"\n",
    "# Creamos un arreglo C_A con los datos de la variable dependiente\n",
    "C_A = np.array([0.62, 0.51, 0.48, 0.45])\n",
    "# Creamos un arreglo T con los datos de la variable independiente\n",
    "T = np.array([273, 300, 325, 360])\n",
    "\n",
    "# Enviamos los arreglos al método gradient\n",
    "VarC_A = np.gradient(C_A,T)\n",
    "\n",
    "print VarC_A"
   ]
  },
  {
   "cell_type": "code",
   "execution_count": 25,
   "metadata": {},
   "outputs": [
    {
     "name": "stdout",
     "output_type": "stream",
     "text": [
      "-0.0025817663817663816\n"
     ]
    }
   ],
   "source": [
    "\"\"\"\n",
    "a variación de la concentración a T = 300 y P = 8 es el primer elemento\n",
    "del arreglo que regresa el método gradient\n",
    "\"\"\"\n",
    "\n",
    "print VarC_A[1]"
   ]
  },
  {
   "cell_type": "code",
   "execution_count": 53,
   "metadata": {},
   "outputs": [
    {
     "name": "stdout",
     "output_type": "stream",
     "text": [
      "            3             2\n",
      "-5.696e-07 x + 0.0005668 x - 0.1885 x + 21.42\n"
     ]
    }
   ],
   "source": [
    "\"\"\"\n",
    "OTRA FORMA de resolver el ejemplo es: \n",
    "1) construir un polinomio con los datos tabulados\n",
    "2) aplicar el método derivative al polinomio obtenido\n",
    "\"\"\"\n",
    "from scipy.interpolate import lagrange    # Cargamos el método lagrange\n",
    "polC_A = lagrange(T,C_A)\n",
    "print polC_A"
   ]
  },
  {
   "cell_type": "code",
   "execution_count": 54,
   "metadata": {},
   "outputs": [
    {
     "data": {
      "text/plain": [
       "-0.0021978469210619522"
      ]
     },
     "execution_count": 54,
     "metadata": {},
     "output_type": "execute_result"
    }
   ],
   "source": [
    "# Aplicamos el método derivative\n",
    "derivative(polC_A,300)"
   ]
  },
  {
   "cell_type": "markdown",
   "metadata": {},
   "source": [
    "# Ejemplo 6.15\n",
    "\n",
    "Obtenga la primera y segunda derivadas evaluadas en $x = 1$ para la siguiente función tabulada.\n",
    "\n",
    "| Puntos | 0   | 1   | 2   | 3   | 4   |\n",
    "| ---    | --- | --- | --- | --- | --- |\n",
    "| $x$    | -1  | 0   | 2   | 5   | 10  |\n",
    "| $f(x)$ | 11  | 3   | 23  | 143 | 583 |"
   ]
  },
  {
   "cell_type": "code",
   "execution_count": 49,
   "metadata": {},
   "outputs": [],
   "source": [
    "x = np.array([-1, 0, 2, 5, 10])    # Datos de la variable independiente\n",
    "fx = np.array([11, 3.0, 23, 143, 583])    # Datos de lavariable dependiente\n",
    "# El polinomio resultante se almacenará en la varible pol\n",
    "pol = lagrange(x,fx)    # Enviamos los datos de x y fx al método lagrange"
   ]
  },
  {
   "cell_type": "code",
   "execution_count": 50,
   "metadata": {},
   "outputs": [
    {
     "name": "stdout",
     "output_type": "stream",
     "text": [
      "           4            3     2\n",
      "2.776e-17 x + 2.22e-16 x + 6 x - 2 x + 3\n"
     ]
    }
   ],
   "source": [
    "print pol"
   ]
  },
  {
   "cell_type": "code",
   "execution_count": 51,
   "metadata": {},
   "outputs": [
    {
     "data": {
      "text/plain": [
       "10.000000000000004"
      ]
     },
     "execution_count": 51,
     "metadata": {},
     "output_type": "execute_result"
    }
   ],
   "source": [
    "\"\"\"\n",
    "Calculamos la derivada del polinomio de lagrange usando el método\n",
    "derivative, y lo evaluyamos en x = 1\n",
    "\"\"\"\n",
    "derivative(pol,1, n=1)"
   ]
  },
  {
   "cell_type": "code",
   "execution_count": 52,
   "metadata": {},
   "outputs": [
    {
     "data": {
      "text/plain": [
       "12.000000000000005"
      ]
     },
     "execution_count": 52,
     "metadata": {},
     "output_type": "execute_result"
    }
   ],
   "source": [
    "\"\"\"\n",
    "Calculamos la segunda derivada del polinomio de lagrange usando el método\n",
    "derivative, y lo evaluyamos en x = 1\n",
    "\"\"\"\n",
    "derivative(pol,1, n=2)"
   ]
  },
  {
   "cell_type": "code",
   "execution_count": null,
   "metadata": {},
   "outputs": [],
   "source": []
  },
  {
   "cell_type": "code",
   "execution_count": null,
   "metadata": {},
   "outputs": [],
   "source": []
  },
  {
   "cell_type": "code",
   "execution_count": null,
   "metadata": {},
   "outputs": [],
   "source": []
  },
  {
   "cell_type": "code",
   "execution_count": null,
   "metadata": {},
   "outputs": [],
   "source": []
  },
  {
   "cell_type": "code",
   "execution_count": null,
   "metadata": {},
   "outputs": [],
   "source": []
  }
 ],
 "metadata": {
  "hide_input": false,
  "kernelspec": {
   "display_name": "Python 2",
   "language": "python",
   "name": "python2"
  },
  "language_info": {
   "codemirror_mode": {
    "name": "ipython",
    "version": 2
   },
   "file_extension": ".py",
   "mimetype": "text/x-python",
   "name": "python",
   "nbconvert_exporter": "python",
   "pygments_lexer": "ipython2",
   "version": "2.7.15"
  },
  "latex_envs": {
   "LaTeX_envs_menu_present": true,
   "autoclose": true,
   "autocomplete": true,
   "bibliofile": "biblio.bib",
   "cite_by": "apalike",
   "current_citInitial": 1,
   "eqLabelWithNumbers": true,
   "eqNumInitial": 1,
   "hotkeys": {
    "equation": "Ctrl-E",
    "itemize": "Ctrl-I"
   },
   "labels_anchors": false,
   "latex_user_defs": false,
   "report_style_numbering": true,
   "user_envs_cfg": false
  },
  "toc": {
   "base_numbering": 1,
   "nav_menu": {},
   "number_sections": true,
   "sideBar": true,
   "skip_h1_title": false,
   "title_cell": "Table of Contents",
   "title_sidebar": "Contents",
   "toc_cell": false,
   "toc_position": {},
   "toc_section_display": true,
   "toc_window_display": false
  }
 },
 "nbformat": 4,
 "nbformat_minor": 2
}
